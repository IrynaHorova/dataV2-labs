{
 "cells": [
  {
   "cell_type": "code",
   "execution_count": 148,
   "metadata": {},
   "outputs": [
    {
     "name": "stdout",
     "output_type": "stream",
     "text": [
      "Enter minimum string length: -1\n",
      "Enter maximum string length: 2\n",
      "How many random strings to generate? 1\n",
      "['j']\n"
     ]
    }
   ],
   "source": [
    "# # %load challenge-2.py\n",
    "# \"\"\"\n",
    "# The code below generates a given number of random strings that consists of numbers and \n",
    "# lower case English letters. You can also define the range of the variable lengths of\n",
    "# the strings being generated.\n",
    "\n",
    "# The code is functional but has a lot of room for improvement. Use what you have learned\n",
    "# about simple and efficient code, refactor the code.\n",
    "# \"\"\"\n",
    "\n",
    "# def RandomStringGenerator(l=12, a=['a','b','c','d','e','f','g','h','i','j','k','l','m','n','o','p','q','r','s','t','u','v','w','x','y','z','0','1','2','3','4','5','6','7','8','9']):\n",
    "#     import random\n",
    "#     p = 0\n",
    "#     s = ''\n",
    "#     while p<l:\n",
    "#         s += random.choice(a)\n",
    "#         p += 1\n",
    "#     return s\n",
    "\n",
    "# def BatchStringGenerator(n, a=8, b=12):\n",
    "#     r = []\n",
    "#     for i in range(n):\n",
    "#         c = None\n",
    "#         if a < b:\n",
    "#             import random\n",
    "#             c = random.choice(range(a, b))\n",
    "#         elif a == b:\n",
    "#             c = a\n",
    "#         else:\n",
    "#             import sys\n",
    "#             sys.exit('Incorrect min and max string lengths. Try again.')\n",
    "#         r.append(RandomStringGenerator(c))\n",
    "#     return r\n",
    "\n",
    "# a = input('Enter minimum string length: ')\n",
    "# b = input('Enter maximum string length: ')\n",
    "# n = input('How many random strings to generate? ')\n",
    "\n",
    "# print(BatchStringGenerator(int(n), int(a), int(b)))\n"
   ]
  },
  {
   "cell_type": "code",
   "execution_count": 158,
   "metadata": {},
   "outputs": [],
   "source": [
    "#refactored code\n",
    "import string\n",
    "import random\n",
    "import sys\n",
    "\n",
    "def RandomStringGenerator(l=12, chars=list(string.ascii_lowercase + string.digits)):\n",
    "    return ''.join([random.choice(chars) for p in range(l)])\n",
    "\n",
    "def BatchStringGenerator(n, a=8, b=12):\n",
    "    try:\n",
    "        RandomStringGenerator(random.choice(range(a, b+1)))\n",
    "    except:\n",
    "        print(\"Incorrect min and max string lengths. Try again.\")\n",
    "    else:\n",
    "        return [RandomStringGenerator(random.choice(range(a, b+1))) for i in range(n)]"
   ]
  },
  {
   "cell_type": "code",
   "execution_count": 159,
   "metadata": {},
   "outputs": [
    {
     "name": "stdout",
     "output_type": "stream",
     "text": [
      "Enter minimum string length: 4\n",
      "Enter maximum string length: 6\n",
      "How many random strings to generate? 10\n",
      "['ug9ac5', 'sxpl1', 'kzwh7', 'udrhw', 'wnnstr', '2ovr6', 'f874', 'bc5f01', 'lf4i', 'pqzflm']\n"
     ]
    }
   ],
   "source": [
    "a = int(input('Enter minimum string length: '))\n",
    "b = int(input('Enter maximum string length: '))\n",
    "n = int(input('How many random strings to generate? '))\n",
    "\n",
    "print(BatchStringGenerator(n, a, b))"
   ]
  }
 ],
 "metadata": {
  "kernelspec": {
   "display_name": "Python 3",
   "language": "python",
   "name": "python3"
  },
  "language_info": {
   "codemirror_mode": {
    "name": "ipython",
    "version": 3
   },
   "file_extension": ".py",
   "mimetype": "text/x-python",
   "name": "python",
   "nbconvert_exporter": "python",
   "pygments_lexer": "ipython3",
   "version": "3.8.3"
  }
 },
 "nbformat": 4,
 "nbformat_minor": 4
}
