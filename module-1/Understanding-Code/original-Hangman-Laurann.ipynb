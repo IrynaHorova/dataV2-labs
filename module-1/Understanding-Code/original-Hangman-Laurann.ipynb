{
 "cells": [
  {
   "cell_type": "markdown",
   "metadata": {},
   "source": [
    "### Code review will be in heading format"
   ]
  },
  {
   "cell_type": "code",
   "execution_count": 9,
   "metadata": {},
   "outputs": [],
   "source": [
    "#Hangman mini project"
   ]
  },
  {
   "cell_type": "code",
   "execution_count": 28,
   "metadata": {
    "scrolled": true
   },
   "outputs": [],
   "source": [
    "import random\n",
    "import string\n",
    "import re\n",
    "\n",
    "words = ['calisthenics', 'surf' , 'basketball', 'hockey', \n",
    "         'marathon', 'brothers','batman', 'ikea', 'cooking', \n",
    "         'chocolate', 'rooftop', 'anapurna', 'covid', 'gamers', \n",
    "         'ironhack', 'yoga', 'sport', 'field', 'siblings', 'cricket', 'bull']\n"
   ]
  },
  {
   "cell_type": "markdown",
   "metadata": {},
   "source": [
    "### Perhaps it would be more straight-forward to first define the functions: drawing_hangman(tries) followed by letter_choice() and then ask for user_name and chose a word as part of the 'game play'"
   ]
  },
  {
   "cell_type": "code",
   "execution_count": 29,
   "metadata": {},
   "outputs": [
    {
     "name": "stdout",
     "output_type": "stream",
     "text": [
      "Enter your name: Iryna\n"
     ]
    }
   ],
   "source": [
    "user_name = input(\"Enter your name: \")"
   ]
  },
  {
   "cell_type": "code",
   "execution_count": 30,
   "metadata": {},
   "outputs": [
    {
     "name": "stdout",
     "output_type": "stream",
     "text": [
      "ironhack\n"
     ]
    }
   ],
   "source": [
    "word = random.choice(words)\n",
    "print(word)"
   ]
  },
  {
   "cell_type": "markdown",
   "metadata": {},
   "source": [
    "### Review of function def letter_choice():\n",
    "#### * Line 23 - can also be added via elif statement to the the if in line 9\n",
    "#### * We could also define ''tries'' as a global variable since it is not depended on any of the functions or user's input\n",
    "#### *I have also noticed the game does not print full 'hanging man' after last try - this would need to be corrected in the real-life review process "
   ]
  },
  {
   "cell_type": "code",
   "execution_count": 31,
   "metadata": {},
   "outputs": [],
   "source": [
    "def letter_choice():\n",
    "    letters = []\n",
    "    word_letters = []\n",
    "    won = False\n",
    "    tries = 6\n",
    "    print('Lets start!', drawing_hangman(tries))\n",
    "    while not won and tries > 0:\n",
    "        letter = input('Choose a letter: ').lower()\n",
    "        if len(letter) == 1 and letter.isalpha():\n",
    "            if letter in letters:\n",
    "                print('You have already tried this letter.')\n",
    "            elif letter not in word:\n",
    "                letters.append(letter)\n",
    "                tries -= 1\n",
    "                print('Try again ', user_name,' !')\n",
    "                print(drawing_hangman(tries))\n",
    "            else:\n",
    "                print('Good job ', user_name,', you found a letter.')\n",
    "                letters.append(letter)\n",
    "                word_letters.append(letter)\n",
    "        if len(word_letters) == len(set(re.findall('[a-z]', word))) and letter.isalpha():\n",
    "            won = True\n",
    "        if len(letter) > 1 or not letter.isalpha():\n",
    "                print('Invalid choice, please chose a single alphabetical character.')\n",
    "    if won:\n",
    "        print('You are the best ', user_name,'! You won.')\n",
    "    else: \n",
    "        print('Game Over', user_name,'. Try again.')\n",
    "                \n",
    " "
   ]
  },
  {
   "cell_type": "code",
   "execution_count": 32,
   "metadata": {},
   "outputs": [
    {
     "name": "stdout",
     "output_type": "stream",
     "text": [
      "Lets start! \n",
      "                   --------\n",
      "                   |      \n",
      "                   |      \n",
      "                   |\n",
      "                   |\n",
      "                   |\n",
      "                   -\n",
      "                   \n",
      "Choose a letter: d\n",
      "Try again  Iryna  !\n",
      "\n",
      "                   --------\n",
      "                   |      |\n",
      "                   |      \n",
      "                   |\n",
      "                   |\n",
      "                   |\n",
      "                   -\n",
      "                   \n",
      "Choose a letter: s\n",
      "Try again  Iryna  !\n",
      "\n",
      "                   --------\n",
      "                   |      |\n",
      "                   |      O\n",
      "                   |\n",
      "                   |\n",
      "                   |\n",
      "                   -\n",
      "                   \n",
      "Choose a letter: s\n",
      "You have already tried this letter.\n",
      "Choose a letter: s\n",
      "You have already tried this letter.\n",
      "Choose a letter: s\n",
      "You have already tried this letter.\n",
      "Choose a letter: s\n",
      "You have already tried this letter.\n",
      "Choose a letter: s\n",
      "You have already tried this letter.\n",
      "Choose a letter: s\n",
      "You have already tried this letter.\n",
      "Choose a letter: s\n",
      "You have already tried this letter.\n",
      "Choose a letter: d\n",
      "You have already tried this letter.\n",
      "Choose a letter: f\n",
      "Try again  Iryna  !\n",
      "\n",
      "                   --------\n",
      "                   |      |\n",
      "                   |      O\n",
      "                   |      |\n",
      "                   |      |\n",
      "                   |\n",
      "                   -\n",
      "                   \n",
      "Choose a letter: gq\n",
      "Invalid choice, please chose a single alphabetical character.\n",
      "Choose a letter: w\n",
      "Try again  Iryna  !\n",
      "\n",
      "                   --------\n",
      "                   |      |\n",
      "                   |      O\n",
      "                   |     \\|/\n",
      "                   |      |\n",
      "                   |\n",
      "                   -\n",
      "                   \n",
      "Choose a letter: e\n",
      "Try again  Iryna  !\n",
      "\n",
      "                   --------\n",
      "                   |      |\n",
      "                   |      O\n",
      "                   |     \\|/\n",
      "                   |      |\n",
      "                   |     / \n",
      "                   -\n",
      "                   \n",
      "Choose a letter: u\n",
      "Try again  Iryna  !\n",
      "\n",
      "                   --------\n",
      "                   |      |\n",
      "                   |      O\n",
      "                   |     \\|/\n",
      "                   |      |\n",
      "                   |     /                    -\n",
      "                   \n",
      "Game Over Iryna . Try again.\n"
     ]
    }
   ],
   "source": [
    "letter_choice()"
   ]
  },
  {
   "cell_type": "markdown",
   "metadata": {},
   "source": [
    "### I found the definition of the drawing_hangman(tries) very creative:) "
   ]
  },
  {
   "cell_type": "code",
   "execution_count": 60,
   "metadata": {},
   "outputs": [],
   "source": [
    "def drawing_hangman(tries):\n",
    "    steps = [\n",
    "                   \"\"\"\n",
    "                   --------\n",
    "                   |      |\n",
    "                   |      O\n",
    "                   |     \\|/\n",
    "                   |      |\n",
    "                   |     / \\\n",
    "                   -\n",
    "                   \"\"\",\n",
    "                   \"\"\"\n",
    "                   --------\n",
    "                   |      |\n",
    "                   |      O\n",
    "                   |     \\|/\n",
    "                   |      |\n",
    "                   |     / \n",
    "                   -\n",
    "                   \"\"\",\n",
    "                   \"\"\"\n",
    "                   --------\n",
    "                   |      |\n",
    "                   |      O\n",
    "                   |     \\|/\n",
    "                   |      |\n",
    "                   |\n",
    "                   -\n",
    "                   \"\"\",\n",
    "                   \"\"\"\n",
    "                   --------\n",
    "                   |      |\n",
    "                   |      O\n",
    "                   |      |\n",
    "                   |      |\n",
    "                   |\n",
    "                   -\n",
    "                   \"\"\",\n",
    "                   \"\"\"\n",
    "                   --------\n",
    "                   |      |\n",
    "                   |      O\n",
    "                   |\n",
    "                   |\n",
    "                   |\n",
    "                   -\n",
    "                   \"\"\",\n",
    "                   \"\"\"\n",
    "                   --------\n",
    "                   |      |\n",
    "                   |      \n",
    "                   |\n",
    "                   |\n",
    "                   |\n",
    "                   -\n",
    "                   \"\"\",\n",
    "                   \"\"\"\n",
    "                   --------\n",
    "                   |      \n",
    "                   |      \n",
    "                   |\n",
    "                   |\n",
    "                   |\n",
    "                   -\n",
    "                   \"\"\"\n",
    "    ]\n",
    "    return steps[tries]\n"
   ]
  },
  {
   "cell_type": "code",
   "execution_count": 64,
   "metadata": {},
   "outputs": [
    {
     "name": "stdout",
     "output_type": "stream",
     "text": [
      "\n",
      "                   --------\n",
      "                   |      |\n",
      "                   |      O\n",
      "                   |     \\|/\n",
      "                   |      |\n",
      "                   |     / \n",
      "                   -\n",
      "                   \n"
     ]
    }
   ],
   "source": [
    "print(drawing_hangman(1))"
   ]
  }
 ],
 "metadata": {
  "kernelspec": {
   "display_name": "Python 3",
   "language": "python",
   "name": "python3"
  },
  "language_info": {
   "codemirror_mode": {
    "name": "ipython",
    "version": 3
   },
   "file_extension": ".py",
   "mimetype": "text/x-python",
   "name": "python",
   "nbconvert_exporter": "python",
   "pygments_lexer": "ipython3",
   "version": "3.8.3"
  }
 },
 "nbformat": 4,
 "nbformat_minor": 4
}
