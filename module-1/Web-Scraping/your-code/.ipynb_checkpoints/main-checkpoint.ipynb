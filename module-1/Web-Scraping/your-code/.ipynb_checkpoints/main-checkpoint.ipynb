{
 "cells": [
  {
   "cell_type": "markdown",
   "metadata": {},
   "source": [
    "# Web Scraping Lab\n",
    "\n",
    "You will find in this notebook some scrapy exercises to practise your scraping skills.\n",
    "\n",
    "**Tips:**\n",
    "\n",
    "- Check the response status code for each request to ensure you have obtained the intended content.\n",
    "- Print the response text in each request to understand the kind of info you are getting and its format.\n",
    "- Check for patterns in the response text to extract the data/info requested in each question.\n",
    "- Visit the urls below and take a look at their source code through Chrome DevTools. You'll need to identify the html tags, special class names, etc used in the html content you are expected to extract.\n",
    "\n",
    "**Resources**:\n",
    "- [Requests library](http://docs.python-requests.org/en/master/#the-user-guide)\n",
    "- [Beautiful Soup Doc](https://www.crummy.com/software/BeautifulSoup/bs4/doc/)\n",
    "- [Urllib](https://docs.python.org/3/library/urllib.html#module-urllib)\n",
    "- [re lib](https://docs.python.org/3/library/re.html)\n",
    "- [lxml lib](https://lxml.de/)\n",
    "- [Scrapy](https://scrapy.org/)\n",
    "- [List of HTTP status codes](https://en.wikipedia.org/wiki/List_of_HTTP_status_codes)\n",
    "- [HTML basics](http://www.simplehtmlguide.com/cheatsheet.php)\n",
    "- [CSS basics](https://www.cssbasics.com/#page_start)"
   ]
  },
  {
   "cell_type": "markdown",
   "metadata": {},
   "source": [
    "#### Below are the libraries and modules you may need. `requests`,  `BeautifulSoup` and `pandas` are already imported for you. If you prefer to use additional libraries feel free to do it."
   ]
  },
  {
   "cell_type": "code",
   "execution_count": 762,
   "metadata": {},
   "outputs": [],
   "source": [
    "import requests\n",
    "from bs4 import BeautifulSoup\n",
    "import pandas as pd\n",
    "import tweepy"
   ]
  },
  {
   "cell_type": "markdown",
   "metadata": {},
   "source": [
    "#### Download, parse (using BeautifulSoup), and print the content from the Trending Developers page from GitHub:"
   ]
  },
  {
   "cell_type": "code",
   "execution_count": 604,
   "metadata": {},
   "outputs": [],
   "source": [
    "# This is the url you will scrape in this exercise\n",
    "url = 'https://github.com/trending/developers'"
   ]
  },
  {
   "cell_type": "code",
   "execution_count": 611,
   "metadata": {},
   "outputs": [
    {
     "data": {
      "text/plain": [
       "['<!DOCTYPE html>',\n",
       " '<html lang=\"en\">',\n",
       " ' <head>',\n",
       " '  <meta charset=\"utf-8\"/>',\n",
       " '  <link href=\"https://github.githubassets.com\" rel=\"dns-prefetch\"/>',\n",
       " '  <link href=\"https://avatars0.githubusercontent.com\" rel=\"dns-prefetch\"/>',\n",
       " '  <link href=\"https://avatars1.githubusercontent.com\" rel=\"dns-prefetch\"/>',\n",
       " '  <link href=\"https://avatars2.githubusercontent.com\" rel=\"dns-prefetch\"/>',\n",
       " '  <link href=\"https://avatars3.githubusercontent.com\" rel=\"dns-prefetch\"/>',\n",
       " '  <link href=\"https://github-cloud.s3.amazonaws.com\" rel=\"dns-prefetch\"/>']"
      ]
     },
     "execution_count": 611,
     "metadata": {},
     "output_type": "execute_result"
    }
   ],
   "source": [
    "# your code here\n",
    "html = requests.get(url).content\n",
    "\n",
    "soup = BeautifulSoup(html, 'lxml')\n",
    "\n",
    "#soup\n",
    "\n",
    "#partial print\n",
    "soup.prettify().splitlines()[:10]"
   ]
  },
  {
   "cell_type": "markdown",
   "metadata": {},
   "source": [
    "#### Display the names of the trending developers retrieved in the previous step.\n",
    "\n",
    "Your output should be a Python list of developer names. Each name should not contain any html tag.\n",
    "\n",
    "**Instructions:**\n",
    "\n",
    "1. Find out the html tag and class names used for the developer names. You can achieve this using Chrome DevTools.\n",
    "\n",
    "1. Use BeautifulSoup to extract all the html elements that contain the developer names.\n",
    "\n",
    "1. Use string manipulation techniques to replace whitespaces and linebreaks (i.e. `\\n`) in the *text* of each html element. Use a list to store the clean names.\n",
    "\n",
    "1. Print the list of names.\n",
    "\n",
    "Your output should look like below:\n",
    "\n",
    "```\n",
    "['trimstray (@trimstray)',\n",
    " 'joewalnes (JoeWalnes)',\n",
    " 'charlax (Charles-AxelDein)',\n",
    " 'ForrestKnight (ForrestKnight)',\n",
    " 'revery-ui (revery-ui)',\n",
    " 'alibaba (Alibaba)',\n",
    " 'Microsoft (Microsoft)',\n",
    " 'github (GitHub)',\n",
    " 'facebook (Facebook)',\n",
    " 'boazsegev (Bo)',\n",
    " 'google (Google)',\n",
    " 'cloudfetch',\n",
    " 'sindresorhus (SindreSorhus)',\n",
    " 'tensorflow',\n",
    " 'apache (TheApacheSoftwareFoundation)',\n",
    " 'DevonCrawford (DevonCrawford)',\n",
    " 'ARMmbed (ArmMbed)',\n",
    " 'vuejs (vuejs)',\n",
    " 'fastai (fast.ai)',\n",
    " 'QiShaoXuan (Qi)',\n",
    " 'joelparkerhenderson (JoelParkerHenderson)',\n",
    " 'torvalds (LinusTorvalds)',\n",
    " 'CyC2018',\n",
    " 'komeiji-satori (神楽坂覚々)',\n",
    " 'script-8']\n",
    " ```"
   ]
  },
  {
   "cell_type": "code",
   "execution_count": 159,
   "metadata": {},
   "outputs": [
    {
     "data": {
      "text/plain": [
       "['LevelOne_David Khourshid ',\n",
       " 'LevelTwo_davidkpiano ',\n",
       " 'LevelOne_Stephen Celis ',\n",
       " 'LevelTwo_stephencelis ',\n",
       " 'LevelOne_Mariusz Nowak ']"
      ]
     },
     "execution_count": 159,
     "metadata": {},
     "output_type": "execute_result"
    }
   ],
   "source": [
    "# your code here\n",
    "\n",
    "# #cdict = {'class' : 'explore-pjax-container container-lg p-responsive pt-6'}\n",
    "# cdict = {'class': \"h0-mktg\"}\n",
    "# table = soup.find_all('table', cdict)\n",
    "# table\n",
    "\n",
    "tags = ['h1','p']\n",
    "\n",
    "text = [element.text.replace('\\n',\"\") for element in soup.find_all(tags) if element.text.find('\\n\\n            ') == 0]\n",
    "\n",
    "text = [element.replace('            ','LevelOne_') if element.find('              ') != 0 else element for element in text]\n",
    "\n",
    "text = [element.replace('              ','LevelTwo_') for element in text]\n",
    "\n",
    "text[:5]"
   ]
  },
  {
   "cell_type": "code",
   "execution_count": 157,
   "metadata": {},
   "outputs": [],
   "source": [
    "l =[]\n",
    "for num in range(len(text)-1):\n",
    "    if text[num].find('LevelTwo') == -1:\n",
    "        if (text[num].find('LevelOne') == 0) & (text[num+1].find('LevelTwo')) == 0:\n",
    "            l.append((text[num].replace('LevelOne_',''), text[num+1].replace('LevelTwo_','')))\n",
    "        if (text[num].find('LevelOne') == 0) & (text[num+1].find('LevelOne')) == 0:\n",
    "            l.append((text[num].replace('LevelOne_',''),\"\"))"
   ]
  },
  {
   "cell_type": "code",
   "execution_count": 158,
   "metadata": {},
   "outputs": [
    {
     "data": {
      "text/plain": [
       "['David Khourshid (davidkpiano )',\n",
       " 'Stephen Celis (stephencelis )',\n",
       " 'Mariusz Nowak (medikoo )',\n",
       " 'XhmikosR ()',\n",
       " 'Jared Palmer (jaredpalmer )',\n",
       " 'Mr.doob (mrdoob )',\n",
       " 'Clément Renault (Kerollmops )',\n",
       " 'Christophe Coevoet (stof )',\n",
       " 'Mladen Macanović (stsrki )',\n",
       " 'Michał Lytek (MichalLytek )',\n",
       " 'Manoj Vivek (manojVivek )',\n",
       " 'Anthony Sottile (asottile )',\n",
       " 'Leonardo Grasso (leogr )',\n",
       " 'Andrey Sidorov (sidorares )',\n",
       " 'Raphaël Benitte (plouc )',\n",
       " 'Luis Alvarez D. (lfades )',\n",
       " 'Rick Waldron (rwaldron )',\n",
       " 'chriseth ()',\n",
       " '0xflotus (0xflotus )',\n",
       " 'Simon Baslé (simonbasle )',\n",
       " 'Rijk van Zanten (rijkvanzanten )',\n",
       " 'Pete Cook (cookpete )',\n",
       " 'Nishant Srivastava (nisrulz )',\n",
       " 'Samuel Colvin (samuelcolvin )',\n",
       " 'Natalie Weizenbaum (nex3 )']"
      ]
     },
     "execution_count": 158,
     "metadata": {},
     "output_type": "execute_result"
    }
   ],
   "source": [
    "developers = [el[0]+\"(\"+el[1]+')' for el in l]\n",
    "\n",
    "developers"
   ]
  },
  {
   "cell_type": "markdown",
   "metadata": {},
   "source": [
    "#### Display the trending Python repositories in GitHub.\n",
    "\n",
    "The steps to solve this problem is similar to the previous one except that you need to find out the repository names instead of developer names."
   ]
  },
  {
   "cell_type": "code",
   "execution_count": 612,
   "metadata": {},
   "outputs": [
    {
     "data": {
      "text/plain": [
       "['<!DOCTYPE html>',\n",
       " '<html lang=\"en\">',\n",
       " ' <head>',\n",
       " '  <meta charset=\"utf-8\"/>',\n",
       " '  <link href=\"https://github.githubassets.com\" rel=\"dns-prefetch\"/>',\n",
       " '  <link href=\"https://avatars0.githubusercontent.com\" rel=\"dns-prefetch\"/>',\n",
       " '  <link href=\"https://avatars1.githubusercontent.com\" rel=\"dns-prefetch\"/>',\n",
       " '  <link href=\"https://avatars2.githubusercontent.com\" rel=\"dns-prefetch\"/>',\n",
       " '  <link href=\"https://avatars3.githubusercontent.com\" rel=\"dns-prefetch\"/>',\n",
       " '  <link href=\"https://github-cloud.s3.amazonaws.com\" rel=\"dns-prefetch\"/>']"
      ]
     },
     "execution_count": 612,
     "metadata": {},
     "output_type": "execute_result"
    }
   ],
   "source": [
    "# This is the url you will scrape in this exercise\n",
    "url = 'https://github.com/trending/python?since=daily'\n",
    "\n",
    "html = requests.get(url).content\n",
    "\n",
    "soup = BeautifulSoup(html, 'lxml')\n",
    "\n",
    "#soup\n",
    "\n",
    "#partial print\n",
    "soup.prettify().splitlines()[:10]"
   ]
  },
  {
   "cell_type": "code",
   "execution_count": 321,
   "metadata": {},
   "outputs": [
    {
     "data": {
      "text/plain": [
       "['3b1b / manim ',\n",
       " 'donnemartin / system-design-primer ',\n",
       " 'MrS0m30n3 / youtube-dl-gui ',\n",
       " 'blackjack4494 / yt-dlc ',\n",
       " 'quantopian / zipline ',\n",
       " 'kangvcar / InfoSpider ',\n",
       " 'chubin / cheat.sh ',\n",
       " 'lrvick / youtube-dl ',\n",
       " 'plotly / dash ',\n",
       " 'huggingface / transformers ',\n",
       " 'youtube-dl2 / youtube-dl ',\n",
       " 'horovod / horovod ',\n",
       " 'alexa / bort ',\n",
       " 'Pitt-CSC / Summer2021-Internships ',\n",
       " 'chandrikadeb7 / Face-Mask-Detection ',\n",
       " 'The-Art-of-Hacking / h4cker ',\n",
       " 'facebookresearch / cc_net ',\n",
       " 'returntocorp / semgrep ',\n",
       " 'y1ndan / genshin-impact-helper ',\n",
       " 'soimort / you-get ',\n",
       " 'aristocratos / bpytop ',\n",
       " 'wagtail / wagtail ',\n",
       " 'Hari-Nagarajan / nvidia-bot ',\n",
       " 'AlexxIT / SonoffLAN ',\n",
       " 'pre-commit / pre-commit ']"
      ]
     },
     "execution_count": 321,
     "metadata": {},
     "output_type": "execute_result"
    }
   ],
   "source": [
    "#your code\n",
    "\n",
    "table = soup.find_all(class_ = \"h3 lh-condensed\")\n",
    "\n",
    "reps = [element.text.replace('\\n\\n\\n\\n        ',\"\").replace(' /\\n\\n      ', ' / ').replace('\\n', '') for element in table]\n",
    "\n",
    "reps"
   ]
  },
  {
   "cell_type": "markdown",
   "metadata": {},
   "source": [
    "#### Display all the image links from Walt Disney wikipedia page."
   ]
  },
  {
   "cell_type": "code",
   "execution_count": 472,
   "metadata": {},
   "outputs": [],
   "source": [
    "# This is the url you will scrape in this exercise\n",
    "url = 'https://en.wikipedia.org/wiki/Walt_Disney'"
   ]
  },
  {
   "cell_type": "code",
   "execution_count": 474,
   "metadata": {},
   "outputs": [
    {
     "data": {
      "text/plain": [
       "['//upload.wikimedia.org/wikipedia/en/thumb/e/e7/Cscr-featured.svg/20px-Cscr-featured.svg.png',\n",
       " '//upload.wikimedia.org/wikipedia/en/thumb/8/8c/Extended-protection-shackle.svg/20px-Extended-protection-shackle.svg.png',\n",
       " '//upload.wikimedia.org/wikipedia/commons/thumb/d/df/Walt_Disney_1946.JPG/220px-Walt_Disney_1946.JPG',\n",
       " '//upload.wikimedia.org/wikipedia/commons/thumb/8/87/Walt_Disney_1942_signature.svg/150px-Walt_Disney_1942_signature.svg.png',\n",
       " '//upload.wikimedia.org/wikipedia/commons/thumb/c/c4/Walt_Disney_envelope_ca._1921.jpg/220px-Walt_Disney_envelope_ca._1921.jpg',\n",
       " '//upload.wikimedia.org/wikipedia/commons/thumb/4/4d/Newman_Laugh-O-Gram_%281921%29.webm/220px-seek%3D2-Newman_Laugh-O-Gram_%281921%29.webm.jpg',\n",
       " '//upload.wikimedia.org/wikipedia/commons/thumb/0/0d/Trolley_Troubles_poster.jpg/170px-Trolley_Troubles_poster.jpg',\n",
       " '//upload.wikimedia.org/wikipedia/commons/thumb/7/71/Walt_Disney_and_his_cartoon_creation_%22Mickey_Mouse%22_-_National_Board_of_Review_Magazine.jpg/170px-Walt_Disney_and_his_cartoon_creation_%22Mickey_Mouse%22_-_National_Board_of_Review_Magazine.jpg',\n",
       " '//upload.wikimedia.org/wikipedia/en/thumb/4/4e/Steamboat-willie.jpg/170px-Steamboat-willie.jpg',\n",
       " '//upload.wikimedia.org/wikipedia/commons/thumb/5/57/Walt_Disney_1935.jpg/170px-Walt_Disney_1935.jpg']"
      ]
     },
     "execution_count": 474,
     "metadata": {},
     "output_type": "execute_result"
    }
   ],
   "source": [
    "# your code here\n",
    "html = requests.get(url).content\n",
    "\n",
    "soup = BeautifulSoup(html, 'lxml')\n",
    "\n",
    "table = soup.findAll('img')\n",
    "\n",
    "table = [element['src'] for element in table]\n",
    "\n",
    "table[:10]"
   ]
  },
  {
   "cell_type": "code",
   "execution_count": 460,
   "metadata": {},
   "outputs": [
    {
     "data": {
      "text/plain": [
       "['/wiki/File:Walt_Disney_1946.JPG',\n",
       " '/wiki/File:Walt_Disney_1942_signature.svg',\n",
       " '/wiki/File:Walt_Disney_envelope_ca._1921.jpg',\n",
       " '/wiki/File:Trolley_Troubles_poster.jpg',\n",
       " '/wiki/File:Walt_Disney_and_his_cartoon_creation_%22Mickey_Mouse%22_-_National_Board_of_Review_Magazine.jpg',\n",
       " '/wiki/File:Steamboat-willie.jpg',\n",
       " '/wiki/File:Walt_Disney_1935.jpg',\n",
       " '/wiki/File:Walt_Disney_Snow_white_1937_trailer_screenshot_(13).jpg',\n",
       " '/wiki/File:Disney_drawing_goofy.jpg',\n",
       " '/wiki/File:DisneySchiphol1951.jpg',\n",
       " '/wiki/File:WaltDisneyplansDisneylandDec1954.jpg',\n",
       " '/wiki/File:Walt_disney_portrait_right.jpg',\n",
       " '/wiki/File:Walt_Disney_Grave.JPG',\n",
       " '/wiki/File:Roy_O._Disney_with_Company_at_Press_Conference.jpg',\n",
       " '/wiki/File:Disney_Display_Case.JPG',\n",
       " '/wiki/File:Disney1968.jpg',\n",
       " '/wiki/File:Animation_disc.svg',\n",
       " '/wiki/File:P_vip.svg',\n",
       " '/wiki/File:Magic_Kingdom_castle.jpg',\n",
       " '/wiki/File:Video-x-generic.svg',\n",
       " '/wiki/File:Flag_of_Los_Angeles_County,_California.svg',\n",
       " '/wiki/File:Blank_television_set.svg',\n",
       " '/wiki/File:Flag_of_the_United_States.svg']"
      ]
     },
     "execution_count": 460,
     "metadata": {},
     "output_type": "execute_result"
    }
   ],
   "source": [
    "#version 2\n",
    "table = soup.find_all(class_ = 'image')\n",
    "table = [element['href'] for element in table]\n",
    "table"
   ]
  },
  {
   "cell_type": "code",
   "execution_count": null,
   "metadata": {},
   "outputs": [],
   "source": [
    "# version 3\n",
    "# # images = soup.findAll('img')\n",
    "# # for image in images:\n",
    "# #     print(image['src'])"
   ]
  },
  {
   "cell_type": "markdown",
   "metadata": {},
   "source": [
    "#### Retrieve an arbitary Wikipedia page of \"Python\" and create a list of links on that page."
   ]
  },
  {
   "cell_type": "code",
   "execution_count": 622,
   "metadata": {},
   "outputs": [],
   "source": [
    "# This is the url you will scrape in this exercise\n",
    "url ='https://en.wikipedia.org/wiki/Python' "
   ]
  },
  {
   "cell_type": "code",
   "execution_count": 623,
   "metadata": {},
   "outputs": [
    {
     "name": "stdout",
     "output_type": "stream",
     "text": [
      "List of links:\n"
     ]
    },
    {
     "data": {
      "text/plain": [
       "['https://en.wiktionary.org/wiki/Python',\n",
       " 'https://en.wiktionary.org/wiki/python',\n",
       " '/wiki/Pythons',\n",
       " '/wiki/Python_(genus)',\n",
       " '/w/index.php?title=Python&action=edit&section=1',\n",
       " '/wiki/Python_(programming_language)',\n",
       " '/wiki/CMU_Common_Lisp',\n",
       " '/wiki/PERQ#PERQ_3',\n",
       " '/w/index.php?title=Python&action=edit&section=2',\n",
       " '/wiki/Python_of_Aenus',\n",
       " '/wiki/Python_(painter)',\n",
       " '/wiki/Python_of_Byzantium',\n",
       " '/wiki/Python_of_Catana',\n",
       " '/wiki/Python_Anghelo',\n",
       " '/w/index.php?title=Python&action=edit&section=3',\n",
       " '/wiki/Python_(Efteling)',\n",
       " '/wiki/Python_(Busch_Gardens_Tampa_Bay)',\n",
       " '/wiki/Python_(Coney_Island,_Cincinnati,_Ohio)',\n",
       " '/w/index.php?title=Python&action=edit&section=4',\n",
       " '/wiki/Python_(automobile_maker)',\n",
       " '/wiki/Python_(Ford_prototype)',\n",
       " '/w/index.php?title=Python&action=edit&section=5',\n",
       " '/wiki/Python_(missile)',\n",
       " '/wiki/Python_(nuclear_primary)',\n",
       " '/wiki/Colt_Python',\n",
       " '/w/index.php?title=Python&action=edit&section=6',\n",
       " '/wiki/PYTHON',\n",
       " '/wiki/Python_(film)',\n",
       " '/wiki/Python_(mythology)',\n",
       " '/wiki/Monty_Python',\n",
       " '/wiki/Python_(Monty)_Pictures',\n",
       " '/w/index.php?title=Python&action=edit&section=7',\n",
       " '/wiki/Cython',\n",
       " '/wiki/Pyton',\n",
       " '/wiki/Pithon',\n",
       " '/wiki/File:Disambig_gray.svg',\n",
       " '/wiki/Help:Disambiguation',\n",
       " 'https://en.wikipedia.org/w/index.php?title=Special:WhatLinksHere/Python&namespace=0']"
      ]
     },
     "execution_count": 623,
     "metadata": {},
     "output_type": "execute_result"
    }
   ],
   "source": [
    "# your code here\n",
    "\n",
    "html = requests.get(url).content\n",
    "\n",
    "soup = BeautifulSoup(html, 'lxml')\n",
    "\n",
    "soup = soup.find(\"div\", {\"class\": 'mw-parser-output'})\n",
    "\n",
    "soup.find('div', {\"class\": 'tocright'}).decompose()\n",
    "\n",
    "table = soup.find_all('a', href=True)\n",
    "\n",
    "links = [el['href'] for el in table]\n",
    "\n",
    "print('List of links:')\n",
    "links"
   ]
  },
  {
   "cell_type": "markdown",
   "metadata": {},
   "source": [
    "#### Find the number of titles that have changed in the United States Code since its last release point."
   ]
  },
  {
   "cell_type": "code",
   "execution_count": 613,
   "metadata": {},
   "outputs": [],
   "source": [
    "# This is the url you will scrape in this exercise\n",
    "url = 'http://uscode.house.gov/download/download.shtml'"
   ]
  },
  {
   "cell_type": "code",
   "execution_count": 620,
   "metadata": {},
   "outputs": [
    {
     "name": "stdout",
     "output_type": "stream",
     "text": [
      "The number of titles that have changed in the United States Code since its last release point\n",
      " 11\n"
     ]
    }
   ],
   "source": [
    "# your code here\n",
    "\n",
    "html = requests.get(url).content\n",
    "\n",
    "soup = BeautifulSoup(html, 'lxml')\n",
    "\n",
    "changed = soup.find_all(class_ = 'usctitlechanged')\n",
    "\n",
    "changed = [element for element in changed]\n",
    "\n",
    "print(\"The number of titles that have changed in the United States Code since its last release point\\n\",len(changed))"
   ]
  },
  {
   "cell_type": "markdown",
   "metadata": {},
   "source": [
    "#### Find a Python list with the top ten FBI's Most Wanted names."
   ]
  },
  {
   "cell_type": "code",
   "execution_count": 625,
   "metadata": {},
   "outputs": [],
   "source": [
    "# This is the url you will scrape in this exercise\n",
    "url = 'https://www.fbi.gov/wanted/topten'"
   ]
  },
  {
   "cell_type": "code",
   "execution_count": 644,
   "metadata": {},
   "outputs": [
    {
     "name": "stdout",
     "output_type": "stream",
     "text": [
      "List with the top ten FBI's Most Wanted names:\n",
      " ['JASON DEREK BROWN', 'ALEXIS FLORES', 'JOSE RODOLFO VILLARREAL-HERNANDEZ', 'EUGENE PALMER', 'RAFAEL CARO-QUINTERO', 'ROBERT WILLIAM FISHER', 'BHADRESHKUMAR CHETANBHAI PATEL', 'ALEJANDRO ROSALES CASTILLO', 'ARNOLDO JIMENEZ', 'YASER ABDEL SAID']\n"
     ]
    }
   ],
   "source": [
    "# your code here\n",
    "\n",
    "html = requests.get(url).content\n",
    "\n",
    "soup = BeautifulSoup(html, 'lxml')\n",
    "\n",
    "#crim = soup.find_all('ul', {'class': \"full-grid wanted-grid-natural infinity castle-grid-block-xs-2 castle-grid-block-sm-2castle-grid-block-md-3 castle-grid-block-lg-5 dt-grid\"})\n",
    "\n",
    "crim = soup.find_all(class_ =\"title\")\n",
    "\n",
    "crim = [el.text.replace('\\n',\"\") for el in crim]\n",
    "\n",
    "crim = crim[1:]\n",
    "\n",
    "print(\"List with the top ten FBI's Most Wanted names:\\n\", crim)"
   ]
  },
  {
   "cell_type": "markdown",
   "metadata": {},
   "source": [
    "####  Display the 20 latest earthquakes info (date, time, latitude, longitude and region name) by the EMSC as a pandas dataframe."
   ]
  },
  {
   "cell_type": "code",
   "execution_count": 645,
   "metadata": {},
   "outputs": [],
   "source": [
    "# This is the url you will scrape in this exercise\n",
    "url = 'https://www.emsc-csem.org/Earthquake/'"
   ]
  },
  {
   "cell_type": "code",
   "execution_count": 759,
   "metadata": {},
   "outputs": [
    {
     "name": "stdout",
     "output_type": "stream",
     "text": [
      "The 20 latest earthquakes info:\n"
     ]
    },
    {
     "data": {
      "text/html": [
       "<div>\n",
       "<style scoped>\n",
       "    .dataframe tbody tr th:only-of-type {\n",
       "        vertical-align: middle;\n",
       "    }\n",
       "\n",
       "    .dataframe tbody tr th {\n",
       "        vertical-align: top;\n",
       "    }\n",
       "\n",
       "    .dataframe thead th {\n",
       "        text-align: right;\n",
       "    }\n",
       "</style>\n",
       "<table border=\"1\" class=\"dataframe\">\n",
       "  <thead>\n",
       "    <tr style=\"text-align: right;\">\n",
       "      <th></th>\n",
       "      <th>date</th>\n",
       "      <th>time</th>\n",
       "      <th>Latitude</th>\n",
       "      <th>Latitude degrees</th>\n",
       "      <th>Longtitude</th>\n",
       "      <th>Longtitude degrees</th>\n",
       "      <th>Magnitude</th>\n",
       "      <th>Region</th>\n",
       "    </tr>\n",
       "  </thead>\n",
       "  <tbody>\n",
       "    <tr>\n",
       "      <th>0</th>\n",
       "      <td>2020-10-30</td>\n",
       "      <td>21:14:14.8</td>\n",
       "      <td>N</td>\n",
       "      <td>37.88</td>\n",
       "      <td>26.86</td>\n",
       "      <td>E</td>\n",
       "      <td>8ML2.6</td>\n",
       "      <td>DODECANESE ISLANDS, GREECE</td>\n",
       "    </tr>\n",
       "    <tr>\n",
       "      <th>1</th>\n",
       "      <td>2020-10-30</td>\n",
       "      <td>21:01:43.9</td>\n",
       "      <td>N</td>\n",
       "      <td>37.92</td>\n",
       "      <td>26.96</td>\n",
       "      <td>E</td>\n",
       "      <td>10ML2.5</td>\n",
       "      <td>DODECANESE ISLANDS, GREECE</td>\n",
       "    </tr>\n",
       "    <tr>\n",
       "      <th>2</th>\n",
       "      <td>2020-10-30</td>\n",
       "      <td>20:58:51.6</td>\n",
       "      <td>N</td>\n",
       "      <td>37.85</td>\n",
       "      <td>26.93</td>\n",
       "      <td>E</td>\n",
       "      <td>10ML2.7</td>\n",
       "      <td>DODECANESE ISLANDS, GREECE</td>\n",
       "    </tr>\n",
       "    <tr>\n",
       "      <th>3</th>\n",
       "      <td>2020-10-30</td>\n",
       "      <td>20:53:49.1</td>\n",
       "      <td>N</td>\n",
       "      <td>37.90</td>\n",
       "      <td>26.74</td>\n",
       "      <td>E</td>\n",
       "      <td>7ML2.2</td>\n",
       "      <td>DODECANESE ISLANDS, GREECE</td>\n",
       "    </tr>\n",
       "    <tr>\n",
       "      <th>4</th>\n",
       "      <td>2020-10-30</td>\n",
       "      <td>20:50:09.4</td>\n",
       "      <td>N</td>\n",
       "      <td>37.84</td>\n",
       "      <td>26.89</td>\n",
       "      <td>E</td>\n",
       "      <td>10ML2.8</td>\n",
       "      <td>DODECANESE ISLANDS, GREECE</td>\n",
       "    </tr>\n",
       "    <tr>\n",
       "      <th>5</th>\n",
       "      <td>2020-10-30</td>\n",
       "      <td>20:41:44.7</td>\n",
       "      <td>N</td>\n",
       "      <td>37.88</td>\n",
       "      <td>26.84</td>\n",
       "      <td>E</td>\n",
       "      <td>8ML2.8</td>\n",
       "      <td>DODECANESE ISLANDS, GREECE</td>\n",
       "    </tr>\n",
       "    <tr>\n",
       "      <th>6</th>\n",
       "      <td>2020-10-30</td>\n",
       "      <td>20:38:56.0</td>\n",
       "      <td>N</td>\n",
       "      <td>37.82</td>\n",
       "      <td>26.96</td>\n",
       "      <td>E</td>\n",
       "      <td>8ML3.2</td>\n",
       "      <td>DODECANESE ISLANDS, GREECE</td>\n",
       "    </tr>\n",
       "    <tr>\n",
       "      <th>7</th>\n",
       "      <td>2020-10-30</td>\n",
       "      <td>20:33:31.8</td>\n",
       "      <td>N</td>\n",
       "      <td>37.86</td>\n",
       "      <td>26.95</td>\n",
       "      <td>E</td>\n",
       "      <td>6ML2.4</td>\n",
       "      <td>DODECANESE ISLANDS, GREECE</td>\n",
       "    </tr>\n",
       "    <tr>\n",
       "      <th>8</th>\n",
       "      <td>2020-10-30</td>\n",
       "      <td>20:32:50.0</td>\n",
       "      <td>N</td>\n",
       "      <td>12.46</td>\n",
       "      <td>125.47</td>\n",
       "      <td>E</td>\n",
       "      <td>1 M4.2</td>\n",
       "      <td>SAMAR, PHILIPPINES</td>\n",
       "    </tr>\n",
       "    <tr>\n",
       "      <th>9</th>\n",
       "      <td>2020-10-30</td>\n",
       "      <td>20:31:34.8</td>\n",
       "      <td>N</td>\n",
       "      <td>37.85</td>\n",
       "      <td>26.93</td>\n",
       "      <td>E</td>\n",
       "      <td>7ML2.0</td>\n",
       "      <td>DODECANESE ISLANDS, GREECE</td>\n",
       "    </tr>\n",
       "    <tr>\n",
       "      <th>10</th>\n",
       "      <td>2020-10-30</td>\n",
       "      <td>20:27:02.6</td>\n",
       "      <td>N</td>\n",
       "      <td>37.83</td>\n",
       "      <td>26.73</td>\n",
       "      <td>E</td>\n",
       "      <td>7ML2.7</td>\n",
       "      <td>DODECANESE ISLANDS, GREECE</td>\n",
       "    </tr>\n",
       "    <tr>\n",
       "      <th>11</th>\n",
       "      <td>2020-10-30</td>\n",
       "      <td>20:24:45.5</td>\n",
       "      <td>N</td>\n",
       "      <td>37.86</td>\n",
       "      <td>26.92</td>\n",
       "      <td>E</td>\n",
       "      <td>12ML3.3</td>\n",
       "      <td>DODECANESE ISLANDS, GREECE</td>\n",
       "    </tr>\n",
       "    <tr>\n",
       "      <th>12</th>\n",
       "      <td>2020-10-30</td>\n",
       "      <td>20:24:15.0</td>\n",
       "      <td>S</td>\n",
       "      <td>2.28</td>\n",
       "      <td>119.11</td>\n",
       "      <td>E</td>\n",
       "      <td>10 M2.8</td>\n",
       "      <td>SULAWESI, INDONESIA</td>\n",
       "    </tr>\n",
       "    <tr>\n",
       "      <th>13</th>\n",
       "      <td>2020-10-30</td>\n",
       "      <td>20:22:09.1</td>\n",
       "      <td>N</td>\n",
       "      <td>37.80</td>\n",
       "      <td>26.39</td>\n",
       "      <td>E</td>\n",
       "      <td>10ML3.1</td>\n",
       "      <td>DODECANESE ISLANDS, GREECE</td>\n",
       "    </tr>\n",
       "    <tr>\n",
       "      <th>14</th>\n",
       "      <td>2020-10-30</td>\n",
       "      <td>20:21:44.0</td>\n",
       "      <td>S</td>\n",
       "      <td>33.57</td>\n",
       "      <td>72.01</td>\n",
       "      <td>W</td>\n",
       "      <td>18ML2.5</td>\n",
       "      <td>OFFSHORE VALPARAISO, CHILE</td>\n",
       "    </tr>\n",
       "    <tr>\n",
       "      <th>15</th>\n",
       "      <td>2020-10-30</td>\n",
       "      <td>20:18:49.4</td>\n",
       "      <td>N</td>\n",
       "      <td>44.36</td>\n",
       "      <td>115.21</td>\n",
       "      <td>W</td>\n",
       "      <td>15Ml2.9</td>\n",
       "      <td>SOUTHERN IDAHO</td>\n",
       "    </tr>\n",
       "    <tr>\n",
       "      <th>16</th>\n",
       "      <td>2020-10-30</td>\n",
       "      <td>20:15:32.8</td>\n",
       "      <td>N</td>\n",
       "      <td>37.85</td>\n",
       "      <td>26.87</td>\n",
       "      <td>E</td>\n",
       "      <td>5ML2.5</td>\n",
       "      <td>DODECANESE ISLANDS, GREECE</td>\n",
       "    </tr>\n",
       "    <tr>\n",
       "      <th>17</th>\n",
       "      <td>2020-10-30</td>\n",
       "      <td>20:13:46.0</td>\n",
       "      <td>N</td>\n",
       "      <td>37.96</td>\n",
       "      <td>26.97</td>\n",
       "      <td>E</td>\n",
       "      <td>7ML2.0</td>\n",
       "      <td>DODECANESE ISLANDS, GREECE</td>\n",
       "    </tr>\n",
       "    <tr>\n",
       "      <th>18</th>\n",
       "      <td>2020-10-30</td>\n",
       "      <td>20:12:53.5</td>\n",
       "      <td>N</td>\n",
       "      <td>39.77</td>\n",
       "      <td>75.85</td>\n",
       "      <td>E</td>\n",
       "      <td>100mb4.6</td>\n",
       "      <td>SOUTHERN XINJIANG, CHINA</td>\n",
       "    </tr>\n",
       "    <tr>\n",
       "      <th>19</th>\n",
       "      <td>2020-10-30</td>\n",
       "      <td>20:12:32.8</td>\n",
       "      <td>N</td>\n",
       "      <td>37.88</td>\n",
       "      <td>26.89</td>\n",
       "      <td>E</td>\n",
       "      <td>8ML2.4</td>\n",
       "      <td>DODECANESE ISLANDS, GREECE</td>\n",
       "    </tr>\n",
       "  </tbody>\n",
       "</table>\n",
       "</div>"
      ],
      "text/plain": [
       "          date        time Latitude Latitude degrees Longtitude  \\\n",
       "0   2020-10-30  21:14:14.8        N            37.88      26.86   \n",
       "1   2020-10-30  21:01:43.9        N            37.92      26.96   \n",
       "2   2020-10-30  20:58:51.6        N            37.85      26.93   \n",
       "3   2020-10-30  20:53:49.1        N            37.90      26.74   \n",
       "4   2020-10-30  20:50:09.4        N            37.84      26.89   \n",
       "5   2020-10-30  20:41:44.7        N            37.88      26.84   \n",
       "6   2020-10-30  20:38:56.0        N            37.82      26.96   \n",
       "7   2020-10-30  20:33:31.8        N            37.86      26.95   \n",
       "8   2020-10-30  20:32:50.0        N            12.46     125.47   \n",
       "9   2020-10-30  20:31:34.8        N            37.85      26.93   \n",
       "10  2020-10-30  20:27:02.6        N            37.83      26.73   \n",
       "11  2020-10-30  20:24:45.5        N            37.86      26.92   \n",
       "12  2020-10-30  20:24:15.0        S             2.28     119.11   \n",
       "13  2020-10-30  20:22:09.1        N            37.80      26.39   \n",
       "14  2020-10-30  20:21:44.0        S            33.57      72.01   \n",
       "15  2020-10-30  20:18:49.4        N            44.36     115.21   \n",
       "16  2020-10-30  20:15:32.8        N            37.85      26.87   \n",
       "17  2020-10-30  20:13:46.0        N            37.96      26.97   \n",
       "18  2020-10-30  20:12:53.5        N            39.77      75.85   \n",
       "19  2020-10-30  20:12:32.8        N            37.88      26.89   \n",
       "\n",
       "   Longtitude degrees Magnitude                      Region  \n",
       "0                   E    8ML2.6  DODECANESE ISLANDS, GREECE  \n",
       "1                   E   10ML2.5  DODECANESE ISLANDS, GREECE  \n",
       "2                   E   10ML2.7  DODECANESE ISLANDS, GREECE  \n",
       "3                   E    7ML2.2  DODECANESE ISLANDS, GREECE  \n",
       "4                   E   10ML2.8  DODECANESE ISLANDS, GREECE  \n",
       "5                   E    8ML2.8  DODECANESE ISLANDS, GREECE  \n",
       "6                   E    8ML3.2  DODECANESE ISLANDS, GREECE  \n",
       "7                   E    6ML2.4  DODECANESE ISLANDS, GREECE  \n",
       "8                   E    1 M4.2          SAMAR, PHILIPPINES  \n",
       "9                   E    7ML2.0  DODECANESE ISLANDS, GREECE  \n",
       "10                  E    7ML2.7  DODECANESE ISLANDS, GREECE  \n",
       "11                  E   12ML3.3  DODECANESE ISLANDS, GREECE  \n",
       "12                  E   10 M2.8         SULAWESI, INDONESIA  \n",
       "13                  E   10ML3.1  DODECANESE ISLANDS, GREECE  \n",
       "14                  W   18ML2.5  OFFSHORE VALPARAISO, CHILE  \n",
       "15                  W   15Ml2.9              SOUTHERN IDAHO  \n",
       "16                  E    5ML2.5  DODECANESE ISLANDS, GREECE  \n",
       "17                  E    7ML2.0  DODECANESE ISLANDS, GREECE  \n",
       "18                  E  100mb4.6    SOUTHERN XINJIANG, CHINA  \n",
       "19                  E    8ML2.4  DODECANESE ISLANDS, GREECE  "
      ]
     },
     "execution_count": 759,
     "metadata": {},
     "output_type": "execute_result"
    }
   ],
   "source": [
    "# your code here\n",
    "import re\n",
    "\n",
    "html = requests.get(url).content\n",
    "\n",
    "soup = BeautifulSoup(html, 'lxml')\n",
    "\n",
    "#crim = soup.find_all('ul', {'class': \"full-grid wanted-grid-natural infinity castle-grid-block-xs-2 castle-grid-block-sm-2castle-grid-block-md-3 castle-grid-block-lg-5 dt-grid\"})\n",
    "\n",
    "earthq = soup.find_all('tr')\n",
    "\n",
    "earthq = [element.text for element in earthq if element.text != '\\n']\n",
    "\n",
    "earthq = [element for element in earthq if element != '']\n",
    "\n",
    "earthq = [element for element in earthq if (element.find('earthquake') in (0,1))]\n",
    "\n",
    "earthq = [element.replace('Fearthquake',\"\") for element in earthq]\n",
    "\n",
    "earthq = [element.replace('earthquake',\"\") for element in earthq]\n",
    "\n",
    "earthq = [element.split('\\xa0') for element in earthq]\n",
    "\n",
    "earthq = [[x for x in element if x!= \"\"] for element in earthq]\n",
    "\n",
    "earthq = pd.DataFrame(earthq)\n",
    "\n",
    "earthq.iloc[:,1].apply(lambda x: x.split('min ago')).apply(lambda x: x[1])\n",
    "\n",
    "\n",
    "earthq.columns = ['c1', 'c2', 'c3', 'c4', 'c5', 'c6', 'c7']\n",
    "\n",
    "earthq['c8'] = earthq.iloc[:,1].apply(lambda x: x.split('min ago')).apply(lambda x: x[1])\n",
    "\n",
    "earthq['c2'] = earthq.iloc[:,1].apply(lambda x: x.split('min ago')).apply(lambda x: x[0])\n",
    "\n",
    "earthq['c2'] = earthq['c2'].str[:10]\n",
    "\n",
    "earthq = earthq[['c1',  'c2', 'c3', 'c8', 'c4', 'c5', 'c6', 'c7']]\n",
    "\n",
    "earthq.columns = ['date', 'time', 'Latitude', 'Latitude degrees', 'Longtitude', 'Longtitude degrees', 'Magnitude', 'Region']\n",
    "\n",
    "earthq['Region'] = earthq['Region'].str[:-16]\n",
    "\n",
    "print(\"The 20 latest earthquakes info:\")\n",
    "\n",
    "earthq.iloc[:20,:]\n"
   ]
  },
  {
   "cell_type": "markdown",
   "metadata": {},
   "source": [
    "#### Count the number of tweets by a given Twitter account.\n",
    "Ask the user for the handle (@handle) of a twitter account. You will need to include a ***try/except block*** for account names not found. \n",
    "<br>***Hint:*** the program should count the number of tweets for any provided account."
   ]
  },
  {
   "cell_type": "code",
   "execution_count": 760,
   "metadata": {},
   "outputs": [],
   "source": [
    "# This is the url you will scrape in this exercise \n",
    "# You will need to add the account credentials to this url\n",
    "url = 'https://twitter.com/'"
   ]
  },
  {
   "cell_type": "code",
   "execution_count": 763,
   "metadata": {},
   "outputs": [
    {
     "data": {
      "text/plain": [
       "<!DOCTYPE html>\n",
       "<html dir=\"ltr\" lang=\"en\">\n",
       "<head><meta charset=\"utf-8\"/>\n",
       "<meta content=\"width=device-width,initial-scale=1,maximum-scale=1,user-scalable=0,viewport-fit=cover\" name=\"viewport\"/>\n",
       "<link href=\"//abs.twimg.com\" rel=\"preconnect\"/>\n",
       "<link href=\"//api.twitter.com\" rel=\"preconnect\"/>\n",
       "<link href=\"//pbs.twimg.com\" rel=\"preconnect\"/>\n",
       "<link href=\"//t.co\" rel=\"preconnect\"/>\n",
       "<link href=\"//video.twimg.com\" rel=\"preconnect\"/>\n",
       "<link href=\"//abs.twimg.com\" rel=\"dns-prefetch\"/>\n",
       "<link href=\"//api.twitter.com\" rel=\"dns-prefetch\"/>\n",
       "<link href=\"//pbs.twimg.com\" rel=\"dns-prefetch\"/>\n",
       "<link href=\"//t.co\" rel=\"dns-prefetch\"/>\n",
       "<link href=\"//video.twimg.com\" rel=\"dns-prefetch\"/>\n",
       "<link as=\"script\" crossorigin=\"anonymous\" href=\"https://abs.twimg.com/responsive-web/client-web-legacy/polyfills.90d86535.js\" nonce=\"NTQxOTI4ZTEtMTc1Zi00N2UzLWI1Y2UtZDAyYjhmZTA5NjI5\" rel=\"preload\"/>\n",
       "<link as=\"script\" crossorigin=\"anonymous\" href=\"https://abs.twimg.com/responsive-web/client-web-legacy/vendors~main.45e01195.js\" nonce=\"NTQxOTI4ZTEtMTc1Zi00N2UzLWI1Y2UtZDAyYjhmZTA5NjI5\" rel=\"preload\"/>\n",
       "<link as=\"script\" crossorigin=\"anonymous\" href=\"https://abs.twimg.com/responsive-web/client-web-legacy/i18n/en.6c3b6795.js\" nonce=\"NTQxOTI4ZTEtMTc1Zi00N2UzLWI1Y2UtZDAyYjhmZTA5NjI5\" rel=\"preload\"/>\n",
       "<link as=\"script\" crossorigin=\"anonymous\" href=\"https://abs.twimg.com/responsive-web/client-web-legacy/main.a0abd565.js\" nonce=\"NTQxOTI4ZTEtMTc1Zi00N2UzLWI1Y2UtZDAyYjhmZTA5NjI5\" rel=\"preload\"/>\n",
       "<meta content=\"2231777543\" property=\"fb:app_id\"/>\n",
       "<meta content=\"Twitter\" property=\"og:site_name\"/>\n",
       "<meta content=\"V0yIS0Ec_o3Ii9KThrCoMCkwTYMMJ_JYx_RSaGhFYvw\" name=\"google-site-verification\"/>\n",
       "<link crossorigin=\"use-credentials\" href=\"/manifest.json\" rel=\"manifest\"/>\n",
       "<link href=\"https://twitter.com/\" hreflang=\"x-default\" rel=\"alternate\"/>\n",
       "<link href=\"https://twitter.com/?lang=ar\" hreflang=\"ar\" rel=\"alternate\"/>\n",
       "<link href=\"https://twitter.com/?lang=bg\" hreflang=\"bg\" rel=\"alternate\"/>\n",
       "<link href=\"https://twitter.com/?lang=bn\" hreflang=\"bn\" rel=\"alternate\"/>\n",
       "<link href=\"https://twitter.com/?lang=ca\" hreflang=\"ca\" rel=\"alternate\"/>\n",
       "<link href=\"https://twitter.com/?lang=cs\" hreflang=\"cs\" rel=\"alternate\"/>\n",
       "<link href=\"https://twitter.com/?lang=da\" hreflang=\"da\" rel=\"alternate\"/>\n",
       "<link href=\"https://twitter.com/?lang=de\" hreflang=\"de\" rel=\"alternate\"/>\n",
       "<link href=\"https://twitter.com/?lang=el\" hreflang=\"el\" rel=\"alternate\"/>\n",
       "<link href=\"https://twitter.com/?lang=en\" hreflang=\"en\" rel=\"alternate\"/>\n",
       "<link href=\"https://twitter.com/?lang=en-GB\" hreflang=\"en-GB\" rel=\"alternate\"/>\n",
       "<link href=\"https://twitter.com/?lang=es\" hreflang=\"es\" rel=\"alternate\"/>\n",
       "<link href=\"https://twitter.com/?lang=eu\" hreflang=\"eu\" rel=\"alternate\"/>\n",
       "<link href=\"https://twitter.com/?lang=fa\" hreflang=\"fa\" rel=\"alternate\"/>\n",
       "<link href=\"https://twitter.com/?lang=fi\" hreflang=\"fi\" rel=\"alternate\"/>\n",
       "<link href=\"https://twitter.com/?lang=tl\" hreflang=\"tl\" rel=\"alternate\"/>\n",
       "<link href=\"https://twitter.com/?lang=fr\" hreflang=\"fr\" rel=\"alternate\"/>\n",
       "<link href=\"https://twitter.com/?lang=ga\" hreflang=\"ga\" rel=\"alternate\"/>\n",
       "<link href=\"https://twitter.com/?lang=gl\" hreflang=\"gl\" rel=\"alternate\"/>\n",
       "<link href=\"https://twitter.com/?lang=gu\" hreflang=\"gu\" rel=\"alternate\"/>\n",
       "<link href=\"https://twitter.com/?lang=he\" hreflang=\"he\" rel=\"alternate\"/>\n",
       "<link href=\"https://twitter.com/?lang=hi\" hreflang=\"hi\" rel=\"alternate\"/>\n",
       "<link href=\"https://twitter.com/?lang=hr\" hreflang=\"hr\" rel=\"alternate\"/>\n",
       "<link href=\"https://twitter.com/?lang=hu\" hreflang=\"hu\" rel=\"alternate\"/>\n",
       "<link href=\"https://twitter.com/?lang=id\" hreflang=\"id\" rel=\"alternate\"/>\n",
       "<link href=\"https://twitter.com/?lang=it\" hreflang=\"it\" rel=\"alternate\"/>\n",
       "<link href=\"https://twitter.com/?lang=ja\" hreflang=\"ja\" rel=\"alternate\"/>\n",
       "<link href=\"https://twitter.com/?lang=kn\" hreflang=\"kn\" rel=\"alternate\"/>\n",
       "<link href=\"https://twitter.com/?lang=ko\" hreflang=\"ko\" rel=\"alternate\"/>\n",
       "<link href=\"https://twitter.com/?lang=mr\" hreflang=\"mr\" rel=\"alternate\"/>\n",
       "<link href=\"https://twitter.com/?lang=ms\" hreflang=\"ms\" rel=\"alternate\"/>\n",
       "<link href=\"https://twitter.com/?lang=nb\" hreflang=\"nb\" rel=\"alternate\"/>\n",
       "<link href=\"https://twitter.com/?lang=nl\" hreflang=\"nl\" rel=\"alternate\"/>\n",
       "<link href=\"https://twitter.com/?lang=pl\" hreflang=\"pl\" rel=\"alternate\"/>\n",
       "<link href=\"https://twitter.com/?lang=pt\" hreflang=\"pt\" rel=\"alternate\"/>\n",
       "<link href=\"https://twitter.com/?lang=ro\" hreflang=\"ro\" rel=\"alternate\"/>\n",
       "<link href=\"https://twitter.com/?lang=ru\" hreflang=\"ru\" rel=\"alternate\"/>\n",
       "<link href=\"https://twitter.com/?lang=sk\" hreflang=\"sk\" rel=\"alternate\"/>\n",
       "<link href=\"https://twitter.com/?lang=sr\" hreflang=\"sr\" rel=\"alternate\"/>\n",
       "<link href=\"https://twitter.com/?lang=sv\" hreflang=\"sv\" rel=\"alternate\"/>\n",
       "<link href=\"https://twitter.com/?lang=ta\" hreflang=\"ta\" rel=\"alternate\"/>\n",
       "<link href=\"https://twitter.com/?lang=th\" hreflang=\"th\" rel=\"alternate\"/>\n",
       "<link href=\"https://twitter.com/?lang=tr\" hreflang=\"tr\" rel=\"alternate\"/>\n",
       "<link href=\"https://twitter.com/?lang=uk\" hreflang=\"uk\" rel=\"alternate\"/>\n",
       "<link href=\"https://twitter.com/?lang=ur\" hreflang=\"ur\" rel=\"alternate\"/>\n",
       "<link href=\"https://twitter.com/?lang=vi\" hreflang=\"vi\" rel=\"alternate\"/>\n",
       "<link href=\"https://twitter.com/?lang=zh\" hreflang=\"zh\" rel=\"alternate\"/>\n",
       "<link href=\"https://twitter.com/?lang=zh-Hant\" hreflang=\"zh-Hant\" rel=\"alternate\"/>\n",
       "<link href=\"https://twitter.com/\" rel=\"canonical\"/>\n",
       "<link href=\"/opensearch.xml\" rel=\"search\" title=\"Twitter\" type=\"application/opensearchdescription+xml\"/>\n",
       "<link color=\"#1da1f2\" href=\"https://abs.twimg.com/responsive-web/client-web-legacy/icon-svg.9e211f65.svg\" rel=\"mask-icon\" sizes=\"any\"/>\n",
       "<link href=\"//abs.twimg.com/favicons/twitter.ico\" rel=\"shortcut icon\" type=\"image/x-icon\"/>\n",
       "<link href=\"https://abs.twimg.com/responsive-web/client-web-legacy/icon-ios.8ea219d5.png\" rel=\"apple-touch-icon\" sizes=\"192x192\"/>\n",
       "<meta content=\"yes\" name=\"mobile-web-app-capable\"/>\n",
       "<meta content=\"Twitter\" name=\"apple-mobile-web-app-title\"/>\n",
       "<meta content=\"white\" name=\"apple-mobile-web-app-status-bar-style\"/>\n",
       "<meta content=\"#ffffff\" name=\"theme-color\"/>\n",
       "<meta content=\"Apir4chqTX+4eFxKD+ErQlKRB/VtZ/dvnLfd9Y9Nenl5r1xJcf81alryTHYQiuUlz9Q49MqGXqyaiSmqWzHUqQwAAABneyJvcmlnaW4iOiJodHRwczovL3R3aXR0ZXIuY29tOjQ0MyIsImZlYXR1cmUiOiJDb250YWN0c01hbmFnZXIiLCJleHBpcnkiOjE1NzUwMzUyODMsImlzU3ViZG9tYWluIjp0cnVlfQ==\" http-equiv=\"origin-trial\"/>\n",
       "<style>html,body{height: 100%;}body{-ms-overflow-style:scrollbar;overflow-y:scroll;overscroll-behavior-y:none;}</style>\n",
       "<style id=\"react-native-stylesheet\">[stylesheet-group=\"0\"]{}\n",
       "html{-ms-text-size-adjust:100%;-webkit-text-size-adjust:100%;-webkit-tap-highlight-color:rgba(0,0,0,0);}\n",
       "body{margin:0;}\n",
       "button::-moz-focus-inner,input::-moz-focus-inner{border:0;padding:0;}\n",
       "input::-webkit-inner-spin-button,input::-webkit-outer-spin-button,input::-webkit-search-cancel-button,input::-webkit-search-decoration,input::-webkit-search-results-button,input::-webkit-search-results-decoration{display:none;}\n",
       "[stylesheet-group=\"0.1\"]{}\n",
       ":focus:not([data-focusvisible-polyfill]){outline: none;}\n",
       "[stylesheet-group=\"1\"]{}\n",
       ".css-1dbjc4n{-ms-flex-align:stretch;-ms-flex-direction:column;-ms-flex-negative:0;-ms-flex-preferred-size:auto;-webkit-align-items:stretch;-webkit-box-align:stretch;-webkit-box-direction:normal;-webkit-box-orient:vertical;-webkit-flex-basis:auto;-webkit-flex-direction:column;-webkit-flex-shrink:0;align-items:stretch;border:0 solid black;box-sizing:border-box;display:-webkit-box;display:-moz-box;display:-ms-flexbox;display:-webkit-flex;display:flex;flex-basis:auto;flex-direction:column;flex-shrink:0;margin-bottom:0px;margin-left:0px;margin-right:0px;margin-top:0px;min-height:0px;min-width:0px;padding-bottom:0px;padding-left:0px;padding-right:0px;padding-top:0px;position:relative;z-index:0;}\n",
       ".css-901oao{border:0 solid black;box-sizing:border-box;color:rgba(0,0,0,1.00);display:inline;font:14px system-ui,-apple-system,BlinkMacSystemFont,\"Segoe UI\",Roboto,Ubuntu,\"Helvetica Neue\",sans-serif;margin-bottom:0px;margin-left:0px;margin-right:0px;margin-top:0px;padding-bottom:0px;padding-left:0px;padding-right:0px;padding-top:0px;white-space:pre-wrap;word-wrap:break-word;}\n",
       ".css-16my406{color:inherit;font:inherit;white-space:inherit;}\n",
       "[stylesheet-group=\"2\"]{}\n",
       ".r-13awgt0{-ms-flex-negative:1;-ms-flex-positive:1;-ms-flex-preferred-size:0%;-webkit-box-flex:1;-webkit-flex-basis:0%;-webkit-flex-grow:1;-webkit-flex-shrink:1;flex-basis:0%;flex-grow:1;flex-shrink:1;}\n",
       ".r-4qtqp9{display:inline-block;}\n",
       ".r-ywje51{margin-bottom:auto;margin-left:auto;margin-right:auto;margin-top:auto;}\n",
       ".r-hvic4v{display:none;}\n",
       ".r-1adg3ll{display:block;}\n",
       "[stylesheet-group=\"2.2\"]{}\n",
       ".r-12vffkv>*{pointer-events:auto;}\n",
       ".r-12vffkv{pointer-events:none!important;}\n",
       ".r-14lw9ot{background-color:rgba(255,255,255,1.00);}\n",
       ".r-1p0dtai{bottom:0px;}\n",
       ".r-1d2f490{left:0px;}\n",
       ".r-1xcajam{position:fixed;}\n",
       ".r-zchlnj{right:0px;}\n",
       ".r-ipm5af{top:0px;}\n",
       ".r-yyyyoo{fill:currentcolor;}\n",
       ".r-1xvli5t{height:1.25em;}\n",
       ".r-dnmrzs{max-width:100%;}\n",
       ".r-bnwqim{position:relative;}\n",
       ".r-1plcrui{vertical-align:text-bottom;}\n",
       ".r-lrvibr{-moz-user-select:none;-ms-user-select:none;-webkit-user-select:none;user-select:none;}\n",
       ".r-13gxpu9{color:rgba(29,161,242,1.00);}\n",
       ".r-wy61xf{height:72px;}\n",
       ".r-u8s1d{position:absolute;}\n",
       ".r-1blnp2b{width:72px;}\n",
       ".r-1ykxob0{top:60%;}\n",
       ".r-1b2b6em{line-height:2em;}\n",
       ".r-q4m81j{text-align:center;}</style>\n",
       "</head><body>\n",
       "<noscript>\n",
       "<form action=\"https://mobile.twitter.com/i/nojs_router?path=%2F\" method=\"POST\" style=\"background-color: #fff; position: fixed; top: 0; left: 0; right: 0; bottom: 0; z-index: 9999;\">\n",
       "<div style=\"font-size: 18px; font-family: Helvetica,sans-serif; line-height: 24px; margin: 10%; width: 80%;\">\n",
       "<p>We've detected that JavaScript is disabled in your browser. Would you like to proceed to legacy Twitter?</p>\n",
       "<p style=\"margin: 20px 0;\">\n",
       "<button style=\"background-color: #1da1f2; border-radius: 100px; border: none; box-shadow: none; color: #fff; cursor: pointer; font-size: 14px; font-weight: bold; line-height: 20px; padding: 6px 16px;\" type=\"submit\">Yes</button>\n",
       "</p>\n",
       "</div>\n",
       "</form>\n",
       "</noscript>\n",
       "<div id=\"react-root\" style=\"height:100%;display:flex;\"><div class=\"css-1dbjc4n r-13awgt0 r-12vffkv\"><div class=\"css-1dbjc4n r-13awgt0 r-12vffkv\"><style>\n",
       "          @media (prefers-color-scheme: dark) {\n",
       "            #placeholder {\n",
       "              background-color: #1B2836\n",
       "            }\n",
       "          }\n",
       "        </style><div aria-label=\"Loading…\" class=\"css-1dbjc4n r-14lw9ot r-1p0dtai r-1d2f490 r-1xcajam r-zchlnj r-ipm5af\" id=\"placeholder\"><svg class=\"r-1p0dtai r-13gxpu9 r-4qtqp9 r-yyyyoo r-wy61xf r-1d2f490 r-ywje51 r-dnmrzs r-u8s1d r-zchlnj r-1plcrui r-ipm5af r-lrvibr r-1blnp2b\" viewbox=\"0 0 24 24\"><g><path d=\"M23.643 4.937c-.835.37-1.732.62-2.675.733.962-.576 1.7-1.49 2.048-2.578-.9.534-1.897.922-2.958 1.13-.85-.904-2.06-1.47-3.4-1.47-2.572 0-4.658 2.086-4.658 4.66 0 .364.042.718.12 1.06-3.873-.195-7.304-2.05-9.602-4.868-.4.69-.63 1.49-.63 2.342 0 1.616.823 3.043 2.072 3.878-.764-.025-1.482-.234-2.11-.583v.06c0 2.257 1.605 4.14 3.737 4.568-.392.106-.803.162-1.227.162-.3 0-.593-.028-.877-.082.593 1.85 2.313 3.198 4.352 3.234-1.595 1.25-3.604 1.995-5.786 1.995-.376 0-.747-.022-1.112-.065 2.062 1.323 4.51 2.093 7.14 2.093 8.57 0 13.255-7.098 13.255-13.254 0-.2-.005-.402-.014-.602.91-.658 1.7-1.477 2.323-2.41z\"></path></g></svg></div><div class=\"css-1dbjc4n r-hvic4v r-1d2f490 r-1xcajam r-zchlnj r-1ykxob0\" id=\"ScriptLoadFailure\"><form action=\"\" method=\"GET\"><div class=\"css-901oao r-1adg3ll r-1b2b6em r-q4m81j\" dir=\"auto\"><span class=\"css-901oao css-16my406\" dir=\"auto\">Something went wrong, but don’t fret — let’s give it another shot.</span><br/><input name=\"failedScript\" type=\"hidden\" value=\"\"/><input type=\"submit\" value=\"Try again\"/></div></form></div></div></div></div>\n",
       "<script nonce=\"NTQxOTI4ZTEtMTc1Zi00N2UzLWI1Y2UtZDAyYjhmZTA5NjI5\">\n",
       "window.__INITIAL_STATE__ = {\"optimist\":[],\"featureSwitch\":{\"config\":{\"2fa_multikey_management_enabled\":{\"value\":false},\"account_country_setting_countries_whitelist\":{\"value\":[\"ad\",\"ae\",\"af\",\"ag\",\"ai\",\"al\",\"am\",\"ao\",\"ar\",\"as\",\"at\",\"au\",\"aw\",\"ax\",\"az\",\"ba\",\"bb\",\"bd\",\"be\",\"bf\",\"bg\",\"bh\",\"bi\",\"bj\",\"bl\",\"bm\",\"bn\",\"bo\",\"bq\",\"br\",\"bs\",\"bt\",\"bv\",\"bw\",\"by\",\"bz\",\"ca\",\"cc\",\"cd\",\"cf\",\"cg\",\"ch\",\"ci\",\"ck\",\"cl\",\"cm\",\"co\",\"cr\",\"cu\",\"cv\",\"cw\",\"cx\",\"cy\",\"cz\",\"de\",\"dj\",\"dk\",\"dm\",\"do\",\"dz\",\"ec\",\"ee\",\"eg\",\"er\",\"es\",\"et\",\"fi\",\"fj\",\"fk\",\"fm\",\"fo\",\"fr\",\"ga\",\"gb\",\"gd\",\"ge\",\"gf\",\"gg\",\"gh\",\"gi\",\"gl\",\"gm\",\"gn\",\"gp\",\"gq\",\"gr\",\"gs\",\"gt\",\"gu\",\"gw\",\"gy\",\"hk\",\"hn\",\"hr\",\"ht\",\"hu\",\"id\",\"ie\",\"il\",\"im\",\"in\",\"io\",\"iq\",\"ir\",\"is\",\"it\",\"je\",\"jm\",\"jo\",\"jp\",\"ke\",\"kg\",\"kh\",\"ki\",\"km\",\"kn\",\"kr\",\"kw\",\"ky\",\"kz\",\"la\",\"lb\",\"lc\",\"li\",\"lk\",\"lr\",\"ls\",\"lt\",\"lu\",\"lv\",\"ly\",\"ma\",\"mc\",\"md\",\"me\",\"mf\",\"mg\",\"mh\",\"mk\",\"ml\",\"mn\",\"mo\",\"mp\",\"mq\",\"mr\",\"ms\",\"mt\",\"mu\",\"mv\",\"mw\",\"mx\",\"my\",\"mz\",\"na\",\"nc\",\"ne\",\"nf\",\"ng\",\"ni\",\"nl\",\"no\",\"np\",\"nr\",\"nu\",\"nz\",\"om\",\"pa\",\"pe\",\"pf\",\"pg\",\"ph\",\"pk\",\"pl\",\"pm\",\"pn\",\"pr\",\"ps\",\"pt\",\"pw\",\"py\",\"qa\",\"re\",\"ro\",\"rs\",\"ru\",\"rw\",\"sa\",\"sb\",\"sc\",\"se\",\"sg\",\"sh\",\"si\",\"sk\",\"sl\",\"sm\",\"sn\",\"so\",\"sr\",\"st\",\"sv\",\"sx\",\"sz\",\"tc\",\"td\",\"tf\",\"tg\",\"th\",\"tj\",\"tk\",\"tl\",\"tm\",\"tn\",\"to\",\"tr\",\"tt\",\"tv\",\"tw\",\"tz\",\"ua\",\"ug\",\"us\",\"uy\",\"uz\",\"va\",\"vc\",\"ve\",\"vi\",\"vn\",\"vu\",\"wf\",\"ws\",\"xk\",\"ye\",\"yt\",\"za\",\"zm\",\"zw\"]},\"author_moderated_replies_urt_container_enabled\":{\"value\":false},\"content_language_setting_enabled\":{\"value\":true},\"conversation_controls_flexible_participation_enabled\":{\"value\":false},\"conversation_controls_flexible_participation_reply_enabled\":{\"value\":false},\"conversation_controls_limited_replies_consumption_configuration\":{\"value\":\"no_reply\"},\"conversation_controls_limited_replies_creation_enabled\":{\"value\":true},\"conversation_controls_notifying_participants_enabled\":{\"value\":true},\"conversational_safety_ouch_enabled\":{\"value\":false},\"dm_conversations_muting_enabled\":{\"value\":false},\"dm_reactions_config_active_reactions\":{\"value\":[\"😂:funny\",\"😲:surprised\",\"😢:sad\",\"❤:like\",\"🔥:excited\",\"👍:agree\",\"👎:disagree\"]},\"dm_reactions_config_inactive_reactions\":{\"value\":[\"😠:angry\",\"😷:mask\"]},\"dm_voice_rendering_enabled\":{\"value\":true},\"employee_role\":{\"value\":false},\"explore_settings_trends_policy_url\":{\"value\":\"\"},\"guest_broadcasting_timeline_decorations_enabled\":{\"value\":true},\"hashflags_animation_like_button_enabled\":{\"value\":true},\"home_timeline_latest_timeline_autoswitch_half_life_minutes\":{\"value\":43200},\"home_timeline_latest_timeline_autoswitch_threshold_multiplier\":{\"value\":2},\"home_timeline_latest_timeline_max_time_to_autoswitch_minutes\":{\"value\":5256000},\"home_timeline_latest_timeline_min_time_to_autoswitch_minutes\":{\"value\":5256000},\"home_timeline_latest_timeline_switch_enabled\":{\"value\":true},\"home_timeline_latest_timeline_threshold_to_increase_autoswitch_seconds\":{\"value\":60},\"home_timeline_spheres_copy_variant\":{\"value\":\"list_follow\"},\"home_timeline_spheres_custom_banner_image_reads_enabled\":{\"value\":true},\"home_timeline_spheres_detail_page_muting_enabled\":{\"value\":true},\"home_timeline_spheres_list_cell_thumbnail_enabled\":{\"value\":true},\"home_timeline_spheres_max_user_owned_or_subscribed_lists_count\":{\"value\":5},\"home_timeline_spheres_ranking_mode_control_enabled\":{\"value\":true},\"identity_verification_intake_enabled\":{\"value\":false},\"list_management_page_urt_timeline_enabled\":{\"value\":false},\"live_event_docking_enabled\":{\"value\":true},\"live_event_multi_video_auto_advance_dock_enabled\":{\"value\":true},\"live_event_multi_video_auto_advance_enabled\":{\"value\":true},\"live_event_multi_video_auto_advance_fullscreen_enabled\":{\"value\":false},\"live_event_multi_video_auto_advance_transition_duration_seconds\":{\"value\":5},\"live_event_multi_video_enabled\":{\"value\":true},\"live_event_timeline_default_refresh_rate_interval_seconds\":{\"value\":30},\"live_event_timeline_minimum_refresh_rate_interval_seconds\":{\"value\":10},\"live_event_timeline_server_controlled_refresh_rate_enabled\":{\"value\":true},\"livepipeline_client_enabled\":{\"value\":true},\"livepipeline_dm_features_enabled\":{\"value\":true},\"livepipeline_tweetengagement_enabled\":{\"value\":true},\"moment_annotations_enabled\":{\"value\":true},\"network_layer_503_backoff_mode\":{\"value\":\"host\"},\"project_friday_enabled\":{\"value\":true},\"responsive_web_alt_svc\":{\"value\":false},\"responsive_web_alt_text_badge_enabled\":{\"value\":false},\"responsive_web_api_transition_enabled\":{\"value\":false},\"responsive_web_auto_logout_multiaccount_enabled\":{\"value\":true},\"responsive_web_auto_logout_restrictedauthtoken_enabled\":{\"value\":true},\"responsive_web_auto_logout_twid_enabled\":{\"value\":true},\"responsive_web_birdwatch_consumption_enabled\":{\"value\":false},\"responsive_web_birdwatch_contribution_enabled\":{\"value\":false},\"responsive_web_birdwatch_hcomp_user\":{\"value\":false},\"responsive_web_branch_cpid_enabled\":{\"value\":true},\"responsive_web_branch_sdk_enabled\":{\"value\":true},\"responsive_web_card_preload_mode\":{\"value\":\"prerender\"},\"responsive_web_check_browser_support_enabled\":{\"value\":true},\"responsive_web_cleanup_macaw_swift_indexed_db\":{\"value\":true},\"responsive_web_constrained_viewport_enabled\":{\"value\":false},\"responsive_web_continue_as_always_enabled\":{\"value\":false},\"responsive_web_continue_as_param_enabled\":{\"value\":true},\"responsive_web_conversation_tree_enabled\":{\"value\":false},\"responsive_web_conversation_tree_toggle\":{\"value\":false},\"responsive_web_csrf_clientside_enabled\":{\"value\":true},\"responsive_web_dcm_2_enabled\":{\"value\":true},\"responsive_web_dm_health_inbox_request_cell_social_proof_enabled\":{\"value\":false},\"responsive_web_dm_health_settings_update\":{\"value\":false},\"responsive_web_dm_health_snooze_rename\":{\"value\":false},\"responsive_web_dm_quick_access_enabled\":{\"value\":true},\"responsive_web_dm_quick_access_no_empty_drawer_enabled\":{\"value\":true},\"responsive_web_dm_quick_access_with_close_enabled\":{\"value\":false},\"responsive_web_eu_compliance_double_click_disabled\":{\"value\":false},\"responsive_web_eu_compliance_ga_disabled\":{\"value\":false},\"responsive_web_eu_compliance_player_card_disabled\":{\"value\":false},\"responsive_web_eu_compliance_sentry_disabled\":{\"value\":false},\"responsive_web_eu_countries\":{\"value\":[\"at\",\"be\",\"bg\",\"ch\",\"cy\",\"cz\",\"de\",\"dk\",\"ee\",\"es\",\"fi\",\"fr\",\"gb\",\"gr\",\"hr\",\"hu\",\"ie\",\"is\",\"it\",\"li\",\"lt\",\"lu\",\"lv\",\"mt\",\"nl\",\"no\",\"pl\",\"pt\",\"ro\",\"se\",\"si\",\"sk\"]},\"responsive_web_events_page_horizon_video_enabled\":{\"value\":false},\"responsive_web_extension_compatibility_hide\":{\"value\":false},\"responsive_web_extension_compatibility_impression_guard\":{\"value\":true},\"responsive_web_extension_compatibility_override_param\":{\"value\":false},\"responsive_web_extension_compatibility_scribe\":{\"value\":true},\"responsive_web_extension_compatibility_size_threshold\":{\"value\":50},\"responsive_web_fake_root_twitter_domain_for_testing\":{\"value\":false},\"responsive_web_fetch_hashflags_on_boot\":{\"value\":true},\"responsive_web_fleets_dm_consumption_enabled\":{\"value\":false},\"responsive_web_fleets_notification_screen_enabled\":{\"value\":false},\"responsive_web_fleets_viewer_screen_enabled\":{\"value\":false},\"responsive_web_framerate_tracking_home_enabled\":{\"value\":false},\"responsive_web_graphql_amr_timeline\":{\"value\":false},\"responsive_web_graphql_bookmarks\":{\"value\":false},\"responsive_web_graphql_conversations_enabled\":{\"value\":false},\"responsive_web_graphql_dark_reads_probability\":{\"value\":0},\"responsive_web_graphql_liked_by\":{\"value\":false},\"responsive_web_graphql_likes_timeline\":{\"value\":false},\"responsive_web_graphql_list_crud\":{\"value\":true},\"responsive_web_graphql_list_management_timelines_enabled\":{\"value\":false},\"responsive_web_graphql_list_members_subscribers_enabled\":{\"value\":false},\"responsive_web_graphql_list_operations\":{\"value\":false},\"responsive_web_graphql_redux_module_users\":{\"value\":false},\"responsive_web_graphql_retweeted_by\":{\"value\":false},\"responsive_web_graphql_rux_landing_enabled\":{\"value\":false},\"responsive_web_graphql_tweet_results\":{\"value\":false},\"responsive_web_graphql_user_by_rest_id\":{\"value\":false},\"responsive_web_graphql_user_profile_screen\":{\"value\":false},\"responsive_web_graphql_user_results\":{\"value\":false},\"responsive_web_graphql_users_by_rest_ids\":{\"value\":false},\"responsive_web_graphql_verify_credentials_enabled\":{\"value\":true},\"responsive_web_guest_token_reporting\":{\"value\":true},\"responsive_web_hoisting_anchor_invalidation_enabled\":{\"value\":false},\"responsive_web_horizon_video_player_enabled\":{\"value\":true},\"responsive_web_hover_on_mousemove_enabled\":{\"value\":false},\"responsive_web_html_archive_renderer_enabled\":{\"value\":true},\"responsive_web_inline_login_box_enabled\":{\"value\":true},\"responsive_web_inline_reply_enabled\":{\"value\":false},\"responsive_web_inline_reply_with_fab_enabled\":{\"value\":false},\"responsive_web_instream_video_redesign_enabled\":{\"value\":false},\"responsive_web_list_hover_cards_enabled\":{\"value\":true},\"responsive_web_live_video_parity_periscope_auth_enabled\":{\"value\":false},\"responsive_web_login_input_type_email_enabled\":{\"value\":false},\"responsive_web_login_signup_sheet_app_install_cta_enabled\":{\"value\":false},\"responsive_web_media_upload_limit_2g\":{\"value\":250},\"responsive_web_media_upload_limit_3g\":{\"value\":1500},\"responsive_web_media_upload_limit_slow_2g\":{\"value\":150},\"responsive_web_media_upload_md5_hashing_enabled\":{\"value\":false},\"responsive_web_media_upload_target_jpg_pixels_per_byte\":{\"value\":6},\"responsive_web_menu_section_divider_enabled\":{\"value\":false},\"responsive_web_moment_maker_annotations_enabled\":{\"value\":false},\"responsive_web_moment_maker_enabled\":{\"value\":false},\"responsive_web_multiple_account_limit\":{\"value\":5},\"responsive_web_mute_unmute_toast_with_user_screen_name_enabled\":{\"value\":true},\"responsive_web_new_client_events_enabled\":{\"value\":false},\"responsive_web_not_my_account_screen_enabled\":{\"value\":true},\"responsive_web_ntab_verified_mentions_vit_internal_dogfood\":{\"value\":false},\"responsive_web_ocf_sms_autoverify_enabled\":{\"value\":false},\"responsive_web_prerolls_fullscreen_disabled_on_ios\":{\"value\":false},\"responsive_web_promoted_tweet_param_append_enabled\":{\"value\":true},\"responsive_web_promoted_tweet_url_rewrite_enabled\":{\"value\":false},\"responsive_web_quick_promote_enabled\":{\"value\":false},\"responsive_web_redirect_to_app_enabled\":{\"value\":false},\"responsive_web_report_page_not_found\":{\"value\":false},\"responsive_web_rich_tweet_landing_enabled\":{\"value\":true},\"responsive_web_scroller_autopoll_enabled\":{\"value\":false},\"responsive_web_scroller_v3_enabled\":{\"value\":false},\"responsive_web_search_dms_enabled\":{\"value\":true},\"responsive_web_second_degree_replies_nudge_force_enabled\":{\"value\":false},\"responsive_web_second_degree_replies_nudge_get_enabled\":{\"value\":false},\"responsive_web_second_degree_replies_nudge_show_enabled\":{\"value\":false},\"responsive_web_segmented_control_v2_enabled\":{\"value\":true},\"responsive_web_serviceworker_safari_disabled\":{\"value\":false},\"responsive_web_settings_revamp_enabled\":{\"value\":false},\"responsive_web_settings_timeline_refresh_background_interval\":{\"value\":0},\"responsive_web_settings_timeline_refresh_enabled\":{\"value\":false},\"responsive_web_settings_timeline_refresh_instant_default\":{\"value\":true},\"responsive_web_sports_carousel\":{\"value\":false},\"responsive_web_trends_setting_new_endpoints\":{\"value\":true},\"responsive_web_trigger_test_backoff_on_bookmark\":{\"value\":false},\"responsive_web_tweets_pill_local_enabled\":{\"value\":true},\"responsive_web_unsupported_entry_tombstone\":{\"value\":false},\"responsive_web_use_app_prompt_copy_variant\":{\"value\":\"prompt_better\"},\"responsive_web_use_app_prompt_enabled\":{\"value\":true},\"responsive_web_verification_v2_enabled\":{\"value\":true},\"responsive_web_video_pcomplete_enabled\":{\"value\":true},\"responsive_web_video_promoted_logging_enabled\":{\"value\":true},\"responsive_web_vod_muted_captions_enabled\":{\"value\":true},\"responsive_web_vs_config_desktop_assumed_item_height\":{\"value\":100},\"responsive_web_vs_config_resize_observer_enabled\":{\"value\":true},\"responsive_web_zipkin_api_requests_enabled\":{\"value\":false},\"responsive_web_zipkin_api_requests_paths_allowlist\":{\"value\":[\"/2/timeline/home.json\"]},\"scribe_api_error_sample_size\":{\"value\":0},\"scribe_api_sample_size\":{\"value\":100},\"scribe_cdn_host_list\":{\"value\":[\"si0.twimg.com\",\"si1.twimg.com\",\"si2.twimg.com\",\"si3.twimg.com\",\"a0.twimg.com\",\"a1.twimg.com\",\"a2.twimg.com\",\"a3.twimg.com\",\"abs.twimg.com\",\"amp.twimg.com\",\"o.twimg.com\",\"pbs.twimg.com\",\"pbs-eb.twimg.com\",\"pbs-ec.twimg.com\",\"pbs-v6.twimg.com\",\"pbs-h1.twimg.com\",\"pbs-h2.twimg.com\",\"video.twimg.com\",\"platform.twitter.com\",\"cdn.api.twitter.com\",\"ton.twimg.com\",\"v.cdn.vine.co\",\"mtc.cdn.vine.co\",\"edge.vncdn.co\",\"mid.vncdn.co\"]},\"scribe_cdn_sample_size\":{\"value\":50},\"search_channels_description_enabled\":{\"value\":true},\"search_channels_discovery_page_enabled\":{\"value\":false},\"search_features_deep_link_request_params_enabled\":{\"value\":true},\"soft_interventions_retweet_nudge_enabled\":{\"value\":true},\"topic_landing_page_enabled\":{\"value\":true},\"topic_landing_page_share_enabled\":{\"value\":true},\"topics_discovery_page_enabled\":{\"value\":false},\"topics_new_social_context_bottom_border_enabled\":{\"value\":true},\"topics_new_social_context_enabled\":{\"value\":true},\"topics_new_social_context_icon_color_enabled\":{\"value\":false},\"topics_peek_home_enabled\":{\"value\":false},\"topics_peek_search_enabled\":{\"value\":false},\"traffic_rewrite_map\":{\"value\":[]},\"tweet_limited_actions_config_enabled\":{\"value\":true},\"tweet_limited_actions_config_non_compliant\":{\"value\":[\"reply\",\"retweet\",\"like\",\"send_via_dm\",\"add_to_bookmarks\",\"add_to_moment\",\"pin_to_profile\",\"view_tweet_activity\",\"share_tweet_via\"]},\"unified_cards_cta_color_blue_cta\":{\"value\":true},\"user_display_name_max_limit\":{\"value\":50},\"voice_consumption_enabled\":{\"value\":false},\"web_video_bitrate_persistence_enabled\":{\"value\":false},\"web_video_hls_android_mse_enabled\":{\"value\":true},\"web_video_hls_mp4_threshold_sec\":{\"value\":0},\"web_video_hlsjs_version\":{\"value\":\"\"}},\"debug\":{},\"impression_pointers\":{\"responsive_web_ocf_sms_autoverify_enabled\":[\"onboarding_chrome_sms_autoverify_9851\"]},\"impressions\":{\"onboarding_chrome_sms_autoverify_9851\":{\"key\":\"onboarding_chrome_sms_autoverify_9851\",\"bucket\":\"control\",\"version\":6}},\"featureSetToken\":\"c4e1e0accdbc9be3ae231b78bab01bc0b09ea799\",\"isLoaded\":true,\"isLoading\":false,\"keysRead\":{},\"settingsVersion\":\"81a15ab8d3eb55748d17584e0ea16ed3\"},\"toasts\":[],\"entities\":{\"users\":{\"entities\":{},\"errors\":{},\"fetchStatus\":{}},\"tweets\":{\"entities\":{},\"errors\":{},\"fetchStatus\":{}},\"cards\":{\"entities\":{},\"errors\":{},\"fetchStatus\":{}}},\"session\":{\"country\":\"NL\",\"emailLiteLoginEligibility\":{\"fetchStatus\":\"none\"},\"guestId\":\"160409358107642794\",\"language\":\"en\",\"oneFactorLoginEligibility\":{\"fetchStatus\":\"none\"}},\"typeaheadUsers\":{\"fetchStatus\":\"none\",\"users\":{},\"denylist\":{},\"lastUpdated\":0,\"index\":{}},\"settings\":{\"local\":{\"nextPushCheckin\":0,\"shouldAutoPlayGif\":false,\"scale\":\"normal\",\"themeColor\":\"blue\",\"highContrastEnabled\":false,\"themeBackground\":\"light\",\"loginPromptLastShown\":0,\"reducedMotionEnabled\":false,\"conversationTreeEnabled\":false,\"showTweetMediaDetailDrawer\":true},\"remote\":{\"settings\":{\"display_sensitive_media\":false},\"fetchStatus\":\"none\"},\"dataSaver\":{\"dataSaverMode\":false},\"transient\":{\"dtabBarInfo\":{\"dtabAll\":null,\"dtabRweb\":null,\"hide\":false},\"loginPromptShown\":false,\"lastViewedDmInboxPath\":\"/messages\",\"themeFocus\":\"\"}},\"devices\":{\"browserPush\":{\"fetchStatus\":\"none\",\"pushNotificationsPrompt\":{\"dismissed\":false,\"fetchStatus\":\"none\"},\"subscribed\":false,\"supported\":null},\"devices\":{\"data\":{\"emails\":[],\"phone_numbers\":[]},\"fetchStatus\":\"none\"},\"notificationSettings\":{\"push_settings\":{\"error\":null,\"fetchStatus\":\"none\"},\"push_settings_template\":{\"template\":{\"settings\":[]}},\"sms_settings\":{\"error\":null,\"fetchStatus\":\"none\"},\"sms_settings_template\":{\"template\":{\"settings\":[]}},\"checkin_time\":null}},\"hashflags\":{\"fetchStatus\":\"none\",\"hashflags\":{}},\"urt\":{}};\n",
       "window.__META_DATA__ = {\"env\":\"prod\",\"isFromDynamicRenderer\":false,\"isLoggedIn\":false,\"isRTL\":false,\"hasMultiAccountCookie\":false,\"uaParserTags\":[\"m2\",\"rweb_unsupported\",\"msw\"],\"serverDate\":1604093581134,\"sha\":\"760e51d8a9e5b1ac27b7433aa76baa388257a31c\"};\n",
       "</script>\n",
       "<script nonce=\"NTQxOTI4ZTEtMTc1Zi00N2UzLWI1Y2UtZDAyYjhmZTA5NjI5\">\n",
       "  document.cookie = decodeURIComponent(\"gt=1322290434048229376; Max-Age=10800; Domain=.twitter.com; Path=/; Secure\");\n",
       "</script>\n",
       "<script charset=\"utf-8\" nonce=\"NTQxOTI4ZTEtMTc1Zi00N2UzLWI1Y2UtZDAyYjhmZTA5NjI5\" type=\"text/javascript\">\n",
       "  window.__SCRIPTS_LOADED__ = {};\n",
       "  !function(e){function n(n){for(var o,t,i=n[0],c=n[1],l=n[2],s=0,m=[];s<i.length;s++)t=i[s],Object.prototype.hasOwnProperty.call(a,t)&&a[t]&&m.push(a[t][0]),a[t]=0;for(o in c)Object.prototype.hasOwnProperty.call(c,o)&&(e[o]=c[o]);for(u&&u(n);m.length;)m.shift()();return r.push.apply(r,l||[]),d()}function d(){for(var e,n=0;n<r.length;n++){for(var d=r[n],o=!0,i=1;i<d.length;i++){var c=d[i];0!==a[c]&&(o=!1)}o&&(r.splice(n--,1),e=t(t.s=d[0]))}return e}var o={},a={1:0},r=[];function t(n){if(o[n])return o[n].exports;var d=o[n]={i:n,l:!1,exports:{}};return e[n].call(d.exports,d,d.exports,t),d.l=!0,d.exports}t.e=function(e){var n=[],d=a[e];if(0!==d)if(d)n.push(d[2]);else{var o=new Promise((function(n,o){d=a[e]=[n,o]}));n.push(d[2]=o);var r,i=document.createElement(\"script\");i.charset=\"utf-8\",i.timeout=120,t.nc&&i.setAttribute(\"nonce\",t.nc),i.src=function(e){return t.p+\"\"+({0:\"sharedCore\",3:\"shared~loader.DMDrawer~bundle.Compose~bundle.RichTextCompose~bundle.DirectMessages~bundle.DMRichTextCompose~b\",4:\"shared~bundle.Settings~ondemand.SettingsInternals~bundle.SettingsTransparency~bundle.SettingsRevamp~ondemand.\",5:\"shared~bundle.ComposeMedia~bundle.Ocf~bundle.SettingsProfile~bundle.UserLists\",6:\"shared~bundle.Compose~bundle.RichTextCompose~ondemand.ComposeScheduling~bundle.PlainTextCompose\",7:\"shared~bundle.MultiAccount~bundle.Login~bundle.LoggedOutHome~ondemand.IntentPrompt\",8:\"shared~bundle.Settings~ondemand.SettingsInternals~bundle.SettingsTransparency~bundle.SettingsRevamp\",9:\"shared~bundle.DirectMessages~bundle.TweetMediaDetail~bundle.UserAvatar\",10:\"shared~bundle.Place~bundle.Search~bundle.QuoteTweetActivity\",11:\"shared~bundle.RichTextCompose~bundle.DMRichTextCompose~ondemand.RichText\",12:\"shared~loader.DMDrawer~bundle.DirectMessages~bundle.DMRichTextCompose\",13:\"shared~bundle.Compose~bundle.PlainTextCompose\",14:\"shared~bundle.Display~bundle.Settings\",15:\"shared~bundle.Explore~loader.ExploreSidebar\",16:\"shared~bundle.LiveEvent~bundle.UserMoments\",17:\"shared~bundle.TopicPeek~ondemand.EmojiPicker\",18:\"shared~loader.DashMenu~bundle.Account\",19:\"shared~loader.Typeahead~bundle.UserLists\",20:\"shared~loaders.video.VideoPlayerDefaultUI~loaders.video.VideoPlayerEventsUI\",21:\"shared~ondemand.EmojiPickerData~ondemand.EmojiPicker\",22:\"shared~ondemand.GraphQLModule~ondemand.UserProfileGraphQL\",23:\"shared~ondemand.InlinePlayer~loader.AudioOnlyVideoPlayer\",24:\"shared~ondemand.SettingsInternals~ondemand.SettingsRevamp\",25:\"bundle.AboutThisAd\",26:\"bundle.Account\",27:\"bundle.AdvancedSearch\",28:\"bundle.Birdwatch\",29:\"bundle.Bookmarks\",30:\"bundle.Collection\",31:\"bundle.Compose\",32:\"bundle.ComposeMedia\",33:\"bundle.ConnectTab\",34:\"bundle.Conversation\",35:\"bundle.ConversationParticipants\",36:\"bundle.DMRichTextCompose\",37:\"bundle.DirectMessages\",38:\"bundle.Display\",39:\"bundle.Download\",40:\"bundle.Explore\",41:\"bundle.ExploreTopics\",42:\"bundle.FleetsNotification\",43:\"bundle.FollowerRequests\",44:\"bundle.GenericTimeline\",45:\"bundle.GifSearch\",46:\"bundle.HomeTimeline\",47:\"bundle.KeyboardShortcuts\",48:\"bundle.LiveEvent\",49:\"bundle.LoggedOutHome\",50:\"bundle.Login\",51:\"bundle.Logout\",52:\"bundle.Moment\",53:\"bundle.MomentMaker\",54:\"bundle.MultiAccount\",55:\"bundle.NetworkInstrument\",56:\"bundle.NewsLanding\",57:\"bundle.NotMyAccount\",58:\"bundle.NotificationDetail\",59:\"bundle.Notifications\",60:\"bundle.Ocf\",61:\"bundle.Place\",62:\"bundle.PlainTextCompose\",63:\"bundle.ProfileRedirect\",64:\"bundle.QuoteTweetActivity\",65:\"bundle.Report\",66:\"bundle.RichTextCompose\",67:\"bundle.Search\",68:\"bundle.Settings\",69:\"bundle.SettingsInternals\",70:\"bundle.SettingsProfile\",71:\"bundle.SettingsRevamp\",72:\"bundle.SettingsTransparency\",73:\"bundle.SmsLogin\",74:\"bundle.TopicPeek\",75:\"bundle.Topics\",76:\"bundle.Trends\",77:\"bundle.TweetActivity\",78:\"bundle.TweetMediaDetail\",79:\"bundle.TweetMediaTags\",80:\"bundle.Twitterversary\",81:\"bundle.UserAvatar\",82:\"bundle.UserFollowLists\",83:\"bundle.UserLists\",84:\"bundle.UserMoments\",85:\"bundle.UserProfile\",86:\"bundle.UserRedirect\",136:\"loader.AbsolutePower\",137:\"loader.AppModules\",138:\"loader.AudioOnlyVideoPlayer\",139:\"loader.DMDrawer\",140:\"loader.DashMenu\",141:\"loader.ExploreSidebar\",142:\"loader.FeedbackSheet\",143:\"loader.FeedbackTombstone\",144:\"loader.HWCard\",145:\"loader.NewTweetsPill\",146:\"loader.PeriscopeOverlay\",147:\"loader.ProfileClusterFollow\",148:\"loader.PushNotificationsPrompt\",149:\"loader.SideNav\",150:\"loader.SignupModule\",151:\"loader.TimelineRenderer\",152:\"loader.TweetCurationActionMenu\",153:\"loader.Typeahead\",154:\"loader.WideLayout\",155:\"loader.directMessagesData\",156:\"loader.graphQLDarkReads\",157:\"loader.personalizationData\",158:\"loaders.video.PlayerBase\",159:\"loaders.video.PlayerHls13\",160:\"loaders.video.PlayerUi\",161:\"loaders.video.VideoPlayerDefaultUI\",162:\"loaders.video.VideoPlayerEventsUI\",164:\"ondemand.Balloons\",165:\"ondemand.BranchSdk\",166:\"ondemand.CarouselScroller\",167:\"ondemand.ComposeScheduling\",168:\"ondemand.Dropdown\",169:\"ondemand.EditBirthdate\",170:\"ondemand.EditPinned\",171:\"ondemand.EmojiPicker\",172:\"ondemand.FleetMediaDetail\",173:\"ondemand.GraphQLModule\",174:\"ondemand.HoverCard\",175:\"ondemand.InlinePlayer\",176:\"ondemand.IntentPrompt\",177:\"ondemand.LottieWeb\",178:\"ondemand.MicrosoftInterface\",179:\"ondemand.ProfileSidebar\",180:\"ondemand.RichText\",181:\"ondemand.SettingsInternals\",182:\"ondemand.SettingsRevamp\",183:\"ondemand.UserProfileGraphQL\",184:\"ondemand.countries-ar\",185:\"ondemand.countries-bg\",186:\"ondemand.countries-bn\",187:\"ondemand.countries-ca\",188:\"ondemand.countries-cs\",189:\"ondemand.countries-da\",190:\"ondemand.countries-de\",191:\"ondemand.countries-el\",192:\"ondemand.countries-en\",193:\"ondemand.countries-en-GB\",194:\"ondemand.countries-es\",195:\"ondemand.countries-eu\",196:\"ondemand.countries-fa\",197:\"ondemand.countries-fi\",198:\"ondemand.countries-fil\",199:\"ondemand.countries-fr\",200:\"ondemand.countries-ga\",201:\"ondemand.countries-gl\",202:\"ondemand.countries-gu\",203:\"ondemand.countries-he\",204:\"ondemand.countries-hi\",205:\"ondemand.countries-hr\",206:\"ondemand.countries-hu\",207:\"ondemand.countries-id\",208:\"ondemand.countries-it\",209:\"ondemand.countries-ja\",210:\"ondemand.countries-kn\",211:\"ondemand.countries-ko\",212:\"ondemand.countries-mr\",213:\"ondemand.countries-ms\",214:\"ondemand.countries-nb\",215:\"ondemand.countries-nl\",216:\"ondemand.countries-pl\",217:\"ondemand.countries-pt\",218:\"ondemand.countries-ro\",219:\"ondemand.countries-ru\",220:\"ondemand.countries-sk\",221:\"ondemand.countries-sr\",222:\"ondemand.countries-sv\",223:\"ondemand.countries-ta\",224:\"ondemand.countries-th\",225:\"ondemand.countries-tr\",226:\"ondemand.countries-uk\",227:\"ondemand.countries-ur\",228:\"ondemand.countries-zh\",229:\"ondemand.countries-zh-Hant\",230:\"ondemand.emoji.ar\",231:\"ondemand.emoji.bg\",232:\"ondemand.emoji.bn\",233:\"ondemand.emoji.ca\",234:\"ondemand.emoji.cs\",235:\"ondemand.emoji.da\",236:\"ondemand.emoji.de\",237:\"ondemand.emoji.el\",238:\"ondemand.emoji.en\",239:\"ondemand.emoji.en-GB\",240:\"ondemand.emoji.en-ss\",241:\"ondemand.emoji.en-xx\",242:\"ondemand.emoji.es\",243:\"ondemand.emoji.eu\",244:\"ondemand.emoji.fa\",245:\"ondemand.emoji.fi\",246:\"ondemand.emoji.fil\",247:\"ondemand.emoji.fr\",248:\"ondemand.emoji.ga\",249:\"ondemand.emoji.gl\",250:\"ondemand.emoji.gu\",251:\"ondemand.emoji.he\",252:\"ondemand.emoji.hi\",253:\"ondemand.emoji.hr\",254:\"ondemand.emoji.hu\",255:\"ondemand.emoji.id\",256:\"ondemand.emoji.it\",257:\"ondemand.emoji.ja\",258:\"ondemand.emoji.kn\",259:\"ondemand.emoji.ko\",260:\"ondemand.emoji.mr\",261:\"ondemand.emoji.ms\",262:\"ondemand.emoji.nb\",263:\"ondemand.emoji.nl\",264:\"ondemand.emoji.pl\",265:\"ondemand.emoji.pt\",266:\"ondemand.emoji.ro\",267:\"ondemand.emoji.ru\",268:\"ondemand.emoji.sk\",269:\"ondemand.emoji.sr\",270:\"ondemand.emoji.sv\",271:\"ondemand.emoji.ta\",272:\"ondemand.emoji.th\",273:\"ondemand.emoji.tr\",274:\"ondemand.emoji.uk\",275:\"ondemand.emoji.ur\",276:\"ondemand.emoji.vi\",277:\"ondemand.emoji.zh\",278:\"ondemand.emoji.zh-Hant\",279:\"ondemand.framerateTracking\",280:\"ondemand.video.PlayerHls12\"}[e]||e)+\".\"+{0:\"aaf2cc0\",3:\"1883078\",4:\"25b9fc5\",5:\"b8303ee\",6:\"426111f\",7:\"82172bc\",8:\"6249478\",9:\"f31a606\",10:\"8876ae2\",11:\"ce90fb3\",12:\"a81e9ca\",13:\"7d72f42\",14:\"ec6012c\",15:\"58b7bd0\",16:\"35fcef0\",17:\"f572e3a\",18:\"60c0dc2\",19:\"94b6f51\",20:\"4b8eceb\",21:\"b92aa63\",22:\"0921cd7\",23:\"f7fd0e7\",24:\"aec5b58\",25:\"57c7f69\",26:\"86a9af5\",27:\"d755027\",28:\"51c879c\",29:\"4b72654\",30:\"e8256b8\",31:\"ad35f98\",32:\"60fc17b\",33:\"1efddef\",34:\"9233133\",35:\"59004b3\",36:\"83f03c5\",37:\"873a640\",38:\"8212806\",39:\"a0db128\",40:\"d23b899\",41:\"d723a2d\",42:\"6f49b32\",43:\"3394f27\",44:\"0b9dec1\",45:\"3ed96e4\",46:\"b025ba3\",47:\"3aa5ca2\",48:\"014237b\",49:\"5fa8b64\",50:\"c3e4e47\",51:\"858062c\",52:\"044fdb5\",53:\"a9d8c87\",54:\"315d8a8\",55:\"116fe4e\",56:\"ca722be\",57:\"a0f0e9e\",58:\"adf736f\",59:\"989c4ed\",60:\"a9830ea\",61:\"43f21a8\",62:\"b4fff8b\",63:\"8f05bfb\",64:\"5c9853d\",65:\"960ae56\",66:\"02ddef6\",67:\"c40989e\",68:\"61773d5\",69:\"fd505a6\",70:\"ff5ea36\",71:\"564136f\",72:\"c8432dd\",73:\"5ba8444\",74:\"fc07d19\",75:\"0a690af\",76:\"c0699e7\",77:\"9c09a81\",78:\"8acfb7e\",79:\"13ea75a\",80:\"d2729c5\",81:\"9bb4b32\",82:\"1358b55\",83:\"2081892\",84:\"6d99401\",85:\"c5cf6e6\",86:\"a23d260\",136:\"8cb5836\",137:\"7188676\",138:\"9fe7939\",139:\"54f5760\",140:\"c4f7130\",141:\"9040bb0\",142:\"0ee3393\",143:\"5303d41\",144:\"4e44c44\",145:\"ae3ea12\",146:\"e322719\",147:\"0c33615\",148:\"1b05027\",149:\"2083579\",150:\"d25e33c\",151:\"4caf415\",152:\"0117e2a\",153:\"05ab034\",154:\"67a1a35\",155:\"81f7468\",156:\"7af479d\",157:\"07c1905\",158:\"a4932ff\",159:\"41ed497\",160:\"e42c0c1\",161:\"8aa144e\",162:\"35e5503\",164:\"6af0574\",165:\"b063cb1\",166:\"bd5c278\",167:\"81d33dd\",168:\"bdd6d3c\",169:\"8e66380\",170:\"fc39218\",171:\"155bebe\",172:\"4441d0b\",173:\"081003b\",174:\"1f6764f\",175:\"947f26f\",176:\"dc8ebdd\",177:\"6d4cf76\",178:\"fff1b23\",179:\"455926a\",180:\"904b2e0\",181:\"e96c47d\",182:\"2348354\",183:\"0192afa\",184:\"9a679ed\",185:\"9016ddc\",186:\"b15c039\",187:\"a77819f\",188:\"bbe26a3\",189:\"cdab884\",190:\"6d1fdde\",191:\"f66694e\",192:\"71bebc1\",193:\"2cac9f0\",194:\"afd6511\",195:\"17b8c7c\",196:\"ab95f6d\",197:\"a919eff\",198:\"41ee3da\",199:\"8dd914a\",200:\"6678f0b\",201:\"cd6a946\",202:\"348bbfb\",203:\"ff343b0\",204:\"e5c4450\",205:\"69d0ea2\",206:\"0ed4842\",207:\"b6c88a2\",208:\"073326e\",209:\"c63a706\",210:\"883af30\",211:\"ac373fa\",212:\"0ae6309\",213:\"6cea0fa\",214:\"8969fda\",215:\"b40abde\",216:\"bfc70f3\",217:\"1cc1bbf\",218:\"9c27be1\",219:\"fbe11a0\",220:\"3f821f3\",221:\"645da2c\",222:\"be042cd\",223:\"1f777c1\",224:\"bb3984c\",225:\"793b699\",226:\"4c925e9\",227:\"2c822c0\",228:\"dc64cfb\",229:\"9731708\",230:\"73e6376\",231:\"015edf5\",232:\"08a956f\",233:\"73cfa4d\",234:\"0c857f2\",235:\"6a62c72\",236:\"bf96ad3\",237:\"5bf8457\",238:\"e251e9f\",239:\"c7204c1\",240:\"0d15c81\",241:\"c541af2\",242:\"68ac0ea\",243:\"7660c6f\",244:\"1dae1e2\",245:\"2b81534\",246:\"00f9135\",247:\"943dd68\",248:\"fe72631\",249:\"8080859\",250:\"624feb5\",251:\"47b52b8\",252:\"5e90c21\",253:\"a3e9d36\",254:\"fc70c99\",255:\"c49e2a7\",256:\"b8ac821\",257:\"ccc609d\",258:\"cd11a9f\",259:\"0eab979\",260:\"3ada6f3\",261:\"14297a8\",262:\"96191a3\",263:\"cd0dc42\",264:\"9bc4bef\",265:\"360e2b9\",266:\"d894fd2\",267:\"d5b6f92\",268:\"fccb8b6\",269:\"6a720a7\",270:\"e8cf063\",271:\"f299fdd\",272:\"19276f7\",273:\"3ea7f24\",274:\"0d07829\",275:\"f2cbd9c\",276:\"a8739c5\",277:\"6d96dfb\",278:\"28640db\",279:\"38076b1\",280:\"a57306e\"}[e]+\"5.js\"}(e);var c=new Error;r=function(n){i.onerror=i.onload=null,clearTimeout(l);var d=a[e];if(0!==d){if(d){var o=n&&(\"load\"===n.type?\"missing\":n.type),r=n&&n.target&&n.target.src;c.message=\"Loading chunk \"+e+\" failed.\\n(\"+o+\": \"+r+\")\",c.name=\"ChunkLoadError\",c.type=o,c.request=r,d[1](c)}a[e]=void 0}};var l=setTimeout((function(){r({type:\"timeout\",target:i})}),12e4);i.onerror=i.onload=r,document.head.appendChild(i)}return Promise.all(n)},t.m=e,t.c=o,t.d=function(e,n,d){t.o(e,n)||Object.defineProperty(e,n,{enumerable:!0,get:d})},t.r=function(e){\"undefined\"!=typeof Symbol&&Symbol.toStringTag&&Object.defineProperty(e,Symbol.toStringTag,{value:\"Module\"}),Object.defineProperty(e,\"__esModule\",{value:!0})},t.t=function(e,n){if(1&n&&(e=t(e)),8&n)return e;if(4&n&&\"object\"==typeof e&&e&&e.__esModule)return e;var d=Object.create(null);if(t.r(d),Object.defineProperty(d,\"default\",{enumerable:!0,value:e}),2&n&&\"string\"!=typeof e)for(var o in e)t.d(d,o,function(n){return e[n]}.bind(null,o));return d},t.n=function(e){var n=e&&e.__esModule?function(){return e.default}:function(){return e};return t.d(n,\"a\",n),n},t.o=function(e,n){return Object.prototype.hasOwnProperty.call(e,n)},t.p=\"https://abs.twimg.com/responsive-web/client-web-legacy/\",t.oe=function(e){throw e};var i=window.webpackJsonp=window.webpackJsonp||[],c=i.push.bind(i);i.push=n,i=i.slice();for(var l=0;l<i.length;l++)n(i[l]);var u=c;d()}([]),window.__SCRIPTS_LOADED__.runtime=!0;\n",
       "//# sourceMappingURL=https://ton.twitter.com/responsive-web-internal/sourcemaps/client-web-legacy/runtime.7b191c35.js.map\n",
       "</script>\n",
       "<script charset=\"utf-8\" crossorigin=\"anonymous\" nonce=\"NTQxOTI4ZTEtMTc1Zi00N2UzLWI1Y2UtZDAyYjhmZTA5NjI5\" src=\"https://abs.twimg.com/responsive-web/client-web-legacy/polyfills.90d86535.js\" type=\"text/javascript\"></script>\n",
       "<script charset=\"utf-8\" crossorigin=\"anonymous\" nonce=\"NTQxOTI4ZTEtMTc1Zi00N2UzLWI1Y2UtZDAyYjhmZTA5NjI5\" src=\"https://abs.twimg.com/responsive-web/client-web-legacy/vendors~main.45e01195.js\" type=\"text/javascript\"></script>\n",
       "<script charset=\"utf-8\" crossorigin=\"anonymous\" nonce=\"NTQxOTI4ZTEtMTc1Zi00N2UzLWI1Y2UtZDAyYjhmZTA5NjI5\" src=\"https://abs.twimg.com/responsive-web/client-web-legacy/i18n/en.6c3b6795.js\" type=\"text/javascript\"></script>\n",
       "<script charset=\"utf-8\" crossorigin=\"anonymous\" nonce=\"NTQxOTI4ZTEtMTc1Zi00N2UzLWI1Y2UtZDAyYjhmZTA5NjI5\" src=\"https://abs.twimg.com/responsive-web/client-web-legacy/main.a0abd565.js\" type=\"text/javascript\"></script>\n",
       "<script nonce=\"NTQxOTI4ZTEtMTc1Zi00N2UzLWI1Y2UtZDAyYjhmZTA5NjI5\">\n",
       "  (function () {\n",
       "    if (!window.__SCRIPTS_LOADED__['main']) {\n",
       "      document.getElementById('ScriptLoadFailure').style.display = 'block';\n",
       "      var criticalScripts = 'polyfills,vendors~main,i18n,main'.split(',');\n",
       "      var i;\n",
       "      for (i = 0; i < criticalScripts.length; i++) {\n",
       "        var criticalScript = criticalScripts[i];\n",
       "        if (!window.__SCRIPTS_LOADED__[criticalScript]) {\n",
       "          document.getElementsByName('failedScript')[0].value = criticalScript\n",
       "          break;\n",
       "        }\n",
       "      }\n",
       "    }\n",
       "  })();\n",
       "</script>\n",
       "</body></html>"
      ]
     },
     "execution_count": 763,
     "metadata": {},
     "output_type": "execute_result"
    }
   ],
   "source": [
    "# your code here\n",
    "\n",
    "# API_KEY = \"z3WRbN5It8pvJTXgLlaQzt8BS\"\n",
    "# API_SECRET = \"E85vfoZPW9FCuRLRQ7cjuOwpWFmfYj3V4Wiz7ZXlsHaBVtsmUr\"\n",
    "# ACCESS_TOKEN = \"1079451525427220480-ZtAsgN8zkteOnIn6BOa6ResQ5inA47\"\n",
    "# ACCESS_TOKEN_SECRET = \"riCFzm6fa7D7Bvrs5Z4yuaMpyvujQFtPWdCBVaFkROj8p\"\n",
    " \n",
    "# auth = tweepy.OAuthHandler(API_KEY, API_SECRET)\n",
    "# auth.set_access_token(ACCESS_TOKEN, ACCESS_TOKEN_SECRET)\n",
    "# api = tweepy.API(auth)\n",
    "\n",
    "# def get_followers(user, count=100):\n",
    "#     results = api.followers(user, count=count)\n",
    "#     followers = [pd.Series(follower._json) for follower in results]\n",
    "#     df = pd.DataFrame(followers)\n",
    "#     return df\n",
    " \n",
    "# ironhack = get_followers('ironhack')\n",
    "# ironhack.head(10)\n",
    "\n",
    "html = requests.get(url).content\n",
    "\n",
    "soup = BeautifulSoup(html, 'lxml')\n",
    "\n",
    "#crim = soup.find_all('ul', {'class': \"full-grid wanted-grid-natural infinity castle-grid-block-xs-2 castle-grid-block-sm-2castle-grid-block-md-3 castle-grid-block-lg-5 dt-grid\"})\n",
    "\n",
    "soup"
   ]
  },
  {
   "cell_type": "markdown",
   "metadata": {},
   "source": [
    "#### Number of followers of a given twitter account\n",
    "Ask the user for the handle (@handle) of a twitter account. You will need to include a ***try/except block*** for account names not found. \n",
    "<br>***Hint:*** the program should count the followers for any provided account."
   ]
  },
  {
   "cell_type": "code",
   "execution_count": 868,
   "metadata": {},
   "outputs": [],
   "source": [
    "# This is the url you will scrape in this exercise \n",
    "# You will need to add the account credentials to this url\n",
    "url = 'https://twitter.com/soompi'"
   ]
  },
  {
   "cell_type": "code",
   "execution_count": 882,
   "metadata": {},
   "outputs": [
    {
     "ename": "AttributeError",
     "evalue": "'NoneType' object has no attribute 'title'",
     "output_type": "error",
     "traceback": [
      "\u001b[1;31m---------------------------------------------------------------------------\u001b[0m",
      "\u001b[1;31mAttributeError\u001b[0m                            Traceback (most recent call last)",
      "\u001b[1;32m<ipython-input-882-f55b17f5b338>\u001b[0m in \u001b[0;36m<module>\u001b[1;34m\u001b[0m\n\u001b[0;32m      9\u001b[0m \u001b[0mfollow\u001b[0m \u001b[1;33m=\u001b[0m \u001b[0msoup\u001b[0m\u001b[1;33m.\u001b[0m\u001b[0mfind\u001b[0m\u001b[1;33m(\u001b[0m\u001b[1;34m'div'\u001b[0m\u001b[1;33m,\u001b[0m \u001b[1;33m{\u001b[0m\u001b[1;34m'class'\u001b[0m \u001b[1;33m:\u001b[0m \u001b[1;34m'css-1dbjc4n r-ku1wi2 r-1j3t67a r-m611by'\u001b[0m\u001b[1;33m}\u001b[0m\u001b[1;33m)\u001b[0m\u001b[1;33m\u001b[0m\u001b[1;33m\u001b[0m\u001b[0m\n\u001b[0;32m     10\u001b[0m \u001b[1;33m\u001b[0m\u001b[0m\n\u001b[1;32m---> 11\u001b[1;33m \u001b[0mfollow\u001b[0m\u001b[1;33m.\u001b[0m\u001b[0mtitle\u001b[0m\u001b[1;33m\u001b[0m\u001b[1;33m\u001b[0m\u001b[0m\n\u001b[0m",
      "\u001b[1;31mAttributeError\u001b[0m: 'NoneType' object has no attribute 'title'"
     ]
    }
   ],
   "source": [
    "# your code here\n",
    "\n",
    "# html = requests.get(url).content\n",
    "\n",
    "# soup = BeautifulSoup(html, 'lxml')\n",
    "\n",
    "# soup\n",
    "\n",
    "# follow = soup.find('div', {'class' : 'css-1dbjc4n r-ku1wi2 r-1j3t67a r-m611by'})\n",
    "\n",
    "# follow.title"
   ]
  },
  {
   "cell_type": "markdown",
   "metadata": {},
   "source": [
    "#### List all language names and number of related articles in the order they appear in wikipedia.org."
   ]
  },
  {
   "cell_type": "code",
   "execution_count": 790,
   "metadata": {},
   "outputs": [],
   "source": [
    "# This is the url you will scrape in this exercise\n",
    "url = 'https://www.wikipedia.org/'"
   ]
  },
  {
   "cell_type": "code",
   "execution_count": 806,
   "metadata": {},
   "outputs": [
    {
     "name": "stdout",
     "output_type": "stream",
     "text": [
      "All language names and number of related articles in the order they appear in wikipedia.org\n"
     ]
    },
    {
     "data": {
      "text/plain": [
       "[' English 6 168 000+ articles ',\n",
       " ' Español 1 630 000+ artículos ',\n",
       " ' 日本語 1 231 000+ 記事 ',\n",
       " ' Deutsch 2 486 000+ Artikel ',\n",
       " ' Русский 1 665 000+ статей ',\n",
       " ' Français 2 254 000+ articles ',\n",
       " ' Italiano 1 639 000+ voci ',\n",
       " ' 中文 1 150 000+ 條目 ',\n",
       " ' Português 1 044 000+ artigos ',\n",
       " ' العربية 1 068 000+ مقالة ']"
      ]
     },
     "execution_count": 806,
     "metadata": {},
     "output_type": "execute_result"
    }
   ],
   "source": [
    "# your code here\n",
    "\n",
    "html = requests.get(url).content\n",
    "\n",
    "soup = BeautifulSoup(html, 'lxml')\n",
    "\n",
    "#lang = soup.find_all('div', {\"class\":'central-featured'})\n",
    "\n",
    "lang = soup.find_all(class_ = 'link-box')\n",
    "\n",
    "lang = [el.text.replace('\\n',' ').replace('\\xa0',' ') for el in lang]\n",
    "\n",
    "print('All language names and number of related articles in the order they appear in wikipedia.org')\n",
    "lang"
   ]
  },
  {
   "cell_type": "markdown",
   "metadata": {},
   "source": [
    "#### A list with the different kind of datasets available in data.gov.uk."
   ]
  },
  {
   "cell_type": "code",
   "execution_count": 807,
   "metadata": {},
   "outputs": [],
   "source": [
    "# This is the url you will scrape in this exercise\n",
    "url = 'https://data.gov.uk/'"
   ]
  },
  {
   "cell_type": "code",
   "execution_count": 816,
   "metadata": {},
   "outputs": [
    {
     "name": "stdout",
     "output_type": "stream",
     "text": [
      "list with the different kind of datasets available in data.gov.uk:\n"
     ]
    },
    {
     "data": {
      "text/plain": [
       "['Business and economy',\n",
       " 'Crime and justice',\n",
       " 'Defence',\n",
       " 'Education',\n",
       " 'Environment',\n",
       " 'Government',\n",
       " 'Government spending',\n",
       " 'Health',\n",
       " 'Mapping',\n",
       " 'Society',\n",
       " 'Towns and cities',\n",
       " 'Transport']"
      ]
     },
     "execution_count": 816,
     "metadata": {},
     "output_type": "execute_result"
    }
   ],
   "source": [
    "# your code here\n",
    "\n",
    "html = requests.get(url).content\n",
    "\n",
    "soup = BeautifulSoup(html, 'lxml')\n",
    "\n",
    "#dbases = soup.find_all('ul', {\"class\":'govuk-list dgu-topics__list'})\n",
    "\n",
    "dbases = soup.find_all(\"h3\")\n",
    "\n",
    "dbases = [el.text for el in dbases]\n",
    "\n",
    "print(\"list with the different kind of datasets available in data.gov.uk:\")\n",
    "dbases"
   ]
  },
  {
   "cell_type": "markdown",
   "metadata": {},
   "source": [
    "#### Display the top 10 languages by number of native speakers stored in a pandas dataframe."
   ]
  },
  {
   "cell_type": "code",
   "execution_count": 831,
   "metadata": {},
   "outputs": [],
   "source": [
    "# This is the url you will scrape in this exercise\n",
    "url = 'https://en.wikipedia.org/wiki/List_of_languages_by_number_of_native_speakers'"
   ]
  },
  {
   "cell_type": "code",
   "execution_count": 852,
   "metadata": {},
   "outputs": [
    {
     "name": "stdout",
     "output_type": "stream",
     "text": [
      " The top 10 languages by number of native speakers stored in a pandas dataframe:\n"
     ]
    },
    {
     "data": {
      "text/html": [
       "<div>\n",
       "<style scoped>\n",
       "    .dataframe tbody tr th:only-of-type {\n",
       "        vertical-align: middle;\n",
       "    }\n",
       "\n",
       "    .dataframe tbody tr th {\n",
       "        vertical-align: top;\n",
       "    }\n",
       "\n",
       "    .dataframe thead th {\n",
       "        text-align: right;\n",
       "    }\n",
       "</style>\n",
       "<table border=\"1\" class=\"dataframe\">\n",
       "  <thead>\n",
       "    <tr style=\"text-align: right;\">\n",
       "      <th></th>\n",
       "      <th>Rank</th>\n",
       "      <th>Language</th>\n",
       "      <th>Nativespeakersin millions2007 (2010)</th>\n",
       "      <th>Percentageof worldpopulation(2007)</th>\n",
       "    </tr>\n",
       "  </thead>\n",
       "  <tbody>\n",
       "    <tr>\n",
       "      <th>0</th>\n",
       "      <td>1</td>\n",
       "      <td>Mandarin (entire branch)</td>\n",
       "      <td>935 (955)</td>\n",
       "      <td>14.1%</td>\n",
       "    </tr>\n",
       "    <tr>\n",
       "      <th>1</th>\n",
       "      <td>2</td>\n",
       "      <td>Spanish</td>\n",
       "      <td>390 (405)</td>\n",
       "      <td>5.85%</td>\n",
       "    </tr>\n",
       "    <tr>\n",
       "      <th>2</th>\n",
       "      <td>3</td>\n",
       "      <td>English</td>\n",
       "      <td>365 (360)</td>\n",
       "      <td>5.52%</td>\n",
       "    </tr>\n",
       "    <tr>\n",
       "      <th>3</th>\n",
       "      <td>4</td>\n",
       "      <td>Hindi[a]</td>\n",
       "      <td>295 (310)</td>\n",
       "      <td>4.46%</td>\n",
       "    </tr>\n",
       "    <tr>\n",
       "      <th>4</th>\n",
       "      <td>5</td>\n",
       "      <td>Arabic</td>\n",
       "      <td>280 (295)</td>\n",
       "      <td>4.23%</td>\n",
       "    </tr>\n",
       "    <tr>\n",
       "      <th>5</th>\n",
       "      <td>6</td>\n",
       "      <td>Portuguese</td>\n",
       "      <td>205 (215)</td>\n",
       "      <td>3.08%</td>\n",
       "    </tr>\n",
       "    <tr>\n",
       "      <th>6</th>\n",
       "      <td>7</td>\n",
       "      <td>Bengali</td>\n",
       "      <td>200 (205)</td>\n",
       "      <td>3.05%</td>\n",
       "    </tr>\n",
       "    <tr>\n",
       "      <th>7</th>\n",
       "      <td>8</td>\n",
       "      <td>Russian</td>\n",
       "      <td>160 (155)</td>\n",
       "      <td>2.42%</td>\n",
       "    </tr>\n",
       "    <tr>\n",
       "      <th>8</th>\n",
       "      <td>9</td>\n",
       "      <td>Japanese</td>\n",
       "      <td>125 (125)</td>\n",
       "      <td>1.92%</td>\n",
       "    </tr>\n",
       "    <tr>\n",
       "      <th>9</th>\n",
       "      <td>10</td>\n",
       "      <td>Punjabi</td>\n",
       "      <td>95 (100)</td>\n",
       "      <td>1.44%</td>\n",
       "    </tr>\n",
       "  </tbody>\n",
       "</table>\n",
       "</div>"
      ],
      "text/plain": [
       "  Rank                  Language Nativespeakersin millions2007 (2010)  \\\n",
       "0    1  Mandarin (entire branch)                            935 (955)   \n",
       "1    2                   Spanish                            390 (405)   \n",
       "2    3                   English                            365 (360)   \n",
       "3    4                  Hindi[a]                            295 (310)   \n",
       "4    5                    Arabic                            280 (295)   \n",
       "5    6                Portuguese                            205 (215)   \n",
       "6    7                   Bengali                            200 (205)   \n",
       "7    8                   Russian                            160 (155)   \n",
       "8    9                  Japanese                            125 (125)   \n",
       "9   10                   Punjabi                             95 (100)   \n",
       "\n",
       "  Percentageof worldpopulation(2007)  \n",
       "0                              14.1%  \n",
       "1                              5.85%  \n",
       "2                              5.52%  \n",
       "3                              4.46%  \n",
       "4                              4.23%  \n",
       "5                              3.08%  \n",
       "6                              3.05%  \n",
       "7                              2.42%  \n",
       "8                              1.92%  \n",
       "9                              1.44%  "
      ]
     },
     "execution_count": 852,
     "metadata": {},
     "output_type": "execute_result"
    }
   ],
   "source": [
    "# your code here\n",
    "\n",
    "html = requests.get(url).content\n",
    "\n",
    "soup = BeautifulSoup(html, 'lxml')\n",
    "\n",
    "speakers = soup.find_all('table')[2]\n",
    "\n",
    "speakers = speakers.find_all('tr')\n",
    "\n",
    "speakers = [el.text.split(\"\\n\") for el in speakers]\n",
    "\n",
    "speakers = [[x for x in tr if x!=''] for tr in speakers]\n",
    "\n",
    "# speakers = [[x for x in tr if tr!=''] for tr in speakers]\n",
    "\n",
    "speakers\n",
    "\n",
    "speakers_df = pd.DataFrame(speakers[1:11], columns = speakers[0])\n",
    "\n",
    "\n",
    "print(\" The top 10 languages by number of native speakers stored in a pandas dataframe:\")\n",
    "speakers_df"
   ]
  },
  {
   "cell_type": "markdown",
   "metadata": {},
   "source": [
    "## Bonus\n",
    "#### Scrape a certain number of tweets of a given Twitter account."
   ]
  },
  {
   "cell_type": "code",
   "execution_count": null,
   "metadata": {},
   "outputs": [],
   "source": [
    "# This is the url you will scrape in this exercise \n",
    "# You will need to add the account credentials to this url\n",
    "url = 'https://twitter.com/'"
   ]
  },
  {
   "cell_type": "code",
   "execution_count": null,
   "metadata": {},
   "outputs": [],
   "source": [
    "# your code here"
   ]
  },
  {
   "cell_type": "markdown",
   "metadata": {},
   "source": [
    "#### Display IMDB's top 250 data (movie name, initial release, director name and stars) as a pandas dataframe."
   ]
  },
  {
   "cell_type": "code",
   "execution_count": null,
   "metadata": {},
   "outputs": [],
   "source": [
    "# This is the url you will scrape in this exercise \n",
    "url = 'https://www.imdb.com/chart/top'"
   ]
  },
  {
   "cell_type": "code",
   "execution_count": null,
   "metadata": {},
   "outputs": [],
   "source": [
    "# your code here"
   ]
  },
  {
   "cell_type": "markdown",
   "metadata": {},
   "source": [
    "#### Display the movie name, year and a brief summary of the top 10 random movies (IMDB) as a pandas dataframe."
   ]
  },
  {
   "cell_type": "code",
   "execution_count": null,
   "metadata": {},
   "outputs": [],
   "source": [
    "#This is the url you will scrape in this exercise\n",
    "url = 'http://www.imdb.com/chart/top'"
   ]
  },
  {
   "cell_type": "code",
   "execution_count": null,
   "metadata": {},
   "outputs": [],
   "source": [
    "# your code here"
   ]
  },
  {
   "cell_type": "markdown",
   "metadata": {},
   "source": [
    "#### Find the live weather report (temperature, wind speed, description and weather) of a given city."
   ]
  },
  {
   "cell_type": "code",
   "execution_count": null,
   "metadata": {},
   "outputs": [],
   "source": [
    "#https://openweathermap.org/current\n",
    "city = input('Enter the city: ')\n",
    "url = 'http://api.openweathermap.org/data/2.5/weather?'+'q='+city+'&APPID=b35975e18dc93725acb092f7272cc6b8&units=metric'"
   ]
  },
  {
   "cell_type": "code",
   "execution_count": null,
   "metadata": {},
   "outputs": [],
   "source": [
    "# your code here"
   ]
  },
  {
   "cell_type": "markdown",
   "metadata": {},
   "source": [
    "#### Find the book name, price and stock availability as a pandas dataframe."
   ]
  },
  {
   "cell_type": "code",
   "execution_count": null,
   "metadata": {},
   "outputs": [],
   "source": [
    "# This is the url you will scrape in this exercise. \n",
    "# It is a fictional bookstore created to be scraped. \n",
    "url = 'http://books.toscrape.com/'"
   ]
  },
  {
   "cell_type": "code",
   "execution_count": null,
   "metadata": {},
   "outputs": [],
   "source": [
    "# your code here"
   ]
  }
 ],
 "metadata": {
  "kernelspec": {
   "display_name": "Python 3",
   "language": "python",
   "name": "python3"
  },
  "language_info": {
   "codemirror_mode": {
    "name": "ipython",
    "version": 3
   },
   "file_extension": ".py",
   "mimetype": "text/x-python",
   "name": "python",
   "nbconvert_exporter": "python",
   "pygments_lexer": "ipython3",
   "version": "3.8.3"
  }
 },
 "nbformat": 4,
 "nbformat_minor": 2
}
