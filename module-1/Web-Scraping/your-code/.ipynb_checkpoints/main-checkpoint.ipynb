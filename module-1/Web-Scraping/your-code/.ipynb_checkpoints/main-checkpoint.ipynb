{
 "cells": [
  {
   "cell_type": "markdown",
   "metadata": {},
   "source": [
    "# Web Scraping Lab\n",
    "\n",
    "You will find in this notebook some scrapy exercises to practise your scraping skills.\n",
    "\n",
    "**Tips:**\n",
    "\n",
    "- Check the response status code for each request to ensure you have obtained the intended content.\n",
    "- Print the response text in each request to understand the kind of info you are getting and its format.\n",
    "- Check for patterns in the response text to extract the data/info requested in each question.\n",
    "- Visit the urls below and take a look at their source code through Chrome DevTools. You'll need to identify the html tags, special class names, etc used in the html content you are expected to extract.\n",
    "\n",
    "**Resources**:\n",
    "- [Requests library](http://docs.python-requests.org/en/master/#the-user-guide)\n",
    "- [Beautiful Soup Doc](https://www.crummy.com/software/BeautifulSoup/bs4/doc/)\n",
    "- [Urllib](https://docs.python.org/3/library/urllib.html#module-urllib)\n",
    "- [re lib](https://docs.python.org/3/library/re.html)\n",
    "- [lxml lib](https://lxml.de/)\n",
    "- [Scrapy](https://scrapy.org/)\n",
    "- [List of HTTP status codes](https://en.wikipedia.org/wiki/List_of_HTTP_status_codes)\n",
    "- [HTML basics](http://www.simplehtmlguide.com/cheatsheet.php)\n",
    "- [CSS basics](https://www.cssbasics.com/#page_start)"
   ]
  },
  {
   "cell_type": "markdown",
   "metadata": {},
   "source": [
    "#### Below are the libraries and modules you may need. `requests`,  `BeautifulSoup` and `pandas` are already imported for you. If you prefer to use additional libraries feel free to do it."
   ]
  },
  {
   "cell_type": "code",
   "execution_count": 762,
   "metadata": {},
   "outputs": [],
   "source": [
    "import requests\n",
    "from bs4 import BeautifulSoup\n",
    "import pandas as pd\n",
    "import tweepy"
   ]
  },
  {
   "cell_type": "markdown",
   "metadata": {},
   "source": [
    "#### Download, parse (using BeautifulSoup), and print the content from the Trending Developers page from GitHub:"
   ]
  },
  {
   "cell_type": "code",
   "execution_count": 604,
   "metadata": {},
   "outputs": [],
   "source": [
    "# This is the url you will scrape in this exercise\n",
    "url = 'https://github.com/trending/developers'"
   ]
  },
  {
   "cell_type": "code",
   "execution_count": 611,
   "metadata": {},
   "outputs": [
    {
     "data": {
      "text/plain": [
       "['<!DOCTYPE html>',\n",
       " '<html lang=\"en\">',\n",
       " ' <head>',\n",
       " '  <meta charset=\"utf-8\"/>',\n",
       " '  <link href=\"https://github.githubassets.com\" rel=\"dns-prefetch\"/>',\n",
       " '  <link href=\"https://avatars0.githubusercontent.com\" rel=\"dns-prefetch\"/>',\n",
       " '  <link href=\"https://avatars1.githubusercontent.com\" rel=\"dns-prefetch\"/>',\n",
       " '  <link href=\"https://avatars2.githubusercontent.com\" rel=\"dns-prefetch\"/>',\n",
       " '  <link href=\"https://avatars3.githubusercontent.com\" rel=\"dns-prefetch\"/>',\n",
       " '  <link href=\"https://github-cloud.s3.amazonaws.com\" rel=\"dns-prefetch\"/>']"
      ]
     },
     "execution_count": 611,
     "metadata": {},
     "output_type": "execute_result"
    }
   ],
   "source": [
    "# your code here\n",
    "html = requests.get(url).content\n",
    "\n",
    "soup = BeautifulSoup(html, 'lxml')\n",
    "\n",
    "#soup\n",
    "\n",
    "#partial print\n",
    "soup.prettify().splitlines()[:10]"
   ]
  },
  {
   "cell_type": "markdown",
   "metadata": {},
   "source": [
    "#### Display the names of the trending developers retrieved in the previous step.\n",
    "\n",
    "Your output should be a Python list of developer names. Each name should not contain any html tag.\n",
    "\n",
    "**Instructions:**\n",
    "\n",
    "1. Find out the html tag and class names used for the developer names. You can achieve this using Chrome DevTools.\n",
    "\n",
    "1. Use BeautifulSoup to extract all the html elements that contain the developer names.\n",
    "\n",
    "1. Use string manipulation techniques to replace whitespaces and linebreaks (i.e. `\\n`) in the *text* of each html element. Use a list to store the clean names.\n",
    "\n",
    "1. Print the list of names.\n",
    "\n",
    "Your output should look like below:\n",
    "\n",
    "```\n",
    "['trimstray (@trimstray)',\n",
    " 'joewalnes (JoeWalnes)',\n",
    " 'charlax (Charles-AxelDein)',\n",
    " 'ForrestKnight (ForrestKnight)',\n",
    " 'revery-ui (revery-ui)',\n",
    " 'alibaba (Alibaba)',\n",
    " 'Microsoft (Microsoft)',\n",
    " 'github (GitHub)',\n",
    " 'facebook (Facebook)',\n",
    " 'boazsegev (Bo)',\n",
    " 'google (Google)',\n",
    " 'cloudfetch',\n",
    " 'sindresorhus (SindreSorhus)',\n",
    " 'tensorflow',\n",
    " 'apache (TheApacheSoftwareFoundation)',\n",
    " 'DevonCrawford (DevonCrawford)',\n",
    " 'ARMmbed (ArmMbed)',\n",
    " 'vuejs (vuejs)',\n",
    " 'fastai (fast.ai)',\n",
    " 'QiShaoXuan (Qi)',\n",
    " 'joelparkerhenderson (JoelParkerHenderson)',\n",
    " 'torvalds (LinusTorvalds)',\n",
    " 'CyC2018',\n",
    " 'komeiji-satori (神楽坂覚々)',\n",
    " 'script-8']\n",
    " ```"
   ]
  },
  {
   "cell_type": "code",
   "execution_count": 159,
   "metadata": {},
   "outputs": [
    {
     "data": {
      "text/plain": [
       "['LevelOne_David Khourshid ',\n",
       " 'LevelTwo_davidkpiano ',\n",
       " 'LevelOne_Stephen Celis ',\n",
       " 'LevelTwo_stephencelis ',\n",
       " 'LevelOne_Mariusz Nowak ']"
      ]
     },
     "execution_count": 159,
     "metadata": {},
     "output_type": "execute_result"
    }
   ],
   "source": [
    "# your code here\n",
    "\n",
    "# #cdict = {'class' : 'explore-pjax-container container-lg p-responsive pt-6'}\n",
    "# cdict = {'class': \"h0-mktg\"}\n",
    "# table = soup.find_all('table', cdict)\n",
    "# table\n",
    "\n",
    "tags = ['h1','p']\n",
    "\n",
    "text = [element.text.replace('\\n',\"\") for element in soup.find_all(tags) if element.text.find('\\n\\n            ') == 0]\n",
    "\n",
    "text = [element.replace('            ','LevelOne_') if element.find('              ') != 0 else element for element in text]\n",
    "\n",
    "text = [element.replace('              ','LevelTwo_') for element in text]\n",
    "\n",
    "text[:5]"
   ]
  },
  {
   "cell_type": "code",
   "execution_count": 157,
   "metadata": {},
   "outputs": [],
   "source": [
    "l =[]\n",
    "for num in range(len(text)-1):\n",
    "    if text[num].find('LevelTwo') == -1:\n",
    "        if (text[num].find('LevelOne') == 0) & (text[num+1].find('LevelTwo')) == 0:\n",
    "            l.append((text[num].replace('LevelOne_',''), text[num+1].replace('LevelTwo_','')))\n",
    "        if (text[num].find('LevelOne') == 0) & (text[num+1].find('LevelOne')) == 0:\n",
    "            l.append((text[num].replace('LevelOne_',''),\"\"))"
   ]
  },
  {
   "cell_type": "code",
   "execution_count": 158,
   "metadata": {},
   "outputs": [
    {
     "data": {
      "text/plain": [
       "['David Khourshid (davidkpiano )',\n",
       " 'Stephen Celis (stephencelis )',\n",
       " 'Mariusz Nowak (medikoo )',\n",
       " 'XhmikosR ()',\n",
       " 'Jared Palmer (jaredpalmer )',\n",
       " 'Mr.doob (mrdoob )',\n",
       " 'Clément Renault (Kerollmops )',\n",
       " 'Christophe Coevoet (stof )',\n",
       " 'Mladen Macanović (stsrki )',\n",
       " 'Michał Lytek (MichalLytek )',\n",
       " 'Manoj Vivek (manojVivek )',\n",
       " 'Anthony Sottile (asottile )',\n",
       " 'Leonardo Grasso (leogr )',\n",
       " 'Andrey Sidorov (sidorares )',\n",
       " 'Raphaël Benitte (plouc )',\n",
       " 'Luis Alvarez D. (lfades )',\n",
       " 'Rick Waldron (rwaldron )',\n",
       " 'chriseth ()',\n",
       " '0xflotus (0xflotus )',\n",
       " 'Simon Baslé (simonbasle )',\n",
       " 'Rijk van Zanten (rijkvanzanten )',\n",
       " 'Pete Cook (cookpete )',\n",
       " 'Nishant Srivastava (nisrulz )',\n",
       " 'Samuel Colvin (samuelcolvin )',\n",
       " 'Natalie Weizenbaum (nex3 )']"
      ]
     },
     "execution_count": 158,
     "metadata": {},
     "output_type": "execute_result"
    }
   ],
   "source": [
    "developers = [el[0]+\"(\"+el[1]+')' for el in l]\n",
    "\n",
    "developers"
   ]
  },
  {
   "cell_type": "markdown",
   "metadata": {},
   "source": [
    "#### Display the trending Python repositories in GitHub.\n",
    "\n",
    "The steps to solve this problem is similar to the previous one except that you need to find out the repository names instead of developer names."
   ]
  },
  {
   "cell_type": "code",
   "execution_count": 612,
   "metadata": {},
   "outputs": [
    {
     "data": {
      "text/plain": [
       "['<!DOCTYPE html>',\n",
       " '<html lang=\"en\">',\n",
       " ' <head>',\n",
       " '  <meta charset=\"utf-8\"/>',\n",
       " '  <link href=\"https://github.githubassets.com\" rel=\"dns-prefetch\"/>',\n",
       " '  <link href=\"https://avatars0.githubusercontent.com\" rel=\"dns-prefetch\"/>',\n",
       " '  <link href=\"https://avatars1.githubusercontent.com\" rel=\"dns-prefetch\"/>',\n",
       " '  <link href=\"https://avatars2.githubusercontent.com\" rel=\"dns-prefetch\"/>',\n",
       " '  <link href=\"https://avatars3.githubusercontent.com\" rel=\"dns-prefetch\"/>',\n",
       " '  <link href=\"https://github-cloud.s3.amazonaws.com\" rel=\"dns-prefetch\"/>']"
      ]
     },
     "execution_count": 612,
     "metadata": {},
     "output_type": "execute_result"
    }
   ],
   "source": [
    "# This is the url you will scrape in this exercise\n",
    "url = 'https://github.com/trending/python?since=daily'\n",
    "\n",
    "html = requests.get(url).content\n",
    "\n",
    "soup = BeautifulSoup(html, 'lxml')\n",
    "\n",
    "#soup\n",
    "\n",
    "#partial print\n",
    "soup.prettify().splitlines()[:10]"
   ]
  },
  {
   "cell_type": "code",
   "execution_count": 321,
   "metadata": {},
   "outputs": [
    {
     "data": {
      "text/plain": [
       "['3b1b / manim ',\n",
       " 'donnemartin / system-design-primer ',\n",
       " 'MrS0m30n3 / youtube-dl-gui ',\n",
       " 'blackjack4494 / yt-dlc ',\n",
       " 'quantopian / zipline ',\n",
       " 'kangvcar / InfoSpider ',\n",
       " 'chubin / cheat.sh ',\n",
       " 'lrvick / youtube-dl ',\n",
       " 'plotly / dash ',\n",
       " 'huggingface / transformers ',\n",
       " 'youtube-dl2 / youtube-dl ',\n",
       " 'horovod / horovod ',\n",
       " 'alexa / bort ',\n",
       " 'Pitt-CSC / Summer2021-Internships ',\n",
       " 'chandrikadeb7 / Face-Mask-Detection ',\n",
       " 'The-Art-of-Hacking / h4cker ',\n",
       " 'facebookresearch / cc_net ',\n",
       " 'returntocorp / semgrep ',\n",
       " 'y1ndan / genshin-impact-helper ',\n",
       " 'soimort / you-get ',\n",
       " 'aristocratos / bpytop ',\n",
       " 'wagtail / wagtail ',\n",
       " 'Hari-Nagarajan / nvidia-bot ',\n",
       " 'AlexxIT / SonoffLAN ',\n",
       " 'pre-commit / pre-commit ']"
      ]
     },
     "execution_count": 321,
     "metadata": {},
     "output_type": "execute_result"
    }
   ],
   "source": [
    "#your code\n",
    "\n",
    "table = soup.find_all(class_ = \"h3 lh-condensed\")\n",
    "\n",
    "reps = [element.text.replace('\\n\\n\\n\\n        ',\"\").replace(' /\\n\\n      ', ' / ').replace('\\n', '') for element in table]\n",
    "\n",
    "reps"
   ]
  },
  {
   "cell_type": "markdown",
   "metadata": {},
   "source": [
    "#### Display all the image links from Walt Disney wikipedia page."
   ]
  },
  {
   "cell_type": "code",
   "execution_count": 472,
   "metadata": {},
   "outputs": [],
   "source": [
    "# This is the url you will scrape in this exercise\n",
    "url = 'https://en.wikipedia.org/wiki/Walt_Disney'"
   ]
  },
  {
   "cell_type": "code",
   "execution_count": 474,
   "metadata": {},
   "outputs": [
    {
     "data": {
      "text/plain": [
       "['//upload.wikimedia.org/wikipedia/en/thumb/e/e7/Cscr-featured.svg/20px-Cscr-featured.svg.png',\n",
       " '//upload.wikimedia.org/wikipedia/en/thumb/8/8c/Extended-protection-shackle.svg/20px-Extended-protection-shackle.svg.png',\n",
       " '//upload.wikimedia.org/wikipedia/commons/thumb/d/df/Walt_Disney_1946.JPG/220px-Walt_Disney_1946.JPG',\n",
       " '//upload.wikimedia.org/wikipedia/commons/thumb/8/87/Walt_Disney_1942_signature.svg/150px-Walt_Disney_1942_signature.svg.png',\n",
       " '//upload.wikimedia.org/wikipedia/commons/thumb/c/c4/Walt_Disney_envelope_ca._1921.jpg/220px-Walt_Disney_envelope_ca._1921.jpg',\n",
       " '//upload.wikimedia.org/wikipedia/commons/thumb/4/4d/Newman_Laugh-O-Gram_%281921%29.webm/220px-seek%3D2-Newman_Laugh-O-Gram_%281921%29.webm.jpg',\n",
       " '//upload.wikimedia.org/wikipedia/commons/thumb/0/0d/Trolley_Troubles_poster.jpg/170px-Trolley_Troubles_poster.jpg',\n",
       " '//upload.wikimedia.org/wikipedia/commons/thumb/7/71/Walt_Disney_and_his_cartoon_creation_%22Mickey_Mouse%22_-_National_Board_of_Review_Magazine.jpg/170px-Walt_Disney_and_his_cartoon_creation_%22Mickey_Mouse%22_-_National_Board_of_Review_Magazine.jpg',\n",
       " '//upload.wikimedia.org/wikipedia/en/thumb/4/4e/Steamboat-willie.jpg/170px-Steamboat-willie.jpg',\n",
       " '//upload.wikimedia.org/wikipedia/commons/thumb/5/57/Walt_Disney_1935.jpg/170px-Walt_Disney_1935.jpg']"
      ]
     },
     "execution_count": 474,
     "metadata": {},
     "output_type": "execute_result"
    }
   ],
   "source": [
    "# your code here\n",
    "html = requests.get(url).content\n",
    "\n",
    "soup = BeautifulSoup(html, 'lxml')\n",
    "\n",
    "table = soup.findAll('img')\n",
    "\n",
    "table = [element['src'] for element in table]\n",
    "\n",
    "table[:10]"
   ]
  },
  {
   "cell_type": "code",
   "execution_count": 460,
   "metadata": {},
   "outputs": [
    {
     "data": {
      "text/plain": [
       "['/wiki/File:Walt_Disney_1946.JPG',\n",
       " '/wiki/File:Walt_Disney_1942_signature.svg',\n",
       " '/wiki/File:Walt_Disney_envelope_ca._1921.jpg',\n",
       " '/wiki/File:Trolley_Troubles_poster.jpg',\n",
       " '/wiki/File:Walt_Disney_and_his_cartoon_creation_%22Mickey_Mouse%22_-_National_Board_of_Review_Magazine.jpg',\n",
       " '/wiki/File:Steamboat-willie.jpg',\n",
       " '/wiki/File:Walt_Disney_1935.jpg',\n",
       " '/wiki/File:Walt_Disney_Snow_white_1937_trailer_screenshot_(13).jpg',\n",
       " '/wiki/File:Disney_drawing_goofy.jpg',\n",
       " '/wiki/File:DisneySchiphol1951.jpg',\n",
       " '/wiki/File:WaltDisneyplansDisneylandDec1954.jpg',\n",
       " '/wiki/File:Walt_disney_portrait_right.jpg',\n",
       " '/wiki/File:Walt_Disney_Grave.JPG',\n",
       " '/wiki/File:Roy_O._Disney_with_Company_at_Press_Conference.jpg',\n",
       " '/wiki/File:Disney_Display_Case.JPG',\n",
       " '/wiki/File:Disney1968.jpg',\n",
       " '/wiki/File:Animation_disc.svg',\n",
       " '/wiki/File:P_vip.svg',\n",
       " '/wiki/File:Magic_Kingdom_castle.jpg',\n",
       " '/wiki/File:Video-x-generic.svg',\n",
       " '/wiki/File:Flag_of_Los_Angeles_County,_California.svg',\n",
       " '/wiki/File:Blank_television_set.svg',\n",
       " '/wiki/File:Flag_of_the_United_States.svg']"
      ]
     },
     "execution_count": 460,
     "metadata": {},
     "output_type": "execute_result"
    }
   ],
   "source": [
    "#version 2\n",
    "table = soup.find_all(class_ = 'image')\n",
    "table = [element['href'] for element in table]\n",
    "table"
   ]
  },
  {
   "cell_type": "code",
   "execution_count": null,
   "metadata": {},
   "outputs": [],
   "source": [
    "# version 3\n",
    "# # images = soup.findAll('img')\n",
    "# # for image in images:\n",
    "# #     print(image['src'])"
   ]
  },
  {
   "cell_type": "markdown",
   "metadata": {},
   "source": [
    "#### Retrieve an arbitary Wikipedia page of \"Python\" and create a list of links on that page."
   ]
  },
  {
   "cell_type": "code",
   "execution_count": 622,
   "metadata": {},
   "outputs": [],
   "source": [
    "# This is the url you will scrape in this exercise\n",
    "url ='https://en.wikipedia.org/wiki/Python' "
   ]
  },
  {
   "cell_type": "code",
   "execution_count": 623,
   "metadata": {},
   "outputs": [
    {
     "name": "stdout",
     "output_type": "stream",
     "text": [
      "List of links:\n"
     ]
    },
    {
     "data": {
      "text/plain": [
       "['https://en.wiktionary.org/wiki/Python',\n",
       " 'https://en.wiktionary.org/wiki/python',\n",
       " '/wiki/Pythons',\n",
       " '/wiki/Python_(genus)',\n",
       " '/w/index.php?title=Python&action=edit&section=1',\n",
       " '/wiki/Python_(programming_language)',\n",
       " '/wiki/CMU_Common_Lisp',\n",
       " '/wiki/PERQ#PERQ_3',\n",
       " '/w/index.php?title=Python&action=edit&section=2',\n",
       " '/wiki/Python_of_Aenus',\n",
       " '/wiki/Python_(painter)',\n",
       " '/wiki/Python_of_Byzantium',\n",
       " '/wiki/Python_of_Catana',\n",
       " '/wiki/Python_Anghelo',\n",
       " '/w/index.php?title=Python&action=edit&section=3',\n",
       " '/wiki/Python_(Efteling)',\n",
       " '/wiki/Python_(Busch_Gardens_Tampa_Bay)',\n",
       " '/wiki/Python_(Coney_Island,_Cincinnati,_Ohio)',\n",
       " '/w/index.php?title=Python&action=edit&section=4',\n",
       " '/wiki/Python_(automobile_maker)',\n",
       " '/wiki/Python_(Ford_prototype)',\n",
       " '/w/index.php?title=Python&action=edit&section=5',\n",
       " '/wiki/Python_(missile)',\n",
       " '/wiki/Python_(nuclear_primary)',\n",
       " '/wiki/Colt_Python',\n",
       " '/w/index.php?title=Python&action=edit&section=6',\n",
       " '/wiki/PYTHON',\n",
       " '/wiki/Python_(film)',\n",
       " '/wiki/Python_(mythology)',\n",
       " '/wiki/Monty_Python',\n",
       " '/wiki/Python_(Monty)_Pictures',\n",
       " '/w/index.php?title=Python&action=edit&section=7',\n",
       " '/wiki/Cython',\n",
       " '/wiki/Pyton',\n",
       " '/wiki/Pithon',\n",
       " '/wiki/File:Disambig_gray.svg',\n",
       " '/wiki/Help:Disambiguation',\n",
       " 'https://en.wikipedia.org/w/index.php?title=Special:WhatLinksHere/Python&namespace=0']"
      ]
     },
     "execution_count": 623,
     "metadata": {},
     "output_type": "execute_result"
    }
   ],
   "source": [
    "# your code here\n",
    "\n",
    "html = requests.get(url).content\n",
    "\n",
    "soup = BeautifulSoup(html, 'lxml')\n",
    "\n",
    "soup = soup.find(\"div\", {\"class\": 'mw-parser-output'})\n",
    "\n",
    "soup.find('div', {\"class\": 'tocright'}).decompose()\n",
    "\n",
    "table = soup.find_all('a', href=True)\n",
    "\n",
    "links = [el['href'] for el in table]\n",
    "\n",
    "print('List of links:')\n",
    "links"
   ]
  },
  {
   "cell_type": "markdown",
   "metadata": {},
   "source": [
    "#### Find the number of titles that have changed in the United States Code since its last release point."
   ]
  },
  {
   "cell_type": "code",
   "execution_count": 613,
   "metadata": {},
   "outputs": [],
   "source": [
    "# This is the url you will scrape in this exercise\n",
    "url = 'http://uscode.house.gov/download/download.shtml'"
   ]
  },
  {
   "cell_type": "code",
   "execution_count": 620,
   "metadata": {},
   "outputs": [
    {
     "name": "stdout",
     "output_type": "stream",
     "text": [
      "The number of titles that have changed in the United States Code since its last release point\n",
      " 11\n"
     ]
    }
   ],
   "source": [
    "# your code here\n",
    "\n",
    "html = requests.get(url).content\n",
    "\n",
    "soup = BeautifulSoup(html, 'lxml')\n",
    "\n",
    "changed = soup.find_all(class_ = 'usctitlechanged')\n",
    "\n",
    "changed = [element for element in changed]\n",
    "\n",
    "print(\"The number of titles that have changed in the United States Code since its last release point\\n\",len(changed))"
   ]
  },
  {
   "cell_type": "markdown",
   "metadata": {},
   "source": [
    "#### Find a Python list with the top ten FBI's Most Wanted names."
   ]
  },
  {
   "cell_type": "code",
   "execution_count": 625,
   "metadata": {},
   "outputs": [],
   "source": [
    "# This is the url you will scrape in this exercise\n",
    "url = 'https://www.fbi.gov/wanted/topten'"
   ]
  },
  {
   "cell_type": "code",
   "execution_count": 644,
   "metadata": {},
   "outputs": [
    {
     "name": "stdout",
     "output_type": "stream",
     "text": [
      "List with the top ten FBI's Most Wanted names:\n",
      " ['JASON DEREK BROWN', 'ALEXIS FLORES', 'JOSE RODOLFO VILLARREAL-HERNANDEZ', 'EUGENE PALMER', 'RAFAEL CARO-QUINTERO', 'ROBERT WILLIAM FISHER', 'BHADRESHKUMAR CHETANBHAI PATEL', 'ALEJANDRO ROSALES CASTILLO', 'ARNOLDO JIMENEZ', 'YASER ABDEL SAID']\n"
     ]
    }
   ],
   "source": [
    "# your code here\n",
    "\n",
    "html = requests.get(url).content\n",
    "\n",
    "soup = BeautifulSoup(html, 'lxml')\n",
    "\n",
    "#crim = soup.find_all('ul', {'class': \"full-grid wanted-grid-natural infinity castle-grid-block-xs-2 castle-grid-block-sm-2castle-grid-block-md-3 castle-grid-block-lg-5 dt-grid\"})\n",
    "\n",
    "crim = soup.find_all(class_ =\"title\")\n",
    "\n",
    "crim = [el.text.replace('\\n',\"\") for el in crim]\n",
    "\n",
    "crim = crim[1:]\n",
    "\n",
    "print(\"List with the top ten FBI's Most Wanted names:\\n\", crim)"
   ]
  },
  {
   "cell_type": "markdown",
   "metadata": {},
   "source": [
    "####  Display the 20 latest earthquakes info (date, time, latitude, longitude and region name) by the EMSC as a pandas dataframe."
   ]
  },
  {
   "cell_type": "code",
   "execution_count": 645,
   "metadata": {},
   "outputs": [],
   "source": [
    "# This is the url you will scrape in this exercise\n",
    "url = 'https://www.emsc-csem.org/Earthquake/'"
   ]
  },
  {
   "cell_type": "code",
   "execution_count": 759,
   "metadata": {},
   "outputs": [
    {
     "name": "stdout",
     "output_type": "stream",
     "text": [
      "The 20 latest earthquakes info:\n"
     ]
    },
    {
     "data": {
      "text/html": [
       "<div>\n",
       "<style scoped>\n",
       "    .dataframe tbody tr th:only-of-type {\n",
       "        vertical-align: middle;\n",
       "    }\n",
       "\n",
       "    .dataframe tbody tr th {\n",
       "        vertical-align: top;\n",
       "    }\n",
       "\n",
       "    .dataframe thead th {\n",
       "        text-align: right;\n",
       "    }\n",
       "</style>\n",
       "<table border=\"1\" class=\"dataframe\">\n",
       "  <thead>\n",
       "    <tr style=\"text-align: right;\">\n",
       "      <th></th>\n",
       "      <th>date</th>\n",
       "      <th>time</th>\n",
       "      <th>Latitude</th>\n",
       "      <th>Latitude degrees</th>\n",
       "      <th>Longtitude</th>\n",
       "      <th>Longtitude degrees</th>\n",
       "      <th>Magnitude</th>\n",
       "      <th>Region</th>\n",
       "    </tr>\n",
       "  </thead>\n",
       "  <tbody>\n",
       "    <tr>\n",
       "      <th>0</th>\n",
       "      <td>2020-10-30</td>\n",
       "      <td>21:14:14.8</td>\n",
       "      <td>N</td>\n",
       "      <td>37.88</td>\n",
       "      <td>26.86</td>\n",
       "      <td>E</td>\n",
       "      <td>8ML2.6</td>\n",
       "      <td>DODECANESE ISLANDS, GREECE</td>\n",
       "    </tr>\n",
       "    <tr>\n",
       "      <th>1</th>\n",
       "      <td>2020-10-30</td>\n",
       "      <td>21:01:43.9</td>\n",
       "      <td>N</td>\n",
       "      <td>37.92</td>\n",
       "      <td>26.96</td>\n",
       "      <td>E</td>\n",
       "      <td>10ML2.5</td>\n",
       "      <td>DODECANESE ISLANDS, GREECE</td>\n",
       "    </tr>\n",
       "    <tr>\n",
       "      <th>2</th>\n",
       "      <td>2020-10-30</td>\n",
       "      <td>20:58:51.6</td>\n",
       "      <td>N</td>\n",
       "      <td>37.85</td>\n",
       "      <td>26.93</td>\n",
       "      <td>E</td>\n",
       "      <td>10ML2.7</td>\n",
       "      <td>DODECANESE ISLANDS, GREECE</td>\n",
       "    </tr>\n",
       "    <tr>\n",
       "      <th>3</th>\n",
       "      <td>2020-10-30</td>\n",
       "      <td>20:53:49.1</td>\n",
       "      <td>N</td>\n",
       "      <td>37.90</td>\n",
       "      <td>26.74</td>\n",
       "      <td>E</td>\n",
       "      <td>7ML2.2</td>\n",
       "      <td>DODECANESE ISLANDS, GREECE</td>\n",
       "    </tr>\n",
       "    <tr>\n",
       "      <th>4</th>\n",
       "      <td>2020-10-30</td>\n",
       "      <td>20:50:09.4</td>\n",
       "      <td>N</td>\n",
       "      <td>37.84</td>\n",
       "      <td>26.89</td>\n",
       "      <td>E</td>\n",
       "      <td>10ML2.8</td>\n",
       "      <td>DODECANESE ISLANDS, GREECE</td>\n",
       "    </tr>\n",
       "    <tr>\n",
       "      <th>5</th>\n",
       "      <td>2020-10-30</td>\n",
       "      <td>20:41:44.7</td>\n",
       "      <td>N</td>\n",
       "      <td>37.88</td>\n",
       "      <td>26.84</td>\n",
       "      <td>E</td>\n",
       "      <td>8ML2.8</td>\n",
       "      <td>DODECANESE ISLANDS, GREECE</td>\n",
       "    </tr>\n",
       "    <tr>\n",
       "      <th>6</th>\n",
       "      <td>2020-10-30</td>\n",
       "      <td>20:38:56.0</td>\n",
       "      <td>N</td>\n",
       "      <td>37.82</td>\n",
       "      <td>26.96</td>\n",
       "      <td>E</td>\n",
       "      <td>8ML3.2</td>\n",
       "      <td>DODECANESE ISLANDS, GREECE</td>\n",
       "    </tr>\n",
       "    <tr>\n",
       "      <th>7</th>\n",
       "      <td>2020-10-30</td>\n",
       "      <td>20:33:31.8</td>\n",
       "      <td>N</td>\n",
       "      <td>37.86</td>\n",
       "      <td>26.95</td>\n",
       "      <td>E</td>\n",
       "      <td>6ML2.4</td>\n",
       "      <td>DODECANESE ISLANDS, GREECE</td>\n",
       "    </tr>\n",
       "    <tr>\n",
       "      <th>8</th>\n",
       "      <td>2020-10-30</td>\n",
       "      <td>20:32:50.0</td>\n",
       "      <td>N</td>\n",
       "      <td>12.46</td>\n",
       "      <td>125.47</td>\n",
       "      <td>E</td>\n",
       "      <td>1 M4.2</td>\n",
       "      <td>SAMAR, PHILIPPINES</td>\n",
       "    </tr>\n",
       "    <tr>\n",
       "      <th>9</th>\n",
       "      <td>2020-10-30</td>\n",
       "      <td>20:31:34.8</td>\n",
       "      <td>N</td>\n",
       "      <td>37.85</td>\n",
       "      <td>26.93</td>\n",
       "      <td>E</td>\n",
       "      <td>7ML2.0</td>\n",
       "      <td>DODECANESE ISLANDS, GREECE</td>\n",
       "    </tr>\n",
       "    <tr>\n",
       "      <th>10</th>\n",
       "      <td>2020-10-30</td>\n",
       "      <td>20:27:02.6</td>\n",
       "      <td>N</td>\n",
       "      <td>37.83</td>\n",
       "      <td>26.73</td>\n",
       "      <td>E</td>\n",
       "      <td>7ML2.7</td>\n",
       "      <td>DODECANESE ISLANDS, GREECE</td>\n",
       "    </tr>\n",
       "    <tr>\n",
       "      <th>11</th>\n",
       "      <td>2020-10-30</td>\n",
       "      <td>20:24:45.5</td>\n",
       "      <td>N</td>\n",
       "      <td>37.86</td>\n",
       "      <td>26.92</td>\n",
       "      <td>E</td>\n",
       "      <td>12ML3.3</td>\n",
       "      <td>DODECANESE ISLANDS, GREECE</td>\n",
       "    </tr>\n",
       "    <tr>\n",
       "      <th>12</th>\n",
       "      <td>2020-10-30</td>\n",
       "      <td>20:24:15.0</td>\n",
       "      <td>S</td>\n",
       "      <td>2.28</td>\n",
       "      <td>119.11</td>\n",
       "      <td>E</td>\n",
       "      <td>10 M2.8</td>\n",
       "      <td>SULAWESI, INDONESIA</td>\n",
       "    </tr>\n",
       "    <tr>\n",
       "      <th>13</th>\n",
       "      <td>2020-10-30</td>\n",
       "      <td>20:22:09.1</td>\n",
       "      <td>N</td>\n",
       "      <td>37.80</td>\n",
       "      <td>26.39</td>\n",
       "      <td>E</td>\n",
       "      <td>10ML3.1</td>\n",
       "      <td>DODECANESE ISLANDS, GREECE</td>\n",
       "    </tr>\n",
       "    <tr>\n",
       "      <th>14</th>\n",
       "      <td>2020-10-30</td>\n",
       "      <td>20:21:44.0</td>\n",
       "      <td>S</td>\n",
       "      <td>33.57</td>\n",
       "      <td>72.01</td>\n",
       "      <td>W</td>\n",
       "      <td>18ML2.5</td>\n",
       "      <td>OFFSHORE VALPARAISO, CHILE</td>\n",
       "    </tr>\n",
       "    <tr>\n",
       "      <th>15</th>\n",
       "      <td>2020-10-30</td>\n",
       "      <td>20:18:49.4</td>\n",
       "      <td>N</td>\n",
       "      <td>44.36</td>\n",
       "      <td>115.21</td>\n",
       "      <td>W</td>\n",
       "      <td>15Ml2.9</td>\n",
       "      <td>SOUTHERN IDAHO</td>\n",
       "    </tr>\n",
       "    <tr>\n",
       "      <th>16</th>\n",
       "      <td>2020-10-30</td>\n",
       "      <td>20:15:32.8</td>\n",
       "      <td>N</td>\n",
       "      <td>37.85</td>\n",
       "      <td>26.87</td>\n",
       "      <td>E</td>\n",
       "      <td>5ML2.5</td>\n",
       "      <td>DODECANESE ISLANDS, GREECE</td>\n",
       "    </tr>\n",
       "    <tr>\n",
       "      <th>17</th>\n",
       "      <td>2020-10-30</td>\n",
       "      <td>20:13:46.0</td>\n",
       "      <td>N</td>\n",
       "      <td>37.96</td>\n",
       "      <td>26.97</td>\n",
       "      <td>E</td>\n",
       "      <td>7ML2.0</td>\n",
       "      <td>DODECANESE ISLANDS, GREECE</td>\n",
       "    </tr>\n",
       "    <tr>\n",
       "      <th>18</th>\n",
       "      <td>2020-10-30</td>\n",
       "      <td>20:12:53.5</td>\n",
       "      <td>N</td>\n",
       "      <td>39.77</td>\n",
       "      <td>75.85</td>\n",
       "      <td>E</td>\n",
       "      <td>100mb4.6</td>\n",
       "      <td>SOUTHERN XINJIANG, CHINA</td>\n",
       "    </tr>\n",
       "    <tr>\n",
       "      <th>19</th>\n",
       "      <td>2020-10-30</td>\n",
       "      <td>20:12:32.8</td>\n",
       "      <td>N</td>\n",
       "      <td>37.88</td>\n",
       "      <td>26.89</td>\n",
       "      <td>E</td>\n",
       "      <td>8ML2.4</td>\n",
       "      <td>DODECANESE ISLANDS, GREECE</td>\n",
       "    </tr>\n",
       "  </tbody>\n",
       "</table>\n",
       "</div>"
      ],
      "text/plain": [
       "          date        time Latitude Latitude degrees Longtitude  \\\n",
       "0   2020-10-30  21:14:14.8        N            37.88      26.86   \n",
       "1   2020-10-30  21:01:43.9        N            37.92      26.96   \n",
       "2   2020-10-30  20:58:51.6        N            37.85      26.93   \n",
       "3   2020-10-30  20:53:49.1        N            37.90      26.74   \n",
       "4   2020-10-30  20:50:09.4        N            37.84      26.89   \n",
       "5   2020-10-30  20:41:44.7        N            37.88      26.84   \n",
       "6   2020-10-30  20:38:56.0        N            37.82      26.96   \n",
       "7   2020-10-30  20:33:31.8        N            37.86      26.95   \n",
       "8   2020-10-30  20:32:50.0        N            12.46     125.47   \n",
       "9   2020-10-30  20:31:34.8        N            37.85      26.93   \n",
       "10  2020-10-30  20:27:02.6        N            37.83      26.73   \n",
       "11  2020-10-30  20:24:45.5        N            37.86      26.92   \n",
       "12  2020-10-30  20:24:15.0        S             2.28     119.11   \n",
       "13  2020-10-30  20:22:09.1        N            37.80      26.39   \n",
       "14  2020-10-30  20:21:44.0        S            33.57      72.01   \n",
       "15  2020-10-30  20:18:49.4        N            44.36     115.21   \n",
       "16  2020-10-30  20:15:32.8        N            37.85      26.87   \n",
       "17  2020-10-30  20:13:46.0        N            37.96      26.97   \n",
       "18  2020-10-30  20:12:53.5        N            39.77      75.85   \n",
       "19  2020-10-30  20:12:32.8        N            37.88      26.89   \n",
       "\n",
       "   Longtitude degrees Magnitude                      Region  \n",
       "0                   E    8ML2.6  DODECANESE ISLANDS, GREECE  \n",
       "1                   E   10ML2.5  DODECANESE ISLANDS, GREECE  \n",
       "2                   E   10ML2.7  DODECANESE ISLANDS, GREECE  \n",
       "3                   E    7ML2.2  DODECANESE ISLANDS, GREECE  \n",
       "4                   E   10ML2.8  DODECANESE ISLANDS, GREECE  \n",
       "5                   E    8ML2.8  DODECANESE ISLANDS, GREECE  \n",
       "6                   E    8ML3.2  DODECANESE ISLANDS, GREECE  \n",
       "7                   E    6ML2.4  DODECANESE ISLANDS, GREECE  \n",
       "8                   E    1 M4.2          SAMAR, PHILIPPINES  \n",
       "9                   E    7ML2.0  DODECANESE ISLANDS, GREECE  \n",
       "10                  E    7ML2.7  DODECANESE ISLANDS, GREECE  \n",
       "11                  E   12ML3.3  DODECANESE ISLANDS, GREECE  \n",
       "12                  E   10 M2.8         SULAWESI, INDONESIA  \n",
       "13                  E   10ML3.1  DODECANESE ISLANDS, GREECE  \n",
       "14                  W   18ML2.5  OFFSHORE VALPARAISO, CHILE  \n",
       "15                  W   15Ml2.9              SOUTHERN IDAHO  \n",
       "16                  E    5ML2.5  DODECANESE ISLANDS, GREECE  \n",
       "17                  E    7ML2.0  DODECANESE ISLANDS, GREECE  \n",
       "18                  E  100mb4.6    SOUTHERN XINJIANG, CHINA  \n",
       "19                  E    8ML2.4  DODECANESE ISLANDS, GREECE  "
      ]
     },
     "execution_count": 759,
     "metadata": {},
     "output_type": "execute_result"
    }
   ],
   "source": [
    "# your code here\n",
    "import re\n",
    "\n",
    "html = requests.get(url).content\n",
    "\n",
    "soup = BeautifulSoup(html, 'lxml')\n",
    "\n",
    "#crim = soup.find_all('ul', {'class': \"full-grid wanted-grid-natural infinity castle-grid-block-xs-2 castle-grid-block-sm-2castle-grid-block-md-3 castle-grid-block-lg-5 dt-grid\"})\n",
    "\n",
    "earthq = soup.find_all('tr')\n",
    "\n",
    "earthq = [element.text for element in earthq if element.text != '\\n']\n",
    "\n",
    "earthq = [element for element in earthq if element != '']\n",
    "\n",
    "earthq = [element for element in earthq if (element.find('earthquake') in (0,1))]\n",
    "\n",
    "earthq = [element.replace('Fearthquake',\"\") for element in earthq]\n",
    "\n",
    "earthq = [element.replace('earthquake',\"\") for element in earthq]\n",
    "\n",
    "earthq = [element.split('\\xa0') for element in earthq]\n",
    "\n",
    "earthq = [[x for x in element if x!= \"\"] for element in earthq]\n",
    "\n",
    "earthq = pd.DataFrame(earthq)\n",
    "\n",
    "earthq.iloc[:,1].apply(lambda x: x.split('min ago')).apply(lambda x: x[1])\n",
    "\n",
    "\n",
    "earthq.columns = ['c1', 'c2', 'c3', 'c4', 'c5', 'c6', 'c7']\n",
    "\n",
    "earthq['c8'] = earthq.iloc[:,1].apply(lambda x: x.split('min ago')).apply(lambda x: x[1])\n",
    "\n",
    "earthq['c2'] = earthq.iloc[:,1].apply(lambda x: x.split('min ago')).apply(lambda x: x[0])\n",
    "\n",
    "earthq['c2'] = earthq['c2'].str[:10]\n",
    "\n",
    "earthq = earthq[['c1',  'c2', 'c3', 'c8', 'c4', 'c5', 'c6', 'c7']]\n",
    "\n",
    "earthq.columns = ['date', 'time', 'Latitude', 'Latitude degrees', 'Longtitude', 'Longtitude degrees', 'Magnitude', 'Region']\n",
    "\n",
    "earthq['Region'] = earthq['Region'].str[:-16]\n",
    "\n",
    "print(\"The 20 latest earthquakes info:\")\n",
    "\n",
    "earthq.iloc[:20,:]\n"
   ]
  },
  {
   "cell_type": "markdown",
   "metadata": {},
   "source": [
    "#### Count the number of tweets by a given Twitter account.\n",
    "Ask the user for the handle (@handle) of a twitter account. You will need to include a ***try/except block*** for account names not found. \n",
    "<br>***Hint:*** the program should count the number of tweets for any provided account."
   ]
  },
  {
   "cell_type": "code",
   "execution_count": 760,
   "metadata": {},
   "outputs": [],
   "source": [
    "# This is the url you will scrape in this exercise \n",
    "# You will need to add the account credentials to this url\n",
    "url = 'https://twitter.com/'"
   ]
  },
  {
   "cell_type": "code",
   "execution_count": 892,
   "metadata": {},
   "outputs": [],
   "source": [
    "# your code here\n"
   ]
  },
  {
   "cell_type": "markdown",
   "metadata": {},
   "source": [
    "#### Number of followers of a given twitter account\n",
    "Ask the user for the handle (@handle) of a twitter account. You will need to include a ***try/except block*** for account names not found. \n",
    "<br>***Hint:*** the program should count the followers for any provided account."
   ]
  },
  {
   "cell_type": "code",
   "execution_count": 970,
   "metadata": {},
   "outputs": [],
   "source": [
    "# This is the url you will scrape in this exercise \n",
    "# You will need to add the account credentials to this url\n",
    "url = 'https://twitter.com/'"
   ]
  },
  {
   "cell_type": "code",
   "execution_count": 980,
   "metadata": {},
   "outputs": [
    {
     "data": {
      "text/plain": [
       "[<span class=\"css-901oao css-16my406\" dir=\"auto\">Something went wrong, but don’t fret — let’s give it another shot.</span>]"
      ]
     },
     "execution_count": 980,
     "metadata": {},
     "output_type": "execute_result"
    }
   ],
   "source": [
    "# your code here\n",
    "\n",
    "#handle = input('Input your account name on Twitter: ') \n",
    "\n",
    "# handle = 'soompi'\n",
    "\n",
    "# url = url+handle\n",
    "\n",
    "# html = requests.get(url).content\n",
    "\n",
    "# soup = BeautifulSoup(html)\n",
    "\n",
    "# follow_box = soup.select('span')\n",
    " \n",
    "# follow_box\n",
    "\n",
    "# # try:\n",
    "# #     follow_box = bs.find('li',{'class':'ProfileNav-item ProfileNav-item--followers'})\n",
    "# #     followers = follow_box.find('a').find('span',{'class':'ProfileNav-value'})\n",
    "# #     print(\"Number of followers: {} \".format(followers.get('data-count')))\n",
    "# # except:\n",
    "# #     print('Account name not found...')"
   ]
  },
  {
   "cell_type": "markdown",
   "metadata": {},
   "source": [
    "#### List all language names and number of related articles in the order they appear in wikipedia.org."
   ]
  },
  {
   "cell_type": "code",
   "execution_count": 790,
   "metadata": {},
   "outputs": [],
   "source": [
    "# This is the url you will scrape in this exercise\n",
    "url = 'https://www.wikipedia.org/'"
   ]
  },
  {
   "cell_type": "code",
   "execution_count": 806,
   "metadata": {},
   "outputs": [
    {
     "name": "stdout",
     "output_type": "stream",
     "text": [
      "All language names and number of related articles in the order they appear in wikipedia.org\n"
     ]
    },
    {
     "data": {
      "text/plain": [
       "[' English 6 168 000+ articles ',\n",
       " ' Español 1 630 000+ artículos ',\n",
       " ' 日本語 1 231 000+ 記事 ',\n",
       " ' Deutsch 2 486 000+ Artikel ',\n",
       " ' Русский 1 665 000+ статей ',\n",
       " ' Français 2 254 000+ articles ',\n",
       " ' Italiano 1 639 000+ voci ',\n",
       " ' 中文 1 150 000+ 條目 ',\n",
       " ' Português 1 044 000+ artigos ',\n",
       " ' العربية 1 068 000+ مقالة ']"
      ]
     },
     "execution_count": 806,
     "metadata": {},
     "output_type": "execute_result"
    }
   ],
   "source": [
    "# your code here\n",
    "\n",
    "html = requests.get(url).content\n",
    "\n",
    "soup = BeautifulSoup(html, 'lxml')\n",
    "\n",
    "#lang = soup.find_all('div', {\"class\":'central-featured'})\n",
    "\n",
    "lang = soup.find_all(class_ = 'link-box')\n",
    "\n",
    "lang = [el.text.replace('\\n',' ').replace('\\xa0',' ') for el in lang]\n",
    "\n",
    "print('All language names and number of related articles in the order they appear in wikipedia.org')\n",
    "lang"
   ]
  },
  {
   "cell_type": "markdown",
   "metadata": {},
   "source": [
    "#### A list with the different kind of datasets available in data.gov.uk."
   ]
  },
  {
   "cell_type": "code",
   "execution_count": 807,
   "metadata": {},
   "outputs": [],
   "source": [
    "# This is the url you will scrape in this exercise\n",
    "url = 'https://data.gov.uk/'"
   ]
  },
  {
   "cell_type": "code",
   "execution_count": 816,
   "metadata": {},
   "outputs": [
    {
     "name": "stdout",
     "output_type": "stream",
     "text": [
      "list with the different kind of datasets available in data.gov.uk:\n"
     ]
    },
    {
     "data": {
      "text/plain": [
       "['Business and economy',\n",
       " 'Crime and justice',\n",
       " 'Defence',\n",
       " 'Education',\n",
       " 'Environment',\n",
       " 'Government',\n",
       " 'Government spending',\n",
       " 'Health',\n",
       " 'Mapping',\n",
       " 'Society',\n",
       " 'Towns and cities',\n",
       " 'Transport']"
      ]
     },
     "execution_count": 816,
     "metadata": {},
     "output_type": "execute_result"
    }
   ],
   "source": [
    "# your code here\n",
    "\n",
    "html = requests.get(url).content\n",
    "\n",
    "soup = BeautifulSoup(html, 'lxml')\n",
    "\n",
    "#dbases = soup.find_all('ul', {\"class\":'govuk-list dgu-topics__list'})\n",
    "\n",
    "dbases = soup.find_all(\"h3\")\n",
    "\n",
    "dbases = [el.text for el in dbases]\n",
    "\n",
    "print(\"list with the different kind of datasets available in data.gov.uk:\")\n",
    "dbases"
   ]
  },
  {
   "cell_type": "markdown",
   "metadata": {},
   "source": [
    "#### Display the top 10 languages by number of native speakers stored in a pandas dataframe."
   ]
  },
  {
   "cell_type": "code",
   "execution_count": 831,
   "metadata": {},
   "outputs": [],
   "source": [
    "# This is the url you will scrape in this exercise\n",
    "url = 'https://en.wikipedia.org/wiki/List_of_languages_by_number_of_native_speakers'"
   ]
  },
  {
   "cell_type": "code",
   "execution_count": 852,
   "metadata": {},
   "outputs": [
    {
     "name": "stdout",
     "output_type": "stream",
     "text": [
      " The top 10 languages by number of native speakers stored in a pandas dataframe:\n"
     ]
    },
    {
     "data": {
      "text/html": [
       "<div>\n",
       "<style scoped>\n",
       "    .dataframe tbody tr th:only-of-type {\n",
       "        vertical-align: middle;\n",
       "    }\n",
       "\n",
       "    .dataframe tbody tr th {\n",
       "        vertical-align: top;\n",
       "    }\n",
       "\n",
       "    .dataframe thead th {\n",
       "        text-align: right;\n",
       "    }\n",
       "</style>\n",
       "<table border=\"1\" class=\"dataframe\">\n",
       "  <thead>\n",
       "    <tr style=\"text-align: right;\">\n",
       "      <th></th>\n",
       "      <th>Rank</th>\n",
       "      <th>Language</th>\n",
       "      <th>Nativespeakersin millions2007 (2010)</th>\n",
       "      <th>Percentageof worldpopulation(2007)</th>\n",
       "    </tr>\n",
       "  </thead>\n",
       "  <tbody>\n",
       "    <tr>\n",
       "      <th>0</th>\n",
       "      <td>1</td>\n",
       "      <td>Mandarin (entire branch)</td>\n",
       "      <td>935 (955)</td>\n",
       "      <td>14.1%</td>\n",
       "    </tr>\n",
       "    <tr>\n",
       "      <th>1</th>\n",
       "      <td>2</td>\n",
       "      <td>Spanish</td>\n",
       "      <td>390 (405)</td>\n",
       "      <td>5.85%</td>\n",
       "    </tr>\n",
       "    <tr>\n",
       "      <th>2</th>\n",
       "      <td>3</td>\n",
       "      <td>English</td>\n",
       "      <td>365 (360)</td>\n",
       "      <td>5.52%</td>\n",
       "    </tr>\n",
       "    <tr>\n",
       "      <th>3</th>\n",
       "      <td>4</td>\n",
       "      <td>Hindi[a]</td>\n",
       "      <td>295 (310)</td>\n",
       "      <td>4.46%</td>\n",
       "    </tr>\n",
       "    <tr>\n",
       "      <th>4</th>\n",
       "      <td>5</td>\n",
       "      <td>Arabic</td>\n",
       "      <td>280 (295)</td>\n",
       "      <td>4.23%</td>\n",
       "    </tr>\n",
       "    <tr>\n",
       "      <th>5</th>\n",
       "      <td>6</td>\n",
       "      <td>Portuguese</td>\n",
       "      <td>205 (215)</td>\n",
       "      <td>3.08%</td>\n",
       "    </tr>\n",
       "    <tr>\n",
       "      <th>6</th>\n",
       "      <td>7</td>\n",
       "      <td>Bengali</td>\n",
       "      <td>200 (205)</td>\n",
       "      <td>3.05%</td>\n",
       "    </tr>\n",
       "    <tr>\n",
       "      <th>7</th>\n",
       "      <td>8</td>\n",
       "      <td>Russian</td>\n",
       "      <td>160 (155)</td>\n",
       "      <td>2.42%</td>\n",
       "    </tr>\n",
       "    <tr>\n",
       "      <th>8</th>\n",
       "      <td>9</td>\n",
       "      <td>Japanese</td>\n",
       "      <td>125 (125)</td>\n",
       "      <td>1.92%</td>\n",
       "    </tr>\n",
       "    <tr>\n",
       "      <th>9</th>\n",
       "      <td>10</td>\n",
       "      <td>Punjabi</td>\n",
       "      <td>95 (100)</td>\n",
       "      <td>1.44%</td>\n",
       "    </tr>\n",
       "  </tbody>\n",
       "</table>\n",
       "</div>"
      ],
      "text/plain": [
       "  Rank                  Language Nativespeakersin millions2007 (2010)  \\\n",
       "0    1  Mandarin (entire branch)                            935 (955)   \n",
       "1    2                   Spanish                            390 (405)   \n",
       "2    3                   English                            365 (360)   \n",
       "3    4                  Hindi[a]                            295 (310)   \n",
       "4    5                    Arabic                            280 (295)   \n",
       "5    6                Portuguese                            205 (215)   \n",
       "6    7                   Bengali                            200 (205)   \n",
       "7    8                   Russian                            160 (155)   \n",
       "8    9                  Japanese                            125 (125)   \n",
       "9   10                   Punjabi                             95 (100)   \n",
       "\n",
       "  Percentageof worldpopulation(2007)  \n",
       "0                              14.1%  \n",
       "1                              5.85%  \n",
       "2                              5.52%  \n",
       "3                              4.46%  \n",
       "4                              4.23%  \n",
       "5                              3.08%  \n",
       "6                              3.05%  \n",
       "7                              2.42%  \n",
       "8                              1.92%  \n",
       "9                              1.44%  "
      ]
     },
     "execution_count": 852,
     "metadata": {},
     "output_type": "execute_result"
    }
   ],
   "source": [
    "# your code here\n",
    "\n",
    "html = requests.get(url).content\n",
    "\n",
    "soup = BeautifulSoup(html, 'lxml')\n",
    "\n",
    "speakers = soup.find_all('table')[2]\n",
    "\n",
    "speakers = speakers.find_all('tr')\n",
    "\n",
    "speakers = [el.text.split(\"\\n\") for el in speakers]\n",
    "\n",
    "speakers = [[x for x in tr if x!=''] for tr in speakers]\n",
    "\n",
    "# speakers = [[x for x in tr if tr!=''] for tr in speakers]\n",
    "\n",
    "speakers\n",
    "\n",
    "speakers_df = pd.DataFrame(speakers[1:11], columns = speakers[0])\n",
    "\n",
    "\n",
    "print(\" The top 10 languages by number of native speakers stored in a pandas dataframe:\")\n",
    "speakers_df"
   ]
  },
  {
   "cell_type": "markdown",
   "metadata": {},
   "source": [
    "## Bonus\n",
    "#### Scrape a certain number of tweets of a given Twitter account."
   ]
  },
  {
   "cell_type": "code",
   "execution_count": null,
   "metadata": {},
   "outputs": [],
   "source": [
    "# This is the url you will scrape in this exercise \n",
    "# You will need to add the account credentials to this url\n",
    "url = 'https://twitter.com/'"
   ]
  },
  {
   "cell_type": "code",
   "execution_count": null,
   "metadata": {},
   "outputs": [],
   "source": [
    "# your code here"
   ]
  },
  {
   "cell_type": "markdown",
   "metadata": {},
   "source": [
    "#### Display IMDB's top 250 data (movie name, initial release, director name and stars) as a pandas dataframe."
   ]
  },
  {
   "cell_type": "code",
   "execution_count": null,
   "metadata": {},
   "outputs": [],
   "source": [
    "# This is the url you will scrape in this exercise \n",
    "url = 'https://www.imdb.com/chart/top'"
   ]
  },
  {
   "cell_type": "code",
   "execution_count": null,
   "metadata": {},
   "outputs": [],
   "source": [
    "# your code here"
   ]
  },
  {
   "cell_type": "markdown",
   "metadata": {},
   "source": [
    "#### Display the movie name, year and a brief summary of the top 10 random movies (IMDB) as a pandas dataframe."
   ]
  },
  {
   "cell_type": "code",
   "execution_count": null,
   "metadata": {},
   "outputs": [],
   "source": [
    "#This is the url you will scrape in this exercise\n",
    "url = 'http://www.imdb.com/chart/top'"
   ]
  },
  {
   "cell_type": "code",
   "execution_count": null,
   "metadata": {},
   "outputs": [],
   "source": [
    "# your code here"
   ]
  },
  {
   "cell_type": "markdown",
   "metadata": {},
   "source": [
    "#### Find the live weather report (temperature, wind speed, description and weather) of a given city."
   ]
  },
  {
   "cell_type": "code",
   "execution_count": null,
   "metadata": {},
   "outputs": [],
   "source": [
    "#https://openweathermap.org/current\n",
    "city = input('Enter the city: ')\n",
    "url = 'http://api.openweathermap.org/data/2.5/weather?'+'q='+city+'&APPID=b35975e18dc93725acb092f7272cc6b8&units=metric'"
   ]
  },
  {
   "cell_type": "code",
   "execution_count": null,
   "metadata": {},
   "outputs": [],
   "source": [
    "# your code here"
   ]
  },
  {
   "cell_type": "markdown",
   "metadata": {},
   "source": [
    "#### Find the book name, price and stock availability as a pandas dataframe."
   ]
  },
  {
   "cell_type": "code",
   "execution_count": null,
   "metadata": {},
   "outputs": [],
   "source": [
    "# This is the url you will scrape in this exercise. \n",
    "# It is a fictional bookstore created to be scraped. \n",
    "url = 'http://books.toscrape.com/'"
   ]
  },
  {
   "cell_type": "code",
   "execution_count": null,
   "metadata": {},
   "outputs": [],
   "source": [
    "# your code here"
   ]
  }
 ],
 "metadata": {
  "kernelspec": {
   "display_name": "Python 3",
   "language": "python",
   "name": "python3"
  },
  "language_info": {
   "codemirror_mode": {
    "name": "ipython",
    "version": 3
   },
   "file_extension": ".py",
   "mimetype": "text/x-python",
   "name": "python",
   "nbconvert_exporter": "python",
   "pygments_lexer": "ipython3",
   "version": "3.8.3"
  }
 },
 "nbformat": 4,
 "nbformat_minor": 2
}
