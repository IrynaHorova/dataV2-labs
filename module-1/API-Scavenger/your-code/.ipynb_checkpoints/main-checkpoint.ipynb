{
 "cells": [
  {
   "cell_type": "markdown",
   "metadata": {},
   "source": [
    "# API Scavenger Game\n",
    "\n",
    "## Challenge 1: Fork Languages\n",
    "\n",
    "You will find out how many programming languages are used among all the forks created from the main lab repo of your bootcamp."
   ]
  },
  {
   "cell_type": "code",
   "execution_count": 5,
   "metadata": {},
   "outputs": [],
   "source": [
    "# import libraries here\n",
    "import requests\n",
    "import pandas as pd\n",
    "import re\n",
    "import json\n",
    "\n",
    "username = 'IrynaHorova'\n",
    "%run mytoken.ipynb\n",
    "#token = 'your token'\n",
    "\n",
    "# response = requests.get('https://api.github.com/user/repos?page=1&per_page=100', auth=(username,token))\n",
    "# data = pd.DataFrame(response.json())\n",
    "# data"
   ]
  },
  {
   "cell_type": "markdown",
   "metadata": {},
   "source": [
    "Assuming the main lab repo is ironhack-datalabs/madrid-oct-2018, you will:\n",
    "\n",
    "#### 1. Obtain the full list of forks created from the main lab repo via Github API."
   ]
  },
  {
   "cell_type": "markdown",
   "metadata": {},
   "source": [
    "To list forks, we can use the GET method. As explained in the GitHub API documentation, we need to make the request to: GET /repos/:owner/:repo/forks."
   ]
  },
  {
   "cell_type": "code",
   "execution_count": 6,
   "metadata": {},
   "outputs": [
    {
     "name": "stdout",
     "output_type": "stream",
     "text": [
      "List of forks:\n",
      "0      MichelleMartens/dataV2-labs\n",
      "1          tsharma2020/dataV2-labs\n",
      "2     SvetlanaGruzdeva/dataV2-labs\n",
      "3           iswetha522/dataV2-labs\n",
      "4        Sebastieniron/dataV2-labs\n",
      "5          IrynaHorova/dataV2-labs\n",
      "6            Laurannvv/dataV2-labs\n",
      "7            AjiacoVic/dataV2-labs\n",
      "8        leonvanderlee/dataV2-labs\n",
      "9              Vika182/dataV2-labs\n",
      "10              B3rtje/dataV2-labs\n",
      "11             NellyCR/dataV2-labs\n",
      "12        sarah-busson/dataV2-labs\n",
      "Name: full_name, dtype: object\n"
     ]
    }
   ],
   "source": [
    "# your code /repos/:owner/:repo/forks\n",
    "response = requests.get(\"https://api.github.com/repos/jmolendijk/dataV2-labs/forks\", auth = (username,token))\n",
    "#https://api.github.com/repos/jmolendijk/dataV2-labs/forks?sort=newest\n",
    "data = pd.DataFrame(response.json())\n",
    "print('List of forks:')\n",
    "print(data['full_name'])\n",
    "\n",
    "forks = data['full_name']"
   ]
  },
  {
   "cell_type": "markdown",
   "metadata": {},
   "source": [
    "#### 2. Loop the JSON response to find out the language attribute of each fork. Use an array to store the language attributes of each fork.\n",
    "Hint: Each language should appear only once in your array.\n",
    "Print the language array. It should be something like: [\"Python\", \"Jupyter Notebook\", \"HTML\"]"
   ]
  },
  {
   "cell_type": "code",
   "execution_count": 7,
   "metadata": {},
   "outputs": [
    {
     "name": "stdout",
     "output_type": "stream",
     "text": [
      "Languages:\n"
     ]
    },
    {
     "data": {
      "text/plain": [
       "['Jupyter Notebook']"
      ]
     },
     "execution_count": 7,
     "metadata": {},
     "output_type": "execute_result"
    }
   ],
   "source": [
    "# your code here\n",
    "print(\"Languages:\")\n",
    "list(data['language'].unique())"
   ]
  },
  {
   "cell_type": "markdown",
   "metadata": {},
   "source": [
    "## Challenge 2: Count Commits\n",
    "Count how many commits were made in the month of october of 2018.\n",
    "#### 1. Obtain all the commits made in October 2018 via API, which is a JSON array that contains multiple commit objects."
   ]
  },
  {
   "cell_type": "code",
   "execution_count": 8,
   "metadata": {},
   "outputs": [],
   "source": [
    "# your code here\n",
    "#I am going to look at July 2020 commits - in order to be able to count the commits\n",
    "response = requests.get(f\"https://api.github.com/repos/jmolendijk/dataV2-labs/commits?since=2020-07-01T00:00:00Z&until=2020-07-31T00:00:00Z\", auth = (username,token))\n",
    "#response.json()"
   ]
  },
  {
   "cell_type": "markdown",
   "metadata": {},
   "source": [
    "#### 2. Count how many commit objects are contained in the array."
   ]
  },
  {
   "cell_type": "code",
   "execution_count": 9,
   "metadata": {},
   "outputs": [
    {
     "name": "stdout",
     "output_type": "stream",
     "text": [
      "There 2 commit objects\n"
     ]
    }
   ],
   "source": [
    "commits = pd.DataFrame(response.json())\n",
    "print(f\"There {len(commits)} commit objects\")"
   ]
  },
  {
   "cell_type": "markdown",
   "metadata": {},
   "source": [
    "## Challenge 3: Hidden Cold Joke\n",
    "\n",
    "Using Python, call Github API to find out the cold joke contained in the 24 secret files in the following repo:\n",
    "\n",
    "https://github.com/ironhack-datalabs/scavenger\n",
    "\n",
    "The filenames of the secret files contain .scavengerhunt and they are scattered in different directories of this repo. The secret files are named from .0001.scavengerhunt to .0024.scavengerhunt. They are scattered randomly throughout this repo. You need to search for these files by calling the Github API, not searching the local files on your computer.\n",
    "\n",
    "#### 1. Find the secret files."
   ]
  },
  {
   "cell_type": "code",
   "execution_count": 21,
   "metadata": {},
   "outputs": [],
   "source": [
    "# your code here\n",
    "response = requests.get(\"https://api.github.com/repos/ironhack-datalabs/scavenger/contents\", auth = (username,token))\n",
    "cont = pd.DataFrame(response.json())\n",
    "path  = list(cont['path'])"
   ]
  },
  {
   "cell_type": "code",
   "execution_count": 22,
   "metadata": {},
   "outputs": [],
   "source": [
    "#path_df = df.DataFrame(columns = ['file_name', 'file_path'])\n",
    "path_dict ={}\n",
    "for pth in path[1:]:\n",
    "    response = requests.get(f\"https://api.github.com/repos/ironhack-datalabs/scavenger/contents/{pth}\", auth = (username,token))\n",
    "    response = pd.DataFrame(response.json())\n",
    "    for i in range(len(response)) : \n",
    "        path_dict[response.loc[i, \"name\"]] = response.loc[i, \"path\"]"
   ]
  },
  {
   "cell_type": "code",
   "execution_count": 23,
   "metadata": {},
   "outputs": [],
   "source": [
    "path_df = pd.DataFrame.from_dict(path_dict, orient='index',\n",
    "                       columns=['path']).reset_index()"
   ]
  },
  {
   "cell_type": "markdown",
   "metadata": {},
   "source": [
    "#### 2.  Sort the filenames ascendingly."
   ]
  },
  {
   "cell_type": "code",
   "execution_count": 24,
   "metadata": {},
   "outputs": [
    {
     "data": {
      "text/html": [
       "<div>\n",
       "<style scoped>\n",
       "    .dataframe tbody tr th:only-of-type {\n",
       "        vertical-align: middle;\n",
       "    }\n",
       "\n",
       "    .dataframe tbody tr th {\n",
       "        vertical-align: top;\n",
       "    }\n",
       "\n",
       "    .dataframe thead th {\n",
       "        text-align: right;\n",
       "    }\n",
       "</style>\n",
       "<table border=\"1\" class=\"dataframe\">\n",
       "  <thead>\n",
       "    <tr style=\"text-align: right;\">\n",
       "      <th></th>\n",
       "      <th>file_name</th>\n",
       "      <th>path</th>\n",
       "    </tr>\n",
       "  </thead>\n",
       "  <tbody>\n",
       "    <tr>\n",
       "      <th>80</th>\n",
       "      <td>.0001.scavengerhunt</td>\n",
       "      <td>98750/.0001.scavengerhunt</td>\n",
       "    </tr>\n",
       "    <tr>\n",
       "      <th>62</th>\n",
       "      <td>.0002.scavengerhunt</td>\n",
       "      <td>88596/.0002.scavengerhunt</td>\n",
       "    </tr>\n",
       "    <tr>\n",
       "      <th>43</th>\n",
       "      <td>.0003.scavengerhunt</td>\n",
       "      <td>60224/.0003.scavengerhunt</td>\n",
       "    </tr>\n",
       "    <tr>\n",
       "      <th>52</th>\n",
       "      <td>.0004.scavengerhunt</td>\n",
       "      <td>68848/.0004.scavengerhunt</td>\n",
       "    </tr>\n",
       "    <tr>\n",
       "      <th>17</th>\n",
       "      <td>.0005.scavengerhunt</td>\n",
       "      <td>44639/.0005.scavengerhunt</td>\n",
       "    </tr>\n",
       "    <tr>\n",
       "      <th>0</th>\n",
       "      <td>.0006.scavengerhunt</td>\n",
       "      <td>15024/.0006.scavengerhunt</td>\n",
       "    </tr>\n",
       "    <tr>\n",
       "      <th>8</th>\n",
       "      <td>.0007.scavengerhunt</td>\n",
       "      <td>17020/.0007.scavengerhunt</td>\n",
       "    </tr>\n",
       "    <tr>\n",
       "      <th>4</th>\n",
       "      <td>.0008.scavengerhunt</td>\n",
       "      <td>15534/.0008.scavengerhunt</td>\n",
       "    </tr>\n",
       "    <tr>\n",
       "      <th>76</th>\n",
       "      <td>.0009.scavengerhunt</td>\n",
       "      <td>97881/.0009.scavengerhunt</td>\n",
       "    </tr>\n",
       "    <tr>\n",
       "      <th>27</th>\n",
       "      <td>.0010.scavengerhunt</td>\n",
       "      <td>47830/.0010.scavengerhunt</td>\n",
       "    </tr>\n",
       "    <tr>\n",
       "      <th>34</th>\n",
       "      <td>.0011.scavengerhunt</td>\n",
       "      <td>50896/.0011.scavengerhunt</td>\n",
       "    </tr>\n",
       "    <tr>\n",
       "      <th>5</th>\n",
       "      <td>.0012.scavengerhunt</td>\n",
       "      <td>15534/.0012.scavengerhunt</td>\n",
       "    </tr>\n",
       "    <tr>\n",
       "      <th>69</th>\n",
       "      <td>.0013.scavengerhunt</td>\n",
       "      <td>89338/.0013.scavengerhunt</td>\n",
       "    </tr>\n",
       "    <tr>\n",
       "      <th>30</th>\n",
       "      <td>.0014.scavengerhunt</td>\n",
       "      <td>49418/.0014.scavengerhunt</td>\n",
       "    </tr>\n",
       "    <tr>\n",
       "      <th>73</th>\n",
       "      <td>.0015.scavengerhunt</td>\n",
       "      <td>91701/.0015.scavengerhunt</td>\n",
       "    </tr>\n",
       "    <tr>\n",
       "      <th>23</th>\n",
       "      <td>.0016.scavengerhunt</td>\n",
       "      <td>47222/.0016.scavengerhunt</td>\n",
       "    </tr>\n",
       "    <tr>\n",
       "      <th>59</th>\n",
       "      <td>.0017.scavengerhunt</td>\n",
       "      <td>70985/.0017.scavengerhunt</td>\n",
       "    </tr>\n",
       "    <tr>\n",
       "      <th>20</th>\n",
       "      <td>.0018.scavengerhunt</td>\n",
       "      <td>45525/.0018.scavengerhunt</td>\n",
       "    </tr>\n",
       "    <tr>\n",
       "      <th>55</th>\n",
       "      <td>.0019.scavengerhunt</td>\n",
       "      <td>70751/.0019.scavengerhunt</td>\n",
       "    </tr>\n",
       "    <tr>\n",
       "      <th>40</th>\n",
       "      <td>.0020.scavengerhunt</td>\n",
       "      <td>55685/.0020.scavengerhunt</td>\n",
       "    </tr>\n",
       "    <tr>\n",
       "      <th>11</th>\n",
       "      <td>.0021.scavengerhunt</td>\n",
       "      <td>30351/.0021.scavengerhunt</td>\n",
       "    </tr>\n",
       "    <tr>\n",
       "      <th>14</th>\n",
       "      <td>.0022.scavengerhunt</td>\n",
       "      <td>40303/.0022.scavengerhunt</td>\n",
       "    </tr>\n",
       "    <tr>\n",
       "      <th>37</th>\n",
       "      <td>.0023.scavengerhunt</td>\n",
       "      <td>55417/.0023.scavengerhunt</td>\n",
       "    </tr>\n",
       "    <tr>\n",
       "      <th>24</th>\n",
       "      <td>.0024.scavengerhunt</td>\n",
       "      <td>47222/.0024.scavengerhunt</td>\n",
       "    </tr>\n",
       "  </tbody>\n",
       "</table>\n",
       "</div>"
      ],
      "text/plain": [
       "              file_name                       path\n",
       "80  .0001.scavengerhunt  98750/.0001.scavengerhunt\n",
       "62  .0002.scavengerhunt  88596/.0002.scavengerhunt\n",
       "43  .0003.scavengerhunt  60224/.0003.scavengerhunt\n",
       "52  .0004.scavengerhunt  68848/.0004.scavengerhunt\n",
       "17  .0005.scavengerhunt  44639/.0005.scavengerhunt\n",
       "0   .0006.scavengerhunt  15024/.0006.scavengerhunt\n",
       "8   .0007.scavengerhunt  17020/.0007.scavengerhunt\n",
       "4   .0008.scavengerhunt  15534/.0008.scavengerhunt\n",
       "76  .0009.scavengerhunt  97881/.0009.scavengerhunt\n",
       "27  .0010.scavengerhunt  47830/.0010.scavengerhunt\n",
       "34  .0011.scavengerhunt  50896/.0011.scavengerhunt\n",
       "5   .0012.scavengerhunt  15534/.0012.scavengerhunt\n",
       "69  .0013.scavengerhunt  89338/.0013.scavengerhunt\n",
       "30  .0014.scavengerhunt  49418/.0014.scavengerhunt\n",
       "73  .0015.scavengerhunt  91701/.0015.scavengerhunt\n",
       "23  .0016.scavengerhunt  47222/.0016.scavengerhunt\n",
       "59  .0017.scavengerhunt  70985/.0017.scavengerhunt\n",
       "20  .0018.scavengerhunt  45525/.0018.scavengerhunt\n",
       "55  .0019.scavengerhunt  70751/.0019.scavengerhunt\n",
       "40  .0020.scavengerhunt  55685/.0020.scavengerhunt\n",
       "11  .0021.scavengerhunt  30351/.0021.scavengerhunt\n",
       "14  .0022.scavengerhunt  40303/.0022.scavengerhunt\n",
       "37  .0023.scavengerhunt  55417/.0023.scavengerhunt\n",
       "24  .0024.scavengerhunt  47222/.0024.scavengerhunt"
      ]
     },
     "execution_count": 24,
     "metadata": {},
     "output_type": "execute_result"
    }
   ],
   "source": [
    "path_df = path_df.rename(columns = {'index':'file_name'})\n",
    "path_df = path_df[path_df['file_name'].str.contains('.scavengerhunt')]\n",
    "path_df = path_df.sort_values(by = ['file_name'])\n",
    "path_df"
   ]
  },
  {
   "cell_type": "markdown",
   "metadata": {},
   "source": [
    "#### 3. Read the content of each secret files into an array of strings.\n",
    "Since the response is encoded, you will need to send the following information in the header of your request:\n",
    "````python\n",
    "headers = {'Accept': 'application/vnd.github.v3.raw'}\n",
    "````"
   ]
  },
  {
   "cell_type": "code",
   "execution_count": 57,
   "metadata": {},
   "outputs": [],
   "source": [
    "# your code here\n",
    "\n",
    "joke = []\n",
    "\n",
    "for pth in path_df['path']:\n",
    "    response = requests.get(f\"https://api.github.com/repos/ironhack-datalabs/scavenger/contents/{pth}\", headers = {'Accept': 'application/vnd.github.v3.raw'}, auth = (username,token))\n",
    "    word = response.text #response.content previously; .text outputs string rather than bite class\n",
    "    joke.append(word)"
   ]
  },
  {
   "cell_type": "code",
   "execution_count": 58,
   "metadata": {},
   "outputs": [
    {
     "data": {
      "text/plain": [
       "['In\\n',\n",
       " 'data\\n',\n",
       " 'science,\\n',\n",
       " '80\\n',\n",
       " 'percent\\n',\n",
       " 'of\\n',\n",
       " 'time\\n',\n",
       " 'spent\\n',\n",
       " 'is\\n',\n",
       " 'preparing\\n',\n",
       " 'data,\\n',\n",
       " '20\\n',\n",
       " 'percent\\n',\n",
       " 'of\\n',\n",
       " 'time\\n',\n",
       " 'is\\n',\n",
       " 'spent\\n',\n",
       " 'complaining\\n',\n",
       " 'about\\n',\n",
       " 'the\\n',\n",
       " 'need\\n',\n",
       " 'to\\n',\n",
       " 'prepare\\n',\n",
       " 'data.\\n']"
      ]
     },
     "execution_count": 58,
     "metadata": {},
     "output_type": "execute_result"
    }
   ],
   "source": [
    "joke"
   ]
  },
  {
   "cell_type": "markdown",
   "metadata": {},
   "source": [
    "#### 4. Concatenate the strings in the array separating each two with a whitespace."
   ]
  },
  {
   "cell_type": "code",
   "execution_count": 15,
   "metadata": {},
   "outputs": [],
   "source": [
    "# your code here\n",
    "joke_parsed  = \" \".join(joke)\n",
    "joke_parsed = joke_parsed.replace(\"\\n\",'')"
   ]
  },
  {
   "cell_type": "markdown",
   "metadata": {},
   "source": [
    "#### 5. Print out the joke."
   ]
  },
  {
   "cell_type": "code",
   "execution_count": 16,
   "metadata": {},
   "outputs": [
    {
     "name": "stdout",
     "output_type": "stream",
     "text": [
      "In data science, 80 percent of time spent is preparing data, 20 percent of time is spent complaining about the need to prepare data.\n"
     ]
    }
   ],
   "source": [
    "# your code here\n",
    "print(joke_parsed)"
   ]
  }
 ],
 "metadata": {
  "kernelspec": {
   "display_name": "Python 3",
   "language": "python",
   "name": "python3"
  },
  "language_info": {
   "codemirror_mode": {
    "name": "ipython",
    "version": 3
   },
   "file_extension": ".py",
   "mimetype": "text/x-python",
   "name": "python",
   "nbconvert_exporter": "python",
   "pygments_lexer": "ipython3",
   "version": "3.8.3"
  }
 },
 "nbformat": 4,
 "nbformat_minor": 2
}
