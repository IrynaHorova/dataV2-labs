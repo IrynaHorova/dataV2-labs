{
 "cells": [
  {
   "cell_type": "markdown",
   "metadata": {},
   "source": [
    "In the cell below, create a Python function that wraps your previous solution for the Bag of Words lab.\n",
    "\n",
    "Requirements:\n",
    "\n",
    "1. Your function should accept the following parameters:\n",
    "    * `docs` [REQUIRED] - array of document paths.\n",
    "    * `stop_words` [OPTIONAL] - array of stop words. The default value is an empty array.\n",
    "\n",
    "1. Your function should return a Python object that contains the following:\n",
    "    * `bag_of_words` - array of strings of normalized unique words in the corpus.\n",
    "    * `term_freq` - array of the term-frequency vectors."
   ]
  },
  {
   "cell_type": "code",
   "execution_count": 96,
   "metadata": {},
   "outputs": [],
   "source": [
    "# Import required libraries\n",
    "import re\n",
    "\n",
    "# Define function\n",
    "def get_bow_from_docs(docs, stop_words=[]):\n",
    "    \n",
    "    # In the function, first define the variables you will use such as `corpus`, `bag_of_words`, and `term_freq`.   \n",
    "    \n",
    "    \"\"\"\n",
    "    Loop `docs` and read the content of each doc into a string in `corpus`.\n",
    "    Remember to convert the doc content to lowercases and remove punctuation.\n",
    "    \"\"\"   \n",
    "    \n",
    "    \"\"\"\n",
    "    Loop `corpus`. Append the terms in each doc into the `bag_of_words` array. The terms in `bag_of_words` \n",
    "    should be unique which means before adding each term you need to check if it's already added to the array.\n",
    "    In addition, check if each term is in the `stop_words` array. Only append the term to `bag_of_words`\n",
    "    if it is not a stop word.\n",
    "    \"\"\"    \n",
    "    \n",
    "    \"\"\"\n",
    "    Loop `corpus` again. For each doc string, count the number of occurrences of each term in `bag_of_words`. \n",
    "    Create an array for each doc's term frequency and append it to `term_freq`.\n",
    "    \"\"\"\n",
    "    bag_of_words = []\n",
    "    term_freq = []\n",
    "    \n",
    "    docs_0 = [re.sub('[^\\w,\" \"]','',doc.lower()) for doc in docs]\n",
    "    #print(docs_0)\n",
    "    lst = [el.split() for el in docs_0]\n",
    "    #print(lst)\n",
    "    corpus = re.sub('[^\\w,\" \"]','',(\" \".join(docs)).lower()).split()\n",
    "    #print(corpus)\n",
    "    bag_of_words = list(set([cor for cor in corpus if cor not in stop_words]))\n",
    "    \n",
    "    term_freq = [[el.count(word) for word in bag_of_words] for el in lst]\n",
    "    \n",
    "    # Now return your output as an object\n",
    "    return {\n",
    "        \"bag_of_words\": bag_of_words,\n",
    "        \"term_freq\": term_freq\n",
    "    }"
   ]
  },
  {
   "cell_type": "markdown",
   "metadata": {},
   "source": [
    "Test your function without stop words. You should see the output like below:\n",
    "\n",
    "```{'bag_of_words': ['ironhack', 'is', 'cool', 'i', 'love', 'am', 'a', 'student', 'at'], 'term_freq': [[1, 1, 1, 0, 0, 0, 0, 0, 0], [1, 0, 0, 1, 1, 0, 0, 0, 0], [1, 0, 0, 1, 0, 1, 1, 1, 1]]}```"
   ]
  },
  {
   "cell_type": "code",
   "execution_count": 101,
   "metadata": {},
   "outputs": [
    {
     "name": "stdout",
     "output_type": "stream",
     "text": [
      "{'bag_of_words': ['i', 'love', 'am', 'is', 'a', 'student', 'at', 'ironhack', 'cool'], 'term_freq': [[0, 0, 0, 1, 0, 0, 0, 1, 1], [1, 1, 0, 0, 0, 0, 0, 1, 0], [1, 0, 1, 0, 1, 1, 1, 1, 0]]}\n"
     ]
    }
   ],
   "source": [
    "# Define doc paths array\n",
    "docs = [\"Ironhack is cool!\", \"I love Ironhack.\", \"I am a student at Ironhack.\"]\n",
    "\n",
    "# Obtain BoW from your function\n",
    "bow = get_bow_from_docs(docs)\n",
    "\n",
    "# Print BoW\n",
    "print(bow)"
   ]
  },
  {
   "cell_type": "markdown",
   "metadata": {},
   "source": [
    "If your attempt above is successful, nice work done!\n",
    "\n",
    "Now test your function again with the stop words. In the previous lab we defined the stop words in a large array. In this lab, we'll import the stop words from Scikit-Learn."
   ]
  },
  {
   "cell_type": "code",
   "execution_count": 98,
   "metadata": {},
   "outputs": [
    {
     "name": "stdout",
     "output_type": "stream",
     "text": [
      "frozenset({'became', 'should', 'seemed', 'hereafter', 'which', 'amongst', 'whence', 'rather', 'before', 'due', 'these', 'hereby', 'what', 'must', 'than', 'and', 'why', 'she', 'become', 'only', 'couldnt', 'too', 'of', 'fill', 'almost', 'below', 'the', 'top', 'at', 'therefore', 'now', 'had', 'side', 'nine', 'also', 'each', 'neither', 'when', 'bill', 'in', 'mill', 'anything', 'upon', 'namely', 'to', 'who', 'less', 'they', 'although', 'are', 'show', 'toward', 'towards', 'me', 'ours', 'besides', 'name', 'other', 'con', 'several', 'thereafter', 'herself', 'through', 'down', 'latterly', 'hundred', 'after', 'anywhere', 'inc', 'somehow', 'above', 'about', 'ever', 'her', 'for', 'on', 'throughout', 'is', 'eg', 'alone', 'forty', 'he', 'it', 'themselves', 'formerly', 'move', 'always', 'have', 'while', 'detail', 'see', 'whereupon', 'yours', 'from', 'onto', 'six', 'can', 'afterwards', 'not', 'do', 'never', 'amount', 'one', 'many', 'beforehand', 'next', 'even', 'anyhow', 'eight', 'mostly', 'over', 'i', 'last', 'whereas', 'ie', 'nevertheless', 'twelve', 'across', 'along', 'be', 'cant', 'off', 'cry', 'anyway', 'same', 'or', 'an', 'his', 'how', 'herein', 'but', 'you', 'itself', 'whom', 'though', 'was', 'well', 'ltd', 'noone', 'thereupon', 'there', 'via', 'please', 'out', 'seem', 'as', 'somewhere', 'again', 'etc', 'fifteen', 'former', 'go', 'back', 'him', 'your', 'interest', 'will', 'both', 'whatever', 'bottom', 'my', 'being', 'least', 'all', 'under', 'them', 'if', 'our', 'within', 'behind', 'per', 'seems', 'therein', 'no', 'fifty', 'between', 'beside', 'whole', 'thereby', 'another', 'up', 'very', 'whereafter', 'co', 'found', 'during', 'twenty', 'everywhere', 'since', 'third', 'yourselves', 'un', 'yourself', 'own', 'get', 'full', 'made', 'else', 'that', 'latter', 'wherein', 'cannot', 'becomes', 'whoever', 'hence', 'us', 'among', 'few', 'thence', 'done', 'then', 'everything', 'three', 'thus', 'whether', 'mine', 'thin', 'could', 'meanwhile', 'wherever', 'whither', 'a', 'every', 'hereupon', 'were', 'more', 'those', 'describe', 'nobody', 'empty', 'so', 'further', 'anyone', 'been', 'two', 'ourselves', 'something', 'others', 'serious', 'already', 'still', 'fire', 'someone', 'yet', 'except', 'whenever', 'becoming', 'their', 'with', 'am', 'together', 'sixty', 'would', 'perhaps', 'call', 'nothing', 'de', 'myself', 'here', 'we', 'first', 'into', 'himself', 'none', 'otherwise', 'hasnt', 'elsewhere', 'everyone', 'much', 'sincere', 'such', 'moreover', 'amoungst', 'keep', 'find', 'sometimes', 'eleven', 'against', 'five', 'enough', 'might', 'this', 'may', 'four', 'system', 'around', 'nor', 'nowhere', 'thick', 'often', 'by', 'most', 'where', 'either', 'front', 're', 'seeming', 'however', 'sometime', 'indeed', 'until', 'take', 'beyond', 'whereby', 'part', 'whose', 'some', 'any', 'once', 'without', 'ten', 'because', 'its', 'thru', 'has', 'put', 'give', 'hers'})\n"
     ]
    },
    {
     "name": "stderr",
     "output_type": "stream",
     "text": [
      "C:\\Users\\irina\\Anaconda3\\lib\\site-packages\\sklearn\\utils\\deprecation.py:143: FutureWarning: The sklearn.feature_extraction.stop_words module is  deprecated in version 0.22 and will be removed in version 0.24. The corresponding classes / functions should instead be imported from sklearn.feature_extraction.text. Anything that cannot be imported from sklearn.feature_extraction.text is now part of the private API.\n",
      "  warnings.warn(message, FutureWarning)\n"
     ]
    }
   ],
   "source": [
    "from sklearn.feature_extraction import stop_words\n",
    "print(stop_words.ENGLISH_STOP_WORDS)"
   ]
  },
  {
   "cell_type": "markdown",
   "metadata": {},
   "source": [
    "You should have seen a large list of words that looks like:\n",
    "\n",
    "```frozenset({'across', 'mine', 'cannot', ...})```\n",
    "\n",
    "`frozenset` is a type of Python object that is immutable. In this lab you can use it just like an array without conversion."
   ]
  },
  {
   "cell_type": "markdown",
   "metadata": {},
   "source": [
    "Next, test your function with supplying `stop_words.ENGLISH_STOP_WORDS` as the second parameter."
   ]
  },
  {
   "cell_type": "code",
   "execution_count": 103,
   "metadata": {},
   "outputs": [
    {
     "name": "stdout",
     "output_type": "stream",
     "text": [
      "{'bag_of_words': ['student', 'love', 'ironhack', 'cool'], 'term_freq': [[0, 0, 1, 1], [0, 1, 1, 0], [1, 0, 1, 0]]}\n"
     ]
    }
   ],
   "source": [
    "bow = get_bow_from_docs(docs, stop_words.ENGLISH_STOP_WORDS)\n",
    "\n",
    "print(bow)"
   ]
  },
  {
   "cell_type": "markdown",
   "metadata": {},
   "source": [
    "You should have seen:\n",
    "\n",
    "```{'bag_of_words': ['ironhack', 'cool', 'love', 'student'], 'term_freq': [[1, 1, 0, 0], [1, 0, 1, 0], [1, 0, 0, 1]]}```"
   ]
  }
 ],
 "metadata": {
  "kernelspec": {
   "display_name": "Python 3",
   "language": "python",
   "name": "python3"
  },
  "language_info": {
   "codemirror_mode": {
    "name": "ipython",
    "version": 3
   },
   "file_extension": ".py",
   "mimetype": "text/x-python",
   "name": "python",
   "nbconvert_exporter": "python",
   "pygments_lexer": "ipython3",
   "version": "3.8.3"
  }
 },
 "nbformat": 4,
 "nbformat_minor": 2
}
