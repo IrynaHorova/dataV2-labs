{
 "cells": [
  {
   "cell_type": "code",
   "execution_count": null,
   "metadata": {},
   "outputs": [],
   "source": [
    "\"\"\"\n",
    "Define a method/function that removes from a given array of integers all the values contained in a second array.\n",
    "\n",
    "Examples:\n",
    "l = List()\n",
    "\n",
    "integer_list =  [1, 1, 2 ,3 ,1 ,2 ,3 ,4]\n",
    "values_list = [1, 3]\n",
    "l.remove_(integer_list, values_list) == [2, 2, 4]\n",
    "\n",
    "integer_list = [1, 1, 2 ,3 ,1 ,2 ,3 ,4, 4, 3 ,5, 6, 7, 2, 8]\n",
    "lst = [1, 3, 4, 2]\n",
    "l.remove_(integer_list, values_list) == [5, 6 ,7 ,8]\n",
    "\n",
    "integer_list = [8, 2, 7, 2, 3, 4, 6, 5, 4, 4, 1, 2 , 3]\n",
    "lst = [2, 4, 3]\n",
    "l.remove_(integer_list, values_list) == [8, 7, 6, 5, 1]\n",
    "\n",
    "\"\"\""
   ]
  },
  {
   "cell_type": "code",
   "execution_count": null,
   "metadata": {},
   "outputs": [],
   "source": [
    "#Solution on katas\n",
    "# https://www.codewars.com/kata/reviews/56308b64fdaa7c0e700000d5/groups/5f9aa149d21a2c00010161ad"
   ]
  },
  {
   "cell_type": "code",
   "execution_count": 5,
   "metadata": {},
   "outputs": [],
   "source": [
    "class List(list):\n",
    "    def remove_(self, int_list, val_list):\n",
    "        return [el for el in int_list if el not in val_list]"
   ]
  },
  {
   "cell_type": "code",
   "execution_count": 6,
   "metadata": {},
   "outputs": [],
   "source": [
    "l = List()"
   ]
  },
  {
   "cell_type": "code",
   "execution_count": 7,
   "metadata": {},
   "outputs": [
    {
     "name": "stdout",
     "output_type": "stream",
     "text": [
      "[11, 22, 33, 44, 8, 8]\n"
     ]
    }
   ],
   "source": [
    "integers_list = [11,22,33,44,5,6,6,8,8]\n",
    "values_list = [1,5,6]\n",
    "\n",
    "l = l.remove_(integers_list, values_list)\n",
    "print(l)"
   ]
  },
  {
   "cell_type": "code",
   "execution_count": 8,
   "metadata": {},
   "outputs": [],
   "source": [
    "class List(list):\n",
    "    def remove_(self, val_list):\n",
    "        self.val_list = val_list\n",
    "        return [el for el in int_list if el not in val_list]"
   ]
  },
  {
   "cell_type": "code",
   "execution_count": 9,
   "metadata": {},
   "outputs": [],
   "source": [
    "integers_list = [11,22,33,44,5,6,6,8,8]\n",
    "values_list = [1,5,6]\n",
    "\n",
    "integers_list."
   ]
  }
 ],
 "metadata": {
  "kernelspec": {
   "display_name": "Python 3",
   "language": "python",
   "name": "python3"
  },
  "language_info": {
   "codemirror_mode": {
    "name": "ipython",
    "version": 3
   },
   "file_extension": ".py",
   "mimetype": "text/x-python",
   "name": "python",
   "nbconvert_exporter": "python",
   "pygments_lexer": "ipython3",
   "version": "3.8.3"
  }
 },
 "nbformat": 4,
 "nbformat_minor": 4
}
