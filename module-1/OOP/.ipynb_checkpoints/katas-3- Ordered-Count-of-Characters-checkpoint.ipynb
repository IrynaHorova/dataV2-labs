{
 "cells": [
  {
   "cell_type": "code",
   "execution_count": 1,
   "metadata": {},
   "outputs": [
    {
     "data": {
      "text/plain": [
       "'\\nCount the number of occurrences of each character and return it as a list of tuples in order of appearance. \\nFor empty output return an empty list.\\n\\n'"
      ]
     },
     "execution_count": 1,
     "metadata": {},
     "output_type": "execute_result"
    }
   ],
   "source": [
    "\"\"\"\n",
    "Count the number of occurrences of each character and return it as a list of tuples in order of appearance. \n",
    "For empty output return an empty list.\n",
    "\n",
    "\"\"\""
   ]
  },
  {
   "cell_type": "code",
   "execution_count": 2,
   "metadata": {},
   "outputs": [],
   "source": [
    "#Solution on katas\n",
    "# https://www.codewars.com/kata/reviews/57a73a26845079abbc000080/groups/5f9aad9b649fd300019b5dd6"
   ]
  },
  {
   "cell_type": "code",
   "execution_count": 3,
   "metadata": {},
   "outputs": [],
   "source": [
    "class Str(str):\n",
    "    def ordered_count(self):\n",
    "        # your code here\n",
    "        return [(st, self.count(st)) for st in sorted(set(self), key = lambda x: self.find(x))]"
   ]
  },
  {
   "cell_type": "code",
   "execution_count": 6,
   "metadata": {},
   "outputs": [],
   "source": [
    "String = Str(\"Code Wars\")"
   ]
  },
  {
   "cell_type": "code",
   "execution_count": 7,
   "metadata": {},
   "outputs": [
    {
     "data": {
      "text/plain": [
       "[('C', 1),\n",
       " ('o', 1),\n",
       " ('d', 1),\n",
       " ('e', 1),\n",
       " (' ', 1),\n",
       " ('W', 1),\n",
       " ('a', 1),\n",
       " ('r', 1),\n",
       " ('s', 1)]"
      ]
     },
     "execution_count": 7,
     "metadata": {},
     "output_type": "execute_result"
    }
   ],
   "source": [
    "String.ordered_count()"
   ]
  }
 ],
 "metadata": {
  "kernelspec": {
   "display_name": "Python 3",
   "language": "python",
   "name": "python3"
  },
  "language_info": {
   "codemirror_mode": {
    "name": "ipython",
    "version": 3
   },
   "file_extension": ".py",
   "mimetype": "text/x-python",
   "name": "python",
   "nbconvert_exporter": "python",
   "pygments_lexer": "ipython3",
   "version": "3.8.3"
  }
 },
 "nbformat": 4,
 "nbformat_minor": 4
}
