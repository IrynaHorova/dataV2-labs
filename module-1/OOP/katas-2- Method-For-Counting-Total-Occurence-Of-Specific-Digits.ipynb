{
 "cells": [
  {
   "cell_type": "code",
   "execution_count": null,
   "metadata": {},
   "outputs": [],
   "source": [
    "\"\"\"\n",
    "We need a method in the List Class that may count specific digits from a given list of integers. \n",
    "This marked digits will be given in a second list. \n",
    "The method .count_spec_digits()/.countSpecDigits() will accept two arguments, \n",
    "a list of an uncertain amount of integers integers_lists/integersLists (and of an uncertain amount of digits, too) \n",
    "and a second list, digits_list/digitsList that has the specific digits to count which length cannot be be longer \n",
    "than 10 (It's obvious, we've got ten digits). The method will output a list of tuples, each tuple having two elements, \n",
    "the first one will be a digit to count, and second one, \n",
    "its corresponding total frequency in all the integers of the first list. \n",
    "This list of tuples should be ordered with the same order that the digits have in digitsList\n",
    "\n",
    "\"\"\""
   ]
  },
  {
   "cell_type": "code",
   "execution_count": 1,
   "metadata": {},
   "outputs": [],
   "source": [
    "#Solution on katas\n",
    "# https://www.codewars.com/kata/reviews/56312d8de29fcd4e97000060/groups/5f9aa7d3649fd300019b5c5a"
   ]
  },
  {
   "cell_type": "code",
   "execution_count": 2,
   "metadata": {},
   "outputs": [],
   "source": [
    "class List(list):\n",
    "    def count_spec_digits(self, integers_list, digits_list):\n",
    "        # your code here\n",
    "        return [(dl, sum([str(il).count(str(dl)) for il in integers_list])) for dl in digits_list]"
   ]
  },
  {
   "cell_type": "code",
   "execution_count": 6,
   "metadata": {},
   "outputs": [
    {
     "name": "stdout",
     "output_type": "stream",
     "text": [
      "[(1, 0), (8, 0), (4, 0)]\n"
     ]
    }
   ],
   "source": [
    "l = List()\n",
    "\n",
    "integers_list = [-77, -65, 56, -79, 6666, 222]\n",
    "digits_list = [1, 8, 4]\n",
    "\n",
    "print(l.count_spec_digits(integers_list, digits_list))"
   ]
  }
 ],
 "metadata": {
  "kernelspec": {
   "display_name": "Python 3",
   "language": "python",
   "name": "python3"
  },
  "language_info": {
   "codemirror_mode": {
    "name": "ipython",
    "version": 3
   },
   "file_extension": ".py",
   "mimetype": "text/x-python",
   "name": "python",
   "nbconvert_exporter": "python",
   "pygments_lexer": "ipython3",
   "version": "3.8.3"
  }
 },
 "nbformat": 4,
 "nbformat_minor": 4
}
