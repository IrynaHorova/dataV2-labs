{
 "cells": [
  {
   "cell_type": "markdown",
   "metadata": {},
   "source": [
    "# Introduction to NumPy\n",
    "\n",
    "\n",
    "#### 1. Import NumPy under the name np."
   ]
  },
  {
   "cell_type": "code",
   "execution_count": 96,
   "metadata": {},
   "outputs": [],
   "source": [
    "# your code here\n",
    "\n",
    "import numpy as np"
   ]
  },
  {
   "cell_type": "markdown",
   "metadata": {},
   "source": [
    "#### 2. Print your NumPy version."
   ]
  },
  {
   "cell_type": "code",
   "execution_count": 100,
   "metadata": {},
   "outputs": [
    {
     "name": "stdout",
     "output_type": "stream",
     "text": [
      "1.18.5\n"
     ]
    }
   ],
   "source": [
    "# your code here\n",
    "print(np.version.version)"
   ]
  },
  {
   "cell_type": "markdown",
   "metadata": {},
   "source": [
    "#### 3. Generate a 2x3x5 3-dimensional array with random values. Assign the array to variable *a*.\n",
    "**Challenge**: there are at least three easy ways that use numpy to generate random arrays. How many ways can you find?"
   ]
  },
  {
   "cell_type": "code",
   "execution_count": 101,
   "metadata": {},
   "outputs": [
    {
     "name": "stdout",
     "output_type": "stream",
     "text": [
      "[[[0.62441568 0.21810532 0.15227281 0.41056988 0.48937127]\n",
      "  [0.04250076 0.92810393 0.9700667  0.20981759 0.0747355 ]\n",
      "  [0.84337929 0.30156558 0.57982445 0.26869671 0.23961351]]\n",
      "\n",
      " [[0.83396265 0.91130494 0.55627603 0.9203443  0.83338695]\n",
      "  [0.76564783 0.50323789 0.51865506 0.25066472 0.1514081 ]\n",
      "  [0.03778855 0.93925074 0.83206089 0.44603475 0.40854477]]]\n",
      "<class 'numpy.ndarray'>\n"
     ]
    }
   ],
   "source": [
    "# Method 1\n",
    "\n",
    "a = np.random.random((2,3,5))\n",
    "\n",
    "print(a)\n",
    "print(type(a))"
   ]
  },
  {
   "cell_type": "code",
   "execution_count": 102,
   "metadata": {},
   "outputs": [
    {
     "name": "stdout",
     "output_type": "stream",
     "text": [
      "[[[0.0998613  0.04141386 0.74530459 0.22947275 0.97425674]\n",
      "  [0.32131371 0.60764996 0.32917584 0.16067951 0.33251097]\n",
      "  [0.25174857 0.75516135 0.90149918 0.63560013 0.94980079]]\n",
      "\n",
      " [[0.64329334 0.07212784 0.52966763 0.70670154 0.86736476]\n",
      "  [0.09583762 0.67708223 0.94065617 0.13753299 0.37511863]\n",
      "  [0.70910636 0.82820807 0.09162121 0.31385946 0.37699085]]]\n",
      "<class 'numpy.ndarray'>\n"
     ]
    }
   ],
   "source": [
    "# Method 2\n",
    "\n",
    "lst_lst = [np.random.random((3,5)), np.random.random((3,5))]\n",
    "\n",
    "a = np.array(lst_lst)\n",
    "\n",
    "print(a)\n",
    "print(type(a))"
   ]
  },
  {
   "cell_type": "code",
   "execution_count": 103,
   "metadata": {},
   "outputs": [
    {
     "name": "stdout",
     "output_type": "stream",
     "text": [
      "[[[0.08335733 0.78580739 0.02578663 0.50417015 0.6920737 ]\n",
      "  [0.12126032 0.84762712 0.30850082 0.29897339 0.29540353]\n",
      "  [0.33723759 0.77690162 0.59150876 0.01248472 0.97324565]]\n",
      "\n",
      " [[0.79797072 0.53284474 0.74960343 0.57762446 0.18722632]\n",
      "  [0.82006034 0.99934617 0.54882486 0.82539874 0.25941938]\n",
      "  [0.11906753 0.80971506 0.82165283 0.4605189  0.06909032]]]\n",
      "<class 'numpy.ndarray'>\n"
     ]
    }
   ],
   "source": [
    "# Method 3\n",
    "\n",
    "a = np.random.random((1,30)).reshape(2,3,5)\n",
    "\n",
    "print(a)\n",
    "print(type(a))"
   ]
  },
  {
   "cell_type": "markdown",
   "metadata": {},
   "source": [
    "#### 4. Print *a*.\n"
   ]
  },
  {
   "cell_type": "code",
   "execution_count": 104,
   "metadata": {},
   "outputs": [
    {
     "name": "stdout",
     "output_type": "stream",
     "text": [
      "[[[0.08335733 0.78580739 0.02578663 0.50417015 0.6920737 ]\n",
      "  [0.12126032 0.84762712 0.30850082 0.29897339 0.29540353]\n",
      "  [0.33723759 0.77690162 0.59150876 0.01248472 0.97324565]]\n",
      "\n",
      " [[0.79797072 0.53284474 0.74960343 0.57762446 0.18722632]\n",
      "  [0.82006034 0.99934617 0.54882486 0.82539874 0.25941938]\n",
      "  [0.11906753 0.80971506 0.82165283 0.4605189  0.06909032]]]\n"
     ]
    }
   ],
   "source": [
    "# your code here\n",
    "print(a)"
   ]
  },
  {
   "cell_type": "markdown",
   "metadata": {},
   "source": [
    "#### 5. Create a 5x2x3 3-dimensional array with all values equaling 1. Assign the array to variable *b*."
   ]
  },
  {
   "cell_type": "code",
   "execution_count": 105,
   "metadata": {},
   "outputs": [],
   "source": [
    "# your code here\n",
    "\n",
    "b = np.ones((5,2,3))"
   ]
  },
  {
   "cell_type": "markdown",
   "metadata": {},
   "source": [
    "#### 6. Print *b*.\n"
   ]
  },
  {
   "cell_type": "code",
   "execution_count": 106,
   "metadata": {},
   "outputs": [
    {
     "name": "stdout",
     "output_type": "stream",
     "text": [
      "[[[1. 1. 1.]\n",
      "  [1. 1. 1.]]\n",
      "\n",
      " [[1. 1. 1.]\n",
      "  [1. 1. 1.]]\n",
      "\n",
      " [[1. 1. 1.]\n",
      "  [1. 1. 1.]]\n",
      "\n",
      " [[1. 1. 1.]\n",
      "  [1. 1. 1.]]\n",
      "\n",
      " [[1. 1. 1.]\n",
      "  [1. 1. 1.]]]\n"
     ]
    }
   ],
   "source": [
    "# your code here\n",
    "print(b)"
   ]
  },
  {
   "cell_type": "markdown",
   "metadata": {},
   "source": [
    "#### 7. Do *a* and *b* have the same size? How do you prove that in Python code?"
   ]
  },
  {
   "cell_type": "code",
   "execution_count": 107,
   "metadata": {},
   "outputs": [
    {
     "name": "stdout",
     "output_type": "stream",
     "text": [
      "a and b have the sime size, proof:\n",
      "True\n"
     ]
    }
   ],
   "source": [
    "# your code here\n",
    "print(\"a and b have the sime size, proof:\")\n",
    "print(a.size == b.size) "
   ]
  },
  {
   "cell_type": "markdown",
   "metadata": {},
   "source": [
    "#### 8. Are you able to add *a* and *b*? Why or why not?\n"
   ]
  },
  {
   "cell_type": "code",
   "execution_count": 108,
   "metadata": {},
   "outputs": [
    {
     "name": "stdout",
     "output_type": "stream",
     "text": [
      "The code throws the error because you cannot add two arrays of these (different) shapes\n",
      "\n"
     ]
    },
    {
     "ename": "ValueError",
     "evalue": "operands could not be broadcast together with shapes (2,3,5) (5,2,3) ",
     "output_type": "error",
     "traceback": [
      "\u001b[1;31m---------------------------------------------------------------------------\u001b[0m",
      "\u001b[1;31mValueError\u001b[0m                                Traceback (most recent call last)",
      "\u001b[1;32m<ipython-input-108-18da180ac83c>\u001b[0m in \u001b[0;36m<module>\u001b[1;34m\u001b[0m\n\u001b[0;32m      3\u001b[0m \u001b[0mprint\u001b[0m\u001b[1;33m(\u001b[0m\u001b[1;34m'The code throws the error because you cannot add two arrays of these (different) shapes\\n'\u001b[0m\u001b[1;33m)\u001b[0m\u001b[1;33m\u001b[0m\u001b[1;33m\u001b[0m\u001b[0m\n\u001b[0;32m      4\u001b[0m \u001b[1;33m\u001b[0m\u001b[0m\n\u001b[1;32m----> 5\u001b[1;33m \u001b[0mprint\u001b[0m\u001b[1;33m(\u001b[0m\u001b[0mnp\u001b[0m\u001b[1;33m.\u001b[0m\u001b[0madd\u001b[0m\u001b[1;33m(\u001b[0m\u001b[0ma\u001b[0m\u001b[1;33m,\u001b[0m\u001b[0mb\u001b[0m\u001b[1;33m)\u001b[0m\u001b[1;33m)\u001b[0m\u001b[1;33m\u001b[0m\u001b[1;33m\u001b[0m\u001b[0m\n\u001b[0m",
      "\u001b[1;31mValueError\u001b[0m: operands could not be broadcast together with shapes (2,3,5) (5,2,3) "
     ]
    }
   ],
   "source": [
    "# your answer here\n",
    "\n",
    "print('The code throws the error because you cannot add two arrays of these (different) shapes\\n')\n",
    "\n",
    "print(np.add(a,b))"
   ]
  },
  {
   "cell_type": "markdown",
   "metadata": {},
   "source": [
    "#### 9. Transpose *b* so that it has the same structure of *a* (i.e. become a 2x3x5 array). Assign the transposed array to variable *c*."
   ]
  },
  {
   "cell_type": "code",
   "execution_count": 109,
   "metadata": {},
   "outputs": [
    {
     "name": "stdout",
     "output_type": "stream",
     "text": [
      "b shape (5, 2, 3)\n",
      "a shape (2, 3, 5)\n",
      "c shape (2, 3, 5)\n"
     ]
    }
   ],
   "source": [
    "# your code here\n",
    "print(\"b shape\", b.shape)\n",
    "c = b.transpose(1,2,0)\n",
    "\n",
    "print(\"a shape\", a.shape)\n",
    "print(\"c shape\", c.shape)"
   ]
  },
  {
   "cell_type": "markdown",
   "metadata": {},
   "source": [
    "#### 10. Try to add *a* and *c*. Now it should work. Assign the sum to variable *d*. But why does it work now?"
   ]
  },
  {
   "cell_type": "code",
   "execution_count": 110,
   "metadata": {},
   "outputs": [],
   "source": [
    "# your code/answer here\n",
    "\n",
    "d = np.add(a,c)"
   ]
  },
  {
   "cell_type": "markdown",
   "metadata": {},
   "source": [
    "#### 11. Print *a* and *d*. Notice the difference and relation of the two array in terms of the values? Explain."
   ]
  },
  {
   "cell_type": "code",
   "execution_count": 111,
   "metadata": {},
   "outputs": [
    {
     "name": "stdout",
     "output_type": "stream",
     "text": [
      "arr a\n",
      " [[[0.08335733 0.78580739 0.02578663 0.50417015 0.6920737 ]\n",
      "  [0.12126032 0.84762712 0.30850082 0.29897339 0.29540353]\n",
      "  [0.33723759 0.77690162 0.59150876 0.01248472 0.97324565]]\n",
      "\n",
      " [[0.79797072 0.53284474 0.74960343 0.57762446 0.18722632]\n",
      "  [0.82006034 0.99934617 0.54882486 0.82539874 0.25941938]\n",
      "  [0.11906753 0.80971506 0.82165283 0.4605189  0.06909032]]]\n",
      "\n",
      "arr d\n",
      " [[[1.08335733 1.78580739 1.02578663 1.50417015 1.6920737 ]\n",
      "  [1.12126032 1.84762712 1.30850082 1.29897339 1.29540353]\n",
      "  [1.33723759 1.77690162 1.59150876 1.01248472 1.97324565]]\n",
      "\n",
      " [[1.79797072 1.53284474 1.74960343 1.57762446 1.18722632]\n",
      "  [1.82006034 1.99934617 1.54882486 1.82539874 1.25941938]\n",
      "  [1.11906753 1.80971506 1.82165283 1.4605189  1.06909032]]]\n",
      "\n",
      "Values of array d will be equal to values of array a plus 1:\n",
      "\n",
      "[[[1. 1. 1. 1. 1.]\n",
      "  [1. 1. 1. 1. 1.]\n",
      "  [1. 1. 1. 1. 1.]]\n",
      "\n",
      " [[1. 1. 1. 1. 1.]\n",
      "  [1. 1. 1. 1. 1.]\n",
      "  [1. 1. 1. 1. 1.]]]\n"
     ]
    }
   ],
   "source": [
    "# your code/answer here\n",
    "\n",
    "print(\"arr a\\n\",a)\n",
    "print()\n",
    "print(\"arr d\\n\",d)\n",
    "\n",
    "print(\"\\nValues of array d will be equal to values of array a plus 1:\\n\")\n",
    "print(d - a)"
   ]
  },
  {
   "cell_type": "markdown",
   "metadata": {},
   "source": [
    "#### 12. Multiply *a* and *c*. Assign the result to *e*."
   ]
  },
  {
   "cell_type": "code",
   "execution_count": 113,
   "metadata": {},
   "outputs": [
    {
     "name": "stdout",
     "output_type": "stream",
     "text": [
      "arr e\n",
      " [[[0.08335733 0.78580739 0.02578663 0.50417015 0.6920737 ]\n",
      "  [0.12126032 0.84762712 0.30850082 0.29897339 0.29540353]\n",
      "  [0.33723759 0.77690162 0.59150876 0.01248472 0.97324565]]\n",
      "\n",
      " [[0.79797072 0.53284474 0.74960343 0.57762446 0.18722632]\n",
      "  [0.82006034 0.99934617 0.54882486 0.82539874 0.25941938]\n",
      "  [0.11906753 0.80971506 0.82165283 0.4605189  0.06909032]]]\n",
      "\n"
     ]
    }
   ],
   "source": [
    "# your code here\n",
    "\n",
    "#print(a)\n",
    "#print()\n",
    "#print(c)\n",
    "#print()\n",
    "e = np.multiply(a,c)\n",
    "#print()\n",
    "print(\"arr e\\n\",e)\n",
    "print()"
   ]
  },
  {
   "cell_type": "markdown",
   "metadata": {},
   "source": [
    "#### 13. Does *e* equal to *a*? Why or why not?\n"
   ]
  },
  {
   "cell_type": "code",
   "execution_count": 114,
   "metadata": {},
   "outputs": [
    {
     "name": "stdout",
     "output_type": "stream",
     "text": [
      "e is equal to a because it was generated as element wise multiplication of a and c, which is an array of ones:\n",
      "\n",
      "[[[0.08335733 0.78580739 0.02578663 0.50417015 0.6920737 ]\n",
      "  [0.12126032 0.84762712 0.30850082 0.29897339 0.29540353]\n",
      "  [0.33723759 0.77690162 0.59150876 0.01248472 0.97324565]]\n",
      "\n",
      " [[0.79797072 0.53284474 0.74960343 0.57762446 0.18722632]\n",
      "  [0.82006034 0.99934617 0.54882486 0.82539874 0.25941938]\n",
      "  [0.11906753 0.80971506 0.82165283 0.4605189  0.06909032]]]\n",
      "\n",
      " [[[0.08335733 0.78580739 0.02578663 0.50417015 0.6920737 ]\n",
      "  [0.12126032 0.84762712 0.30850082 0.29897339 0.29540353]\n",
      "  [0.33723759 0.77690162 0.59150876 0.01248472 0.97324565]]\n",
      "\n",
      " [[0.79797072 0.53284474 0.74960343 0.57762446 0.18722632]\n",
      "  [0.82006034 0.99934617 0.54882486 0.82539874 0.25941938]\n",
      "  [0.11906753 0.80971506 0.82165283 0.4605189  0.06909032]]]\n"
     ]
    }
   ],
   "source": [
    "# your code/answer here\n",
    "print('e is equal to a because it was generated as element wise multiplication of a and c, which is an array of ones:\\n')\n",
    "\n",
    "print(e)\n",
    "print('\\n',a)"
   ]
  },
  {
   "cell_type": "markdown",
   "metadata": {},
   "source": [
    "#### 14. Identify the max, min, and mean values in *d*. Assign those values to variables *d_max*, *d_min* and *d_mean*."
   ]
  },
  {
   "cell_type": "code",
   "execution_count": 115,
   "metadata": {},
   "outputs": [
    {
     "name": "stdout",
     "output_type": "stream",
     "text": [
      "[[[1.08335733 1.78580739 1.02578663 1.50417015 1.6920737 ]\n",
      "  [1.12126032 1.84762712 1.30850082 1.29897339 1.29540353]\n",
      "  [1.33723759 1.77690162 1.59150876 1.01248472 1.97324565]]\n",
      "\n",
      " [[1.79797072 1.53284474 1.74960343 1.57762446 1.18722632]\n",
      "  [1.82006034 1.99934617 1.54882486 1.82539874 1.25941938]\n",
      "  [1.11906753 1.80971506 1.82165283 1.4605189  1.06909032]]]\n",
      "\n",
      "d_max  1.9993461692204244\n",
      "d_min  1.012484719128738\n",
      "d_mean  1.5077567507445349\n"
     ]
    }
   ],
   "source": [
    "# your code here\n",
    "print(d)\n",
    "d_max = np.max(d)\n",
    "d_min = np.min(d)\n",
    "d_mean = np.mean(d)\n",
    "\n",
    "print(\"\\nd_max \",d_max)\n",
    "print(\"d_min \",d_min)\n",
    "print(\"d_mean \",d_mean)\n"
   ]
  },
  {
   "cell_type": "markdown",
   "metadata": {},
   "source": [
    "#### 15. Now we want to label the values in *d*. First create an empty array *f* with the same shape (i.e. 2x3x5) as *d* using `np.empty`.\n"
   ]
  },
  {
   "cell_type": "code",
   "execution_count": 116,
   "metadata": {},
   "outputs": [
    {
     "name": "stdout",
     "output_type": "stream",
     "text": [
      "[[[1.08335733 1.78580739 1.02578663 1.50417015 1.6920737 ]\n",
      "  [1.12126032 1.84762712 1.30850082 1.29897339 1.29540353]\n",
      "  [1.33723759 1.77690162 1.59150876 1.01248472 1.97324565]]\n",
      "\n",
      " [[1.79797072 1.53284474 1.74960343 1.57762446 1.18722632]\n",
      "  [1.82006034 1.99934617 1.54882486 1.82539874 1.25941938]\n",
      "  [1.11906753 1.80971506 1.82165283 1.4605189  1.06909032]]]\n"
     ]
    }
   ],
   "source": [
    "# your code here\n",
    "\n",
    "f = np.empty((2,3,5))\n",
    "\n",
    "print(f)"
   ]
  },
  {
   "cell_type": "markdown",
   "metadata": {},
   "source": [
    "#### 16. Populate the values in *f*. \n",
    "\n",
    "For each value in *d*, if it's larger than *d_min* but smaller than *d_mean*, assign 25 to the corresponding value in *f*. If a value in *d* is larger than *d_mean* but smaller than *d_max*, assign 75 to the corresponding value in *f*. If a value equals to *d_mean*, assign 50 to the corresponding value in *f*. Assign 0 to the corresponding value(s) in *f* for *d_min* in *d*. Assign 100 to the corresponding value(s) in *f* for *d_max* in *d*. In the end, f should have only the following values: 0, 25, 50, 75, and 100.\n",
    "\n",
    "**Note**: you don't have to use Numpy in this question."
   ]
  },
  {
   "cell_type": "code",
   "execution_count": 133,
   "metadata": {},
   "outputs": [],
   "source": [
    "# your code here\n",
    "\n",
    "for i in range(2):\n",
    "    for j in range(3):\n",
    "        for k in range(5):\n",
    "            if (d[i][j][k] > d_min) and (d[i][j][k] < d_mean):\n",
    "                f[i][j][k] =  25\n",
    "            elif (d[i][j][k] > d_mean) and (d[i][j][k] < d_max):    \n",
    "                f[i][j][k] =  75\n",
    "            elif (d[i][j][k] == d_mean):    \n",
    "                f[i][j][k] =  50\n",
    "            elif (d[i][j][k] == d_min):    \n",
    "                f[i][j][k] =  0  \n",
    "            elif (d[i][j][k] == d_max):    \n",
    "                f[i][j][k] =  100 \n",
    "                "
   ]
  },
  {
   "cell_type": "markdown",
   "metadata": {},
   "source": [
    "#### 17. Print *d* and *f*. Do you have your expected *f*?\n",
    "For instance, if your *d* is:\n",
    "```python\n",
    "[[[1.85836099, 1.67064465, 1.62576044, 1.40243961, 1.88454931],\n",
    "[1.75354326, 1.69403643, 1.36729252, 1.61415071, 1.12104981],\n",
    "[1.72201435, 1.1862918 , 1.87078449, 1.7726778 , 1.88180042]],\n",
    "[[1.44747908, 1.31673383, 1.02000951, 1.52218947, 1.97066381],\n",
    "[1.79129243, 1.74983003, 1.96028037, 1.85166831, 1.65450881],\n",
    "[1.18068344, 1.9587381 , 1.00656599, 1.93402165, 1.73514584]]]\n",
    "```\n",
    "Your *f* should be:\n",
    "```python\n",
    "[[[ 75.,  75.,  75.,  25.,  75.],\n",
    "[ 75.,  75.,  25.,  25.,  25.],\n",
    "[ 75.,  25.,  75.,  75.,  75.]],\n",
    "[[ 25.,  25.,  25.,  25., 100.],\n",
    "[ 75.,  75.,  75.,  75.,  75.],\n",
    "[ 25.,  75.,   0.,  75.,  75.]]]\n",
    "```"
   ]
  },
  {
   "cell_type": "code",
   "execution_count": 134,
   "metadata": {},
   "outputs": [
    {
     "name": "stdout",
     "output_type": "stream",
     "text": [
      "d is\n",
      " [[[1.08335733 1.78580739 1.02578663 1.50417015 1.6920737 ]\n",
      "  [1.12126032 1.84762712 1.30850082 1.29897339 1.29540353]\n",
      "  [1.33723759 1.77690162 1.59150876 1.01248472 1.97324565]]\n",
      "\n",
      " [[1.79797072 1.53284474 1.74960343 1.57762446 1.18722632]\n",
      "  [1.82006034 1.99934617 1.54882486 1.82539874 1.25941938]\n",
      "  [1.11906753 1.80971506 1.82165283 1.4605189  1.06909032]]]\n",
      "\n",
      "f is\n",
      " [[[25 75 25 25 75]\n",
      "  [25 75 25 25 25]\n",
      "  [25 75 75 0 75]]\n",
      "\n",
      " [[75 75 75 75 25]\n",
      "  [75 100 75 75 25]\n",
      "  [25 75 75 25 25]]]\n"
     ]
    }
   ],
   "source": [
    "# your code here\n",
    "print(\"d is\\n\",d)\n",
    "print(\"\\nf is\\n\",f)"
   ]
  },
  {
   "cell_type": "markdown",
   "metadata": {},
   "source": [
    "#### 18. Bonus question: instead of using numbers (i.e. 0, 25, 50, 75, and 100), use string values  (\"A\", \"B\", \"C\", \"D\", and \"E\") to label the array elements. For the example above, the expected result is:\n",
    "\n",
    "```python\n",
    "[[[ 'D',  'D',  'D',  'B',  'D'],\n",
    "[ 'D',  'D',  'B',  'B',  'B'],\n",
    "[ 'D',  'B',  'D',  'D',  'D']],\n",
    "[[ 'B',  'B',  'B',  'B',  'E'],\n",
    "[ 'D',  'D',  'D',  'D',  'D'],\n",
    "[ 'B',  'D',   'A',  'D', 'D']]]\n",
    "```\n",
    "**Note**: you don't have to use Numpy in this question."
   ]
  },
  {
   "cell_type": "code",
   "execution_count": 140,
   "metadata": {},
   "outputs": [
    {
     "name": "stdout",
     "output_type": "stream",
     "text": [
      "d is\n",
      " [[[1.08335733 1.78580739 1.02578663 1.50417015 1.6920737 ]\n",
      "  [1.12126032 1.84762712 1.30850082 1.29897339 1.29540353]\n",
      "  [1.33723759 1.77690162 1.59150876 1.01248472 1.97324565]]\n",
      "\n",
      " [[1.79797072 1.53284474 1.74960343 1.57762446 1.18722632]\n",
      "  [1.82006034 1.99934617 1.54882486 1.82539874 1.25941938]\n",
      "  [1.11906753 1.80971506 1.82165283 1.4605189  1.06909032]]]\n",
      "\n",
      "f1 is\n",
      " [[['B' 'D' 'B' 'B' 'D']\n",
      "  ['B' 'D' 'B' 'B' 'B']\n",
      "  ['B' 'D' 'D' 'A' 'D']]\n",
      "\n",
      " [['D' 'D' 'D' 'D' 'B']\n",
      "  ['D' 'E' 'D' 'D' 'B']\n",
      "  ['B' 'D' 'D' 'B' 'B']]]\n"
     ]
    }
   ],
   "source": [
    "# your code here\n",
    "\n",
    "f1 = np.empty((2,3,5), np.str)\n",
    "\n",
    "for i in range(2):\n",
    "    for j in range(3):\n",
    "        for k in range(5):\n",
    "            if (d[i][j][k] > d_min) and (d[i][j][k] < d_mean):\n",
    "                f1[i][j][k] =  'B'\n",
    "            elif (d[i][j][k] > d_mean) and (d[i][j][k] < d_max):    \n",
    "                f1[i][j][k] =  'D'\n",
    "            elif (d[i][j][k] == d_mean):    \n",
    "                f1[i][j][k] = 'C'\n",
    "            elif (d[i][j][k] == d_min):    \n",
    "                f1[i][j][k] =  'A'  \n",
    "            elif (d[i][j][k] == d_max):    \n",
    "                f1[i][j][k] =  'E'\n",
    "\n",
    "print(\"d is\\n\",d)                \n",
    "print(\"\\nf1 is\\n\", f1)"
   ]
  },
  {
   "cell_type": "code",
   "execution_count": 144,
   "metadata": {},
   "outputs": [
    {
     "name": "stdout",
     "output_type": "stream",
     "text": [
      "[[[25 75 25 25 75]\n",
      "  [25 75 25 25 25]\n",
      "  [25 75 75 0 75]]\n",
      "\n",
      " [[75 75 75 75 25]\n",
      "  [75 100 75 75 25]\n",
      "  [25 75 75 25 25]]]\n",
      "[[['B' 'D' 'B' 'B' 'D']\n",
      "  ['B' 'D' 'B' 'B' 'B']\n",
      "  ['B' 'D' 'D' 'A' 'D']]\n",
      "\n",
      " [['D' 'D' 'D' 'D' 'B']\n",
      "  ['D' 'E' 'D' 'D' 'B']\n",
      "  ['B' 'D' 'D' 'B' 'B']]]\n"
     ]
    }
   ],
   "source": [
    "# your code here\n",
    "\n",
    "f2 = np.array(f, dtype = 'object')\n",
    "f2[f2 == 0] = 'A'\n",
    "f2[f2 == 25] = 'B'\n",
    "f2[f2 == 50] = 'C'\n",
    "f2[f2 == 75] = 'D'\n",
    "f2[f2 == 100] = 'E'\n",
    "print(f)\n",
    "print(f2)"
   ]
  }
 ],
 "metadata": {
  "kernelspec": {
   "display_name": "Python 3",
   "language": "python",
   "name": "python3"
  },
  "language_info": {
   "codemirror_mode": {
    "name": "ipython",
    "version": 3
   },
   "file_extension": ".py",
   "mimetype": "text/x-python",
   "name": "python",
   "nbconvert_exporter": "python",
   "pygments_lexer": "ipython3",
   "version": "3.8.3"
  }
 },
 "nbformat": 4,
 "nbformat_minor": 2
}
