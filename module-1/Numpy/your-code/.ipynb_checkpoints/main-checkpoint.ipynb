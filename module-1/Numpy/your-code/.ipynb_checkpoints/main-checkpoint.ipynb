{
 "cells": [
  {
   "cell_type": "markdown",
   "metadata": {},
   "source": [
    "# Introduction to NumPy\n",
    "\n",
    "\n",
    "#### 1. Import NumPy under the name np."
   ]
  },
  {
   "cell_type": "code",
   "execution_count": 1,
   "metadata": {},
   "outputs": [],
   "source": [
    "# your code here\n",
    "\n",
    "import numpy as np"
   ]
  },
  {
   "cell_type": "markdown",
   "metadata": {},
   "source": [
    "#### 2. Print your NumPy version."
   ]
  },
  {
   "cell_type": "code",
   "execution_count": 2,
   "metadata": {},
   "outputs": [
    {
     "name": "stdout",
     "output_type": "stream",
     "text": [
      "<module 'numpy.version' from 'C:\\\\Users\\\\irina\\\\Anaconda3\\\\lib\\\\site-packages\\\\numpy\\\\version.py'>\n"
     ]
    }
   ],
   "source": [
    "# your code here\n",
    "print(np.version)"
   ]
  },
  {
   "cell_type": "markdown",
   "metadata": {},
   "source": [
    "#### 3. Generate a 2x3x5 3-dimensional array with random values. Assign the array to variable *a*.\n",
    "**Challenge**: there are at least three easy ways that use numpy to generate random arrays. How many ways can you find?"
   ]
  },
  {
   "cell_type": "code",
   "execution_count": 3,
   "metadata": {},
   "outputs": [
    {
     "name": "stdout",
     "output_type": "stream",
     "text": [
      "[[[0.15741691 0.8344834  0.52740954 0.5845722  0.01729931]\n",
      "  [0.11362141 0.59948845 0.85930303 0.28518643 0.63790299]\n",
      "  [0.17747349 0.84334661 0.10399596 0.14470617 0.37492339]]\n",
      "\n",
      " [[0.00183796 0.72716093 0.06476981 0.83576101 0.22438289]\n",
      "  [0.52387097 0.79496543 0.35166883 0.06083321 0.29197427]\n",
      "  [0.47514633 0.23843918 0.82593883 0.58991001 0.06605166]]]\n",
      "<class 'numpy.ndarray'>\n"
     ]
    }
   ],
   "source": [
    "# Method 1\n",
    "\n",
    "a = np.random.random((2,3,5))\n",
    "\n",
    "print(a)\n",
    "print(type(a))"
   ]
  },
  {
   "cell_type": "code",
   "execution_count": 4,
   "metadata": {},
   "outputs": [
    {
     "name": "stdout",
     "output_type": "stream",
     "text": [
      "[[[0.76201698 0.83494695 0.53621825 0.49597505 0.29089574]\n",
      "  [0.54842308 0.85806949 0.60919589 0.91526931 0.05700104]\n",
      "  [0.13243432 0.53914121 0.31220323 0.14210954 0.51475589]]\n",
      "\n",
      " [[0.46495902 0.99105597 0.67133665 0.77595891 0.15479063]\n",
      "  [0.07080243 0.49713952 0.40679191 0.74394881 0.48231545]\n",
      "  [0.46817305 0.66602817 0.22776433 0.55545362 0.96080582]]]\n",
      "<class 'numpy.ndarray'>\n"
     ]
    }
   ],
   "source": [
    "# Method 2\n",
    "\n",
    "lst_lst = [np.random.random((3,5)), np.random.random((3,5))]\n",
    "\n",
    "a = np.array(lst_lst)\n",
    "\n",
    "print(a)\n",
    "print(type(a))"
   ]
  },
  {
   "cell_type": "code",
   "execution_count": 5,
   "metadata": {},
   "outputs": [
    {
     "name": "stdout",
     "output_type": "stream",
     "text": [
      "[[[0.14891323 0.38745585 0.40285811 0.04783638 0.56979756]\n",
      "  [0.81773976 0.04797318 0.83144526 0.61673444 0.58403601]\n",
      "  [0.64105144 0.9803127  0.59805802 0.07131376 0.63084962]]\n",
      "\n",
      " [[0.29716018 0.34116431 0.19701051 0.22671084 0.93659295]\n",
      "  [0.69772299 0.72461702 0.4136817  0.03144676 0.8336114 ]\n",
      "  [0.79005977 0.34981405 0.91970939 0.53374115 0.51659707]]]\n",
      "<class 'numpy.ndarray'>\n"
     ]
    }
   ],
   "source": [
    "# Method 3\n",
    "\n",
    "a = np.random.random((1,30)).reshape(2,3,5)\n",
    "\n",
    "print(a)\n",
    "print(type(a))"
   ]
  },
  {
   "cell_type": "markdown",
   "metadata": {},
   "source": [
    "#### 4. Print *a*.\n"
   ]
  },
  {
   "cell_type": "code",
   "execution_count": 6,
   "metadata": {},
   "outputs": [
    {
     "name": "stdout",
     "output_type": "stream",
     "text": [
      "[[[0.14891323 0.38745585 0.40285811 0.04783638 0.56979756]\n",
      "  [0.81773976 0.04797318 0.83144526 0.61673444 0.58403601]\n",
      "  [0.64105144 0.9803127  0.59805802 0.07131376 0.63084962]]\n",
      "\n",
      " [[0.29716018 0.34116431 0.19701051 0.22671084 0.93659295]\n",
      "  [0.69772299 0.72461702 0.4136817  0.03144676 0.8336114 ]\n",
      "  [0.79005977 0.34981405 0.91970939 0.53374115 0.51659707]]]\n"
     ]
    }
   ],
   "source": [
    "# your code here\n",
    "print(a)"
   ]
  },
  {
   "cell_type": "markdown",
   "metadata": {},
   "source": [
    "#### 5. Create a 5x2x3 3-dimensional array with all values equaling 1. Assign the array to variable *b*."
   ]
  },
  {
   "cell_type": "code",
   "execution_count": 36,
   "metadata": {},
   "outputs": [],
   "source": [
    "# your code here\n",
    "\n",
    "b = np.ones((5,2,3))"
   ]
  },
  {
   "cell_type": "markdown",
   "metadata": {},
   "source": [
    "#### 6. Print *b*.\n"
   ]
  },
  {
   "cell_type": "code",
   "execution_count": 37,
   "metadata": {},
   "outputs": [
    {
     "name": "stdout",
     "output_type": "stream",
     "text": [
      "[[[1. 1. 1.]\n",
      "  [1. 1. 1.]]\n",
      "\n",
      " [[1. 1. 1.]\n",
      "  [1. 1. 1.]]\n",
      "\n",
      " [[1. 1. 1.]\n",
      "  [1. 1. 1.]]\n",
      "\n",
      " [[1. 1. 1.]\n",
      "  [1. 1. 1.]]\n",
      "\n",
      " [[1. 1. 1.]\n",
      "  [1. 1. 1.]]]\n"
     ]
    }
   ],
   "source": [
    "# your code here\n",
    "print(b)"
   ]
  },
  {
   "cell_type": "markdown",
   "metadata": {},
   "source": [
    "#### 7. Do *a* and *b* have the same size? How do you prove that in Python code?"
   ]
  },
  {
   "cell_type": "code",
   "execution_count": 73,
   "metadata": {},
   "outputs": [
    {
     "name": "stdout",
     "output_type": "stream",
     "text": [
      "a and b have the sime size, proof:\n",
      "True\n"
     ]
    }
   ],
   "source": [
    "# your code here\n",
    "print(\"a and b have the sime size, proof:\")\n",
    "print(a.size == b.size) "
   ]
  },
  {
   "cell_type": "markdown",
   "metadata": {},
   "source": [
    "#### 8. Are you able to add *a* and *b*? Why or why not?\n"
   ]
  },
  {
   "cell_type": "code",
   "execution_count": 75,
   "metadata": {},
   "outputs": [
    {
     "name": "stdout",
     "output_type": "stream",
     "text": [
      "The code throws the error because you cannot add two arrays of these (different) shapes\n",
      "\n"
     ]
    },
    {
     "ename": "ValueError",
     "evalue": "operands could not be broadcast together with shapes (2,3,5) (5,2,3) ",
     "output_type": "error",
     "traceback": [
      "\u001b[1;31m---------------------------------------------------------------------------\u001b[0m",
      "\u001b[1;31mValueError\u001b[0m                                Traceback (most recent call last)",
      "\u001b[1;32m<ipython-input-75-18da180ac83c>\u001b[0m in \u001b[0;36m<module>\u001b[1;34m\u001b[0m\n\u001b[0;32m      3\u001b[0m \u001b[0mprint\u001b[0m\u001b[1;33m(\u001b[0m\u001b[1;34m'The code throws the error because you cannot add two arrays of these (different) shapes\\n'\u001b[0m\u001b[1;33m)\u001b[0m\u001b[1;33m\u001b[0m\u001b[1;33m\u001b[0m\u001b[0m\n\u001b[0;32m      4\u001b[0m \u001b[1;33m\u001b[0m\u001b[0m\n\u001b[1;32m----> 5\u001b[1;33m \u001b[0mprint\u001b[0m\u001b[1;33m(\u001b[0m\u001b[0mnp\u001b[0m\u001b[1;33m.\u001b[0m\u001b[0madd\u001b[0m\u001b[1;33m(\u001b[0m\u001b[0ma\u001b[0m\u001b[1;33m,\u001b[0m\u001b[0mb\u001b[0m\u001b[1;33m)\u001b[0m\u001b[1;33m)\u001b[0m\u001b[1;33m\u001b[0m\u001b[1;33m\u001b[0m\u001b[0m\n\u001b[0m",
      "\u001b[1;31mValueError\u001b[0m: operands could not be broadcast together with shapes (2,3,5) (5,2,3) "
     ]
    }
   ],
   "source": [
    "# your answer here\n",
    "\n",
    "print('The code throws the error because you cannot add two arrays of these (different) shapes\\n')\n",
    "\n",
    "print(np.add(a,b))"
   ]
  },
  {
   "cell_type": "markdown",
   "metadata": {},
   "source": [
    "#### 9. Transpose *b* so that it has the same structure of *a* (i.e. become a 2x3x5 array). Assign the transposed array to variable *c*."
   ]
  },
  {
   "cell_type": "code",
   "execution_count": 78,
   "metadata": {},
   "outputs": [
    {
     "name": "stdout",
     "output_type": "stream",
     "text": [
      "b shape (5, 2, 3)\n",
      "a shape (2, 3, 5)\n",
      "c shape (2, 3, 5)\n"
     ]
    }
   ],
   "source": [
    "# your code here\n",
    "print(\"b shape\", b.shape)\n",
    "c = b.transpose(1,2,0)\n",
    "\n",
    "print(\"a shape\", a.shape)\n",
    "print(\"c shape\", c.shape)"
   ]
  },
  {
   "cell_type": "markdown",
   "metadata": {},
   "source": [
    "#### 10. Try to add *a* and *c*. Now it should work. Assign the sum to variable *d*. But why does it work now?"
   ]
  },
  {
   "cell_type": "code",
   "execution_count": 79,
   "metadata": {},
   "outputs": [],
   "source": [
    "# your code/answer here\n",
    "\n",
    "d = np.add(a,c)"
   ]
  },
  {
   "cell_type": "markdown",
   "metadata": {},
   "source": [
    "#### 11. Print *a* and *d*. Notice the difference and relation of the two array in terms of the values? Explain."
   ]
  },
  {
   "cell_type": "code",
   "execution_count": 85,
   "metadata": {},
   "outputs": [
    {
     "name": "stdout",
     "output_type": "stream",
     "text": [
      "arr a\n",
      " [[[0.14891323 0.38745585 0.40285811 0.04783638 0.56979756]\n",
      "  [0.81773976 0.04797318 0.83144526 0.61673444 0.58403601]\n",
      "  [0.64105144 0.9803127  0.59805802 0.07131376 0.63084962]]\n",
      "\n",
      " [[0.29716018 0.34116431 0.19701051 0.22671084 0.93659295]\n",
      "  [0.69772299 0.72461702 0.4136817  0.03144676 0.8336114 ]\n",
      "  [0.79005977 0.34981405 0.91970939 0.53374115 0.51659707]]]\n",
      "\n",
      "arr d\n",
      " [[[1.14891323 1.38745585 1.40285811 1.04783638 1.56979756]\n",
      "  [1.81773976 1.04797318 1.83144526 1.61673444 1.58403601]\n",
      "  [1.64105144 1.9803127  1.59805802 1.07131376 1.63084962]]\n",
      "\n",
      " [[1.29716018 1.34116431 1.19701051 1.22671084 1.93659295]\n",
      "  [1.69772299 1.72461702 1.4136817  1.03144676 1.8336114 ]\n",
      "  [1.79005977 1.34981405 1.91970939 1.53374115 1.51659707]]]\n",
      "\n",
      "Values of array d will be equal to values of array a plus 1:\n",
      "\n",
      "[[[1. 1. 1. 1. 1.]\n",
      "  [1. 1. 1. 1. 1.]\n",
      "  [1. 1. 1. 1. 1.]]\n",
      "\n",
      " [[1. 1. 1. 1. 1.]\n",
      "  [1. 1. 1. 1. 1.]\n",
      "  [1. 1. 1. 1. 1.]]]\n"
     ]
    }
   ],
   "source": [
    "# your code/answer here\n",
    "\n",
    "print(\"arr a\\n\",a)\n",
    "print()\n",
    "print(\"arr d\\n\",d)\n",
    "\n",
    "print(\"\\nValues of array d will be equal to values of array a plus 1:\\n\")\n",
    "print(d - a)"
   ]
  },
  {
   "cell_type": "markdown",
   "metadata": {},
   "source": [
    "#### 12. Multiply *a* and *c*. Assign the result to *e*."
   ]
  },
  {
   "cell_type": "code",
   "execution_count": 86,
   "metadata": {},
   "outputs": [
    {
     "name": "stdout",
     "output_type": "stream",
     "text": [
      "arr e\n",
      " [[[0.14891323 0.38745585 0.40285811 0.04783638 0.56979756]\n",
      "  [0.81773976 0.04797318 0.83144526 0.61673444 0.58403601]\n",
      "  [0.64105144 0.9803127  0.59805802 0.07131376 0.63084962]]\n",
      "\n",
      " [[0.29716018 0.34116431 0.19701051 0.22671084 0.93659295]\n",
      "  [0.69772299 0.72461702 0.4136817  0.03144676 0.8336114 ]\n",
      "  [0.79005977 0.34981405 0.91970939 0.53374115 0.51659707]]]\n",
      "\n"
     ]
    }
   ],
   "source": [
    "# your code here\n",
    "\n",
    "#print(a)\n",
    "#print()\n",
    "#print(c)\n",
    "#print()\n",
    "e = np.multiply(a,c)\n",
    "#print()\n",
    "print(\"arr e\\n\",e)\n",
    "print()"
   ]
  },
  {
   "cell_type": "markdown",
   "metadata": {},
   "source": [
    "#### 13. Does *e* equal to *a*? Why or why not?\n"
   ]
  },
  {
   "cell_type": "code",
   "execution_count": 87,
   "metadata": {},
   "outputs": [
    {
     "name": "stdout",
     "output_type": "stream",
     "text": [
      "e is equal to a because it was generated as element wise multiplication of a and c, which is an array of ones:\n",
      "\n",
      "[[[0.14891323 0.38745585 0.40285811 0.04783638 0.56979756]\n",
      "  [0.81773976 0.04797318 0.83144526 0.61673444 0.58403601]\n",
      "  [0.64105144 0.9803127  0.59805802 0.07131376 0.63084962]]\n",
      "\n",
      " [[0.29716018 0.34116431 0.19701051 0.22671084 0.93659295]\n",
      "  [0.69772299 0.72461702 0.4136817  0.03144676 0.8336114 ]\n",
      "  [0.79005977 0.34981405 0.91970939 0.53374115 0.51659707]]]\n",
      "\n",
      " [[[0.14891323 0.38745585 0.40285811 0.04783638 0.56979756]\n",
      "  [0.81773976 0.04797318 0.83144526 0.61673444 0.58403601]\n",
      "  [0.64105144 0.9803127  0.59805802 0.07131376 0.63084962]]\n",
      "\n",
      " [[0.29716018 0.34116431 0.19701051 0.22671084 0.93659295]\n",
      "  [0.69772299 0.72461702 0.4136817  0.03144676 0.8336114 ]\n",
      "  [0.79005977 0.34981405 0.91970939 0.53374115 0.51659707]]]\n"
     ]
    }
   ],
   "source": [
    "# your code/answer here\n",
    "print('e is equal to a because it was generated as element wise multiplication of a and c, which is an array of ones:\\n')\n",
    "\n",
    "print(e)\n",
    "print('\\n',a)"
   ]
  },
  {
   "cell_type": "markdown",
   "metadata": {},
   "source": [
    "#### 14. Identify the max, min, and mean values in *d*. Assign those values to variables *d_max*, *d_min* and *d_mean*."
   ]
  },
  {
   "cell_type": "code",
   "execution_count": 88,
   "metadata": {},
   "outputs": [
    {
     "name": "stdout",
     "output_type": "stream",
     "text": [
      "[[[1.14891323 1.38745585 1.40285811 1.04783638 1.56979756]\n",
      "  [1.81773976 1.04797318 1.83144526 1.61673444 1.58403601]\n",
      "  [1.64105144 1.9803127  1.59805802 1.07131376 1.63084962]]\n",
      "\n",
      " [[1.29716018 1.34116431 1.19701051 1.22671084 1.93659295]\n",
      "  [1.69772299 1.72461702 1.4136817  1.03144676 1.8336114 ]\n",
      "  [1.79005977 1.34981405 1.91970939 1.53374115 1.51659707]]]\n",
      "\n",
      "d_max  1.980312704661053\n",
      "d_min  1.0314467577126352\n",
      "d_mean  1.5062005135713128\n"
     ]
    }
   ],
   "source": [
    "# your code here\n",
    "print(d)\n",
    "d_max = np.max(d)\n",
    "d_min = np.min(d)\n",
    "d_mean = np.mean(d)\n",
    "\n",
    "print(\"\\nd_max \",d_max)\n",
    "print(\"d_min \",d_min)\n",
    "print(\"d_mean \",d_mean)\n"
   ]
  },
  {
   "cell_type": "markdown",
   "metadata": {},
   "source": [
    "#### 15. Now we want to label the values in *d*. First create an empty array *f* with the same shape (i.e. 2x3x5) as *d* using `np.empty`.\n"
   ]
  },
  {
   "cell_type": "code",
   "execution_count": 89,
   "metadata": {},
   "outputs": [
    {
     "name": "stdout",
     "output_type": "stream",
     "text": [
      "[[[1.14891323 1.38745585 1.40285811 1.04783638 1.56979756]\n",
      "  [1.81773976 1.04797318 1.83144526 1.61673444 1.58403601]\n",
      "  [1.64105144 1.9803127  1.59805802 1.07131376 1.63084962]]\n",
      "\n",
      " [[1.29716018 1.34116431 1.19701051 1.22671084 1.93659295]\n",
      "  [1.69772299 1.72461702 1.4136817  1.03144676 1.8336114 ]\n",
      "  [1.79005977 1.34981405 1.91970939 1.53374115 1.51659707]]]\n"
     ]
    }
   ],
   "source": [
    "# your code here\n",
    "\n",
    "f = np.empty((2,3,5))\n",
    "\n",
    "print(f)"
   ]
  },
  {
   "cell_type": "markdown",
   "metadata": {},
   "source": [
    "#### 16. Populate the values in *f*. \n",
    "\n",
    "For each value in *d*, if it's larger than *d_min* but smaller than *d_mean*, assign 25 to the corresponding value in *f*. If a value in *d* is larger than *d_mean* but smaller than *d_max*, assign 75 to the corresponding value in *f*. If a value equals to *d_mean*, assign 50 to the corresponding value in *f*. Assign 0 to the corresponding value(s) in *f* for *d_min* in *d*. Assign 100 to the corresponding value(s) in *f* for *d_max* in *d*. In the end, f should have only the following values: 0, 25, 50, 75, and 100.\n",
    "\n",
    "**Note**: you don't have to use Numpy in this question."
   ]
  },
  {
   "cell_type": "code",
   "execution_count": 95,
   "metadata": {},
   "outputs": [],
   "source": [
    "# your code here\n",
    "\n",
    "for i in range(2):\n",
    "    for j in range(3):\n",
    "        for k in range(5):\n",
    "            if (d[i][j][k] > d_min) and (d[i][j][k] < d_mean):\n",
    "                f[i][j][k] =  25\n",
    "            elif (d[i][j][k] > d_mean) and (d[i][j][k] < d_max):    \n",
    "                f[i][j][k] =  75\n",
    "            elif (d[i][j][k] == d_mean):    \n",
    "                f[i][j][k] =  50\n",
    "            elif (d[i][j][k] == d_min):    \n",
    "                f[i][j][k] =  0  \n",
    "            elif (d[i][j][k] == d_max):    \n",
    "                f[i][j][k] =  100 \n",
    "                "
   ]
  },
  {
   "cell_type": "markdown",
   "metadata": {},
   "source": [
    "#### 17. Print *d* and *f*. Do you have your expected *f*?\n",
    "For instance, if your *d* is:\n",
    "```python\n",
    "[[[1.85836099, 1.67064465, 1.62576044, 1.40243961, 1.88454931],\n",
    "[1.75354326, 1.69403643, 1.36729252, 1.61415071, 1.12104981],\n",
    "[1.72201435, 1.1862918 , 1.87078449, 1.7726778 , 1.88180042]],\n",
    "[[1.44747908, 1.31673383, 1.02000951, 1.52218947, 1.97066381],\n",
    "[1.79129243, 1.74983003, 1.96028037, 1.85166831, 1.65450881],\n",
    "[1.18068344, 1.9587381 , 1.00656599, 1.93402165, 1.73514584]]]\n",
    "```\n",
    "Your *f* should be:\n",
    "```python\n",
    "[[[ 75.,  75.,  75.,  25.,  75.],\n",
    "[ 75.,  75.,  25.,  25.,  25.],\n",
    "[ 75.,  25.,  75.,  75.,  75.]],\n",
    "[[ 25.,  25.,  25.,  25., 100.],\n",
    "[ 75.,  75.,  75.,  75.,  75.],\n",
    "[ 25.,  75.,   0.,  75.,  75.]]]\n",
    "```"
   ]
  },
  {
   "cell_type": "code",
   "execution_count": 92,
   "metadata": {},
   "outputs": [
    {
     "name": "stdout",
     "output_type": "stream",
     "text": [
      "d is\n",
      " [[[1.14891323 1.38745585 1.40285811 1.04783638 1.56979756]\n",
      "  [1.81773976 1.04797318 1.83144526 1.61673444 1.58403601]\n",
      "  [1.64105144 1.9803127  1.59805802 1.07131376 1.63084962]]\n",
      "\n",
      " [[1.29716018 1.34116431 1.19701051 1.22671084 1.93659295]\n",
      "  [1.69772299 1.72461702 1.4136817  1.03144676 1.8336114 ]\n",
      "  [1.79005977 1.34981405 1.91970939 1.53374115 1.51659707]]]\n",
      "\n",
      "f is\n",
      " [[[ 25.  25.  25.  25.  75.]\n",
      "  [ 75.  25.  75.  75.  75.]\n",
      "  [ 75. 100.  75.  25.  75.]]\n",
      "\n",
      " [[ 25.  25.  25.  25.  75.]\n",
      "  [ 75.  75.  25.   0.  75.]\n",
      "  [ 75.  25.  75.  75.  75.]]]\n"
     ]
    }
   ],
   "source": [
    "# your code here\n",
    "print(\"d is\\n\",d)\n",
    "print(\"\\nf is\\n\",f)"
   ]
  },
  {
   "cell_type": "markdown",
   "metadata": {},
   "source": [
    "#### 18. Bonus question: instead of using numbers (i.e. 0, 25, 50, 75, and 100), use string values  (\"A\", \"B\", \"C\", \"D\", and \"E\") to label the array elements. For the example above, the expected result is:\n",
    "\n",
    "```python\n",
    "[[[ 'D',  'D',  'D',  'B',  'D'],\n",
    "[ 'D',  'D',  'B',  'B',  'B'],\n",
    "[ 'D',  'B',  'D',  'D',  'D']],\n",
    "[[ 'B',  'B',  'B',  'B',  'E'],\n",
    "[ 'D',  'D',  'D',  'D',  'D'],\n",
    "[ 'B',  'D',   'A',  'D', 'D']]]\n",
    "```\n",
    "**Note**: you don't have to use Numpy in this question."
   ]
  },
  {
   "cell_type": "code",
   "execution_count": 94,
   "metadata": {},
   "outputs": [
    {
     "name": "stdout",
     "output_type": "stream",
     "text": [
      "d is\n",
      " [[[1.14891323 1.38745585 1.40285811 1.04783638 1.56979756]\n",
      "  [1.81773976 1.04797318 1.83144526 1.61673444 1.58403601]\n",
      "  [1.64105144 1.9803127  1.59805802 1.07131376 1.63084962]]\n",
      "\n",
      " [[1.29716018 1.34116431 1.19701051 1.22671084 1.93659295]\n",
      "  [1.69772299 1.72461702 1.4136817  1.03144676 1.8336114 ]\n",
      "  [1.79005977 1.34981405 1.91970939 1.53374115 1.51659707]]]\n",
      "\n",
      "f1 is\n",
      " [[['B' 'B' 'B' 'B' 'D']\n",
      "  ['D' 'B' 'D' 'D' 'D']\n",
      "  ['D' 'E' 'D' 'B' 'D']]\n",
      "\n",
      " [['B' 'B' 'B' 'B' 'D']\n",
      "  ['D' 'D' 'B' 'A' 'D']\n",
      "  ['D' 'B' 'D' 'D' 'D']]]\n"
     ]
    }
   ],
   "source": [
    "# your code here\n",
    "\n",
    "f1 = np.empty((2,3,5), np.str)\n",
    "\n",
    "for i in range(2):\n",
    "    for j in range(3):\n",
    "        for k in range(5):\n",
    "            if (d[i][j][k] > d_min) and (d[i][j][k] < d_mean):\n",
    "                f1[i][j][k] =  'B'\n",
    "            elif (d[i][j][k] > d_mean) and (d[i][j][k] < d_max):    \n",
    "                f1[i][j][k] =  'D'\n",
    "            elif (d[i][j][k] == d_mean):    \n",
    "                f1[i][j][k] = 'C'\n",
    "            elif (d[i][j][k] == d_min):    \n",
    "                f1[i][j][k] =  'A'  \n",
    "            elif (d[i][j][k] == d_max):    \n",
    "                f1[i][j][k] =  'E'\n",
    "\n",
    "print(\"d is\\n\",d)                \n",
    "print(\"\\nf1 is\\n\", f1)"
   ]
  }
 ],
 "metadata": {
  "kernelspec": {
   "display_name": "Python 3",
   "language": "python",
   "name": "python3"
  },
  "language_info": {
   "codemirror_mode": {
    "name": "ipython",
    "version": 3
   },
   "file_extension": ".py",
   "mimetype": "text/x-python",
   "name": "python",
   "nbconvert_exporter": "python",
   "pygments_lexer": "ipython3",
   "version": "3.8.3"
  }
 },
 "nbformat": 4,
 "nbformat_minor": 2
}
