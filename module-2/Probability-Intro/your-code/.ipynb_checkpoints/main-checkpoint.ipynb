{
 "cells": [
  {
   "cell_type": "markdown",
   "metadata": {},
   "source": [
    "# Introduction To Probability\n",
    "## Challenge 1\n",
    "\n",
    "A and B are events of a probability space with $(\\omega, \\sigma, P)$ such that $P(A) = 0.3$, $P(B) = 0.6$ and $P(A \\cap B) = 0.1$\n",
    "\n",
    "Which of the following statements are false?\n",
    "* (1) $P(A \\cup B) = 0.6$\n",
    "* (2) $P(A \\cap B^{C}) = 0.2$\n",
    "* (3) $P(A \\cap (B \\cup B^{C})) = 0.4$\n",
    "* (4) $P(A^{C} \\cap B^{C}) = 0.3$\n",
    "* (5) $P((A \\cap B)^{C}) = 0.9$"
   ]
  },
  {
   "cell_type": "code",
   "execution_count": null,
   "metadata": {},
   "outputs": [],
   "source": [
    "\"\"\"\n",
    "(1) = P(A union B) = P(A) + P(B) -P(A intersect B) = 0.3  + 0.6 - 0.1 = 0.8 != 0.6 - FALSE\n",
    "(2) = P(A) - P(A intercect B) = 0.3 - 0.1 = 0.2 - TRUE\n",
    "(3) = P(A) = 0.3 ! = 0.4 - FALSE\n",
    "(4) = 1- P(A union B) = 1 - 0.8 = 0.2 != 0.3 - FALSE \n",
    "(5) = 1- P(A intercect B) = 1 - 0.1 = 0.9 = TRUE\n",
    " \"\"\""
   ]
  },
  {
   "cell_type": "markdown",
   "metadata": {},
   "source": [
    "## Challenge 2\n",
    "There is a box with 10 white balls, 12 red balls and 8 black balls. Calculate the probability of:\n",
    "* Taking a white ball out.\n",
    "* Taking a white ball out after taking a black ball out.\n",
    "* Taking a red ball out after taking a black and a red ball out.\n",
    "* Taking a red ball out after taking a black and a red ball out with reposition.\n",
    "\n",
    "**Hint**: Reposition means putting back the ball into the box after taking it out."
   ]
  },
  {
   "cell_type": "code",
   "execution_count": null,
   "metadata": {},
   "outputs": [],
   "source": [
    "\"\"\"\n",
    "Taking a white ball out.\n",
    "=(10)/(10+12+8) = 10/30 = 1/3\n",
    "\n",
    "Taking a white ball out after taking a black ball out.\n",
    "=(8/30)*(10/29) = 0.0919\n",
    "\n",
    "Taking a red ball out after taking a black and a red ball out.\n",
    "=(12/30)*(8/29)*(11/28) = 0.0433\n",
    "\n",
    "Taking a red ball out after taking a black and a red ball out with reposition.\n",
    "=(12/30)*(8/30)*(12/30) = 0.0427\n",
    "\n",
    "\"\"\""
   ]
  },
  {
   "cell_type": "markdown",
   "metadata": {},
   "source": [
    "## Challenge 3\n",
    "\n",
    "You are planning to go on a picnic today but the morning is cloudy. You hate rain so you don't know whether to go out or stay home! To help you make a decision, you gather the following data about rainy days:\n",
    "\n",
    "* 50% of all rainy days start off cloudy!\n",
    "* Cloudy mornings are common. About 40% of days start cloudy. \n",
    "* This month is usually dry so only 3 of 30 days (10%) tend to be rainy. \n",
    "\n",
    "What is the chance of rain during the day?"
   ]
  },
  {
   "cell_type": "code",
   "execution_count": null,
   "metadata": {},
   "outputs": [],
   "source": [
    "\"\"\"\n",
    "your solution here\n",
    "\n",
    "P(Rain if Cloudy) = (P(Cloudy if Rainy) * P(Rainy)) / P(Cloudy) = 0.5*0.1/0.4 = 0.125\n",
    "\n",
    "\"\"\"\n"
   ]
  },
  {
   "cell_type": "markdown",
   "metadata": {},
   "source": [
    "## Challenge 4\n",
    "\n",
    "One thousand people were asked through a telephone survey whether they thought more street lighting is needed at night or not.\n",
    "\n",
    "Out of the 480 men that answered the survey, 324 said yes and 156 said no. On the other hand, out of the 520 women that answered, 351 said yes and 169 said no. \n",
    "\n",
    "We wonder if men and women have a different opinions about the street lighting matter. Is gender relevant or irrelevant to the question?\n",
    "\n",
    "Consider the following events:\n",
    "- The answer is yes, so the person that answered thinks that more street lighting is needed.\n",
    "- The person who answered is a man.\n",
    "\n",
    "We want to know if these events are independent, that is, if the fact of wanting more light depends on whether one is male or female. Are these events independent or not?\n",
    "\n",
    "**Hint**: To clearly compare the answers by gender, it is best to place the data in a table."
   ]
  },
  {
   "cell_type": "code",
   "execution_count": 3,
   "metadata": {},
   "outputs": [
    {
     "data": {
      "text/html": [
       "<div>\n",
       "<style scoped>\n",
       "    .dataframe tbody tr th:only-of-type {\n",
       "        vertical-align: middle;\n",
       "    }\n",
       "\n",
       "    .dataframe tbody tr th {\n",
       "        vertical-align: top;\n",
       "    }\n",
       "\n",
       "    .dataframe thead th {\n",
       "        text-align: right;\n",
       "    }\n",
       "</style>\n",
       "<table border=\"1\" class=\"dataframe\">\n",
       "  <thead>\n",
       "    <tr style=\"text-align: right;\">\n",
       "      <th></th>\n",
       "      <th>G</th>\n",
       "      <th>Y</th>\n",
       "      <th>N</th>\n",
       "    </tr>\n",
       "  </thead>\n",
       "  <tbody>\n",
       "    <tr>\n",
       "      <th>0</th>\n",
       "      <td>M</td>\n",
       "      <td>324</td>\n",
       "      <td>156</td>\n",
       "    </tr>\n",
       "    <tr>\n",
       "      <th>1</th>\n",
       "      <td>F</td>\n",
       "      <td>351</td>\n",
       "      <td>169</td>\n",
       "    </tr>\n",
       "  </tbody>\n",
       "</table>\n",
       "</div>"
      ],
      "text/plain": [
       "   G    Y    N\n",
       "0  M  324  156\n",
       "1  F  351  169"
      ]
     },
     "execution_count": 3,
     "metadata": {},
     "output_type": "execute_result"
    }
   ],
   "source": [
    "# your code here\n",
    "import pandas as pd\n",
    "df = pd.DataFrame(\n",
    "    {\n",
    "        \"G\": ['M','F'],\n",
    "        \"Y\": [324, 351],\n",
    "        \"N\": [156, 169]\n",
    "    }\n",
    "     )\n",
    "\n",
    "df"
   ]
  },
  {
   "cell_type": "code",
   "execution_count": null,
   "metadata": {},
   "outputs": [],
   "source": [
    "\"\"\"\n",
    "Conditional probabilities\n",
    "\n",
    "P(Yes|Man) = P(Yes and Man) / P(Man) = (324/1000)/(480/1000) = 0.675\n",
    "P(Yes|Woman) = P(Yes and Woman) / P(Woman) = (351/1000)/(520/1000) = 0.675\n",
    "\n",
    "Event independence:\n",
    "The following needs to be true\n",
    "P(Yes)*P(Man) = P(Yes and Man)\n",
    "Left side (324+351)/1000 *(480/1000) = 0.324\n",
    "Right side (324/1000) = 0.324\n",
    "\n",
    "Left side = Right side -> events are independent\n",
    "\n",
    "gender doe snot play a role becase conditional probabilities are equal plus answering eys is independent of being a man\n",
    "\"\"\""
   ]
  }
 ],
 "metadata": {
  "kernelspec": {
   "display_name": "Python 3",
   "language": "python",
   "name": "python3"
  },
  "language_info": {
   "codemirror_mode": {
    "name": "ipython",
    "version": 3
   },
   "file_extension": ".py",
   "mimetype": "text/x-python",
   "name": "python",
   "nbconvert_exporter": "python",
   "pygments_lexer": "ipython3",
   "version": "3.8.3"
  }
 },
 "nbformat": 4,
 "nbformat_minor": 2
}
