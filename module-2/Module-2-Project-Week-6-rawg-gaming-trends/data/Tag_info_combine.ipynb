{
 "cells": [
  {
   "cell_type": "markdown",
   "metadata": {},
   "source": [
    "### This script will run over all files in `./data/tag_info/` and write to a csv in `./data/tag_info.csv`"
   ]
  },
  {
   "cell_type": "code",
   "execution_count": 1,
   "metadata": {},
   "outputs": [],
   "source": [
    "import json\n",
    "import os\n",
    "from pprint import pprint\n",
    "import csv\n",
    "import pandas as pd\n",
    "pd.set_option(\"display.max_columns\", 50)\n",
    "pd.set_option(\"display.max_rows\", 20)"
   ]
  },
  {
   "cell_type": "code",
   "execution_count": 2,
   "metadata": {},
   "outputs": [
    {
     "name": "stdout",
     "output_type": "stream",
     "text": [
      "Finished everything\n"
     ]
    }
   ],
   "source": [
    "# Output CSV file\n",
    "csv_file = open(r\"./data/tag_info.csv\", \"w\", encoding=\"utf8\")\n",
    "csv_writer = csv.writer(csv_file, lineterminator=\"\\n\")\n",
    "\n",
    "# Loop through each file\n",
    "for i, file in enumerate(os.listdir(r\"./data/tag_info/\")):\n",
    "    with open(fr\"data/tag_info/{file}\", \"r\", encoding=\"utf8\") as f:\n",
    "        data = json.load(f)\n",
    "    \n",
    "    # Write to file\n",
    "    if i == 0: csv_writer.writerow(data.keys())\n",
    "    csv_writer.writerow(data.values())\n",
    "    \n",
    "    # Verbose Notification\n",
    "    if i and i%10000 == 0: print(f\"Finished {i} files\")\n",
    "print(\"Finished everything\")\n",
    "\n",
    "# Save file\n",
    "csv_file.close()"
   ]
  },
  {
   "cell_type": "markdown",
   "metadata": {},
   "source": [
    "### Open file with pandas to check the result"
   ]
  },
  {
   "cell_type": "code",
   "execution_count": 4,
   "metadata": {},
   "outputs": [
    {
     "data": {
      "text/html": [
       "<div>\n",
       "<style scoped>\n",
       "    .dataframe tbody tr th:only-of-type {\n",
       "        vertical-align: middle;\n",
       "    }\n",
       "\n",
       "    .dataframe tbody tr th {\n",
       "        vertical-align: top;\n",
       "    }\n",
       "\n",
       "    .dataframe thead th {\n",
       "        text-align: right;\n",
       "    }\n",
       "</style>\n",
       "<table border=\"1\" class=\"dataframe\">\n",
       "  <thead>\n",
       "    <tr style=\"text-align: right;\">\n",
       "      <th></th>\n",
       "      <th>id</th>\n",
       "      <th>name</th>\n",
       "      <th>slug</th>\n",
       "      <th>games_count</th>\n",
       "      <th>description</th>\n",
       "    </tr>\n",
       "  </thead>\n",
       "  <tbody>\n",
       "    <tr>\n",
       "      <th>0</th>\n",
       "      <td>1</td>\n",
       "      <td>Survival</td>\n",
       "      <td>survival</td>\n",
       "      <td>4052</td>\n",
       "      <td>NaN</td>\n",
       "    </tr>\n",
       "    <tr>\n",
       "      <th>1</th>\n",
       "      <td>100</td>\n",
       "      <td>Grand Strategy</td>\n",
       "      <td>grand-strategy</td>\n",
       "      <td>213</td>\n",
       "      <td>NaN</td>\n",
       "    </tr>\n",
       "    <tr>\n",
       "      <th>2</th>\n",
       "      <td>1000</td>\n",
       "      <td>sokpop</td>\n",
       "      <td>sokpop</td>\n",
       "      <td>9</td>\n",
       "      <td>NaN</td>\n",
       "    </tr>\n",
       "    <tr>\n",
       "      <th>3</th>\n",
       "      <td>10003</td>\n",
       "      <td>ranking</td>\n",
       "      <td>ranking</td>\n",
       "      <td>7</td>\n",
       "      <td>NaN</td>\n",
       "    </tr>\n",
       "    <tr>\n",
       "      <th>4</th>\n",
       "      <td>10005</td>\n",
       "      <td>corruption</td>\n",
       "      <td>corruption</td>\n",
       "      <td>24</td>\n",
       "      <td>NaN</td>\n",
       "    </tr>\n",
       "  </tbody>\n",
       "</table>\n",
       "</div>"
      ],
      "text/plain": [
       "      id            name            slug  games_count  description\n",
       "0      1        Survival        survival         4052          NaN\n",
       "1    100  Grand Strategy  grand-strategy          213          NaN\n",
       "2   1000          sokpop          sokpop            9          NaN\n",
       "3  10003         ranking         ranking            7          NaN\n",
       "4  10005      corruption      corruption           24          NaN"
      ]
     },
     "execution_count": 4,
     "metadata": {},
     "output_type": "execute_result"
    }
   ],
   "source": [
    "df = pd.read_csv(open(r\"./data/tag_info.csv\", \"r\", encoding=\"utf8\"))\n",
    "df.head()"
   ]
  }
 ],
 "metadata": {
  "kernelspec": {
   "display_name": "Python 3",
   "language": "python",
   "name": "python3"
  },
  "language_info": {
   "codemirror_mode": {
    "name": "ipython",
    "version": 3
   },
   "file_extension": ".py",
   "mimetype": "text/x-python",
   "name": "python",
   "nbconvert_exporter": "python",
   "pygments_lexer": "ipython3",
   "version": "3.7.8"
  }
 },
 "nbformat": 4,
 "nbformat_minor": 4
}
