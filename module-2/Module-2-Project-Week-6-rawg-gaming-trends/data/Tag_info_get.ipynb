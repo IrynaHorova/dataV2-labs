{
 "cells": [
  {
   "cell_type": "markdown",
   "metadata": {},
   "source": [
    "## Get info of each tag\n",
    "Here are some examples of responded API:\n",
    "- https://api.rawg.io/api/games/grand-theft-auto-v\n",
    "- https://rawg.io/games/grand-theft-auto-v"
   ]
  },
  {
   "cell_type": "code",
   "execution_count": 2,
   "metadata": {},
   "outputs": [],
   "source": [
    "import csv\n",
    "import requests\n",
    "import json\n",
    "from pprint import pprint\n",
    "from time import time\n",
    "import concurrent.futures\n",
    "import functools\n",
    "import os"
   ]
  },
  {
   "cell_type": "markdown",
   "metadata": {},
   "source": [
    "### Load CSV file which has tag's id and its name"
   ]
  },
  {
   "cell_type": "code",
   "execution_count": 3,
   "metadata": {},
   "outputs": [
    {
     "name": "stdout",
     "output_type": "stream",
     "text": [
      "['31', 'singleplayer']\n",
      "['40847', 'steam-achievements']\n",
      "['7', 'multiplayer']\n",
      "['7808', 'steam-trading-cards']\n",
      "['40849', 'steam-cloud']\n",
      "['13', 'atmospheric']\n",
      "['40836', 'full-controller-support']\n",
      "['42', 'great-soundtrack']\n",
      "['24', 'rpg']\n",
      "['18', 'co-op']\n",
      "['170', 'competitive']\n"
     ]
    }
   ],
   "source": [
    "csv_data = []\n",
    "with open(\"data/tag_id.csv\", \"r\") as f:\n",
    "    csv_data = list(csv.reader(f))\n",
    "for i, val in enumerate(csv_data):\n",
    "    print(val)\n",
    "    if i==10: break"
   ]
  },
  {
   "cell_type": "markdown",
   "metadata": {},
   "source": [
    "## Multithreading"
   ]
  },
  {
   "cell_type": "markdown",
   "metadata": {},
   "source": [
    "### This function is responsible for requesting each tag and save as a JSON file in `/data/tag_info/`"
   ]
  },
  {
   "cell_type": "code",
   "execution_count": 4,
   "metadata": {},
   "outputs": [],
   "source": [
    "def threading(start_index, tags_per_worker, urls, downloaded_files, headers):\n",
    "    for url in urls[start_index : start_index + tags_per_worker]:\n",
    "        if url.rsplit(\"/\")[-1] in downloaded_files: continue\n",
    "        try:\n",
    "            # Request API\n",
    "            json_data = json.loads(requests.get(url, headers=headers).text)\n",
    "\n",
    "            # Only include wanted keys\n",
    "            D = {k:v for k,v in json_data.items() if k in include}\n",
    "            \n",
    "            # Save as JSON file\n",
    "            name = D[\"id\"]\n",
    "            with open(f\"data/tag_info/{name}.json\",\"w\", encoding=\"utf-8\") as f:\n",
    "                json.dump(D, f)\n",
    "        except:\n",
    "            print(f\"Error with {url}\")"
   ]
  },
  {
   "cell_type": "markdown",
   "metadata": {},
   "source": [
    "#### Create folder if not existed"
   ]
  },
  {
   "cell_type": "code",
   "execution_count": 5,
   "metadata": {},
   "outputs": [],
   "source": [
    "import os\n",
    "if not os.path.exists('data/tag_info/'):\n",
    "    os.makedirs('data/tag_info/')"
   ]
  },
  {
   "cell_type": "markdown",
   "metadata": {},
   "source": [
    "#### Threading Preparation"
   ]
  },
  {
   "cell_type": "code",
   "execution_count": 6,
   "metadata": {},
   "outputs": [],
   "source": [
    "headers = { 'User-Agent': 'App Name: Education purpose',}\n",
    "include = {\n",
    "    \"esrb_rating\",        \n",
    "           \"id\",\n",
    "           \"slug\",\n",
    "           \"name\",\n",
    "           \"games_count\",\n",
    "           \"description\",\n",
    "           \"language\"\n",
    "          }\n",
    "\n",
    "# Set up number of workers\n",
    "max_workers = 100\n",
    "start_tag_index = 0 # min: 0\n",
    "end_tag_index = len(csv_data) # max: 345707\n",
    "number_of_tags = end_tag_index - start_tag_index\n",
    "tags_per_worker = int(number_of_tags/max_workers) \n",
    "start_index = range(start_tag_index, end_tag_index, tags_per_worker)\n",
    "\n",
    "# Make urls\n",
    "base_url = \"https://api.rawg.io/api/tags/\"\n",
    "key = ['?key=13961a85724f47818f318bebae6b82e1' for i in range(len(csv_data)) ]\n",
    "urls = [base_url + csv_data[i][0] +key[i] for i in range(len(csv_data))]"
   ]
  },
  {
   "cell_type": "code",
   "execution_count": 7,
   "metadata": {},
   "outputs": [
    {
     "data": {
      "text/plain": [
       "['https://api.rawg.io/api/tags/31?key=13961a85724f47818f318bebae6b82e1',\n",
       " 'https://api.rawg.io/api/tags/40847?key=13961a85724f47818f318bebae6b82e1',\n",
       " 'https://api.rawg.io/api/tags/7?key=13961a85724f47818f318bebae6b82e1',\n",
       " 'https://api.rawg.io/api/tags/7808?key=13961a85724f47818f318bebae6b82e1',\n",
       " 'https://api.rawg.io/api/tags/40849?key=13961a85724f47818f318bebae6b82e1',\n",
       " 'https://api.rawg.io/api/tags/13?key=13961a85724f47818f318bebae6b82e1',\n",
       " 'https://api.rawg.io/api/tags/40836?key=13961a85724f47818f318bebae6b82e1',\n",
       " 'https://api.rawg.io/api/tags/42?key=13961a85724f47818f318bebae6b82e1',\n",
       " 'https://api.rawg.io/api/tags/24?key=13961a85724f47818f318bebae6b82e1',\n",
       " 'https://api.rawg.io/api/tags/18?key=13961a85724f47818f318bebae6b82e1']"
      ]
     },
     "execution_count": 7,
     "metadata": {},
     "output_type": "execute_result"
    }
   ],
   "source": [
    "urls[:10]"
   ]
  },
  {
   "cell_type": "code",
   "execution_count": 8,
   "metadata": {},
   "outputs": [
    {
     "data": {
      "text/plain": [
       "3250"
      ]
     },
     "execution_count": 8,
     "metadata": {},
     "output_type": "execute_result"
    }
   ],
   "source": [
    "number_of_tags"
   ]
  },
  {
   "cell_type": "code",
   "execution_count": 9,
   "metadata": {
    "scrolled": false
   },
   "outputs": [
    {
     "name": "stdout",
     "output_type": "stream",
     "text": [
      "Error with https://api.rawg.io/api/tags/944?key=13961a85724f47818f318bebae6b82e1\n",
      "Error with https://api.rawg.io/api/tags/2267?key=13961a85724f47818f318bebae6b82e1\n",
      "Error with https://api.rawg.io/api/tags/2889?key=13961a85724f47818f318bebae6b82e1\n",
      "Error with https://api.rawg.io/api/tags/5357?key=13961a85724f47818f318bebae6b82e1\n",
      "Error with https://api.rawg.io/api/tags/2443?key=13961a85724f47818f318bebae6b82e1\n",
      "Time taken: 41.16357088088989\n"
     ]
    }
   ],
   "source": [
    "# Skipped downloaded files\n",
    "downloaded_files = {file.split(\".\",1)[0] for file in os.listdir(\"data/tag_info/\")}\n",
    "\n",
    "# Time\n",
    "t0 = time()\n",
    "with concurrent.futures.ThreadPoolExecutor(max_workers=max_workers) as executor:\n",
    "    temp = functools.partial(threading,\n",
    "                             tags_per_worker=tags_per_worker,\n",
    "                             urls=urls,\n",
    "                             downloaded_files=downloaded_files,\n",
    "                             headers=headers,\n",
    "                            )\n",
    "    executor.map(temp, start_index)\n",
    "    \n",
    "# Time diff\n",
    "print(f\"Time taken: {time()-t0}\")"
   ]
  }
 ],
 "metadata": {
  "kernelspec": {
   "display_name": "Python 3",
   "language": "python",
   "name": "python3"
  },
  "language_info": {
   "codemirror_mode": {
    "name": "ipython",
    "version": 3
   },
   "file_extension": ".py",
   "mimetype": "text/x-python",
   "name": "python",
   "nbconvert_exporter": "python",
   "pygments_lexer": "ipython3",
   "version": "3.7.8"
  }
 },
 "nbformat": 4,
 "nbformat_minor": 4
}
