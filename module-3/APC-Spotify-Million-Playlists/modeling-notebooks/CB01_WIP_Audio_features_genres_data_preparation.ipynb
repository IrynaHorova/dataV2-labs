{
 "cells": [
  {
   "cell_type": "markdown",
   "metadata": {},
   "source": [
    "# WIP: Data prep:  Content Based filtering using audio features, album_uri and artist_uri"
   ]
  },
  {
   "cell_type": "code",
   "execution_count": 2,
   "metadata": {},
   "outputs": [],
   "source": [
    "import import_ipynb"
   ]
  },
  {
   "cell_type": "code",
   "execution_count": 3,
   "metadata": {},
   "outputs": [
    {
     "name": "stdout",
     "output_type": "stream",
     "text": [
      "importing Jupyter notebook from evaluation.ipynb\n",
      "DCG = 0.5\n",
      "IDCG = 1.0\n",
      "nDCG = 0.5\n"
     ]
    }
   ],
   "source": [
    "import json\n",
    "import pandas as pd\n",
    "import matplotlib.pyplot as plt\n",
    "import seaborn as sns\n",
    "import numpy as np\n",
    "import random\n",
    "import scipy.sparse as sps\n",
    "\n",
    "from sklearn.preprocessing import normalize\n",
    "from sklearn.preprocessing import StandardScaler\n",
    "from sklearn.decomposition import PCA\n",
    "from sklearn.metrics.pairwise import cosine_similarity\n",
    "from sklearn.metrics.pairwise import linear_kernel\n",
    "from category_encoders import TargetEncoder\n",
    "from time import time\n",
    "\n",
    "import warnings\n",
    "warnings.simplefilter(action='ignore', category=FutureWarning)\n",
    "\n",
    "#own functions\n",
    "from evaluation import DCG\n",
    "from evaluation import nDCG\n",
    "from evaluation import R_Precision\n",
    "\n",
    "\n",
    "%matplotlib inline"
   ]
  },
  {
   "cell_type": "markdown",
   "metadata": {},
   "source": [
    "# Data transformation, PCA and merging "
   ]
  },
  {
   "cell_type": "code",
   "execution_count": 3,
   "metadata": {},
   "outputs": [
    {
     "data": {
      "text/plain": [
       "['Lose Control (feat. Ciara & Fat Man Scoop)', 'Missy Elliott', 'The Cookbook']"
      ]
     },
     "execution_count": 3,
     "metadata": {},
     "output_type": "execute_result"
    }
   ],
   "source": [
    "with open('../data-processed/full-data/track_descriptions.json') as json_file:\n",
    "    D_desc = json.load(json_file)\n",
    "    \n",
    "D_desc['spotify:track:0UaMYEvWZi0ZqiDOoHU3YI']"
   ]
  },
  {
   "cell_type": "code",
   "execution_count": 4,
   "metadata": {},
   "outputs": [
    {
     "data": {
      "text/plain": [
       "['spotify:artist:2wIVse2owClT7go1WT98tk',\n",
       " 'spotify:album:6vV5UrXcfyQD1wu4Qo2I9K']"
      ]
     },
     "execution_count": 4,
     "metadata": {},
     "output_type": "execute_result"
    }
   ],
   "source": [
    "with open('../data-processed/full-data/track_artist_album.json') as json_file:\n",
    "    D_album_artist = json.load(json_file)\n",
    "    \n",
    "D_album_artist['spotify:track:0UaMYEvWZi0ZqiDOoHU3YI']"
   ]
  },
  {
   "cell_type": "code",
   "execution_count": 5,
   "metadata": {},
   "outputs": [],
   "source": [
    "path = '../data-processed/full-data/audio-features-combined.csv'\n",
    "data = pd.read_csv(path)"
   ]
  },
  {
   "cell_type": "code",
   "execution_count": 6,
   "metadata": {},
   "outputs": [],
   "source": [
    "data = data.reset_index()\n",
    "data = data.rename(columns = {'index':'track_id'})\n",
    "data['artist_uri'] = data.apply(lambda x:D_album_artist[x.uri][0], axis = 1)\n",
    "data['album_uri'] = data.apply(lambda x:D_album_artist[x.uri][1], axis = 1)"
   ]
  },
  {
   "cell_type": "code",
   "execution_count": 7,
   "metadata": {},
   "outputs": [],
   "source": [
    "# data.head()"
   ]
  },
  {
   "cell_type": "code",
   "execution_count": 8,
   "metadata": {},
   "outputs": [],
   "source": [
    "D_track_uri_to_id = data.groupby('uri')['track_id'].min().to_dict()\n",
    "D_track_id_to_uri = data.groupby('track_id')['uri'].min().to_dict()"
   ]
  },
  {
   "cell_type": "code",
   "execution_count": 9,
   "metadata": {},
   "outputs": [
    {
     "data": {
      "text/plain": [
       "(2262190, 2262190)"
      ]
     },
     "execution_count": 9,
     "metadata": {},
     "output_type": "execute_result"
    }
   ],
   "source": [
    "len(D_track_uri_to_id), len(D_track_id_to_uri)"
   ]
  },
  {
   "cell_type": "code",
   "execution_count": 10,
   "metadata": {},
   "outputs": [
    {
     "data": {
      "text/html": [
       "<div>\n",
       "<style scoped>\n",
       "    .dataframe tbody tr th:only-of-type {\n",
       "        vertical-align: middle;\n",
       "    }\n",
       "\n",
       "    .dataframe tbody tr th {\n",
       "        vertical-align: top;\n",
       "    }\n",
       "\n",
       "    .dataframe thead th {\n",
       "        text-align: right;\n",
       "    }\n",
       "</style>\n",
       "<table border=\"1\" class=\"dataframe\">\n",
       "  <thead>\n",
       "    <tr style=\"text-align: right;\">\n",
       "      <th></th>\n",
       "      <th>track_id</th>\n",
       "      <th>uri</th>\n",
       "      <th>danceability</th>\n",
       "      <th>energy</th>\n",
       "      <th>key</th>\n",
       "      <th>loudness</th>\n",
       "      <th>mode</th>\n",
       "      <th>speechiness</th>\n",
       "      <th>acousticness</th>\n",
       "      <th>instrumentalness</th>\n",
       "      <th>liveness</th>\n",
       "      <th>valence</th>\n",
       "      <th>tempo</th>\n",
       "      <th>duration_ms</th>\n",
       "      <th>time_signature</th>\n",
       "      <th>artist_uri</th>\n",
       "      <th>album_uri</th>\n",
       "    </tr>\n",
       "  </thead>\n",
       "  <tbody>\n",
       "    <tr>\n",
       "      <th>0</th>\n",
       "      <td>0</td>\n",
       "      <td>spotify:track:5OSaZxhNj307YpTh7Qp8Xy</td>\n",
       "      <td>0.716</td>\n",
       "      <td>0.421</td>\n",
       "      <td>7</td>\n",
       "      <td>-11.560</td>\n",
       "      <td>0</td>\n",
       "      <td>0.0275</td>\n",
       "      <td>0.649000</td>\n",
       "      <td>0.002070</td>\n",
       "      <td>0.0936</td>\n",
       "      <td>0.2070</td>\n",
       "      <td>99.078</td>\n",
       "      <td>378440</td>\n",
       "      <td>4</td>\n",
       "      <td>spotify:artist:1vSHzGHsVOCrgPSCmKNimP</td>\n",
       "      <td>spotify:album:0oA1WetYmmrxkyjxz92yJg</td>\n",
       "    </tr>\n",
       "    <tr>\n",
       "      <th>1</th>\n",
       "      <td>1</td>\n",
       "      <td>spotify:track:4zytmsfZ7HtdXj3VLECcu2</td>\n",
       "      <td>0.141</td>\n",
       "      <td>0.441</td>\n",
       "      <td>5</td>\n",
       "      <td>-12.893</td>\n",
       "      <td>1</td>\n",
       "      <td>0.0892</td>\n",
       "      <td>0.700000</td>\n",
       "      <td>0.687000</td>\n",
       "      <td>0.1280</td>\n",
       "      <td>0.0725</td>\n",
       "      <td>76.044</td>\n",
       "      <td>331000</td>\n",
       "      <td>4</td>\n",
       "      <td>spotify:artist:6gHYtzSvIIWvoUY2q2V3Rj</td>\n",
       "      <td>spotify:album:3c1gpGKfahKOFXtM7eIcFO</td>\n",
       "    </tr>\n",
       "    <tr>\n",
       "      <th>2</th>\n",
       "      <td>2</td>\n",
       "      <td>spotify:track:6lOWUS7iBVEw6ieJqxH17B</td>\n",
       "      <td>0.799</td>\n",
       "      <td>0.893</td>\n",
       "      <td>8</td>\n",
       "      <td>-5.496</td>\n",
       "      <td>1</td>\n",
       "      <td>0.0635</td>\n",
       "      <td>0.000018</td>\n",
       "      <td>0.914000</td>\n",
       "      <td>0.3620</td>\n",
       "      <td>0.5290</td>\n",
       "      <td>128.009</td>\n",
       "      <td>469397</td>\n",
       "      <td>4</td>\n",
       "      <td>spotify:artist:7kxOVclB0zQamtBR0syCrg</td>\n",
       "      <td>spotify:album:0mX83KZvGWqBOvI4nIZ23H</td>\n",
       "    </tr>\n",
       "    <tr>\n",
       "      <th>3</th>\n",
       "      <td>3</td>\n",
       "      <td>spotify:track:3OSL6hJ9DoRGwr9OSEVrRS</td>\n",
       "      <td>0.789</td>\n",
       "      <td>0.548</td>\n",
       "      <td>4</td>\n",
       "      <td>-7.167</td>\n",
       "      <td>1</td>\n",
       "      <td>0.0418</td>\n",
       "      <td>0.707000</td>\n",
       "      <td>0.000934</td>\n",
       "      <td>0.0616</td>\n",
       "      <td>0.5930</td>\n",
       "      <td>117.713</td>\n",
       "      <td>153893</td>\n",
       "      <td>4</td>\n",
       "      <td>spotify:artist:2sxmKe3CUrWnx7eoXMhOlW</td>\n",
       "      <td>spotify:album:4hXCM8vqLJnlFcuHoH3zVP</td>\n",
       "    </tr>\n",
       "    <tr>\n",
       "      <th>4</th>\n",
       "      <td>4</td>\n",
       "      <td>spotify:track:6x0bgGOKckFsesVf7yPWJq</td>\n",
       "      <td>0.728</td>\n",
       "      <td>0.670</td>\n",
       "      <td>3</td>\n",
       "      <td>-7.912</td>\n",
       "      <td>0</td>\n",
       "      <td>0.1020</td>\n",
       "      <td>0.157000</td>\n",
       "      <td>0.000797</td>\n",
       "      <td>0.1080</td>\n",
       "      <td>0.0647</td>\n",
       "      <td>119.963</td>\n",
       "      <td>196000</td>\n",
       "      <td>4</td>\n",
       "      <td>spotify:artist:6PyeXqjH8OMGnt1IOhWgrQ</td>\n",
       "      <td>spotify:album:1pjNAADvPDurRS42fqxN4k</td>\n",
       "    </tr>\n",
       "  </tbody>\n",
       "</table>\n",
       "</div>"
      ],
      "text/plain": [
       "   track_id                                   uri  danceability  energy  key  \\\n",
       "0         0  spotify:track:5OSaZxhNj307YpTh7Qp8Xy         0.716   0.421    7   \n",
       "1         1  spotify:track:4zytmsfZ7HtdXj3VLECcu2         0.141   0.441    5   \n",
       "2         2  spotify:track:6lOWUS7iBVEw6ieJqxH17B         0.799   0.893    8   \n",
       "3         3  spotify:track:3OSL6hJ9DoRGwr9OSEVrRS         0.789   0.548    4   \n",
       "4         4  spotify:track:6x0bgGOKckFsesVf7yPWJq         0.728   0.670    3   \n",
       "\n",
       "   loudness  mode  speechiness  acousticness  instrumentalness  liveness  \\\n",
       "0   -11.560     0       0.0275      0.649000          0.002070    0.0936   \n",
       "1   -12.893     1       0.0892      0.700000          0.687000    0.1280   \n",
       "2    -5.496     1       0.0635      0.000018          0.914000    0.3620   \n",
       "3    -7.167     1       0.0418      0.707000          0.000934    0.0616   \n",
       "4    -7.912     0       0.1020      0.157000          0.000797    0.1080   \n",
       "\n",
       "   valence    tempo  duration_ms  time_signature  \\\n",
       "0   0.2070   99.078       378440               4   \n",
       "1   0.0725   76.044       331000               4   \n",
       "2   0.5290  128.009       469397               4   \n",
       "3   0.5930  117.713       153893               4   \n",
       "4   0.0647  119.963       196000               4   \n",
       "\n",
       "                              artist_uri                             album_uri  \n",
       "0  spotify:artist:1vSHzGHsVOCrgPSCmKNimP  spotify:album:0oA1WetYmmrxkyjxz92yJg  \n",
       "1  spotify:artist:6gHYtzSvIIWvoUY2q2V3Rj  spotify:album:3c1gpGKfahKOFXtM7eIcFO  \n",
       "2  spotify:artist:7kxOVclB0zQamtBR0syCrg  spotify:album:0mX83KZvGWqBOvI4nIZ23H  \n",
       "3  spotify:artist:2sxmKe3CUrWnx7eoXMhOlW  spotify:album:4hXCM8vqLJnlFcuHoH3zVP  \n",
       "4  spotify:artist:6PyeXqjH8OMGnt1IOhWgrQ  spotify:album:1pjNAADvPDurRS42fqxN4k  "
      ]
     },
     "execution_count": 10,
     "metadata": {},
     "output_type": "execute_result"
    }
   ],
   "source": [
    "data.head()"
   ]
  },
  {
   "cell_type": "code",
   "execution_count": 11,
   "metadata": {},
   "outputs": [],
   "source": [
    "##\n",
    "genres = pd.read_csv('../data-processed/full-data/genres_by_artist.csv')"
   ]
  },
  {
   "cell_type": "code",
   "execution_count": 12,
   "metadata": {},
   "outputs": [
    {
     "data": {
      "text/html": [
       "<div>\n",
       "<style scoped>\n",
       "    .dataframe tbody tr th:only-of-type {\n",
       "        vertical-align: middle;\n",
       "    }\n",
       "\n",
       "    .dataframe tbody tr th {\n",
       "        vertical-align: top;\n",
       "    }\n",
       "\n",
       "    .dataframe thead th {\n",
       "        text-align: right;\n",
       "    }\n",
       "</style>\n",
       "<table border=\"1\" class=\"dataframe\">\n",
       "  <thead>\n",
       "    <tr style=\"text-align: right;\">\n",
       "      <th></th>\n",
       "      <th>artist_uri</th>\n",
       "      <th>21st century classical</th>\n",
       "      <th>432hz</th>\n",
       "      <th>8-bit</th>\n",
       "      <th>8d</th>\n",
       "      <th>a cappella</th>\n",
       "      <th>aarhus indie</th>\n",
       "      <th>aberdeen indie</th>\n",
       "      <th>abstract</th>\n",
       "      <th>abstract beats</th>\n",
       "      <th>...</th>\n",
       "      <th>zim hip hop</th>\n",
       "      <th>zim urban groove</th>\n",
       "      <th>zimdancehall</th>\n",
       "      <th>zither</th>\n",
       "      <th>zolo</th>\n",
       "      <th>zouglou</th>\n",
       "      <th>zouk</th>\n",
       "      <th>zouk riddim</th>\n",
       "      <th>zurich indie</th>\n",
       "      <th>zydeco</th>\n",
       "    </tr>\n",
       "  </thead>\n",
       "  <tbody>\n",
       "    <tr>\n",
       "      <th>0</th>\n",
       "      <td>spotify:artist:0001ZVMPt41Vwzt1zsmuzp</td>\n",
       "      <td>0.0</td>\n",
       "      <td>0.0</td>\n",
       "      <td>0.0</td>\n",
       "      <td>0.0</td>\n",
       "      <td>0.0</td>\n",
       "      <td>0.0</td>\n",
       "      <td>0.0</td>\n",
       "      <td>0.0</td>\n",
       "      <td>0.0</td>\n",
       "      <td>...</td>\n",
       "      <td>0.0</td>\n",
       "      <td>0.0</td>\n",
       "      <td>0.0</td>\n",
       "      <td>0.0</td>\n",
       "      <td>0.0</td>\n",
       "      <td>0.0</td>\n",
       "      <td>0.0</td>\n",
       "      <td>0.0</td>\n",
       "      <td>0.0</td>\n",
       "      <td>0.0</td>\n",
       "    </tr>\n",
       "    <tr>\n",
       "      <th>1</th>\n",
       "      <td>spotify:artist:0001wHqxbF2YYRQxGdbyER</td>\n",
       "      <td>0.0</td>\n",
       "      <td>0.0</td>\n",
       "      <td>0.0</td>\n",
       "      <td>0.0</td>\n",
       "      <td>0.0</td>\n",
       "      <td>0.0</td>\n",
       "      <td>0.0</td>\n",
       "      <td>0.0</td>\n",
       "      <td>0.0</td>\n",
       "      <td>...</td>\n",
       "      <td>0.0</td>\n",
       "      <td>0.0</td>\n",
       "      <td>0.0</td>\n",
       "      <td>0.0</td>\n",
       "      <td>0.0</td>\n",
       "      <td>0.0</td>\n",
       "      <td>0.0</td>\n",
       "      <td>0.0</td>\n",
       "      <td>0.0</td>\n",
       "      <td>0.0</td>\n",
       "    </tr>\n",
       "    <tr>\n",
       "      <th>2</th>\n",
       "      <td>spotify:artist:000Dq0VqTZpxOP6jQMscVL</td>\n",
       "      <td>0.0</td>\n",
       "      <td>0.0</td>\n",
       "      <td>0.0</td>\n",
       "      <td>0.0</td>\n",
       "      <td>0.0</td>\n",
       "      <td>0.0</td>\n",
       "      <td>0.0</td>\n",
       "      <td>0.0</td>\n",
       "      <td>0.0</td>\n",
       "      <td>...</td>\n",
       "      <td>0.0</td>\n",
       "      <td>0.0</td>\n",
       "      <td>0.0</td>\n",
       "      <td>0.0</td>\n",
       "      <td>0.0</td>\n",
       "      <td>0.0</td>\n",
       "      <td>0.0</td>\n",
       "      <td>0.0</td>\n",
       "      <td>0.0</td>\n",
       "      <td>0.0</td>\n",
       "    </tr>\n",
       "    <tr>\n",
       "      <th>3</th>\n",
       "      <td>spotify:artist:000spuc3oKgwYmfg5IE26s</td>\n",
       "      <td>0.0</td>\n",
       "      <td>0.0</td>\n",
       "      <td>0.0</td>\n",
       "      <td>0.0</td>\n",
       "      <td>0.0</td>\n",
       "      <td>0.0</td>\n",
       "      <td>0.0</td>\n",
       "      <td>0.0</td>\n",
       "      <td>0.0</td>\n",
       "      <td>...</td>\n",
       "      <td>0.0</td>\n",
       "      <td>0.0</td>\n",
       "      <td>0.0</td>\n",
       "      <td>0.0</td>\n",
       "      <td>0.0</td>\n",
       "      <td>0.0</td>\n",
       "      <td>0.0</td>\n",
       "      <td>0.0</td>\n",
       "      <td>0.0</td>\n",
       "      <td>0.0</td>\n",
       "    </tr>\n",
       "    <tr>\n",
       "      <th>4</th>\n",
       "      <td>spotify:artist:000xagx3GkcunHTFdB4ly0</td>\n",
       "      <td>0.0</td>\n",
       "      <td>0.0</td>\n",
       "      <td>0.0</td>\n",
       "      <td>0.0</td>\n",
       "      <td>0.0</td>\n",
       "      <td>0.0</td>\n",
       "      <td>0.0</td>\n",
       "      <td>0.0</td>\n",
       "      <td>0.0</td>\n",
       "      <td>...</td>\n",
       "      <td>0.0</td>\n",
       "      <td>0.0</td>\n",
       "      <td>0.0</td>\n",
       "      <td>0.0</td>\n",
       "      <td>0.0</td>\n",
       "      <td>0.0</td>\n",
       "      <td>0.0</td>\n",
       "      <td>0.0</td>\n",
       "      <td>0.0</td>\n",
       "      <td>0.0</td>\n",
       "    </tr>\n",
       "  </tbody>\n",
       "</table>\n",
       "<p>5 rows × 4968 columns</p>\n",
       "</div>"
      ],
      "text/plain": [
       "                              artist_uri  21st century classical  432hz  \\\n",
       "0  spotify:artist:0001ZVMPt41Vwzt1zsmuzp                     0.0    0.0   \n",
       "1  spotify:artist:0001wHqxbF2YYRQxGdbyER                     0.0    0.0   \n",
       "2  spotify:artist:000Dq0VqTZpxOP6jQMscVL                     0.0    0.0   \n",
       "3  spotify:artist:000spuc3oKgwYmfg5IE26s                     0.0    0.0   \n",
       "4  spotify:artist:000xagx3GkcunHTFdB4ly0                     0.0    0.0   \n",
       "\n",
       "   8-bit   8d  a cappella  aarhus indie  aberdeen indie  abstract  \\\n",
       "0    0.0  0.0         0.0           0.0             0.0       0.0   \n",
       "1    0.0  0.0         0.0           0.0             0.0       0.0   \n",
       "2    0.0  0.0         0.0           0.0             0.0       0.0   \n",
       "3    0.0  0.0         0.0           0.0             0.0       0.0   \n",
       "4    0.0  0.0         0.0           0.0             0.0       0.0   \n",
       "\n",
       "   abstract beats  ...  zim hip hop  zim urban groove  zimdancehall  zither  \\\n",
       "0             0.0  ...          0.0               0.0           0.0     0.0   \n",
       "1             0.0  ...          0.0               0.0           0.0     0.0   \n",
       "2             0.0  ...          0.0               0.0           0.0     0.0   \n",
       "3             0.0  ...          0.0               0.0           0.0     0.0   \n",
       "4             0.0  ...          0.0               0.0           0.0     0.0   \n",
       "\n",
       "   zolo  zouglou  zouk  zouk riddim  zurich indie  zydeco  \n",
       "0   0.0      0.0   0.0          0.0           0.0     0.0  \n",
       "1   0.0      0.0   0.0          0.0           0.0     0.0  \n",
       "2   0.0      0.0   0.0          0.0           0.0     0.0  \n",
       "3   0.0      0.0   0.0          0.0           0.0     0.0  \n",
       "4   0.0      0.0   0.0          0.0           0.0     0.0  \n",
       "\n",
       "[5 rows x 4968 columns]"
      ]
     },
     "execution_count": 12,
     "metadata": {},
     "output_type": "execute_result"
    }
   ],
   "source": [
    "##\n",
    "genres.head()"
   ]
  },
  {
   "cell_type": "code",
   "execution_count": 13,
   "metadata": {},
   "outputs": [],
   "source": [
    "# data_genres = data.merge(genres, how='left', left_on='artist_uri', right_on='artist_uri')"
   ]
  },
  {
   "cell_type": "code",
   "execution_count": 14,
   "metadata": {},
   "outputs": [],
   "source": [
    "# data_genres.shape"
   ]
  },
  {
   "cell_type": "markdown",
   "metadata": {},
   "source": [
    "# PCA on genres"
   ]
  },
  {
   "cell_type": "code",
   "execution_count": 15,
   "metadata": {},
   "outputs": [],
   "source": [
    "X_genres = genres.iloc[:,1:]"
   ]
  },
  {
   "cell_type": "code",
   "execution_count": 16,
   "metadata": {},
   "outputs": [
    {
     "data": {
      "text/plain": [
       "(122142, 4967)"
      ]
     },
     "execution_count": 16,
     "metadata": {},
     "output_type": "execute_result"
    }
   ],
   "source": [
    "X_genres.shape"
   ]
  },
  {
   "cell_type": "code",
   "execution_count": 17,
   "metadata": {},
   "outputs": [
    {
     "data": {
      "text/plain": [
       "array([[0., 0., 0., ..., 0., 0., 0.],\n",
       "       [0., 0., 0., ..., 0., 0., 0.],\n",
       "       [0., 0., 0., ..., 0., 0., 0.],\n",
       "       ...,\n",
       "       [0., 0., 0., ..., 0., 0., 0.],\n",
       "       [0., 0., 0., ..., 0., 0., 0.],\n",
       "       [0., 0., 0., ..., 0., 0., 0.]])"
      ]
     },
     "execution_count": 17,
     "metadata": {},
     "output_type": "execute_result"
    }
   ],
   "source": [
    "X_genres.values"
   ]
  },
  {
   "cell_type": "code",
   "execution_count": 18,
   "metadata": {},
   "outputs": [
    {
     "name": "stdout",
     "output_type": "stream",
     "text": [
      "0.6067027958450439\n"
     ]
    }
   ],
   "source": [
    "pca = PCA(n_components=800)\n",
    "pca = pca.fit(X_genres.values)\n",
    "print(sum(pca.explained_variance_ratio_))"
   ]
  },
  {
   "cell_type": "code",
   "execution_count": 19,
   "metadata": {},
   "outputs": [],
   "source": [
    "X_genres_pca = pca.transform(X_genres)"
   ]
  },
  {
   "cell_type": "code",
   "execution_count": 20,
   "metadata": {},
   "outputs": [],
   "source": [
    "genres_pca_df = pd.DataFrame(X_genres_pca)"
   ]
  },
  {
   "cell_type": "code",
   "execution_count": 21,
   "metadata": {},
   "outputs": [
    {
     "data": {
      "text/plain": [
       "(122142, 800)"
      ]
     },
     "execution_count": 21,
     "metadata": {},
     "output_type": "execute_result"
    }
   ],
   "source": [
    "genres_pca_df.shape"
   ]
  },
  {
   "cell_type": "code",
   "execution_count": 22,
   "metadata": {},
   "outputs": [
    {
     "data": {
      "text/plain": [
       "((122142, 800), (122142, 4968))"
      ]
     },
     "execution_count": 22,
     "metadata": {},
     "output_type": "execute_result"
    }
   ],
   "source": [
    "genres_pca_df.shape, genres.shape"
   ]
  },
  {
   "cell_type": "code",
   "execution_count": 23,
   "metadata": {},
   "outputs": [],
   "source": [
    "genres_pca_df['artist_uri'] = genres['artist_uri']"
   ]
  },
  {
   "cell_type": "code",
   "execution_count": 24,
   "metadata": {},
   "outputs": [],
   "source": [
    "new_cols = ['pca_genre_'+ str(el) for el in list(genres_pca_df.columns)]"
   ]
  },
  {
   "cell_type": "code",
   "execution_count": 25,
   "metadata": {},
   "outputs": [],
   "source": [
    "genres_pca_df.columns = new_cols"
   ]
  },
  {
   "cell_type": "code",
   "execution_count": 26,
   "metadata": {},
   "outputs": [
    {
     "data": {
      "text/html": [
       "<div>\n",
       "<style scoped>\n",
       "    .dataframe tbody tr th:only-of-type {\n",
       "        vertical-align: middle;\n",
       "    }\n",
       "\n",
       "    .dataframe tbody tr th {\n",
       "        vertical-align: top;\n",
       "    }\n",
       "\n",
       "    .dataframe thead th {\n",
       "        text-align: right;\n",
       "    }\n",
       "</style>\n",
       "<table border=\"1\" class=\"dataframe\">\n",
       "  <thead>\n",
       "    <tr style=\"text-align: right;\">\n",
       "      <th></th>\n",
       "      <th>pca_genre_0</th>\n",
       "      <th>pca_genre_1</th>\n",
       "      <th>pca_genre_2</th>\n",
       "      <th>pca_genre_3</th>\n",
       "      <th>pca_genre_4</th>\n",
       "      <th>pca_genre_5</th>\n",
       "      <th>pca_genre_6</th>\n",
       "      <th>pca_genre_7</th>\n",
       "      <th>pca_genre_8</th>\n",
       "      <th>pca_genre_9</th>\n",
       "      <th>...</th>\n",
       "      <th>pca_genre_791</th>\n",
       "      <th>pca_genre_792</th>\n",
       "      <th>pca_genre_793</th>\n",
       "      <th>pca_genre_794</th>\n",
       "      <th>pca_genre_795</th>\n",
       "      <th>pca_genre_796</th>\n",
       "      <th>pca_genre_797</th>\n",
       "      <th>pca_genre_798</th>\n",
       "      <th>pca_genre_799</th>\n",
       "      <th>pca_genre_artist_uri</th>\n",
       "    </tr>\n",
       "  </thead>\n",
       "  <tbody>\n",
       "    <tr>\n",
       "      <th>0</th>\n",
       "      <td>-0.014280</td>\n",
       "      <td>-0.018220</td>\n",
       "      <td>0.000345</td>\n",
       "      <td>-0.002941</td>\n",
       "      <td>-0.004096</td>\n",
       "      <td>-0.003106</td>\n",
       "      <td>-0.011270</td>\n",
       "      <td>-0.014823</td>\n",
       "      <td>-0.002936</td>\n",
       "      <td>-0.004451</td>\n",
       "      <td>...</td>\n",
       "      <td>-0.000863</td>\n",
       "      <td>0.000508</td>\n",
       "      <td>0.004983</td>\n",
       "      <td>-0.019387</td>\n",
       "      <td>0.001351</td>\n",
       "      <td>-0.010258</td>\n",
       "      <td>0.016658</td>\n",
       "      <td>0.003399</td>\n",
       "      <td>-0.001200</td>\n",
       "      <td>spotify:artist:0001ZVMPt41Vwzt1zsmuzp</td>\n",
       "    </tr>\n",
       "    <tr>\n",
       "      <th>1</th>\n",
       "      <td>-0.015368</td>\n",
       "      <td>-0.019184</td>\n",
       "      <td>0.000772</td>\n",
       "      <td>-0.005146</td>\n",
       "      <td>-0.004233</td>\n",
       "      <td>-0.001388</td>\n",
       "      <td>-0.010450</td>\n",
       "      <td>-0.009148</td>\n",
       "      <td>-0.001779</td>\n",
       "      <td>-0.003654</td>\n",
       "      <td>...</td>\n",
       "      <td>-0.001587</td>\n",
       "      <td>-0.000826</td>\n",
       "      <td>0.018523</td>\n",
       "      <td>-0.034010</td>\n",
       "      <td>0.013823</td>\n",
       "      <td>0.005342</td>\n",
       "      <td>0.033496</td>\n",
       "      <td>-0.010388</td>\n",
       "      <td>0.002776</td>\n",
       "      <td>spotify:artist:0001wHqxbF2YYRQxGdbyER</td>\n",
       "    </tr>\n",
       "    <tr>\n",
       "      <th>2</th>\n",
       "      <td>-0.018196</td>\n",
       "      <td>-0.000024</td>\n",
       "      <td>0.033606</td>\n",
       "      <td>-0.030348</td>\n",
       "      <td>0.004702</td>\n",
       "      <td>0.003801</td>\n",
       "      <td>-0.006495</td>\n",
       "      <td>-0.003460</td>\n",
       "      <td>-0.000118</td>\n",
       "      <td>-0.003463</td>\n",
       "      <td>...</td>\n",
       "      <td>-0.007864</td>\n",
       "      <td>-0.018153</td>\n",
       "      <td>-0.000497</td>\n",
       "      <td>-0.002984</td>\n",
       "      <td>-0.000509</td>\n",
       "      <td>-0.012474</td>\n",
       "      <td>0.002996</td>\n",
       "      <td>-0.017271</td>\n",
       "      <td>-0.003976</td>\n",
       "      <td>spotify:artist:000Dq0VqTZpxOP6jQMscVL</td>\n",
       "    </tr>\n",
       "    <tr>\n",
       "      <th>3</th>\n",
       "      <td>-0.014593</td>\n",
       "      <td>-0.018131</td>\n",
       "      <td>0.000744</td>\n",
       "      <td>-0.004695</td>\n",
       "      <td>-0.003859</td>\n",
       "      <td>-0.001276</td>\n",
       "      <td>-0.009498</td>\n",
       "      <td>-0.008311</td>\n",
       "      <td>-0.001632</td>\n",
       "      <td>-0.003259</td>\n",
       "      <td>...</td>\n",
       "      <td>-0.003955</td>\n",
       "      <td>-0.000681</td>\n",
       "      <td>-0.024163</td>\n",
       "      <td>0.001024</td>\n",
       "      <td>-0.008494</td>\n",
       "      <td>-0.000973</td>\n",
       "      <td>0.007799</td>\n",
       "      <td>-0.029993</td>\n",
       "      <td>0.020919</td>\n",
       "      <td>spotify:artist:000spuc3oKgwYmfg5IE26s</td>\n",
       "    </tr>\n",
       "    <tr>\n",
       "      <th>4</th>\n",
       "      <td>-0.014374</td>\n",
       "      <td>-0.017789</td>\n",
       "      <td>0.000655</td>\n",
       "      <td>-0.004391</td>\n",
       "      <td>-0.003389</td>\n",
       "      <td>-0.001136</td>\n",
       "      <td>-0.009248</td>\n",
       "      <td>-0.007998</td>\n",
       "      <td>-0.001620</td>\n",
       "      <td>-0.003173</td>\n",
       "      <td>...</td>\n",
       "      <td>0.000559</td>\n",
       "      <td>0.001915</td>\n",
       "      <td>0.002472</td>\n",
       "      <td>-0.001066</td>\n",
       "      <td>0.000481</td>\n",
       "      <td>0.000350</td>\n",
       "      <td>0.000676</td>\n",
       "      <td>0.001083</td>\n",
       "      <td>0.001606</td>\n",
       "      <td>spotify:artist:000xagx3GkcunHTFdB4ly0</td>\n",
       "    </tr>\n",
       "  </tbody>\n",
       "</table>\n",
       "<p>5 rows × 801 columns</p>\n",
       "</div>"
      ],
      "text/plain": [
       "   pca_genre_0  pca_genre_1  pca_genre_2  pca_genre_3  pca_genre_4  \\\n",
       "0    -0.014280    -0.018220     0.000345    -0.002941    -0.004096   \n",
       "1    -0.015368    -0.019184     0.000772    -0.005146    -0.004233   \n",
       "2    -0.018196    -0.000024     0.033606    -0.030348     0.004702   \n",
       "3    -0.014593    -0.018131     0.000744    -0.004695    -0.003859   \n",
       "4    -0.014374    -0.017789     0.000655    -0.004391    -0.003389   \n",
       "\n",
       "   pca_genre_5  pca_genre_6  pca_genre_7  pca_genre_8  pca_genre_9  ...  \\\n",
       "0    -0.003106    -0.011270    -0.014823    -0.002936    -0.004451  ...   \n",
       "1    -0.001388    -0.010450    -0.009148    -0.001779    -0.003654  ...   \n",
       "2     0.003801    -0.006495    -0.003460    -0.000118    -0.003463  ...   \n",
       "3    -0.001276    -0.009498    -0.008311    -0.001632    -0.003259  ...   \n",
       "4    -0.001136    -0.009248    -0.007998    -0.001620    -0.003173  ...   \n",
       "\n",
       "   pca_genre_791  pca_genre_792  pca_genre_793  pca_genre_794  pca_genre_795  \\\n",
       "0      -0.000863       0.000508       0.004983      -0.019387       0.001351   \n",
       "1      -0.001587      -0.000826       0.018523      -0.034010       0.013823   \n",
       "2      -0.007864      -0.018153      -0.000497      -0.002984      -0.000509   \n",
       "3      -0.003955      -0.000681      -0.024163       0.001024      -0.008494   \n",
       "4       0.000559       0.001915       0.002472      -0.001066       0.000481   \n",
       "\n",
       "   pca_genre_796  pca_genre_797  pca_genre_798  pca_genre_799  \\\n",
       "0      -0.010258       0.016658       0.003399      -0.001200   \n",
       "1       0.005342       0.033496      -0.010388       0.002776   \n",
       "2      -0.012474       0.002996      -0.017271      -0.003976   \n",
       "3      -0.000973       0.007799      -0.029993       0.020919   \n",
       "4       0.000350       0.000676       0.001083       0.001606   \n",
       "\n",
       "                    pca_genre_artist_uri  \n",
       "0  spotify:artist:0001ZVMPt41Vwzt1zsmuzp  \n",
       "1  spotify:artist:0001wHqxbF2YYRQxGdbyER  \n",
       "2  spotify:artist:000Dq0VqTZpxOP6jQMscVL  \n",
       "3  spotify:artist:000spuc3oKgwYmfg5IE26s  \n",
       "4  spotify:artist:000xagx3GkcunHTFdB4ly0  \n",
       "\n",
       "[5 rows x 801 columns]"
      ]
     },
     "execution_count": 26,
     "metadata": {},
     "output_type": "execute_result"
    }
   ],
   "source": [
    "genres_pca_df.head()"
   ]
  },
  {
   "cell_type": "code",
   "execution_count": 27,
   "metadata": {},
   "outputs": [],
   "source": [
    "genres_pca_df.to_csv('../data-processed/transformation-matrices/cb_genres_pca_df.csv', index = None)"
   ]
  },
  {
   "cell_type": "markdown",
   "metadata": {},
   "source": [
    "# Plot data"
   ]
  },
  {
   "cell_type": "code",
   "execution_count": 28,
   "metadata": {},
   "outputs": [],
   "source": [
    "# data.iloc[:,1:-1].hist(figsize=(14,9))\n",
    "# uncomment\n",
    "# plt.show()"
   ]
  },
  {
   "cell_type": "code",
   "execution_count": 29,
   "metadata": {},
   "outputs": [],
   "source": [
    "# fig, ax = plt.subplots(ncols=4, nrows=3, figsize=(14,9))\n",
    "\n",
    "# column = data.columns[2:14]\n",
    "\n",
    "#uncomment\n",
    "# for i in range(3):\n",
    "#     for j in range(4):\n",
    "#         sns.boxplot(data=data[column[i*4+j]], palette=\"Set1\", ax=ax[i,j]).set_title(column[i*4+j])"
   ]
  },
  {
   "cell_type": "markdown",
   "metadata": {},
   "source": [
    "# Standardize data "
   ]
  },
  {
   "cell_type": "code",
   "execution_count": 30,
   "metadata": {},
   "outputs": [],
   "source": [
    "X = data.iloc[:,2:13]"
   ]
  },
  {
   "cell_type": "code",
   "execution_count": 31,
   "metadata": {},
   "outputs": [
    {
     "data": {
      "text/plain": [
       "Index(['danceability', 'energy', 'key', 'loudness', 'mode', 'speechiness',\n",
       "       'acousticness', 'instrumentalness', 'liveness', 'valence', 'tempo'],\n",
       "      dtype='object')"
      ]
     },
     "execution_count": 31,
     "metadata": {},
     "output_type": "execute_result"
    }
   ],
   "source": [
    "#column orders\n",
    "data.iloc[:,2:13].columns"
   ]
  },
  {
   "cell_type": "code",
   "execution_count": 32,
   "metadata": {},
   "outputs": [],
   "source": [
    "scaler = StandardScaler()\n",
    "transformer = scaler.fit(X)\n",
    "X_transformed = transformer.transform(X)"
   ]
  },
  {
   "cell_type": "code",
   "execution_count": 33,
   "metadata": {},
   "outputs": [],
   "source": [
    "# uncomment\n",
    "# pd.DataFrame(X_transformed).hist(figsize=(14,9))\n",
    "# plt.show()"
   ]
  },
  {
   "cell_type": "markdown",
   "metadata": {},
   "source": [
    "# Target encode album_uri and artist_uri"
   ]
  },
  {
   "cell_type": "code",
   "execution_count": 34,
   "metadata": {},
   "outputs": [
    {
     "data": {
      "text/plain": [
       "(2262190, 11)"
      ]
     },
     "execution_count": 34,
     "metadata": {},
     "output_type": "execute_result"
    }
   ],
   "source": [
    "X_transformed.shape"
   ]
  },
  {
   "cell_type": "code",
   "execution_count": 35,
   "metadata": {},
   "outputs": [],
   "source": [
    "df_X_transformed = pd.DataFrame(X_transformed, columns=data.iloc[:,2:13].columns)\n",
    "# df_X_transformed.head()"
   ]
  },
  {
   "cell_type": "code",
   "execution_count": 36,
   "metadata": {},
   "outputs": [
    {
     "data": {
      "text/plain": [
       "(2262190, 11)"
      ]
     },
     "execution_count": 36,
     "metadata": {},
     "output_type": "execute_result"
    }
   ],
   "source": [
    "df_X_transformed.shape"
   ]
  },
  {
   "cell_type": "code",
   "execution_count": 37,
   "metadata": {},
   "outputs": [
    {
     "data": {
      "text/plain": [
       "Index(['danceability', 'energy', 'key', 'loudness', 'mode', 'speechiness',\n",
       "       'acousticness', 'instrumentalness', 'liveness', 'valence', 'tempo'],\n",
       "      dtype='object')"
      ]
     },
     "execution_count": 37,
     "metadata": {},
     "output_type": "execute_result"
    }
   ],
   "source": [
    "df_X_transformed.columns"
   ]
  },
  {
   "cell_type": "markdown",
   "metadata": {},
   "source": [
    "# Encode album_uri"
   ]
  },
  {
   "cell_type": "code",
   "execution_count": 38,
   "metadata": {},
   "outputs": [],
   "source": [
    "cols = ['danceability', 'energy', 'key', 'loudness', 'mode', 'speechiness',\n",
    "       'acousticness', 'instrumentalness', 'liveness', 'valence', 'tempo']"
   ]
  },
  {
   "cell_type": "code",
   "execution_count": 39,
   "metadata": {},
   "outputs": [],
   "source": [
    "df_X_transformed['album_uri'] = data.album_uri\n",
    "X = data['album_uri'].values.reshape(-1,1)"
   ]
  },
  {
   "cell_type": "code",
   "execution_count": 40,
   "metadata": {},
   "outputs": [],
   "source": [
    "enc = TargetEncoder()\n",
    "for col in cols:\n",
    "    y = df_X_transformed[col].values.reshape(-1,1)  \n",
    "    df_X_transformed[f'album_uri_{col}_enc'] = enc.fit_transform(X, y)"
   ]
  },
  {
   "cell_type": "code",
   "execution_count": 41,
   "metadata": {},
   "outputs": [],
   "source": [
    "# df_X_transformed.head()"
   ]
  },
  {
   "cell_type": "markdown",
   "metadata": {},
   "source": [
    "# Encode artist_uri"
   ]
  },
  {
   "cell_type": "code",
   "execution_count": 42,
   "metadata": {},
   "outputs": [],
   "source": [
    "cols = ['danceability', 'energy', 'key', 'loudness', 'mode', 'speechiness',\n",
    "       'acousticness', 'instrumentalness', 'liveness', 'valence', 'tempo']"
   ]
  },
  {
   "cell_type": "code",
   "execution_count": 43,
   "metadata": {},
   "outputs": [],
   "source": [
    "df_X_transformed['artist_uri'] = data.artist_uri\n",
    "X = data['artist_uri'].values.reshape(-1,1)"
   ]
  },
  {
   "cell_type": "code",
   "execution_count": 44,
   "metadata": {},
   "outputs": [],
   "source": [
    "enc = TargetEncoder()\n",
    "for col in cols:\n",
    "    y = df_X_transformed[col].values.reshape(-1,1) \n",
    "    df_X_transformed[f'artist_uri_{col}_enc'] = enc.fit_transform(X, y)"
   ]
  },
  {
   "cell_type": "code",
   "execution_count": 45,
   "metadata": {},
   "outputs": [],
   "source": [
    "# df_X_transformed.head()"
   ]
  },
  {
   "cell_type": "code",
   "execution_count": 46,
   "metadata": {},
   "outputs": [],
   "source": [
    "#X_transformed = df_X_transformed.drop(columns=['artist_uri','album_uri']).to_numpy()"
   ]
  },
  {
   "cell_type": "code",
   "execution_count": 47,
   "metadata": {},
   "outputs": [
    {
     "data": {
      "text/plain": [
       "(2262190, 35)"
      ]
     },
     "execution_count": 47,
     "metadata": {},
     "output_type": "execute_result"
    }
   ],
   "source": [
    "df_X_transformed.shape"
   ]
  },
  {
   "cell_type": "code",
   "execution_count": 48,
   "metadata": {},
   "outputs": [
    {
     "data": {
      "text/html": [
       "<div>\n",
       "<style scoped>\n",
       "    .dataframe tbody tr th:only-of-type {\n",
       "        vertical-align: middle;\n",
       "    }\n",
       "\n",
       "    .dataframe tbody tr th {\n",
       "        vertical-align: top;\n",
       "    }\n",
       "\n",
       "    .dataframe thead th {\n",
       "        text-align: right;\n",
       "    }\n",
       "</style>\n",
       "<table border=\"1\" class=\"dataframe\">\n",
       "  <thead>\n",
       "    <tr style=\"text-align: right;\">\n",
       "      <th></th>\n",
       "      <th>danceability</th>\n",
       "      <th>energy</th>\n",
       "      <th>key</th>\n",
       "      <th>loudness</th>\n",
       "      <th>mode</th>\n",
       "      <th>speechiness</th>\n",
       "      <th>acousticness</th>\n",
       "      <th>instrumentalness</th>\n",
       "      <th>liveness</th>\n",
       "      <th>valence</th>\n",
       "      <th>...</th>\n",
       "      <th>artist_uri_energy_enc</th>\n",
       "      <th>artist_uri_key_enc</th>\n",
       "      <th>artist_uri_loudness_enc</th>\n",
       "      <th>artist_uri_mode_enc</th>\n",
       "      <th>artist_uri_speechiness_enc</th>\n",
       "      <th>artist_uri_acousticness_enc</th>\n",
       "      <th>artist_uri_instrumentalness_enc</th>\n",
       "      <th>artist_uri_liveness_enc</th>\n",
       "      <th>artist_uri_valence_enc</th>\n",
       "      <th>artist_uri_tempo_enc</th>\n",
       "    </tr>\n",
       "  </thead>\n",
       "  <tbody>\n",
       "    <tr>\n",
       "      <th>0</th>\n",
       "      <td>0.897250</td>\n",
       "      <td>-0.616004</td>\n",
       "      <td>0.488537</td>\n",
       "      <td>-0.337567</td>\n",
       "      <td>-1.377756</td>\n",
       "      <td>-0.535840</td>\n",
       "      <td>0.830192</td>\n",
       "      <td>-0.626090</td>\n",
       "      <td>-0.608544</td>\n",
       "      <td>-0.995276</td>\n",
       "      <td>...</td>\n",
       "      <td>-0.417327</td>\n",
       "      <td>0.417911</td>\n",
       "      <td>-0.252375</td>\n",
       "      <td>-0.851086</td>\n",
       "      <td>-0.514105</td>\n",
       "      <td>0.431692</td>\n",
       "      <td>-0.535989</td>\n",
       "      <td>-0.594633</td>\n",
       "      <td>0.096855</td>\n",
       "      <td>-0.277456</td>\n",
       "    </tr>\n",
       "    <tr>\n",
       "      <th>1</th>\n",
       "      <td>-2.218729</td>\n",
       "      <td>-0.540820</td>\n",
       "      <td>-0.073421</td>\n",
       "      <td>-0.574500</td>\n",
       "      <td>0.725818</td>\n",
       "      <td>-0.000277</td>\n",
       "      <td>0.974099</td>\n",
       "      <td>1.334160</td>\n",
       "      <td>-0.427320</td>\n",
       "      <td>-1.493465</td>\n",
       "      <td>...</td>\n",
       "      <td>-1.044545</td>\n",
       "      <td>0.307907</td>\n",
       "      <td>-1.042904</td>\n",
       "      <td>0.425307</td>\n",
       "      <td>-0.391563</td>\n",
       "      <td>0.997275</td>\n",
       "      <td>1.700898</td>\n",
       "      <td>-0.114881</td>\n",
       "      <td>-1.420069</td>\n",
       "      <td>-1.051906</td>\n",
       "    </tr>\n",
       "    <tr>\n",
       "      <th>2</th>\n",
       "      <td>1.347035</td>\n",
       "      <td>1.158320</td>\n",
       "      <td>0.769516</td>\n",
       "      <td>0.740272</td>\n",
       "      <td>0.725818</td>\n",
       "      <td>-0.223356</td>\n",
       "      <td>-1.001042</td>\n",
       "      <td>1.983828</td>\n",
       "      <td>0.805424</td>\n",
       "      <td>0.197414</td>\n",
       "      <td>...</td>\n",
       "      <td>0.938618</td>\n",
       "      <td>0.277803</td>\n",
       "      <td>0.257273</td>\n",
       "      <td>-0.442834</td>\n",
       "      <td>-0.028102</td>\n",
       "      <td>-0.930045</td>\n",
       "      <td>1.338008</td>\n",
       "      <td>-0.334937</td>\n",
       "      <td>-0.178686</td>\n",
       "      <td>0.186234</td>\n",
       "    </tr>\n",
       "    <tr>\n",
       "      <th>3</th>\n",
       "      <td>1.292844</td>\n",
       "      <td>-0.138590</td>\n",
       "      <td>-0.354400</td>\n",
       "      <td>0.443262</td>\n",
       "      <td>0.725818</td>\n",
       "      <td>-0.411715</td>\n",
       "      <td>0.993851</td>\n",
       "      <td>-0.629341</td>\n",
       "      <td>-0.777124</td>\n",
       "      <td>0.434471</td>\n",
       "      <td>...</td>\n",
       "      <td>0.324209</td>\n",
       "      <td>0.174777</td>\n",
       "      <td>0.478093</td>\n",
       "      <td>0.611874</td>\n",
       "      <td>-0.373967</td>\n",
       "      <td>-0.203324</td>\n",
       "      <td>-0.552630</td>\n",
       "      <td>0.055331</td>\n",
       "      <td>0.641752</td>\n",
       "      <td>0.161622</td>\n",
       "    </tr>\n",
       "    <tr>\n",
       "      <th>4</th>\n",
       "      <td>0.962279</td>\n",
       "      <td>0.320027</td>\n",
       "      <td>-0.635379</td>\n",
       "      <td>0.310843</td>\n",
       "      <td>-1.377756</td>\n",
       "      <td>0.110828</td>\n",
       "      <td>-0.558085</td>\n",
       "      <td>-0.629734</td>\n",
       "      <td>-0.532682</td>\n",
       "      <td>-1.522356</td>\n",
       "      <td>...</td>\n",
       "      <td>0.344419</td>\n",
       "      <td>0.095155</td>\n",
       "      <td>0.490695</td>\n",
       "      <td>-0.956923</td>\n",
       "      <td>0.753063</td>\n",
       "      <td>-0.510730</td>\n",
       "      <td>-0.624991</td>\n",
       "      <td>-0.266135</td>\n",
       "      <td>-0.455287</td>\n",
       "      <td>0.179417</td>\n",
       "    </tr>\n",
       "  </tbody>\n",
       "</table>\n",
       "<p>5 rows × 35 columns</p>\n",
       "</div>"
      ],
      "text/plain": [
       "   danceability    energy       key  loudness      mode  speechiness  \\\n",
       "0      0.897250 -0.616004  0.488537 -0.337567 -1.377756    -0.535840   \n",
       "1     -2.218729 -0.540820 -0.073421 -0.574500  0.725818    -0.000277   \n",
       "2      1.347035  1.158320  0.769516  0.740272  0.725818    -0.223356   \n",
       "3      1.292844 -0.138590 -0.354400  0.443262  0.725818    -0.411715   \n",
       "4      0.962279  0.320027 -0.635379  0.310843 -1.377756     0.110828   \n",
       "\n",
       "   acousticness  instrumentalness  liveness   valence  ...  \\\n",
       "0      0.830192         -0.626090 -0.608544 -0.995276  ...   \n",
       "1      0.974099          1.334160 -0.427320 -1.493465  ...   \n",
       "2     -1.001042          1.983828  0.805424  0.197414  ...   \n",
       "3      0.993851         -0.629341 -0.777124  0.434471  ...   \n",
       "4     -0.558085         -0.629734 -0.532682 -1.522356  ...   \n",
       "\n",
       "   artist_uri_energy_enc artist_uri_key_enc  artist_uri_loudness_enc  \\\n",
       "0              -0.417327           0.417911                -0.252375   \n",
       "1              -1.044545           0.307907                -1.042904   \n",
       "2               0.938618           0.277803                 0.257273   \n",
       "3               0.324209           0.174777                 0.478093   \n",
       "4               0.344419           0.095155                 0.490695   \n",
       "\n",
       "   artist_uri_mode_enc  artist_uri_speechiness_enc  \\\n",
       "0            -0.851086                   -0.514105   \n",
       "1             0.425307                   -0.391563   \n",
       "2            -0.442834                   -0.028102   \n",
       "3             0.611874                   -0.373967   \n",
       "4            -0.956923                    0.753063   \n",
       "\n",
       "   artist_uri_acousticness_enc  artist_uri_instrumentalness_enc  \\\n",
       "0                     0.431692                        -0.535989   \n",
       "1                     0.997275                         1.700898   \n",
       "2                    -0.930045                         1.338008   \n",
       "3                    -0.203324                        -0.552630   \n",
       "4                    -0.510730                        -0.624991   \n",
       "\n",
       "   artist_uri_liveness_enc  artist_uri_valence_enc  artist_uri_tempo_enc  \n",
       "0                -0.594633                0.096855             -0.277456  \n",
       "1                -0.114881               -1.420069             -1.051906  \n",
       "2                -0.334937               -0.178686              0.186234  \n",
       "3                 0.055331                0.641752              0.161622  \n",
       "4                -0.266135               -0.455287              0.179417  \n",
       "\n",
       "[5 rows x 35 columns]"
      ]
     },
     "execution_count": 48,
     "metadata": {},
     "output_type": "execute_result"
    }
   ],
   "source": [
    "df_X_transformed.head()"
   ]
  },
  {
   "cell_type": "code",
   "execution_count": 49,
   "metadata": {},
   "outputs": [],
   "source": [
    "df_X_transformed.to_csv('../data-processed/transformation-matrices/cb_df_X_transformed.csv', index = None)"
   ]
  },
  {
   "cell_type": "markdown",
   "metadata": {},
   "source": [
    "# Add Genres PCA"
   ]
  },
  {
   "cell_type": "code",
   "execution_count": 50,
   "metadata": {},
   "outputs": [
    {
     "data": {
      "text/plain": [
       "Index(['danceability', 'energy', 'key', 'loudness', 'mode', 'speechiness',\n",
       "       'acousticness', 'instrumentalness', 'liveness', 'valence', 'tempo',\n",
       "       'album_uri', 'album_uri_danceability_enc', 'album_uri_energy_enc',\n",
       "       'album_uri_key_enc', 'album_uri_loudness_enc', 'album_uri_mode_enc',\n",
       "       'album_uri_speechiness_enc', 'album_uri_acousticness_enc',\n",
       "       'album_uri_instrumentalness_enc', 'album_uri_liveness_enc',\n",
       "       'album_uri_valence_enc', 'album_uri_tempo_enc', 'artist_uri',\n",
       "       'artist_uri_danceability_enc', 'artist_uri_energy_enc',\n",
       "       'artist_uri_key_enc', 'artist_uri_loudness_enc', 'artist_uri_mode_enc',\n",
       "       'artist_uri_speechiness_enc', 'artist_uri_acousticness_enc',\n",
       "       'artist_uri_instrumentalness_enc', 'artist_uri_liveness_enc',\n",
       "       'artist_uri_valence_enc', 'artist_uri_tempo_enc'],\n",
       "      dtype='object')"
      ]
     },
     "execution_count": 50,
     "metadata": {},
     "output_type": "execute_result"
    }
   ],
   "source": [
    "df_X_transformed.columns"
   ]
  },
  {
   "cell_type": "code",
   "execution_count": 51,
   "metadata": {},
   "outputs": [
    {
     "data": {
      "text/html": [
       "<div>\n",
       "<style scoped>\n",
       "    .dataframe tbody tr th:only-of-type {\n",
       "        vertical-align: middle;\n",
       "    }\n",
       "\n",
       "    .dataframe tbody tr th {\n",
       "        vertical-align: top;\n",
       "    }\n",
       "\n",
       "    .dataframe thead th {\n",
       "        text-align: right;\n",
       "    }\n",
       "</style>\n",
       "<table border=\"1\" class=\"dataframe\">\n",
       "  <thead>\n",
       "    <tr style=\"text-align: right;\">\n",
       "      <th></th>\n",
       "      <th>danceability</th>\n",
       "      <th>energy</th>\n",
       "      <th>key</th>\n",
       "      <th>loudness</th>\n",
       "      <th>mode</th>\n",
       "      <th>speechiness</th>\n",
       "      <th>acousticness</th>\n",
       "      <th>instrumentalness</th>\n",
       "      <th>liveness</th>\n",
       "      <th>valence</th>\n",
       "      <th>...</th>\n",
       "      <th>artist_uri_energy_enc</th>\n",
       "      <th>artist_uri_key_enc</th>\n",
       "      <th>artist_uri_loudness_enc</th>\n",
       "      <th>artist_uri_mode_enc</th>\n",
       "      <th>artist_uri_speechiness_enc</th>\n",
       "      <th>artist_uri_acousticness_enc</th>\n",
       "      <th>artist_uri_instrumentalness_enc</th>\n",
       "      <th>artist_uri_liveness_enc</th>\n",
       "      <th>artist_uri_valence_enc</th>\n",
       "      <th>artist_uri_tempo_enc</th>\n",
       "    </tr>\n",
       "  </thead>\n",
       "  <tbody>\n",
       "    <tr>\n",
       "      <th>0</th>\n",
       "      <td>0.897250</td>\n",
       "      <td>-0.616004</td>\n",
       "      <td>0.488537</td>\n",
       "      <td>-0.337567</td>\n",
       "      <td>-1.377756</td>\n",
       "      <td>-0.535840</td>\n",
       "      <td>0.830192</td>\n",
       "      <td>-0.626090</td>\n",
       "      <td>-0.608544</td>\n",
       "      <td>-0.995276</td>\n",
       "      <td>...</td>\n",
       "      <td>-0.417327</td>\n",
       "      <td>0.417911</td>\n",
       "      <td>-0.252375</td>\n",
       "      <td>-0.851086</td>\n",
       "      <td>-0.514105</td>\n",
       "      <td>0.431692</td>\n",
       "      <td>-0.535989</td>\n",
       "      <td>-0.594633</td>\n",
       "      <td>0.096855</td>\n",
       "      <td>-0.277456</td>\n",
       "    </tr>\n",
       "    <tr>\n",
       "      <th>1</th>\n",
       "      <td>-2.218729</td>\n",
       "      <td>-0.540820</td>\n",
       "      <td>-0.073421</td>\n",
       "      <td>-0.574500</td>\n",
       "      <td>0.725818</td>\n",
       "      <td>-0.000277</td>\n",
       "      <td>0.974099</td>\n",
       "      <td>1.334160</td>\n",
       "      <td>-0.427320</td>\n",
       "      <td>-1.493465</td>\n",
       "      <td>...</td>\n",
       "      <td>-1.044545</td>\n",
       "      <td>0.307907</td>\n",
       "      <td>-1.042904</td>\n",
       "      <td>0.425307</td>\n",
       "      <td>-0.391563</td>\n",
       "      <td>0.997275</td>\n",
       "      <td>1.700898</td>\n",
       "      <td>-0.114881</td>\n",
       "      <td>-1.420069</td>\n",
       "      <td>-1.051906</td>\n",
       "    </tr>\n",
       "    <tr>\n",
       "      <th>2</th>\n",
       "      <td>1.347035</td>\n",
       "      <td>1.158320</td>\n",
       "      <td>0.769516</td>\n",
       "      <td>0.740272</td>\n",
       "      <td>0.725818</td>\n",
       "      <td>-0.223356</td>\n",
       "      <td>-1.001042</td>\n",
       "      <td>1.983828</td>\n",
       "      <td>0.805424</td>\n",
       "      <td>0.197414</td>\n",
       "      <td>...</td>\n",
       "      <td>0.938618</td>\n",
       "      <td>0.277803</td>\n",
       "      <td>0.257273</td>\n",
       "      <td>-0.442834</td>\n",
       "      <td>-0.028102</td>\n",
       "      <td>-0.930045</td>\n",
       "      <td>1.338008</td>\n",
       "      <td>-0.334937</td>\n",
       "      <td>-0.178686</td>\n",
       "      <td>0.186234</td>\n",
       "    </tr>\n",
       "    <tr>\n",
       "      <th>3</th>\n",
       "      <td>1.292844</td>\n",
       "      <td>-0.138590</td>\n",
       "      <td>-0.354400</td>\n",
       "      <td>0.443262</td>\n",
       "      <td>0.725818</td>\n",
       "      <td>-0.411715</td>\n",
       "      <td>0.993851</td>\n",
       "      <td>-0.629341</td>\n",
       "      <td>-0.777124</td>\n",
       "      <td>0.434471</td>\n",
       "      <td>...</td>\n",
       "      <td>0.324209</td>\n",
       "      <td>0.174777</td>\n",
       "      <td>0.478093</td>\n",
       "      <td>0.611874</td>\n",
       "      <td>-0.373967</td>\n",
       "      <td>-0.203324</td>\n",
       "      <td>-0.552630</td>\n",
       "      <td>0.055331</td>\n",
       "      <td>0.641752</td>\n",
       "      <td>0.161622</td>\n",
       "    </tr>\n",
       "    <tr>\n",
       "      <th>4</th>\n",
       "      <td>0.962279</td>\n",
       "      <td>0.320027</td>\n",
       "      <td>-0.635379</td>\n",
       "      <td>0.310843</td>\n",
       "      <td>-1.377756</td>\n",
       "      <td>0.110828</td>\n",
       "      <td>-0.558085</td>\n",
       "      <td>-0.629734</td>\n",
       "      <td>-0.532682</td>\n",
       "      <td>-1.522356</td>\n",
       "      <td>...</td>\n",
       "      <td>0.344419</td>\n",
       "      <td>0.095155</td>\n",
       "      <td>0.490695</td>\n",
       "      <td>-0.956923</td>\n",
       "      <td>0.753063</td>\n",
       "      <td>-0.510730</td>\n",
       "      <td>-0.624991</td>\n",
       "      <td>-0.266135</td>\n",
       "      <td>-0.455287</td>\n",
       "      <td>0.179417</td>\n",
       "    </tr>\n",
       "    <tr>\n",
       "      <th>...</th>\n",
       "      <td>...</td>\n",
       "      <td>...</td>\n",
       "      <td>...</td>\n",
       "      <td>...</td>\n",
       "      <td>...</td>\n",
       "      <td>...</td>\n",
       "      <td>...</td>\n",
       "      <td>...</td>\n",
       "      <td>...</td>\n",
       "      <td>...</td>\n",
       "      <td>...</td>\n",
       "      <td>...</td>\n",
       "      <td>...</td>\n",
       "      <td>...</td>\n",
       "      <td>...</td>\n",
       "      <td>...</td>\n",
       "      <td>...</td>\n",
       "      <td>...</td>\n",
       "      <td>...</td>\n",
       "      <td>...</td>\n",
       "      <td>...</td>\n",
       "    </tr>\n",
       "    <tr>\n",
       "      <th>2262185</th>\n",
       "      <td>1.016470</td>\n",
       "      <td>-0.142349</td>\n",
       "      <td>-0.916358</td>\n",
       "      <td>-0.065263</td>\n",
       "      <td>-1.377756</td>\n",
       "      <td>1.013559</td>\n",
       "      <td>0.333573</td>\n",
       "      <td>1.855039</td>\n",
       "      <td>0.268074</td>\n",
       "      <td>0.734495</td>\n",
       "      <td>...</td>\n",
       "      <td>-0.285667</td>\n",
       "      <td>-0.143666</td>\n",
       "      <td>0.237857</td>\n",
       "      <td>-0.325969</td>\n",
       "      <td>1.037483</td>\n",
       "      <td>0.261660</td>\n",
       "      <td>-0.406749</td>\n",
       "      <td>-0.257554</td>\n",
       "      <td>0.065922</td>\n",
       "      <td>-0.496326</td>\n",
       "    </tr>\n",
       "    <tr>\n",
       "      <th>2262186</th>\n",
       "      <td>-0.219083</td>\n",
       "      <td>-0.104758</td>\n",
       "      <td>-1.197337</td>\n",
       "      <td>0.785242</td>\n",
       "      <td>0.725818</td>\n",
       "      <td>-0.330122</td>\n",
       "      <td>-0.716100</td>\n",
       "      <td>1.723388</td>\n",
       "      <td>-0.881960</td>\n",
       "      <td>0.697455</td>\n",
       "      <td>...</td>\n",
       "      <td>0.270450</td>\n",
       "      <td>0.001725</td>\n",
       "      <td>0.183347</td>\n",
       "      <td>-0.130288</td>\n",
       "      <td>-0.321674</td>\n",
       "      <td>-0.505742</td>\n",
       "      <td>1.356075</td>\n",
       "      <td>-0.104536</td>\n",
       "      <td>0.468690</td>\n",
       "      <td>0.391139</td>\n",
       "    </tr>\n",
       "    <tr>\n",
       "      <th>2262187</th>\n",
       "      <td>-0.408751</td>\n",
       "      <td>0.132069</td>\n",
       "      <td>1.612454</td>\n",
       "      <td>0.811014</td>\n",
       "      <td>0.725818</td>\n",
       "      <td>-0.317101</td>\n",
       "      <td>-0.244876</td>\n",
       "      <td>-0.632015</td>\n",
       "      <td>-0.584837</td>\n",
       "      <td>-0.147058</td>\n",
       "      <td>...</td>\n",
       "      <td>0.622563</td>\n",
       "      <td>-0.494828</td>\n",
       "      <td>0.859717</td>\n",
       "      <td>0.515397</td>\n",
       "      <td>-0.387015</td>\n",
       "      <td>-0.153716</td>\n",
       "      <td>-0.631937</td>\n",
       "      <td>-0.379491</td>\n",
       "      <td>0.669592</td>\n",
       "      <td>-0.084814</td>\n",
       "    </tr>\n",
       "    <tr>\n",
       "      <th>2262188</th>\n",
       "      <td>0.658810</td>\n",
       "      <td>0.534300</td>\n",
       "      <td>-0.073421</td>\n",
       "      <td>0.563062</td>\n",
       "      <td>0.725818</td>\n",
       "      <td>-0.445567</td>\n",
       "      <td>0.432332</td>\n",
       "      <td>-0.628838</td>\n",
       "      <td>-0.727077</td>\n",
       "      <td>0.423359</td>\n",
       "      <td>...</td>\n",
       "      <td>-0.052247</td>\n",
       "      <td>-0.126105</td>\n",
       "      <td>0.240723</td>\n",
       "      <td>0.397135</td>\n",
       "      <td>-0.492738</td>\n",
       "      <td>-0.031547</td>\n",
       "      <td>-0.489509</td>\n",
       "      <td>-0.433329</td>\n",
       "      <td>-0.169433</td>\n",
       "      <td>0.119670</td>\n",
       "    </tr>\n",
       "    <tr>\n",
       "      <th>2262189</th>\n",
       "      <td>-0.023996</td>\n",
       "      <td>1.410184</td>\n",
       "      <td>1.612454</td>\n",
       "      <td>0.719654</td>\n",
       "      <td>-1.377756</td>\n",
       "      <td>0.622954</td>\n",
       "      <td>-0.866779</td>\n",
       "      <td>1.809247</td>\n",
       "      <td>-0.206058</td>\n",
       "      <td>-0.224843</td>\n",
       "      <td>...</td>\n",
       "      <td>0.787570</td>\n",
       "      <td>0.657044</td>\n",
       "      <td>0.551085</td>\n",
       "      <td>-0.746592</td>\n",
       "      <td>0.161413</td>\n",
       "      <td>-0.973695</td>\n",
       "      <td>0.848149</td>\n",
       "      <td>-0.246592</td>\n",
       "      <td>0.460712</td>\n",
       "      <td>0.969444</td>\n",
       "    </tr>\n",
       "  </tbody>\n",
       "</table>\n",
       "<p>2262190 rows × 35 columns</p>\n",
       "</div>"
      ],
      "text/plain": [
       "         danceability    energy       key  loudness      mode  speechiness  \\\n",
       "0            0.897250 -0.616004  0.488537 -0.337567 -1.377756    -0.535840   \n",
       "1           -2.218729 -0.540820 -0.073421 -0.574500  0.725818    -0.000277   \n",
       "2            1.347035  1.158320  0.769516  0.740272  0.725818    -0.223356   \n",
       "3            1.292844 -0.138590 -0.354400  0.443262  0.725818    -0.411715   \n",
       "4            0.962279  0.320027 -0.635379  0.310843 -1.377756     0.110828   \n",
       "...               ...       ...       ...       ...       ...          ...   \n",
       "2262185      1.016470 -0.142349 -0.916358 -0.065263 -1.377756     1.013559   \n",
       "2262186     -0.219083 -0.104758 -1.197337  0.785242  0.725818    -0.330122   \n",
       "2262187     -0.408751  0.132069  1.612454  0.811014  0.725818    -0.317101   \n",
       "2262188      0.658810  0.534300 -0.073421  0.563062  0.725818    -0.445567   \n",
       "2262189     -0.023996  1.410184  1.612454  0.719654 -1.377756     0.622954   \n",
       "\n",
       "         acousticness  instrumentalness  liveness   valence  ...  \\\n",
       "0            0.830192         -0.626090 -0.608544 -0.995276  ...   \n",
       "1            0.974099          1.334160 -0.427320 -1.493465  ...   \n",
       "2           -1.001042          1.983828  0.805424  0.197414  ...   \n",
       "3            0.993851         -0.629341 -0.777124  0.434471  ...   \n",
       "4           -0.558085         -0.629734 -0.532682 -1.522356  ...   \n",
       "...               ...               ...       ...       ...  ...   \n",
       "2262185      0.333573          1.855039  0.268074  0.734495  ...   \n",
       "2262186     -0.716100          1.723388 -0.881960  0.697455  ...   \n",
       "2262187     -0.244876         -0.632015 -0.584837 -0.147058  ...   \n",
       "2262188      0.432332         -0.628838 -0.727077  0.423359  ...   \n",
       "2262189     -0.866779          1.809247 -0.206058 -0.224843  ...   \n",
       "\n",
       "         artist_uri_energy_enc artist_uri_key_enc  artist_uri_loudness_enc  \\\n",
       "0                    -0.417327           0.417911                -0.252375   \n",
       "1                    -1.044545           0.307907                -1.042904   \n",
       "2                     0.938618           0.277803                 0.257273   \n",
       "3                     0.324209           0.174777                 0.478093   \n",
       "4                     0.344419           0.095155                 0.490695   \n",
       "...                        ...                ...                      ...   \n",
       "2262185              -0.285667          -0.143666                 0.237857   \n",
       "2262186               0.270450           0.001725                 0.183347   \n",
       "2262187               0.622563          -0.494828                 0.859717   \n",
       "2262188              -0.052247          -0.126105                 0.240723   \n",
       "2262189               0.787570           0.657044                 0.551085   \n",
       "\n",
       "         artist_uri_mode_enc  artist_uri_speechiness_enc  \\\n",
       "0                  -0.851086                   -0.514105   \n",
       "1                   0.425307                   -0.391563   \n",
       "2                  -0.442834                   -0.028102   \n",
       "3                   0.611874                   -0.373967   \n",
       "4                  -0.956923                    0.753063   \n",
       "...                      ...                         ...   \n",
       "2262185            -0.325969                    1.037483   \n",
       "2262186            -0.130288                   -0.321674   \n",
       "2262187             0.515397                   -0.387015   \n",
       "2262188             0.397135                   -0.492738   \n",
       "2262189            -0.746592                    0.161413   \n",
       "\n",
       "         artist_uri_acousticness_enc  artist_uri_instrumentalness_enc  \\\n",
       "0                           0.431692                        -0.535989   \n",
       "1                           0.997275                         1.700898   \n",
       "2                          -0.930045                         1.338008   \n",
       "3                          -0.203324                        -0.552630   \n",
       "4                          -0.510730                        -0.624991   \n",
       "...                              ...                              ...   \n",
       "2262185                     0.261660                        -0.406749   \n",
       "2262186                    -0.505742                         1.356075   \n",
       "2262187                    -0.153716                        -0.631937   \n",
       "2262188                    -0.031547                        -0.489509   \n",
       "2262189                    -0.973695                         0.848149   \n",
       "\n",
       "         artist_uri_liveness_enc  artist_uri_valence_enc  artist_uri_tempo_enc  \n",
       "0                      -0.594633                0.096855             -0.277456  \n",
       "1                      -0.114881               -1.420069             -1.051906  \n",
       "2                      -0.334937               -0.178686              0.186234  \n",
       "3                       0.055331                0.641752              0.161622  \n",
       "4                      -0.266135               -0.455287              0.179417  \n",
       "...                          ...                     ...                   ...  \n",
       "2262185                -0.257554                0.065922             -0.496326  \n",
       "2262186                -0.104536                0.468690              0.391139  \n",
       "2262187                -0.379491                0.669592             -0.084814  \n",
       "2262188                -0.433329               -0.169433              0.119670  \n",
       "2262189                -0.246592                0.460712              0.969444  \n",
       "\n",
       "[2262190 rows x 35 columns]"
      ]
     },
     "execution_count": 51,
     "metadata": {},
     "output_type": "execute_result"
    }
   ],
   "source": [
    "df_X_transformed"
   ]
  },
  {
   "cell_type": "code",
   "execution_count": 4,
   "metadata": {},
   "outputs": [],
   "source": [
    "df_X_transformed = pd.read_csv('../data-processed/transformation-matrices/cb_df_X_transformed.csv')"
   ]
  },
  {
   "cell_type": "code",
   "execution_count": 9,
   "metadata": {},
   "outputs": [
    {
     "data": {
      "text/plain": [
       "(2262190, 35)"
      ]
     },
     "execution_count": 9,
     "metadata": {},
     "output_type": "execute_result"
    }
   ],
   "source": [
    "df_X_transformed.shape"
   ]
  },
  {
   "cell_type": "code",
   "execution_count": 5,
   "metadata": {},
   "outputs": [],
   "source": [
    "genres_pca_df = pd.read_csv('../data-processed/transformation-matrices/cb_genres_pca_df.csv')"
   ]
  },
  {
   "cell_type": "code",
   "execution_count": 10,
   "metadata": {},
   "outputs": [
    {
     "data": {
      "text/plain": [
       "(122142, 801)"
      ]
     },
     "execution_count": 10,
     "metadata": {},
     "output_type": "execute_result"
    }
   ],
   "source": [
    "genres_pca_df.shape"
   ]
  },
  {
   "cell_type": "code",
   "execution_count": 6,
   "metadata": {},
   "outputs": [],
   "source": [
    "df_merged = df_X_transformed.merge(genres_pca_df, how = 'left', left_on = 'artist_uri', right_on ='pca_genre_artist_uri' )"
   ]
  },
  {
   "cell_type": "code",
   "execution_count": 7,
   "metadata": {},
   "outputs": [
    {
     "data": {
      "text/plain": [
       "(2262190, 836)"
      ]
     },
     "execution_count": 7,
     "metadata": {},
     "output_type": "execute_result"
    }
   ],
   "source": [
    "df_merged.shape"
   ]
  },
  {
   "cell_type": "code",
   "execution_count": 8,
   "metadata": {},
   "outputs": [
    {
     "data": {
      "text/html": [
       "<div>\n",
       "<style scoped>\n",
       "    .dataframe tbody tr th:only-of-type {\n",
       "        vertical-align: middle;\n",
       "    }\n",
       "\n",
       "    .dataframe tbody tr th {\n",
       "        vertical-align: top;\n",
       "    }\n",
       "\n",
       "    .dataframe thead th {\n",
       "        text-align: right;\n",
       "    }\n",
       "</style>\n",
       "<table border=\"1\" class=\"dataframe\">\n",
       "  <thead>\n",
       "    <tr style=\"text-align: right;\">\n",
       "      <th></th>\n",
       "      <th>danceability</th>\n",
       "      <th>energy</th>\n",
       "      <th>key</th>\n",
       "      <th>loudness</th>\n",
       "      <th>mode</th>\n",
       "      <th>speechiness</th>\n",
       "      <th>acousticness</th>\n",
       "      <th>instrumentalness</th>\n",
       "      <th>liveness</th>\n",
       "      <th>valence</th>\n",
       "      <th>...</th>\n",
       "      <th>pca_genre_791</th>\n",
       "      <th>pca_genre_792</th>\n",
       "      <th>pca_genre_793</th>\n",
       "      <th>pca_genre_794</th>\n",
       "      <th>pca_genre_795</th>\n",
       "      <th>pca_genre_796</th>\n",
       "      <th>pca_genre_797</th>\n",
       "      <th>pca_genre_798</th>\n",
       "      <th>pca_genre_799</th>\n",
       "      <th>pca_genre_artist_uri</th>\n",
       "    </tr>\n",
       "  </thead>\n",
       "  <tbody>\n",
       "    <tr>\n",
       "      <th>0</th>\n",
       "      <td>0.897250</td>\n",
       "      <td>-0.616004</td>\n",
       "      <td>0.488537</td>\n",
       "      <td>-0.337567</td>\n",
       "      <td>-1.377756</td>\n",
       "      <td>-0.535840</td>\n",
       "      <td>0.830192</td>\n",
       "      <td>-0.626090</td>\n",
       "      <td>-0.608544</td>\n",
       "      <td>-0.995276</td>\n",
       "      <td>...</td>\n",
       "      <td>0.014805</td>\n",
       "      <td>0.020956</td>\n",
       "      <td>-0.012763</td>\n",
       "      <td>0.016099</td>\n",
       "      <td>-0.013033</td>\n",
       "      <td>0.071684</td>\n",
       "      <td>0.053541</td>\n",
       "      <td>-0.013224</td>\n",
       "      <td>-0.023828</td>\n",
       "      <td>spotify:artist:1vSHzGHsVOCrgPSCmKNimP</td>\n",
       "    </tr>\n",
       "    <tr>\n",
       "      <th>1</th>\n",
       "      <td>-2.218729</td>\n",
       "      <td>-0.540820</td>\n",
       "      <td>-0.073421</td>\n",
       "      <td>-0.574500</td>\n",
       "      <td>0.725818</td>\n",
       "      <td>-0.000277</td>\n",
       "      <td>0.974099</td>\n",
       "      <td>1.334160</td>\n",
       "      <td>-0.427320</td>\n",
       "      <td>-1.493465</td>\n",
       "      <td>...</td>\n",
       "      <td>NaN</td>\n",
       "      <td>NaN</td>\n",
       "      <td>NaN</td>\n",
       "      <td>NaN</td>\n",
       "      <td>NaN</td>\n",
       "      <td>NaN</td>\n",
       "      <td>NaN</td>\n",
       "      <td>NaN</td>\n",
       "      <td>NaN</td>\n",
       "      <td>NaN</td>\n",
       "    </tr>\n",
       "    <tr>\n",
       "      <th>2</th>\n",
       "      <td>1.347035</td>\n",
       "      <td>1.158320</td>\n",
       "      <td>0.769516</td>\n",
       "      <td>0.740272</td>\n",
       "      <td>0.725818</td>\n",
       "      <td>-0.223356</td>\n",
       "      <td>-1.001042</td>\n",
       "      <td>1.983828</td>\n",
       "      <td>0.805424</td>\n",
       "      <td>0.197414</td>\n",
       "      <td>...</td>\n",
       "      <td>-0.000283</td>\n",
       "      <td>-0.008057</td>\n",
       "      <td>0.009964</td>\n",
       "      <td>0.006024</td>\n",
       "      <td>-0.013305</td>\n",
       "      <td>0.009614</td>\n",
       "      <td>0.005862</td>\n",
       "      <td>0.033953</td>\n",
       "      <td>0.007343</td>\n",
       "      <td>spotify:artist:7kxOVclB0zQamtBR0syCrg</td>\n",
       "    </tr>\n",
       "    <tr>\n",
       "      <th>3</th>\n",
       "      <td>1.292844</td>\n",
       "      <td>-0.138590</td>\n",
       "      <td>-0.354400</td>\n",
       "      <td>0.443262</td>\n",
       "      <td>0.725818</td>\n",
       "      <td>-0.411715</td>\n",
       "      <td>0.993851</td>\n",
       "      <td>-0.629341</td>\n",
       "      <td>-0.777124</td>\n",
       "      <td>0.434471</td>\n",
       "      <td>...</td>\n",
       "      <td>-0.008368</td>\n",
       "      <td>-0.000212</td>\n",
       "      <td>0.002130</td>\n",
       "      <td>-0.014916</td>\n",
       "      <td>-0.015205</td>\n",
       "      <td>-0.000168</td>\n",
       "      <td>0.002519</td>\n",
       "      <td>-0.008507</td>\n",
       "      <td>-0.013943</td>\n",
       "      <td>spotify:artist:2sxmKe3CUrWnx7eoXMhOlW</td>\n",
       "    </tr>\n",
       "    <tr>\n",
       "      <th>4</th>\n",
       "      <td>0.962279</td>\n",
       "      <td>0.320027</td>\n",
       "      <td>-0.635379</td>\n",
       "      <td>0.310843</td>\n",
       "      <td>-1.377756</td>\n",
       "      <td>0.110828</td>\n",
       "      <td>-0.558085</td>\n",
       "      <td>-0.629734</td>\n",
       "      <td>-0.532682</td>\n",
       "      <td>-1.522356</td>\n",
       "      <td>...</td>\n",
       "      <td>-0.000859</td>\n",
       "      <td>0.001006</td>\n",
       "      <td>-0.002154</td>\n",
       "      <td>0.003383</td>\n",
       "      <td>0.000224</td>\n",
       "      <td>-0.001266</td>\n",
       "      <td>0.001580</td>\n",
       "      <td>-0.003220</td>\n",
       "      <td>0.003751</td>\n",
       "      <td>spotify:artist:6PyeXqjH8OMGnt1IOhWgrQ</td>\n",
       "    </tr>\n",
       "  </tbody>\n",
       "</table>\n",
       "<p>5 rows × 836 columns</p>\n",
       "</div>"
      ],
      "text/plain": [
       "   danceability    energy       key  loudness      mode  speechiness  \\\n",
       "0      0.897250 -0.616004  0.488537 -0.337567 -1.377756    -0.535840   \n",
       "1     -2.218729 -0.540820 -0.073421 -0.574500  0.725818    -0.000277   \n",
       "2      1.347035  1.158320  0.769516  0.740272  0.725818    -0.223356   \n",
       "3      1.292844 -0.138590 -0.354400  0.443262  0.725818    -0.411715   \n",
       "4      0.962279  0.320027 -0.635379  0.310843 -1.377756     0.110828   \n",
       "\n",
       "   acousticness  instrumentalness  liveness   valence  ...  pca_genre_791  \\\n",
       "0      0.830192         -0.626090 -0.608544 -0.995276  ...       0.014805   \n",
       "1      0.974099          1.334160 -0.427320 -1.493465  ...            NaN   \n",
       "2     -1.001042          1.983828  0.805424  0.197414  ...      -0.000283   \n",
       "3      0.993851         -0.629341 -0.777124  0.434471  ...      -0.008368   \n",
       "4     -0.558085         -0.629734 -0.532682 -1.522356  ...      -0.000859   \n",
       "\n",
       "  pca_genre_792  pca_genre_793  pca_genre_794  pca_genre_795  pca_genre_796  \\\n",
       "0      0.020956      -0.012763       0.016099      -0.013033       0.071684   \n",
       "1           NaN            NaN            NaN            NaN            NaN   \n",
       "2     -0.008057       0.009964       0.006024      -0.013305       0.009614   \n",
       "3     -0.000212       0.002130      -0.014916      -0.015205      -0.000168   \n",
       "4      0.001006      -0.002154       0.003383       0.000224      -0.001266   \n",
       "\n",
       "   pca_genre_797  pca_genre_798  pca_genre_799  \\\n",
       "0       0.053541      -0.013224      -0.023828   \n",
       "1            NaN            NaN            NaN   \n",
       "2       0.005862       0.033953       0.007343   \n",
       "3       0.002519      -0.008507      -0.013943   \n",
       "4       0.001580      -0.003220       0.003751   \n",
       "\n",
       "                    pca_genre_artist_uri  \n",
       "0  spotify:artist:1vSHzGHsVOCrgPSCmKNimP  \n",
       "1                                    NaN  \n",
       "2  spotify:artist:7kxOVclB0zQamtBR0syCrg  \n",
       "3  spotify:artist:2sxmKe3CUrWnx7eoXMhOlW  \n",
       "4  spotify:artist:6PyeXqjH8OMGnt1IOhWgrQ  \n",
       "\n",
       "[5 rows x 836 columns]"
      ]
     },
     "execution_count": 8,
     "metadata": {},
     "output_type": "execute_result"
    }
   ],
   "source": [
    "df_merged.head()"
   ]
  },
  {
   "cell_type": "code",
   "execution_count": 11,
   "metadata": {},
   "outputs": [],
   "source": [
    "df_merged = df_merged.fillna(0)"
   ]
  },
  {
   "cell_type": "code",
   "execution_count": 12,
   "metadata": {},
   "outputs": [],
   "source": [
    "df_merged.to_csv('../data-processed/transformation-matrices/cb_df_merged.csv', index = None)"
   ]
  },
  {
   "cell_type": "code",
   "execution_count": null,
   "metadata": {},
   "outputs": [],
   "source": [
    "X_transformed = df_merged.drop(columns=['artist_uri','album_uri']).to_numpy()"
   ]
  }
 ],
 "metadata": {
  "kernelspec": {
   "display_name": "Python 3",
   "language": "python",
   "name": "python3"
  },
  "language_info": {
   "codemirror_mode": {
    "name": "ipython",
    "version": 3
   },
   "file_extension": ".py",
   "mimetype": "text/x-python",
   "name": "python",
   "nbconvert_exporter": "python",
   "pygments_lexer": "ipython3",
   "version": "3.8.6"
  }
 },
 "nbformat": 4,
 "nbformat_minor": 4
}
