{
 "cells": [
  {
   "cell_type": "code",
   "execution_count": 1,
   "metadata": {},
   "outputs": [],
   "source": [
    "import pandas as pd\n",
    "import os\n",
    "import seaborn as sns\n",
    "import matplotlib.pyplot as plt"
   ]
  },
  {
   "cell_type": "markdown",
   "metadata": {},
   "source": [
    "# Load test set tags"
   ]
  },
  {
   "cell_type": "code",
   "execution_count": 2,
   "metadata": {},
   "outputs": [],
   "source": [
    "tag = pd.read_csv('../data-processed/full-data/pid-track-ratings-train-test-tags.csv')"
   ]
  },
  {
   "cell_type": "code",
   "execution_count": 3,
   "metadata": {},
   "outputs": [
    {
     "data": {
      "text/html": [
       "<div>\n",
       "<style scoped>\n",
       "    .dataframe tbody tr th:only-of-type {\n",
       "        vertical-align: middle;\n",
       "    }\n",
       "\n",
       "    .dataframe tbody tr th {\n",
       "        vertical-align: top;\n",
       "    }\n",
       "\n",
       "    .dataframe thead th {\n",
       "        text-align: right;\n",
       "    }\n",
       "</style>\n",
       "<table border=\"1\" class=\"dataframe\">\n",
       "  <thead>\n",
       "    <tr style=\"text-align: right;\">\n",
       "      <th></th>\n",
       "      <th>pid</th>\n",
       "      <th>pos</th>\n",
       "      <th>track_uri</th>\n",
       "      <th>artist_uri</th>\n",
       "      <th>binary_rating</th>\n",
       "      <th>pos_rating</th>\n",
       "      <th>train_test</th>\n",
       "      <th>test_first_random</th>\n",
       "      <th>seed_tracks_num</th>\n",
       "      <th>num_tracks</th>\n",
       "      <th>hold_out</th>\n",
       "    </tr>\n",
       "  </thead>\n",
       "  <tbody>\n",
       "    <tr>\n",
       "      <th>0</th>\n",
       "      <td>491000</td>\n",
       "      <td>0</td>\n",
       "      <td>spotify:track:3giQ7393501IRNrd8iHugf</td>\n",
       "      <td>spotify:artist:2ptmyXoL7poH6Zq62h1QT9</td>\n",
       "      <td>1</td>\n",
       "      <td>10.000000</td>\n",
       "      <td>train</td>\n",
       "      <td>1</td>\n",
       "      <td>36.0</td>\n",
       "      <td>177</td>\n",
       "      <td>0</td>\n",
       "    </tr>\n",
       "    <tr>\n",
       "      <th>1</th>\n",
       "      <td>491000</td>\n",
       "      <td>1</td>\n",
       "      <td>spotify:track:3jpcVaeyNjWgjqIxAiWasz</td>\n",
       "      <td>spotify:artist:2ptmyXoL7poH6Zq62h1QT9</td>\n",
       "      <td>1</td>\n",
       "      <td>9.949153</td>\n",
       "      <td>train</td>\n",
       "      <td>1</td>\n",
       "      <td>36.0</td>\n",
       "      <td>177</td>\n",
       "      <td>0</td>\n",
       "    </tr>\n",
       "    <tr>\n",
       "      <th>2</th>\n",
       "      <td>491000</td>\n",
       "      <td>2</td>\n",
       "      <td>spotify:track:1uuqRaSJAiQ6VB8BWblXWJ</td>\n",
       "      <td>spotify:artist:2ptmyXoL7poH6Zq62h1QT9</td>\n",
       "      <td>1</td>\n",
       "      <td>9.898305</td>\n",
       "      <td>train</td>\n",
       "      <td>1</td>\n",
       "      <td>36.0</td>\n",
       "      <td>177</td>\n",
       "      <td>0</td>\n",
       "    </tr>\n",
       "    <tr>\n",
       "      <th>3</th>\n",
       "      <td>491000</td>\n",
       "      <td>3</td>\n",
       "      <td>spotify:track:7gXpcXwtmEiQzskYJmtGgk</td>\n",
       "      <td>spotify:artist:2ptmyXoL7poH6Zq62h1QT9</td>\n",
       "      <td>1</td>\n",
       "      <td>9.847458</td>\n",
       "      <td>train</td>\n",
       "      <td>1</td>\n",
       "      <td>36.0</td>\n",
       "      <td>177</td>\n",
       "      <td>0</td>\n",
       "    </tr>\n",
       "    <tr>\n",
       "      <th>4</th>\n",
       "      <td>491000</td>\n",
       "      <td>4</td>\n",
       "      <td>spotify:track:5wtIWwOtowY2howCZ7Veq2</td>\n",
       "      <td>spotify:artist:2ptmyXoL7poH6Zq62h1QT9</td>\n",
       "      <td>1</td>\n",
       "      <td>9.796610</td>\n",
       "      <td>train</td>\n",
       "      <td>1</td>\n",
       "      <td>36.0</td>\n",
       "      <td>177</td>\n",
       "      <td>0</td>\n",
       "    </tr>\n",
       "  </tbody>\n",
       "</table>\n",
       "</div>"
      ],
      "text/plain": [
       "      pid  pos                             track_uri  \\\n",
       "0  491000    0  spotify:track:3giQ7393501IRNrd8iHugf   \n",
       "1  491000    1  spotify:track:3jpcVaeyNjWgjqIxAiWasz   \n",
       "2  491000    2  spotify:track:1uuqRaSJAiQ6VB8BWblXWJ   \n",
       "3  491000    3  spotify:track:7gXpcXwtmEiQzskYJmtGgk   \n",
       "4  491000    4  spotify:track:5wtIWwOtowY2howCZ7Veq2   \n",
       "\n",
       "                              artist_uri  binary_rating  pos_rating  \\\n",
       "0  spotify:artist:2ptmyXoL7poH6Zq62h1QT9              1   10.000000   \n",
       "1  spotify:artist:2ptmyXoL7poH6Zq62h1QT9              1    9.949153   \n",
       "2  spotify:artist:2ptmyXoL7poH6Zq62h1QT9              1    9.898305   \n",
       "3  spotify:artist:2ptmyXoL7poH6Zq62h1QT9              1    9.847458   \n",
       "4  spotify:artist:2ptmyXoL7poH6Zq62h1QT9              1    9.796610   \n",
       "\n",
       "  train_test  test_first_random  seed_tracks_num  num_tracks  hold_out  \n",
       "0      train                  1             36.0         177         0  \n",
       "1      train                  1             36.0         177         0  \n",
       "2      train                  1             36.0         177         0  \n",
       "3      train                  1             36.0         177         0  \n",
       "4      train                  1             36.0         177         0  "
      ]
     },
     "execution_count": 3,
     "metadata": {},
     "output_type": "execute_result"
    }
   ],
   "source": [
    "tag.head()"
   ]
  },
  {
   "cell_type": "code",
   "execution_count": 4,
   "metadata": {},
   "outputs": [],
   "source": [
    "tag =  tag[tag.train_test=='test']"
   ]
  },
  {
   "cell_type": "code",
   "execution_count": 5,
   "metadata": {},
   "outputs": [],
   "source": [
    "tag = tag[['pid','test_first_random']].drop_duplicates()"
   ]
  },
  {
   "cell_type": "code",
   "execution_count": 6,
   "metadata": {},
   "outputs": [],
   "source": [
    "tag = tag.rename(columns = {'test_first_random':'seed_track_order'})"
   ]
  },
  {
   "cell_type": "code",
   "execution_count": 7,
   "metadata": {},
   "outputs": [],
   "source": [
    "tag['seed_track_order'] = tag['seed_track_order'].map({1:'first n', 0:'random n'})"
   ]
  },
  {
   "cell_type": "code",
   "execution_count": 8,
   "metadata": {},
   "outputs": [
    {
     "data": {
      "text/html": [
       "<div>\n",
       "<style scoped>\n",
       "    .dataframe tbody tr th:only-of-type {\n",
       "        vertical-align: middle;\n",
       "    }\n",
       "\n",
       "    .dataframe tbody tr th {\n",
       "        vertical-align: top;\n",
       "    }\n",
       "\n",
       "    .dataframe thead th {\n",
       "        text-align: right;\n",
       "    }\n",
       "</style>\n",
       "<table border=\"1\" class=\"dataframe\">\n",
       "  <thead>\n",
       "    <tr style=\"text-align: right;\">\n",
       "      <th></th>\n",
       "      <th>pid</th>\n",
       "      <th>seed_track_order</th>\n",
       "    </tr>\n",
       "  </thead>\n",
       "  <tbody>\n",
       "    <tr>\n",
       "      <th>46431809</th>\n",
       "      <td>491004</td>\n",
       "      <td>first n</td>\n",
       "    </tr>\n",
       "    <tr>\n",
       "      <th>46431934</th>\n",
       "      <td>491007</td>\n",
       "      <td>first n</td>\n",
       "    </tr>\n",
       "    <tr>\n",
       "      <th>46431964</th>\n",
       "      <td>491021</td>\n",
       "      <td>first n</td>\n",
       "    </tr>\n",
       "    <tr>\n",
       "      <th>46432019</th>\n",
       "      <td>491029</td>\n",
       "      <td>first n</td>\n",
       "    </tr>\n",
       "    <tr>\n",
       "      <th>46432059</th>\n",
       "      <td>491031</td>\n",
       "      <td>first n</td>\n",
       "    </tr>\n",
       "  </tbody>\n",
       "</table>\n",
       "</div>"
      ],
      "text/plain": [
       "             pid seed_track_order\n",
       "46431809  491004          first n\n",
       "46431934  491007          first n\n",
       "46431964  491021          first n\n",
       "46432019  491029          first n\n",
       "46432059  491031          first n"
      ]
     },
     "execution_count": 8,
     "metadata": {},
     "output_type": "execute_result"
    }
   ],
   "source": [
    "tag.head()"
   ]
  },
  {
   "cell_type": "markdown",
   "metadata": {},
   "source": [
    "# Load evaluation results"
   ]
  },
  {
   "cell_type": "code",
   "execution_count": 9,
   "metadata": {},
   "outputs": [],
   "source": [
    "evaluation_res = pd.DataFrame()\n",
    "path_to_jsonfiles = '../evaluation/'\n",
    "for file in os.listdir(path_to_jsonfiles):\n",
    "    df0=pd.read_csv(f'{path_to_jsonfiles}{file}')\n",
    "    evaluation_res = evaluation_res.append(df0)"
   ]
  },
  {
   "cell_type": "code",
   "execution_count": 10,
   "metadata": {},
   "outputs": [
    {
     "data": {
      "text/html": [
       "<div>\n",
       "<style scoped>\n",
       "    .dataframe tbody tr th:only-of-type {\n",
       "        vertical-align: middle;\n",
       "    }\n",
       "\n",
       "    .dataframe tbody tr th {\n",
       "        vertical-align: top;\n",
       "    }\n",
       "\n",
       "    .dataframe thead th {\n",
       "        text-align: right;\n",
       "    }\n",
       "</style>\n",
       "<table border=\"1\" class=\"dataframe\">\n",
       "  <thead>\n",
       "    <tr style=\"text-align: right;\">\n",
       "      <th></th>\n",
       "      <th>pid</th>\n",
       "      <th>R-Precision</th>\n",
       "      <th>nDCG</th>\n",
       "      <th>rating</th>\n",
       "      <th>model</th>\n",
       "    </tr>\n",
       "  </thead>\n",
       "  <tbody>\n",
       "    <tr>\n",
       "      <th>0</th>\n",
       "      <td>28008</td>\n",
       "      <td>0.260870</td>\n",
       "      <td>0.533907</td>\n",
       "      <td>binary</td>\n",
       "      <td>ALS</td>\n",
       "    </tr>\n",
       "    <tr>\n",
       "      <th>1</th>\n",
       "      <td>852629</td>\n",
       "      <td>0.223077</td>\n",
       "      <td>0.754124</td>\n",
       "      <td>binary</td>\n",
       "      <td>ALS</td>\n",
       "    </tr>\n",
       "    <tr>\n",
       "      <th>2</th>\n",
       "      <td>813022</td>\n",
       "      <td>0.000000</td>\n",
       "      <td>0.267618</td>\n",
       "      <td>binary</td>\n",
       "      <td>ALS</td>\n",
       "    </tr>\n",
       "    <tr>\n",
       "      <th>3</th>\n",
       "      <td>740530</td>\n",
       "      <td>0.000000</td>\n",
       "      <td>0.195070</td>\n",
       "      <td>binary</td>\n",
       "      <td>ALS</td>\n",
       "    </tr>\n",
       "    <tr>\n",
       "      <th>4</th>\n",
       "      <td>930048</td>\n",
       "      <td>0.159664</td>\n",
       "      <td>0.710340</td>\n",
       "      <td>binary</td>\n",
       "      <td>ALS</td>\n",
       "    </tr>\n",
       "  </tbody>\n",
       "</table>\n",
       "</div>"
      ],
      "text/plain": [
       "      pid  R-Precision      nDCG  rating model\n",
       "0   28008     0.260870  0.533907  binary   ALS\n",
       "1  852629     0.223077  0.754124  binary   ALS\n",
       "2  813022     0.000000  0.267618  binary   ALS\n",
       "3  740530     0.000000  0.195070  binary   ALS\n",
       "4  930048     0.159664  0.710340  binary   ALS"
      ]
     },
     "execution_count": 10,
     "metadata": {},
     "output_type": "execute_result"
    }
   ],
   "source": [
    "evaluation_res.head()"
   ]
  },
  {
   "cell_type": "code",
   "execution_count": 11,
   "metadata": {},
   "outputs": [
    {
     "data": {
      "text/plain": [
       "(61000, 5)"
      ]
     },
     "execution_count": 11,
     "metadata": {},
     "output_type": "execute_result"
    }
   ],
   "source": [
    "evaluation_res.shape"
   ]
  },
  {
   "cell_type": "markdown",
   "metadata": {},
   "source": [
    "# Group"
   ]
  },
  {
   "cell_type": "code",
   "execution_count": 12,
   "metadata": {},
   "outputs": [
    {
     "data": {
      "text/plain": [
       "array(['ALS', 'CB_audio_features', 'SVD_100', 'SVD_50'], dtype=object)"
      ]
     },
     "execution_count": 12,
     "metadata": {},
     "output_type": "execute_result"
    }
   ],
   "source": [
    "evaluation_res.model.unique()"
   ]
  },
  {
   "cell_type": "code",
   "execution_count": 13,
   "metadata": {},
   "outputs": [],
   "source": [
    "evaluation_res['parent_model'] = evaluation_res['model'].map({\n",
    "    'ALS':'ALS', \n",
    "    'CB_audio_features':'CB', \n",
    "    'SVD_100':'SVD', \n",
    "    'SVD_50':'SVD'})"
   ]
  },
  {
   "cell_type": "code",
   "execution_count": 14,
   "metadata": {},
   "outputs": [
    {
     "data": {
      "text/html": [
       "<div>\n",
       "<style scoped>\n",
       "    .dataframe tbody tr th:only-of-type {\n",
       "        vertical-align: middle;\n",
       "    }\n",
       "\n",
       "    .dataframe tbody tr th {\n",
       "        vertical-align: top;\n",
       "    }\n",
       "\n",
       "    .dataframe thead th {\n",
       "        text-align: right;\n",
       "    }\n",
       "</style>\n",
       "<table border=\"1\" class=\"dataframe\">\n",
       "  <thead>\n",
       "    <tr style=\"text-align: right;\">\n",
       "      <th></th>\n",
       "      <th>pid</th>\n",
       "      <th>R-Precision</th>\n",
       "      <th>nDCG</th>\n",
       "      <th>rating</th>\n",
       "      <th>model</th>\n",
       "      <th>parent_model</th>\n",
       "    </tr>\n",
       "  </thead>\n",
       "  <tbody>\n",
       "    <tr>\n",
       "      <th>0</th>\n",
       "      <td>28008</td>\n",
       "      <td>0.260870</td>\n",
       "      <td>0.533907</td>\n",
       "      <td>binary</td>\n",
       "      <td>ALS</td>\n",
       "      <td>ALS</td>\n",
       "    </tr>\n",
       "    <tr>\n",
       "      <th>1</th>\n",
       "      <td>852629</td>\n",
       "      <td>0.223077</td>\n",
       "      <td>0.754124</td>\n",
       "      <td>binary</td>\n",
       "      <td>ALS</td>\n",
       "      <td>ALS</td>\n",
       "    </tr>\n",
       "    <tr>\n",
       "      <th>2</th>\n",
       "      <td>813022</td>\n",
       "      <td>0.000000</td>\n",
       "      <td>0.267618</td>\n",
       "      <td>binary</td>\n",
       "      <td>ALS</td>\n",
       "      <td>ALS</td>\n",
       "    </tr>\n",
       "    <tr>\n",
       "      <th>3</th>\n",
       "      <td>740530</td>\n",
       "      <td>0.000000</td>\n",
       "      <td>0.195070</td>\n",
       "      <td>binary</td>\n",
       "      <td>ALS</td>\n",
       "      <td>ALS</td>\n",
       "    </tr>\n",
       "    <tr>\n",
       "      <th>4</th>\n",
       "      <td>930048</td>\n",
       "      <td>0.159664</td>\n",
       "      <td>0.710340</td>\n",
       "      <td>binary</td>\n",
       "      <td>ALS</td>\n",
       "      <td>ALS</td>\n",
       "    </tr>\n",
       "  </tbody>\n",
       "</table>\n",
       "</div>"
      ],
      "text/plain": [
       "      pid  R-Precision      nDCG  rating model parent_model\n",
       "0   28008     0.260870  0.533907  binary   ALS          ALS\n",
       "1  852629     0.223077  0.754124  binary   ALS          ALS\n",
       "2  813022     0.000000  0.267618  binary   ALS          ALS\n",
       "3  740530     0.000000  0.195070  binary   ALS          ALS\n",
       "4  930048     0.159664  0.710340  binary   ALS          ALS"
      ]
     },
     "execution_count": 14,
     "metadata": {},
     "output_type": "execute_result"
    }
   ],
   "source": [
    "evaluation_res.head()"
   ]
  },
  {
   "cell_type": "code",
   "execution_count": 15,
   "metadata": {},
   "outputs": [],
   "source": [
    "evaluation_res = evaluation_res.merge(tag, how = 'left', left_on = 'pid', right_on = 'pid')"
   ]
  },
  {
   "cell_type": "code",
   "execution_count": 16,
   "metadata": {},
   "outputs": [
    {
     "data": {
      "text/html": [
       "<div>\n",
       "<style scoped>\n",
       "    .dataframe tbody tr th:only-of-type {\n",
       "        vertical-align: middle;\n",
       "    }\n",
       "\n",
       "    .dataframe tbody tr th {\n",
       "        vertical-align: top;\n",
       "    }\n",
       "\n",
       "    .dataframe thead th {\n",
       "        text-align: right;\n",
       "    }\n",
       "</style>\n",
       "<table border=\"1\" class=\"dataframe\">\n",
       "  <thead>\n",
       "    <tr style=\"text-align: right;\">\n",
       "      <th></th>\n",
       "      <th>pid</th>\n",
       "      <th>R-Precision</th>\n",
       "      <th>nDCG</th>\n",
       "      <th>rating</th>\n",
       "      <th>model</th>\n",
       "      <th>parent_model</th>\n",
       "      <th>seed_track_order</th>\n",
       "    </tr>\n",
       "  </thead>\n",
       "  <tbody>\n",
       "    <tr>\n",
       "      <th>0</th>\n",
       "      <td>28008</td>\n",
       "      <td>0.260870</td>\n",
       "      <td>0.533907</td>\n",
       "      <td>binary</td>\n",
       "      <td>ALS</td>\n",
       "      <td>ALS</td>\n",
       "      <td>first n</td>\n",
       "    </tr>\n",
       "    <tr>\n",
       "      <th>1</th>\n",
       "      <td>852629</td>\n",
       "      <td>0.223077</td>\n",
       "      <td>0.754124</td>\n",
       "      <td>binary</td>\n",
       "      <td>ALS</td>\n",
       "      <td>ALS</td>\n",
       "      <td>random n</td>\n",
       "    </tr>\n",
       "    <tr>\n",
       "      <th>2</th>\n",
       "      <td>813022</td>\n",
       "      <td>0.000000</td>\n",
       "      <td>0.267618</td>\n",
       "      <td>binary</td>\n",
       "      <td>ALS</td>\n",
       "      <td>ALS</td>\n",
       "      <td>first n</td>\n",
       "    </tr>\n",
       "    <tr>\n",
       "      <th>3</th>\n",
       "      <td>740530</td>\n",
       "      <td>0.000000</td>\n",
       "      <td>0.195070</td>\n",
       "      <td>binary</td>\n",
       "      <td>ALS</td>\n",
       "      <td>ALS</td>\n",
       "      <td>random n</td>\n",
       "    </tr>\n",
       "    <tr>\n",
       "      <th>4</th>\n",
       "      <td>930048</td>\n",
       "      <td>0.159664</td>\n",
       "      <td>0.710340</td>\n",
       "      <td>binary</td>\n",
       "      <td>ALS</td>\n",
       "      <td>ALS</td>\n",
       "      <td>first n</td>\n",
       "    </tr>\n",
       "  </tbody>\n",
       "</table>\n",
       "</div>"
      ],
      "text/plain": [
       "      pid  R-Precision      nDCG  rating model parent_model seed_track_order\n",
       "0   28008     0.260870  0.533907  binary   ALS          ALS          first n\n",
       "1  852629     0.223077  0.754124  binary   ALS          ALS         random n\n",
       "2  813022     0.000000  0.267618  binary   ALS          ALS          first n\n",
       "3  740530     0.000000  0.195070  binary   ALS          ALS         random n\n",
       "4  930048     0.159664  0.710340  binary   ALS          ALS          first n"
      ]
     },
     "execution_count": 16,
     "metadata": {},
     "output_type": "execute_result"
    }
   ],
   "source": [
    "evaluation_res.head()"
   ]
  },
  {
   "cell_type": "code",
   "execution_count": 17,
   "metadata": {},
   "outputs": [],
   "source": [
    "summary = evaluation_res.groupby(['parent_model','rating','seed_track_order'])[['R-Precision','nDCG']].mean().reset_index()"
   ]
  },
  {
   "cell_type": "code",
   "execution_count": 18,
   "metadata": {},
   "outputs": [
    {
     "data": {
      "text/html": [
       "<div>\n",
       "<style scoped>\n",
       "    .dataframe tbody tr th:only-of-type {\n",
       "        vertical-align: middle;\n",
       "    }\n",
       "\n",
       "    .dataframe tbody tr th {\n",
       "        vertical-align: top;\n",
       "    }\n",
       "\n",
       "    .dataframe thead th {\n",
       "        text-align: right;\n",
       "    }\n",
       "</style>\n",
       "<table border=\"1\" class=\"dataframe\">\n",
       "  <thead>\n",
       "    <tr style=\"text-align: right;\">\n",
       "      <th></th>\n",
       "      <th>parent_model</th>\n",
       "      <th>rating</th>\n",
       "      <th>seed_track_order</th>\n",
       "      <th>R-Precision</th>\n",
       "      <th>nDCG</th>\n",
       "    </tr>\n",
       "  </thead>\n",
       "  <tbody>\n",
       "    <tr>\n",
       "      <th>0</th>\n",
       "      <td>ALS</td>\n",
       "      <td>binary</td>\n",
       "      <td>first n</td>\n",
       "      <td>0.091315</td>\n",
       "      <td>0.395576</td>\n",
       "    </tr>\n",
       "    <tr>\n",
       "      <th>1</th>\n",
       "      <td>ALS</td>\n",
       "      <td>binary</td>\n",
       "      <td>random n</td>\n",
       "      <td>0.117198</td>\n",
       "      <td>0.438992</td>\n",
       "    </tr>\n",
       "    <tr>\n",
       "      <th>2</th>\n",
       "      <td>ALS</td>\n",
       "      <td>pos</td>\n",
       "      <td>first n</td>\n",
       "      <td>0.099298</td>\n",
       "      <td>0.419267</td>\n",
       "    </tr>\n",
       "    <tr>\n",
       "      <th>3</th>\n",
       "      <td>ALS</td>\n",
       "      <td>pos</td>\n",
       "      <td>random n</td>\n",
       "      <td>0.124589</td>\n",
       "      <td>0.463402</td>\n",
       "    </tr>\n",
       "    <tr>\n",
       "      <th>4</th>\n",
       "      <td>CB</td>\n",
       "      <td>na</td>\n",
       "      <td>first n</td>\n",
       "      <td>0.000000</td>\n",
       "      <td>0.001483</td>\n",
       "    </tr>\n",
       "    <tr>\n",
       "      <th>5</th>\n",
       "      <td>CB</td>\n",
       "      <td>na</td>\n",
       "      <td>random n</td>\n",
       "      <td>0.000000</td>\n",
       "      <td>0.001385</td>\n",
       "    </tr>\n",
       "    <tr>\n",
       "      <th>6</th>\n",
       "      <td>SVD</td>\n",
       "      <td>binary</td>\n",
       "      <td>first n</td>\n",
       "      <td>0.094110</td>\n",
       "      <td>0.392728</td>\n",
       "    </tr>\n",
       "    <tr>\n",
       "      <th>7</th>\n",
       "      <td>SVD</td>\n",
       "      <td>binary</td>\n",
       "      <td>random n</td>\n",
       "      <td>0.121763</td>\n",
       "      <td>0.440598</td>\n",
       "    </tr>\n",
       "    <tr>\n",
       "      <th>8</th>\n",
       "      <td>SVD</td>\n",
       "      <td>pos</td>\n",
       "      <td>first n</td>\n",
       "      <td>0.091168</td>\n",
       "      <td>0.388928</td>\n",
       "    </tr>\n",
       "    <tr>\n",
       "      <th>9</th>\n",
       "      <td>SVD</td>\n",
       "      <td>pos</td>\n",
       "      <td>random n</td>\n",
       "      <td>0.113560</td>\n",
       "      <td>0.428842</td>\n",
       "    </tr>\n",
       "  </tbody>\n",
       "</table>\n",
       "</div>"
      ],
      "text/plain": [
       "  parent_model  rating seed_track_order  R-Precision      nDCG\n",
       "0          ALS  binary          first n     0.091315  0.395576\n",
       "1          ALS  binary         random n     0.117198  0.438992\n",
       "2          ALS     pos          first n     0.099298  0.419267\n",
       "3          ALS     pos         random n     0.124589  0.463402\n",
       "4           CB      na          first n     0.000000  0.001483\n",
       "5           CB      na         random n     0.000000  0.001385\n",
       "6          SVD  binary          first n     0.094110  0.392728\n",
       "7          SVD  binary         random n     0.121763  0.440598\n",
       "8          SVD     pos          first n     0.091168  0.388928\n",
       "9          SVD     pos         random n     0.113560  0.428842"
      ]
     },
     "execution_count": 18,
     "metadata": {},
     "output_type": "execute_result"
    }
   ],
   "source": [
    "summary"
   ]
  },
  {
   "cell_type": "code",
   "execution_count": 31,
   "metadata": {},
   "outputs": [],
   "source": [
    "summary.to_csv('../evaluation/summary.csv', index = None)"
   ]
  },
  {
   "cell_type": "markdown",
   "metadata": {},
   "source": [
    "# Visualise"
   ]
  },
  {
   "cell_type": "code",
   "execution_count": 32,
   "metadata": {},
   "outputs": [],
   "source": [
    "summary = pd.read_csv('../evaluation/summary.csv')"
   ]
  },
  {
   "cell_type": "code",
   "execution_count": 38,
   "metadata": {},
   "outputs": [
    {
     "data": {
      "text/plain": [
       "[Text(0.5, 0, ''), Text(0, 0.5, 'model')]"
      ]
     },
     "execution_count": 38,
     "metadata": {},
     "output_type": "execute_result"
    },
    {
     "data": {
      "image/png": "[encoded data removed]",
      "text/plain": [
       "<Figure size 864x360 with 2 Axes>"
      ]
     },
     "metadata": {
      "needs_background": "light"
     },
     "output_type": "display_data"
    }
   ],
   "source": [
    "fig, ax = plt.subplots(ncols=2, figsize=(12,5))\n",
    "data = summary\n",
    "sns.barplot(data=data, x ='parent_model', y = 'R-Precision', order = ['ALS','SVD','CB'], ax = ax[0]).set_title('R-Precision by model')\n",
    "sns.barplot(data=data, x ='parent_model', y = 'nDCG',  order = ['ALS','SVD','CB'], ax = ax[1]).set_title('nDCG by model')\n",
    "ax[0].set(xlabel='', ylabel='model')\n",
    "ax[1].set(xlabel='', ylabel='model')"
   ]
  },
  {
   "cell_type": "code",
   "execution_count": 39,
   "metadata": {},
   "outputs": [
    {
     "data": {
      "text/plain": [
       "<matplotlib.legend.Legend at 0x1a9f68ad670>"
      ]
     },
     "execution_count": 39,
     "metadata": {},
     "output_type": "execute_result"
    },
    {
     "data": {
      "image/png": "[encoded data removed]",
      "text/plain": [
       "<Figure size 720x288 with 2 Axes>"
      ]
     },
     "metadata": {
      "needs_background": "light"
     },
     "output_type": "display_data"
    }
   ],
   "source": [
    "fig, ax = plt.subplots(ncols=2, figsize=(10,4))\n",
    "\n",
    "data = summary[summary['parent_model']!='CB']\n",
    "hue = 'parent_model'\n",
    "\n",
    "sns.barplot(data=data, x ='seed_track_order', y = 'R-Precision', hue = hue, ax = ax[0]).set_title('R-Precision by model and order of seed tracks')\n",
    "sns.barplot(data=data, x ='seed_track_order', y = 'nDCG', hue = hue, ax = ax[1]).set_title('nDCG by model and order of seed tracks')\n",
    "ax[0].set(xlabel='', ylabel='model')\n",
    "ax[0].set(xlabel='', ylabel='model')\n",
    "ax[1].set(xlabel='', ylabel='model')\n",
    "ax[0].get_legend().remove()\n",
    "ax[1].legend(loc= 'upper left', title = 'seed tracks order', bbox_to_anchor=(1,0.5))"
   ]
  },
  {
   "cell_type": "code",
   "execution_count": 36,
   "metadata": {},
   "outputs": [
    {
     "data": {
      "text/plain": [
       "<matplotlib.legend.Legend at 0x1a9f5061ee0>"
      ]
     },
     "execution_count": 36,
     "metadata": {},
     "output_type": "execute_result"
    },
    {
     "data": {
      "image/png": "[encoded data removed]",
      "text/plain": [
       "<Figure size 720x288 with 2 Axes>"
      ]
     },
     "metadata": {
      "needs_background": "light"
     },
     "output_type": "display_data"
    }
   ],
   "source": [
    "fig, ax = plt.subplots(ncols=2, figsize=(10,4))\n",
    "data = summary[summary['parent_model']!='CB']\n",
    "hue = 'parent_model'\n",
    "\n",
    "sns.barplot(data=data, x ='rating', y = 'R-Precision', hue = hue, ax = ax[0]).set_title('R-Precision by model and rating type')\n",
    "sns.barplot(data=data, x ='rating', y = 'nDCG', hue = hue, ax = ax[1]).set_title('nDCG by model and rating type')\n",
    "ax[0].set(xlabel='', ylabel='model')\n",
    "ax[0].set(xlabel='', ylabel='model')\n",
    "ax[1].set(xlabel='', ylabel='model')\n",
    "ax[0].get_legend().remove()\n",
    "ax[1].legend(loc= 'upper left', title = 'rating type', bbox_to_anchor=(1,0.5))"
   ]
  }
 ],
 "metadata": {
  "kernelspec": {
   "display_name": "Python 3",
   "language": "python",
   "name": "python3"
  },
  "language_info": {
   "codemirror_mode": {
    "name": "ipython",
    "version": 3
   },
   "file_extension": ".py",
   "mimetype": "text/x-python",
   "name": "python",
   "nbconvert_exporter": "python",
   "pygments_lexer": "ipython3",
   "version": "3.8.3"
  }
 },
 "nbformat": 4,
 "nbformat_minor": 4
}
