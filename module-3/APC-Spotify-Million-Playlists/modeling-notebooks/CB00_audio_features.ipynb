{
 "cells": [
  {
   "cell_type": "markdown",
   "metadata": {},
   "source": [
    "# Conten Based filtering using audio features, album_uri and artist_uri"
   ]
  },
  {
   "cell_type": "markdown",
   "metadata": {},
   "source": [
    "This method uses only information about the description and attributes of the items users has previously consumed to model user's preferences. In other words, these algorithms try to recommend items that are similar to those that a user liked in the past (or is examining in the present). In particular, various candidate items are compared with items previously rated by the user and the best-matching items are recommended."
   ]
  },
  {
   "cell_type": "code",
   "execution_count": 1,
   "metadata": {},
   "outputs": [],
   "source": [
    "import import_ipynb"
   ]
  },
  {
   "cell_type": "code",
   "execution_count": 2,
   "metadata": {},
   "outputs": [
    {
     "name": "stdout",
     "output_type": "stream",
     "text": [
      "importing Jupyter notebook from evaluation.ipynb\n",
      "DCG = 0.5\n",
      "IDCG = 1.0\n",
      "nDCG = 0.5\n"
     ]
    }
   ],
   "source": [
    "import json\n",
    "import pandas as pd\n",
    "import matplotlib.pyplot as plt\n",
    "import seaborn as sns\n",
    "import numpy as np\n",
    "import random\n",
    "import scipy.sparse as sps\n",
    "\n",
    "from sklearn.preprocessing import normalize\n",
    "from sklearn.preprocessing import StandardScaler\n",
    "from sklearn.decomposition import PCA\n",
    "from sklearn.metrics.pairwise import cosine_similarity\n",
    "from sklearn.metrics.pairwise import linear_kernel\n",
    "from category_encoders import TargetEncoder\n",
    "from time import time\n",
    "import operator\n",
    "\n",
    "import warnings\n",
    "warnings.simplefilter(action='ignore', category=FutureWarning)\n",
    "\n",
    "#own functions\n",
    "from evaluation import DCG\n",
    "from evaluation import nDCG\n",
    "from evaluation import R_Precision\n",
    "from itertools import islice\n",
    "\n",
    "%matplotlib inline"
   ]
  },
  {
   "cell_type": "markdown",
   "metadata": {},
   "source": [
    "# Define function to look up similar items "
   ]
  },
  {
   "cell_type": "code",
   "execution_count": 3,
   "metadata": {},
   "outputs": [],
   "source": [
    "#---------------------\n",
    "# FIND SIMILAR ITEMS\n",
    "#---------------------\n",
    "\n",
    "def similar_items(track_uri, top_n, similarity_matrix):\n",
    "    \"\"\"\n",
    "    input: \n",
    "        track_uri\n",
    "        top_n - top_n similar tracks to find\n",
    "        similarity_matrix - similarity matrix between tracks\n",
    "    output: \n",
    "        top_n recommended track_uris\n",
    "    \"\"\"\n",
    "    D_rec={}\n",
    "    idx = D_track_uri_to_id[track_uri]\n",
    "    similarity_array = cosine_similarity(similarity_matrix[idx:idx+1,:], similarity_matrix)\n",
    "    recc_tracks = np.fliplr(similarity_array.argsort())\n",
    "    for el in recc_tracks[0][1:top_n+1]:\n",
    "        D_rec[D_track_id_to_uri[el]]=similarity_array[0][el]\n",
    "    return D_rec"
   ]
  },
  {
   "cell_type": "code",
   "execution_count": 4,
   "metadata": {},
   "outputs": [],
   "source": [
    "#-------------------------------------\n",
    "# FIND SIMILAR ITEMS WITH DESCRIPTION\n",
    "#-------------------------------------\n",
    "\n",
    "def similar_items_with_description(track_uri, top_n, similarity_matrix):\n",
    "    \"\"\"\n",
    "    input: \n",
    "        track_uri\n",
    "        top_n - top_n similar tracks to find\n",
    "        similarity_matrix - similarity matrix between tracks\n",
    "    output: \n",
    "        top_n recommended track_uris\n",
    "    \"\"\"\n",
    "    print('CB audio features - first tracks returned is the seed track')\n",
    "    D_rec={}\n",
    "    time0 = time()\n",
    "    idx = D_track_uri_to_id[track_uri]\n",
    "    similarity_array = cosine_similarity(similarity_matrix[idx:idx+1,:], similarity_matrix)\n",
    "    recc_tracks = np.fliplr(similarity_array.argsort())\n",
    "    for el in recc_tracks[0][0:top_n+1]:\n",
    "        D_rec[D_track_id_to_uri[el]]=D_desc[D_track_id_to_uri[el]]\n",
    "    print(f'{time()-time0:0.2f}sec')\n",
    "    return list(D_rec.values())"
   ]
  },
  {
   "cell_type": "code",
   "execution_count": 5,
   "metadata": {},
   "outputs": [],
   "source": [
    "def similar_items_with_description_external(track_uri, top_n):\n",
    "    print('CB audio features - first tracks returned is the seed track')\n",
    "    D_rec={}\n",
    "    time0 = time()\n",
    "    idx = D_track_uri_to_id[track_uri]\n",
    "    similarity_array = cosine_similarity(X_transformed[idx:idx+1,:], X_transformed)\n",
    "    recc_tracks = np.fliplr(similarity_array.argsort())\n",
    "    for el in recc_tracks[0][0:top_n+1]:\n",
    "        D_rec[D_track_id_to_uri[el]]=D_desc[D_track_id_to_uri[el]]\n",
    "    print(f'{time()-time0:0.2f}sec')\n",
    "    return list(D_rec.values())"
   ]
  },
  {
   "cell_type": "code",
   "execution_count": 6,
   "metadata": {},
   "outputs": [],
   "source": [
    "#----------------------------------------------------------------------\n",
    "# PREDICT TOP_N TRACKS FOR A PID AND EVALUATE AGAINST THE GROUND TRUTH\n",
    "#----------------------------------------------------------------------\n",
    "\n",
    "def predict_and_evaluate_top_n(pid,top_n):\n",
    "    \"\"\"\n",
    "    input: \n",
    "        pid\n",
    "        top_n - top_n similar tracks to find\n",
    "    return\n",
    "        top_n predicted track_ids\n",
    "        ground_truth : track_ids in the hold_out\n",
    "        R_Prec\n",
    "    \"\"\"\n",
    "    train_array_track_ids = track_id_array[M[pid].toarray()[0].astype(bool)]\n",
    "    \n",
    "    D_pred={}\n",
    "    \n",
    "    topn_n_by_track = (int(top_n/len(train_array_track_ids))+1)*2\n",
    "    \n",
    "    for el in train_array_track_ids:\n",
    "        D_pred.update(similar_items(D_track_id_to_uri[el],topn_n_by_track,X_transformed))\n",
    "    \n",
    "    D_pred = dict(sorted(D_pred.items(), key=operator.itemgetter(1),reverse=True))\n",
    "    ground_truth = ev_set_arr[ev_set_arr[:,0]==pid][:,2]\n",
    "    L_pred = list(D_pred.keys())[:top_n]\n",
    "    R_Prec = R_Precision(L_pred[:len(ground_truth)],ground_truth)\n",
    "    res = [int(el in list(ground_truth)) for el in L_pred]\n",
    "    NDCG = nDCG(res)[1]\n",
    "    return L_pred, ground_truth, R_Prec, NDCG, res"
   ]
  },
  {
   "cell_type": "code",
   "execution_count": 7,
   "metadata": {},
   "outputs": [],
   "source": [
    "#----------------------------------------------------------------------\n",
    "# PREDICT TOP_N TRACKS WITH DESCRIPTION FOR A PID\n",
    "#----------------------------------------------------------------------\n",
    "\n",
    "def create_pid_recs_with_description(pid,top_n):\n",
    "    \"\"\"\n",
    "    return\n",
    "        top_n predicted track_ids with description\n",
    "    \"\"\"\n",
    "    print(f'Recommendations for {pid}')\n",
    "    train_array_track_ids = track_id_array[M[pid].toarray()[0].astype(bool)]\n",
    "    \n",
    "    D_pred = {}\n",
    "    L_pred = []\n",
    "    topn_n_by_track = (int(top_n/len(train_array_track_ids))+1)*2\n",
    "    for el in train_array_track_ids:\n",
    "        D_pred.update(similar_items(D_track_id_to_uri[el],topn_n_by_track,X_transformed))\n",
    "    \n",
    "    D_pred = dict(sorted(D_pred.items(), key=operator.itemgetter(1),reverse=True))\n",
    "    \n",
    "    L_pred_k = list(D_pred.keys())[0:top_n]\n",
    "    \n",
    "    \n",
    "    for k in L_pred_k:\n",
    "         L_pred.append(D_desc[k])\n",
    "\n",
    "    return L_pred"
   ]
  },
  {
   "cell_type": "code",
   "execution_count": 8,
   "metadata": {},
   "outputs": [],
   "source": [
    "#------------------------------------------------------------------------\n",
    "# SEARCH FOR AN ARTIST OR TRACK BASED ON THE NAME OF AN ARTIST OR TRACKS\n",
    "#------------------------------------------------------------------------\n",
    "\n",
    "def search_track_artist(name, entity):\n",
    "    \"\"\"\n",
    "    input:\n",
    "        name of an artist or track\n",
    "        entity - 'track' or 'artist'\n",
    "    return:\n",
    "        track_uri for a given artist name or a track name\n",
    "    \"\"\"\n",
    "    \n",
    "    S = []\n",
    "    if entity == 'track':\n",
    "        for k, v in D_desc.items():\n",
    "            if v[0].lower().find(name.lower()) !=-1:\n",
    "                S.append([k, v])\n",
    "    if entity == 'artist':\n",
    "        for k, v in D_desc.items():\n",
    "            if v[1].lower().find(name.lower()) !=-1:\n",
    "                S.append([k, v])     \n",
    "    return S"
   ]
  },
  {
   "cell_type": "markdown",
   "metadata": {},
   "source": [
    "# Load data"
   ]
  },
  {
   "cell_type": "code",
   "execution_count": 9,
   "metadata": {},
   "outputs": [
    {
     "data": {
      "text/plain": [
       "['Lose Control (feat. Ciara & Fat Man Scoop)', 'Missy Elliott', 'The Cookbook']"
      ]
     },
     "execution_count": 9,
     "metadata": {},
     "output_type": "execute_result"
    }
   ],
   "source": [
    "with open('../data-processed/full-data/track_descriptions.json') as json_file:\n",
    "    D_desc = json.load(json_file)\n",
    "    \n",
    "D_desc['spotify:track:0UaMYEvWZi0ZqiDOoHU3YI']"
   ]
  },
  {
   "cell_type": "code",
   "execution_count": 10,
   "metadata": {},
   "outputs": [
    {
     "data": {
      "text/plain": [
       "['spotify:artist:2wIVse2owClT7go1WT98tk',\n",
       " 'spotify:album:6vV5UrXcfyQD1wu4Qo2I9K']"
      ]
     },
     "execution_count": 10,
     "metadata": {},
     "output_type": "execute_result"
    }
   ],
   "source": [
    "with open('../data-processed/full-data/track_artist_album.json') as json_file:\n",
    "    D_album_artist = json.load(json_file)\n",
    "    \n",
    "D_album_artist['spotify:track:0UaMYEvWZi0ZqiDOoHU3YI']"
   ]
  },
  {
   "cell_type": "code",
   "execution_count": 11,
   "metadata": {},
   "outputs": [],
   "source": [
    "path = '../data-processed/full-data/audio-features-combined.csv'\n",
    "data = pd.read_csv(path)"
   ]
  },
  {
   "cell_type": "code",
   "execution_count": 12,
   "metadata": {},
   "outputs": [],
   "source": [
    "data = data.reset_index()\n",
    "data = data.rename(columns = {'index':'track_id'})\n",
    "data['artist_uri'] = data.apply(lambda x:D_album_artist[x.uri][0], axis = 1)\n",
    "data['album_uri'] = data.apply(lambda x:D_album_artist[x.uri][1], axis = 1)"
   ]
  },
  {
   "cell_type": "code",
   "execution_count": 13,
   "metadata": {},
   "outputs": [],
   "source": [
    "# data.head()"
   ]
  },
  {
   "cell_type": "code",
   "execution_count": 14,
   "metadata": {},
   "outputs": [],
   "source": [
    "D_track_uri_to_id = data.groupby('uri')['track_id'].min().to_dict()\n",
    "D_track_id_to_uri = data.groupby('track_id')['uri'].min().to_dict()"
   ]
  },
  {
   "cell_type": "code",
   "execution_count": 15,
   "metadata": {},
   "outputs": [
    {
     "data": {
      "text/plain": [
       "(2262190, 2262190)"
      ]
     },
     "execution_count": 15,
     "metadata": {},
     "output_type": "execute_result"
    }
   ],
   "source": [
    "len(D_track_uri_to_id), len(D_track_id_to_uri)"
   ]
  },
  {
   "cell_type": "code",
   "execution_count": 16,
   "metadata": {},
   "outputs": [
    {
     "data": {
      "text/html": [
       "<div>\n",
       "<style scoped>\n",
       "    .dataframe tbody tr th:only-of-type {\n",
       "        vertical-align: middle;\n",
       "    }\n",
       "\n",
       "    .dataframe tbody tr th {\n",
       "        vertical-align: top;\n",
       "    }\n",
       "\n",
       "    .dataframe thead th {\n",
       "        text-align: right;\n",
       "    }\n",
       "</style>\n",
       "<table border=\"1\" class=\"dataframe\">\n",
       "  <thead>\n",
       "    <tr style=\"text-align: right;\">\n",
       "      <th></th>\n",
       "      <th>track_id</th>\n",
       "      <th>uri</th>\n",
       "      <th>danceability</th>\n",
       "      <th>energy</th>\n",
       "      <th>key</th>\n",
       "      <th>loudness</th>\n",
       "      <th>mode</th>\n",
       "      <th>speechiness</th>\n",
       "      <th>acousticness</th>\n",
       "      <th>instrumentalness</th>\n",
       "      <th>liveness</th>\n",
       "      <th>valence</th>\n",
       "      <th>tempo</th>\n",
       "      <th>duration_ms</th>\n",
       "      <th>time_signature</th>\n",
       "      <th>artist_uri</th>\n",
       "      <th>album_uri</th>\n",
       "    </tr>\n",
       "  </thead>\n",
       "  <tbody>\n",
       "    <tr>\n",
       "      <th>0</th>\n",
       "      <td>0</td>\n",
       "      <td>spotify:track:5OSaZxhNj307YpTh7Qp8Xy</td>\n",
       "      <td>0.716</td>\n",
       "      <td>0.421</td>\n",
       "      <td>7</td>\n",
       "      <td>-11.560</td>\n",
       "      <td>0</td>\n",
       "      <td>0.0275</td>\n",
       "      <td>0.649000</td>\n",
       "      <td>0.002070</td>\n",
       "      <td>0.0936</td>\n",
       "      <td>0.2070</td>\n",
       "      <td>99.078</td>\n",
       "      <td>378440</td>\n",
       "      <td>4</td>\n",
       "      <td>spotify:artist:1vSHzGHsVOCrgPSCmKNimP</td>\n",
       "      <td>spotify:album:0oA1WetYmmrxkyjxz92yJg</td>\n",
       "    </tr>\n",
       "    <tr>\n",
       "      <th>1</th>\n",
       "      <td>1</td>\n",
       "      <td>spotify:track:4zytmsfZ7HtdXj3VLECcu2</td>\n",
       "      <td>0.141</td>\n",
       "      <td>0.441</td>\n",
       "      <td>5</td>\n",
       "      <td>-12.893</td>\n",
       "      <td>1</td>\n",
       "      <td>0.0892</td>\n",
       "      <td>0.700000</td>\n",
       "      <td>0.687000</td>\n",
       "      <td>0.1280</td>\n",
       "      <td>0.0725</td>\n",
       "      <td>76.044</td>\n",
       "      <td>331000</td>\n",
       "      <td>4</td>\n",
       "      <td>spotify:artist:6gHYtzSvIIWvoUY2q2V3Rj</td>\n",
       "      <td>spotify:album:3c1gpGKfahKOFXtM7eIcFO</td>\n",
       "    </tr>\n",
       "    <tr>\n",
       "      <th>2</th>\n",
       "      <td>2</td>\n",
       "      <td>spotify:track:6lOWUS7iBVEw6ieJqxH17B</td>\n",
       "      <td>0.799</td>\n",
       "      <td>0.893</td>\n",
       "      <td>8</td>\n",
       "      <td>-5.496</td>\n",
       "      <td>1</td>\n",
       "      <td>0.0635</td>\n",
       "      <td>0.000018</td>\n",
       "      <td>0.914000</td>\n",
       "      <td>0.3620</td>\n",
       "      <td>0.5290</td>\n",
       "      <td>128.009</td>\n",
       "      <td>469397</td>\n",
       "      <td>4</td>\n",
       "      <td>spotify:artist:7kxOVclB0zQamtBR0syCrg</td>\n",
       "      <td>spotify:album:0mX83KZvGWqBOvI4nIZ23H</td>\n",
       "    </tr>\n",
       "    <tr>\n",
       "      <th>3</th>\n",
       "      <td>3</td>\n",
       "      <td>spotify:track:3OSL6hJ9DoRGwr9OSEVrRS</td>\n",
       "      <td>0.789</td>\n",
       "      <td>0.548</td>\n",
       "      <td>4</td>\n",
       "      <td>-7.167</td>\n",
       "      <td>1</td>\n",
       "      <td>0.0418</td>\n",
       "      <td>0.707000</td>\n",
       "      <td>0.000934</td>\n",
       "      <td>0.0616</td>\n",
       "      <td>0.5930</td>\n",
       "      <td>117.713</td>\n",
       "      <td>153893</td>\n",
       "      <td>4</td>\n",
       "      <td>spotify:artist:2sxmKe3CUrWnx7eoXMhOlW</td>\n",
       "      <td>spotify:album:4hXCM8vqLJnlFcuHoH3zVP</td>\n",
       "    </tr>\n",
       "    <tr>\n",
       "      <th>4</th>\n",
       "      <td>4</td>\n",
       "      <td>spotify:track:6x0bgGOKckFsesVf7yPWJq</td>\n",
       "      <td>0.728</td>\n",
       "      <td>0.670</td>\n",
       "      <td>3</td>\n",
       "      <td>-7.912</td>\n",
       "      <td>0</td>\n",
       "      <td>0.1020</td>\n",
       "      <td>0.157000</td>\n",
       "      <td>0.000797</td>\n",
       "      <td>0.1080</td>\n",
       "      <td>0.0647</td>\n",
       "      <td>119.963</td>\n",
       "      <td>196000</td>\n",
       "      <td>4</td>\n",
       "      <td>spotify:artist:6PyeXqjH8OMGnt1IOhWgrQ</td>\n",
       "      <td>spotify:album:1pjNAADvPDurRS42fqxN4k</td>\n",
       "    </tr>\n",
       "  </tbody>\n",
       "</table>\n",
       "</div>"
      ],
      "text/plain": [
       "   track_id                                   uri  danceability  energy  key  \\\n",
       "0         0  spotify:track:5OSaZxhNj307YpTh7Qp8Xy         0.716   0.421    7   \n",
       "1         1  spotify:track:4zytmsfZ7HtdXj3VLECcu2         0.141   0.441    5   \n",
       "2         2  spotify:track:6lOWUS7iBVEw6ieJqxH17B         0.799   0.893    8   \n",
       "3         3  spotify:track:3OSL6hJ9DoRGwr9OSEVrRS         0.789   0.548    4   \n",
       "4         4  spotify:track:6x0bgGOKckFsesVf7yPWJq         0.728   0.670    3   \n",
       "\n",
       "   loudness  mode  speechiness  acousticness  instrumentalness  liveness  \\\n",
       "0   -11.560     0       0.0275      0.649000          0.002070    0.0936   \n",
       "1   -12.893     1       0.0892      0.700000          0.687000    0.1280   \n",
       "2    -5.496     1       0.0635      0.000018          0.914000    0.3620   \n",
       "3    -7.167     1       0.0418      0.707000          0.000934    0.0616   \n",
       "4    -7.912     0       0.1020      0.157000          0.000797    0.1080   \n",
       "\n",
       "   valence    tempo  duration_ms  time_signature  \\\n",
       "0   0.2070   99.078       378440               4   \n",
       "1   0.0725   76.044       331000               4   \n",
       "2   0.5290  128.009       469397               4   \n",
       "3   0.5930  117.713       153893               4   \n",
       "4   0.0647  119.963       196000               4   \n",
       "\n",
       "                              artist_uri                             album_uri  \n",
       "0  spotify:artist:1vSHzGHsVOCrgPSCmKNimP  spotify:album:0oA1WetYmmrxkyjxz92yJg  \n",
       "1  spotify:artist:6gHYtzSvIIWvoUY2q2V3Rj  spotify:album:3c1gpGKfahKOFXtM7eIcFO  \n",
       "2  spotify:artist:7kxOVclB0zQamtBR0syCrg  spotify:album:0mX83KZvGWqBOvI4nIZ23H  \n",
       "3  spotify:artist:2sxmKe3CUrWnx7eoXMhOlW  spotify:album:4hXCM8vqLJnlFcuHoH3zVP  \n",
       "4  spotify:artist:6PyeXqjH8OMGnt1IOhWgrQ  spotify:album:1pjNAADvPDurRS42fqxN4k  "
      ]
     },
     "execution_count": 16,
     "metadata": {},
     "output_type": "execute_result"
    }
   ],
   "source": [
    "data.head()"
   ]
  },
  {
   "cell_type": "markdown",
   "metadata": {},
   "source": [
    "# Plot data"
   ]
  },
  {
   "cell_type": "code",
   "execution_count": 17,
   "metadata": {},
   "outputs": [
    {
     "data": {
      "image/png": "[encoded data removed]",
      "text/plain": [
       "<Figure size 1008x648 with 16 Axes>"
      ]
     },
     "metadata": {
      "needs_background": "light"
     },
     "output_type": "display_data"
    }
   ],
   "source": [
    "data.iloc[:,1:-1].hist(figsize=(14,9))\n",
    "\n",
    "plt.show()"
   ]
  },
  {
   "cell_type": "code",
   "execution_count": 18,
   "metadata": {},
   "outputs": [
    {
     "data": {
      "image/png": "[encoded data removed]",
      "text/plain": [
       "<Figure size 1008x648 with 12 Axes>"
      ]
     },
     "metadata": {
      "needs_background": "light"
     },
     "output_type": "display_data"
    }
   ],
   "source": [
    "fig, ax = plt.subplots(ncols=4, nrows=3, figsize=(14,9))\n",
    "\n",
    "column = data.columns[2:14]\n",
    "\n",
    "for i in range(3):\n",
    "    for j in range(4):\n",
    "        sns.boxplot(data=data[column[i*4+j]], palette=\"Set1\", ax=ax[i,j]).set_title(column[i*4+j])"
   ]
  },
  {
   "cell_type": "markdown",
   "metadata": {},
   "source": [
    "# Standardize data "
   ]
  },
  {
   "cell_type": "code",
   "execution_count": 19,
   "metadata": {},
   "outputs": [
    {
     "data": {
      "text/plain": [
       "Index(['danceability', 'energy', 'key', 'loudness', 'mode', 'speechiness',\n",
       "       'acousticness', 'instrumentalness', 'liveness', 'valence', 'tempo'],\n",
       "      dtype='object')"
      ]
     },
     "execution_count": 19,
     "metadata": {},
     "output_type": "execute_result"
    }
   ],
   "source": [
    "X = data.iloc[:,2:13]\n",
    "\n",
    "data.iloc[:,2:13].columns"
   ]
  },
  {
   "cell_type": "code",
   "execution_count": 20,
   "metadata": {},
   "outputs": [],
   "source": [
    "scaler = StandardScaler()\n",
    "transformer = scaler.fit(X)\n",
    "X_transformed = transformer.transform(X)"
   ]
  },
  {
   "cell_type": "code",
   "execution_count": 21,
   "metadata": {},
   "outputs": [],
   "source": [
    "# uncomment\n",
    "# pd.DataFrame(X_transformed).hist(figsize=(14,9))\n",
    "# plt.show()"
   ]
  },
  {
   "cell_type": "markdown",
   "metadata": {},
   "source": [
    "# Target encode album_uri and artist_uri"
   ]
  },
  {
   "cell_type": "code",
   "execution_count": 22,
   "metadata": {},
   "outputs": [
    {
     "data": {
      "text/plain": [
       "(2262190, 11)"
      ]
     },
     "execution_count": 22,
     "metadata": {},
     "output_type": "execute_result"
    }
   ],
   "source": [
    "X_transformed.shape\n",
    "\n",
    "df_X_transformed = pd.DataFrame(X_transformed, columns=data.iloc[:,2:13].columns)\n",
    "# df_X_transformed.head()\n",
    "\n",
    "df_X_transformed.shape"
   ]
  },
  {
   "cell_type": "code",
   "execution_count": 23,
   "metadata": {},
   "outputs": [
    {
     "data": {
      "text/plain": [
       "Index(['danceability', 'energy', 'key', 'loudness', 'mode', 'speechiness',\n",
       "       'acousticness', 'instrumentalness', 'liveness', 'valence', 'tempo'],\n",
       "      dtype='object')"
      ]
     },
     "execution_count": 23,
     "metadata": {},
     "output_type": "execute_result"
    }
   ],
   "source": [
    "df_X_transformed.columns"
   ]
  },
  {
   "cell_type": "markdown",
   "metadata": {},
   "source": [
    "# Encode album_uri"
   ]
  },
  {
   "cell_type": "code",
   "execution_count": 24,
   "metadata": {},
   "outputs": [],
   "source": [
    "cols = ['danceability', 'energy', 'key', 'loudness', 'mode', 'speechiness',\n",
    "       'acousticness', 'instrumentalness', 'liveness', 'valence', 'tempo']\n",
    "\n",
    "df_X_transformed['album_uri'] = data.album_uri\n",
    "X = data['album_uri'].values.reshape(-1,1)"
   ]
  },
  {
   "cell_type": "code",
   "execution_count": 25,
   "metadata": {},
   "outputs": [],
   "source": [
    "enc = TargetEncoder()\n",
    "for col in cols:\n",
    "    y = df_X_transformed[col].values.reshape(-1,1)  \n",
    "    df_X_transformed[f'album_uri_{col}_enc'] = enc.fit_transform(X, y)"
   ]
  },
  {
   "cell_type": "code",
   "execution_count": 26,
   "metadata": {},
   "outputs": [],
   "source": [
    "# df_X_transformed.head()"
   ]
  },
  {
   "cell_type": "markdown",
   "metadata": {},
   "source": [
    "# Encode artist_uri"
   ]
  },
  {
   "cell_type": "code",
   "execution_count": 27,
   "metadata": {},
   "outputs": [],
   "source": [
    "cols = ['danceability', 'energy', 'key', 'loudness', 'mode', 'speechiness',\n",
    "       'acousticness', 'instrumentalness', 'liveness', 'valence', 'tempo']\n",
    "\n",
    "df_X_transformed['artist_uri'] = data.artist_uri\n",
    "X = data['artist_uri'].values.reshape(-1,1)"
   ]
  },
  {
   "cell_type": "code",
   "execution_count": 28,
   "metadata": {},
   "outputs": [],
   "source": [
    "enc = TargetEncoder()\n",
    "for col in cols:\n",
    "    y = df_X_transformed[col].values.reshape(-1,1) \n",
    "    df_X_transformed[f'artist_uri_{col}_enc'] = enc.fit_transform(X, y)"
   ]
  },
  {
   "cell_type": "code",
   "execution_count": 29,
   "metadata": {},
   "outputs": [],
   "source": [
    "# df_X_transformed.head()"
   ]
  },
  {
   "cell_type": "code",
   "execution_count": 30,
   "metadata": {},
   "outputs": [],
   "source": [
    "X_transformed = df_X_transformed.drop(columns=['artist_uri','album_uri']).to_numpy()"
   ]
  },
  {
   "cell_type": "markdown",
   "metadata": {},
   "source": [
    "# Perform PCA - recommendations can be done using dimensionality reduction on using all features by passing  X_transformed or X_transformed_pca"
   ]
  },
  {
   "cell_type": "code",
   "execution_count": 31,
   "metadata": {},
   "outputs": [],
   "source": [
    "X_transformed.shape\n",
    "\n",
    "pca = PCA(n_components='mle')\n",
    "pca = pca.fit(X_transformed)"
   ]
  },
  {
   "cell_type": "code",
   "execution_count": 32,
   "metadata": {},
   "outputs": [],
   "source": [
    "# print(pca.explained_variance_ratio_)"
   ]
  },
  {
   "cell_type": "code",
   "execution_count": 33,
   "metadata": {},
   "outputs": [],
   "source": [
    "X_transformed_pca = pca.transform(X_transformed)"
   ]
  },
  {
   "cell_type": "markdown",
   "metadata": {},
   "source": [
    "> Let us run PCA with 15 factors"
   ]
  },
  {
   "cell_type": "code",
   "execution_count": 34,
   "metadata": {},
   "outputs": [
    {
     "name": "stdout",
     "output_type": "stream",
     "text": [
      "[0.31535805 0.11036058 0.09556642 0.0776244  0.056072   0.05212492\n",
      " 0.04761578 0.04211778 0.02992701 0.02492938 0.02194851 0.01280628\n",
      " 0.01257943 0.01206745 0.01069731]\n",
      "Explained variance = 0.92\n"
     ]
    }
   ],
   "source": [
    "pca = PCA(n_components=15)\n",
    "pca = pca.fit(X_transformed)\n",
    "print(pca.explained_variance_ratio_)\n",
    "\n",
    "print(f'Explained variance = {np.sum(pca.explained_variance_ratio_):0.2f}')"
   ]
  },
  {
   "cell_type": "code",
   "execution_count": 35,
   "metadata": {},
   "outputs": [],
   "source": [
    "X_transformed_pca = pca.transform(X_transformed)"
   ]
  },
  {
   "cell_type": "markdown",
   "metadata": {},
   "source": [
    "# Load evaluation set"
   ]
  },
  {
   "cell_type": "code",
   "execution_count": 36,
   "metadata": {},
   "outputs": [],
   "source": [
    "file_path = '../data-processed/full-data/pid-track-pos-rating-train-data.csv'\n",
    "data2 = pd.read_csv(file_path)"
   ]
  },
  {
   "cell_type": "code",
   "execution_count": 37,
   "metadata": {},
   "outputs": [],
   "source": [
    "tracks = list(data2.track_uri.unique())\n",
    "D_tracks = {}\n",
    "n=0\n",
    "for track in tracks:\n",
    "    D_tracks[track] = n\n",
    "    n+=1\n",
    "    \n",
    "D_tracks_reverse = {}\n",
    "n=0\n",
    "for k,i in D_tracks.items():\n",
    "    D_tracks_reverse[i] = k\n",
    "    \n",
    "data2['track_id'] = data2.track_uri.map(D_tracks)"
   ]
  },
  {
   "cell_type": "code",
   "execution_count": 38,
   "metadata": {},
   "outputs": [],
   "source": [
    "evaluation_set = pd.read_csv('../data-processed/full-data/evaluation-pids-ground-truth.csv')\n",
    "evaluation_set['track_id'] = evaluation_set['track_uri'].map(D_tracks)\n",
    "ev_set = evaluation_set[evaluation_set['hold_out'] == 1][['pid','track_id','track_uri','hold_out']]\n",
    "ev_set = ev_set[ev_set.track_id.isnull()==False]\n",
    "evaluation_pids = list(ev_set.pid.unique())\n",
    "ev_set.track_id = ev_set.track_id.astype(int)\n",
    "ev_set_arr = ev_set.to_numpy()"
   ]
  },
  {
   "cell_type": "code",
   "execution_count": 39,
   "metadata": {},
   "outputs": [],
   "source": [
    "M = sps.csr_matrix((data2.pos_rating, (data2.pid, data2.track_id)))\n",
    "track_id_array = np.arange(M.shape[1])"
   ]
  },
  {
   "cell_type": "markdown",
   "metadata": {},
   "source": [
    "# `~~~~~~~~~~~~~~~~~~~~~~~~~~~ DEMO TIME~~~~~~~~~~~~~~~~~~~~~~~~~~~`"
   ]
  },
  {
   "cell_type": "markdown",
   "metadata": {},
   "source": [
    "<img src=\"tenor.gif\">"
   ]
  },
  {
   "cell_type": "markdown",
   "metadata": {},
   "source": [
    "# Search for tracks or artists"
   ]
  },
  {
   "cell_type": "code",
   "execution_count": 40,
   "metadata": {},
   "outputs": [
    {
     "data": {
      "text/plain": [
       "[['spotify:track:1Je1IMUlBXcx1Fz0WE7oPT',\n",
       "  ['Wannabe - Radio Edit', 'Spice Girls', 'Spice']],\n",
       " ['spotify:track:1yTQ39my3MoNROlFw3RDNy',\n",
       "  [\"Say You'll Be There - Single Mix\", 'Spice Girls', 'Spice']],\n",
       " ['spotify:track:1RQnYh2xw2BPpnzQFbO5r5',\n",
       "  ['Too Much', 'Spice Girls', 'Spiceworld']],\n",
       " ['spotify:track:5qGwqO0lkbBXw4xNfzT7SF',\n",
       "  ['Spice Up Your Life', 'Spice Girls', 'Spiceworld']],\n",
       " ['spotify:track:3FteycP8CaXS1MhjcXekVT',\n",
       "  ['Stop', 'Spice Girls', 'Spiceworld']]]"
      ]
     },
     "execution_count": 40,
     "metadata": {},
     "output_type": "execute_result"
    }
   ],
   "source": [
    "track_or_artist = 'spice girls'\n",
    "entity = 'artist'\n",
    "results_to_print = 5\n",
    "search_track_artist(track_or_artist, entity)[0:results_to_print]"
   ]
  },
  {
   "cell_type": "markdown",
   "metadata": {},
   "source": [
    "# Find similar tracks"
   ]
  },
  {
   "cell_type": "code",
   "execution_count": 41,
   "metadata": {},
   "outputs": [
    {
     "name": "stdout",
     "output_type": "stream",
     "text": [
      "CB audio features - first tracks returned is the seed track\n",
      "5.49sec\n"
     ]
    },
    {
     "data": {
      "text/plain": [
       "[[\"Friday I'm In Love\", 'The Cure', 'Wish'],\n",
       " ['Sleeping Beast', 'Skinny Puppy', 'Remission'],\n",
       " ['Cut', 'The Cure', 'Wish'],\n",
       " ['Celebrate Youth', 'Rick Springfield', 'Tao'],\n",
       " ['Bad Boys Running Wild', 'Scorpions', 'Love At First Sting'],\n",
       " ['Without The Night', 'Winger', 'Winger'],\n",
       " ['Weird At My School', 'Pixies', 'Monkey Gone To Heaven'],\n",
       " ['Pride', 'Buckcherry', 'Confessions'],\n",
       " ['Cafe', 'Malo', 'MALO Rocks the Rockies'],\n",
       " ['Lines And Lines', 'The Spinanes', 'Strand'],\n",
       " ['What Does It Matter', 'Molly Hatchet', 'No Guts...No Glory']]"
      ]
     },
     "execution_count": 41,
     "metadata": {},
     "output_type": "execute_result"
    }
   ],
   "source": [
    "similar_items_with_description('spotify:track:4QlzkaRHtU8gAdwqjWmO8n',10,X_transformed)"
   ]
  },
  {
   "cell_type": "markdown",
   "metadata": {},
   "source": [
    "# Create a playlist continuation"
   ]
  },
  {
   "cell_type": "code",
   "execution_count": 42,
   "metadata": {},
   "outputs": [
    {
     "name": "stdout",
     "output_type": "stream",
     "text": [
      "Recommendations for 676551\n"
     ]
    },
    {
     "data": {
      "text/plain": [
       "[['La Rasquina', 'Aniceto Molina', '20 Cumbias De Reventon'],\n",
       " ['Hot Blooded - Live At The Bang Your Head Festival, Balingen, Germany/2006',\n",
       "  'Foreigner',\n",
       "  \"Alive & Rockin'\"],\n",
       " ['Feels Like the First Time - Live', 'Foreigner', 'The Best of 4 and More'],\n",
       " ['Faith', 'Raffa Fl', 'Revolution'],\n",
       " ['D-Boy Rap', 'Grim G', 'Find a Way Out'],\n",
       " [\"Voodoo Of The Sheep - Barem's Amado Voodoo Remix\",\n",
       "  'Jay Tripwire',\n",
       "  'Akbal Music Remixed, Vol. 2'],\n",
       " ['Forrest Gump Suite on Piano', 'Dagmar Krug', 'Forrest Gump Suite on Piano'],\n",
       " ['Truth Pt. 1', 'Diabolic', 'Foul Play Mixtape'],\n",
       " ['Up - solo piano theme',\n",
       "  'Mark Northam',\n",
       "  'Up - Theme from the Disney/Pixar Motion Picture by Michael Giacchino'],\n",
       " ['Seems Like Most Everything Used To Be Something Else',\n",
       "  'The Six Parts Seven',\n",
       "  'Things Shaped In Passing'],\n",
       " ['Falling In and Out Of Love - Original',\n",
       "  \"King Cole's Swingsters\",\n",
       "  \"King Cole's Swingsters Selected Favorites, Vol. 1\"],\n",
       " ['Where Are The Timpani Heartbeats?',\n",
       "  'The Six Parts Seven',\n",
       "  'Things Shaped In Passing'],\n",
       " [\"Slip Jigs: The Arra Mountains / Give Me a Drink of Water / Paddy O'Snap\",\n",
       "  'Natalie Padilla, Blayne Chastain & Peter Romero',\n",
       "  'Fiddle and Flute : Irish Traditional Music'],\n",
       " ['El Frijolito', 'Duranguense Latino', 'Pasito Duranguense Mexicano 4'],\n",
       " ['Musica Andina',\n",
       "  'Peru Music Ensemble',\n",
       "  'Peruvian Music - Peru Music and The Spirit of Peru'],\n",
       " ['Beat Box Interlude', 'Roach Gigz', 'Roachy Balboa 2'],\n",
       " [\"Reels: Hare's Paw / Humours of Lissadell / The Singing Stream\",\n",
       "  'Natalie Padilla, Blayne Chastain & Peter Romero',\n",
       "  'Fiddle and Flute : Irish Traditional Music'],\n",
       " ['Get You Lit', 'Keak Da Sneak', 'Retaliation'],\n",
       " ['International Glenn (Whatever That Is?)', 'Glenn Ohrlin', 'Elko'],\n",
       " ['Starlight', 'Dynazty', 'Renatus']]"
      ]
     },
     "execution_count": 42,
     "metadata": {},
     "output_type": "execute_result"
    }
   ],
   "source": [
    "inp = 676551\n",
    "create_pid_recs_with_description(inp, 20)"
   ]
  },
  {
   "cell_type": "markdown",
   "metadata": {},
   "source": [
    "# Save evaluation results - needs to be uncommented"
   ]
  },
  {
   "cell_type": "code",
   "execution_count": 43,
   "metadata": {},
   "outputs": [],
   "source": [
    "# n=1\n",
    "# time0=time()\n",
    "# epid = random.sample(evaluation_pids,n)\n",
    "# evaluation_result = {}\n",
    "# for i,pid in enumerate(epid):\n",
    "#     evaluation = predict_and_evaluate_top_n(pid,500)\n",
    "#     evaluation_result[pid] = [evaluation[2],evaluation[3]]\n",
    "#     if i%10==1:\n",
    "#         print(time() - time0)\n",
    "# df = pd.DataFrame(evaluation_result).transpose().reset_index()\n",
    "# df.columns=['pid','R-Precision','nDCG']\n",
    "# df['rating'] = 'na'\n",
    "# model = f'CB_audio_features'\n",
    "# df['model'] = model\n",
    "# df.to_csv(f'../evaluation/{model}_{n}.csv', index = None)\n",
    "\n",
    "# print(time() - time0)\n",
    "\n",
    "# df.describe()"
   ]
  }
 ],
 "metadata": {
  "kernelspec": {
   "display_name": "Python 3",
   "language": "python",
   "name": "python3"
  },
  "language_info": {
   "codemirror_mode": {
    "name": "ipython",
    "version": 3
   },
   "file_extension": ".py",
   "mimetype": "text/x-python",
   "name": "python",
   "nbconvert_exporter": "python",
   "pygments_lexer": "ipython3",
   "version": "3.8.6"
  }
 },
 "nbformat": 4,
 "nbformat_minor": 4
}
