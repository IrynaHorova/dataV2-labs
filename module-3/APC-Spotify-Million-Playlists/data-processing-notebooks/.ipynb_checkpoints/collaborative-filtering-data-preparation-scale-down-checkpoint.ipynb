{
 "cells": [
  {
   "cell_type": "markdown",
   "metadata": {},
   "source": [
    "## Collaborative Filtering - extract only PID, track_uri and pos "
   ]
  },
  {
   "cell_type": "code",
   "execution_count": 1,
   "metadata": {},
   "outputs": [],
   "source": [
    "import json\n",
    "import numpy as np\n",
    "from time import time\n",
    "import pandas as pd\n",
    "from pandas.io.json import json_normalize\n",
    "import os\n",
    "import concurrent.futures\n",
    "import functools\n",
    "import random\n",
    "import gc\n",
    "import warnings\n",
    "from pandas.core.common import SettingWithCopyWarning\n",
    "warnings.simplefilter(action=\"ignore\", category=SettingWithCopyWarning)"
   ]
  },
  {
   "cell_type": "code",
   "execution_count": 2,
   "metadata": {},
   "outputs": [],
   "source": [
    "path = '../dataset/spotify_million_playlist_dataset/data/'"
   ]
  },
  {
   "cell_type": "code",
   "execution_count": 3,
   "metadata": {},
   "outputs": [],
   "source": [
    "arr = np.empty((66346428,4), dtype = object)"
   ]
  },
  {
   "cell_type": "code",
   "execution_count": 4,
   "metadata": {},
   "outputs": [],
   "source": [
    "keys = [\n",
    "    'pid',\n",
    "#     'name',\n",
    "#     'description',\n",
    "#     'num_artists',\n",
    "#     'num_albums',\n",
    "#     'num_tracks',\n",
    "#     'num_followers',\n",
    "#     'duration_ms',\n",
    "#     'collaborative',\n",
    "    'tracks'\n",
    "]"
   ]
  },
  {
   "cell_type": "code",
   "execution_count": 5,
   "metadata": {},
   "outputs": [
    {
     "name": "stdout",
     "output_type": "stream",
     "text": [
      "mpd.slice.538000-538999.json 0\n",
      "mpd.slice.846000-846999.json 1\n",
      "mpd.slice.404000-404999.json 2\n",
      "mpd.slice.975000-975999.json 3\n",
      "mpd.slice.217000-217999.json 4\n",
      "mpd.slice.123000-123999.json 5\n",
      "mpd.slice.170000-170999.json 6\n",
      "mpd.slice.539000-539999.json 7\n",
      "mpd.slice.885000-885999.json 8\n",
      "mpd.slice.594000-594999.json 9\n",
      "mpd.slice.831000-831999.json 10\n",
      "mpd.slice.849000-849999.json 11\n",
      "mpd.slice.431000-431999.json 12\n",
      "mpd.slice.332000-332999.json 13\n",
      "mpd.slice.639000-639999.json 14\n",
      "mpd.slice.292000-292999.json 15\n",
      "mpd.slice.315000-315999.json 16\n",
      "mpd.slice.894000-894999.json 17\n",
      "mpd.slice.484000-484999.json 18\n",
      "mpd.slice.957000-957999.json 19\n",
      "mpd.slice.466000-466999.json 20\n",
      "mpd.slice.394000-394999.json 21\n",
      "mpd.slice.54000-54999.json 22\n",
      "mpd.slice.870000-870999.json 23\n",
      "mpd.slice.72000-72999.json 24\n",
      "mpd.slice.512000-512999.json 25\n",
      "mpd.slice.384000-384999.json 26\n",
      "mpd.slice.807000-807999.json 27\n",
      "mpd.slice.177000-177999.json 28\n",
      "mpd.slice.793000-793999.json 29\n",
      "mpd.slice.90000-90999.json 30\n",
      "mpd.slice.909000-909999.json 31\n",
      "mpd.slice.530000-530999.json 32\n",
      "mpd.slice.23000-23999.json 33\n",
      "mpd.slice.904000-904999.json 34\n",
      "mpd.slice.694000-694999.json 35\n",
      "mpd.slice.145000-145999.json 36\n",
      "mpd.slice.869000-869999.json 37\n",
      "mpd.slice.591000-591999.json 38\n",
      "mpd.slice.28000-28999.json 39\n",
      "mpd.slice.448000-448999.json 40\n",
      "mpd.slice.53000-53999.json 41\n",
      "mpd.slice.478000-478999.json 42\n",
      "mpd.slice.596000-596999.json 43\n",
      "mpd.slice.440000-440999.json 44\n",
      "mpd.slice.555000-555999.json 45\n",
      "mpd.slice.138000-138999.json 46\n",
      "mpd.slice.218000-218999.json 47\n",
      "mpd.slice.111000-111999.json 48\n",
      "mpd.slice.942000-942999.json 49\n",
      "mpd.slice.330000-330999.json 50\n",
      "mpd.slice.267000-267999.json 51\n",
      "mpd.slice.655000-655999.json 52\n",
      "mpd.slice.263000-263999.json 53\n",
      "mpd.slice.294000-294999.json 54\n",
      "mpd.slice.443000-443999.json 55\n",
      "mpd.slice.285000-285999.json 56\n",
      "mpd.slice.160000-160999.json 57\n",
      "mpd.slice.261000-261999.json 58\n",
      "mpd.slice.916000-916999.json 59\n",
      "mpd.slice.898000-898999.json 60\n",
      "mpd.slice.662000-662999.json 61\n",
      "mpd.slice.309000-309999.json 62\n",
      "mpd.slice.373000-373999.json 63\n",
      "mpd.slice.823000-823999.json 64\n",
      "mpd.slice.429000-429999.json 65\n",
      "mpd.slice.544000-544999.json 66\n",
      "mpd.slice.227000-227999.json 67\n",
      "mpd.slice.561000-561999.json 68\n",
      "mpd.slice.52000-52999.json 69\n",
      "mpd.slice.30000-30999.json 70\n",
      "mpd.slice.526000-526999.json 71\n",
      "mpd.slice.350000-350999.json 72\n",
      "mpd.slice.436000-436999.json 73\n",
      "mpd.slice.532000-532999.json 74\n",
      "mpd.slice.503000-503999.json 75\n",
      "mpd.slice.50000-50999.json 76\n",
      "mpd.slice.640000-640999.json 77\n",
      "mpd.slice.60000-60999.json 78\n",
      "mpd.slice.601000-601999.json 79\n",
      "mpd.slice.649000-649999.json 80\n",
      "mpd.slice.549000-549999.json 81\n",
      "mpd.slice.676000-676999.json 82\n",
      "mpd.slice.371000-371999.json 83\n",
      "mpd.slice.92000-92999.json 84\n",
      "mpd.slice.531000-531999.json 85\n",
      "mpd.slice.605000-605999.json 86\n",
      "mpd.slice.940000-940999.json 87\n",
      "mpd.slice.597000-597999.json 88\n",
      "mpd.slice.566000-566999.json 89\n",
      "mpd.slice.719000-719999.json 90\n",
      "mpd.slice.444000-444999.json 91\n",
      "mpd.slice.480000-480999.json 92\n",
      "mpd.slice.949000-949999.json 93\n",
      "mpd.slice.648000-648999.json 94\n",
      "mpd.slice.790000-790999.json 95\n",
      "mpd.slice.351000-351999.json 96\n",
      "mpd.slice.445000-445999.json 97\n",
      "mpd.slice.637000-637999.json 98\n",
      "mpd.slice.68000-68999.json 99\n",
      "Time taken: 1.5758172233899435\n"
     ]
    }
   ],
   "source": [
    "t0=time()\n",
    "samp = 100\n",
    "filenames = os.listdir(path)\n",
    "num = 0\n",
    "for i, filename in enumerate(random.sample(sorted(filenames), samp)):\n",
    "    if filename.startswith(\"mpd.slice.\") and filename.endswith(\".json\"):\n",
    "        fullpath = os.sep.join((path, filename))\n",
    "        f = open(fullpath)\n",
    "        js = f.read()\n",
    "        f.close()\n",
    "        mpd_slice = json.loads(js)\n",
    "        D = pd.DataFrame(mpd_slice['playlists'])[keys]\n",
    "        df = pd.DataFrame(D, columns=['pid','tracks'])\n",
    "        idx = df.set_index(['pid']).tracks.apply(pd.Series).stack().index\n",
    "        df = pd.DataFrame(df.set_index(['pid']).tracks.apply(pd.Series).stack().values.tolist(),index=idx).reset_index().drop('level_1',1)\n",
    "        arr0 = df[['pid','pos','track_uri','artist_uri']].to_numpy()\n",
    "        arr[num:num+len(df),:] = arr0\n",
    "        num = num+len(df)\n",
    "        \n",
    "        print(filename,i)\n",
    "# Time diff\n",
    "print(f\"Time taken: {(time()-t0)/60}\")"
   ]
  },
  {
   "cell_type": "code",
   "execution_count": 6,
   "metadata": {},
   "outputs": [
    {
     "data": {
      "text/plain": [
       "20"
      ]
     },
     "execution_count": 6,
     "metadata": {},
     "output_type": "execute_result"
    }
   ],
   "source": [
    "gc.collect()"
   ]
  },
  {
   "cell_type": "code",
   "execution_count": 7,
   "metadata": {},
   "outputs": [
    {
     "data": {
      "text/plain": [
       "(66346428, 4)"
      ]
     },
     "execution_count": 7,
     "metadata": {},
     "output_type": "execute_result"
    }
   ],
   "source": [
    "arr.shape"
   ]
  },
  {
   "cell_type": "code",
   "execution_count": 8,
   "metadata": {},
   "outputs": [],
   "source": [
    "df = pd.DataFrame(arr)"
   ]
  },
  {
   "cell_type": "code",
   "execution_count": 9,
   "metadata": {},
   "outputs": [],
   "source": [
    "df.columns=['pid','pos','track_uri', 'artist_uri']"
   ]
  },
  {
   "cell_type": "code",
   "execution_count": 14,
   "metadata": {},
   "outputs": [],
   "source": [
    "df=df[df.isnull().any(axis=1)==False]"
   ]
  },
  {
   "cell_type": "code",
   "execution_count": 15,
   "metadata": {},
   "outputs": [
    {
     "data": {
      "text/plain": [
       "(6624383, 4)"
      ]
     },
     "execution_count": 15,
     "metadata": {},
     "output_type": "execute_result"
    }
   ],
   "source": [
    "df.shape"
   ]
  },
  {
   "cell_type": "code",
   "execution_count": 16,
   "metadata": {},
   "outputs": [
    {
     "data": {
      "text/plain": [
       "pid           0\n",
       "pos           0\n",
       "track_uri     0\n",
       "artist_uri    0\n",
       "dtype: int64"
      ]
     },
     "execution_count": 16,
     "metadata": {},
     "output_type": "execute_result"
    }
   ],
   "source": [
    "df.isnull().sum()"
   ]
  },
  {
   "cell_type": "code",
   "execution_count": 17,
   "metadata": {},
   "outputs": [],
   "source": [
    "df.to_csv('../data-processed/scale-down/pid-track-artist-scaled.csv', index = None)"
   ]
  },
  {
   "cell_type": "markdown",
   "metadata": {},
   "source": [
    "## Add binary and scaled rating"
   ]
  },
  {
   "cell_type": "code",
   "execution_count": 19,
   "metadata": {},
   "outputs": [],
   "source": [
    "df = pd.read_csv('../data-processed/scale-down/pid-track-artist-scaled.csv')"
   ]
  },
  {
   "cell_type": "code",
   "execution_count": 20,
   "metadata": {},
   "outputs": [
    {
     "data": {
      "text/html": [
       "<div>\n",
       "<style scoped>\n",
       "    .dataframe tbody tr th:only-of-type {\n",
       "        vertical-align: middle;\n",
       "    }\n",
       "\n",
       "    .dataframe tbody tr th {\n",
       "        vertical-align: top;\n",
       "    }\n",
       "\n",
       "    .dataframe thead th {\n",
       "        text-align: right;\n",
       "    }\n",
       "</style>\n",
       "<table border=\"1\" class=\"dataframe\">\n",
       "  <thead>\n",
       "    <tr style=\"text-align: right;\">\n",
       "      <th></th>\n",
       "      <th>pid</th>\n",
       "      <th>pos</th>\n",
       "      <th>track_uri</th>\n",
       "      <th>artist_uri</th>\n",
       "    </tr>\n",
       "  </thead>\n",
       "  <tbody>\n",
       "    <tr>\n",
       "      <th>0</th>\n",
       "      <td>538000</td>\n",
       "      <td>0</td>\n",
       "      <td>spotify:track:5ihS6UUlyQAfmp48eSkxuQ</td>\n",
       "      <td>spotify:artist:08GQAI4eElDnROBrJRGE0X</td>\n",
       "    </tr>\n",
       "    <tr>\n",
       "      <th>1</th>\n",
       "      <td>538000</td>\n",
       "      <td>1</td>\n",
       "      <td>spotify:track:2MUc3zfngC6KRiJQNo5uHa</td>\n",
       "      <td>spotify:artist:4Ui2kfOqGujY81UcPrb5KE</td>\n",
       "    </tr>\n",
       "    <tr>\n",
       "      <th>2</th>\n",
       "      <td>538000</td>\n",
       "      <td>2</td>\n",
       "      <td>spotify:track:0LviM04IykLs7JEkrZV9Xm</td>\n",
       "      <td>spotify:artist:4xFUf1FHVy696Q1JQZMTRj</td>\n",
       "    </tr>\n",
       "    <tr>\n",
       "      <th>3</th>\n",
       "      <td>538000</td>\n",
       "      <td>3</td>\n",
       "      <td>spotify:track:10RQKVSr4rS0coExTmi4dF</td>\n",
       "      <td>spotify:artist:4xFUf1FHVy696Q1JQZMTRj</td>\n",
       "    </tr>\n",
       "    <tr>\n",
       "      <th>4</th>\n",
       "      <td>538000</td>\n",
       "      <td>4</td>\n",
       "      <td>spotify:track:3MOUUE92JOO8UdVTszYaJ0</td>\n",
       "      <td>spotify:artist:2Sqr0DXoaYABbjBo9HaMkM</td>\n",
       "    </tr>\n",
       "  </tbody>\n",
       "</table>\n",
       "</div>"
      ],
      "text/plain": [
       "      pid  pos                             track_uri  \\\n",
       "0  538000    0  spotify:track:5ihS6UUlyQAfmp48eSkxuQ   \n",
       "1  538000    1  spotify:track:2MUc3zfngC6KRiJQNo5uHa   \n",
       "2  538000    2  spotify:track:0LviM04IykLs7JEkrZV9Xm   \n",
       "3  538000    3  spotify:track:10RQKVSr4rS0coExTmi4dF   \n",
       "4  538000    4  spotify:track:3MOUUE92JOO8UdVTszYaJ0   \n",
       "\n",
       "                              artist_uri  \n",
       "0  spotify:artist:08GQAI4eElDnROBrJRGE0X  \n",
       "1  spotify:artist:4Ui2kfOqGujY81UcPrb5KE  \n",
       "2  spotify:artist:4xFUf1FHVy696Q1JQZMTRj  \n",
       "3  spotify:artist:4xFUf1FHVy696Q1JQZMTRj  \n",
       "4  spotify:artist:2Sqr0DXoaYABbjBo9HaMkM  "
      ]
     },
     "execution_count": 20,
     "metadata": {},
     "output_type": "execute_result"
    }
   ],
   "source": [
    "df.head()"
   ]
  },
  {
   "cell_type": "code",
   "execution_count": 21,
   "metadata": {},
   "outputs": [
    {
     "data": {
      "text/plain": [
       "pid            int64\n",
       "pos            int64\n",
       "track_uri     object\n",
       "artist_uri    object\n",
       "dtype: object"
      ]
     },
     "execution_count": 21,
     "metadata": {},
     "output_type": "execute_result"
    }
   ],
   "source": [
    "df.dtypes"
   ]
  },
  {
   "cell_type": "markdown",
   "metadata": {},
   "source": [
    "### Binary scaling"
   ]
  },
  {
   "cell_type": "code",
   "execution_count": 22,
   "metadata": {},
   "outputs": [],
   "source": [
    "df['binary_rating'] = 1"
   ]
  },
  {
   "cell_type": "markdown",
   "metadata": {},
   "source": [
    "### Scale 1 to 10 "
   ]
  },
  {
   "cell_type": "code",
   "execution_count": 23,
   "metadata": {},
   "outputs": [
    {
     "data": {
      "text/html": [
       "<div>\n",
       "<style scoped>\n",
       "    .dataframe tbody tr th:only-of-type {\n",
       "        vertical-align: middle;\n",
       "    }\n",
       "\n",
       "    .dataframe tbody tr th {\n",
       "        vertical-align: top;\n",
       "    }\n",
       "\n",
       "    .dataframe thead th {\n",
       "        text-align: right;\n",
       "    }\n",
       "</style>\n",
       "<table border=\"1\" class=\"dataframe\">\n",
       "  <thead>\n",
       "    <tr style=\"text-align: right;\">\n",
       "      <th></th>\n",
       "      <th>pid</th>\n",
       "      <th>pos</th>\n",
       "      <th>track_uri</th>\n",
       "      <th>artist_uri</th>\n",
       "      <th>binary_rating</th>\n",
       "    </tr>\n",
       "  </thead>\n",
       "  <tbody>\n",
       "    <tr>\n",
       "      <th>0</th>\n",
       "      <td>538000</td>\n",
       "      <td>0</td>\n",
       "      <td>spotify:track:5ihS6UUlyQAfmp48eSkxuQ</td>\n",
       "      <td>spotify:artist:08GQAI4eElDnROBrJRGE0X</td>\n",
       "      <td>1</td>\n",
       "    </tr>\n",
       "    <tr>\n",
       "      <th>1</th>\n",
       "      <td>538000</td>\n",
       "      <td>1</td>\n",
       "      <td>spotify:track:2MUc3zfngC6KRiJQNo5uHa</td>\n",
       "      <td>spotify:artist:4Ui2kfOqGujY81UcPrb5KE</td>\n",
       "      <td>1</td>\n",
       "    </tr>\n",
       "    <tr>\n",
       "      <th>2</th>\n",
       "      <td>538000</td>\n",
       "      <td>2</td>\n",
       "      <td>spotify:track:0LviM04IykLs7JEkrZV9Xm</td>\n",
       "      <td>spotify:artist:4xFUf1FHVy696Q1JQZMTRj</td>\n",
       "      <td>1</td>\n",
       "    </tr>\n",
       "    <tr>\n",
       "      <th>3</th>\n",
       "      <td>538000</td>\n",
       "      <td>3</td>\n",
       "      <td>spotify:track:10RQKVSr4rS0coExTmi4dF</td>\n",
       "      <td>spotify:artist:4xFUf1FHVy696Q1JQZMTRj</td>\n",
       "      <td>1</td>\n",
       "    </tr>\n",
       "    <tr>\n",
       "      <th>4</th>\n",
       "      <td>538000</td>\n",
       "      <td>4</td>\n",
       "      <td>spotify:track:3MOUUE92JOO8UdVTszYaJ0</td>\n",
       "      <td>spotify:artist:2Sqr0DXoaYABbjBo9HaMkM</td>\n",
       "      <td>1</td>\n",
       "    </tr>\n",
       "  </tbody>\n",
       "</table>\n",
       "</div>"
      ],
      "text/plain": [
       "      pid  pos                             track_uri  \\\n",
       "0  538000    0  spotify:track:5ihS6UUlyQAfmp48eSkxuQ   \n",
       "1  538000    1  spotify:track:2MUc3zfngC6KRiJQNo5uHa   \n",
       "2  538000    2  spotify:track:0LviM04IykLs7JEkrZV9Xm   \n",
       "3  538000    3  spotify:track:10RQKVSr4rS0coExTmi4dF   \n",
       "4  538000    4  spotify:track:3MOUUE92JOO8UdVTszYaJ0   \n",
       "\n",
       "                              artist_uri  binary_rating  \n",
       "0  spotify:artist:08GQAI4eElDnROBrJRGE0X              1  \n",
       "1  spotify:artist:4Ui2kfOqGujY81UcPrb5KE              1  \n",
       "2  spotify:artist:4xFUf1FHVy696Q1JQZMTRj              1  \n",
       "3  spotify:artist:4xFUf1FHVy696Q1JQZMTRj              1  \n",
       "4  spotify:artist:2Sqr0DXoaYABbjBo9HaMkM              1  "
      ]
     },
     "execution_count": 23,
     "metadata": {},
     "output_type": "execute_result"
    }
   ],
   "source": [
    "df.head()"
   ]
  },
  {
   "cell_type": "code",
   "execution_count": 24,
   "metadata": {},
   "outputs": [],
   "source": [
    "df['pos_max'] = df.groupby('pid')['pos'].transform('max')\n",
    "df['pos_rating'] = (9*(df['pos_max'] - df['pos'])/(df['pos_max']))+1\n",
    "df=df.drop(columns=['pos_max'], axis =1 )"
   ]
  },
  {
   "cell_type": "code",
   "execution_count": 25,
   "metadata": {},
   "outputs": [
    {
     "data": {
      "text/html": [
       "<div>\n",
       "<style scoped>\n",
       "    .dataframe tbody tr th:only-of-type {\n",
       "        vertical-align: middle;\n",
       "    }\n",
       "\n",
       "    .dataframe tbody tr th {\n",
       "        vertical-align: top;\n",
       "    }\n",
       "\n",
       "    .dataframe thead th {\n",
       "        text-align: right;\n",
       "    }\n",
       "</style>\n",
       "<table border=\"1\" class=\"dataframe\">\n",
       "  <thead>\n",
       "    <tr style=\"text-align: right;\">\n",
       "      <th></th>\n",
       "      <th>pid</th>\n",
       "      <th>pos</th>\n",
       "      <th>track_uri</th>\n",
       "      <th>artist_uri</th>\n",
       "      <th>binary_rating</th>\n",
       "      <th>pos_rating</th>\n",
       "    </tr>\n",
       "  </thead>\n",
       "  <tbody>\n",
       "    <tr>\n",
       "      <th>0</th>\n",
       "      <td>538000</td>\n",
       "      <td>0</td>\n",
       "      <td>spotify:track:5ihS6UUlyQAfmp48eSkxuQ</td>\n",
       "      <td>spotify:artist:08GQAI4eElDnROBrJRGE0X</td>\n",
       "      <td>1</td>\n",
       "      <td>10.000000</td>\n",
       "    </tr>\n",
       "    <tr>\n",
       "      <th>1</th>\n",
       "      <td>538000</td>\n",
       "      <td>1</td>\n",
       "      <td>spotify:track:2MUc3zfngC6KRiJQNo5uHa</td>\n",
       "      <td>spotify:artist:4Ui2kfOqGujY81UcPrb5KE</td>\n",
       "      <td>1</td>\n",
       "      <td>9.816327</td>\n",
       "    </tr>\n",
       "    <tr>\n",
       "      <th>2</th>\n",
       "      <td>538000</td>\n",
       "      <td>2</td>\n",
       "      <td>spotify:track:0LviM04IykLs7JEkrZV9Xm</td>\n",
       "      <td>spotify:artist:4xFUf1FHVy696Q1JQZMTRj</td>\n",
       "      <td>1</td>\n",
       "      <td>9.632653</td>\n",
       "    </tr>\n",
       "    <tr>\n",
       "      <th>3</th>\n",
       "      <td>538000</td>\n",
       "      <td>3</td>\n",
       "      <td>spotify:track:10RQKVSr4rS0coExTmi4dF</td>\n",
       "      <td>spotify:artist:4xFUf1FHVy696Q1JQZMTRj</td>\n",
       "      <td>1</td>\n",
       "      <td>9.448980</td>\n",
       "    </tr>\n",
       "    <tr>\n",
       "      <th>4</th>\n",
       "      <td>538000</td>\n",
       "      <td>4</td>\n",
       "      <td>spotify:track:3MOUUE92JOO8UdVTszYaJ0</td>\n",
       "      <td>spotify:artist:2Sqr0DXoaYABbjBo9HaMkM</td>\n",
       "      <td>1</td>\n",
       "      <td>9.265306</td>\n",
       "    </tr>\n",
       "  </tbody>\n",
       "</table>\n",
       "</div>"
      ],
      "text/plain": [
       "      pid  pos                             track_uri  \\\n",
       "0  538000    0  spotify:track:5ihS6UUlyQAfmp48eSkxuQ   \n",
       "1  538000    1  spotify:track:2MUc3zfngC6KRiJQNo5uHa   \n",
       "2  538000    2  spotify:track:0LviM04IykLs7JEkrZV9Xm   \n",
       "3  538000    3  spotify:track:10RQKVSr4rS0coExTmi4dF   \n",
       "4  538000    4  spotify:track:3MOUUE92JOO8UdVTszYaJ0   \n",
       "\n",
       "                              artist_uri  binary_rating  pos_rating  \n",
       "0  spotify:artist:08GQAI4eElDnROBrJRGE0X              1   10.000000  \n",
       "1  spotify:artist:4Ui2kfOqGujY81UcPrb5KE              1    9.816327  \n",
       "2  spotify:artist:4xFUf1FHVy696Q1JQZMTRj              1    9.632653  \n",
       "3  spotify:artist:4xFUf1FHVy696Q1JQZMTRj              1    9.448980  \n",
       "4  spotify:artist:2Sqr0DXoaYABbjBo9HaMkM              1    9.265306  "
      ]
     },
     "execution_count": 25,
     "metadata": {},
     "output_type": "execute_result"
    }
   ],
   "source": [
    "df.head()"
   ]
  },
  {
   "cell_type": "code",
   "execution_count": 26,
   "metadata": {},
   "outputs": [],
   "source": [
    "df[['pid','track_uri','binary_rating','pos_rating']].to_csv('../data-processed/pid-track-ratings-scaled.csv', index = None)"
   ]
  },
  {
   "cell_type": "markdown",
   "metadata": {},
   "source": [
    "## Hold out playlists for testing - to be used for R-precision and NDGC calculation"
   ]
  },
  {
   "cell_type": "code",
   "execution_count": 27,
   "metadata": {},
   "outputs": [],
   "source": [
    "pids = pd.DataFrame(df.groupby('pid')['pos'].max()).reset_index()\n",
    "pids.columns=['pid','num_tracks']\n",
    "pids['train_test'] = np.where(np.random.rand(len(pids),1)<=0.7,'train','test')"
   ]
  },
  {
   "cell_type": "code",
   "execution_count": 28,
   "metadata": {},
   "outputs": [
    {
     "data": {
      "text/html": [
       "<div>\n",
       "<style scoped>\n",
       "    .dataframe tbody tr th:only-of-type {\n",
       "        vertical-align: middle;\n",
       "    }\n",
       "\n",
       "    .dataframe tbody tr th {\n",
       "        vertical-align: top;\n",
       "    }\n",
       "\n",
       "    .dataframe thead th {\n",
       "        text-align: right;\n",
       "    }\n",
       "</style>\n",
       "<table border=\"1\" class=\"dataframe\">\n",
       "  <thead>\n",
       "    <tr style=\"text-align: right;\">\n",
       "      <th></th>\n",
       "      <th>pid</th>\n",
       "      <th>num_tracks</th>\n",
       "      <th>train_test</th>\n",
       "    </tr>\n",
       "  </thead>\n",
       "  <tbody>\n",
       "    <tr>\n",
       "      <th>0</th>\n",
       "      <td>23000</td>\n",
       "      <td>150</td>\n",
       "      <td>train</td>\n",
       "    </tr>\n",
       "    <tr>\n",
       "      <th>1</th>\n",
       "      <td>23001</td>\n",
       "      <td>4</td>\n",
       "      <td>train</td>\n",
       "    </tr>\n",
       "    <tr>\n",
       "      <th>2</th>\n",
       "      <td>23002</td>\n",
       "      <td>167</td>\n",
       "      <td>test</td>\n",
       "    </tr>\n",
       "    <tr>\n",
       "      <th>3</th>\n",
       "      <td>23003</td>\n",
       "      <td>13</td>\n",
       "      <td>train</td>\n",
       "    </tr>\n",
       "    <tr>\n",
       "      <th>4</th>\n",
       "      <td>23004</td>\n",
       "      <td>82</td>\n",
       "      <td>train</td>\n",
       "    </tr>\n",
       "  </tbody>\n",
       "</table>\n",
       "</div>"
      ],
      "text/plain": [
       "     pid  num_tracks train_test\n",
       "0  23000         150      train\n",
       "1  23001           4      train\n",
       "2  23002         167       test\n",
       "3  23003          13      train\n",
       "4  23004          82      train"
      ]
     },
     "execution_count": 28,
     "metadata": {},
     "output_type": "execute_result"
    }
   ],
   "source": [
    "pids.head()"
   ]
  },
  {
   "cell_type": "code",
   "execution_count": 29,
   "metadata": {},
   "outputs": [],
   "source": [
    "D_num_tracks={}\n",
    "for index, row in pids.iterrows():\n",
    "    D_num_tracks[row['pid']] = row['num_tracks']"
   ]
  },
  {
   "cell_type": "code",
   "execution_count": 31,
   "metadata": {},
   "outputs": [
    {
     "data": {
      "text/plain": [
       "150"
      ]
     },
     "execution_count": 31,
     "metadata": {},
     "output_type": "execute_result"
    }
   ],
   "source": [
    "D_num_tracks[23000]"
   ]
  },
  {
   "cell_type": "code",
   "execution_count": 32,
   "metadata": {},
   "outputs": [
    {
     "data": {
      "text/html": [
       "<div>\n",
       "<style scoped>\n",
       "    .dataframe tbody tr th:only-of-type {\n",
       "        vertical-align: middle;\n",
       "    }\n",
       "\n",
       "    .dataframe tbody tr th {\n",
       "        vertical-align: top;\n",
       "    }\n",
       "\n",
       "    .dataframe thead th {\n",
       "        text-align: right;\n",
       "    }\n",
       "</style>\n",
       "<table border=\"1\" class=\"dataframe\">\n",
       "  <thead>\n",
       "    <tr style=\"text-align: right;\">\n",
       "      <th></th>\n",
       "      <th>pid</th>\n",
       "      <th>num_tracks</th>\n",
       "    </tr>\n",
       "  </thead>\n",
       "  <tbody>\n",
       "    <tr>\n",
       "      <th>count</th>\n",
       "      <td>100000.00000</td>\n",
       "      <td>100000.000000</td>\n",
       "    </tr>\n",
       "    <tr>\n",
       "      <th>mean</th>\n",
       "      <td>482429.50000</td>\n",
       "      <td>65.243830</td>\n",
       "    </tr>\n",
       "    <tr>\n",
       "      <th>std</th>\n",
       "      <td>271173.38325</td>\n",
       "      <td>53.539182</td>\n",
       "    </tr>\n",
       "    <tr>\n",
       "      <th>min</th>\n",
       "      <td>23000.00000</td>\n",
       "      <td>4.000000</td>\n",
       "    </tr>\n",
       "    <tr>\n",
       "      <th>25%</th>\n",
       "      <td>280749.75000</td>\n",
       "      <td>25.000000</td>\n",
       "    </tr>\n",
       "    <tr>\n",
       "      <th>50%</th>\n",
       "      <td>482499.50000</td>\n",
       "      <td>48.000000</td>\n",
       "    </tr>\n",
       "    <tr>\n",
       "      <th>75%</th>\n",
       "      <td>651249.25000</td>\n",
       "      <td>90.000000</td>\n",
       "    </tr>\n",
       "    <tr>\n",
       "      <th>max</th>\n",
       "      <td>975999.00000</td>\n",
       "      <td>249.000000</td>\n",
       "    </tr>\n",
       "  </tbody>\n",
       "</table>\n",
       "</div>"
      ],
      "text/plain": [
       "                pid     num_tracks\n",
       "count  100000.00000  100000.000000\n",
       "mean   482429.50000      65.243830\n",
       "std    271173.38325      53.539182\n",
       "min     23000.00000       4.000000\n",
       "25%    280749.75000      25.000000\n",
       "50%    482499.50000      48.000000\n",
       "75%    651249.25000      90.000000\n",
       "max    975999.00000     249.000000"
      ]
     },
     "execution_count": 32,
     "metadata": {},
     "output_type": "execute_result"
    }
   ],
   "source": [
    "pids.describe()"
   ]
  },
  {
   "cell_type": "code",
   "execution_count": 33,
   "metadata": {},
   "outputs": [],
   "source": [
    "holdout_array = [0.5,0.6,0.7,0.8,0.9,0.95]\n",
    "first_random = ['first','random']"
   ]
  },
  {
   "cell_type": "code",
   "execution_count": 34,
   "metadata": {},
   "outputs": [],
   "source": [
    "pids['test_first_random'] = np.random.randint(0, 2, pids.shape[0])"
   ]
  },
  {
   "cell_type": "code",
   "execution_count": 35,
   "metadata": {},
   "outputs": [],
   "source": [
    "pids['test_hould_out_pct'] = [random.choice(holdout_array)*100 for i in range(len(pids))]\n",
    "pids['seed_tracks_num'] = np.ceil(pids['num_tracks']*(1-pids['test_hould_out_pct']/100))\n",
    "pids['seed_tracks_num'] = np.where(pids['seed_tracks_num']>100,100, pids['seed_tracks_num'])"
   ]
  },
  {
   "cell_type": "code",
   "execution_count": 36,
   "metadata": {},
   "outputs": [
    {
     "data": {
      "text/plain": [
       "train    69791\n",
       "test     30209\n",
       "Name: train_test, dtype: int64"
      ]
     },
     "execution_count": 36,
     "metadata": {},
     "output_type": "execute_result"
    }
   ],
   "source": [
    "pids['train_test'].value_counts()"
   ]
  },
  {
   "cell_type": "code",
   "execution_count": 37,
   "metadata": {},
   "outputs": [],
   "source": [
    "D_test_train={}\n",
    "for index, row in pids.iterrows():\n",
    "    D_test_train[row['pid']] = row['train_test']"
   ]
  },
  {
   "cell_type": "code",
   "execution_count": 38,
   "metadata": {},
   "outputs": [],
   "source": [
    "D_test_first_random={}\n",
    "for index, row in pids.iterrows():\n",
    "    D_test_first_random[row['pid']] = row['test_first_random']"
   ]
  },
  {
   "cell_type": "code",
   "execution_count": 39,
   "metadata": {},
   "outputs": [],
   "source": [
    "D_seed_tracks_num={}\n",
    "for index, row in pids.iterrows():\n",
    "    D_seed_tracks_num[row['pid']] = row['seed_tracks_num']"
   ]
  },
  {
   "cell_type": "code",
   "execution_count": 41,
   "metadata": {},
   "outputs": [],
   "source": [
    "df['train_test'] = df['pid'].map(D_test_train)\n",
    "df['test_first_random'] = df['pid'].map(D_test_first_random)\n",
    "df['seed_tracks_num'] = df['pid'].map(D_seed_tracks_num)"
   ]
  },
  {
   "cell_type": "code",
   "execution_count": 42,
   "metadata": {},
   "outputs": [
    {
     "data": {
      "text/plain": [
       "train    4629649\n",
       "test     1994734\n",
       "Name: train_test, dtype: int64"
      ]
     },
     "execution_count": 42,
     "metadata": {},
     "output_type": "execute_result"
    }
   ],
   "source": [
    "df['train_test'].value_counts()"
   ]
  },
  {
   "cell_type": "code",
   "execution_count": 43,
   "metadata": {},
   "outputs": [],
   "source": [
    "df['num_tracks'] = df['pid'].map(D_num_tracks)"
   ]
  },
  {
   "cell_type": "code",
   "execution_count": 44,
   "metadata": {},
   "outputs": [
    {
     "data": {
      "text/html": [
       "<div>\n",
       "<style scoped>\n",
       "    .dataframe tbody tr th:only-of-type {\n",
       "        vertical-align: middle;\n",
       "    }\n",
       "\n",
       "    .dataframe tbody tr th {\n",
       "        vertical-align: top;\n",
       "    }\n",
       "\n",
       "    .dataframe thead th {\n",
       "        text-align: right;\n",
       "    }\n",
       "</style>\n",
       "<table border=\"1\" class=\"dataframe\">\n",
       "  <thead>\n",
       "    <tr style=\"text-align: right;\">\n",
       "      <th></th>\n",
       "      <th>pid</th>\n",
       "      <th>pos</th>\n",
       "      <th>track_uri</th>\n",
       "      <th>artist_uri</th>\n",
       "      <th>binary_rating</th>\n",
       "      <th>pos_rating</th>\n",
       "      <th>train_test</th>\n",
       "      <th>test_first_random</th>\n",
       "      <th>seed_tracks_num</th>\n",
       "      <th>num_tracks</th>\n",
       "    </tr>\n",
       "  </thead>\n",
       "  <tbody>\n",
       "    <tr>\n",
       "      <th>0</th>\n",
       "      <td>538000</td>\n",
       "      <td>0</td>\n",
       "      <td>spotify:track:5ihS6UUlyQAfmp48eSkxuQ</td>\n",
       "      <td>spotify:artist:08GQAI4eElDnROBrJRGE0X</td>\n",
       "      <td>1</td>\n",
       "      <td>10.000000</td>\n",
       "      <td>train</td>\n",
       "      <td>1</td>\n",
       "      <td>10.0</td>\n",
       "      <td>49</td>\n",
       "    </tr>\n",
       "    <tr>\n",
       "      <th>1</th>\n",
       "      <td>538000</td>\n",
       "      <td>1</td>\n",
       "      <td>spotify:track:2MUc3zfngC6KRiJQNo5uHa</td>\n",
       "      <td>spotify:artist:4Ui2kfOqGujY81UcPrb5KE</td>\n",
       "      <td>1</td>\n",
       "      <td>9.816327</td>\n",
       "      <td>train</td>\n",
       "      <td>1</td>\n",
       "      <td>10.0</td>\n",
       "      <td>49</td>\n",
       "    </tr>\n",
       "    <tr>\n",
       "      <th>2</th>\n",
       "      <td>538000</td>\n",
       "      <td>2</td>\n",
       "      <td>spotify:track:0LviM04IykLs7JEkrZV9Xm</td>\n",
       "      <td>spotify:artist:4xFUf1FHVy696Q1JQZMTRj</td>\n",
       "      <td>1</td>\n",
       "      <td>9.632653</td>\n",
       "      <td>train</td>\n",
       "      <td>1</td>\n",
       "      <td>10.0</td>\n",
       "      <td>49</td>\n",
       "    </tr>\n",
       "    <tr>\n",
       "      <th>3</th>\n",
       "      <td>538000</td>\n",
       "      <td>3</td>\n",
       "      <td>spotify:track:10RQKVSr4rS0coExTmi4dF</td>\n",
       "      <td>spotify:artist:4xFUf1FHVy696Q1JQZMTRj</td>\n",
       "      <td>1</td>\n",
       "      <td>9.448980</td>\n",
       "      <td>train</td>\n",
       "      <td>1</td>\n",
       "      <td>10.0</td>\n",
       "      <td>49</td>\n",
       "    </tr>\n",
       "    <tr>\n",
       "      <th>4</th>\n",
       "      <td>538000</td>\n",
       "      <td>4</td>\n",
       "      <td>spotify:track:3MOUUE92JOO8UdVTszYaJ0</td>\n",
       "      <td>spotify:artist:2Sqr0DXoaYABbjBo9HaMkM</td>\n",
       "      <td>1</td>\n",
       "      <td>9.265306</td>\n",
       "      <td>train</td>\n",
       "      <td>1</td>\n",
       "      <td>10.0</td>\n",
       "      <td>49</td>\n",
       "    </tr>\n",
       "  </tbody>\n",
       "</table>\n",
       "</div>"
      ],
      "text/plain": [
       "      pid  pos                             track_uri  \\\n",
       "0  538000    0  spotify:track:5ihS6UUlyQAfmp48eSkxuQ   \n",
       "1  538000    1  spotify:track:2MUc3zfngC6KRiJQNo5uHa   \n",
       "2  538000    2  spotify:track:0LviM04IykLs7JEkrZV9Xm   \n",
       "3  538000    3  spotify:track:10RQKVSr4rS0coExTmi4dF   \n",
       "4  538000    4  spotify:track:3MOUUE92JOO8UdVTszYaJ0   \n",
       "\n",
       "                              artist_uri  binary_rating  pos_rating  \\\n",
       "0  spotify:artist:08GQAI4eElDnROBrJRGE0X              1   10.000000   \n",
       "1  spotify:artist:4Ui2kfOqGujY81UcPrb5KE              1    9.816327   \n",
       "2  spotify:artist:4xFUf1FHVy696Q1JQZMTRj              1    9.632653   \n",
       "3  spotify:artist:4xFUf1FHVy696Q1JQZMTRj              1    9.448980   \n",
       "4  spotify:artist:2Sqr0DXoaYABbjBo9HaMkM              1    9.265306   \n",
       "\n",
       "  train_test  test_first_random  seed_tracks_num  num_tracks  \n",
       "0      train                  1             10.0          49  \n",
       "1      train                  1             10.0          49  \n",
       "2      train                  1             10.0          49  \n",
       "3      train                  1             10.0          49  \n",
       "4      train                  1             10.0          49  "
      ]
     },
     "execution_count": 44,
     "metadata": {},
     "output_type": "execute_result"
    }
   ],
   "source": [
    "df.head()"
   ]
  },
  {
   "cell_type": "code",
   "execution_count": 45,
   "metadata": {},
   "outputs": [],
   "source": [
    "df_train = df[df.train_test == 'train']\n",
    "df_test_1 = df[(df.train_test == 'test') & (df.test_first_random==1)]#first x tracks\n",
    "df_test_2 = df[(df.train_test == 'test') & (df.test_first_random==0)]#random x tracks\n",
    "df_train['hold_out'] = 0"
   ]
  },
  {
   "cell_type": "code",
   "execution_count": 46,
   "metadata": {},
   "outputs": [
    {
     "data": {
      "text/plain": [
       "0"
      ]
     },
     "execution_count": 46,
     "metadata": {},
     "output_type": "execute_result"
    }
   ],
   "source": [
    "df.shape[0]-df_test_1.shape[0]-df_test_2.shape[0]-df_train.shape[0]"
   ]
  },
  {
   "cell_type": "code",
   "execution_count": 47,
   "metadata": {},
   "outputs": [
    {
     "data": {
      "text/plain": [
       "((997863, 10), (996871, 10), (4629649, 11))"
      ]
     },
     "execution_count": 47,
     "metadata": {},
     "output_type": "execute_result"
    }
   ],
   "source": [
    "df_test_1.shape, df_test_2.shape, df_train.shape"
   ]
  },
  {
   "cell_type": "code",
   "execution_count": 48,
   "metadata": {},
   "outputs": [
    {
     "data": {
      "text/html": [
       "<div>\n",
       "<style scoped>\n",
       "    .dataframe tbody tr th:only-of-type {\n",
       "        vertical-align: middle;\n",
       "    }\n",
       "\n",
       "    .dataframe tbody tr th {\n",
       "        vertical-align: top;\n",
       "    }\n",
       "\n",
       "    .dataframe thead th {\n",
       "        text-align: right;\n",
       "    }\n",
       "</style>\n",
       "<table border=\"1\" class=\"dataframe\">\n",
       "  <thead>\n",
       "    <tr style=\"text-align: right;\">\n",
       "      <th></th>\n",
       "      <th>pid</th>\n",
       "      <th>pos</th>\n",
       "      <th>track_uri</th>\n",
       "      <th>artist_uri</th>\n",
       "      <th>binary_rating</th>\n",
       "      <th>pos_rating</th>\n",
       "      <th>train_test</th>\n",
       "      <th>test_first_random</th>\n",
       "      <th>seed_tracks_num</th>\n",
       "      <th>num_tracks</th>\n",
       "      <th>hold_out</th>\n",
       "    </tr>\n",
       "  </thead>\n",
       "  <tbody>\n",
       "    <tr>\n",
       "      <th>0</th>\n",
       "      <td>538000</td>\n",
       "      <td>0</td>\n",
       "      <td>spotify:track:5ihS6UUlyQAfmp48eSkxuQ</td>\n",
       "      <td>spotify:artist:08GQAI4eElDnROBrJRGE0X</td>\n",
       "      <td>1</td>\n",
       "      <td>10.000000</td>\n",
       "      <td>train</td>\n",
       "      <td>1</td>\n",
       "      <td>10.0</td>\n",
       "      <td>49</td>\n",
       "      <td>0</td>\n",
       "    </tr>\n",
       "    <tr>\n",
       "      <th>1</th>\n",
       "      <td>538000</td>\n",
       "      <td>1</td>\n",
       "      <td>spotify:track:2MUc3zfngC6KRiJQNo5uHa</td>\n",
       "      <td>spotify:artist:4Ui2kfOqGujY81UcPrb5KE</td>\n",
       "      <td>1</td>\n",
       "      <td>9.816327</td>\n",
       "      <td>train</td>\n",
       "      <td>1</td>\n",
       "      <td>10.0</td>\n",
       "      <td>49</td>\n",
       "      <td>0</td>\n",
       "    </tr>\n",
       "    <tr>\n",
       "      <th>2</th>\n",
       "      <td>538000</td>\n",
       "      <td>2</td>\n",
       "      <td>spotify:track:0LviM04IykLs7JEkrZV9Xm</td>\n",
       "      <td>spotify:artist:4xFUf1FHVy696Q1JQZMTRj</td>\n",
       "      <td>1</td>\n",
       "      <td>9.632653</td>\n",
       "      <td>train</td>\n",
       "      <td>1</td>\n",
       "      <td>10.0</td>\n",
       "      <td>49</td>\n",
       "      <td>0</td>\n",
       "    </tr>\n",
       "    <tr>\n",
       "      <th>3</th>\n",
       "      <td>538000</td>\n",
       "      <td>3</td>\n",
       "      <td>spotify:track:10RQKVSr4rS0coExTmi4dF</td>\n",
       "      <td>spotify:artist:4xFUf1FHVy696Q1JQZMTRj</td>\n",
       "      <td>1</td>\n",
       "      <td>9.448980</td>\n",
       "      <td>train</td>\n",
       "      <td>1</td>\n",
       "      <td>10.0</td>\n",
       "      <td>49</td>\n",
       "      <td>0</td>\n",
       "    </tr>\n",
       "    <tr>\n",
       "      <th>4</th>\n",
       "      <td>538000</td>\n",
       "      <td>4</td>\n",
       "      <td>spotify:track:3MOUUE92JOO8UdVTszYaJ0</td>\n",
       "      <td>spotify:artist:2Sqr0DXoaYABbjBo9HaMkM</td>\n",
       "      <td>1</td>\n",
       "      <td>9.265306</td>\n",
       "      <td>train</td>\n",
       "      <td>1</td>\n",
       "      <td>10.0</td>\n",
       "      <td>49</td>\n",
       "      <td>0</td>\n",
       "    </tr>\n",
       "  </tbody>\n",
       "</table>\n",
       "</div>"
      ],
      "text/plain": [
       "      pid  pos                             track_uri  \\\n",
       "0  538000    0  spotify:track:5ihS6UUlyQAfmp48eSkxuQ   \n",
       "1  538000    1  spotify:track:2MUc3zfngC6KRiJQNo5uHa   \n",
       "2  538000    2  spotify:track:0LviM04IykLs7JEkrZV9Xm   \n",
       "3  538000    3  spotify:track:10RQKVSr4rS0coExTmi4dF   \n",
       "4  538000    4  spotify:track:3MOUUE92JOO8UdVTszYaJ0   \n",
       "\n",
       "                              artist_uri  binary_rating  pos_rating  \\\n",
       "0  spotify:artist:08GQAI4eElDnROBrJRGE0X              1   10.000000   \n",
       "1  spotify:artist:4Ui2kfOqGujY81UcPrb5KE              1    9.816327   \n",
       "2  spotify:artist:4xFUf1FHVy696Q1JQZMTRj              1    9.632653   \n",
       "3  spotify:artist:4xFUf1FHVy696Q1JQZMTRj              1    9.448980   \n",
       "4  spotify:artist:2Sqr0DXoaYABbjBo9HaMkM              1    9.265306   \n",
       "\n",
       "  train_test  test_first_random  seed_tracks_num  num_tracks  hold_out  \n",
       "0      train                  1             10.0          49         0  \n",
       "1      train                  1             10.0          49         0  \n",
       "2      train                  1             10.0          49         0  \n",
       "3      train                  1             10.0          49         0  \n",
       "4      train                  1             10.0          49         0  "
      ]
     },
     "execution_count": 48,
     "metadata": {},
     "output_type": "execute_result"
    }
   ],
   "source": [
    "df_train.head()"
   ]
  },
  {
   "cell_type": "code",
   "execution_count": 49,
   "metadata": {},
   "outputs": [],
   "source": [
    "#select x first tracks\n",
    "df_test_1['hold_out'] = np.where(df_test_1.pos<df_test_1.seed_tracks_num,0,1)"
   ]
  },
  {
   "cell_type": "code",
   "execution_count": 50,
   "metadata": {},
   "outputs": [],
   "source": [
    "df_test_2['hold_out_'] = np.where(df_test_2.pos<df_test_2.seed_tracks_num,0,1)"
   ]
  },
  {
   "cell_type": "code",
   "execution_count": 51,
   "metadata": {},
   "outputs": [
    {
     "data": {
      "text/plain": [
       "(997863, 11)"
      ]
     },
     "execution_count": 51,
     "metadata": {},
     "output_type": "execute_result"
    }
   ],
   "source": [
    "df_test_1.shape"
   ]
  },
  {
   "cell_type": "code",
   "execution_count": 52,
   "metadata": {},
   "outputs": [
    {
     "data": {
      "text/plain": [
       "(996871, 11)"
      ]
     },
     "execution_count": 52,
     "metadata": {},
     "output_type": "execute_result"
    }
   ],
   "source": [
    "df_test_2.shape"
   ]
  },
  {
   "cell_type": "code",
   "execution_count": 53,
   "metadata": {},
   "outputs": [],
   "source": [
    "D_seed_tracks={}\n",
    "for index, row in pids.iterrows():\n",
    "    D_seed_tracks[row['pid']] = row['seed_tracks_num']"
   ]
  },
  {
   "cell_type": "code",
   "execution_count": 54,
   "metadata": {},
   "outputs": [],
   "source": [
    "D_num_rows={}\n",
    "for index, row in pids.iterrows():\n",
    "    D_num_rows[row['pid']] = row['num_tracks']+1"
   ]
  },
  {
   "cell_type": "code",
   "execution_count": 55,
   "metadata": {},
   "outputs": [],
   "source": [
    "D_num_rows_sorted={}\n",
    "for el in list(df_test_2.pid.unique()):\n",
    "    D_num_rows_sorted[el] = D_num_rows[el]"
   ]
  },
  {
   "cell_type": "code",
   "execution_count": 56,
   "metadata": {},
   "outputs": [],
   "source": [
    "D_seed_tracks_sorted={}\n",
    "for el in list(df_test_2.pid.unique()):\n",
    "    D_seed_tracks_sorted[el] = D_seed_tracks[el]"
   ]
  },
  {
   "cell_type": "code",
   "execution_count": 57,
   "metadata": {},
   "outputs": [],
   "source": [
    "hold_out_list = []\n",
    "for i,el in enumerate(list(df_test_2.pid.unique())):\n",
    "    l=[0]*int(D_seed_tracks_sorted[el]) + [1]*(int(D_num_rows_sorted[el])-int(D_seed_tracks_sorted[el]))\n",
    "    random.shuffle(l)\n",
    "    hold_out_list.extend(l)"
   ]
  },
  {
   "cell_type": "code",
   "execution_count": 58,
   "metadata": {},
   "outputs": [
    {
     "data": {
      "text/plain": [
       "996871"
      ]
     },
     "execution_count": 58,
     "metadata": {},
     "output_type": "execute_result"
    }
   ],
   "source": [
    "len(hold_out_list)"
   ]
  },
  {
   "cell_type": "code",
   "execution_count": 59,
   "metadata": {},
   "outputs": [
    {
     "data": {
      "text/html": [
       "<div>\n",
       "<style scoped>\n",
       "    .dataframe tbody tr th:only-of-type {\n",
       "        vertical-align: middle;\n",
       "    }\n",
       "\n",
       "    .dataframe tbody tr th {\n",
       "        vertical-align: top;\n",
       "    }\n",
       "\n",
       "    .dataframe thead th {\n",
       "        text-align: right;\n",
       "    }\n",
       "</style>\n",
       "<table border=\"1\" class=\"dataframe\">\n",
       "  <thead>\n",
       "    <tr style=\"text-align: right;\">\n",
       "      <th></th>\n",
       "      <th>pid</th>\n",
       "      <th>pos</th>\n",
       "      <th>track_uri</th>\n",
       "      <th>artist_uri</th>\n",
       "      <th>binary_rating</th>\n",
       "      <th>pos_rating</th>\n",
       "      <th>train_test</th>\n",
       "      <th>test_first_random</th>\n",
       "      <th>seed_tracks_num</th>\n",
       "      <th>num_tracks</th>\n",
       "      <th>hold_out_</th>\n",
       "      <th>hold_out</th>\n",
       "    </tr>\n",
       "  </thead>\n",
       "  <tbody>\n",
       "    <tr>\n",
       "      <th>137</th>\n",
       "      <td>538002</td>\n",
       "      <td>0</td>\n",
       "      <td>spotify:track:5jZ1Z2GFTf2gwmFc3qiUxs</td>\n",
       "      <td>spotify:artist:55VydwMyCuGcavwPuhutPL</td>\n",
       "      <td>1</td>\n",
       "      <td>10.000000</td>\n",
       "      <td>test</td>\n",
       "      <td>0</td>\n",
       "      <td>5.0</td>\n",
       "      <td>41</td>\n",
       "      <td>0</td>\n",
       "      <td>1</td>\n",
       "    </tr>\n",
       "    <tr>\n",
       "      <th>138</th>\n",
       "      <td>538002</td>\n",
       "      <td>1</td>\n",
       "      <td>spotify:track:4Q4w8aRdfhIIEhBututktL</td>\n",
       "      <td>spotify:artist:16nn7kCHPWIB6uK09GQCNI</td>\n",
       "      <td>1</td>\n",
       "      <td>9.780488</td>\n",
       "      <td>test</td>\n",
       "      <td>0</td>\n",
       "      <td>5.0</td>\n",
       "      <td>41</td>\n",
       "      <td>0</td>\n",
       "      <td>1</td>\n",
       "    </tr>\n",
       "    <tr>\n",
       "      <th>139</th>\n",
       "      <td>538002</td>\n",
       "      <td>2</td>\n",
       "      <td>spotify:track:7rSERmjAT38lC5QhJ8hnQc</td>\n",
       "      <td>spotify:artist:7w9jdhcgHNdiPeNPUoFSlx</td>\n",
       "      <td>1</td>\n",
       "      <td>9.560976</td>\n",
       "      <td>test</td>\n",
       "      <td>0</td>\n",
       "      <td>5.0</td>\n",
       "      <td>41</td>\n",
       "      <td>0</td>\n",
       "      <td>1</td>\n",
       "    </tr>\n",
       "    <tr>\n",
       "      <th>140</th>\n",
       "      <td>538002</td>\n",
       "      <td>3</td>\n",
       "      <td>spotify:track:3OP1o4AftpddkowNeZLa4F</td>\n",
       "      <td>spotify:artist:5kQGFREO5FzMBMsAO3cEtj</td>\n",
       "      <td>1</td>\n",
       "      <td>9.341463</td>\n",
       "      <td>test</td>\n",
       "      <td>0</td>\n",
       "      <td>5.0</td>\n",
       "      <td>41</td>\n",
       "      <td>0</td>\n",
       "      <td>1</td>\n",
       "    </tr>\n",
       "    <tr>\n",
       "      <th>141</th>\n",
       "      <td>538002</td>\n",
       "      <td>4</td>\n",
       "      <td>spotify:track:7KzNRNvOd2kbaRpOm9ENDE</td>\n",
       "      <td>spotify:artist:55VydwMyCuGcavwPuhutPL</td>\n",
       "      <td>1</td>\n",
       "      <td>9.121951</td>\n",
       "      <td>test</td>\n",
       "      <td>0</td>\n",
       "      <td>5.0</td>\n",
       "      <td>41</td>\n",
       "      <td>0</td>\n",
       "      <td>1</td>\n",
       "    </tr>\n",
       "  </tbody>\n",
       "</table>\n",
       "</div>"
      ],
      "text/plain": [
       "        pid  pos                             track_uri  \\\n",
       "137  538002    0  spotify:track:5jZ1Z2GFTf2gwmFc3qiUxs   \n",
       "138  538002    1  spotify:track:4Q4w8aRdfhIIEhBututktL   \n",
       "139  538002    2  spotify:track:7rSERmjAT38lC5QhJ8hnQc   \n",
       "140  538002    3  spotify:track:3OP1o4AftpddkowNeZLa4F   \n",
       "141  538002    4  spotify:track:7KzNRNvOd2kbaRpOm9ENDE   \n",
       "\n",
       "                                artist_uri  binary_rating  pos_rating  \\\n",
       "137  spotify:artist:55VydwMyCuGcavwPuhutPL              1   10.000000   \n",
       "138  spotify:artist:16nn7kCHPWIB6uK09GQCNI              1    9.780488   \n",
       "139  spotify:artist:7w9jdhcgHNdiPeNPUoFSlx              1    9.560976   \n",
       "140  spotify:artist:5kQGFREO5FzMBMsAO3cEtj              1    9.341463   \n",
       "141  spotify:artist:55VydwMyCuGcavwPuhutPL              1    9.121951   \n",
       "\n",
       "    train_test  test_first_random  seed_tracks_num  num_tracks  hold_out_  \\\n",
       "137       test                  0              5.0          41          0   \n",
       "138       test                  0              5.0          41          0   \n",
       "139       test                  0              5.0          41          0   \n",
       "140       test                  0              5.0          41          0   \n",
       "141       test                  0              5.0          41          0   \n",
       "\n",
       "     hold_out  \n",
       "137         1  \n",
       "138         1  \n",
       "139         1  \n",
       "140         1  \n",
       "141         1  "
      ]
     },
     "execution_count": 59,
     "metadata": {},
     "output_type": "execute_result"
    }
   ],
   "source": [
    "df_test_2['hold_out']=hold_out_list\n",
    "df_test_2.head()"
   ]
  },
  {
   "cell_type": "code",
   "execution_count": 60,
   "metadata": {},
   "outputs": [],
   "source": [
    "df_test_2.drop(columns=['hold_out_'], inplace=True)"
   ]
  },
  {
   "cell_type": "code",
   "execution_count": 61,
   "metadata": {},
   "outputs": [
    {
     "data": {
      "text/html": [
       "<div>\n",
       "<style scoped>\n",
       "    .dataframe tbody tr th:only-of-type {\n",
       "        vertical-align: middle;\n",
       "    }\n",
       "\n",
       "    .dataframe tbody tr th {\n",
       "        vertical-align: top;\n",
       "    }\n",
       "\n",
       "    .dataframe thead th {\n",
       "        text-align: right;\n",
       "    }\n",
       "</style>\n",
       "<table border=\"1\" class=\"dataframe\">\n",
       "  <thead>\n",
       "    <tr style=\"text-align: right;\">\n",
       "      <th></th>\n",
       "      <th>pid</th>\n",
       "      <th>pos</th>\n",
       "      <th>track_uri</th>\n",
       "      <th>artist_uri</th>\n",
       "      <th>binary_rating</th>\n",
       "      <th>pos_rating</th>\n",
       "      <th>train_test</th>\n",
       "      <th>test_first_random</th>\n",
       "      <th>seed_tracks_num</th>\n",
       "      <th>num_tracks</th>\n",
       "      <th>hold_out</th>\n",
       "    </tr>\n",
       "  </thead>\n",
       "  <tbody>\n",
       "    <tr>\n",
       "      <th>137</th>\n",
       "      <td>538002</td>\n",
       "      <td>0</td>\n",
       "      <td>spotify:track:5jZ1Z2GFTf2gwmFc3qiUxs</td>\n",
       "      <td>spotify:artist:55VydwMyCuGcavwPuhutPL</td>\n",
       "      <td>1</td>\n",
       "      <td>10.000000</td>\n",
       "      <td>test</td>\n",
       "      <td>0</td>\n",
       "      <td>5.0</td>\n",
       "      <td>41</td>\n",
       "      <td>1</td>\n",
       "    </tr>\n",
       "    <tr>\n",
       "      <th>138</th>\n",
       "      <td>538002</td>\n",
       "      <td>1</td>\n",
       "      <td>spotify:track:4Q4w8aRdfhIIEhBututktL</td>\n",
       "      <td>spotify:artist:16nn7kCHPWIB6uK09GQCNI</td>\n",
       "      <td>1</td>\n",
       "      <td>9.780488</td>\n",
       "      <td>test</td>\n",
       "      <td>0</td>\n",
       "      <td>5.0</td>\n",
       "      <td>41</td>\n",
       "      <td>1</td>\n",
       "    </tr>\n",
       "    <tr>\n",
       "      <th>139</th>\n",
       "      <td>538002</td>\n",
       "      <td>2</td>\n",
       "      <td>spotify:track:7rSERmjAT38lC5QhJ8hnQc</td>\n",
       "      <td>spotify:artist:7w9jdhcgHNdiPeNPUoFSlx</td>\n",
       "      <td>1</td>\n",
       "      <td>9.560976</td>\n",
       "      <td>test</td>\n",
       "      <td>0</td>\n",
       "      <td>5.0</td>\n",
       "      <td>41</td>\n",
       "      <td>1</td>\n",
       "    </tr>\n",
       "    <tr>\n",
       "      <th>140</th>\n",
       "      <td>538002</td>\n",
       "      <td>3</td>\n",
       "      <td>spotify:track:3OP1o4AftpddkowNeZLa4F</td>\n",
       "      <td>spotify:artist:5kQGFREO5FzMBMsAO3cEtj</td>\n",
       "      <td>1</td>\n",
       "      <td>9.341463</td>\n",
       "      <td>test</td>\n",
       "      <td>0</td>\n",
       "      <td>5.0</td>\n",
       "      <td>41</td>\n",
       "      <td>1</td>\n",
       "    </tr>\n",
       "    <tr>\n",
       "      <th>141</th>\n",
       "      <td>538002</td>\n",
       "      <td>4</td>\n",
       "      <td>spotify:track:7KzNRNvOd2kbaRpOm9ENDE</td>\n",
       "      <td>spotify:artist:55VydwMyCuGcavwPuhutPL</td>\n",
       "      <td>1</td>\n",
       "      <td>9.121951</td>\n",
       "      <td>test</td>\n",
       "      <td>0</td>\n",
       "      <td>5.0</td>\n",
       "      <td>41</td>\n",
       "      <td>1</td>\n",
       "    </tr>\n",
       "  </tbody>\n",
       "</table>\n",
       "</div>"
      ],
      "text/plain": [
       "        pid  pos                             track_uri  \\\n",
       "137  538002    0  spotify:track:5jZ1Z2GFTf2gwmFc3qiUxs   \n",
       "138  538002    1  spotify:track:4Q4w8aRdfhIIEhBututktL   \n",
       "139  538002    2  spotify:track:7rSERmjAT38lC5QhJ8hnQc   \n",
       "140  538002    3  spotify:track:3OP1o4AftpddkowNeZLa4F   \n",
       "141  538002    4  spotify:track:7KzNRNvOd2kbaRpOm9ENDE   \n",
       "\n",
       "                                artist_uri  binary_rating  pos_rating  \\\n",
       "137  spotify:artist:55VydwMyCuGcavwPuhutPL              1   10.000000   \n",
       "138  spotify:artist:16nn7kCHPWIB6uK09GQCNI              1    9.780488   \n",
       "139  spotify:artist:7w9jdhcgHNdiPeNPUoFSlx              1    9.560976   \n",
       "140  spotify:artist:5kQGFREO5FzMBMsAO3cEtj              1    9.341463   \n",
       "141  spotify:artist:55VydwMyCuGcavwPuhutPL              1    9.121951   \n",
       "\n",
       "    train_test  test_first_random  seed_tracks_num  num_tracks  hold_out  \n",
       "137       test                  0              5.0          41         1  \n",
       "138       test                  0              5.0          41         1  \n",
       "139       test                  0              5.0          41         1  \n",
       "140       test                  0              5.0          41         1  \n",
       "141       test                  0              5.0          41         1  "
      ]
     },
     "execution_count": 61,
     "metadata": {},
     "output_type": "execute_result"
    }
   ],
   "source": [
    "df_test_2.head()"
   ]
  },
  {
   "cell_type": "code",
   "execution_count": 62,
   "metadata": {},
   "outputs": [],
   "source": [
    "df2=df_train.append([df_test_1,df_test_2])"
   ]
  },
  {
   "cell_type": "code",
   "execution_count": 63,
   "metadata": {},
   "outputs": [
    {
     "data": {
      "text/plain": [
       "((6624383, 11), (6624383, 10))"
      ]
     },
     "execution_count": 63,
     "metadata": {},
     "output_type": "execute_result"
    }
   ],
   "source": [
    "df2.shape, df.shape"
   ]
  },
  {
   "cell_type": "code",
   "execution_count": 64,
   "metadata": {},
   "outputs": [
    {
     "name": "stderr",
     "output_type": "stream",
     "text": [
      "<ipython-input-64-b6a8a00cedea>:1: FutureWarning: Indexing with multiple keys (implicitly converted to a tuple of keys) will be deprecated, use a list instead.\n",
      "  temp = df_test_1.groupby('pid')['hold_out','num_tracks'].agg({'hold_out':'sum','num_tracks':'max'})\n"
     ]
    }
   ],
   "source": [
    "temp = df_test_1.groupby('pid')['hold_out','num_tracks'].agg({'hold_out':'sum','num_tracks':'max'})\n",
    "temp['num_tracks']=temp['num_tracks']+1"
   ]
  },
  {
   "cell_type": "code",
   "execution_count": 65,
   "metadata": {},
   "outputs": [
    {
     "data": {
      "text/html": [
       "<div>\n",
       "<style scoped>\n",
       "    .dataframe tbody tr th:only-of-type {\n",
       "        vertical-align: middle;\n",
       "    }\n",
       "\n",
       "    .dataframe tbody tr th {\n",
       "        vertical-align: top;\n",
       "    }\n",
       "\n",
       "    .dataframe thead th {\n",
       "        text-align: right;\n",
       "    }\n",
       "</style>\n",
       "<table border=\"1\" class=\"dataframe\">\n",
       "  <thead>\n",
       "    <tr style=\"text-align: right;\">\n",
       "      <th></th>\n",
       "      <th>hold_out</th>\n",
       "      <th>num_tracks</th>\n",
       "    </tr>\n",
       "    <tr>\n",
       "      <th>pid</th>\n",
       "      <th></th>\n",
       "      <th></th>\n",
       "    </tr>\n",
       "  </thead>\n",
       "  <tbody>\n",
       "  </tbody>\n",
       "</table>\n",
       "</div>"
      ],
      "text/plain": [
       "Empty DataFrame\n",
       "Columns: [hold_out, num_tracks]\n",
       "Index: []"
      ]
     },
     "execution_count": 65,
     "metadata": {},
     "output_type": "execute_result"
    }
   ],
   "source": [
    "temp[temp['hold_out']>=temp['num_tracks']]"
   ]
  },
  {
   "cell_type": "code",
   "execution_count": 66,
   "metadata": {},
   "outputs": [
    {
     "data": {
      "text/html": [
       "<div>\n",
       "<style scoped>\n",
       "    .dataframe tbody tr th:only-of-type {\n",
       "        vertical-align: middle;\n",
       "    }\n",
       "\n",
       "    .dataframe tbody tr th {\n",
       "        vertical-align: top;\n",
       "    }\n",
       "\n",
       "    .dataframe thead th {\n",
       "        text-align: right;\n",
       "    }\n",
       "</style>\n",
       "<table border=\"1\" class=\"dataframe\">\n",
       "  <thead>\n",
       "    <tr style=\"text-align: right;\">\n",
       "      <th></th>\n",
       "      <th>hold_out</th>\n",
       "      <th>num_tracks</th>\n",
       "    </tr>\n",
       "    <tr>\n",
       "      <th>pid</th>\n",
       "      <th></th>\n",
       "      <th></th>\n",
       "    </tr>\n",
       "  </thead>\n",
       "  <tbody>\n",
       "  </tbody>\n",
       "</table>\n",
       "</div>"
      ],
      "text/plain": [
       "Empty DataFrame\n",
       "Columns: [hold_out, num_tracks]\n",
       "Index: []"
      ]
     },
     "execution_count": 66,
     "metadata": {},
     "output_type": "execute_result"
    }
   ],
   "source": [
    "temp[temp['hold_out']==0]"
   ]
  },
  {
   "cell_type": "code",
   "execution_count": 67,
   "metadata": {},
   "outputs": [
    {
     "data": {
      "text/html": [
       "<div>\n",
       "<style scoped>\n",
       "    .dataframe tbody tr th:only-of-type {\n",
       "        vertical-align: middle;\n",
       "    }\n",
       "\n",
       "    .dataframe tbody tr th {\n",
       "        vertical-align: top;\n",
       "    }\n",
       "\n",
       "    .dataframe thead th {\n",
       "        text-align: right;\n",
       "    }\n",
       "</style>\n",
       "<table border=\"1\" class=\"dataframe\">\n",
       "  <thead>\n",
       "    <tr style=\"text-align: right;\">\n",
       "      <th></th>\n",
       "      <th>pid</th>\n",
       "      <th>pos</th>\n",
       "      <th>track_uri</th>\n",
       "      <th>artist_uri</th>\n",
       "      <th>binary_rating</th>\n",
       "      <th>pos_rating</th>\n",
       "      <th>train_test</th>\n",
       "      <th>test_first_random</th>\n",
       "      <th>seed_tracks_num</th>\n",
       "      <th>num_tracks</th>\n",
       "      <th>hold_out</th>\n",
       "    </tr>\n",
       "  </thead>\n",
       "  <tbody>\n",
       "    <tr>\n",
       "      <th>0</th>\n",
       "      <td>538000</td>\n",
       "      <td>0</td>\n",
       "      <td>spotify:track:5ihS6UUlyQAfmp48eSkxuQ</td>\n",
       "      <td>spotify:artist:08GQAI4eElDnROBrJRGE0X</td>\n",
       "      <td>1</td>\n",
       "      <td>10.000000</td>\n",
       "      <td>train</td>\n",
       "      <td>1</td>\n",
       "      <td>10.0</td>\n",
       "      <td>49</td>\n",
       "      <td>0</td>\n",
       "    </tr>\n",
       "    <tr>\n",
       "      <th>1</th>\n",
       "      <td>538000</td>\n",
       "      <td>1</td>\n",
       "      <td>spotify:track:2MUc3zfngC6KRiJQNo5uHa</td>\n",
       "      <td>spotify:artist:4Ui2kfOqGujY81UcPrb5KE</td>\n",
       "      <td>1</td>\n",
       "      <td>9.816327</td>\n",
       "      <td>train</td>\n",
       "      <td>1</td>\n",
       "      <td>10.0</td>\n",
       "      <td>49</td>\n",
       "      <td>0</td>\n",
       "    </tr>\n",
       "    <tr>\n",
       "      <th>2</th>\n",
       "      <td>538000</td>\n",
       "      <td>2</td>\n",
       "      <td>spotify:track:0LviM04IykLs7JEkrZV9Xm</td>\n",
       "      <td>spotify:artist:4xFUf1FHVy696Q1JQZMTRj</td>\n",
       "      <td>1</td>\n",
       "      <td>9.632653</td>\n",
       "      <td>train</td>\n",
       "      <td>1</td>\n",
       "      <td>10.0</td>\n",
       "      <td>49</td>\n",
       "      <td>0</td>\n",
       "    </tr>\n",
       "    <tr>\n",
       "      <th>3</th>\n",
       "      <td>538000</td>\n",
       "      <td>3</td>\n",
       "      <td>spotify:track:10RQKVSr4rS0coExTmi4dF</td>\n",
       "      <td>spotify:artist:4xFUf1FHVy696Q1JQZMTRj</td>\n",
       "      <td>1</td>\n",
       "      <td>9.448980</td>\n",
       "      <td>train</td>\n",
       "      <td>1</td>\n",
       "      <td>10.0</td>\n",
       "      <td>49</td>\n",
       "      <td>0</td>\n",
       "    </tr>\n",
       "    <tr>\n",
       "      <th>4</th>\n",
       "      <td>538000</td>\n",
       "      <td>4</td>\n",
       "      <td>spotify:track:3MOUUE92JOO8UdVTszYaJ0</td>\n",
       "      <td>spotify:artist:2Sqr0DXoaYABbjBo9HaMkM</td>\n",
       "      <td>1</td>\n",
       "      <td>9.265306</td>\n",
       "      <td>train</td>\n",
       "      <td>1</td>\n",
       "      <td>10.0</td>\n",
       "      <td>49</td>\n",
       "      <td>0</td>\n",
       "    </tr>\n",
       "  </tbody>\n",
       "</table>\n",
       "</div>"
      ],
      "text/plain": [
       "      pid  pos                             track_uri  \\\n",
       "0  538000    0  spotify:track:5ihS6UUlyQAfmp48eSkxuQ   \n",
       "1  538000    1  spotify:track:2MUc3zfngC6KRiJQNo5uHa   \n",
       "2  538000    2  spotify:track:0LviM04IykLs7JEkrZV9Xm   \n",
       "3  538000    3  spotify:track:10RQKVSr4rS0coExTmi4dF   \n",
       "4  538000    4  spotify:track:3MOUUE92JOO8UdVTszYaJ0   \n",
       "\n",
       "                              artist_uri  binary_rating  pos_rating  \\\n",
       "0  spotify:artist:08GQAI4eElDnROBrJRGE0X              1   10.000000   \n",
       "1  spotify:artist:4Ui2kfOqGujY81UcPrb5KE              1    9.816327   \n",
       "2  spotify:artist:4xFUf1FHVy696Q1JQZMTRj              1    9.632653   \n",
       "3  spotify:artist:4xFUf1FHVy696Q1JQZMTRj              1    9.448980   \n",
       "4  spotify:artist:2Sqr0DXoaYABbjBo9HaMkM              1    9.265306   \n",
       "\n",
       "  train_test  test_first_random  seed_tracks_num  num_tracks  hold_out  \n",
       "0      train                  1             10.0          49         0  \n",
       "1      train                  1             10.0          49         0  \n",
       "2      train                  1             10.0          49         0  \n",
       "3      train                  1             10.0          49         0  \n",
       "4      train                  1             10.0          49         0  "
      ]
     },
     "execution_count": 67,
     "metadata": {},
     "output_type": "execute_result"
    }
   ],
   "source": [
    "df2.head()"
   ]
  },
  {
   "cell_type": "code",
   "execution_count": 70,
   "metadata": {},
   "outputs": [],
   "source": [
    "df2.to_csv('../data-processed/scale-down/pid-track-ratings-train-test-tags-scaled.csv', index = None)"
   ]
  },
  {
   "cell_type": "code",
   "execution_count": 71,
   "metadata": {},
   "outputs": [],
   "source": [
    "df2[df2['hold_out'] == 0][['pid','track_uri','binary_rating']].to_csv('../data-processed/scale-down/pid-track-binary-rating-train-data-scaled.csv', index = None)"
   ]
  },
  {
   "cell_type": "code",
   "execution_count": 72,
   "metadata": {},
   "outputs": [],
   "source": [
    "evaluation_pids_ground_truth = df2[df2.train_test == 'test'][['pid','pos','track_uri','hold_out','test_first_random']]"
   ]
  },
  {
   "cell_type": "code",
   "execution_count": 73,
   "metadata": {},
   "outputs": [],
   "source": [
    "evaluation_pids_ground_truth['seed_pattern'] = evaluation_pids_ground_truth['test_first_random'].map({1:'first n', 0:'random n'})"
   ]
  },
  {
   "cell_type": "code",
   "execution_count": 74,
   "metadata": {},
   "outputs": [],
   "source": [
    "evaluation_pids_ground_truth[['pid','pos','track_uri','hold_out','seed_pattern']].to_csv('../data-processed/scale-down/evaluation-pids-ground-truth-scaled.csv', index = None)"
   ]
  },
  {
   "cell_type": "code",
   "execution_count": 76,
   "metadata": {},
   "outputs": [],
   "source": [
    "import pandas as pd\n",
    "tracks_train_set=pd.read_csv('../data-processed/scale-down/pid-track-binary-rating-train-data-scaled.csv')"
   ]
  },
  {
   "cell_type": "code",
   "execution_count": 77,
   "metadata": {},
   "outputs": [
    {
     "data": {
      "text/html": [
       "<div>\n",
       "<style scoped>\n",
       "    .dataframe tbody tr th:only-of-type {\n",
       "        vertical-align: middle;\n",
       "    }\n",
       "\n",
       "    .dataframe tbody tr th {\n",
       "        vertical-align: top;\n",
       "    }\n",
       "\n",
       "    .dataframe thead th {\n",
       "        text-align: right;\n",
       "    }\n",
       "</style>\n",
       "<table border=\"1\" class=\"dataframe\">\n",
       "  <thead>\n",
       "    <tr style=\"text-align: right;\">\n",
       "      <th></th>\n",
       "      <th>pid</th>\n",
       "      <th>track_uri</th>\n",
       "      <th>binary_rating</th>\n",
       "    </tr>\n",
       "  </thead>\n",
       "  <tbody>\n",
       "    <tr>\n",
       "      <th>0</th>\n",
       "      <td>538000</td>\n",
       "      <td>spotify:track:5ihS6UUlyQAfmp48eSkxuQ</td>\n",
       "      <td>1</td>\n",
       "    </tr>\n",
       "    <tr>\n",
       "      <th>1</th>\n",
       "      <td>538000</td>\n",
       "      <td>spotify:track:2MUc3zfngC6KRiJQNo5uHa</td>\n",
       "      <td>1</td>\n",
       "    </tr>\n",
       "    <tr>\n",
       "      <th>2</th>\n",
       "      <td>538000</td>\n",
       "      <td>spotify:track:0LviM04IykLs7JEkrZV9Xm</td>\n",
       "      <td>1</td>\n",
       "    </tr>\n",
       "    <tr>\n",
       "      <th>3</th>\n",
       "      <td>538000</td>\n",
       "      <td>spotify:track:10RQKVSr4rS0coExTmi4dF</td>\n",
       "      <td>1</td>\n",
       "    </tr>\n",
       "    <tr>\n",
       "      <th>4</th>\n",
       "      <td>538000</td>\n",
       "      <td>spotify:track:3MOUUE92JOO8UdVTszYaJ0</td>\n",
       "      <td>1</td>\n",
       "    </tr>\n",
       "  </tbody>\n",
       "</table>\n",
       "</div>"
      ],
      "text/plain": [
       "      pid                             track_uri  binary_rating\n",
       "0  538000  spotify:track:5ihS6UUlyQAfmp48eSkxuQ              1\n",
       "1  538000  spotify:track:2MUc3zfngC6KRiJQNo5uHa              1\n",
       "2  538000  spotify:track:0LviM04IykLs7JEkrZV9Xm              1\n",
       "3  538000  spotify:track:10RQKVSr4rS0coExTmi4dF              1\n",
       "4  538000  spotify:track:3MOUUE92JOO8UdVTszYaJ0              1"
      ]
     },
     "execution_count": 77,
     "metadata": {},
     "output_type": "execute_result"
    }
   ],
   "source": [
    "tracks_train_set.head()"
   ]
  },
  {
   "cell_type": "code",
   "execution_count": 78,
   "metadata": {},
   "outputs": [
    {
     "data": {
      "text/plain": [
       "(597313, 1)"
      ]
     },
     "execution_count": 78,
     "metadata": {},
     "output_type": "execute_result"
    }
   ],
   "source": [
    "pd.DataFrame(list(tracks_train_set.track_uri.unique()), columns=['track_uri']).shape"
   ]
  },
  {
   "cell_type": "code",
   "execution_count": 79,
   "metadata": {},
   "outputs": [],
   "source": [
    "pd.DataFrame(list(tracks_train_set.track_uri.unique()), columns=['track_uri']).to_csv('../data-processed/scale-down/track-uri-train-data-scaled.csv', index = None)"
   ]
  }
 ],
 "metadata": {
  "kernelspec": {
   "display_name": "Python 3",
   "language": "python",
   "name": "python3"
  },
  "language_info": {
   "codemirror_mode": {
    "name": "ipython",
    "version": 3
   },
   "file_extension": ".py",
   "mimetype": "text/x-python",
   "name": "python",
   "nbconvert_exporter": "python",
   "pygments_lexer": "ipython3",
   "version": "3.8.3"
  }
 },
 "nbformat": 4,
 "nbformat_minor": 4
}
