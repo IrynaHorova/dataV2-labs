{
 "cells": [
  {
   "cell_type": "markdown",
   "metadata": {},
   "source": [
    "# Build dictionaries for fast quering of data"
   ]
  },
  {
   "cell_type": "code",
   "execution_count": 2,
   "metadata": {},
   "outputs": [],
   "source": [
    "import json\n",
    "import numpy as np\n",
    "from time import time\n",
    "import pandas as pd\n",
    "from pandas.io.json import json_normalize\n",
    "import os\n",
    "import random\n",
    "import gc"
   ]
  },
  {
   "cell_type": "code",
   "execution_count": 2,
   "metadata": {},
   "outputs": [
    {
     "data": {
      "text/plain": [
       "212"
      ]
     },
     "execution_count": 2,
     "metadata": {},
     "output_type": "execute_result"
    }
   ],
   "source": [
    "gc.collect()"
   ]
  },
  {
   "cell_type": "markdown",
   "metadata": {},
   "source": [
    "# Reading track_uri"
   ]
  },
  {
   "cell_type": "code",
   "execution_count": 5,
   "metadata": {},
   "outputs": [],
   "source": [
    "path = '../dataset/spotify_million_playlist_dataset/data/'\n",
    "path2 = '../data-processed/full-data/track_uris.csv'"
   ]
  },
  {
   "cell_type": "code",
   "execution_count": 5,
   "metadata": {},
   "outputs": [],
   "source": [
    "tracks=pd.read_csv(path2)\n",
    "tracks_l = tracks['0'].unique()"
   ]
  },
  {
   "cell_type": "markdown",
   "metadata": {},
   "source": [
    "# track_uri with track_name, artist_name, album_name"
   ]
  },
  {
   "cell_type": "code",
   "execution_count": 41,
   "metadata": {},
   "outputs": [
    {
     "name": "stdout",
     "output_type": "stream",
     "text": [
      "mpd.slice.0-999.json 0\n",
      "mpd.slice.189000-189999.json 100\n",
      "mpd.slice.279000-279999.json 200\n",
      "mpd.slice.369000-369999.json 300\n",
      "mpd.slice.459000-459999.json 400\n",
      "mpd.slice.549000-549999.json 500\n",
      "mpd.slice.639000-639999.json 600\n",
      "mpd.slice.729000-729999.json 700\n",
      "mpd.slice.819000-819999.json 800\n",
      "mpd.slice.909000-909999.json 900\n",
      "Time taken: 18.302410459518434\n"
     ]
    }
   ],
   "source": [
    "t0 = time()\n",
    "\n",
    "T={}\n",
    "for t in tracks_l:\n",
    "    T[t] = 0\n",
    "\n",
    "samp = 1000\n",
    "\n",
    "filenames = os.listdir(path)\n",
    "D={}\n",
    "for i, filename in enumerate(sorted(filenames)[:samp]):\n",
    "    if filename.startswith(\"mpd.slice.\") and filename.endswith(\".json\"):\n",
    "        fullpath = os.sep.join((path, filename))\n",
    "        f = open(fullpath)\n",
    "        js = f.read()\n",
    "        f.close()\n",
    "        mpd_slice = json.loads(js)\n",
    "        for playlist in mpd_slice['playlists']:\n",
    "            for track in playlist['tracks']:\n",
    "                if T[track['track_uri']] == 0:\n",
    "                    D[track['track_uri']] =[track['track_name'],track['artist_name'],track[\"album_name\"]]\n",
    "                    T[track['track_uri']] == 1           \n",
    "    if i%100==0:\n",
    "        print(filename, i)\n",
    "\n",
    "    # Time diff\n",
    "print(f\"Time taken: {(time()-t0)/60}\")"
   ]
  },
  {
   "cell_type": "code",
   "execution_count": 43,
   "metadata": {},
   "outputs": [],
   "source": [
    "import json\n",
    "\n",
    "dict = D\n",
    "\n",
    "with open('../data-processed/full-data/track_descriptions.json', 'w') as fp:\n",
    "    json.dump(dict, fp)"
   ]
  },
  {
   "cell_type": "markdown",
   "metadata": {},
   "source": [
    "# track_uri with artist_uri, album_uri"
   ]
  },
  {
   "cell_type": "code",
   "execution_count": 10,
   "metadata": {},
   "outputs": [
    {
     "name": "stdout",
     "output_type": "stream",
     "text": [
      "mpd.slice.0-999.json 0\n",
      "mpd.slice.189000-189999.json 100\n",
      "mpd.slice.279000-279999.json 200\n",
      "mpd.slice.369000-369999.json 300\n",
      "mpd.slice.459000-459999.json 400\n",
      "mpd.slice.549000-549999.json 500\n",
      "mpd.slice.639000-639999.json 600\n",
      "mpd.slice.729000-729999.json 700\n",
      "mpd.slice.819000-819999.json 800\n",
      "mpd.slice.909000-909999.json 900\n",
      "Time taken: 10.771271940072378\n"
     ]
    }
   ],
   "source": [
    "t0 = time()\n",
    "\n",
    "T={}\n",
    "for t in tracks_l:\n",
    "    T[t] = 0\n",
    "\n",
    "samp = 1000\n",
    "\n",
    "filenames = os.listdir(path)\n",
    "D={}\n",
    "for i, filename in enumerate(sorted(filenames)[:samp]):\n",
    "    if filename.startswith(\"mpd.slice.\") and filename.endswith(\".json\"):\n",
    "        fullpath = os.sep.join((path, filename))\n",
    "        f = open(fullpath)\n",
    "        js = f.read()\n",
    "        f.close()\n",
    "        mpd_slice = json.loads(js)\n",
    "        for playlist in mpd_slice['playlists']:\n",
    "            for track in playlist['tracks']:\n",
    "                if T[track['track_uri']] == 0:\n",
    "                    D[track['track_uri']] = [track['artist_uri'],track[\"album_uri\"]]\n",
    "                    T[track['track_uri']] == 1           \n",
    "    if i%100==0:\n",
    "        print(filename, i)\n",
    "\n",
    "    # Time diff\n",
    "print(f\"Time taken: {(time()-t0)/60}\")"
   ]
  },
  {
   "cell_type": "code",
   "execution_count": 11,
   "metadata": {},
   "outputs": [],
   "source": [
    "import json\n",
    "\n",
    "dict = D\n",
    "\n",
    "with open('../data-processed/full-data/track_artist_album.json', 'w') as fp:\n",
    "    json.dump(dict, fp)"
   ]
  },
  {
   "cell_type": "markdown",
   "metadata": {},
   "source": [
    "# all pids with track_uris"
   ]
  },
  {
   "cell_type": "code",
   "execution_count": 10,
   "metadata": {},
   "outputs": [
    {
     "name": "stdout",
     "output_type": "stream",
     "text": [
      "mpd.slice.0-999.json 0\n",
      "mpd.slice.189000-189999.json 100\n",
      "mpd.slice.279000-279999.json 200\n",
      "mpd.slice.369000-369999.json 300\n",
      "mpd.slice.459000-459999.json 400\n",
      "mpd.slice.549000-549999.json 500\n",
      "mpd.slice.639000-639999.json 600\n",
      "mpd.slice.729000-729999.json 700\n",
      "mpd.slice.819000-819999.json 800\n",
      "mpd.slice.909000-909999.json 900\n",
      "Time taken: 4.949907688299815\n"
     ]
    }
   ],
   "source": [
    "t0 = time()\n",
    "\n",
    "samp = 1000\n",
    "\n",
    "filenames = os.listdir(path)\n",
    "D={}\n",
    "for i, filename in enumerate(sorted(filenames)[:samp]):\n",
    "    if filename.startswith(\"mpd.slice.\") and filename.endswith(\".json\"):\n",
    "        fullpath = os.sep.join((path, filename))\n",
    "        f = open(fullpath)\n",
    "        js = f.read()\n",
    "        f.close()\n",
    "        mpd_slice = json.loads(js)\n",
    "        for playlist in mpd_slice['playlists']:\n",
    "            L=[]\n",
    "            for track in playlist['tracks']:\n",
    "                L.append(track['track_uri'])\n",
    "            D[playlist['pid']] = L       \n",
    "    if i%100==0:\n",
    "        print(filename, i)\n",
    "\n",
    "    # Time diff\n",
    "print(f\"Time taken: {(time()-t0)/60}\")"
   ]
  },
  {
   "cell_type": "code",
   "execution_count": null,
   "metadata": {},
   "outputs": [],
   "source": [
    "import json\n",
    "\n",
    "dict = D\n",
    "\n",
    "with open('../data-processed/full-data/pid_track_uri.json', 'w') as fp:\n",
    "    json.dump(dict, fp)"
   ]
  }
 ],
 "metadata": {
  "kernelspec": {
   "display_name": "Python 3",
   "language": "python",
   "name": "python3"
  },
  "language_info": {
   "codemirror_mode": {
    "name": "ipython",
    "version": 3
   },
   "file_extension": ".py",
   "mimetype": "text/x-python",
   "name": "python",
   "nbconvert_exporter": "python",
   "pygments_lexer": "ipython3",
   "version": "3.8.3"
  }
 },
 "nbformat": 4,
 "nbformat_minor": 4
}
