{
 "cells": [
  {
   "cell_type": "markdown",
   "metadata": {},
   "source": [
    "# Get genres"
   ]
  },
  {
   "cell_type": "markdown",
   "metadata": {},
   "source": [
    "https://developer.spotify.com/documentation/web-api/reference/tracks/get-several-audio-features/"
   ]
  },
  {
   "cell_type": "markdown",
   "metadata": {},
   "source": [
    ">- `genre` `array of strings` A list of the genres the artist is associated with. For example: \"Prog Rock\" , \"Post-Grunge\". (If not yet classified, the array is empty.)\n",
    ">- `uri`\tstring\tThe Spotify URI for the track."
   ]
  },
  {
   "cell_type": "code",
   "execution_count": null,
   "metadata": {},
   "outputs": [],
   "source": [
    "%run ../credentials/credentials.ipynb\n",
    "CLIENT_ID = Client_ID\n",
    "CLIENT_SECRET = Client_Secret"
   ]
  },
  {
   "cell_type": "code",
   "execution_count": 3,
   "metadata": {},
   "outputs": [],
   "source": [
    "import requests\n",
    "import pandas as pd\n",
    "import time as tm\n",
    "import os\n",
    "import glob\n",
    "import json\n",
    "\n",
    "from time import time"
   ]
  },
  {
   "cell_type": "code",
   "execution_count": null,
   "metadata": {},
   "outputs": [],
   "source": [
    "def auth():\n",
    "    AUTH_URL = 'https://accounts.spotify.com/api/token'\n",
    "\n",
    "    # POST\n",
    "    auth_response = requests.post(AUTH_URL, {\n",
    "        'grant_type': 'client_credentials',\n",
    "        'client_id': CLIENT_ID,\n",
    "        'client_secret': CLIENT_SECRET,\n",
    "        'Retry-After': 6\n",
    "    })\n",
    "\n",
    "    # convert the response to JSON\n",
    "    auth_response_data = auth_response.json()\n",
    "\n",
    "    # save the access token\n",
    "    access_token = auth_response_data['access_token']\n",
    "    \n",
    "    headers = {\n",
    "    'Authorization': 'Bearer {token}'.format(token=access_token)\n",
    "    }\n",
    "    \n",
    "    return headers"
   ]
  },
  {
   "cell_type": "code",
   "execution_count": null,
   "metadata": {},
   "outputs": [],
   "source": [
    "headers = auth()\n",
    "\n",
    "BASE_URL = 'https://api.spotify.com/v1/artists?ids='"
   ]
  },
  {
   "cell_type": "code",
   "execution_count": null,
   "metadata": {},
   "outputs": [],
   "source": [
    "track_uri = pd.read_csv('../data-processed/full-data/pid-track-artist.csv')"
   ]
  },
  {
   "cell_type": "code",
   "execution_count": null,
   "metadata": {},
   "outputs": [],
   "source": [
    "track_uri.head()"
   ]
  },
  {
   "cell_type": "code",
   "execution_count": null,
   "metadata": {},
   "outputs": [],
   "source": [
    "track_uri.shape"
   ]
  },
  {
   "cell_type": "code",
   "execution_count": null,
   "metadata": {},
   "outputs": [],
   "source": [
    "artist_uri = list(track_uri.artist_uri.unique())"
   ]
  },
  {
   "cell_type": "code",
   "execution_count": null,
   "metadata": {},
   "outputs": [],
   "source": [
    "BASE_URL + artist_ids"
   ]
  },
  {
   "cell_type": "code",
   "execution_count": null,
   "metadata": {},
   "outputs": [],
   "source": [
    "lim = len(artist_uri)\n",
    "lim=100\n",
    "lim_low = 0\n",
    "step=50\n",
    "time0 = time()\n",
    "for i in range(lim_low,lim,step):\n",
    "    L = i\n",
    "    if i + step <= lim:\n",
    "        U = i+step\n",
    "    else:\n",
    "        U = lim\n",
    "    artist_ids = ','.join([artist.replace('spotify:artist:',\"\") for artist in artist_uri[L:U]])\n",
    "    #print(L,U)\n",
    "    r = requests.get(BASE_URL +  artist_ids, headers=headers)     \n",
    "    if r.status_code!=200:\n",
    "        print(r.status_code)\n",
    "    #print('tr',track_ids)\n",
    "    if r.status_code == 200:\n",
    "        D={}\n",
    "        for el in r.json()['artists']:\n",
    "            for k,v in el.items():\n",
    "                D[el['uri']] = [g for g in el['genres'] if g!='']       \n",
    "        with open(f'../data-processed/genres/artist-genre{L}-{U}.json', 'w') as f:\n",
    "            json.dump(D, f)\n",
    "    else:\n",
    "        tm.sleep(30)\n",
    "        failed.append(track_ids)\n",
    "        print(r.status_code)\n",
    "        "
   ]
  },
  {
   "cell_type": "code",
   "execution_count": null,
   "metadata": {},
   "outputs": [],
   "source": [
    "len(D)"
   ]
  },
  {
   "cell_type": "markdown",
   "metadata": {},
   "source": [
    "# Combine all files "
   ]
  },
  {
   "cell_type": "code",
   "execution_count": null,
   "metadata": {},
   "outputs": [],
   "source": [
    "D_all={}\n",
    "path_to_jsonfiles = '../data-processed/genres/'\n",
    "for file in os.listdir(path_to_jsonfiles):\n",
    "    with open(f'{path_to_jsonfiles}{file}','r') as fi:\n",
    "        D_all.update(json.load(fi))"
   ]
  },
  {
   "cell_type": "code",
   "execution_count": null,
   "metadata": {},
   "outputs": [],
   "source": [
    "len(D_all)"
   ]
  },
  {
   "cell_type": "code",
   "execution_count": 2,
   "metadata": {},
   "outputs": [],
   "source": [
    "#D_all"
   ]
  },
  {
   "cell_type": "code",
   "execution_count": 5,
   "metadata": {},
   "outputs": [],
   "source": [
    "d = pd.read_csv('../data-processed/full-data/genres_by_artist.csv')"
   ]
  },
  {
   "cell_type": "code",
   "execution_count": 6,
   "metadata": {},
   "outputs": [
    {
     "data": {
      "text/html": [
       "<div>\n",
       "<style scoped>\n",
       "    .dataframe tbody tr th:only-of-type {\n",
       "        vertical-align: middle;\n",
       "    }\n",
       "\n",
       "    .dataframe tbody tr th {\n",
       "        vertical-align: top;\n",
       "    }\n",
       "\n",
       "    .dataframe thead th {\n",
       "        text-align: right;\n",
       "    }\n",
       "</style>\n",
       "<table border=\"1\" class=\"dataframe\">\n",
       "  <thead>\n",
       "    <tr style=\"text-align: right;\">\n",
       "      <th></th>\n",
       "      <th>artist_uri</th>\n",
       "      <th>21st century classical</th>\n",
       "      <th>432hz</th>\n",
       "      <th>8-bit</th>\n",
       "      <th>8d</th>\n",
       "      <th>a cappella</th>\n",
       "      <th>aarhus indie</th>\n",
       "      <th>aberdeen indie</th>\n",
       "      <th>abstract</th>\n",
       "      <th>abstract beats</th>\n",
       "      <th>...</th>\n",
       "      <th>zim hip hop</th>\n",
       "      <th>zim urban groove</th>\n",
       "      <th>zimdancehall</th>\n",
       "      <th>zither</th>\n",
       "      <th>zolo</th>\n",
       "      <th>zouglou</th>\n",
       "      <th>zouk</th>\n",
       "      <th>zouk riddim</th>\n",
       "      <th>zurich indie</th>\n",
       "      <th>zydeco</th>\n",
       "    </tr>\n",
       "  </thead>\n",
       "  <tbody>\n",
       "    <tr>\n",
       "      <th>0</th>\n",
       "      <td>spotify:artist:0001ZVMPt41Vwzt1zsmuzp</td>\n",
       "      <td>0.0</td>\n",
       "      <td>0.0</td>\n",
       "      <td>0.0</td>\n",
       "      <td>0.0</td>\n",
       "      <td>0.0</td>\n",
       "      <td>0.0</td>\n",
       "      <td>0.0</td>\n",
       "      <td>0.0</td>\n",
       "      <td>0.0</td>\n",
       "      <td>...</td>\n",
       "      <td>0.0</td>\n",
       "      <td>0.0</td>\n",
       "      <td>0.0</td>\n",
       "      <td>0.0</td>\n",
       "      <td>0.0</td>\n",
       "      <td>0.0</td>\n",
       "      <td>0.0</td>\n",
       "      <td>0.0</td>\n",
       "      <td>0.0</td>\n",
       "      <td>0.0</td>\n",
       "    </tr>\n",
       "    <tr>\n",
       "      <th>1</th>\n",
       "      <td>spotify:artist:0001wHqxbF2YYRQxGdbyER</td>\n",
       "      <td>0.0</td>\n",
       "      <td>0.0</td>\n",
       "      <td>0.0</td>\n",
       "      <td>0.0</td>\n",
       "      <td>0.0</td>\n",
       "      <td>0.0</td>\n",
       "      <td>0.0</td>\n",
       "      <td>0.0</td>\n",
       "      <td>0.0</td>\n",
       "      <td>...</td>\n",
       "      <td>0.0</td>\n",
       "      <td>0.0</td>\n",
       "      <td>0.0</td>\n",
       "      <td>0.0</td>\n",
       "      <td>0.0</td>\n",
       "      <td>0.0</td>\n",
       "      <td>0.0</td>\n",
       "      <td>0.0</td>\n",
       "      <td>0.0</td>\n",
       "      <td>0.0</td>\n",
       "    </tr>\n",
       "    <tr>\n",
       "      <th>2</th>\n",
       "      <td>spotify:artist:000Dq0VqTZpxOP6jQMscVL</td>\n",
       "      <td>0.0</td>\n",
       "      <td>0.0</td>\n",
       "      <td>0.0</td>\n",
       "      <td>0.0</td>\n",
       "      <td>0.0</td>\n",
       "      <td>0.0</td>\n",
       "      <td>0.0</td>\n",
       "      <td>0.0</td>\n",
       "      <td>0.0</td>\n",
       "      <td>...</td>\n",
       "      <td>0.0</td>\n",
       "      <td>0.0</td>\n",
       "      <td>0.0</td>\n",
       "      <td>0.0</td>\n",
       "      <td>0.0</td>\n",
       "      <td>0.0</td>\n",
       "      <td>0.0</td>\n",
       "      <td>0.0</td>\n",
       "      <td>0.0</td>\n",
       "      <td>0.0</td>\n",
       "    </tr>\n",
       "    <tr>\n",
       "      <th>3</th>\n",
       "      <td>spotify:artist:000spuc3oKgwYmfg5IE26s</td>\n",
       "      <td>0.0</td>\n",
       "      <td>0.0</td>\n",
       "      <td>0.0</td>\n",
       "      <td>0.0</td>\n",
       "      <td>0.0</td>\n",
       "      <td>0.0</td>\n",
       "      <td>0.0</td>\n",
       "      <td>0.0</td>\n",
       "      <td>0.0</td>\n",
       "      <td>...</td>\n",
       "      <td>0.0</td>\n",
       "      <td>0.0</td>\n",
       "      <td>0.0</td>\n",
       "      <td>0.0</td>\n",
       "      <td>0.0</td>\n",
       "      <td>0.0</td>\n",
       "      <td>0.0</td>\n",
       "      <td>0.0</td>\n",
       "      <td>0.0</td>\n",
       "      <td>0.0</td>\n",
       "    </tr>\n",
       "    <tr>\n",
       "      <th>4</th>\n",
       "      <td>spotify:artist:000xagx3GkcunHTFdB4ly0</td>\n",
       "      <td>0.0</td>\n",
       "      <td>0.0</td>\n",
       "      <td>0.0</td>\n",
       "      <td>0.0</td>\n",
       "      <td>0.0</td>\n",
       "      <td>0.0</td>\n",
       "      <td>0.0</td>\n",
       "      <td>0.0</td>\n",
       "      <td>0.0</td>\n",
       "      <td>...</td>\n",
       "      <td>0.0</td>\n",
       "      <td>0.0</td>\n",
       "      <td>0.0</td>\n",
       "      <td>0.0</td>\n",
       "      <td>0.0</td>\n",
       "      <td>0.0</td>\n",
       "      <td>0.0</td>\n",
       "      <td>0.0</td>\n",
       "      <td>0.0</td>\n",
       "      <td>0.0</td>\n",
       "    </tr>\n",
       "  </tbody>\n",
       "</table>\n",
       "<p>5 rows × 4968 columns</p>\n",
       "</div>"
      ],
      "text/plain": [
       "                              artist_uri  21st century classical  432hz  \\\n",
       "0  spotify:artist:0001ZVMPt41Vwzt1zsmuzp                     0.0    0.0   \n",
       "1  spotify:artist:0001wHqxbF2YYRQxGdbyER                     0.0    0.0   \n",
       "2  spotify:artist:000Dq0VqTZpxOP6jQMscVL                     0.0    0.0   \n",
       "3  spotify:artist:000spuc3oKgwYmfg5IE26s                     0.0    0.0   \n",
       "4  spotify:artist:000xagx3GkcunHTFdB4ly0                     0.0    0.0   \n",
       "\n",
       "   8-bit   8d  a cappella  aarhus indie  aberdeen indie  abstract  \\\n",
       "0    0.0  0.0         0.0           0.0             0.0       0.0   \n",
       "1    0.0  0.0         0.0           0.0             0.0       0.0   \n",
       "2    0.0  0.0         0.0           0.0             0.0       0.0   \n",
       "3    0.0  0.0         0.0           0.0             0.0       0.0   \n",
       "4    0.0  0.0         0.0           0.0             0.0       0.0   \n",
       "\n",
       "   abstract beats  ...  zim hip hop  zim urban groove  zimdancehall  zither  \\\n",
       "0             0.0  ...          0.0               0.0           0.0     0.0   \n",
       "1             0.0  ...          0.0               0.0           0.0     0.0   \n",
       "2             0.0  ...          0.0               0.0           0.0     0.0   \n",
       "3             0.0  ...          0.0               0.0           0.0     0.0   \n",
       "4             0.0  ...          0.0               0.0           0.0     0.0   \n",
       "\n",
       "   zolo  zouglou  zouk  zouk riddim  zurich indie  zydeco  \n",
       "0   0.0      0.0   0.0          0.0           0.0     0.0  \n",
       "1   0.0      0.0   0.0          0.0           0.0     0.0  \n",
       "2   0.0      0.0   0.0          0.0           0.0     0.0  \n",
       "3   0.0      0.0   0.0          0.0           0.0     0.0  \n",
       "4   0.0      0.0   0.0          0.0           0.0     0.0  \n",
       "\n",
       "[5 rows x 4968 columns]"
      ]
     },
     "execution_count": 6,
     "metadata": {},
     "output_type": "execute_result"
    }
   ],
   "source": [
    "d.head()"
   ]
  },
  {
   "cell_type": "code",
   "execution_count": null,
   "metadata": {},
   "outputs": [],
   "source": [
    "d.genre"
   ]
  }
 ],
 "metadata": {
  "kernelspec": {
   "display_name": "Python 3",
   "language": "python",
   "name": "python3"
  },
  "language_info": {
   "codemirror_mode": {
    "name": "ipython",
    "version": 3
   },
   "file_extension": ".py",
   "mimetype": "text/x-python",
   "name": "python",
   "nbconvert_exporter": "python",
   "pygments_lexer": "ipython3",
   "version": "3.8.3"
  }
 },
 "nbformat": 4,
 "nbformat_minor": 4
}
