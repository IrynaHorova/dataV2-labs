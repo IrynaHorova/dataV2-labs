{
 "cells": [
  {
   "cell_type": "markdown",
   "metadata": {},
   "source": [
    "## Collaborative Filtering - extract only PID, track_uri and pos "
   ]
  },
  {
   "cell_type": "code",
   "execution_count": 1,
   "metadata": {},
   "outputs": [],
   "source": [
    "import json\n",
    "import numpy as np\n",
    "from time import time\n",
    "import pandas as pd\n",
    "from pandas.io.json import json_normalize\n",
    "import os\n",
    "import concurrent.futures\n",
    "import functools\n",
    "import random\n",
    "import gc\n",
    "import warnings\n",
    "from pandas.core.common import SettingWithCopyWarning\n",
    "warnings.simplefilter(action=\"ignore\", category=SettingWithCopyWarning)"
   ]
  },
  {
   "cell_type": "code",
   "execution_count": 2,
   "metadata": {},
   "outputs": [],
   "source": [
    "path = '../dataset/spotify_million_playlist_dataset/data/'"
   ]
  },
  {
   "cell_type": "code",
   "execution_count": 3,
   "metadata": {},
   "outputs": [],
   "source": [
    "keys = [\n",
    "    'pid',\n",
    "#     'name',\n",
    "#     'description',\n",
    "#     'num_artists',\n",
    "#     'num_albums',\n",
    "#     'num_tracks',\n",
    "#     'num_followers',\n",
    "#     'duration_ms',\n",
    "#     'collaborative',\n",
    "    'tracks'\n",
    "]"
   ]
  },
  {
   "cell_type": "code",
   "execution_count": 4,
   "metadata": {},
   "outputs": [
    {
     "name": "stdout",
     "output_type": "stream",
     "text": [
      "mpd.slice.830000-830999.json 0\n",
      "mpd.slice.591000-591999.json 1\n",
      "mpd.slice.801000-801999.json 2\n",
      "mpd.slice.734000-734999.json 3\n",
      "mpd.slice.726000-726999.json 4\n",
      "mpd.slice.154000-154999.json 5\n",
      "mpd.slice.636000-636999.json 6\n",
      "mpd.slice.661000-661999.json 7\n",
      "mpd.slice.652000-652999.json 8\n",
      "mpd.slice.564000-564999.json 9\n",
      "mpd.slice.716000-716999.json 10\n",
      "mpd.slice.403000-403999.json 11\n",
      "mpd.slice.458000-458999.json 12\n",
      "mpd.slice.791000-791999.json 13\n",
      "mpd.slice.633000-633999.json 14\n",
      "mpd.slice.226000-226999.json 15\n",
      "mpd.slice.53000-53999.json 16\n",
      "mpd.slice.218000-218999.json 17\n",
      "mpd.slice.471000-471999.json 18\n",
      "mpd.slice.883000-883999.json 19\n",
      "mpd.slice.473000-473999.json 20\n",
      "mpd.slice.934000-934999.json 21\n",
      "mpd.slice.92000-92999.json 22\n",
      "mpd.slice.284000-284999.json 23\n",
      "mpd.slice.546000-546999.json 24\n",
      "mpd.slice.349000-349999.json 25\n",
      "mpd.slice.142000-142999.json 26\n",
      "mpd.slice.109000-109999.json 27\n",
      "mpd.slice.736000-736999.json 28\n",
      "mpd.slice.64000-64999.json 29\n",
      "mpd.slice.191000-191999.json 30\n",
      "mpd.slice.696000-696999.json 31\n",
      "mpd.slice.743000-743999.json 32\n",
      "mpd.slice.72000-72999.json 33\n",
      "mpd.slice.699000-699999.json 34\n",
      "mpd.slice.88000-88999.json 35\n",
      "mpd.slice.607000-607999.json 36\n",
      "mpd.slice.485000-485999.json 37\n",
      "mpd.slice.379000-379999.json 38\n",
      "mpd.slice.993000-993999.json 39\n",
      "mpd.slice.123000-123999.json 40\n",
      "mpd.slice.980000-980999.json 41\n",
      "mpd.slice.341000-341999.json 42\n",
      "mpd.slice.826000-826999.json 43\n",
      "mpd.slice.206000-206999.json 44\n",
      "mpd.slice.10000-10999.json 45\n",
      "mpd.slice.996000-996999.json 46\n",
      "mpd.slice.100000-100999.json 47\n",
      "mpd.slice.86000-86999.json 48\n",
      "mpd.slice.281000-281999.json 49\n",
      "mpd.slice.463000-463999.json 50\n",
      "mpd.slice.365000-365999.json 51\n",
      "mpd.slice.195000-195999.json 52\n",
      "mpd.slice.857000-857999.json 53\n",
      "mpd.slice.127000-127999.json 54\n",
      "mpd.slice.885000-885999.json 55\n",
      "mpd.slice.4000-4999.json 56\n",
      "mpd.slice.486000-486999.json 57\n",
      "mpd.slice.906000-906999.json 58\n",
      "mpd.slice.186000-186999.json 59\n",
      "mpd.slice.890000-890999.json 60\n",
      "mpd.slice.250000-250999.json 61\n",
      "mpd.slice.804000-804999.json 62\n",
      "mpd.slice.616000-616999.json 63\n",
      "mpd.slice.893000-893999.json 64\n",
      "mpd.slice.433000-433999.json 65\n",
      "mpd.slice.211000-211999.json 66\n",
      "mpd.slice.459000-459999.json 67\n",
      "mpd.slice.972000-972999.json 68\n",
      "mpd.slice.447000-447999.json 69\n",
      "mpd.slice.312000-312999.json 70\n",
      "mpd.slice.9000-9999.json 71\n",
      "mpd.slice.8000-8999.json 72\n",
      "mpd.slice.103000-103999.json 73\n",
      "mpd.slice.33000-33999.json 74\n",
      "mpd.slice.720000-720999.json 75\n",
      "mpd.slice.886000-886999.json 76\n",
      "mpd.slice.214000-214999.json 77\n",
      "mpd.slice.60000-60999.json 78\n",
      "mpd.slice.532000-532999.json 79\n",
      "mpd.slice.359000-359999.json 80\n",
      "mpd.slice.948000-948999.json 81\n",
      "mpd.slice.239000-239999.json 82\n",
      "mpd.slice.515000-515999.json 83\n",
      "mpd.slice.419000-419999.json 84\n",
      "mpd.slice.882000-882999.json 85\n",
      "mpd.slice.789000-789999.json 86\n",
      "mpd.slice.744000-744999.json 87\n",
      "mpd.slice.271000-271999.json 88\n",
      "mpd.slice.0-999.json 89\n",
      "mpd.slice.213000-213999.json 90\n",
      "mpd.slice.982000-982999.json 91\n",
      "mpd.slice.344000-344999.json 92\n",
      "mpd.slice.256000-256999.json 93\n",
      "mpd.slice.995000-995999.json 94\n",
      "mpd.slice.818000-818999.json 95\n",
      "mpd.slice.921000-921999.json 96\n",
      "mpd.slice.317000-317999.json 97\n",
      "mpd.slice.160000-160999.json 98\n",
      "mpd.slice.724000-724999.json 99\n",
      "mpd.slice.671000-671999.json 100\n",
      "mpd.slice.823000-823999.json 101\n",
      "mpd.slice.117000-117999.json 102\n",
      "mpd.slice.712000-712999.json 103\n",
      "mpd.slice.16000-16999.json 104\n",
      "mpd.slice.805000-805999.json 105\n",
      "mpd.slice.20000-20999.json 106\n",
      "mpd.slice.728000-728999.json 107\n",
      "mpd.slice.551000-551999.json 108\n",
      "mpd.slice.148000-148999.json 109\n",
      "mpd.slice.900000-900999.json 110\n",
      "mpd.slice.261000-261999.json 111\n",
      "mpd.slice.735000-735999.json 112\n",
      "mpd.slice.89000-89999.json 113\n",
      "mpd.slice.101000-101999.json 114\n",
      "mpd.slice.590000-590999.json 115\n",
      "mpd.slice.777000-777999.json 116\n",
      "mpd.slice.656000-656999.json 117\n",
      "mpd.slice.332000-332999.json 118\n",
      "mpd.slice.554000-554999.json 119\n",
      "mpd.slice.986000-986999.json 120\n",
      "mpd.slice.285000-285999.json 121\n",
      "mpd.slice.737000-737999.json 122\n",
      "mpd.slice.229000-229999.json 123\n",
      "mpd.slice.342000-342999.json 124\n",
      "mpd.slice.926000-926999.json 125\n",
      "mpd.slice.376000-376999.json 126\n",
      "mpd.slice.540000-540999.json 127\n",
      "mpd.slice.920000-920999.json 128\n",
      "mpd.slice.43000-43999.json 129\n",
      "mpd.slice.643000-643999.json 130\n",
      "mpd.slice.939000-939999.json 131\n",
      "mpd.slice.157000-157999.json 132\n",
      "mpd.slice.610000-610999.json 133\n",
      "mpd.slice.455000-455999.json 134\n",
      "mpd.slice.179000-179999.json 135\n",
      "mpd.slice.766000-766999.json 136\n",
      "mpd.slice.135000-135999.json 137\n",
      "mpd.slice.967000-967999.json 138\n",
      "mpd.slice.945000-945999.json 139\n",
      "mpd.slice.865000-865999.json 140\n",
      "mpd.slice.98000-98999.json 141\n",
      "mpd.slice.757000-757999.json 142\n",
      "mpd.slice.831000-831999.json 143\n",
      "mpd.slice.172000-172999.json 144\n",
      "mpd.slice.442000-442999.json 145\n",
      "mpd.slice.375000-375999.json 146\n",
      "mpd.slice.232000-232999.json 147\n",
      "mpd.slice.461000-461999.json 148\n",
      "mpd.slice.853000-853999.json 149\n",
      "mpd.slice.923000-923999.json 150\n",
      "mpd.slice.609000-609999.json 151\n",
      "mpd.slice.601000-601999.json 152\n",
      "mpd.slice.134000-134999.json 153\n",
      "mpd.slice.741000-741999.json 154\n",
      "mpd.slice.121000-121999.json 155\n",
      "mpd.slice.177000-177999.json 156\n",
      "mpd.slice.383000-383999.json 157\n",
      "mpd.slice.877000-877999.json 158\n",
      "mpd.slice.392000-392999.json 159\n",
      "mpd.slice.110000-110999.json 160\n",
      "mpd.slice.691000-691999.json 161\n",
      "mpd.slice.493000-493999.json 162\n",
      "mpd.slice.315000-315999.json 163\n",
      "mpd.slice.91000-91999.json 164\n",
      "mpd.slice.844000-844999.json 165\n",
      "mpd.slice.378000-378999.json 166\n",
      "mpd.slice.405000-405999.json 167\n",
      "mpd.slice.517000-517999.json 168\n",
      "mpd.slice.637000-637999.json 169\n",
      "mpd.slice.183000-183999.json 170\n",
      "mpd.slice.802000-802999.json 171\n",
      "mpd.slice.600000-600999.json 172\n",
      "mpd.slice.631000-631999.json 173\n",
      "mpd.slice.299000-299999.json 174\n",
      "mpd.slice.65000-65999.json 175\n",
      "mpd.slice.73000-73999.json 176\n",
      "mpd.slice.305000-305999.json 177\n",
      "mpd.slice.524000-524999.json 178\n",
      "mpd.slice.222000-222999.json 179\n",
      "mpd.slice.669000-669999.json 180\n",
      "mpd.slice.11000-11999.json 181\n",
      "mpd.slice.389000-389999.json 182\n",
      "mpd.slice.144000-144999.json 183\n",
      "mpd.slice.505000-505999.json 184\n",
      "mpd.slice.648000-648999.json 185\n",
      "mpd.slice.325000-325999.json 186\n",
      "mpd.slice.476000-476999.json 187\n",
      "mpd.slice.985000-985999.json 188\n",
      "mpd.slice.137000-137999.json 189\n",
      "mpd.slice.286000-286999.json 190\n",
      "mpd.slice.180000-180999.json 191\n",
      "mpd.slice.924000-924999.json 192\n",
      "mpd.slice.549000-549999.json 193\n",
      "mpd.slice.220000-220999.json 194\n",
      "mpd.slice.230000-230999.json 195\n",
      "mpd.slice.710000-710999.json 196\n",
      "mpd.slice.420000-420999.json 197\n",
      "mpd.slice.604000-604999.json 198\n",
      "mpd.slice.225000-225999.json 199\n",
      "mpd.slice.725000-725999.json 200\n",
      "mpd.slice.221000-221999.json 201\n",
      "mpd.slice.314000-314999.json 202\n",
      "mpd.slice.49000-49999.json 203\n",
      "mpd.slice.689000-689999.json 204\n",
      "mpd.slice.881000-881999.json 205\n",
      "mpd.slice.904000-904999.json 206\n",
      "mpd.slice.618000-618999.json 207\n",
      "mpd.slice.499000-499999.json 208\n",
      "mpd.slice.209000-209999.json 209\n",
      "mpd.slice.537000-537999.json 210\n",
      "mpd.slice.821000-821999.json 211\n",
      "mpd.slice.107000-107999.json 212\n",
      "mpd.slice.629000-629999.json 213\n",
      "mpd.slice.338000-338999.json 214\n",
      "mpd.slice.115000-115999.json 215\n",
      "mpd.slice.292000-292999.json 216\n",
      "mpd.slice.216000-216999.json 217\n",
      "mpd.slice.513000-513999.json 218\n",
      "mpd.slice.412000-412999.json 219\n",
      "mpd.slice.82000-82999.json 220\n",
      "mpd.slice.681000-681999.json 221\n",
      "mpd.slice.968000-968999.json 222\n",
      "mpd.slice.44000-44999.json 223\n",
      "mpd.slice.203000-203999.json 224\n",
      "mpd.slice.860000-860999.json 225\n",
      "mpd.slice.559000-559999.json 226\n",
      "mpd.slice.721000-721999.json 227\n",
      "mpd.slice.217000-217999.json 228\n",
      "mpd.slice.509000-509999.json 229\n",
      "mpd.slice.381000-381999.json 230\n",
      "mpd.slice.48000-48999.json 231\n",
      "mpd.slice.999000-999999.json 232\n",
      "mpd.slice.290000-290999.json 233\n",
      "mpd.slice.482000-482999.json 234\n",
      "mpd.slice.387000-387999.json 235\n",
      "mpd.slice.593000-593999.json 236\n",
      "mpd.slice.309000-309999.json 237\n",
      "mpd.slice.679000-679999.json 238\n",
      "mpd.slice.645000-645999.json 239\n",
      "mpd.slice.181000-181999.json 240\n",
      "mpd.slice.659000-659999.json 241\n",
      "mpd.slice.451000-451999.json 242\n",
      "mpd.slice.47000-47999.json 243\n",
      "mpd.slice.406000-406999.json 244\n",
      "mpd.slice.318000-318999.json 245\n",
      "mpd.slice.118000-118999.json 246\n",
      "mpd.slice.196000-196999.json 247\n",
      "mpd.slice.70000-70999.json 248\n",
      "mpd.slice.914000-914999.json 249\n",
      "mpd.slice.809000-809999.json 250\n",
      "mpd.slice.243000-243999.json 251\n",
      "mpd.slice.525000-525999.json 252\n",
      "mpd.slice.901000-901999.json 253\n"
     ]
    },
    {
     "name": "stdout",
     "output_type": "stream",
     "text": [
      "mpd.slice.45000-45999.json 254\n",
      "mpd.slice.335000-335999.json 255\n",
      "mpd.slice.562000-562999.json 256\n",
      "mpd.slice.705000-705999.json 257\n",
      "mpd.slice.933000-933999.json 258\n",
      "mpd.slice.798000-798999.json 259\n",
      "mpd.slice.727000-727999.json 260\n",
      "mpd.slice.841000-841999.json 261\n",
      "mpd.slice.998000-998999.json 262\n",
      "mpd.slice.340000-340999.json 263\n",
      "mpd.slice.357000-357999.json 264\n",
      "mpd.slice.507000-507999.json 265\n",
      "mpd.slice.345000-345999.json 266\n",
      "mpd.slice.484000-484999.json 267\n",
      "mpd.slice.385000-385999.json 268\n",
      "mpd.slice.854000-854999.json 269\n",
      "mpd.slice.147000-147999.json 270\n",
      "mpd.slice.783000-783999.json 271\n",
      "mpd.slice.390000-390999.json 272\n",
      "mpd.slice.439000-439999.json 273\n",
      "mpd.slice.690000-690999.json 274\n",
      "mpd.slice.992000-992999.json 275\n",
      "mpd.slice.863000-863999.json 276\n",
      "mpd.slice.640000-640999.json 277\n",
      "mpd.slice.807000-807999.json 278\n",
      "mpd.slice.519000-519999.json 279\n",
      "mpd.slice.90000-90999.json 280\n",
      "mpd.slice.632000-632999.json 281\n",
      "mpd.slice.187000-187999.json 282\n",
      "mpd.slice.176000-176999.json 283\n",
      "mpd.slice.887000-887999.json 284\n",
      "mpd.slice.870000-870999.json 285\n",
      "mpd.slice.770000-770999.json 286\n",
      "mpd.slice.465000-465999.json 287\n",
      "mpd.slice.17000-17999.json 288\n",
      "mpd.slice.913000-913999.json 289\n",
      "mpd.slice.489000-489999.json 290\n",
      "mpd.slice.291000-291999.json 291\n",
      "mpd.slice.150000-150999.json 292\n",
      "mpd.slice.792000-792999.json 293\n",
      "mpd.slice.846000-846999.json 294\n",
      "mpd.slice.307000-307999.json 295\n",
      "mpd.slice.483000-483999.json 296\n",
      "mpd.slice.756000-756999.json 297\n",
      "mpd.slice.114000-114999.json 298\n",
      "mpd.slice.878000-878999.json 299\n",
      "mpd.slice.850000-850999.json 300\n",
      "mpd.slice.555000-555999.json 301\n",
      "mpd.slice.364000-364999.json 302\n",
      "mpd.slice.951000-951999.json 303\n",
      "mpd.slice.763000-763999.json 304\n",
      "mpd.slice.58000-58999.json 305\n",
      "mpd.slice.253000-253999.json 306\n",
      "mpd.slice.273000-273999.json 307\n",
      "mpd.slice.466000-466999.json 308\n",
      "mpd.slice.514000-514999.json 309\n",
      "mpd.slice.812000-812999.json 310\n",
      "mpd.slice.711000-711999.json 311\n",
      "mpd.slice.112000-112999.json 312\n",
      "mpd.slice.958000-958999.json 313\n",
      "mpd.slice.663000-663999.json 314\n",
      "mpd.slice.506000-506999.json 315\n",
      "mpd.slice.302000-302999.json 316\n",
      "mpd.slice.7000-7999.json 317\n",
      "mpd.slice.806000-806999.json 318\n",
      "mpd.slice.77000-77999.json 319\n",
      "mpd.slice.76000-76999.json 320\n",
      "mpd.slice.426000-426999.json 321\n",
      "mpd.slice.23000-23999.json 322\n",
      "mpd.slice.139000-139999.json 323\n",
      "mpd.slice.615000-615999.json 324\n",
      "mpd.slice.189000-189999.json 325\n",
      "mpd.slice.526000-526999.json 326\n",
      "mpd.slice.654000-654999.json 327\n",
      "mpd.slice.572000-572999.json 328\n",
      "mpd.slice.28000-28999.json 329\n",
      "mpd.slice.758000-758999.json 330\n",
      "mpd.slice.57000-57999.json 331\n",
      "mpd.slice.67000-67999.json 332\n",
      "mpd.slice.536000-536999.json 333\n",
      "mpd.slice.393000-393999.json 334\n",
      "mpd.slice.12000-12999.json 335\n",
      "mpd.slice.382000-382999.json 336\n",
      "mpd.slice.931000-931999.json 337\n",
      "mpd.slice.136000-136999.json 338\n",
      "mpd.slice.346000-346999.json 339\n",
      "mpd.slice.294000-294999.json 340\n",
      "mpd.slice.267000-267999.json 341\n",
      "mpd.slice.594000-594999.json 342\n",
      "mpd.slice.874000-874999.json 343\n",
      "mpd.slice.983000-983999.json 344\n",
      "mpd.slice.260000-260999.json 345\n",
      "mpd.slice.55000-55999.json 346\n",
      "mpd.slice.479000-479999.json 347\n",
      "mpd.slice.496000-496999.json 348\n",
      "mpd.slice.159000-159999.json 349\n",
      "mpd.slice.68000-68999.json 350\n",
      "mpd.slice.128000-128999.json 351\n",
      "mpd.slice.764000-764999.json 352\n",
      "mpd.slice.41000-41999.json 353\n",
      "mpd.slice.529000-529999.json 354\n",
      "mpd.slice.508000-508999.json 355\n",
      "mpd.slice.665000-665999.json 356\n",
      "mpd.slice.969000-969999.json 357\n",
      "mpd.slice.522000-522999.json 358\n",
      "mpd.slice.785000-785999.json 359\n",
      "mpd.slice.824000-824999.json 360\n",
      "mpd.slice.697000-697999.json 361\n",
      "mpd.slice.204000-204999.json 362\n",
      "mpd.slice.586000-586999.json 363\n",
      "mpd.slice.386000-386999.json 364\n",
      "mpd.slice.952000-952999.json 365\n",
      "mpd.slice.936000-936999.json 366\n",
      "mpd.slice.768000-768999.json 367\n",
      "mpd.slice.277000-277999.json 368\n",
      "mpd.slice.718000-718999.json 369\n",
      "mpd.slice.275000-275999.json 370\n",
      "mpd.slice.599000-599999.json 371\n",
      "mpd.slice.502000-502999.json 372\n",
      "mpd.slice.384000-384999.json 373\n",
      "mpd.slice.556000-556999.json 374\n",
      "mpd.slice.259000-259999.json 375\n",
      "mpd.slice.674000-674999.json 376\n",
      "mpd.slice.978000-978999.json 377\n",
      "mpd.slice.583000-583999.json 378\n",
      "mpd.slice.673000-673999.json 379\n",
      "mpd.slice.415000-415999.json 380\n",
      "mpd.slice.742000-742999.json 381\n",
      "mpd.slice.873000-873999.json 382\n",
      "mpd.slice.695000-695999.json 383\n",
      "mpd.slice.308000-308999.json 384\n",
      "mpd.slice.125000-125999.json 385\n",
      "mpd.slice.158000-158999.json 386\n",
      "mpd.slice.282000-282999.json 387\n",
      "mpd.slice.106000-106999.json 388\n",
      "mpd.slice.981000-981999.json 389\n",
      "mpd.slice.372000-372999.json 390\n",
      "mpd.slice.251000-251999.json 391\n",
      "mpd.slice.510000-510999.json 392\n",
      "mpd.slice.759000-759999.json 393\n",
      "mpd.slice.634000-634999.json 394\n",
      "mpd.slice.512000-512999.json 395\n",
      "mpd.slice.133000-133999.json 396\n",
      "mpd.slice.254000-254999.json 397\n",
      "mpd.slice.6000-6999.json 398\n",
      "mpd.slice.585000-585999.json 399\n",
      "mpd.slice.940000-940999.json 400\n",
      "mpd.slice.547000-547999.json 401\n",
      "mpd.slice.542000-542999.json 402\n",
      "mpd.slice.574000-574999.json 403\n",
      "mpd.slice.66000-66999.json 404\n",
      "mpd.slice.520000-520999.json 405\n",
      "mpd.slice.781000-781999.json 406\n",
      "mpd.slice.623000-623999.json 407\n",
      "mpd.slice.638000-638999.json 408\n",
      "mpd.slice.36000-36999.json 409\n",
      "mpd.slice.535000-535999.json 410\n",
      "mpd.slice.437000-437999.json 411\n",
      "mpd.slice.71000-71999.json 412\n",
      "mpd.slice.146000-146999.json 413\n",
      "mpd.slice.868000-868999.json 414\n",
      "mpd.slice.707000-707999.json 415\n",
      "mpd.slice.769000-769999.json 416\n",
      "mpd.slice.628000-628999.json 417\n",
      "mpd.slice.416000-416999.json 418\n",
      "mpd.slice.472000-472999.json 419\n",
      "mpd.slice.953000-953999.json 420\n",
      "mpd.slice.658000-658999.json 421\n",
      "mpd.slice.932000-932999.json 422\n",
      "mpd.slice.820000-820999.json 423\n",
      "mpd.slice.503000-503999.json 424\n",
      "mpd.slice.767000-767999.json 425\n",
      "mpd.slice.534000-534999.json 426\n",
      "mpd.slice.859000-859999.json 427\n",
      "mpd.slice.903000-903999.json 428\n",
      "mpd.slice.797000-797999.json 429\n",
      "mpd.slice.488000-488999.json 430\n",
      "mpd.slice.667000-667999.json 431\n",
      "mpd.slice.929000-929999.json 432\n",
      "mpd.slice.639000-639999.json 433\n",
      "mpd.slice.104000-104999.json 434\n",
      "mpd.slice.889000-889999.json 435\n",
      "mpd.slice.300000-300999.json 436\n",
      "mpd.slice.834000-834999.json 437\n",
      "mpd.slice.401000-401999.json 438\n",
      "mpd.slice.527000-527999.json 439\n",
      "mpd.slice.408000-408999.json 440\n",
      "mpd.slice.293000-293999.json 441\n",
      "mpd.slice.888000-888999.json 442\n",
      "mpd.slice.240000-240999.json 443\n",
      "mpd.slice.975000-975999.json 444\n",
      "mpd.slice.39000-39999.json 445\n",
      "mpd.slice.653000-653999.json 446\n",
      "mpd.slice.207000-207999.json 447\n",
      "mpd.slice.794000-794999.json 448\n",
      "mpd.slice.111000-111999.json 449\n",
      "mpd.slice.943000-943999.json 450\n",
      "mpd.slice.407000-407999.json 451\n",
      "mpd.slice.565000-565999.json 452\n",
      "mpd.slice.328000-328999.json 453\n",
      "mpd.slice.796000-796999.json 454\n",
      "mpd.slice.855000-855999.json 455\n",
      "mpd.slice.198000-198999.json 456\n",
      "mpd.slice.787000-787999.json 457\n",
      "mpd.slice.717000-717999.json 458\n",
      "mpd.slice.316000-316999.json 459\n",
      "mpd.slice.840000-840999.json 460\n",
      "mpd.slice.780000-780999.json 461\n",
      "mpd.slice.296000-296999.json 462\n",
      "mpd.slice.297000-297999.json 463\n",
      "mpd.slice.864000-864999.json 464\n",
      "mpd.slice.867000-867999.json 465\n",
      "mpd.slice.856000-856999.json 466\n",
      "mpd.slice.79000-79999.json 467\n",
      "mpd.slice.750000-750999.json 468\n",
      "mpd.slice.126000-126999.json 469\n",
      "mpd.slice.799000-799999.json 470\n",
      "mpd.slice.602000-602999.json 471\n",
      "mpd.slice.732000-732999.json 472\n",
      "mpd.slice.751000-751999.json 473\n",
      "mpd.slice.749000-749999.json 474\n",
      "mpd.slice.201000-201999.json 475\n",
      "mpd.slice.837000-837999.json 476\n",
      "mpd.slice.708000-708999.json 477\n",
      "mpd.slice.692000-692999.json 478\n",
      "mpd.slice.733000-733999.json 479\n",
      "mpd.slice.27000-27999.json 480\n",
      "mpd.slice.827000-827999.json 481\n",
      "mpd.slice.608000-608999.json 482\n",
      "mpd.slice.99000-99999.json 483\n",
      "mpd.slice.771000-771999.json 484\n",
      "mpd.slice.319000-319999.json 485\n",
      "mpd.slice.347000-347999.json 486\n",
      "mpd.slice.531000-531999.json 487\n",
      "mpd.slice.399000-399999.json 488\n",
      "mpd.slice.872000-872999.json 489\n",
      "mpd.slice.75000-75999.json 490\n",
      "mpd.slice.29000-29999.json 491\n",
      "mpd.slice.324000-324999.json 492\n",
      "mpd.slice.930000-930999.json 493\n",
      "mpd.slice.32000-32999.json 494\n",
      "mpd.slice.550000-550999.json 495\n",
      "mpd.slice.647000-647999.json 496\n",
      "mpd.slice.268000-268999.json 497\n",
      "mpd.slice.650000-650999.json 498\n",
      "mpd.slice.786000-786999.json 499\n",
      "Time taken: 8.74842434724172\n"
     ]
    }
   ],
   "source": [
    "t0=time()\n",
    "samp = 500\n",
    "arr = np.empty((samp*300*1000,4), dtype = object)\n",
    "filenames = os.listdir(path)\n",
    "num = 0\n",
    "for i, filename in enumerate(random.sample(sorted(filenames), samp)):\n",
    "    if filename.startswith(\"mpd.slice.\") and filename.endswith(\".json\"):\n",
    "        fullpath = os.sep.join((path, filename))\n",
    "        f = open(fullpath)\n",
    "        js = f.read()\n",
    "        f.close()\n",
    "        mpd_slice = json.loads(js)\n",
    "        D = pd.DataFrame(mpd_slice['playlists'])[keys]\n",
    "        df = pd.DataFrame(D, columns=['pid','tracks'])\n",
    "        idx = df.set_index(['pid']).tracks.apply(pd.Series).stack().index\n",
    "        df = pd.DataFrame(df.set_index(['pid']).tracks.apply(pd.Series).stack().values.tolist(),index=idx).reset_index().drop('level_1',1)\n",
    "        arr0 = df[['pid','pos','track_uri','artist_uri']].to_numpy()\n",
    "        arr[num:num+len(df),:] = arr0\n",
    "        num = num+len(df)\n",
    "        \n",
    "        print(filename,i)\n",
    "# Time diff\n",
    "print(f\"Time taken: {(time()-t0)/60}\")"
   ]
  },
  {
   "cell_type": "code",
   "execution_count": 5,
   "metadata": {},
   "outputs": [
    {
     "data": {
      "text/plain": [
       "20"
      ]
     },
     "execution_count": 5,
     "metadata": {},
     "output_type": "execute_result"
    }
   ],
   "source": [
    "gc.collect()"
   ]
  },
  {
   "cell_type": "code",
   "execution_count": 6,
   "metadata": {},
   "outputs": [
    {
     "data": {
      "text/plain": [
       "(150000000, 4)"
      ]
     },
     "execution_count": 6,
     "metadata": {},
     "output_type": "execute_result"
    }
   ],
   "source": [
    "arr.shape"
   ]
  },
  {
   "cell_type": "code",
   "execution_count": 7,
   "metadata": {},
   "outputs": [],
   "source": [
    "df = pd.DataFrame(arr)"
   ]
  },
  {
   "cell_type": "code",
   "execution_count": 8,
   "metadata": {},
   "outputs": [],
   "source": [
    "df.columns=['pid','pos','track_uri', 'artist_uri']"
   ]
  },
  {
   "cell_type": "code",
   "execution_count": 9,
   "metadata": {},
   "outputs": [],
   "source": [
    "df=df[df.isnull().any(axis=1)==False]"
   ]
  },
  {
   "cell_type": "code",
   "execution_count": 10,
   "metadata": {},
   "outputs": [
    {
     "data": {
      "text/plain": [
       "(33211760, 4)"
      ]
     },
     "execution_count": 10,
     "metadata": {},
     "output_type": "execute_result"
    }
   ],
   "source": [
    "df.shape"
   ]
  },
  {
   "cell_type": "code",
   "execution_count": 11,
   "metadata": {},
   "outputs": [
    {
     "data": {
      "text/plain": [
       "pid           0\n",
       "pos           0\n",
       "track_uri     0\n",
       "artist_uri    0\n",
       "dtype: int64"
      ]
     },
     "execution_count": 11,
     "metadata": {},
     "output_type": "execute_result"
    }
   ],
   "source": [
    "df.isnull().sum()"
   ]
  },
  {
   "cell_type": "code",
   "execution_count": 12,
   "metadata": {},
   "outputs": [],
   "source": [
    "df.to_csv(f'../data-processed/scale-down/pid-track-artist-scaled-{samp}.csv', index = None)"
   ]
  },
  {
   "cell_type": "markdown",
   "metadata": {},
   "source": [
    "## Add binary and scaled rating"
   ]
  },
  {
   "cell_type": "code",
   "execution_count": 13,
   "metadata": {},
   "outputs": [],
   "source": [
    "df = pd.read_csv(f'../data-processed/scale-down/pid-track-artist-scaled-{samp}.csv')"
   ]
  },
  {
   "cell_type": "code",
   "execution_count": 14,
   "metadata": {},
   "outputs": [
    {
     "data": {
      "text/html": [
       "<div>\n",
       "<style scoped>\n",
       "    .dataframe tbody tr th:only-of-type {\n",
       "        vertical-align: middle;\n",
       "    }\n",
       "\n",
       "    .dataframe tbody tr th {\n",
       "        vertical-align: top;\n",
       "    }\n",
       "\n",
       "    .dataframe thead th {\n",
       "        text-align: right;\n",
       "    }\n",
       "</style>\n",
       "<table border=\"1\" class=\"dataframe\">\n",
       "  <thead>\n",
       "    <tr style=\"text-align: right;\">\n",
       "      <th></th>\n",
       "      <th>pid</th>\n",
       "      <th>pos</th>\n",
       "      <th>track_uri</th>\n",
       "      <th>artist_uri</th>\n",
       "    </tr>\n",
       "  </thead>\n",
       "  <tbody>\n",
       "    <tr>\n",
       "      <th>0</th>\n",
       "      <td>830000</td>\n",
       "      <td>0</td>\n",
       "      <td>spotify:track:0oOCpb17DwBfvQ9Xbr9IYg</td>\n",
       "      <td>spotify:artist:0HjYETXAvcL6mzaKjAmH2K</td>\n",
       "    </tr>\n",
       "    <tr>\n",
       "      <th>1</th>\n",
       "      <td>830000</td>\n",
       "      <td>1</td>\n",
       "      <td>spotify:track:6Knv6wdA0luoMUuuoYi2i1</td>\n",
       "      <td>spotify:artist:0jnsk9HBra6NMjO2oANoPY</td>\n",
       "    </tr>\n",
       "    <tr>\n",
       "      <th>2</th>\n",
       "      <td>830000</td>\n",
       "      <td>2</td>\n",
       "      <td>spotify:track:1BfPC2cHY3m9RIstE4cjr5</td>\n",
       "      <td>spotify:artist:1YXg2Chm7UfZAUAkjJEpqK</td>\n",
       "    </tr>\n",
       "    <tr>\n",
       "      <th>3</th>\n",
       "      <td>830000</td>\n",
       "      <td>3</td>\n",
       "      <td>spotify:track:0uwmgMXqoJ7wh102MTHTN7</td>\n",
       "      <td>spotify:artist:1YXg2Chm7UfZAUAkjJEpqK</td>\n",
       "    </tr>\n",
       "    <tr>\n",
       "      <th>4</th>\n",
       "      <td>830000</td>\n",
       "      <td>4</td>\n",
       "      <td>spotify:track:4jTiyLlOJVJj3mCr7yfPQD</td>\n",
       "      <td>spotify:artist:7iZtZyCzp3LItcw1wtPI3D</td>\n",
       "    </tr>\n",
       "  </tbody>\n",
       "</table>\n",
       "</div>"
      ],
      "text/plain": [
       "      pid  pos                             track_uri  \\\n",
       "0  830000    0  spotify:track:0oOCpb17DwBfvQ9Xbr9IYg   \n",
       "1  830000    1  spotify:track:6Knv6wdA0luoMUuuoYi2i1   \n",
       "2  830000    2  spotify:track:1BfPC2cHY3m9RIstE4cjr5   \n",
       "3  830000    3  spotify:track:0uwmgMXqoJ7wh102MTHTN7   \n",
       "4  830000    4  spotify:track:4jTiyLlOJVJj3mCr7yfPQD   \n",
       "\n",
       "                              artist_uri  \n",
       "0  spotify:artist:0HjYETXAvcL6mzaKjAmH2K  \n",
       "1  spotify:artist:0jnsk9HBra6NMjO2oANoPY  \n",
       "2  spotify:artist:1YXg2Chm7UfZAUAkjJEpqK  \n",
       "3  spotify:artist:1YXg2Chm7UfZAUAkjJEpqK  \n",
       "4  spotify:artist:7iZtZyCzp3LItcw1wtPI3D  "
      ]
     },
     "execution_count": 14,
     "metadata": {},
     "output_type": "execute_result"
    }
   ],
   "source": [
    "df.head()"
   ]
  },
  {
   "cell_type": "code",
   "execution_count": 15,
   "metadata": {},
   "outputs": [
    {
     "data": {
      "text/plain": [
       "pid            int64\n",
       "pos            int64\n",
       "track_uri     object\n",
       "artist_uri    object\n",
       "dtype: object"
      ]
     },
     "execution_count": 15,
     "metadata": {},
     "output_type": "execute_result"
    }
   ],
   "source": [
    "df.dtypes"
   ]
  },
  {
   "cell_type": "markdown",
   "metadata": {},
   "source": [
    "### Binary scaling"
   ]
  },
  {
   "cell_type": "code",
   "execution_count": 16,
   "metadata": {},
   "outputs": [],
   "source": [
    "df['binary_rating'] = 1"
   ]
  },
  {
   "cell_type": "markdown",
   "metadata": {},
   "source": [
    "### Scale 1 to 10 "
   ]
  },
  {
   "cell_type": "code",
   "execution_count": 17,
   "metadata": {},
   "outputs": [
    {
     "data": {
      "text/html": [
       "<div>\n",
       "<style scoped>\n",
       "    .dataframe tbody tr th:only-of-type {\n",
       "        vertical-align: middle;\n",
       "    }\n",
       "\n",
       "    .dataframe tbody tr th {\n",
       "        vertical-align: top;\n",
       "    }\n",
       "\n",
       "    .dataframe thead th {\n",
       "        text-align: right;\n",
       "    }\n",
       "</style>\n",
       "<table border=\"1\" class=\"dataframe\">\n",
       "  <thead>\n",
       "    <tr style=\"text-align: right;\">\n",
       "      <th></th>\n",
       "      <th>pid</th>\n",
       "      <th>pos</th>\n",
       "      <th>track_uri</th>\n",
       "      <th>artist_uri</th>\n",
       "      <th>binary_rating</th>\n",
       "    </tr>\n",
       "  </thead>\n",
       "  <tbody>\n",
       "    <tr>\n",
       "      <th>0</th>\n",
       "      <td>830000</td>\n",
       "      <td>0</td>\n",
       "      <td>spotify:track:0oOCpb17DwBfvQ9Xbr9IYg</td>\n",
       "      <td>spotify:artist:0HjYETXAvcL6mzaKjAmH2K</td>\n",
       "      <td>1</td>\n",
       "    </tr>\n",
       "    <tr>\n",
       "      <th>1</th>\n",
       "      <td>830000</td>\n",
       "      <td>1</td>\n",
       "      <td>spotify:track:6Knv6wdA0luoMUuuoYi2i1</td>\n",
       "      <td>spotify:artist:0jnsk9HBra6NMjO2oANoPY</td>\n",
       "      <td>1</td>\n",
       "    </tr>\n",
       "    <tr>\n",
       "      <th>2</th>\n",
       "      <td>830000</td>\n",
       "      <td>2</td>\n",
       "      <td>spotify:track:1BfPC2cHY3m9RIstE4cjr5</td>\n",
       "      <td>spotify:artist:1YXg2Chm7UfZAUAkjJEpqK</td>\n",
       "      <td>1</td>\n",
       "    </tr>\n",
       "    <tr>\n",
       "      <th>3</th>\n",
       "      <td>830000</td>\n",
       "      <td>3</td>\n",
       "      <td>spotify:track:0uwmgMXqoJ7wh102MTHTN7</td>\n",
       "      <td>spotify:artist:1YXg2Chm7UfZAUAkjJEpqK</td>\n",
       "      <td>1</td>\n",
       "    </tr>\n",
       "    <tr>\n",
       "      <th>4</th>\n",
       "      <td>830000</td>\n",
       "      <td>4</td>\n",
       "      <td>spotify:track:4jTiyLlOJVJj3mCr7yfPQD</td>\n",
       "      <td>spotify:artist:7iZtZyCzp3LItcw1wtPI3D</td>\n",
       "      <td>1</td>\n",
       "    </tr>\n",
       "  </tbody>\n",
       "</table>\n",
       "</div>"
      ],
      "text/plain": [
       "      pid  pos                             track_uri  \\\n",
       "0  830000    0  spotify:track:0oOCpb17DwBfvQ9Xbr9IYg   \n",
       "1  830000    1  spotify:track:6Knv6wdA0luoMUuuoYi2i1   \n",
       "2  830000    2  spotify:track:1BfPC2cHY3m9RIstE4cjr5   \n",
       "3  830000    3  spotify:track:0uwmgMXqoJ7wh102MTHTN7   \n",
       "4  830000    4  spotify:track:4jTiyLlOJVJj3mCr7yfPQD   \n",
       "\n",
       "                              artist_uri  binary_rating  \n",
       "0  spotify:artist:0HjYETXAvcL6mzaKjAmH2K              1  \n",
       "1  spotify:artist:0jnsk9HBra6NMjO2oANoPY              1  \n",
       "2  spotify:artist:1YXg2Chm7UfZAUAkjJEpqK              1  \n",
       "3  spotify:artist:1YXg2Chm7UfZAUAkjJEpqK              1  \n",
       "4  spotify:artist:7iZtZyCzp3LItcw1wtPI3D              1  "
      ]
     },
     "execution_count": 17,
     "metadata": {},
     "output_type": "execute_result"
    }
   ],
   "source": [
    "df.head()"
   ]
  },
  {
   "cell_type": "code",
   "execution_count": 18,
   "metadata": {},
   "outputs": [],
   "source": [
    "df['pos_max'] = df.groupby('pid')['pos'].transform('max')\n",
    "df['pos_rating'] = (9*(df['pos_max'] - df['pos'])/(df['pos_max']))+1\n",
    "df=df.drop(columns=['pos_max'], axis =1 )"
   ]
  },
  {
   "cell_type": "code",
   "execution_count": 19,
   "metadata": {},
   "outputs": [
    {
     "data": {
      "text/html": [
       "<div>\n",
       "<style scoped>\n",
       "    .dataframe tbody tr th:only-of-type {\n",
       "        vertical-align: middle;\n",
       "    }\n",
       "\n",
       "    .dataframe tbody tr th {\n",
       "        vertical-align: top;\n",
       "    }\n",
       "\n",
       "    .dataframe thead th {\n",
       "        text-align: right;\n",
       "    }\n",
       "</style>\n",
       "<table border=\"1\" class=\"dataframe\">\n",
       "  <thead>\n",
       "    <tr style=\"text-align: right;\">\n",
       "      <th></th>\n",
       "      <th>pid</th>\n",
       "      <th>pos</th>\n",
       "      <th>track_uri</th>\n",
       "      <th>artist_uri</th>\n",
       "      <th>binary_rating</th>\n",
       "      <th>pos_rating</th>\n",
       "    </tr>\n",
       "  </thead>\n",
       "  <tbody>\n",
       "    <tr>\n",
       "      <th>0</th>\n",
       "      <td>830000</td>\n",
       "      <td>0</td>\n",
       "      <td>spotify:track:0oOCpb17DwBfvQ9Xbr9IYg</td>\n",
       "      <td>spotify:artist:0HjYETXAvcL6mzaKjAmH2K</td>\n",
       "      <td>1</td>\n",
       "      <td>10.000</td>\n",
       "    </tr>\n",
       "    <tr>\n",
       "      <th>1</th>\n",
       "      <td>830000</td>\n",
       "      <td>1</td>\n",
       "      <td>spotify:track:6Knv6wdA0luoMUuuoYi2i1</td>\n",
       "      <td>spotify:artist:0jnsk9HBra6NMjO2oANoPY</td>\n",
       "      <td>1</td>\n",
       "      <td>9.875</td>\n",
       "    </tr>\n",
       "    <tr>\n",
       "      <th>2</th>\n",
       "      <td>830000</td>\n",
       "      <td>2</td>\n",
       "      <td>spotify:track:1BfPC2cHY3m9RIstE4cjr5</td>\n",
       "      <td>spotify:artist:1YXg2Chm7UfZAUAkjJEpqK</td>\n",
       "      <td>1</td>\n",
       "      <td>9.750</td>\n",
       "    </tr>\n",
       "    <tr>\n",
       "      <th>3</th>\n",
       "      <td>830000</td>\n",
       "      <td>3</td>\n",
       "      <td>spotify:track:0uwmgMXqoJ7wh102MTHTN7</td>\n",
       "      <td>spotify:artist:1YXg2Chm7UfZAUAkjJEpqK</td>\n",
       "      <td>1</td>\n",
       "      <td>9.625</td>\n",
       "    </tr>\n",
       "    <tr>\n",
       "      <th>4</th>\n",
       "      <td>830000</td>\n",
       "      <td>4</td>\n",
       "      <td>spotify:track:4jTiyLlOJVJj3mCr7yfPQD</td>\n",
       "      <td>spotify:artist:7iZtZyCzp3LItcw1wtPI3D</td>\n",
       "      <td>1</td>\n",
       "      <td>9.500</td>\n",
       "    </tr>\n",
       "  </tbody>\n",
       "</table>\n",
       "</div>"
      ],
      "text/plain": [
       "      pid  pos                             track_uri  \\\n",
       "0  830000    0  spotify:track:0oOCpb17DwBfvQ9Xbr9IYg   \n",
       "1  830000    1  spotify:track:6Knv6wdA0luoMUuuoYi2i1   \n",
       "2  830000    2  spotify:track:1BfPC2cHY3m9RIstE4cjr5   \n",
       "3  830000    3  spotify:track:0uwmgMXqoJ7wh102MTHTN7   \n",
       "4  830000    4  spotify:track:4jTiyLlOJVJj3mCr7yfPQD   \n",
       "\n",
       "                              artist_uri  binary_rating  pos_rating  \n",
       "0  spotify:artist:0HjYETXAvcL6mzaKjAmH2K              1      10.000  \n",
       "1  spotify:artist:0jnsk9HBra6NMjO2oANoPY              1       9.875  \n",
       "2  spotify:artist:1YXg2Chm7UfZAUAkjJEpqK              1       9.750  \n",
       "3  spotify:artist:1YXg2Chm7UfZAUAkjJEpqK              1       9.625  \n",
       "4  spotify:artist:7iZtZyCzp3LItcw1wtPI3D              1       9.500  "
      ]
     },
     "execution_count": 19,
     "metadata": {},
     "output_type": "execute_result"
    }
   ],
   "source": [
    "df.head()"
   ]
  },
  {
   "cell_type": "code",
   "execution_count": 20,
   "metadata": {},
   "outputs": [],
   "source": [
    "df[['pid','track_uri','binary_rating','pos_rating']].to_csv(f'../data-processed/pid-track-ratings-scaled-{samp}.csv', index = None)"
   ]
  },
  {
   "cell_type": "markdown",
   "metadata": {},
   "source": [
    "## Hold out playlists for testing - to be used for R-precision and NDGC calculation"
   ]
  },
  {
   "cell_type": "code",
   "execution_count": 21,
   "metadata": {},
   "outputs": [],
   "source": [
    "pids = pd.DataFrame(df.groupby('pid')['pos'].max()).reset_index()\n",
    "pids.columns=['pid','num_tracks']\n",
    "pids['train_test'] = np.where(np.random.rand(len(pids),1)<=0.7,'train','test')"
   ]
  },
  {
   "cell_type": "code",
   "execution_count": 22,
   "metadata": {},
   "outputs": [
    {
     "data": {
      "text/html": [
       "<div>\n",
       "<style scoped>\n",
       "    .dataframe tbody tr th:only-of-type {\n",
       "        vertical-align: middle;\n",
       "    }\n",
       "\n",
       "    .dataframe tbody tr th {\n",
       "        vertical-align: top;\n",
       "    }\n",
       "\n",
       "    .dataframe thead th {\n",
       "        text-align: right;\n",
       "    }\n",
       "</style>\n",
       "<table border=\"1\" class=\"dataframe\">\n",
       "  <thead>\n",
       "    <tr style=\"text-align: right;\">\n",
       "      <th></th>\n",
       "      <th>pid</th>\n",
       "      <th>num_tracks</th>\n",
       "      <th>train_test</th>\n",
       "    </tr>\n",
       "  </thead>\n",
       "  <tbody>\n",
       "    <tr>\n",
       "      <th>0</th>\n",
       "      <td>0</td>\n",
       "      <td>51</td>\n",
       "      <td>train</td>\n",
       "    </tr>\n",
       "    <tr>\n",
       "      <th>1</th>\n",
       "      <td>1</td>\n",
       "      <td>38</td>\n",
       "      <td>test</td>\n",
       "    </tr>\n",
       "    <tr>\n",
       "      <th>2</th>\n",
       "      <td>2</td>\n",
       "      <td>63</td>\n",
       "      <td>test</td>\n",
       "    </tr>\n",
       "    <tr>\n",
       "      <th>3</th>\n",
       "      <td>3</td>\n",
       "      <td>125</td>\n",
       "      <td>train</td>\n",
       "    </tr>\n",
       "    <tr>\n",
       "      <th>4</th>\n",
       "      <td>4</td>\n",
       "      <td>16</td>\n",
       "      <td>test</td>\n",
       "    </tr>\n",
       "  </tbody>\n",
       "</table>\n",
       "</div>"
      ],
      "text/plain": [
       "   pid  num_tracks train_test\n",
       "0    0          51      train\n",
       "1    1          38       test\n",
       "2    2          63       test\n",
       "3    3         125      train\n",
       "4    4          16       test"
      ]
     },
     "execution_count": 22,
     "metadata": {},
     "output_type": "execute_result"
    }
   ],
   "source": [
    "pids.head()"
   ]
  },
  {
   "cell_type": "code",
   "execution_count": 23,
   "metadata": {},
   "outputs": [],
   "source": [
    "D_num_tracks={}\n",
    "for index, row in pids.iterrows():\n",
    "    D_num_tracks[row['pid']] = row['num_tracks']"
   ]
  },
  {
   "cell_type": "code",
   "execution_count": 24,
   "metadata": {},
   "outputs": [
    {
     "data": {
      "text/html": [
       "<div>\n",
       "<style scoped>\n",
       "    .dataframe tbody tr th:only-of-type {\n",
       "        vertical-align: middle;\n",
       "    }\n",
       "\n",
       "    .dataframe tbody tr th {\n",
       "        vertical-align: top;\n",
       "    }\n",
       "\n",
       "    .dataframe thead th {\n",
       "        text-align: right;\n",
       "    }\n",
       "</style>\n",
       "<table border=\"1\" class=\"dataframe\">\n",
       "  <thead>\n",
       "    <tr style=\"text-align: right;\">\n",
       "      <th></th>\n",
       "      <th>pid</th>\n",
       "      <th>num_tracks</th>\n",
       "    </tr>\n",
       "  </thead>\n",
       "  <tbody>\n",
       "    <tr>\n",
       "      <th>count</th>\n",
       "      <td>500000.000000</td>\n",
       "      <td>500000.00000</td>\n",
       "    </tr>\n",
       "    <tr>\n",
       "      <th>mean</th>\n",
       "      <td>497895.500000</td>\n",
       "      <td>65.42352</td>\n",
       "    </tr>\n",
       "    <tr>\n",
       "      <th>std</th>\n",
       "      <td>291910.679732</td>\n",
       "      <td>53.71380</td>\n",
       "    </tr>\n",
       "    <tr>\n",
       "      <th>min</th>\n",
       "      <td>0.000000</td>\n",
       "      <td>4.00000</td>\n",
       "    </tr>\n",
       "    <tr>\n",
       "      <th>25%</th>\n",
       "      <td>237499.750000</td>\n",
       "      <td>25.00000</td>\n",
       "    </tr>\n",
       "    <tr>\n",
       "      <th>50%</th>\n",
       "      <td>509999.500000</td>\n",
       "      <td>48.00000</td>\n",
       "    </tr>\n",
       "    <tr>\n",
       "      <th>75%</th>\n",
       "      <td>752999.250000</td>\n",
       "      <td>91.00000</td>\n",
       "    </tr>\n",
       "    <tr>\n",
       "      <th>max</th>\n",
       "      <td>999999.000000</td>\n",
       "      <td>375.00000</td>\n",
       "    </tr>\n",
       "  </tbody>\n",
       "</table>\n",
       "</div>"
      ],
      "text/plain": [
       "                 pid    num_tracks\n",
       "count  500000.000000  500000.00000\n",
       "mean   497895.500000      65.42352\n",
       "std    291910.679732      53.71380\n",
       "min         0.000000       4.00000\n",
       "25%    237499.750000      25.00000\n",
       "50%    509999.500000      48.00000\n",
       "75%    752999.250000      91.00000\n",
       "max    999999.000000     375.00000"
      ]
     },
     "execution_count": 24,
     "metadata": {},
     "output_type": "execute_result"
    }
   ],
   "source": [
    "pids.describe()"
   ]
  },
  {
   "cell_type": "code",
   "execution_count": 25,
   "metadata": {},
   "outputs": [],
   "source": [
    "holdout_array = [0.5,0.6,0.7,0.8,0.9,0.95]\n",
    "first_random = ['first','random']"
   ]
  },
  {
   "cell_type": "code",
   "execution_count": 26,
   "metadata": {},
   "outputs": [],
   "source": [
    "pids['test_first_random'] = np.random.randint(0, 2, pids.shape[0])"
   ]
  },
  {
   "cell_type": "code",
   "execution_count": 27,
   "metadata": {},
   "outputs": [],
   "source": [
    "pids['test_hould_out_pct'] = [random.choice(holdout_array)*100 for i in range(len(pids))]\n",
    "pids['seed_tracks_num'] = np.ceil(pids['num_tracks']*(1-pids['test_hould_out_pct']/100))\n",
    "pids['seed_tracks_num'] = np.where(pids['seed_tracks_num']>100,100, pids['seed_tracks_num'])"
   ]
  },
  {
   "cell_type": "code",
   "execution_count": 28,
   "metadata": {},
   "outputs": [
    {
     "data": {
      "text/plain": [
       "train    350603\n",
       "test     149397\n",
       "Name: train_test, dtype: int64"
      ]
     },
     "execution_count": 28,
     "metadata": {},
     "output_type": "execute_result"
    }
   ],
   "source": [
    "pids['train_test'].value_counts()"
   ]
  },
  {
   "cell_type": "code",
   "execution_count": 29,
   "metadata": {},
   "outputs": [],
   "source": [
    "D_test_train={}\n",
    "for index, row in pids.iterrows():\n",
    "    D_test_train[row['pid']] = row['train_test']"
   ]
  },
  {
   "cell_type": "code",
   "execution_count": 30,
   "metadata": {},
   "outputs": [],
   "source": [
    "D_test_first_random={}\n",
    "for index, row in pids.iterrows():\n",
    "    D_test_first_random[row['pid']] = row['test_first_random']"
   ]
  },
  {
   "cell_type": "code",
   "execution_count": 31,
   "metadata": {},
   "outputs": [],
   "source": [
    "D_seed_tracks_num={}\n",
    "for index, row in pids.iterrows():\n",
    "    D_seed_tracks_num[row['pid']] = row['seed_tracks_num']"
   ]
  },
  {
   "cell_type": "code",
   "execution_count": 32,
   "metadata": {},
   "outputs": [],
   "source": [
    "df['train_test'] = df['pid'].map(D_test_train)\n",
    "df['test_first_random'] = df['pid'].map(D_test_first_random)\n",
    "df['seed_tracks_num'] = df['pid'].map(D_seed_tracks_num)"
   ]
  },
  {
   "cell_type": "code",
   "execution_count": 33,
   "metadata": {},
   "outputs": [
    {
     "data": {
      "text/plain": [
       "train    23274032\n",
       "test      9937728\n",
       "Name: train_test, dtype: int64"
      ]
     },
     "execution_count": 33,
     "metadata": {},
     "output_type": "execute_result"
    }
   ],
   "source": [
    "df['train_test'].value_counts()"
   ]
  },
  {
   "cell_type": "code",
   "execution_count": 34,
   "metadata": {},
   "outputs": [],
   "source": [
    "df['num_tracks'] = df['pid'].map(D_num_tracks)"
   ]
  },
  {
   "cell_type": "code",
   "execution_count": 35,
   "metadata": {},
   "outputs": [
    {
     "data": {
      "text/html": [
       "<div>\n",
       "<style scoped>\n",
       "    .dataframe tbody tr th:only-of-type {\n",
       "        vertical-align: middle;\n",
       "    }\n",
       "\n",
       "    .dataframe tbody tr th {\n",
       "        vertical-align: top;\n",
       "    }\n",
       "\n",
       "    .dataframe thead th {\n",
       "        text-align: right;\n",
       "    }\n",
       "</style>\n",
       "<table border=\"1\" class=\"dataframe\">\n",
       "  <thead>\n",
       "    <tr style=\"text-align: right;\">\n",
       "      <th></th>\n",
       "      <th>pid</th>\n",
       "      <th>pos</th>\n",
       "      <th>track_uri</th>\n",
       "      <th>artist_uri</th>\n",
       "      <th>binary_rating</th>\n",
       "      <th>pos_rating</th>\n",
       "      <th>train_test</th>\n",
       "      <th>test_first_random</th>\n",
       "      <th>seed_tracks_num</th>\n",
       "      <th>num_tracks</th>\n",
       "    </tr>\n",
       "  </thead>\n",
       "  <tbody>\n",
       "    <tr>\n",
       "      <th>0</th>\n",
       "      <td>830000</td>\n",
       "      <td>0</td>\n",
       "      <td>spotify:track:0oOCpb17DwBfvQ9Xbr9IYg</td>\n",
       "      <td>spotify:artist:0HjYETXAvcL6mzaKjAmH2K</td>\n",
       "      <td>1</td>\n",
       "      <td>10.000</td>\n",
       "      <td>train</td>\n",
       "      <td>0</td>\n",
       "      <td>15.0</td>\n",
       "      <td>72</td>\n",
       "    </tr>\n",
       "    <tr>\n",
       "      <th>1</th>\n",
       "      <td>830000</td>\n",
       "      <td>1</td>\n",
       "      <td>spotify:track:6Knv6wdA0luoMUuuoYi2i1</td>\n",
       "      <td>spotify:artist:0jnsk9HBra6NMjO2oANoPY</td>\n",
       "      <td>1</td>\n",
       "      <td>9.875</td>\n",
       "      <td>train</td>\n",
       "      <td>0</td>\n",
       "      <td>15.0</td>\n",
       "      <td>72</td>\n",
       "    </tr>\n",
       "    <tr>\n",
       "      <th>2</th>\n",
       "      <td>830000</td>\n",
       "      <td>2</td>\n",
       "      <td>spotify:track:1BfPC2cHY3m9RIstE4cjr5</td>\n",
       "      <td>spotify:artist:1YXg2Chm7UfZAUAkjJEpqK</td>\n",
       "      <td>1</td>\n",
       "      <td>9.750</td>\n",
       "      <td>train</td>\n",
       "      <td>0</td>\n",
       "      <td>15.0</td>\n",
       "      <td>72</td>\n",
       "    </tr>\n",
       "    <tr>\n",
       "      <th>3</th>\n",
       "      <td>830000</td>\n",
       "      <td>3</td>\n",
       "      <td>spotify:track:0uwmgMXqoJ7wh102MTHTN7</td>\n",
       "      <td>spotify:artist:1YXg2Chm7UfZAUAkjJEpqK</td>\n",
       "      <td>1</td>\n",
       "      <td>9.625</td>\n",
       "      <td>train</td>\n",
       "      <td>0</td>\n",
       "      <td>15.0</td>\n",
       "      <td>72</td>\n",
       "    </tr>\n",
       "    <tr>\n",
       "      <th>4</th>\n",
       "      <td>830000</td>\n",
       "      <td>4</td>\n",
       "      <td>spotify:track:4jTiyLlOJVJj3mCr7yfPQD</td>\n",
       "      <td>spotify:artist:7iZtZyCzp3LItcw1wtPI3D</td>\n",
       "      <td>1</td>\n",
       "      <td>9.500</td>\n",
       "      <td>train</td>\n",
       "      <td>0</td>\n",
       "      <td>15.0</td>\n",
       "      <td>72</td>\n",
       "    </tr>\n",
       "  </tbody>\n",
       "</table>\n",
       "</div>"
      ],
      "text/plain": [
       "      pid  pos                             track_uri  \\\n",
       "0  830000    0  spotify:track:0oOCpb17DwBfvQ9Xbr9IYg   \n",
       "1  830000    1  spotify:track:6Knv6wdA0luoMUuuoYi2i1   \n",
       "2  830000    2  spotify:track:1BfPC2cHY3m9RIstE4cjr5   \n",
       "3  830000    3  spotify:track:0uwmgMXqoJ7wh102MTHTN7   \n",
       "4  830000    4  spotify:track:4jTiyLlOJVJj3mCr7yfPQD   \n",
       "\n",
       "                              artist_uri  binary_rating  pos_rating  \\\n",
       "0  spotify:artist:0HjYETXAvcL6mzaKjAmH2K              1      10.000   \n",
       "1  spotify:artist:0jnsk9HBra6NMjO2oANoPY              1       9.875   \n",
       "2  spotify:artist:1YXg2Chm7UfZAUAkjJEpqK              1       9.750   \n",
       "3  spotify:artist:1YXg2Chm7UfZAUAkjJEpqK              1       9.625   \n",
       "4  spotify:artist:7iZtZyCzp3LItcw1wtPI3D              1       9.500   \n",
       "\n",
       "  train_test  test_first_random  seed_tracks_num  num_tracks  \n",
       "0      train                  0             15.0          72  \n",
       "1      train                  0             15.0          72  \n",
       "2      train                  0             15.0          72  \n",
       "3      train                  0             15.0          72  \n",
       "4      train                  0             15.0          72  "
      ]
     },
     "execution_count": 35,
     "metadata": {},
     "output_type": "execute_result"
    }
   ],
   "source": [
    "df.head()"
   ]
  },
  {
   "cell_type": "code",
   "execution_count": 36,
   "metadata": {},
   "outputs": [],
   "source": [
    "df_train = df[df.train_test == 'train']\n",
    "df_test_1 = df[(df.train_test == 'test') & (df.test_first_random==1)]#first x tracks\n",
    "df_test_2 = df[(df.train_test == 'test') & (df.test_first_random==0)]#random x tracks\n",
    "df_train['hold_out'] = 0"
   ]
  },
  {
   "cell_type": "code",
   "execution_count": 37,
   "metadata": {},
   "outputs": [
    {
     "data": {
      "text/plain": [
       "0"
      ]
     },
     "execution_count": 37,
     "metadata": {},
     "output_type": "execute_result"
    }
   ],
   "source": [
    "df.shape[0]-df_test_1.shape[0]-df_test_2.shape[0]-df_train.shape[0]"
   ]
  },
  {
   "cell_type": "code",
   "execution_count": 38,
   "metadata": {},
   "outputs": [
    {
     "data": {
      "text/plain": [
       "((4973975, 10), (4963753, 10), (23274032, 11))"
      ]
     },
     "execution_count": 38,
     "metadata": {},
     "output_type": "execute_result"
    }
   ],
   "source": [
    "df_test_1.shape, df_test_2.shape, df_train.shape"
   ]
  },
  {
   "cell_type": "code",
   "execution_count": 39,
   "metadata": {},
   "outputs": [
    {
     "data": {
      "text/html": [
       "<div>\n",
       "<style scoped>\n",
       "    .dataframe tbody tr th:only-of-type {\n",
       "        vertical-align: middle;\n",
       "    }\n",
       "\n",
       "    .dataframe tbody tr th {\n",
       "        vertical-align: top;\n",
       "    }\n",
       "\n",
       "    .dataframe thead th {\n",
       "        text-align: right;\n",
       "    }\n",
       "</style>\n",
       "<table border=\"1\" class=\"dataframe\">\n",
       "  <thead>\n",
       "    <tr style=\"text-align: right;\">\n",
       "      <th></th>\n",
       "      <th>pid</th>\n",
       "      <th>pos</th>\n",
       "      <th>track_uri</th>\n",
       "      <th>artist_uri</th>\n",
       "      <th>binary_rating</th>\n",
       "      <th>pos_rating</th>\n",
       "      <th>train_test</th>\n",
       "      <th>test_first_random</th>\n",
       "      <th>seed_tracks_num</th>\n",
       "      <th>num_tracks</th>\n",
       "      <th>hold_out</th>\n",
       "    </tr>\n",
       "  </thead>\n",
       "  <tbody>\n",
       "    <tr>\n",
       "      <th>0</th>\n",
       "      <td>830000</td>\n",
       "      <td>0</td>\n",
       "      <td>spotify:track:0oOCpb17DwBfvQ9Xbr9IYg</td>\n",
       "      <td>spotify:artist:0HjYETXAvcL6mzaKjAmH2K</td>\n",
       "      <td>1</td>\n",
       "      <td>10.000</td>\n",
       "      <td>train</td>\n",
       "      <td>0</td>\n",
       "      <td>15.0</td>\n",
       "      <td>72</td>\n",
       "      <td>0</td>\n",
       "    </tr>\n",
       "    <tr>\n",
       "      <th>1</th>\n",
       "      <td>830000</td>\n",
       "      <td>1</td>\n",
       "      <td>spotify:track:6Knv6wdA0luoMUuuoYi2i1</td>\n",
       "      <td>spotify:artist:0jnsk9HBra6NMjO2oANoPY</td>\n",
       "      <td>1</td>\n",
       "      <td>9.875</td>\n",
       "      <td>train</td>\n",
       "      <td>0</td>\n",
       "      <td>15.0</td>\n",
       "      <td>72</td>\n",
       "      <td>0</td>\n",
       "    </tr>\n",
       "    <tr>\n",
       "      <th>2</th>\n",
       "      <td>830000</td>\n",
       "      <td>2</td>\n",
       "      <td>spotify:track:1BfPC2cHY3m9RIstE4cjr5</td>\n",
       "      <td>spotify:artist:1YXg2Chm7UfZAUAkjJEpqK</td>\n",
       "      <td>1</td>\n",
       "      <td>9.750</td>\n",
       "      <td>train</td>\n",
       "      <td>0</td>\n",
       "      <td>15.0</td>\n",
       "      <td>72</td>\n",
       "      <td>0</td>\n",
       "    </tr>\n",
       "    <tr>\n",
       "      <th>3</th>\n",
       "      <td>830000</td>\n",
       "      <td>3</td>\n",
       "      <td>spotify:track:0uwmgMXqoJ7wh102MTHTN7</td>\n",
       "      <td>spotify:artist:1YXg2Chm7UfZAUAkjJEpqK</td>\n",
       "      <td>1</td>\n",
       "      <td>9.625</td>\n",
       "      <td>train</td>\n",
       "      <td>0</td>\n",
       "      <td>15.0</td>\n",
       "      <td>72</td>\n",
       "      <td>0</td>\n",
       "    </tr>\n",
       "    <tr>\n",
       "      <th>4</th>\n",
       "      <td>830000</td>\n",
       "      <td>4</td>\n",
       "      <td>spotify:track:4jTiyLlOJVJj3mCr7yfPQD</td>\n",
       "      <td>spotify:artist:7iZtZyCzp3LItcw1wtPI3D</td>\n",
       "      <td>1</td>\n",
       "      <td>9.500</td>\n",
       "      <td>train</td>\n",
       "      <td>0</td>\n",
       "      <td>15.0</td>\n",
       "      <td>72</td>\n",
       "      <td>0</td>\n",
       "    </tr>\n",
       "  </tbody>\n",
       "</table>\n",
       "</div>"
      ],
      "text/plain": [
       "      pid  pos                             track_uri  \\\n",
       "0  830000    0  spotify:track:0oOCpb17DwBfvQ9Xbr9IYg   \n",
       "1  830000    1  spotify:track:6Knv6wdA0luoMUuuoYi2i1   \n",
       "2  830000    2  spotify:track:1BfPC2cHY3m9RIstE4cjr5   \n",
       "3  830000    3  spotify:track:0uwmgMXqoJ7wh102MTHTN7   \n",
       "4  830000    4  spotify:track:4jTiyLlOJVJj3mCr7yfPQD   \n",
       "\n",
       "                              artist_uri  binary_rating  pos_rating  \\\n",
       "0  spotify:artist:0HjYETXAvcL6mzaKjAmH2K              1      10.000   \n",
       "1  spotify:artist:0jnsk9HBra6NMjO2oANoPY              1       9.875   \n",
       "2  spotify:artist:1YXg2Chm7UfZAUAkjJEpqK              1       9.750   \n",
       "3  spotify:artist:1YXg2Chm7UfZAUAkjJEpqK              1       9.625   \n",
       "4  spotify:artist:7iZtZyCzp3LItcw1wtPI3D              1       9.500   \n",
       "\n",
       "  train_test  test_first_random  seed_tracks_num  num_tracks  hold_out  \n",
       "0      train                  0             15.0          72         0  \n",
       "1      train                  0             15.0          72         0  \n",
       "2      train                  0             15.0          72         0  \n",
       "3      train                  0             15.0          72         0  \n",
       "4      train                  0             15.0          72         0  "
      ]
     },
     "execution_count": 39,
     "metadata": {},
     "output_type": "execute_result"
    }
   ],
   "source": [
    "df_train.head()"
   ]
  },
  {
   "cell_type": "code",
   "execution_count": 40,
   "metadata": {},
   "outputs": [],
   "source": [
    "#select x first tracks\n",
    "df_test_1['hold_out'] = np.where(df_test_1.pos<df_test_1.seed_tracks_num,0,1)"
   ]
  },
  {
   "cell_type": "code",
   "execution_count": 41,
   "metadata": {},
   "outputs": [],
   "source": [
    "df_test_2['hold_out_'] = np.where(df_test_2.pos<df_test_2.seed_tracks_num,0,1)"
   ]
  },
  {
   "cell_type": "code",
   "execution_count": 42,
   "metadata": {},
   "outputs": [
    {
     "data": {
      "text/plain": [
       "(4973975, 11)"
      ]
     },
     "execution_count": 42,
     "metadata": {},
     "output_type": "execute_result"
    }
   ],
   "source": [
    "df_test_1.shape"
   ]
  },
  {
   "cell_type": "code",
   "execution_count": 43,
   "metadata": {},
   "outputs": [
    {
     "data": {
      "text/plain": [
       "(4963753, 11)"
      ]
     },
     "execution_count": 43,
     "metadata": {},
     "output_type": "execute_result"
    }
   ],
   "source": [
    "df_test_2.shape"
   ]
  },
  {
   "cell_type": "code",
   "execution_count": 44,
   "metadata": {},
   "outputs": [],
   "source": [
    "D_seed_tracks={}\n",
    "for index, row in pids.iterrows():\n",
    "    D_seed_tracks[row['pid']] = row['seed_tracks_num']"
   ]
  },
  {
   "cell_type": "code",
   "execution_count": 45,
   "metadata": {},
   "outputs": [],
   "source": [
    "D_num_rows={}\n",
    "for index, row in pids.iterrows():\n",
    "    D_num_rows[row['pid']] = row['num_tracks']+1"
   ]
  },
  {
   "cell_type": "code",
   "execution_count": 46,
   "metadata": {},
   "outputs": [],
   "source": [
    "D_num_rows_sorted={}\n",
    "for el in list(df_test_2.pid.unique()):\n",
    "    D_num_rows_sorted[el] = D_num_rows[el]"
   ]
  },
  {
   "cell_type": "code",
   "execution_count": 47,
   "metadata": {},
   "outputs": [],
   "source": [
    "D_seed_tracks_sorted={}\n",
    "for el in list(df_test_2.pid.unique()):\n",
    "    D_seed_tracks_sorted[el] = D_seed_tracks[el]"
   ]
  },
  {
   "cell_type": "code",
   "execution_count": 48,
   "metadata": {},
   "outputs": [],
   "source": [
    "hold_out_list = []\n",
    "for i,el in enumerate(list(df_test_2.pid.unique())):\n",
    "    l=[0]*int(D_seed_tracks_sorted[el]) + [1]*(int(D_num_rows_sorted[el])-int(D_seed_tracks_sorted[el]))\n",
    "    random.shuffle(l)\n",
    "    hold_out_list.extend(l)"
   ]
  },
  {
   "cell_type": "code",
   "execution_count": 49,
   "metadata": {},
   "outputs": [
    {
     "data": {
      "text/plain": [
       "4963753"
      ]
     },
     "execution_count": 49,
     "metadata": {},
     "output_type": "execute_result"
    }
   ],
   "source": [
    "len(hold_out_list)"
   ]
  },
  {
   "cell_type": "code",
   "execution_count": 50,
   "metadata": {},
   "outputs": [
    {
     "data": {
      "text/html": [
       "<div>\n",
       "<style scoped>\n",
       "    .dataframe tbody tr th:only-of-type {\n",
       "        vertical-align: middle;\n",
       "    }\n",
       "\n",
       "    .dataframe tbody tr th {\n",
       "        vertical-align: top;\n",
       "    }\n",
       "\n",
       "    .dataframe thead th {\n",
       "        text-align: right;\n",
       "    }\n",
       "</style>\n",
       "<table border=\"1\" class=\"dataframe\">\n",
       "  <thead>\n",
       "    <tr style=\"text-align: right;\">\n",
       "      <th></th>\n",
       "      <th>pid</th>\n",
       "      <th>pos</th>\n",
       "      <th>track_uri</th>\n",
       "      <th>artist_uri</th>\n",
       "      <th>binary_rating</th>\n",
       "      <th>pos_rating</th>\n",
       "      <th>train_test</th>\n",
       "      <th>test_first_random</th>\n",
       "      <th>seed_tracks_num</th>\n",
       "      <th>num_tracks</th>\n",
       "      <th>hold_out_</th>\n",
       "      <th>hold_out</th>\n",
       "    </tr>\n",
       "  </thead>\n",
       "  <tbody>\n",
       "    <tr>\n",
       "      <th>483</th>\n",
       "      <td>830008</td>\n",
       "      <td>0</td>\n",
       "      <td>spotify:track:7yyRTcZmCiyzzJlNzGC9Ol</td>\n",
       "      <td>spotify:artist:5M0lbkGluOPXLeFjApw8r8</td>\n",
       "      <td>1</td>\n",
       "      <td>10.000000</td>\n",
       "      <td>test</td>\n",
       "      <td>0</td>\n",
       "      <td>15.0</td>\n",
       "      <td>37</td>\n",
       "      <td>0</td>\n",
       "      <td>1</td>\n",
       "    </tr>\n",
       "    <tr>\n",
       "      <th>484</th>\n",
       "      <td>830008</td>\n",
       "      <td>1</td>\n",
       "      <td>spotify:track:6bqtKURdSWkInAJHDkuaL0</td>\n",
       "      <td>spotify:artist:3TVXtAsR1Inumwj472S9r4</td>\n",
       "      <td>1</td>\n",
       "      <td>9.756757</td>\n",
       "      <td>test</td>\n",
       "      <td>0</td>\n",
       "      <td>15.0</td>\n",
       "      <td>37</td>\n",
       "      <td>0</td>\n",
       "      <td>0</td>\n",
       "    </tr>\n",
       "    <tr>\n",
       "      <th>485</th>\n",
       "      <td>830008</td>\n",
       "      <td>2</td>\n",
       "      <td>spotify:track:7xVLFuuYdAvcTfcP3IG3dS</td>\n",
       "      <td>spotify:artist:5dHt1vcEm9qb8fCyLcB3HL</td>\n",
       "      <td>1</td>\n",
       "      <td>9.513514</td>\n",
       "      <td>test</td>\n",
       "      <td>0</td>\n",
       "      <td>15.0</td>\n",
       "      <td>37</td>\n",
       "      <td>0</td>\n",
       "      <td>1</td>\n",
       "    </tr>\n",
       "    <tr>\n",
       "      <th>486</th>\n",
       "      <td>830008</td>\n",
       "      <td>3</td>\n",
       "      <td>spotify:track:1eQBEelI2NCy7AUTerX0KS</td>\n",
       "      <td>spotify:artist:5K4W6rqBFWDnAN6FQUkS6x</td>\n",
       "      <td>1</td>\n",
       "      <td>9.270270</td>\n",
       "      <td>test</td>\n",
       "      <td>0</td>\n",
       "      <td>15.0</td>\n",
       "      <td>37</td>\n",
       "      <td>0</td>\n",
       "      <td>1</td>\n",
       "    </tr>\n",
       "    <tr>\n",
       "      <th>487</th>\n",
       "      <td>830008</td>\n",
       "      <td>4</td>\n",
       "      <td>spotify:track:4ImL3v98u2BLkwnyQDjfRm</td>\n",
       "      <td>spotify:artist:5K4W6rqBFWDnAN6FQUkS6x</td>\n",
       "      <td>1</td>\n",
       "      <td>9.027027</td>\n",
       "      <td>test</td>\n",
       "      <td>0</td>\n",
       "      <td>15.0</td>\n",
       "      <td>37</td>\n",
       "      <td>0</td>\n",
       "      <td>0</td>\n",
       "    </tr>\n",
       "  </tbody>\n",
       "</table>\n",
       "</div>"
      ],
      "text/plain": [
       "        pid  pos                             track_uri  \\\n",
       "483  830008    0  spotify:track:7yyRTcZmCiyzzJlNzGC9Ol   \n",
       "484  830008    1  spotify:track:6bqtKURdSWkInAJHDkuaL0   \n",
       "485  830008    2  spotify:track:7xVLFuuYdAvcTfcP3IG3dS   \n",
       "486  830008    3  spotify:track:1eQBEelI2NCy7AUTerX0KS   \n",
       "487  830008    4  spotify:track:4ImL3v98u2BLkwnyQDjfRm   \n",
       "\n",
       "                                artist_uri  binary_rating  pos_rating  \\\n",
       "483  spotify:artist:5M0lbkGluOPXLeFjApw8r8              1   10.000000   \n",
       "484  spotify:artist:3TVXtAsR1Inumwj472S9r4              1    9.756757   \n",
       "485  spotify:artist:5dHt1vcEm9qb8fCyLcB3HL              1    9.513514   \n",
       "486  spotify:artist:5K4W6rqBFWDnAN6FQUkS6x              1    9.270270   \n",
       "487  spotify:artist:5K4W6rqBFWDnAN6FQUkS6x              1    9.027027   \n",
       "\n",
       "    train_test  test_first_random  seed_tracks_num  num_tracks  hold_out_  \\\n",
       "483       test                  0             15.0          37          0   \n",
       "484       test                  0             15.0          37          0   \n",
       "485       test                  0             15.0          37          0   \n",
       "486       test                  0             15.0          37          0   \n",
       "487       test                  0             15.0          37          0   \n",
       "\n",
       "     hold_out  \n",
       "483         1  \n",
       "484         0  \n",
       "485         1  \n",
       "486         1  \n",
       "487         0  "
      ]
     },
     "execution_count": 50,
     "metadata": {},
     "output_type": "execute_result"
    }
   ],
   "source": [
    "df_test_2['hold_out']=hold_out_list\n",
    "df_test_2.head()"
   ]
  },
  {
   "cell_type": "code",
   "execution_count": 51,
   "metadata": {},
   "outputs": [],
   "source": [
    "df_test_2.drop(columns=['hold_out_'], inplace=True)"
   ]
  },
  {
   "cell_type": "code",
   "execution_count": 52,
   "metadata": {},
   "outputs": [
    {
     "data": {
      "text/html": [
       "<div>\n",
       "<style scoped>\n",
       "    .dataframe tbody tr th:only-of-type {\n",
       "        vertical-align: middle;\n",
       "    }\n",
       "\n",
       "    .dataframe tbody tr th {\n",
       "        vertical-align: top;\n",
       "    }\n",
       "\n",
       "    .dataframe thead th {\n",
       "        text-align: right;\n",
       "    }\n",
       "</style>\n",
       "<table border=\"1\" class=\"dataframe\">\n",
       "  <thead>\n",
       "    <tr style=\"text-align: right;\">\n",
       "      <th></th>\n",
       "      <th>pid</th>\n",
       "      <th>pos</th>\n",
       "      <th>track_uri</th>\n",
       "      <th>artist_uri</th>\n",
       "      <th>binary_rating</th>\n",
       "      <th>pos_rating</th>\n",
       "      <th>train_test</th>\n",
       "      <th>test_first_random</th>\n",
       "      <th>seed_tracks_num</th>\n",
       "      <th>num_tracks</th>\n",
       "      <th>hold_out</th>\n",
       "    </tr>\n",
       "  </thead>\n",
       "  <tbody>\n",
       "    <tr>\n",
       "      <th>483</th>\n",
       "      <td>830008</td>\n",
       "      <td>0</td>\n",
       "      <td>spotify:track:7yyRTcZmCiyzzJlNzGC9Ol</td>\n",
       "      <td>spotify:artist:5M0lbkGluOPXLeFjApw8r8</td>\n",
       "      <td>1</td>\n",
       "      <td>10.000000</td>\n",
       "      <td>test</td>\n",
       "      <td>0</td>\n",
       "      <td>15.0</td>\n",
       "      <td>37</td>\n",
       "      <td>1</td>\n",
       "    </tr>\n",
       "    <tr>\n",
       "      <th>484</th>\n",
       "      <td>830008</td>\n",
       "      <td>1</td>\n",
       "      <td>spotify:track:6bqtKURdSWkInAJHDkuaL0</td>\n",
       "      <td>spotify:artist:3TVXtAsR1Inumwj472S9r4</td>\n",
       "      <td>1</td>\n",
       "      <td>9.756757</td>\n",
       "      <td>test</td>\n",
       "      <td>0</td>\n",
       "      <td>15.0</td>\n",
       "      <td>37</td>\n",
       "      <td>0</td>\n",
       "    </tr>\n",
       "    <tr>\n",
       "      <th>485</th>\n",
       "      <td>830008</td>\n",
       "      <td>2</td>\n",
       "      <td>spotify:track:7xVLFuuYdAvcTfcP3IG3dS</td>\n",
       "      <td>spotify:artist:5dHt1vcEm9qb8fCyLcB3HL</td>\n",
       "      <td>1</td>\n",
       "      <td>9.513514</td>\n",
       "      <td>test</td>\n",
       "      <td>0</td>\n",
       "      <td>15.0</td>\n",
       "      <td>37</td>\n",
       "      <td>1</td>\n",
       "    </tr>\n",
       "    <tr>\n",
       "      <th>486</th>\n",
       "      <td>830008</td>\n",
       "      <td>3</td>\n",
       "      <td>spotify:track:1eQBEelI2NCy7AUTerX0KS</td>\n",
       "      <td>spotify:artist:5K4W6rqBFWDnAN6FQUkS6x</td>\n",
       "      <td>1</td>\n",
       "      <td>9.270270</td>\n",
       "      <td>test</td>\n",
       "      <td>0</td>\n",
       "      <td>15.0</td>\n",
       "      <td>37</td>\n",
       "      <td>1</td>\n",
       "    </tr>\n",
       "    <tr>\n",
       "      <th>487</th>\n",
       "      <td>830008</td>\n",
       "      <td>4</td>\n",
       "      <td>spotify:track:4ImL3v98u2BLkwnyQDjfRm</td>\n",
       "      <td>spotify:artist:5K4W6rqBFWDnAN6FQUkS6x</td>\n",
       "      <td>1</td>\n",
       "      <td>9.027027</td>\n",
       "      <td>test</td>\n",
       "      <td>0</td>\n",
       "      <td>15.0</td>\n",
       "      <td>37</td>\n",
       "      <td>0</td>\n",
       "    </tr>\n",
       "  </tbody>\n",
       "</table>\n",
       "</div>"
      ],
      "text/plain": [
       "        pid  pos                             track_uri  \\\n",
       "483  830008    0  spotify:track:7yyRTcZmCiyzzJlNzGC9Ol   \n",
       "484  830008    1  spotify:track:6bqtKURdSWkInAJHDkuaL0   \n",
       "485  830008    2  spotify:track:7xVLFuuYdAvcTfcP3IG3dS   \n",
       "486  830008    3  spotify:track:1eQBEelI2NCy7AUTerX0KS   \n",
       "487  830008    4  spotify:track:4ImL3v98u2BLkwnyQDjfRm   \n",
       "\n",
       "                                artist_uri  binary_rating  pos_rating  \\\n",
       "483  spotify:artist:5M0lbkGluOPXLeFjApw8r8              1   10.000000   \n",
       "484  spotify:artist:3TVXtAsR1Inumwj472S9r4              1    9.756757   \n",
       "485  spotify:artist:5dHt1vcEm9qb8fCyLcB3HL              1    9.513514   \n",
       "486  spotify:artist:5K4W6rqBFWDnAN6FQUkS6x              1    9.270270   \n",
       "487  spotify:artist:5K4W6rqBFWDnAN6FQUkS6x              1    9.027027   \n",
       "\n",
       "    train_test  test_first_random  seed_tracks_num  num_tracks  hold_out  \n",
       "483       test                  0             15.0          37         1  \n",
       "484       test                  0             15.0          37         0  \n",
       "485       test                  0             15.0          37         1  \n",
       "486       test                  0             15.0          37         1  \n",
       "487       test                  0             15.0          37         0  "
      ]
     },
     "execution_count": 52,
     "metadata": {},
     "output_type": "execute_result"
    }
   ],
   "source": [
    "df_test_2.head()"
   ]
  },
  {
   "cell_type": "code",
   "execution_count": 53,
   "metadata": {},
   "outputs": [],
   "source": [
    "df2=df_train.append([df_test_1,df_test_2])"
   ]
  },
  {
   "cell_type": "code",
   "execution_count": 54,
   "metadata": {},
   "outputs": [
    {
     "data": {
      "text/plain": [
       "((33211760, 11), (33211760, 10))"
      ]
     },
     "execution_count": 54,
     "metadata": {},
     "output_type": "execute_result"
    }
   ],
   "source": [
    "df2.shape, df.shape"
   ]
  },
  {
   "cell_type": "code",
   "execution_count": 55,
   "metadata": {},
   "outputs": [
    {
     "name": "stderr",
     "output_type": "stream",
     "text": [
      "<ipython-input-55-b6a8a00cedea>:1: FutureWarning: Indexing with multiple keys (implicitly converted to a tuple of keys) will be deprecated, use a list instead.\n",
      "  temp = df_test_1.groupby('pid')['hold_out','num_tracks'].agg({'hold_out':'sum','num_tracks':'max'})\n"
     ]
    }
   ],
   "source": [
    "temp = df_test_1.groupby('pid')['hold_out','num_tracks'].agg({'hold_out':'sum','num_tracks':'max'})\n",
    "temp['num_tracks']=temp['num_tracks']+1"
   ]
  },
  {
   "cell_type": "code",
   "execution_count": 56,
   "metadata": {},
   "outputs": [
    {
     "data": {
      "text/html": [
       "<div>\n",
       "<style scoped>\n",
       "    .dataframe tbody tr th:only-of-type {\n",
       "        vertical-align: middle;\n",
       "    }\n",
       "\n",
       "    .dataframe tbody tr th {\n",
       "        vertical-align: top;\n",
       "    }\n",
       "\n",
       "    .dataframe thead th {\n",
       "        text-align: right;\n",
       "    }\n",
       "</style>\n",
       "<table border=\"1\" class=\"dataframe\">\n",
       "  <thead>\n",
       "    <tr style=\"text-align: right;\">\n",
       "      <th></th>\n",
       "      <th>hold_out</th>\n",
       "      <th>num_tracks</th>\n",
       "    </tr>\n",
       "    <tr>\n",
       "      <th>pid</th>\n",
       "      <th></th>\n",
       "      <th></th>\n",
       "    </tr>\n",
       "  </thead>\n",
       "  <tbody>\n",
       "  </tbody>\n",
       "</table>\n",
       "</div>"
      ],
      "text/plain": [
       "Empty DataFrame\n",
       "Columns: [hold_out, num_tracks]\n",
       "Index: []"
      ]
     },
     "execution_count": 56,
     "metadata": {},
     "output_type": "execute_result"
    }
   ],
   "source": [
    "temp[temp['hold_out']>=temp['num_tracks']]"
   ]
  },
  {
   "cell_type": "code",
   "execution_count": 57,
   "metadata": {},
   "outputs": [
    {
     "data": {
      "text/html": [
       "<div>\n",
       "<style scoped>\n",
       "    .dataframe tbody tr th:only-of-type {\n",
       "        vertical-align: middle;\n",
       "    }\n",
       "\n",
       "    .dataframe tbody tr th {\n",
       "        vertical-align: top;\n",
       "    }\n",
       "\n",
       "    .dataframe thead th {\n",
       "        text-align: right;\n",
       "    }\n",
       "</style>\n",
       "<table border=\"1\" class=\"dataframe\">\n",
       "  <thead>\n",
       "    <tr style=\"text-align: right;\">\n",
       "      <th></th>\n",
       "      <th>hold_out</th>\n",
       "      <th>num_tracks</th>\n",
       "    </tr>\n",
       "    <tr>\n",
       "      <th>pid</th>\n",
       "      <th></th>\n",
       "      <th></th>\n",
       "    </tr>\n",
       "  </thead>\n",
       "  <tbody>\n",
       "  </tbody>\n",
       "</table>\n",
       "</div>"
      ],
      "text/plain": [
       "Empty DataFrame\n",
       "Columns: [hold_out, num_tracks]\n",
       "Index: []"
      ]
     },
     "execution_count": 57,
     "metadata": {},
     "output_type": "execute_result"
    }
   ],
   "source": [
    "temp[temp['hold_out']==0]"
   ]
  },
  {
   "cell_type": "code",
   "execution_count": 58,
   "metadata": {},
   "outputs": [
    {
     "data": {
      "text/html": [
       "<div>\n",
       "<style scoped>\n",
       "    .dataframe tbody tr th:only-of-type {\n",
       "        vertical-align: middle;\n",
       "    }\n",
       "\n",
       "    .dataframe tbody tr th {\n",
       "        vertical-align: top;\n",
       "    }\n",
       "\n",
       "    .dataframe thead th {\n",
       "        text-align: right;\n",
       "    }\n",
       "</style>\n",
       "<table border=\"1\" class=\"dataframe\">\n",
       "  <thead>\n",
       "    <tr style=\"text-align: right;\">\n",
       "      <th></th>\n",
       "      <th>pid</th>\n",
       "      <th>pos</th>\n",
       "      <th>track_uri</th>\n",
       "      <th>artist_uri</th>\n",
       "      <th>binary_rating</th>\n",
       "      <th>pos_rating</th>\n",
       "      <th>train_test</th>\n",
       "      <th>test_first_random</th>\n",
       "      <th>seed_tracks_num</th>\n",
       "      <th>num_tracks</th>\n",
       "      <th>hold_out</th>\n",
       "    </tr>\n",
       "  </thead>\n",
       "  <tbody>\n",
       "    <tr>\n",
       "      <th>0</th>\n",
       "      <td>830000</td>\n",
       "      <td>0</td>\n",
       "      <td>spotify:track:0oOCpb17DwBfvQ9Xbr9IYg</td>\n",
       "      <td>spotify:artist:0HjYETXAvcL6mzaKjAmH2K</td>\n",
       "      <td>1</td>\n",
       "      <td>10.000</td>\n",
       "      <td>train</td>\n",
       "      <td>0</td>\n",
       "      <td>15.0</td>\n",
       "      <td>72</td>\n",
       "      <td>0</td>\n",
       "    </tr>\n",
       "    <tr>\n",
       "      <th>1</th>\n",
       "      <td>830000</td>\n",
       "      <td>1</td>\n",
       "      <td>spotify:track:6Knv6wdA0luoMUuuoYi2i1</td>\n",
       "      <td>spotify:artist:0jnsk9HBra6NMjO2oANoPY</td>\n",
       "      <td>1</td>\n",
       "      <td>9.875</td>\n",
       "      <td>train</td>\n",
       "      <td>0</td>\n",
       "      <td>15.0</td>\n",
       "      <td>72</td>\n",
       "      <td>0</td>\n",
       "    </tr>\n",
       "    <tr>\n",
       "      <th>2</th>\n",
       "      <td>830000</td>\n",
       "      <td>2</td>\n",
       "      <td>spotify:track:1BfPC2cHY3m9RIstE4cjr5</td>\n",
       "      <td>spotify:artist:1YXg2Chm7UfZAUAkjJEpqK</td>\n",
       "      <td>1</td>\n",
       "      <td>9.750</td>\n",
       "      <td>train</td>\n",
       "      <td>0</td>\n",
       "      <td>15.0</td>\n",
       "      <td>72</td>\n",
       "      <td>0</td>\n",
       "    </tr>\n",
       "    <tr>\n",
       "      <th>3</th>\n",
       "      <td>830000</td>\n",
       "      <td>3</td>\n",
       "      <td>spotify:track:0uwmgMXqoJ7wh102MTHTN7</td>\n",
       "      <td>spotify:artist:1YXg2Chm7UfZAUAkjJEpqK</td>\n",
       "      <td>1</td>\n",
       "      <td>9.625</td>\n",
       "      <td>train</td>\n",
       "      <td>0</td>\n",
       "      <td>15.0</td>\n",
       "      <td>72</td>\n",
       "      <td>0</td>\n",
       "    </tr>\n",
       "    <tr>\n",
       "      <th>4</th>\n",
       "      <td>830000</td>\n",
       "      <td>4</td>\n",
       "      <td>spotify:track:4jTiyLlOJVJj3mCr7yfPQD</td>\n",
       "      <td>spotify:artist:7iZtZyCzp3LItcw1wtPI3D</td>\n",
       "      <td>1</td>\n",
       "      <td>9.500</td>\n",
       "      <td>train</td>\n",
       "      <td>0</td>\n",
       "      <td>15.0</td>\n",
       "      <td>72</td>\n",
       "      <td>0</td>\n",
       "    </tr>\n",
       "  </tbody>\n",
       "</table>\n",
       "</div>"
      ],
      "text/plain": [
       "      pid  pos                             track_uri  \\\n",
       "0  830000    0  spotify:track:0oOCpb17DwBfvQ9Xbr9IYg   \n",
       "1  830000    1  spotify:track:6Knv6wdA0luoMUuuoYi2i1   \n",
       "2  830000    2  spotify:track:1BfPC2cHY3m9RIstE4cjr5   \n",
       "3  830000    3  spotify:track:0uwmgMXqoJ7wh102MTHTN7   \n",
       "4  830000    4  spotify:track:4jTiyLlOJVJj3mCr7yfPQD   \n",
       "\n",
       "                              artist_uri  binary_rating  pos_rating  \\\n",
       "0  spotify:artist:0HjYETXAvcL6mzaKjAmH2K              1      10.000   \n",
       "1  spotify:artist:0jnsk9HBra6NMjO2oANoPY              1       9.875   \n",
       "2  spotify:artist:1YXg2Chm7UfZAUAkjJEpqK              1       9.750   \n",
       "3  spotify:artist:1YXg2Chm7UfZAUAkjJEpqK              1       9.625   \n",
       "4  spotify:artist:7iZtZyCzp3LItcw1wtPI3D              1       9.500   \n",
       "\n",
       "  train_test  test_first_random  seed_tracks_num  num_tracks  hold_out  \n",
       "0      train                  0             15.0          72         0  \n",
       "1      train                  0             15.0          72         0  \n",
       "2      train                  0             15.0          72         0  \n",
       "3      train                  0             15.0          72         0  \n",
       "4      train                  0             15.0          72         0  "
      ]
     },
     "execution_count": 58,
     "metadata": {},
     "output_type": "execute_result"
    }
   ],
   "source": [
    "df2.head()"
   ]
  },
  {
   "cell_type": "code",
   "execution_count": 59,
   "metadata": {},
   "outputs": [],
   "source": [
    "df2.to_csv(f'../data-processed/scale-down/pid-track-ratings-train-test-tags-scaled-{samp}.csv', index = None)"
   ]
  },
  {
   "cell_type": "code",
   "execution_count": 61,
   "metadata": {},
   "outputs": [],
   "source": [
    "df2[df2['hold_out'] == 0][['pid','track_uri','binary_rating']].to_csv(f'../data-processed/scale-down/pid-track-binary-rating-train-data-scaled-{samp}.csv', index = None)"
   ]
  },
  {
   "cell_type": "code",
   "execution_count": 62,
   "metadata": {},
   "outputs": [],
   "source": [
    "df2[df2['hold_out'] == 0][['pid','track_uri','pos_rating']].to_csv(f'../data-processed/scale-down/pid-track-pos-rating-train-data-scaled-{samp}.csv', index = None)"
   ]
  },
  {
   "cell_type": "code",
   "execution_count": 63,
   "metadata": {},
   "outputs": [],
   "source": [
    "evaluation_pids_ground_truth = df2[df2.train_test == 'test'][['pid','pos','track_uri','hold_out','test_first_random']]"
   ]
  },
  {
   "cell_type": "code",
   "execution_count": 64,
   "metadata": {},
   "outputs": [],
   "source": [
    "evaluation_pids_ground_truth['seed_pattern'] = evaluation_pids_ground_truth['test_first_random'].map({1:'first n', 0:'random n'})"
   ]
  },
  {
   "cell_type": "code",
   "execution_count": 65,
   "metadata": {},
   "outputs": [],
   "source": [
    "evaluation_pids_ground_truth[['pid','pos','track_uri','hold_out','seed_pattern']].to_csv(f'../data-processed/scale-down/evaluation-pids-ground-truth-scaled-{samp}.csv', index = None)"
   ]
  },
  {
   "cell_type": "code",
   "execution_count": 66,
   "metadata": {},
   "outputs": [],
   "source": [
    "import pandas as pd\n",
    "tracks_train_set=pd.read_csv(f'../data-processed/scale-down/pid-track-binary-rating-train-data-scaled-{samp}.csv')"
   ]
  },
  {
   "cell_type": "code",
   "execution_count": 67,
   "metadata": {},
   "outputs": [
    {
     "data": {
      "text/html": [
       "<div>\n",
       "<style scoped>\n",
       "    .dataframe tbody tr th:only-of-type {\n",
       "        vertical-align: middle;\n",
       "    }\n",
       "\n",
       "    .dataframe tbody tr th {\n",
       "        vertical-align: top;\n",
       "    }\n",
       "\n",
       "    .dataframe thead th {\n",
       "        text-align: right;\n",
       "    }\n",
       "</style>\n",
       "<table border=\"1\" class=\"dataframe\">\n",
       "  <thead>\n",
       "    <tr style=\"text-align: right;\">\n",
       "      <th></th>\n",
       "      <th>pid</th>\n",
       "      <th>track_uri</th>\n",
       "      <th>binary_rating</th>\n",
       "    </tr>\n",
       "  </thead>\n",
       "  <tbody>\n",
       "    <tr>\n",
       "      <th>0</th>\n",
       "      <td>830000</td>\n",
       "      <td>spotify:track:0oOCpb17DwBfvQ9Xbr9IYg</td>\n",
       "      <td>1</td>\n",
       "    </tr>\n",
       "    <tr>\n",
       "      <th>1</th>\n",
       "      <td>830000</td>\n",
       "      <td>spotify:track:6Knv6wdA0luoMUuuoYi2i1</td>\n",
       "      <td>1</td>\n",
       "    </tr>\n",
       "    <tr>\n",
       "      <th>2</th>\n",
       "      <td>830000</td>\n",
       "      <td>spotify:track:1BfPC2cHY3m9RIstE4cjr5</td>\n",
       "      <td>1</td>\n",
       "    </tr>\n",
       "    <tr>\n",
       "      <th>3</th>\n",
       "      <td>830000</td>\n",
       "      <td>spotify:track:0uwmgMXqoJ7wh102MTHTN7</td>\n",
       "      <td>1</td>\n",
       "    </tr>\n",
       "    <tr>\n",
       "      <th>4</th>\n",
       "      <td>830000</td>\n",
       "      <td>spotify:track:4jTiyLlOJVJj3mCr7yfPQD</td>\n",
       "      <td>1</td>\n",
       "    </tr>\n",
       "  </tbody>\n",
       "</table>\n",
       "</div>"
      ],
      "text/plain": [
       "      pid                             track_uri  binary_rating\n",
       "0  830000  spotify:track:0oOCpb17DwBfvQ9Xbr9IYg              1\n",
       "1  830000  spotify:track:6Knv6wdA0luoMUuuoYi2i1              1\n",
       "2  830000  spotify:track:1BfPC2cHY3m9RIstE4cjr5              1\n",
       "3  830000  spotify:track:0uwmgMXqoJ7wh102MTHTN7              1\n",
       "4  830000  spotify:track:4jTiyLlOJVJj3mCr7yfPQD              1"
      ]
     },
     "execution_count": 67,
     "metadata": {},
     "output_type": "execute_result"
    }
   ],
   "source": [
    "tracks_train_set.head()"
   ]
  },
  {
   "cell_type": "code",
   "execution_count": 68,
   "metadata": {},
   "outputs": [
    {
     "data": {
      "text/plain": [
       "(1417389, 1)"
      ]
     },
     "execution_count": 68,
     "metadata": {},
     "output_type": "execute_result"
    }
   ],
   "source": [
    "pd.DataFrame(list(tracks_train_set.track_uri.unique()), columns=['track_uri']).shape"
   ]
  },
  {
   "cell_type": "code",
   "execution_count": 69,
   "metadata": {},
   "outputs": [],
   "source": [
    "pd.DataFrame(list(tracks_train_set.track_uri.unique()), columns=['track_uri']).to_csv(f'../data-processed/scale-down/track-uri-train-data-scaled.csv-{samp}', index = None)"
   ]
  }
 ],
 "metadata": {
  "kernelspec": {
   "display_name": "Python 3",
   "language": "python",
   "name": "python3"
  },
  "language_info": {
   "codemirror_mode": {
    "name": "ipython",
    "version": 3
   },
   "file_extension": ".py",
   "mimetype": "text/x-python",
   "name": "python",
   "nbconvert_exporter": "python",
   "pygments_lexer": "ipython3",
   "version": "3.8.3"
  }
 },
 "nbformat": 4,
 "nbformat_minor": 4
}
