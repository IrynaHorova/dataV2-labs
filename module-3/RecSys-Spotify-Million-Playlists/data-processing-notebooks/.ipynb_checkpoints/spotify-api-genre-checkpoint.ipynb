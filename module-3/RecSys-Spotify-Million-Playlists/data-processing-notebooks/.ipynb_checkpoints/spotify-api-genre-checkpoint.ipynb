{
 "cells": [
  {
   "cell_type": "markdown",
   "metadata": {},
   "source": [
    "# Get genres"
   ]
  },
  {
   "cell_type": "markdown",
   "metadata": {},
   "source": [
    "https://developer.spotify.com/documentation/web-api/reference/tracks/get-several-audio-features/"
   ]
  },
  {
   "cell_type": "markdown",
   "metadata": {},
   "source": [
    ">- `genre` `array of strings` A list of the genres the artist is associated with. For example: \"Prog Rock\" , \"Post-Grunge\". (If not yet classified, the array is empty.)\n",
    ">- `uri`\tstring\tThe Spotify URI for the track."
   ]
  },
  {
   "cell_type": "code",
   "execution_count": 1,
   "metadata": {},
   "outputs": [],
   "source": [
    "%run ../credentials/credentials.ipynb\n",
    "CLIENT_ID = Client_ID\n",
    "CLIENT_SECRET = Client_Secret"
   ]
  },
  {
   "cell_type": "code",
   "execution_count": 2,
   "metadata": {},
   "outputs": [],
   "source": [
    "import requests\n",
    "import pandas as pd\n",
    "import time as tm\n",
    "import os\n",
    "import glob\n",
    "import json\n",
    "\n",
    "from time import time"
   ]
  },
  {
   "cell_type": "code",
   "execution_count": 3,
   "metadata": {},
   "outputs": [],
   "source": [
    "def auth():\n",
    "    AUTH_URL = 'https://accounts.spotify.com/api/token'\n",
    "\n",
    "    # POST\n",
    "    auth_response = requests.post(AUTH_URL, {\n",
    "        'grant_type': 'client_credentials',\n",
    "        'client_id': CLIENT_ID,\n",
    "        'client_secret': CLIENT_SECRET,\n",
    "        'Retry-After': 6\n",
    "    })\n",
    "\n",
    "    # convert the response to JSON\n",
    "    auth_response_data = auth_response.json()\n",
    "\n",
    "    # save the access token\n",
    "    access_token = auth_response_data['access_token']\n",
    "    \n",
    "    headers = {\n",
    "    'Authorization': 'Bearer {token}'.format(token=access_token)\n",
    "    }\n",
    "    \n",
    "    return headers"
   ]
  },
  {
   "cell_type": "code",
   "execution_count": 25,
   "metadata": {},
   "outputs": [],
   "source": [
    "headers = auth()\n",
    "\n",
    "BASE_URL = 'https://api.spotify.com/v1/artists?ids='"
   ]
  },
  {
   "cell_type": "code",
   "execution_count": 5,
   "metadata": {},
   "outputs": [],
   "source": [
    "track_uri = pd.read_csv('../data-processed/full-data/pid-track-artist.csv')"
   ]
  },
  {
   "cell_type": "code",
   "execution_count": 6,
   "metadata": {},
   "outputs": [
    {
     "data": {
      "text/html": [
       "<div>\n",
       "<style scoped>\n",
       "    .dataframe tbody tr th:only-of-type {\n",
       "        vertical-align: middle;\n",
       "    }\n",
       "\n",
       "    .dataframe tbody tr th {\n",
       "        vertical-align: top;\n",
       "    }\n",
       "\n",
       "    .dataframe thead th {\n",
       "        text-align: right;\n",
       "    }\n",
       "</style>\n",
       "<table border=\"1\" class=\"dataframe\">\n",
       "  <thead>\n",
       "    <tr style=\"text-align: right;\">\n",
       "      <th></th>\n",
       "      <th>pid</th>\n",
       "      <th>pos</th>\n",
       "      <th>track_uri</th>\n",
       "      <th>artist_uri</th>\n",
       "    </tr>\n",
       "  </thead>\n",
       "  <tbody>\n",
       "    <tr>\n",
       "      <th>0</th>\n",
       "      <td>491000</td>\n",
       "      <td>0</td>\n",
       "      <td>spotify:track:3giQ7393501IRNrd8iHugf</td>\n",
       "      <td>spotify:artist:2ptmyXoL7poH6Zq62h1QT9</td>\n",
       "    </tr>\n",
       "    <tr>\n",
       "      <th>1</th>\n",
       "      <td>491000</td>\n",
       "      <td>1</td>\n",
       "      <td>spotify:track:3jpcVaeyNjWgjqIxAiWasz</td>\n",
       "      <td>spotify:artist:2ptmyXoL7poH6Zq62h1QT9</td>\n",
       "    </tr>\n",
       "    <tr>\n",
       "      <th>2</th>\n",
       "      <td>491000</td>\n",
       "      <td>2</td>\n",
       "      <td>spotify:track:1uuqRaSJAiQ6VB8BWblXWJ</td>\n",
       "      <td>spotify:artist:2ptmyXoL7poH6Zq62h1QT9</td>\n",
       "    </tr>\n",
       "    <tr>\n",
       "      <th>3</th>\n",
       "      <td>491000</td>\n",
       "      <td>3</td>\n",
       "      <td>spotify:track:7gXpcXwtmEiQzskYJmtGgk</td>\n",
       "      <td>spotify:artist:2ptmyXoL7poH6Zq62h1QT9</td>\n",
       "    </tr>\n",
       "    <tr>\n",
       "      <th>4</th>\n",
       "      <td>491000</td>\n",
       "      <td>4</td>\n",
       "      <td>spotify:track:5wtIWwOtowY2howCZ7Veq2</td>\n",
       "      <td>spotify:artist:2ptmyXoL7poH6Zq62h1QT9</td>\n",
       "    </tr>\n",
       "  </tbody>\n",
       "</table>\n",
       "</div>"
      ],
      "text/plain": [
       "      pid  pos                             track_uri  \\\n",
       "0  491000    0  spotify:track:3giQ7393501IRNrd8iHugf   \n",
       "1  491000    1  spotify:track:3jpcVaeyNjWgjqIxAiWasz   \n",
       "2  491000    2  spotify:track:1uuqRaSJAiQ6VB8BWblXWJ   \n",
       "3  491000    3  spotify:track:7gXpcXwtmEiQzskYJmtGgk   \n",
       "4  491000    4  spotify:track:5wtIWwOtowY2howCZ7Veq2   \n",
       "\n",
       "                              artist_uri  \n",
       "0  spotify:artist:2ptmyXoL7poH6Zq62h1QT9  \n",
       "1  spotify:artist:2ptmyXoL7poH6Zq62h1QT9  \n",
       "2  spotify:artist:2ptmyXoL7poH6Zq62h1QT9  \n",
       "3  spotify:artist:2ptmyXoL7poH6Zq62h1QT9  \n",
       "4  spotify:artist:2ptmyXoL7poH6Zq62h1QT9  "
      ]
     },
     "execution_count": 6,
     "metadata": {},
     "output_type": "execute_result"
    }
   ],
   "source": [
    "track_uri.head()"
   ]
  },
  {
   "cell_type": "code",
   "execution_count": 15,
   "metadata": {},
   "outputs": [
    {
     "data": {
      "text/plain": [
       "(66346428, 4)"
      ]
     },
     "execution_count": 15,
     "metadata": {},
     "output_type": "execute_result"
    }
   ],
   "source": [
    "track_uri.shape"
   ]
  },
  {
   "cell_type": "code",
   "execution_count": 17,
   "metadata": {},
   "outputs": [],
   "source": [
    "artist_uri = list(track_uri.artist_uri.unique())"
   ]
  },
  {
   "cell_type": "code",
   "execution_count": 30,
   "metadata": {},
   "outputs": [
    {
     "data": {
      "text/plain": [
       "'https://api.spotify.com/v1/artists?ids=77IURH5NC56Jn09QHi76is,5M0lbkGluOPXLeFjApw8r8,1gPhS1zisyXr5dHTYZyiMe,3Mcii5XWf6E0lrY3Uky4cA,3f5fB1YUbkUnW7cf7I0R48,2B4ZHz4QDWJTXPFPgO5peE,5me0Irg2ANcsgc93uaYrpb,0rG0AZBscc8S8q1ahIsasI,1G9G7WwrXka3Z1r7aIDjI7,2Xu7q46Hf02xOoEIm4E1Qs,4xRYI6VqpkE3UwrDrAZL8L,0NbfKEOTQCcwd6o7wSDOHI,0YinUQ50QDB7ZxSCLyQ40k,7yO4IdJjCEPz7YgZMe25iS,6PXS4YHDkKvl1wkIl4V8DL,50co4Is1HCEo8bhOyUWKpn,1LZEQNv7sE11VDY3SdxQeN,2uFUBdaVGtyMqckSeCl0Qj,2wOqMjp9TyABvtHdOSOTUS,0fauHpmSHwodVYIjTqOGHz,0jrFMgW018F1XVnLtCXOKi,758yIKdhJhWL6oTuTSFVV6,7xaLfXBI5MSy3aNX7m4X3O,3V1CgXZe3cFkJ9VDSeFKkl,12LKRIil9hDrLLD9PdKlwQ,2VKfXEWzhUi9siHBDTI02Y,6roo9MjIl9htSsX2Snnipb,1tcgfoMTT1szjUeaikxRjA,4mxWe1mtYIYfP040G38yvS,3grHWM9bx2E9vwJCdlRv9O,30e8DmahrEamvLbFRPdWmk,5vngPClqofybhPERIqQMYd,37W8SKV5Vc8lcGtdyWCA5m,5BKzvAPtNXnt0LwzGvKOH3,763opp15PhfHpEaiVjM6m7,0EhgpjUqiIIQhM6ZRF4kXX,1jjpkAHC8bd9fRFfgKyYLP,1VGRi6hlsYcOhKut02Tqkt,3THMgU4KdL7LlO5TEREs2g,0XKOBt59crntr7HQXXO8Yz,0jmPjksXqVrO92Urmx58vg,1mfDfLsMxYcOOZkzBxvSVW,0XRBwgqB24RnxXi7BFYNxC,2cNV8vNe2fPFf6OfGOBbSS,3U7k7hBsHF9dy4ELW53Wrv,6eKWqnckwdIlSnjaYgIyxv,79FMDwzZQxHgSkIYBl3ODU,7mPcfx7PhnBh6n4HMCd61A,1DyywGnuzXGEzlZMXBcc0j,56x8mYvS3cyDGAi8N2FxbB'"
      ]
     },
     "execution_count": 30,
     "metadata": {},
     "output_type": "execute_result"
    }
   ],
   "source": [
    "BASE_URL + artist_ids"
   ]
  },
  {
   "cell_type": "code",
   "execution_count": 33,
   "metadata": {},
   "outputs": [],
   "source": [
    "lim = len(artist_uri)\n",
    "#lim=100\n",
    "lim_low = 0\n",
    "step=50\n",
    "time0 = time()\n",
    "for i in range(lim_low,lim,step):\n",
    "    L = i\n",
    "    if i + step <= lim:\n",
    "        U = i+step\n",
    "    else:\n",
    "        U = lim\n",
    "    artist_ids = ','.join([artist.replace('spotify:artist:',\"\") for artist in artist_uri[L:U]])\n",
    "    #print(L,U)\n",
    "    r = requests.get(BASE_URL +  artist_ids, headers=headers)     \n",
    "    if r.status_code!=200:\n",
    "        print(r.status_code)\n",
    "    #print('tr',track_ids)\n",
    "    if r.status_code == 200:\n",
    "        D={}\n",
    "        for el in r.json()['artists']:\n",
    "            for k,v in el.items():\n",
    "                D[el['uri']] = el['genres']       \n",
    "        with open(f'../data-processed/genres/artist-genre{L}-{U}.json', 'w') as f:\n",
    "            json.dump(D, f)\n",
    "    else:\n",
    "        tm.sleep(30)\n",
    "        failed.append(track_ids)\n",
    "        print(r.status_code)\n",
    "        "
   ]
  },
  {
   "cell_type": "code",
   "execution_count": null,
   "metadata": {},
   "outputs": [],
   "source": [
    "len(D)"
   ]
  },
  {
   "cell_type": "markdown",
   "metadata": {},
   "source": [
    "# Combine all files "
   ]
  },
  {
   "cell_type": "code",
   "execution_count": 35,
   "metadata": {},
   "outputs": [],
   "source": [
    "D_all={}\n",
    "path_to_jsonfiles = '../data-processed/genres/'\n",
    "for file in os.listdir(path_to_jsonfiles):\n",
    "    with open(f'{path_to_jsonfiles}{file}','r') as fi:\n",
    "        D_all.update(json.load(fi))"
   ]
  },
  {
   "cell_type": "code",
   "execution_count": 37,
   "metadata": {},
   "outputs": [
    {
     "data": {
      "text/plain": [
       "294353"
      ]
     },
     "execution_count": 37,
     "metadata": {},
     "output_type": "execute_result"
    }
   ],
   "source": [
    "len(D_all)"
   ]
  }
 ],
 "metadata": {
  "kernelspec": {
   "display_name": "Python 3",
   "language": "python",
   "name": "python3"
  },
  "language_info": {
   "codemirror_mode": {
    "name": "ipython",
    "version": 3
   },
   "file_extension": ".py",
   "mimetype": "text/x-python",
   "name": "python",
   "nbconvert_exporter": "python",
   "pygments_lexer": "ipython3",
   "version": "3.8.3"
  }
 },
 "nbformat": 4,
 "nbformat_minor": 4
}
