{
 "cells": [
  {
   "cell_type": "code",
   "execution_count": 1,
   "metadata": {},
   "outputs": [],
   "source": [
    "import json\n",
    "import pandas as pd\n",
    "import matplotlib.pyplot as plt\n",
    "import seaborn as sns\n",
    "import numpy as np\n",
    "\n",
    "from sklearn.preprocessing import normalize\n",
    "from sklearn.preprocessing import StandardScaler\n",
    "from sklearn.decomposition import PCA\n",
    "from sklearn.metrics.pairwise import cosine_similarity\n",
    "from sklearn.metrics.pairwise import linear_kernel\n",
    "from time import time\n",
    "\n",
    "%matplotlib inline"
   ]
  },
  {
   "cell_type": "markdown",
   "metadata": {},
   "source": [
    "# Define function to look up similar items "
   ]
  },
  {
   "cell_type": "code",
   "execution_count": 56,
   "metadata": {},
   "outputs": [],
   "source": [
    "def similar_items(track_uri):\n",
    "    D_rec={}\n",
    "    time0 = time()\n",
    "    idx = D_track_uri_to_id[track_uri]\n",
    "    similarity_array = cosine_similarity(X_transformed[idx:idx+1,:], X_transformed)\n",
    "    recc_tracks = np.fliplr(similarity_array.argsort())\n",
    "    for el in recc_tracks[0][1:501]:\n",
    "        D_rec[D_track_id_to_uri[el]]=similarity_array[0][el]\n",
    "    print(f'{time()-time0:0.2f}sec')\n",
    "    return D_rec"
   ]
  },
  {
   "cell_type": "code",
   "execution_count": 57,
   "metadata": {},
   "outputs": [],
   "source": [
    "def similar_items_with_description(track_uri, top_n):\n",
    "    D_rec={}\n",
    "    time0 = time()\n",
    "    idx = D_track_uri_to_id[track_uri]\n",
    "    similarity_array = cosine_similarity(X_transformed[idx:idx+1,:], X_transformed)\n",
    "    recc_tracks = np.fliplr(similarity_array.argsort())\n",
    "    for el in recc_tracks[0][0:top_n]:\n",
    "        D_rec[D_track_id_to_uri[el]]=D_desc[D_track_id_to_uri[el]]\n",
    "    print(f'{time()-time0:0.2f}sec')\n",
    "    return D_rec"
   ]
  },
  {
   "cell_type": "markdown",
   "metadata": {},
   "source": [
    "# Load data"
   ]
  },
  {
   "cell_type": "code",
   "execution_count": 2,
   "metadata": {},
   "outputs": [
    {
     "data": {
      "text/plain": [
       "['Lose Control (feat. Ciara & Fat Man Scoop)', 'Missy Elliott', 'The Cookbook']"
      ]
     },
     "execution_count": 2,
     "metadata": {},
     "output_type": "execute_result"
    }
   ],
   "source": [
    "with open('../data-processed/full-data/track_descriptions.json') as json_file:\n",
    "    D_desc = json.load(json_file)\n",
    "    \n",
    "D_desc['spotify:track:0UaMYEvWZi0ZqiDOoHU3YI']"
   ]
  },
  {
   "cell_type": "code",
   "execution_count": 27,
   "metadata": {},
   "outputs": [
    {
     "data": {
      "text/plain": [
       "['spotify:artist:2wIVse2owClT7go1WT98tk',\n",
       " 'spotify:album:6vV5UrXcfyQD1wu4Qo2I9K']"
      ]
     },
     "execution_count": 27,
     "metadata": {},
     "output_type": "execute_result"
    }
   ],
   "source": [
    "with open('../data-processed/full-data/track_artist_album.json') as json_file:\n",
    "    D_album_artist = json.load(json_file)\n",
    "    \n",
    "D_album_artist['spotify:track:0UaMYEvWZi0ZqiDOoHU3YI']"
   ]
  },
  {
   "cell_type": "code",
   "execution_count": 3,
   "metadata": {},
   "outputs": [],
   "source": [
    "path = '../data-processed/full-data/audio-features-combined.csv'\n",
    "data = pd.read_csv(path)"
   ]
  },
  {
   "cell_type": "code",
   "execution_count": 5,
   "metadata": {},
   "outputs": [],
   "source": [
    "data = data.reset_index()\n",
    "data = data.rename(columns = {'index':'track_id'})\n",
    "data['artist_uri'] = data.apply(lambda x:D_album_artist[x.uri][0], axis =1)\n",
    "data['album_uri'] = data.apply(lambda x:D_album_artist[x.uri][1], axis =1)"
   ]
  },
  {
   "cell_type": "code",
   "execution_count": 35,
   "metadata": {},
   "outputs": [
    {
     "data": {
      "text/html": [
       "<div>\n",
       "<style scoped>\n",
       "    .dataframe tbody tr th:only-of-type {\n",
       "        vertical-align: middle;\n",
       "    }\n",
       "\n",
       "    .dataframe tbody tr th {\n",
       "        vertical-align: top;\n",
       "    }\n",
       "\n",
       "    .dataframe thead th {\n",
       "        text-align: right;\n",
       "    }\n",
       "</style>\n",
       "<table border=\"1\" class=\"dataframe\">\n",
       "  <thead>\n",
       "    <tr style=\"text-align: right;\">\n",
       "      <th></th>\n",
       "      <th>track_id</th>\n",
       "      <th>uri</th>\n",
       "      <th>danceability</th>\n",
       "      <th>energy</th>\n",
       "      <th>key</th>\n",
       "      <th>loudness</th>\n",
       "      <th>mode</th>\n",
       "      <th>speechiness</th>\n",
       "      <th>acousticness</th>\n",
       "      <th>instrumentalness</th>\n",
       "      <th>liveness</th>\n",
       "      <th>valence</th>\n",
       "      <th>tempo</th>\n",
       "      <th>duration_ms</th>\n",
       "      <th>time_signature</th>\n",
       "      <th>artist_uri</th>\n",
       "      <th>album_uri</th>\n",
       "    </tr>\n",
       "  </thead>\n",
       "  <tbody>\n",
       "    <tr>\n",
       "      <th>0</th>\n",
       "      <td>0</td>\n",
       "      <td>spotify:track:5OSaZxhNj307YpTh7Qp8Xy</td>\n",
       "      <td>0.716</td>\n",
       "      <td>0.421</td>\n",
       "      <td>7</td>\n",
       "      <td>-11.560</td>\n",
       "      <td>0</td>\n",
       "      <td>0.0275</td>\n",
       "      <td>0.649000</td>\n",
       "      <td>0.002070</td>\n",
       "      <td>0.0936</td>\n",
       "      <td>0.2070</td>\n",
       "      <td>99.078</td>\n",
       "      <td>378440</td>\n",
       "      <td>4</td>\n",
       "      <td>spotify:artist:1vSHzGHsVOCrgPSCmKNimP</td>\n",
       "      <td>spotify:album:0oA1WetYmmrxkyjxz92yJg</td>\n",
       "    </tr>\n",
       "    <tr>\n",
       "      <th>1</th>\n",
       "      <td>1</td>\n",
       "      <td>spotify:track:4zytmsfZ7HtdXj3VLECcu2</td>\n",
       "      <td>0.141</td>\n",
       "      <td>0.441</td>\n",
       "      <td>5</td>\n",
       "      <td>-12.893</td>\n",
       "      <td>1</td>\n",
       "      <td>0.0892</td>\n",
       "      <td>0.700000</td>\n",
       "      <td>0.687000</td>\n",
       "      <td>0.1280</td>\n",
       "      <td>0.0725</td>\n",
       "      <td>76.044</td>\n",
       "      <td>331000</td>\n",
       "      <td>4</td>\n",
       "      <td>spotify:artist:6gHYtzSvIIWvoUY2q2V3Rj</td>\n",
       "      <td>spotify:album:3c1gpGKfahKOFXtM7eIcFO</td>\n",
       "    </tr>\n",
       "    <tr>\n",
       "      <th>2</th>\n",
       "      <td>2</td>\n",
       "      <td>spotify:track:6lOWUS7iBVEw6ieJqxH17B</td>\n",
       "      <td>0.799</td>\n",
       "      <td>0.893</td>\n",
       "      <td>8</td>\n",
       "      <td>-5.496</td>\n",
       "      <td>1</td>\n",
       "      <td>0.0635</td>\n",
       "      <td>0.000018</td>\n",
       "      <td>0.914000</td>\n",
       "      <td>0.3620</td>\n",
       "      <td>0.5290</td>\n",
       "      <td>128.009</td>\n",
       "      <td>469397</td>\n",
       "      <td>4</td>\n",
       "      <td>spotify:artist:7kxOVclB0zQamtBR0syCrg</td>\n",
       "      <td>spotify:album:0mX83KZvGWqBOvI4nIZ23H</td>\n",
       "    </tr>\n",
       "    <tr>\n",
       "      <th>3</th>\n",
       "      <td>3</td>\n",
       "      <td>spotify:track:3OSL6hJ9DoRGwr9OSEVrRS</td>\n",
       "      <td>0.789</td>\n",
       "      <td>0.548</td>\n",
       "      <td>4</td>\n",
       "      <td>-7.167</td>\n",
       "      <td>1</td>\n",
       "      <td>0.0418</td>\n",
       "      <td>0.707000</td>\n",
       "      <td>0.000934</td>\n",
       "      <td>0.0616</td>\n",
       "      <td>0.5930</td>\n",
       "      <td>117.713</td>\n",
       "      <td>153893</td>\n",
       "      <td>4</td>\n",
       "      <td>spotify:artist:2sxmKe3CUrWnx7eoXMhOlW</td>\n",
       "      <td>spotify:album:4hXCM8vqLJnlFcuHoH3zVP</td>\n",
       "    </tr>\n",
       "    <tr>\n",
       "      <th>4</th>\n",
       "      <td>4</td>\n",
       "      <td>spotify:track:6x0bgGOKckFsesVf7yPWJq</td>\n",
       "      <td>0.728</td>\n",
       "      <td>0.670</td>\n",
       "      <td>3</td>\n",
       "      <td>-7.912</td>\n",
       "      <td>0</td>\n",
       "      <td>0.1020</td>\n",
       "      <td>0.157000</td>\n",
       "      <td>0.000797</td>\n",
       "      <td>0.1080</td>\n",
       "      <td>0.0647</td>\n",
       "      <td>119.963</td>\n",
       "      <td>196000</td>\n",
       "      <td>4</td>\n",
       "      <td>spotify:artist:6PyeXqjH8OMGnt1IOhWgrQ</td>\n",
       "      <td>spotify:album:1pjNAADvPDurRS42fqxN4k</td>\n",
       "    </tr>\n",
       "  </tbody>\n",
       "</table>\n",
       "</div>"
      ],
      "text/plain": [
       "   track_id                                   uri  danceability  energy  key  \\\n",
       "0         0  spotify:track:5OSaZxhNj307YpTh7Qp8Xy         0.716   0.421    7   \n",
       "1         1  spotify:track:4zytmsfZ7HtdXj3VLECcu2         0.141   0.441    5   \n",
       "2         2  spotify:track:6lOWUS7iBVEw6ieJqxH17B         0.799   0.893    8   \n",
       "3         3  spotify:track:3OSL6hJ9DoRGwr9OSEVrRS         0.789   0.548    4   \n",
       "4         4  spotify:track:6x0bgGOKckFsesVf7yPWJq         0.728   0.670    3   \n",
       "\n",
       "   loudness  mode  speechiness  acousticness  instrumentalness  liveness  \\\n",
       "0   -11.560     0       0.0275      0.649000          0.002070    0.0936   \n",
       "1   -12.893     1       0.0892      0.700000          0.687000    0.1280   \n",
       "2    -5.496     1       0.0635      0.000018          0.914000    0.3620   \n",
       "3    -7.167     1       0.0418      0.707000          0.000934    0.0616   \n",
       "4    -7.912     0       0.1020      0.157000          0.000797    0.1080   \n",
       "\n",
       "   valence    tempo  duration_ms  time_signature  \\\n",
       "0   0.2070   99.078       378440               4   \n",
       "1   0.0725   76.044       331000               4   \n",
       "2   0.5290  128.009       469397               4   \n",
       "3   0.5930  117.713       153893               4   \n",
       "4   0.0647  119.963       196000               4   \n",
       "\n",
       "                              artist_uri                             album_uri  \n",
       "0  spotify:artist:1vSHzGHsVOCrgPSCmKNimP  spotify:album:0oA1WetYmmrxkyjxz92yJg  \n",
       "1  spotify:artist:6gHYtzSvIIWvoUY2q2V3Rj  spotify:album:3c1gpGKfahKOFXtM7eIcFO  \n",
       "2  spotify:artist:7kxOVclB0zQamtBR0syCrg  spotify:album:0mX83KZvGWqBOvI4nIZ23H  \n",
       "3  spotify:artist:2sxmKe3CUrWnx7eoXMhOlW  spotify:album:4hXCM8vqLJnlFcuHoH3zVP  \n",
       "4  spotify:artist:6PyeXqjH8OMGnt1IOhWgrQ  spotify:album:1pjNAADvPDurRS42fqxN4k  "
      ]
     },
     "execution_count": 35,
     "metadata": {},
     "output_type": "execute_result"
    }
   ],
   "source": [
    "data.head()"
   ]
  },
  {
   "cell_type": "code",
   "execution_count": 9,
   "metadata": {},
   "outputs": [],
   "source": [
    "D_track_uri_to_id = data.groupby('uri')['track_id'].min().to_dict()\n",
    "D_track_id_to_uri = data.groupby('track_id')['uri'].min().to_dict()"
   ]
  },
  {
   "cell_type": "code",
   "execution_count": 10,
   "metadata": {},
   "outputs": [
    {
     "data": {
      "text/plain": [
       "(2262190, 2262190)"
      ]
     },
     "execution_count": 10,
     "metadata": {},
     "output_type": "execute_result"
    }
   ],
   "source": [
    "len(D_track_uri_to_id), len(D_track_id_to_uri)"
   ]
  },
  {
   "cell_type": "markdown",
   "metadata": {},
   "source": [
    "# Plot data"
   ]
  },
  {
   "cell_type": "code",
   "execution_count": 12,
   "metadata": {},
   "outputs": [
    {
     "data": {
      "image/png": "[encoded data removed]",
      "text/plain": [
       "<Figure size 1008x648 with 12 Axes>"
      ]
     },
     "metadata": {
      "needs_background": "light"
     },
     "output_type": "display_data"
    }
   ],
   "source": [
    "data.iloc[:,1:-1].hist(figsize=(14,9))\n",
    "plt.show()"
   ]
  },
  {
   "cell_type": "code",
   "execution_count": 13,
   "metadata": {},
   "outputs": [
    {
     "data": {
      "image/png": "[encoded data removed]",
      "text/plain": [
       "<Figure size 1008x648 with 12 Axes>"
      ]
     },
     "metadata": {
      "needs_background": "light"
     },
     "output_type": "display_data"
    }
   ],
   "source": [
    "fig, ax = plt.subplots(ncols=4, nrows=3, figsize=(14,9))\n",
    "\n",
    "column = data.columns[2:14]\n",
    "\n",
    "for i in range(3):\n",
    "    for j in range(4):\n",
    "        sns.boxplot(data=data[column[i*4+j]], palette=\"Set1\", ax=ax[i,j]).set_title(column[i*4+j])"
   ]
  },
  {
   "cell_type": "markdown",
   "metadata": {},
   "source": [
    "# Standardize data "
   ]
  },
  {
   "cell_type": "code",
   "execution_count": 14,
   "metadata": {},
   "outputs": [],
   "source": [
    "X = data.iloc[:,2:13]"
   ]
  },
  {
   "cell_type": "code",
   "execution_count": 15,
   "metadata": {},
   "outputs": [
    {
     "data": {
      "text/plain": [
       "Index(['danceability', 'energy', 'key', 'loudness', 'mode', 'speechiness',\n",
       "       'acousticness', 'instrumentalness', 'liveness', 'valence', 'tempo'],\n",
       "      dtype='object')"
      ]
     },
     "execution_count": 15,
     "metadata": {},
     "output_type": "execute_result"
    }
   ],
   "source": [
    "#column orders\n",
    "data.iloc[:,2:13].columns"
   ]
  },
  {
   "cell_type": "code",
   "execution_count": 16,
   "metadata": {},
   "outputs": [],
   "source": [
    "scaler = StandardScaler()\n",
    "transformer = scaler.fit(X)\n",
    "X_transformed = transformer.transform(X)"
   ]
  },
  {
   "cell_type": "code",
   "execution_count": 17,
   "metadata": {},
   "outputs": [
    {
     "data": {
      "image/png": "[encoded data removed]",
      "text/plain": [
       "<Figure size 1008x648 with 12 Axes>"
      ]
     },
     "metadata": {
      "needs_background": "light"
     },
     "output_type": "display_data"
    }
   ],
   "source": [
    "pd.DataFrame(X_transformed).hist(figsize=(14,9))\n",
    "plt.show()"
   ]
  },
  {
   "cell_type": "markdown",
   "metadata": {},
   "source": [
    "# Perform PCA"
   ]
  },
  {
   "cell_type": "code",
   "execution_count": null,
   "metadata": {},
   "outputs": [],
   "source": [
    "X_transformed.shape"
   ]
  },
  {
   "cell_type": "code",
   "execution_count": null,
   "metadata": {},
   "outputs": [],
   "source": [
    "pca = PCA(n_components='mle')\n",
    "pca = pca.fit(X_transformed)"
   ]
  },
  {
   "cell_type": "code",
   "execution_count": null,
   "metadata": {},
   "outputs": [],
   "source": [
    "print(pca.explained_variance_ratio_)"
   ]
  },
  {
   "cell_type": "code",
   "execution_count": null,
   "metadata": {},
   "outputs": [],
   "source": [
    "X_transformed_pca = pca.transform(X_transformed)"
   ]
  },
  {
   "cell_type": "code",
   "execution_count": null,
   "metadata": {},
   "outputs": [],
   "source": [
    "pca.transform(arr.reshape(1, -1))"
   ]
  },
  {
   "cell_type": "markdown",
   "metadata": {},
   "source": [
    "> PCA does not result in a major dimensionality reduction, so we will proceed with original dimensions, and the `X_transformed` as input for the next steps"
   ]
  },
  {
   "cell_type": "markdown",
   "metadata": {},
   "source": [
    "# Similarity matrix"
   ]
  },
  {
   "cell_type": "code",
   "execution_count": 18,
   "metadata": {},
   "outputs": [
    {
     "data": {
      "text/plain": [
       "array([[-2.21872883e+00, -5.40820327e-01, -7.34209218e-02,\n",
       "        -5.74499848e-01,  7.25818014e-01, -2.77482295e-04,\n",
       "         9.74098644e-01,  1.33416011e+00, -4.27319752e-01,\n",
       "        -1.49346481e+00, -1.46858811e+00]])"
      ]
     },
     "execution_count": 18,
     "metadata": {},
     "output_type": "execute_result"
    }
   ],
   "source": [
    "X_transformed[1:2,:]"
   ]
  },
  {
   "cell_type": "code",
   "execution_count": 61,
   "metadata": {},
   "outputs": [
    {
     "name": "stdout",
     "output_type": "stream",
     "text": [
      "0.51sec\n"
     ]
    },
    {
     "data": {
      "text/plain": [
       "[['What Do I Know?', 'Ed Sheeran', '÷'],\n",
       " ['Marvin Gaye', 'Straight No Chaser', 'The New Old Fashioned'],\n",
       " ['Kontrol - Extended', 'Maleek Berry', 'Last Daze Of Summer'],\n",
       " ['Clover', \"The King's Parade\", 'Clover'],\n",
       " ['Your the One for Me (feat. Shaggamon)',\n",
       "  'Pohaku \"Friends Forever\"',\n",
       "  'The R.B.M. Collection 2013'],\n",
       " ['Close To You Feat. RIVRS - Original Mix', 'Lobo', 'Poolside Mexico'],\n",
       " ['Well But Strangely Hung Man', 'Sonny & The Sunsets', 'Moods Baby Moods'],\n",
       " ['Llora Corazón', 'Charlie Zaa', 'Bachateando 2'],\n",
       " ['Te Burlaste De Mi', 'El Chaval', 'Ya Me Canse'],\n",
       " ['Ni Parientes Somos', 'Los Tigres Del Norte', 'Mi Buena Suerte'],\n",
       " ['Que Día Es Hoy', 'Yeison Jimenez', 'Con el Corazón'],\n",
       " ['Ruby Blue', 'Róisín Murphy', 'Ruby Blue'],\n",
       " [\"You're Too Pretty\",\n",
       "  'Di Johnston',\n",
       "  'The Shanghai Restoration Project Presents : Di Johnston'],\n",
       " ['Strength To Survive', 'SOJA', 'Strength To Survive'],\n",
       " ['Future Love (We All Make Mistakes)', 'The Palms', 'Sway'],\n",
       " ['Tu Tu Ratan', 'Orchestra Harlow', \"Heavy Smokin'\"],\n",
       " ['Arrested', 'Breakbot', 'Still Waters'],\n",
       " ['I Love You Like a Love Song Baby',\n",
       "  'Pink Shop',\n",
       "  \"Teen Pop Party: Best of Teen's Music Top Songs & Greatets Hits\"],\n",
       " ['Te Conquistare', 'Jose Julian', 'Te Conquistare'],\n",
       " ['Ice Cream', 'Jack Prybylski', 'Out of the Box']]"
      ]
     },
     "execution_count": 61,
     "metadata": {},
     "output_type": "execute_result"
    }
   ],
   "source": [
    "list(similar_items_with_description('spotify:track:2pJZ1v8HezrAoZ0Fhzby92',20).values())"
   ]
  },
  {
   "cell_type": "code",
   "execution_count": null,
   "metadata": {},
   "outputs": [],
   "source": [
    "D_rec"
   ]
  },
  {
   "cell_type": "code",
   "execution_count": 48,
   "metadata": {},
   "outputs": [
    {
     "data": {
      "text/plain": [
       "[\"Can't Stop\", 'Red Hot Chili Peppers', 'By The Way']"
      ]
     },
     "execution_count": 48,
     "metadata": {},
     "output_type": "execute_result"
    }
   ],
   "source": [
    "D_desc['spotify:track:3ZOEytgrvLwQaqXreDs2Jx']"
   ]
  },
  {
   "cell_type": "code",
   "execution_count": 39,
   "metadata": {},
   "outputs": [
    {
     "name": "stdout",
     "output_type": "stream",
     "text": [
      "['Zumba He Zumba Ha (feat. Soldat Jahman & Luis Guisao)', \"Dj Mam's\", 'Fiesta Buena']\n",
      "['Believe (feat. Jocelyn Brown) - Ministers Vocal Mix', 'Ministers de la Funk', 'Vintage Ibiza Classics']\n",
      "['Lose Control', 'Still a Light above', 'Castor']\n",
      "['Bust A Move', 'Young MC', \"Stone Cold Rhymin'\"]\n",
      "['Mansa Musa', 'ICEKIID', 'Mansa Musa']\n"
     ]
    }
   ],
   "source": [
    "print(D_desc['spotify:track:00PhRxMpNWMaIgGLrYeSEB'])\n",
    "print(D_desc['spotify:track:3QsLbvkGSTJCTZuuQTlOTM'])\n",
    "print(D_desc['spotify:track:7wAkCtju6IAHs5UB9hKOB7'])\n",
    "print(D_desc['spotify:track:3IeCYkdKI55mNMl2o4vX0k'])\n",
    "print(D_desc['spotify:track:1Wf3CJgTsabbJeqfJ8TTTJ'])"
   ]
  }
 ],
 "metadata": {
  "kernelspec": {
   "display_name": "Python 3",
   "language": "python",
   "name": "python3"
  },
  "language_info": {
   "codemirror_mode": {
    "name": "ipython",
    "version": 3
   },
   "file_extension": ".py",
   "mimetype": "text/x-python",
   "name": "python",
   "nbconvert_exporter": "python",
   "pygments_lexer": "ipython3",
   "version": "3.8.3"
  }
 },
 "nbformat": 4,
 "nbformat_minor": 4
}
