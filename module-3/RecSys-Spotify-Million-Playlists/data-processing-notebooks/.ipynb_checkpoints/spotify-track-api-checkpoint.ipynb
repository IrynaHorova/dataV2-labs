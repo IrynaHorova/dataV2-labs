{
 "cells": [
  {
   "cell_type": "markdown",
   "metadata": {},
   "source": [
    "# Get audio features of tracks"
   ]
  },
  {
   "cell_type": "markdown",
   "metadata": {},
   "source": [
    "https://developer.spotify.com/documentation/web-api/reference/tracks/get-several-audio-features/"
   ]
  },
  {
   "cell_type": "markdown",
   "metadata": {},
   "source": [
    ">- `acousticness`\t`float`\tA confidence measure from 0.0 to 1.0 of whether the track is acoustic. 1.0 represents high confidence the track is acoustic.\n",
    ">- `analysis_url`\t`string`\tAn HTTP URL to access the full audio analysis of this track. An access token is required to access this data.\n",
    ">- `danceability`\t`float`\tDanceability describes how suitable a track is for dancing based on a combination of musical elements including tempo, rhythm stability, beat strength, and overall regularity. A value of 0.0 is least danceable and 1.0 is most danceable.\n",
    ">- `duration_ms`\t`int`\tThe duration of the track in milliseconds.\n",
    ">- `energy`\t`float`\tEnergy is a measure from 0.0 to 1.0 and represents a perceptual measure of intensity and activity. Typically, energetic tracks feel fast, loud, and noisy. For example, death metal has high energy, while a Bach prelude scores low on the scale. Perceptual features contributing to this attribute include dynamic range, perceived loudness, timbre, onset rate, and general entropy.\n",
    ">- `id`\t`string`\tThe Spotify ID for the track.\n",
    ">- `instrumentalness`\t`float`\tPredicts whether a track contains no vocals. “Ooh” and “aah” sounds are treated as instrumental in this context. Rap or spoken word tracks are clearly “vocal”. The closer the instrumentalness value is to 1.0, the greater likelihood the track contains no vocal content. Values above 0.5 are intended to represent instrumental tracks, but confidence is higher as the value approaches 1.0.\n",
    ">- `key`\tint\tThe key the track is in. Integers map to pitches using standard Pitch Class notation . E.g. 0 = C, 1 = C♯/D♭, 2 = D, and so on.\n",
    ">- `liveness`\t`float`\tDetects the presence of an audience in the recording. Higher liveness values represent an increased probability that the track was performed live. A value above 0.8 provides strong likelihood that the track is live.\n",
    ">- `loudness`\t`float`\tThe overall loudness of a track in decibels (dB). Loudness values are averaged across the entire track and are useful for comparing relative loudness of tracks. Loudness is the quality of a sound that is the primary psychological correlate of physical strength (amplitude). Values typical range between -60 and 0 db.\n",
    ">- `mode`\t`int`\tMode indicates the modality (major or minor) of a track, the type of scale from which its melodic content is derived. Major is represented by 1 and minor is 0.\n",
    ">- `speechiness`\t`float`\tSpeechiness detects the presence of spoken words in a track. The more exclusively speech-like the recording (e.g. talk show, audio book, poetry), the closer to 1.0 the attribute value. Values above 0.66 describe tracks that are probably made entirely of spoken words. Values between 0.33 and 0.66 describe tracks that may contain both music and speech, either in sections or layered, including such cases as rap music. Values below 0.33 most likely represent music and other non-speech-like tracks.\n",
    ">- `tempo`\t`floa`\tThe overall estimated tempo of a track in beats per minute (BPM). In musical terminology, tempo is the speed or pace of a given piece and derives directly from the average beat duration.\n",
    ">- `time_signature`\tint\tAn estimated overall time signature of a track. The time signature (meter) is a notational convention to specify how many beats are in each bar (or measure).\n",
    ">- `track_href`\t`string`\tA link to the Web API endpoint providing full details of the track.\n",
    ">- `type`\tstring\tThe object type: “audio_features”\n",
    ">- `uri`\tstring\tThe Spotify URI for the track.\n",
    ">- `valence`\t`float`\tA measure from 0.0 to 1.0 describing the musical positiveness conveyed by a track. Tracks with high valence sound more positive (e.g. happy, cheerful, euphoric), while tracks with low valence sound more negative (e.g. sad, depressed, angry)."
   ]
  },
  {
   "cell_type": "code",
   "execution_count": 2,
   "metadata": {},
   "outputs": [],
   "source": [
    "%run ../credentials/credentials.ipynb\n",
    "CLIENT_ID = Client_ID\n",
    "CLIENT_SECRET = Client_Secret"
   ]
  },
  {
   "cell_type": "code",
   "execution_count": 2,
   "metadata": {},
   "outputs": [],
   "source": [
    "import requests\n",
    "import pandas as pd\n",
    "import time as tm\n",
    "import concurrent.futures\n",
    "import functools\n",
    "import os\n",
    "import glob\n",
    "\n",
    "from time import time"
   ]
  },
  {
   "cell_type": "code",
   "execution_count": 3,
   "metadata": {},
   "outputs": [],
   "source": [
    "def auth():\n",
    "    AUTH_URL = 'https://accounts.spotify.com/api/token'\n",
    "\n",
    "    # POST\n",
    "    auth_response = requests.post(AUTH_URL, {\n",
    "        'grant_type': 'client_credentials',\n",
    "        'client_id': CLIENT_ID,\n",
    "        'client_secret': CLIENT_SECRET,\n",
    "        'Retry-After': 6\n",
    "    })\n",
    "\n",
    "    # convert the response to JSON\n",
    "    auth_response_data = auth_response.json()\n",
    "\n",
    "    # save the access token\n",
    "    access_token = auth_response_data['access_token']\n",
    "    \n",
    "    headers = {\n",
    "    'Authorization': 'Bearer {token}'.format(token=access_token)\n",
    "    }\n",
    "    \n",
    "    return headers"
   ]
  },
  {
   "cell_type": "code",
   "execution_count": 4,
   "metadata": {},
   "outputs": [],
   "source": [
    "headers = auth()\n",
    "\n",
    "BASE_URL = 'https://api.spotify.com/v1/'\n",
    "\n",
    "# Track ID from the URI\n",
    "track_id = '6y0igZArWVi6Iz0rj35c1Y'\n",
    "\n",
    "# actual GET request with proper header\n",
    "r = requests.get(BASE_URL + 'audio-features/' + track_id, headers=headers)"
   ]
  },
  {
   "cell_type": "code",
   "execution_count": 5,
   "metadata": {},
   "outputs": [],
   "source": [
    "track_uri = pd.read_csv('../data/track_uris.csv')"
   ]
  },
  {
   "cell_type": "code",
   "execution_count": 75,
   "metadata": {},
   "outputs": [],
   "source": [
    "include = [\n",
    "    'uri',\n",
    "    'danceability',\n",
    "    'energy',\n",
    "    'key',\n",
    "    'loudness',\n",
    "    'mode',\n",
    "    'speechiness',\n",
    "    'acousticness',\n",
    "    'instrumentalness',\n",
    "    'liveness',\n",
    "    'valence',\n",
    "    'tempo',\n",
    "    'duration_ms',\n",
    "    'time_signature']"
   ]
  },
  {
   "cell_type": "code",
   "execution_count": 7,
   "metadata": {},
   "outputs": [],
   "source": [
    "# lim = int(len(track_uri)/1)\n",
    "# def threading(start_index, tracks_per_worker, headers):\n",
    "#     #print(f'start{start_index}')\n",
    "#     lst = []\n",
    "#     failed = []\n",
    "#     for i, track in enumerate(track_uri['0'][:lim][start_index : start_index + tracks_per_worker]):\n",
    "#         track_id = track.replace('spotify:track:',\"\")\n",
    "#         r = requests.get(BASE_URL + 'audio-features/' + track_id, headers=headers)     \n",
    "#         if r.status_code == 200:\n",
    "#             r1 = r.json()\n",
    "#             D = {key:value for key, value in r1.items() if key in include}\n",
    "#             D['uri'] = track\n",
    "#             lst.append(D)\n",
    "#         else:\n",
    "#             tm.sleep(30)\n",
    "#             failed.append(track)\n",
    "#             print(r.status_code, track)\n",
    "        \n",
    "#         pd.DataFrame(lst).to_csv(f'../data/audio-features/tracks{start_index}-{ start_index + tracks_per_worker}.csv', index = None)\n",
    "#         if failed != []:\n",
    "#             pd.DataFrame(failed).to_csv(f'../data/audio-features/failed/tracks-failed.csv', mode='a', header=False, index = None)\n",
    "#     #print(f'end{start_index}')\n",
    "#     return lst\n",
    "\n",
    "# max_workers = 3\n",
    "# min_index = 0 # min: 0\n",
    "# end_index = len(track_uri) # max: 345707\n",
    "# number_of_tracks = end_index - min_index\n",
    "# tracks_per_worker = int(number_of_tracks/max_workers) \n",
    "# start_index = range(min_index, end_index, tracks_per_worker)"
   ]
  },
  {
   "cell_type": "code",
   "execution_count": 8,
   "metadata": {},
   "outputs": [
    {
     "data": {
      "text/plain": [
       "977600"
      ]
     },
     "execution_count": 8,
     "metadata": {},
     "output_type": "execute_result"
    }
   ],
   "source": [
    "files = glob.glob('../data/audio-features/*.csv')\n",
    "file = max(files , key = os.path.getctime)\n",
    "lim_low = int(file.replace('../data/audio-features\\\\',\"\").split('-')[0])\n",
    "lim_low"
   ]
  },
  {
   "cell_type": "code",
   "execution_count": 9,
   "metadata": {},
   "outputs": [],
   "source": [
    "headers = auth()"
   ]
  },
  {
   "cell_type": "code",
   "execution_count": 66,
   "metadata": {},
   "outputs": [
    {
     "name": "stdout",
     "output_type": "stream",
     "text": [
      "2237600 2237700\n",
      "2237600 2237700\n"
     ]
    }
   ],
   "source": [
    "lim = len(track_uri)\n",
    "lim_low = 0\n",
    "print(lim_low, lim)\n",
    "failed = []\n",
    "step=100\n",
    "time0 = time()\n",
    "for i in range(lim_low,lim,step):\n",
    "    L = i\n",
    "    if i + step <= lim:\n",
    "        U = i+step\n",
    "    else:\n",
    "        U = lim\n",
    "    print(L,U)\n",
    "    track_ids = ','.join(list(track_uri['0'][L:U].str.replace('spotify:track:',\"\")))\n",
    "    #print(L,U)\n",
    "    r = requests.get(BASE_URL + 'audio-features/?ids=' + track_ids, headers=headers)     \n",
    "    if r.status_code!=200:\n",
    "        print(r.status_code)\n",
    "    #print('tr',track_ids)\n",
    "    if r.status_code == 200:\n",
    "        D = pd.DataFrame([el for el in r.json()['audio_features'] if el != None])\n",
    "        D.to_csv(f'../data/audio-features/{L}-{U}tracks.csv', index = None)\n",
    "        #print(D)\n",
    "    else:\n",
    "        tm.sleep(30)\n",
    "        failed.append(track_ids)\n",
    "        print(r.status_code)\n",
    "        \n",
    "    \n",
    "    if failed != []:\n",
    "        pd.DataFrame(failed).to_csv(f'../data/audio-features/failed/tracks-failed.csv', mode='a', header=False, index = None)\n",
    "    \n",
    "#     if L%10000 == 0:\n",
    "#         tm.sleep(6)\n",
    "#         print(f'{L} - {(time()-time0)/60:0.2f}min')\n",
    "    \n",
    "#     if L%100000 == 0:\n",
    "#         tm.sleep(30)\n",
    "#         print(f'{L} - {(time()-time0)/60:0.2f}min')\n",
    "#         headers = auth()    "
   ]
  },
  {
   "cell_type": "code",
   "execution_count": 67,
   "metadata": {},
   "outputs": [],
   "source": [
    "step=100\n",
    "all_tracks = []\n",
    "for i in range(0,len(track_uri),step):\n",
    "    L = i\n",
    "    if i + step <= len(track_uri):\n",
    "        U = i+step\n",
    "    else:\n",
    "        U = len(track_uri)\n",
    "    el = f'{L}-{U}tracks.csv'\n",
    "    all_tracks.append(el)"
   ]
  },
  {
   "cell_type": "code",
   "execution_count": 68,
   "metadata": {},
   "outputs": [],
   "source": [
    "all_tracks_downloaded = []\n",
    "for i, file in enumerate(os.listdir(r'../data/audio-features/')):\n",
    "    if file.endswith('.csv'):\n",
    "        all_tracks_downloaded.append(file)"
   ]
  },
  {
   "cell_type": "code",
   "execution_count": 75,
   "metadata": {},
   "outputs": [
    {
     "data": {
      "text/plain": [
       "(22623, 22623, ['0-100tracks.csv'], ['0-100tracks.csv'])"
      ]
     },
     "execution_count": 75,
     "metadata": {},
     "output_type": "execute_result"
    }
   ],
   "source": [
    "len(all_tracks), len(all_tracks_downloaded),all_tracks[:1], all_tracks_downloaded[:1]"
   ]
  },
  {
   "cell_type": "code",
   "execution_count": 55,
   "metadata": {},
   "outputs": [
    {
     "data": {
      "text/plain": [
       "22622"
      ]
     },
     "execution_count": 55,
     "metadata": {},
     "output_type": "execute_result"
    }
   ],
   "source": [
    "len(all_tracks_downloaded)"
   ]
  },
  {
   "cell_type": "code",
   "execution_count": 73,
   "metadata": {},
   "outputs": [
    {
     "data": {
      "text/plain": [
       "(['0-100tracks.csv'], ['0-100tracks.csv'])"
      ]
     },
     "execution_count": 73,
     "metadata": {},
     "output_type": "execute_result"
    }
   ],
   "source": []
  },
  {
   "cell_type": "code",
   "execution_count": 70,
   "metadata": {},
   "outputs": [
    {
     "name": "stdout",
     "output_type": "stream",
     "text": [
      "Nothing missed\n"
     ]
    }
   ],
   "source": [
    "missed = []\n",
    "for el in all_tracks:\n",
    "    if el not in all_tracks_downloaded:\n",
    "        missed.appemd(el)\n",
    "\n",
    "if missed == []:\n",
    "    print('Nothing missed')\n",
    "else:\n",
    "    print(\"Missed tracks\", missed)"
   ]
  },
  {
   "cell_type": "markdown",
   "metadata": {},
   "source": [
    "# Combine all files "
   ]
  },
  {
   "cell_type": "code",
   "execution_count": 9,
   "metadata": {},
   "outputs": [],
   "source": [
    "import numpy as np"
   ]
  },
  {
   "cell_type": "code",
   "execution_count": 29,
   "metadata": {},
   "outputs": [
    {
     "name": "stdout",
     "output_type": "stream",
     "text": [
      "0 finished in 0.00 min\n",
      "1000 finished in 0.04 min\n",
      "2000 finished in 0.08 min\n",
      "3000 finished in 0.12 min\n",
      "4000 finished in 0.15 min\n",
      "5000 finished in 0.19 min\n",
      "6000 finished in 0.23 min\n",
      "7000 finished in 0.27 min\n",
      "8000 finished in 0.31 min\n",
      "9000 finished in 0.35 min\n",
      "10000 finished in 0.39 min\n",
      "11000 finished in 0.43 min\n",
      "12000 finished in 0.48 min\n",
      "13000 finished in 0.52 min\n",
      "14000 finished in 0.56 min\n",
      "15000 finished in 0.61 min\n",
      "16000 finished in 0.67 min\n",
      "17000 finished in 0.72 min\n",
      "18000 finished in 0.77 min\n",
      "19000 finished in 0.82 min\n",
      "20000 finished in 0.87 min\n",
      "21000 finished in 0.92 min\n",
      "22000 finished in 0.97 min\n"
     ]
    }
   ],
   "source": [
    "arr = np.empty((22624*100,18), dtype=object)\n",
    "data = pd.DataFrame()\n",
    "t0=time()\n",
    "row_counter = 0\n",
    "for i, file in enumerate(os.listdir(r'../data/audio-features/')):\n",
    "    if file.endswith('.csv'):\n",
    "        data_to_append = pd.read_csv(f'../data/audio-features/{file}').to_numpy()\n",
    "        arr[row_counter:row_counter+len(data_to_append),:] = data_to_append\n",
    "        if i % 5000==0:\n",
    "            print(f'{i} finished in {(time()-t0)/60:0.2f} min')\n",
    "        row_counter = row_counter+len(data_to_append)"
   ]
  },
  {
   "cell_type": "code",
   "execution_count": 35,
   "metadata": {},
   "outputs": [
    {
     "name": "stdout",
     "output_type": "stream",
     "text": [
      "0 finished in 0.00 min\n",
      "5000 finished in 0.18 min\n",
      "10000 finished in 0.36 min\n",
      "15000 finished in 0.55 min\n",
      "20000 finished in 0.74 min\n",
      "2262190\n"
     ]
    }
   ],
   "source": [
    "t0=time()\n",
    "row_counter=0\n",
    "for i, file in enumerate(os.listdir(r'../data/audio-features/')):\n",
    "    if file.endswith('.csv'):\n",
    "        data_to_append = pd.read_csv(f'../data/audio-features/{file}')\n",
    "        if i % 5000==0:\n",
    "            print(f'{i} finished in {(time()-t0)/60:0.2f} min')\n",
    "        row_counter = row_counter+len(data_to_append)\n",
    "print(row_counter)"
   ]
  },
  {
   "cell_type": "code",
   "execution_count": 38,
   "metadata": {},
   "outputs": [
    {
     "data": {
      "text/plain": [
       "(2262400, 18)"
      ]
     },
     "execution_count": 38,
     "metadata": {},
     "output_type": "execute_result"
    }
   ],
   "source": [
    "arr.shape"
   ]
  },
  {
   "cell_type": "code",
   "execution_count": 61,
   "metadata": {},
   "outputs": [],
   "source": [
    "for file in os.listdir(r'../data/audio-features/')[:1]:\n",
    "    if file.endswith('.csv'):\n",
    "        cols = pd.read_csv(f'../data/audio-features/{file}').columns"
   ]
  },
  {
   "cell_type": "code",
   "execution_count": 62,
   "metadata": {},
   "outputs": [
    {
     "data": {
      "text/plain": [
       "Index(['danceability', 'energy', 'key', 'loudness', 'mode', 'speechiness',\n",
       "       'acousticness', 'instrumentalness', 'liveness', 'valence', 'tempo',\n",
       "       'type', 'id', 'uri', 'track_href', 'analysis_url', 'duration_ms',\n",
       "       'time_signature'],\n",
       "      dtype='object')"
      ]
     },
     "execution_count": 62,
     "metadata": {},
     "output_type": "execute_result"
    }
   ],
   "source": [
    "cols"
   ]
  },
  {
   "cell_type": "code",
   "execution_count": 68,
   "metadata": {},
   "outputs": [],
   "source": [
    "df = pd.DataFrame(arr, columns = cols)"
   ]
  },
  {
   "cell_type": "code",
   "execution_count": 69,
   "metadata": {},
   "outputs": [
    {
     "data": {
      "text/plain": [
       "(2262190, 18)"
      ]
     },
     "execution_count": 69,
     "metadata": {},
     "output_type": "execute_result"
    }
   ],
   "source": [
    "df[df.isnull().any(axis=1) == False].shape"
   ]
  },
  {
   "cell_type": "code",
   "execution_count": 70,
   "metadata": {},
   "outputs": [],
   "source": [
    "df = df[df.isnull().any(axis=1) == False]"
   ]
  },
  {
   "cell_type": "code",
   "execution_count": 71,
   "metadata": {},
   "outputs": [
    {
     "data": {
      "text/plain": [
       "(2262190, 18)"
      ]
     },
     "execution_count": 71,
     "metadata": {},
     "output_type": "execute_result"
    }
   ],
   "source": [
    "df.shape"
   ]
  },
  {
   "cell_type": "code",
   "execution_count": 78,
   "metadata": {},
   "outputs": [],
   "source": [
    "df[include].to_csv('../data/audio-features-combines.csv', index=None)"
   ]
  },
  {
   "cell_type": "code",
   "execution_count": 79,
   "metadata": {},
   "outputs": [],
   "source": [
    "df_1 =  pd.read_csv('../data/audio-features-combines.csv')"
   ]
  },
  {
   "cell_type": "code",
   "execution_count": 83,
   "metadata": {},
   "outputs": [
    {
     "data": {
      "text/plain": [
       "uri                  object\n",
       "danceability        float64\n",
       "energy              float64\n",
       "key                   int64\n",
       "loudness            float64\n",
       "mode                  int64\n",
       "speechiness         float64\n",
       "acousticness        float64\n",
       "instrumentalness    float64\n",
       "liveness            float64\n",
       "valence             float64\n",
       "tempo               float64\n",
       "duration_ms           int64\n",
       "time_signature        int64\n",
       "dtype: object"
      ]
     },
     "execution_count": 83,
     "metadata": {},
     "output_type": "execute_result"
    }
   ],
   "source": [
    "df_1.dtypes"
   ]
  }
 ],
 "metadata": {
  "kernelspec": {
   "display_name": "Python 3",
   "language": "python",
   "name": "python3"
  },
  "language_info": {
   "codemirror_mode": {
    "name": "ipython",
    "version": 3
   },
   "file_extension": ".py",
   "mimetype": "text/x-python",
   "name": "python",
   "nbconvert_exporter": "python",
   "pygments_lexer": "ipython3",
   "version": "3.8.3"
  }
 },
 "nbformat": 4,
 "nbformat_minor": 4
}
