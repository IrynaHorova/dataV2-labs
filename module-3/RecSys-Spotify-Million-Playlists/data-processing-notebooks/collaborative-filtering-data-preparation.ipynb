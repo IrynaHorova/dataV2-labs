{
 "cells": [
  {
   "cell_type": "markdown",
   "metadata": {},
   "source": [
    "## Collaborative Filtering - extract only PID, track_uri and pos "
   ]
  },
  {
   "cell_type": "code",
   "execution_count": 1,
   "metadata": {},
   "outputs": [],
   "source": [
    "import json\n",
    "import numpy as np\n",
    "from time import time\n",
    "import pandas as pd\n",
    "from pandas.io.json import json_normalize\n",
    "import os\n",
    "import concurrent.futures\n",
    "import functools\n",
    "import random\n",
    "import gc\n",
    "import warnings\n",
    "from pandas.core.common import SettingWithCopyWarning\n",
    "warnings.simplefilter(action=\"ignore\", category=SettingWithCopyWarning)"
   ]
  },
  {
   "cell_type": "code",
   "execution_count": null,
   "metadata": {},
   "outputs": [],
   "source": [
    "path = '../dataset/spotify_million_playlist_dataset/data/'"
   ]
  },
  {
   "cell_type": "code",
   "execution_count": null,
   "metadata": {},
   "outputs": [],
   "source": [
    "arr = np.empty((66346428,4), dtype = object)"
   ]
  },
  {
   "cell_type": "code",
   "execution_count": null,
   "metadata": {},
   "outputs": [],
   "source": [
    "keys = [\n",
    "    'pid',\n",
    "#     'name',\n",
    "#     'description',\n",
    "#     'num_artists',\n",
    "#     'num_albums',\n",
    "#     'num_tracks',\n",
    "#     'num_followers',\n",
    "#     'duration_ms',\n",
    "#     'collaborative',\n",
    "    'tracks'\n",
    "]"
   ]
  },
  {
   "cell_type": "code",
   "execution_count": null,
   "metadata": {},
   "outputs": [],
   "source": [
    "t0=time()\n",
    "samp = 1000\n",
    "filenames = os.listdir(path)\n",
    "num = 0\n",
    "for i, filename in enumerate(random.sample(sorted(filenames), samp)):\n",
    "    if filename.startswith(\"mpd.slice.\") and filename.endswith(\".json\"):\n",
    "        fullpath = os.sep.join((path, filename))\n",
    "        f = open(fullpath)\n",
    "        js = f.read()\n",
    "        f.close()\n",
    "        mpd_slice = json.loads(js)\n",
    "        D = pd.DataFrame(mpd_slice['playlists'])[keys]\n",
    "        df = pd.DataFrame(D, columns=['pid','tracks'])\n",
    "        idx = df.set_index(['pid']).tracks.apply(pd.Series).stack().index\n",
    "        df = pd.DataFrame(df.set_index(['pid']).tracks.apply(pd.Series).stack().values.tolist(),index=idx).reset_index().drop('level_1',1)\n",
    "        arr0 = df[['pid','pos','track_uri','artist_uri']].to_numpy()\n",
    "        arr[num:num+len(df),:] = arr0\n",
    "        num = num+len(df)\n",
    "        \n",
    "        print(filename,i)\n",
    "# Time diff\n",
    "print(f\"Time taken: {(time()-t0)/60}\")"
   ]
  },
  {
   "cell_type": "code",
   "execution_count": null,
   "metadata": {},
   "outputs": [],
   "source": [
    "gc.collect()"
   ]
  },
  {
   "cell_type": "code",
   "execution_count": null,
   "metadata": {},
   "outputs": [],
   "source": [
    "arr.shape"
   ]
  },
  {
   "cell_type": "code",
   "execution_count": null,
   "metadata": {},
   "outputs": [],
   "source": [
    "df = pd.DataFrame(arr)"
   ]
  },
  {
   "cell_type": "code",
   "execution_count": null,
   "metadata": {},
   "outputs": [],
   "source": [
    "df.columns=['pid','pos','track_uri', 'artist_uri']"
   ]
  },
  {
   "cell_type": "code",
   "execution_count": null,
   "metadata": {},
   "outputs": [],
   "source": [
    "df.tail()"
   ]
  },
  {
   "cell_type": "code",
   "execution_count": null,
   "metadata": {},
   "outputs": [],
   "source": [
    "df.to_csv('../data-processed/pid-track-artist.csv', index = None)"
   ]
  },
  {
   "cell_type": "markdown",
   "metadata": {},
   "source": [
    "## Add binary and scaled rating"
   ]
  },
  {
   "cell_type": "code",
   "execution_count": null,
   "metadata": {},
   "outputs": [],
   "source": [
    "df = pd.read_csv('../data-processed/pid-track-artist.csv')"
   ]
  },
  {
   "cell_type": "code",
   "execution_count": null,
   "metadata": {},
   "outputs": [],
   "source": [
    "df.head()"
   ]
  },
  {
   "cell_type": "code",
   "execution_count": null,
   "metadata": {},
   "outputs": [],
   "source": [
    "df.dtypes"
   ]
  },
  {
   "cell_type": "markdown",
   "metadata": {},
   "source": [
    "### Binary scaling"
   ]
  },
  {
   "cell_type": "code",
   "execution_count": null,
   "metadata": {},
   "outputs": [],
   "source": [
    "df['binary_rating'] = 1"
   ]
  },
  {
   "cell_type": "markdown",
   "metadata": {},
   "source": [
    "### Scale 1 to 10 "
   ]
  },
  {
   "cell_type": "code",
   "execution_count": null,
   "metadata": {},
   "outputs": [],
   "source": [
    "df.head()"
   ]
  },
  {
   "cell_type": "code",
   "execution_count": null,
   "metadata": {},
   "outputs": [],
   "source": [
    "df['pos_max'] = df.groupby('pid')['pos'].transform('max')\n",
    "df['pos_rating'] = (9*(df['pos_max'] - df['pos'])/(df['pos_max']))+1\n",
    "df=df.drop(columns=['pos_max'], axis =1 )"
   ]
  },
  {
   "cell_type": "code",
   "execution_count": null,
   "metadata": {},
   "outputs": [],
   "source": [
    "df.head()"
   ]
  },
  {
   "cell_type": "code",
   "execution_count": null,
   "metadata": {},
   "outputs": [],
   "source": [
    "df[['pid','track_uri','binary_rating','pos_rating']].to_csv('../data-processed/pid-track-ratings.csv', index = None)"
   ]
  },
  {
   "cell_type": "markdown",
   "metadata": {},
   "source": [
    "## Hold out playlists for testing - to be used for R-precision and NDGC calculation"
   ]
  },
  {
   "cell_type": "code",
   "execution_count": 3,
   "metadata": {},
   "outputs": [],
   "source": [
    "df = pd.read_csv('../data-processed/pid-track-ratings_train_test_tags.csv')"
   ]
  },
  {
   "cell_type": "code",
   "execution_count": 4,
   "metadata": {},
   "outputs": [],
   "source": [
    "pids = pd.DataFrame(df.groupby('pid')['pos'].max()).reset_index()\n",
    "pids.columns=['pid','num_tracks']\n",
    "pids['train_test'] = np.where(np.random.rand(len(pids),1)<=0.7,'train','test')"
   ]
  },
  {
   "cell_type": "code",
   "execution_count": 5,
   "metadata": {},
   "outputs": [
    {
     "data": {
      "text/html": [
       "<div>\n",
       "<style scoped>\n",
       "    .dataframe tbody tr th:only-of-type {\n",
       "        vertical-align: middle;\n",
       "    }\n",
       "\n",
       "    .dataframe tbody tr th {\n",
       "        vertical-align: top;\n",
       "    }\n",
       "\n",
       "    .dataframe thead th {\n",
       "        text-align: right;\n",
       "    }\n",
       "</style>\n",
       "<table border=\"1\" class=\"dataframe\">\n",
       "  <thead>\n",
       "    <tr style=\"text-align: right;\">\n",
       "      <th></th>\n",
       "      <th>pid</th>\n",
       "      <th>num_tracks</th>\n",
       "      <th>train_test</th>\n",
       "    </tr>\n",
       "  </thead>\n",
       "  <tbody>\n",
       "    <tr>\n",
       "      <th>0</th>\n",
       "      <td>0</td>\n",
       "      <td>51</td>\n",
       "      <td>train</td>\n",
       "    </tr>\n",
       "    <tr>\n",
       "      <th>1</th>\n",
       "      <td>1</td>\n",
       "      <td>38</td>\n",
       "      <td>train</td>\n",
       "    </tr>\n",
       "    <tr>\n",
       "      <th>2</th>\n",
       "      <td>2</td>\n",
       "      <td>63</td>\n",
       "      <td>train</td>\n",
       "    </tr>\n",
       "    <tr>\n",
       "      <th>3</th>\n",
       "      <td>3</td>\n",
       "      <td>125</td>\n",
       "      <td>train</td>\n",
       "    </tr>\n",
       "    <tr>\n",
       "      <th>4</th>\n",
       "      <td>4</td>\n",
       "      <td>16</td>\n",
       "      <td>train</td>\n",
       "    </tr>\n",
       "  </tbody>\n",
       "</table>\n",
       "</div>"
      ],
      "text/plain": [
       "   pid  num_tracks train_test\n",
       "0    0          51      train\n",
       "1    1          38      train\n",
       "2    2          63      train\n",
       "3    3         125      train\n",
       "4    4          16      train"
      ]
     },
     "execution_count": 5,
     "metadata": {},
     "output_type": "execute_result"
    }
   ],
   "source": [
    "pids.head()"
   ]
  },
  {
   "cell_type": "code",
   "execution_count": 6,
   "metadata": {},
   "outputs": [],
   "source": [
    "D_num_tracks={}\n",
    "for index, row in pids.iterrows():\n",
    "    D_num_tracks[row['pid']] = row['num_tracks']"
   ]
  },
  {
   "cell_type": "code",
   "execution_count": 7,
   "metadata": {},
   "outputs": [
    {
     "data": {
      "text/plain": [
       "51"
      ]
     },
     "execution_count": 7,
     "metadata": {},
     "output_type": "execute_result"
    }
   ],
   "source": [
    "D_num_tracks[0]"
   ]
  },
  {
   "cell_type": "code",
   "execution_count": 8,
   "metadata": {},
   "outputs": [
    {
     "data": {
      "text/html": [
       "<div>\n",
       "<style scoped>\n",
       "    .dataframe tbody tr th:only-of-type {\n",
       "        vertical-align: middle;\n",
       "    }\n",
       "\n",
       "    .dataframe tbody tr th {\n",
       "        vertical-align: top;\n",
       "    }\n",
       "\n",
       "    .dataframe thead th {\n",
       "        text-align: right;\n",
       "    }\n",
       "</style>\n",
       "<table border=\"1\" class=\"dataframe\">\n",
       "  <thead>\n",
       "    <tr style=\"text-align: right;\">\n",
       "      <th></th>\n",
       "      <th>pid</th>\n",
       "      <th>num_tracks</th>\n",
       "    </tr>\n",
       "  </thead>\n",
       "  <tbody>\n",
       "    <tr>\n",
       "      <th>count</th>\n",
       "      <td>1000000.000000</td>\n",
       "      <td>1000000.000000</td>\n",
       "    </tr>\n",
       "    <tr>\n",
       "      <th>mean</th>\n",
       "      <td>499999.500000</td>\n",
       "      <td>65.346428</td>\n",
       "    </tr>\n",
       "    <tr>\n",
       "      <th>std</th>\n",
       "      <td>288675.278933</td>\n",
       "      <td>53.669358</td>\n",
       "    </tr>\n",
       "    <tr>\n",
       "      <th>min</th>\n",
       "      <td>0.000000</td>\n",
       "      <td>4.000000</td>\n",
       "    </tr>\n",
       "    <tr>\n",
       "      <th>25%</th>\n",
       "      <td>249999.750000</td>\n",
       "      <td>25.000000</td>\n",
       "    </tr>\n",
       "    <tr>\n",
       "      <th>50%</th>\n",
       "      <td>499999.500000</td>\n",
       "      <td>48.000000</td>\n",
       "    </tr>\n",
       "    <tr>\n",
       "      <th>75%</th>\n",
       "      <td>749999.250000</td>\n",
       "      <td>91.000000</td>\n",
       "    </tr>\n",
       "    <tr>\n",
       "      <th>max</th>\n",
       "      <td>999999.000000</td>\n",
       "      <td>375.000000</td>\n",
       "    </tr>\n",
       "  </tbody>\n",
       "</table>\n",
       "</div>"
      ],
      "text/plain": [
       "                  pid      num_tracks\n",
       "count  1000000.000000  1000000.000000\n",
       "mean    499999.500000       65.346428\n",
       "std     288675.278933       53.669358\n",
       "min          0.000000        4.000000\n",
       "25%     249999.750000       25.000000\n",
       "50%     499999.500000       48.000000\n",
       "75%     749999.250000       91.000000\n",
       "max     999999.000000      375.000000"
      ]
     },
     "execution_count": 8,
     "metadata": {},
     "output_type": "execute_result"
    }
   ],
   "source": [
    "pids.describe()"
   ]
  },
  {
   "cell_type": "code",
   "execution_count": 9,
   "metadata": {},
   "outputs": [],
   "source": [
    "holdout_array = [0.5,0.6,0.7,0.8,0.9,0.95]\n",
    "first_random = ['first','random']"
   ]
  },
  {
   "cell_type": "code",
   "execution_count": 10,
   "metadata": {},
   "outputs": [],
   "source": [
    "pids['test_first_random'] = np.random.randint(0, 2, pids.shape[0])"
   ]
  },
  {
   "cell_type": "code",
   "execution_count": 11,
   "metadata": {},
   "outputs": [],
   "source": [
    "pids['test_hould_out_pct'] = [random.choice(holdout_array)*100 for i in range(len(pids))]\n",
    "pids['seed_tracks_num'] = np.ceil(pids['num_tracks']*(1-pids['test_hould_out_pct']/100))\n",
    "pids['seed_tracks_num'] = np.where(pids['seed_tracks_num']>100,100, pids['seed_tracks_num'])"
   ]
  },
  {
   "cell_type": "code",
   "execution_count": 13,
   "metadata": {},
   "outputs": [
    {
     "data": {
      "text/plain": [
       "train    699964\n",
       "test     300036\n",
       "Name: train_test, dtype: int64"
      ]
     },
     "execution_count": 13,
     "metadata": {},
     "output_type": "execute_result"
    }
   ],
   "source": [
    "pids['train_test'].value_counts()"
   ]
  },
  {
   "cell_type": "code",
   "execution_count": 14,
   "metadata": {},
   "outputs": [],
   "source": [
    "D_test_train={}\n",
    "for index, row in pids.iterrows():\n",
    "    D_test_train[row['pid']] = row['train_test']"
   ]
  },
  {
   "cell_type": "code",
   "execution_count": 15,
   "metadata": {},
   "outputs": [],
   "source": [
    "D_test_first_random={}\n",
    "for index, row in pids.iterrows():\n",
    "    D_test_first_random[row['pid']] = row['test_first_random']"
   ]
  },
  {
   "cell_type": "code",
   "execution_count": 16,
   "metadata": {},
   "outputs": [],
   "source": [
    "D_seed_tracks_num={}\n",
    "for index, row in pids.iterrows():\n",
    "    D_seed_tracks_num[row['pid']] = row['seed_tracks_num']"
   ]
  },
  {
   "cell_type": "code",
   "execution_count": 17,
   "metadata": {},
   "outputs": [
    {
     "data": {
      "text/plain": [
       "('test', 1, 10.0)"
      ]
     },
     "execution_count": 17,
     "metadata": {},
     "output_type": "execute_result"
    }
   ],
   "source": [
    "D_test_train[4357], D_test_first_random[1223], D_seed_tracks_num[230]"
   ]
  },
  {
   "cell_type": "code",
   "execution_count": 18,
   "metadata": {},
   "outputs": [],
   "source": [
    "df['train_test'] = df['pid'].map(D_test_train)\n",
    "df['test_first_random'] = df['pid'].map(D_test_first_random)\n",
    "df['seed_tracks_num'] = df['pid'].map(D_seed_tracks_num)"
   ]
  },
  {
   "cell_type": "code",
   "execution_count": 19,
   "metadata": {},
   "outputs": [
    {
     "data": {
      "text/plain": [
       "train    46431809\n",
       "test     19914619\n",
       "Name: train_test, dtype: int64"
      ]
     },
     "execution_count": 19,
     "metadata": {},
     "output_type": "execute_result"
    }
   ],
   "source": [
    "df['train_test'].value_counts()"
   ]
  },
  {
   "cell_type": "code",
   "execution_count": 20,
   "metadata": {},
   "outputs": [],
   "source": [
    "df['num_tracks'] = df['pid'].map(D_num_tracks)"
   ]
  },
  {
   "cell_type": "code",
   "execution_count": 21,
   "metadata": {},
   "outputs": [
    {
     "data": {
      "text/html": [
       "<div>\n",
       "<style scoped>\n",
       "    .dataframe tbody tr th:only-of-type {\n",
       "        vertical-align: middle;\n",
       "    }\n",
       "\n",
       "    .dataframe tbody tr th {\n",
       "        vertical-align: top;\n",
       "    }\n",
       "\n",
       "    .dataframe thead th {\n",
       "        text-align: right;\n",
       "    }\n",
       "</style>\n",
       "<table border=\"1\" class=\"dataframe\">\n",
       "  <thead>\n",
       "    <tr style=\"text-align: right;\">\n",
       "      <th></th>\n",
       "      <th>pid</th>\n",
       "      <th>pos</th>\n",
       "      <th>track_uri</th>\n",
       "      <th>artist_uri</th>\n",
       "      <th>binary_rating</th>\n",
       "      <th>pos_rating</th>\n",
       "      <th>train_test</th>\n",
       "      <th>test_first_random</th>\n",
       "      <th>seed_tracks_num</th>\n",
       "      <th>num_tracks</th>\n",
       "    </tr>\n",
       "  </thead>\n",
       "  <tbody>\n",
       "    <tr>\n",
       "      <th>0</th>\n",
       "      <td>491000</td>\n",
       "      <td>0</td>\n",
       "      <td>spotify:track:3giQ7393501IRNrd8iHugf</td>\n",
       "      <td>spotify:artist:2ptmyXoL7poH6Zq62h1QT9</td>\n",
       "      <td>1</td>\n",
       "      <td>10.000000</td>\n",
       "      <td>train</td>\n",
       "      <td>1</td>\n",
       "      <td>36.0</td>\n",
       "      <td>177</td>\n",
       "    </tr>\n",
       "    <tr>\n",
       "      <th>1</th>\n",
       "      <td>491000</td>\n",
       "      <td>1</td>\n",
       "      <td>spotify:track:3jpcVaeyNjWgjqIxAiWasz</td>\n",
       "      <td>spotify:artist:2ptmyXoL7poH6Zq62h1QT9</td>\n",
       "      <td>1</td>\n",
       "      <td>9.949153</td>\n",
       "      <td>train</td>\n",
       "      <td>1</td>\n",
       "      <td>36.0</td>\n",
       "      <td>177</td>\n",
       "    </tr>\n",
       "    <tr>\n",
       "      <th>2</th>\n",
       "      <td>491000</td>\n",
       "      <td>2</td>\n",
       "      <td>spotify:track:1uuqRaSJAiQ6VB8BWblXWJ</td>\n",
       "      <td>spotify:artist:2ptmyXoL7poH6Zq62h1QT9</td>\n",
       "      <td>1</td>\n",
       "      <td>9.898305</td>\n",
       "      <td>train</td>\n",
       "      <td>1</td>\n",
       "      <td>36.0</td>\n",
       "      <td>177</td>\n",
       "    </tr>\n",
       "    <tr>\n",
       "      <th>3</th>\n",
       "      <td>491000</td>\n",
       "      <td>3</td>\n",
       "      <td>spotify:track:7gXpcXwtmEiQzskYJmtGgk</td>\n",
       "      <td>spotify:artist:2ptmyXoL7poH6Zq62h1QT9</td>\n",
       "      <td>1</td>\n",
       "      <td>9.847458</td>\n",
       "      <td>train</td>\n",
       "      <td>1</td>\n",
       "      <td>36.0</td>\n",
       "      <td>177</td>\n",
       "    </tr>\n",
       "    <tr>\n",
       "      <th>4</th>\n",
       "      <td>491000</td>\n",
       "      <td>4</td>\n",
       "      <td>spotify:track:5wtIWwOtowY2howCZ7Veq2</td>\n",
       "      <td>spotify:artist:2ptmyXoL7poH6Zq62h1QT9</td>\n",
       "      <td>1</td>\n",
       "      <td>9.796610</td>\n",
       "      <td>train</td>\n",
       "      <td>1</td>\n",
       "      <td>36.0</td>\n",
       "      <td>177</td>\n",
       "    </tr>\n",
       "  </tbody>\n",
       "</table>\n",
       "</div>"
      ],
      "text/plain": [
       "      pid  pos                             track_uri  \\\n",
       "0  491000    0  spotify:track:3giQ7393501IRNrd8iHugf   \n",
       "1  491000    1  spotify:track:3jpcVaeyNjWgjqIxAiWasz   \n",
       "2  491000    2  spotify:track:1uuqRaSJAiQ6VB8BWblXWJ   \n",
       "3  491000    3  spotify:track:7gXpcXwtmEiQzskYJmtGgk   \n",
       "4  491000    4  spotify:track:5wtIWwOtowY2howCZ7Veq2   \n",
       "\n",
       "                              artist_uri  binary_rating  pos_rating  \\\n",
       "0  spotify:artist:2ptmyXoL7poH6Zq62h1QT9              1   10.000000   \n",
       "1  spotify:artist:2ptmyXoL7poH6Zq62h1QT9              1    9.949153   \n",
       "2  spotify:artist:2ptmyXoL7poH6Zq62h1QT9              1    9.898305   \n",
       "3  spotify:artist:2ptmyXoL7poH6Zq62h1QT9              1    9.847458   \n",
       "4  spotify:artist:2ptmyXoL7poH6Zq62h1QT9              1    9.796610   \n",
       "\n",
       "  train_test  test_first_random  seed_tracks_num  num_tracks  \n",
       "0      train                  1             36.0         177  \n",
       "1      train                  1             36.0         177  \n",
       "2      train                  1             36.0         177  \n",
       "3      train                  1             36.0         177  \n",
       "4      train                  1             36.0         177  "
      ]
     },
     "execution_count": 21,
     "metadata": {},
     "output_type": "execute_result"
    }
   ],
   "source": [
    "df.head()"
   ]
  },
  {
   "cell_type": "code",
   "execution_count": 42,
   "metadata": {},
   "outputs": [],
   "source": [
    "df_train = df[df.train_test == 'train']\n",
    "df_test_1 = df[(df.train_test == 'test') & (df.test_first_random==1)]#first x tracks\n",
    "df_test_2 = df[(df.train_test == 'test') & (df.test_first_random==0)]#random x tracks\n",
    "df_train['hold_out'] = 0"
   ]
  },
  {
   "cell_type": "code",
   "execution_count": 43,
   "metadata": {},
   "outputs": [
    {
     "data": {
      "text/plain": [
       "0"
      ]
     },
     "execution_count": 43,
     "metadata": {},
     "output_type": "execute_result"
    }
   ],
   "source": [
    "df.shape[0]-df_test_1.shape[0]-df_test_2.shape[0]-df_train.shape[0]"
   ]
  },
  {
   "cell_type": "code",
   "execution_count": 44,
   "metadata": {},
   "outputs": [
    {
     "data": {
      "text/plain": [
       "((9952949, 10), (9961670, 10), (46431809, 11))"
      ]
     },
     "execution_count": 44,
     "metadata": {},
     "output_type": "execute_result"
    }
   ],
   "source": [
    "df_test_1.shape, df_test_2.shape, df_train.shape"
   ]
  },
  {
   "cell_type": "code",
   "execution_count": 45,
   "metadata": {},
   "outputs": [
    {
     "data": {
      "text/html": [
       "<div>\n",
       "<style scoped>\n",
       "    .dataframe tbody tr th:only-of-type {\n",
       "        vertical-align: middle;\n",
       "    }\n",
       "\n",
       "    .dataframe tbody tr th {\n",
       "        vertical-align: top;\n",
       "    }\n",
       "\n",
       "    .dataframe thead th {\n",
       "        text-align: right;\n",
       "    }\n",
       "</style>\n",
       "<table border=\"1\" class=\"dataframe\">\n",
       "  <thead>\n",
       "    <tr style=\"text-align: right;\">\n",
       "      <th></th>\n",
       "      <th>pid</th>\n",
       "      <th>pos</th>\n",
       "      <th>track_uri</th>\n",
       "      <th>artist_uri</th>\n",
       "      <th>binary_rating</th>\n",
       "      <th>pos_rating</th>\n",
       "      <th>train_test</th>\n",
       "      <th>test_first_random</th>\n",
       "      <th>seed_tracks_num</th>\n",
       "      <th>num_tracks</th>\n",
       "      <th>hold_out</th>\n",
       "    </tr>\n",
       "  </thead>\n",
       "  <tbody>\n",
       "    <tr>\n",
       "      <th>0</th>\n",
       "      <td>491000</td>\n",
       "      <td>0</td>\n",
       "      <td>spotify:track:3giQ7393501IRNrd8iHugf</td>\n",
       "      <td>spotify:artist:2ptmyXoL7poH6Zq62h1QT9</td>\n",
       "      <td>1</td>\n",
       "      <td>10.000000</td>\n",
       "      <td>train</td>\n",
       "      <td>1</td>\n",
       "      <td>36.0</td>\n",
       "      <td>177</td>\n",
       "      <td>0</td>\n",
       "    </tr>\n",
       "    <tr>\n",
       "      <th>1</th>\n",
       "      <td>491000</td>\n",
       "      <td>1</td>\n",
       "      <td>spotify:track:3jpcVaeyNjWgjqIxAiWasz</td>\n",
       "      <td>spotify:artist:2ptmyXoL7poH6Zq62h1QT9</td>\n",
       "      <td>1</td>\n",
       "      <td>9.949153</td>\n",
       "      <td>train</td>\n",
       "      <td>1</td>\n",
       "      <td>36.0</td>\n",
       "      <td>177</td>\n",
       "      <td>0</td>\n",
       "    </tr>\n",
       "    <tr>\n",
       "      <th>2</th>\n",
       "      <td>491000</td>\n",
       "      <td>2</td>\n",
       "      <td>spotify:track:1uuqRaSJAiQ6VB8BWblXWJ</td>\n",
       "      <td>spotify:artist:2ptmyXoL7poH6Zq62h1QT9</td>\n",
       "      <td>1</td>\n",
       "      <td>9.898305</td>\n",
       "      <td>train</td>\n",
       "      <td>1</td>\n",
       "      <td>36.0</td>\n",
       "      <td>177</td>\n",
       "      <td>0</td>\n",
       "    </tr>\n",
       "    <tr>\n",
       "      <th>3</th>\n",
       "      <td>491000</td>\n",
       "      <td>3</td>\n",
       "      <td>spotify:track:7gXpcXwtmEiQzskYJmtGgk</td>\n",
       "      <td>spotify:artist:2ptmyXoL7poH6Zq62h1QT9</td>\n",
       "      <td>1</td>\n",
       "      <td>9.847458</td>\n",
       "      <td>train</td>\n",
       "      <td>1</td>\n",
       "      <td>36.0</td>\n",
       "      <td>177</td>\n",
       "      <td>0</td>\n",
       "    </tr>\n",
       "    <tr>\n",
       "      <th>4</th>\n",
       "      <td>491000</td>\n",
       "      <td>4</td>\n",
       "      <td>spotify:track:5wtIWwOtowY2howCZ7Veq2</td>\n",
       "      <td>spotify:artist:2ptmyXoL7poH6Zq62h1QT9</td>\n",
       "      <td>1</td>\n",
       "      <td>9.796610</td>\n",
       "      <td>train</td>\n",
       "      <td>1</td>\n",
       "      <td>36.0</td>\n",
       "      <td>177</td>\n",
       "      <td>0</td>\n",
       "    </tr>\n",
       "  </tbody>\n",
       "</table>\n",
       "</div>"
      ],
      "text/plain": [
       "      pid  pos                             track_uri  \\\n",
       "0  491000    0  spotify:track:3giQ7393501IRNrd8iHugf   \n",
       "1  491000    1  spotify:track:3jpcVaeyNjWgjqIxAiWasz   \n",
       "2  491000    2  spotify:track:1uuqRaSJAiQ6VB8BWblXWJ   \n",
       "3  491000    3  spotify:track:7gXpcXwtmEiQzskYJmtGgk   \n",
       "4  491000    4  spotify:track:5wtIWwOtowY2howCZ7Veq2   \n",
       "\n",
       "                              artist_uri  binary_rating  pos_rating  \\\n",
       "0  spotify:artist:2ptmyXoL7poH6Zq62h1QT9              1   10.000000   \n",
       "1  spotify:artist:2ptmyXoL7poH6Zq62h1QT9              1    9.949153   \n",
       "2  spotify:artist:2ptmyXoL7poH6Zq62h1QT9              1    9.898305   \n",
       "3  spotify:artist:2ptmyXoL7poH6Zq62h1QT9              1    9.847458   \n",
       "4  spotify:artist:2ptmyXoL7poH6Zq62h1QT9              1    9.796610   \n",
       "\n",
       "  train_test  test_first_random  seed_tracks_num  num_tracks  hold_out  \n",
       "0      train                  1             36.0         177         0  \n",
       "1      train                  1             36.0         177         0  \n",
       "2      train                  1             36.0         177         0  \n",
       "3      train                  1             36.0         177         0  \n",
       "4      train                  1             36.0         177         0  "
      ]
     },
     "execution_count": 45,
     "metadata": {},
     "output_type": "execute_result"
    }
   ],
   "source": [
    "df_train.head()"
   ]
  },
  {
   "cell_type": "code",
   "execution_count": 46,
   "metadata": {},
   "outputs": [],
   "source": [
    "#select x first tracks\n",
    "df_test_1['hold_out'] = np.where(df_test_1.pos<df_test_1.seed_tracks_num,0,1)"
   ]
  },
  {
   "cell_type": "code",
   "execution_count": 152,
   "metadata": {},
   "outputs": [],
   "source": [
    "df_test_2['hold_out_'] = np.where(df_test_2.pos<df_test_2.seed_tracks_num,0,1)"
   ]
  },
  {
   "cell_type": "code",
   "execution_count": 48,
   "metadata": {},
   "outputs": [
    {
     "data": {
      "text/plain": [
       "(9952949, 11)"
      ]
     },
     "execution_count": 48,
     "metadata": {},
     "output_type": "execute_result"
    }
   ],
   "source": [
    "df_test_1.shape"
   ]
  },
  {
   "cell_type": "code",
   "execution_count": 51,
   "metadata": {},
   "outputs": [
    {
     "data": {
      "text/plain": [
       "(9961670, 11)"
      ]
     },
     "execution_count": 51,
     "metadata": {},
     "output_type": "execute_result"
    }
   ],
   "source": [
    "df_test_2.shape"
   ]
  },
  {
   "cell_type": "code",
   "execution_count": 32,
   "metadata": {},
   "outputs": [],
   "source": [
    "D_seed_tracks={}\n",
    "for index, row in pids.iterrows():\n",
    "    D_seed_tracks[row['pid']] = row['seed_tracks_num']"
   ]
  },
  {
   "cell_type": "code",
   "execution_count": 91,
   "metadata": {},
   "outputs": [],
   "source": [
    "D_num_rows={}\n",
    "for index, row in pids.iterrows():\n",
    "    D_num_rows[row['pid']] = row['num_tracks']+1"
   ]
  },
  {
   "cell_type": "code",
   "execution_count": 121,
   "metadata": {},
   "outputs": [],
   "source": [
    "D_num_rows_sorted={}\n",
    "for el in list(df_test_2.pid.unique()):\n",
    "    D_num_rows_sorted[el] = D_num_rows[el]"
   ]
  },
  {
   "cell_type": "code",
   "execution_count": 120,
   "metadata": {},
   "outputs": [],
   "source": [
    "D_seed_tracks_sorted={}\n",
    "for el in list(df_test_2.pid.unique()):\n",
    "    D_seed_tracks_sorted[el] = D_seed_tracks[el]"
   ]
  },
  {
   "cell_type": "code",
   "execution_count": 151,
   "metadata": {},
   "outputs": [],
   "source": [
    "hold_out_list = []\n",
    "for i,el in enumerate(list(df_test_2.pid.unique())):\n",
    "    l=[0]*int(D_seed_tracks_sorted[el]) + [1]*(int(D_num_rows_sorted[el])-int(D_seed_tracks_sorted[el]))\n",
    "    random.shuffle(l)\n",
    "    hold_out_list.extend(l)"
   ]
  },
  {
   "cell_type": "code",
   "execution_count": 150,
   "metadata": {},
   "outputs": [
    {
     "data": {
      "text/plain": [
       "9961670"
      ]
     },
     "execution_count": 150,
     "metadata": {},
     "output_type": "execute_result"
    }
   ],
   "source": [
    "len(hold_out_list)"
   ]
  },
  {
   "cell_type": "code",
   "execution_count": 153,
   "metadata": {},
   "outputs": [],
   "source": [
    "df_test_2['hold_out']=hold_out_list"
   ]
  },
  {
   "cell_type": "code",
   "execution_count": 165,
   "metadata": {},
   "outputs": [
    {
     "data": {
      "text/html": [
       "<div>\n",
       "<style scoped>\n",
       "    .dataframe tbody tr th:only-of-type {\n",
       "        vertical-align: middle;\n",
       "    }\n",
       "\n",
       "    .dataframe tbody tr th {\n",
       "        vertical-align: top;\n",
       "    }\n",
       "\n",
       "    .dataframe thead th {\n",
       "        text-align: right;\n",
       "    }\n",
       "</style>\n",
       "<table border=\"1\" class=\"dataframe\">\n",
       "  <thead>\n",
       "    <tr style=\"text-align: right;\">\n",
       "      <th></th>\n",
       "      <th>pid</th>\n",
       "      <th>pos</th>\n",
       "      <th>track_uri</th>\n",
       "      <th>artist_uri</th>\n",
       "      <th>binary_rating</th>\n",
       "      <th>pos_rating</th>\n",
       "      <th>train_test</th>\n",
       "      <th>test_first_random</th>\n",
       "      <th>seed_tracks_num</th>\n",
       "      <th>num_tracks</th>\n",
       "      <th>hold_out</th>\n",
       "      <th>hold_out_</th>\n",
       "    </tr>\n",
       "  </thead>\n",
       "  <tbody>\n",
       "    <tr>\n",
       "      <th>178</th>\n",
       "      <td>491001</td>\n",
       "      <td>0</td>\n",
       "      <td>spotify:track:4anqYZt4APNlFwQixpbdZR</td>\n",
       "      <td>spotify:artist:4VmEWwd8y9MCLwexFMdpwt</td>\n",
       "      <td>1</td>\n",
       "      <td>10.00000</td>\n",
       "      <td>test</td>\n",
       "      <td>0</td>\n",
       "      <td>5.0</td>\n",
       "      <td>96</td>\n",
       "      <td>1</td>\n",
       "      <td>0</td>\n",
       "    </tr>\n",
       "    <tr>\n",
       "      <th>179</th>\n",
       "      <td>491001</td>\n",
       "      <td>1</td>\n",
       "      <td>spotify:track:4voEoczU7Ijborps9XF1n3</td>\n",
       "      <td>spotify:artist:1ZwdS5xdxEREPySFridCfh</td>\n",
       "      <td>1</td>\n",
       "      <td>9.90625</td>\n",
       "      <td>test</td>\n",
       "      <td>0</td>\n",
       "      <td>5.0</td>\n",
       "      <td>96</td>\n",
       "      <td>1</td>\n",
       "      <td>0</td>\n",
       "    </tr>\n",
       "    <tr>\n",
       "      <th>180</th>\n",
       "      <td>491001</td>\n",
       "      <td>2</td>\n",
       "      <td>spotify:track:33CdK2WiQfodCIHiXfgoLJ</td>\n",
       "      <td>spotify:artist:1ZwdS5xdxEREPySFridCfh</td>\n",
       "      <td>1</td>\n",
       "      <td>9.81250</td>\n",
       "      <td>test</td>\n",
       "      <td>0</td>\n",
       "      <td>5.0</td>\n",
       "      <td>96</td>\n",
       "      <td>1</td>\n",
       "      <td>0</td>\n",
       "    </tr>\n",
       "    <tr>\n",
       "      <th>181</th>\n",
       "      <td>491001</td>\n",
       "      <td>3</td>\n",
       "      <td>spotify:track:7iaw359G2XT14uTfV9feip</td>\n",
       "      <td>spotify:artist:6vXTefBL93Dj5IqAWq6OTv</td>\n",
       "      <td>1</td>\n",
       "      <td>9.71875</td>\n",
       "      <td>test</td>\n",
       "      <td>0</td>\n",
       "      <td>5.0</td>\n",
       "      <td>96</td>\n",
       "      <td>1</td>\n",
       "      <td>0</td>\n",
       "    </tr>\n",
       "    <tr>\n",
       "      <th>182</th>\n",
       "      <td>491001</td>\n",
       "      <td>4</td>\n",
       "      <td>spotify:track:64XdaHjuyOQmVRdqn7aCgB</td>\n",
       "      <td>spotify:artist:7dGJo4pcD2V6oG8kP0tJRR</td>\n",
       "      <td>1</td>\n",
       "      <td>9.62500</td>\n",
       "      <td>test</td>\n",
       "      <td>0</td>\n",
       "      <td>5.0</td>\n",
       "      <td>96</td>\n",
       "      <td>1</td>\n",
       "      <td>0</td>\n",
       "    </tr>\n",
       "  </tbody>\n",
       "</table>\n",
       "</div>"
      ],
      "text/plain": [
       "        pid  pos                             track_uri  \\\n",
       "178  491001    0  spotify:track:4anqYZt4APNlFwQixpbdZR   \n",
       "179  491001    1  spotify:track:4voEoczU7Ijborps9XF1n3   \n",
       "180  491001    2  spotify:track:33CdK2WiQfodCIHiXfgoLJ   \n",
       "181  491001    3  spotify:track:7iaw359G2XT14uTfV9feip   \n",
       "182  491001    4  spotify:track:64XdaHjuyOQmVRdqn7aCgB   \n",
       "\n",
       "                                artist_uri  binary_rating  pos_rating  \\\n",
       "178  spotify:artist:4VmEWwd8y9MCLwexFMdpwt              1    10.00000   \n",
       "179  spotify:artist:1ZwdS5xdxEREPySFridCfh              1     9.90625   \n",
       "180  spotify:artist:1ZwdS5xdxEREPySFridCfh              1     9.81250   \n",
       "181  spotify:artist:6vXTefBL93Dj5IqAWq6OTv              1     9.71875   \n",
       "182  spotify:artist:7dGJo4pcD2V6oG8kP0tJRR              1     9.62500   \n",
       "\n",
       "    train_test  test_first_random  seed_tracks_num  num_tracks  hold_out  \\\n",
       "178       test                  0              5.0          96         1   \n",
       "179       test                  0              5.0          96         1   \n",
       "180       test                  0              5.0          96         1   \n",
       "181       test                  0              5.0          96         1   \n",
       "182       test                  0              5.0          96         1   \n",
       "\n",
       "     hold_out_  \n",
       "178          0  \n",
       "179          0  \n",
       "180          0  \n",
       "181          0  \n",
       "182          0  "
      ]
     },
     "execution_count": 165,
     "metadata": {},
     "output_type": "execute_result"
    }
   ],
   "source": [
    "df_test_2.head()"
   ]
  },
  {
   "cell_type": "code",
   "execution_count": 166,
   "metadata": {},
   "outputs": [],
   "source": [
    "df_test_2.drop(columns=['hold_out_'], inplace=True)"
   ]
  },
  {
   "cell_type": "code",
   "execution_count": 168,
   "metadata": {},
   "outputs": [
    {
     "data": {
      "text/html": [
       "<div>\n",
       "<style scoped>\n",
       "    .dataframe tbody tr th:only-of-type {\n",
       "        vertical-align: middle;\n",
       "    }\n",
       "\n",
       "    .dataframe tbody tr th {\n",
       "        vertical-align: top;\n",
       "    }\n",
       "\n",
       "    .dataframe thead th {\n",
       "        text-align: right;\n",
       "    }\n",
       "</style>\n",
       "<table border=\"1\" class=\"dataframe\">\n",
       "  <thead>\n",
       "    <tr style=\"text-align: right;\">\n",
       "      <th></th>\n",
       "      <th>pid</th>\n",
       "      <th>pos</th>\n",
       "      <th>track_uri</th>\n",
       "      <th>artist_uri</th>\n",
       "      <th>binary_rating</th>\n",
       "      <th>pos_rating</th>\n",
       "      <th>train_test</th>\n",
       "      <th>test_first_random</th>\n",
       "      <th>seed_tracks_num</th>\n",
       "      <th>num_tracks</th>\n",
       "      <th>hold_out</th>\n",
       "    </tr>\n",
       "  </thead>\n",
       "  <tbody>\n",
       "    <tr>\n",
       "      <th>178</th>\n",
       "      <td>491001</td>\n",
       "      <td>0</td>\n",
       "      <td>spotify:track:4anqYZt4APNlFwQixpbdZR</td>\n",
       "      <td>spotify:artist:4VmEWwd8y9MCLwexFMdpwt</td>\n",
       "      <td>1</td>\n",
       "      <td>10.00000</td>\n",
       "      <td>test</td>\n",
       "      <td>0</td>\n",
       "      <td>5.0</td>\n",
       "      <td>96</td>\n",
       "      <td>1</td>\n",
       "    </tr>\n",
       "    <tr>\n",
       "      <th>179</th>\n",
       "      <td>491001</td>\n",
       "      <td>1</td>\n",
       "      <td>spotify:track:4voEoczU7Ijborps9XF1n3</td>\n",
       "      <td>spotify:artist:1ZwdS5xdxEREPySFridCfh</td>\n",
       "      <td>1</td>\n",
       "      <td>9.90625</td>\n",
       "      <td>test</td>\n",
       "      <td>0</td>\n",
       "      <td>5.0</td>\n",
       "      <td>96</td>\n",
       "      <td>1</td>\n",
       "    </tr>\n",
       "    <tr>\n",
       "      <th>180</th>\n",
       "      <td>491001</td>\n",
       "      <td>2</td>\n",
       "      <td>spotify:track:33CdK2WiQfodCIHiXfgoLJ</td>\n",
       "      <td>spotify:artist:1ZwdS5xdxEREPySFridCfh</td>\n",
       "      <td>1</td>\n",
       "      <td>9.81250</td>\n",
       "      <td>test</td>\n",
       "      <td>0</td>\n",
       "      <td>5.0</td>\n",
       "      <td>96</td>\n",
       "      <td>1</td>\n",
       "    </tr>\n",
       "    <tr>\n",
       "      <th>181</th>\n",
       "      <td>491001</td>\n",
       "      <td>3</td>\n",
       "      <td>spotify:track:7iaw359G2XT14uTfV9feip</td>\n",
       "      <td>spotify:artist:6vXTefBL93Dj5IqAWq6OTv</td>\n",
       "      <td>1</td>\n",
       "      <td>9.71875</td>\n",
       "      <td>test</td>\n",
       "      <td>0</td>\n",
       "      <td>5.0</td>\n",
       "      <td>96</td>\n",
       "      <td>1</td>\n",
       "    </tr>\n",
       "    <tr>\n",
       "      <th>182</th>\n",
       "      <td>491001</td>\n",
       "      <td>4</td>\n",
       "      <td>spotify:track:64XdaHjuyOQmVRdqn7aCgB</td>\n",
       "      <td>spotify:artist:7dGJo4pcD2V6oG8kP0tJRR</td>\n",
       "      <td>1</td>\n",
       "      <td>9.62500</td>\n",
       "      <td>test</td>\n",
       "      <td>0</td>\n",
       "      <td>5.0</td>\n",
       "      <td>96</td>\n",
       "      <td>1</td>\n",
       "    </tr>\n",
       "  </tbody>\n",
       "</table>\n",
       "</div>"
      ],
      "text/plain": [
       "        pid  pos                             track_uri  \\\n",
       "178  491001    0  spotify:track:4anqYZt4APNlFwQixpbdZR   \n",
       "179  491001    1  spotify:track:4voEoczU7Ijborps9XF1n3   \n",
       "180  491001    2  spotify:track:33CdK2WiQfodCIHiXfgoLJ   \n",
       "181  491001    3  spotify:track:7iaw359G2XT14uTfV9feip   \n",
       "182  491001    4  spotify:track:64XdaHjuyOQmVRdqn7aCgB   \n",
       "\n",
       "                                artist_uri  binary_rating  pos_rating  \\\n",
       "178  spotify:artist:4VmEWwd8y9MCLwexFMdpwt              1    10.00000   \n",
       "179  spotify:artist:1ZwdS5xdxEREPySFridCfh              1     9.90625   \n",
       "180  spotify:artist:1ZwdS5xdxEREPySFridCfh              1     9.81250   \n",
       "181  spotify:artist:6vXTefBL93Dj5IqAWq6OTv              1     9.71875   \n",
       "182  spotify:artist:7dGJo4pcD2V6oG8kP0tJRR              1     9.62500   \n",
       "\n",
       "    train_test  test_first_random  seed_tracks_num  num_tracks  hold_out  \n",
       "178       test                  0              5.0          96         1  \n",
       "179       test                  0              5.0          96         1  \n",
       "180       test                  0              5.0          96         1  \n",
       "181       test                  0              5.0          96         1  \n",
       "182       test                  0              5.0          96         1  "
      ]
     },
     "execution_count": 168,
     "metadata": {},
     "output_type": "execute_result"
    }
   ],
   "source": [
    "df_test_2.head()"
   ]
  },
  {
   "cell_type": "code",
   "execution_count": 172,
   "metadata": {},
   "outputs": [],
   "source": [
    "df2=df_train.append([df_test_1,df_test_2])"
   ]
  },
  {
   "cell_type": "code",
   "execution_count": 173,
   "metadata": {},
   "outputs": [
    {
     "data": {
      "text/plain": [
       "((66346428, 11), (66346428, 10))"
      ]
     },
     "execution_count": 173,
     "metadata": {},
     "output_type": "execute_result"
    }
   ],
   "source": [
    "df2.shape, df.shape"
   ]
  },
  {
   "cell_type": "code",
   "execution_count": 182,
   "metadata": {},
   "outputs": [
    {
     "name": "stderr",
     "output_type": "stream",
     "text": [
      "<ipython-input-182-b6a8a00cedea>:1: FutureWarning: Indexing with multiple keys (implicitly converted to a tuple of keys) will be deprecated, use a list instead.\n",
      "  temp = df_test_1.groupby('pid')['hold_out','num_tracks'].agg({'hold_out':'sum','num_tracks':'max'})\n"
     ]
    }
   ],
   "source": [
    "temp = df_test_1.groupby('pid')['hold_out','num_tracks'].agg({'hold_out':'sum','num_tracks':'max'})\n",
    "temp['num_tracks']=temp['num_tracks']+1"
   ]
  },
  {
   "cell_type": "code",
   "execution_count": 183,
   "metadata": {},
   "outputs": [
    {
     "data": {
      "text/html": [
       "<div>\n",
       "<style scoped>\n",
       "    .dataframe tbody tr th:only-of-type {\n",
       "        vertical-align: middle;\n",
       "    }\n",
       "\n",
       "    .dataframe tbody tr th {\n",
       "        vertical-align: top;\n",
       "    }\n",
       "\n",
       "    .dataframe thead th {\n",
       "        text-align: right;\n",
       "    }\n",
       "</style>\n",
       "<table border=\"1\" class=\"dataframe\">\n",
       "  <thead>\n",
       "    <tr style=\"text-align: right;\">\n",
       "      <th></th>\n",
       "      <th>hold_out</th>\n",
       "      <th>num_tracks</th>\n",
       "    </tr>\n",
       "    <tr>\n",
       "      <th>pid</th>\n",
       "      <th></th>\n",
       "      <th></th>\n",
       "    </tr>\n",
       "  </thead>\n",
       "  <tbody>\n",
       "  </tbody>\n",
       "</table>\n",
       "</div>"
      ],
      "text/plain": [
       "Empty DataFrame\n",
       "Columns: [hold_out, num_tracks]\n",
       "Index: []"
      ]
     },
     "execution_count": 183,
     "metadata": {},
     "output_type": "execute_result"
    }
   ],
   "source": [
    "temp[temp['hold_out']>=temp['num_tracks']]"
   ]
  },
  {
   "cell_type": "code",
   "execution_count": 184,
   "metadata": {},
   "outputs": [
    {
     "data": {
      "text/html": [
       "<div>\n",
       "<style scoped>\n",
       "    .dataframe tbody tr th:only-of-type {\n",
       "        vertical-align: middle;\n",
       "    }\n",
       "\n",
       "    .dataframe tbody tr th {\n",
       "        vertical-align: top;\n",
       "    }\n",
       "\n",
       "    .dataframe thead th {\n",
       "        text-align: right;\n",
       "    }\n",
       "</style>\n",
       "<table border=\"1\" class=\"dataframe\">\n",
       "  <thead>\n",
       "    <tr style=\"text-align: right;\">\n",
       "      <th></th>\n",
       "      <th>hold_out</th>\n",
       "      <th>num_tracks</th>\n",
       "    </tr>\n",
       "    <tr>\n",
       "      <th>pid</th>\n",
       "      <th></th>\n",
       "      <th></th>\n",
       "    </tr>\n",
       "  </thead>\n",
       "  <tbody>\n",
       "  </tbody>\n",
       "</table>\n",
       "</div>"
      ],
      "text/plain": [
       "Empty DataFrame\n",
       "Columns: [hold_out, num_tracks]\n",
       "Index: []"
      ]
     },
     "execution_count": 184,
     "metadata": {},
     "output_type": "execute_result"
    }
   ],
   "source": [
    "temp[temp['hold_out']==0]"
   ]
  },
  {
   "cell_type": "code",
   "execution_count": 176,
   "metadata": {},
   "outputs": [
    {
     "data": {
      "text/html": [
       "<div>\n",
       "<style scoped>\n",
       "    .dataframe tbody tr th:only-of-type {\n",
       "        vertical-align: middle;\n",
       "    }\n",
       "\n",
       "    .dataframe tbody tr th {\n",
       "        vertical-align: top;\n",
       "    }\n",
       "\n",
       "    .dataframe thead th {\n",
       "        text-align: right;\n",
       "    }\n",
       "</style>\n",
       "<table border=\"1\" class=\"dataframe\">\n",
       "  <thead>\n",
       "    <tr style=\"text-align: right;\">\n",
       "      <th></th>\n",
       "      <th>pid</th>\n",
       "      <th>pos</th>\n",
       "      <th>track_uri</th>\n",
       "      <th>artist_uri</th>\n",
       "      <th>binary_rating</th>\n",
       "      <th>pos_rating</th>\n",
       "      <th>train_test</th>\n",
       "      <th>test_first_random</th>\n",
       "      <th>seed_tracks_num</th>\n",
       "      <th>num_tracks</th>\n",
       "      <th>hold_out</th>\n",
       "    </tr>\n",
       "  </thead>\n",
       "  <tbody>\n",
       "    <tr>\n",
       "      <th>0</th>\n",
       "      <td>491000</td>\n",
       "      <td>0</td>\n",
       "      <td>spotify:track:3giQ7393501IRNrd8iHugf</td>\n",
       "      <td>spotify:artist:2ptmyXoL7poH6Zq62h1QT9</td>\n",
       "      <td>1</td>\n",
       "      <td>10.000000</td>\n",
       "      <td>train</td>\n",
       "      <td>1</td>\n",
       "      <td>36.0</td>\n",
       "      <td>177</td>\n",
       "      <td>0</td>\n",
       "    </tr>\n",
       "    <tr>\n",
       "      <th>1</th>\n",
       "      <td>491000</td>\n",
       "      <td>1</td>\n",
       "      <td>spotify:track:3jpcVaeyNjWgjqIxAiWasz</td>\n",
       "      <td>spotify:artist:2ptmyXoL7poH6Zq62h1QT9</td>\n",
       "      <td>1</td>\n",
       "      <td>9.949153</td>\n",
       "      <td>train</td>\n",
       "      <td>1</td>\n",
       "      <td>36.0</td>\n",
       "      <td>177</td>\n",
       "      <td>0</td>\n",
       "    </tr>\n",
       "    <tr>\n",
       "      <th>2</th>\n",
       "      <td>491000</td>\n",
       "      <td>2</td>\n",
       "      <td>spotify:track:1uuqRaSJAiQ6VB8BWblXWJ</td>\n",
       "      <td>spotify:artist:2ptmyXoL7poH6Zq62h1QT9</td>\n",
       "      <td>1</td>\n",
       "      <td>9.898305</td>\n",
       "      <td>train</td>\n",
       "      <td>1</td>\n",
       "      <td>36.0</td>\n",
       "      <td>177</td>\n",
       "      <td>0</td>\n",
       "    </tr>\n",
       "    <tr>\n",
       "      <th>3</th>\n",
       "      <td>491000</td>\n",
       "      <td>3</td>\n",
       "      <td>spotify:track:7gXpcXwtmEiQzskYJmtGgk</td>\n",
       "      <td>spotify:artist:2ptmyXoL7poH6Zq62h1QT9</td>\n",
       "      <td>1</td>\n",
       "      <td>9.847458</td>\n",
       "      <td>train</td>\n",
       "      <td>1</td>\n",
       "      <td>36.0</td>\n",
       "      <td>177</td>\n",
       "      <td>0</td>\n",
       "    </tr>\n",
       "    <tr>\n",
       "      <th>4</th>\n",
       "      <td>491000</td>\n",
       "      <td>4</td>\n",
       "      <td>spotify:track:5wtIWwOtowY2howCZ7Veq2</td>\n",
       "      <td>spotify:artist:2ptmyXoL7poH6Zq62h1QT9</td>\n",
       "      <td>1</td>\n",
       "      <td>9.796610</td>\n",
       "      <td>train</td>\n",
       "      <td>1</td>\n",
       "      <td>36.0</td>\n",
       "      <td>177</td>\n",
       "      <td>0</td>\n",
       "    </tr>\n",
       "  </tbody>\n",
       "</table>\n",
       "</div>"
      ],
      "text/plain": [
       "      pid  pos                             track_uri  \\\n",
       "0  491000    0  spotify:track:3giQ7393501IRNrd8iHugf   \n",
       "1  491000    1  spotify:track:3jpcVaeyNjWgjqIxAiWasz   \n",
       "2  491000    2  spotify:track:1uuqRaSJAiQ6VB8BWblXWJ   \n",
       "3  491000    3  spotify:track:7gXpcXwtmEiQzskYJmtGgk   \n",
       "4  491000    4  spotify:track:5wtIWwOtowY2howCZ7Veq2   \n",
       "\n",
       "                              artist_uri  binary_rating  pos_rating  \\\n",
       "0  spotify:artist:2ptmyXoL7poH6Zq62h1QT9              1   10.000000   \n",
       "1  spotify:artist:2ptmyXoL7poH6Zq62h1QT9              1    9.949153   \n",
       "2  spotify:artist:2ptmyXoL7poH6Zq62h1QT9              1    9.898305   \n",
       "3  spotify:artist:2ptmyXoL7poH6Zq62h1QT9              1    9.847458   \n",
       "4  spotify:artist:2ptmyXoL7poH6Zq62h1QT9              1    9.796610   \n",
       "\n",
       "  train_test  test_first_random  seed_tracks_num  num_tracks  hold_out  \n",
       "0      train                  1             36.0         177         0  \n",
       "1      train                  1             36.0         177         0  \n",
       "2      train                  1             36.0         177         0  \n",
       "3      train                  1             36.0         177         0  \n",
       "4      train                  1             36.0         177         0  "
      ]
     },
     "execution_count": 176,
     "metadata": {},
     "output_type": "execute_result"
    }
   ],
   "source": [
    "df2.head()"
   ]
  },
  {
   "cell_type": "code",
   "execution_count": 174,
   "metadata": {},
   "outputs": [],
   "source": [
    "df2.to_csv('../data-processed/pid-track-ratings-train-test-tags.csv', index = None)"
   ]
  },
  {
   "cell_type": "markdown",
   "metadata": {},
   "source": [
    "# Save Full data - binary rating - train set"
   ]
  },
  {
   "cell_type": "code",
   "execution_count": 175,
   "metadata": {},
   "outputs": [],
   "source": [
    "df2[df2['hold_out'] == 0][['pid','track_uri','binary_rating']].to_csv('../data-processed/pid-track-binary-rating-train-data.csv', index = None)"
   ]
  },
  {
   "cell_type": "code",
   "execution_count": 197,
   "metadata": {},
   "outputs": [],
   "source": [
    "evaluation_pids_ground_truth = df2[df2.train_test == 'test'][['pid','pos','track_uri','hold_out','test_first_random']]"
   ]
  },
  {
   "cell_type": "code",
   "execution_count": 199,
   "metadata": {},
   "outputs": [],
   "source": [
    "evaluation_pids_ground_truth['seed_pattern'] = evaluation_pids_ground_truth['test_first_random'].map({1:'first n', 0:'random n'})"
   ]
  },
  {
   "cell_type": "code",
   "execution_count": 203,
   "metadata": {},
   "outputs": [],
   "source": [
    "evaluation_pids_ground_truth[['pid','pos','track_uri','hold_out','seed_pattern']].to_csv('../data-processed/evaluation-pids-ground-truth.csv', index = None)"
   ]
  },
  {
   "cell_type": "code",
   "execution_count": 3,
   "metadata": {},
   "outputs": [],
   "source": [
    "df2 = pd.read_csv('../data-processed/full-data/pid-track-ratings-train-test-tags.csv')\n",
    "df2.head()"
   ]
  },
  {
   "cell_type": "markdown",
   "metadata": {},
   "source": [
    "# Save Full data - pos rating - train set"
   ]
  },
  {
   "cell_type": "code",
   "execution_count": 6,
   "metadata": {},
   "outputs": [],
   "source": [
    "df2[df2['hold_out'] == 0][['pid','track_uri','pos_rating']].to_csv('../data-processed/full-data/pid-track-pos-rating-train-data.csv', index = None)"
   ]
  }
 ],
 "metadata": {
  "kernelspec": {
   "display_name": "Python 3",
   "language": "python",
   "name": "python3"
  },
  "language_info": {
   "codemirror_mode": {
    "name": "ipython",
    "version": 3
   },
   "file_extension": ".py",
   "mimetype": "text/x-python",
   "name": "python",
   "nbconvert_exporter": "python",
   "pygments_lexer": "ipython3",
   "version": "3.8.3"
  }
 },
 "nbformat": 4,
 "nbformat_minor": 4
}
