{
 "cells": [
  {
   "cell_type": "markdown",
   "metadata": {},
   "source": [
    "## ALS Implicit Collaborative Filtering - binary ratings"
   ]
  },
  {
   "cell_type": "markdown",
   "metadata": {},
   "source": [
    "https://medium.com/radon-dev/als-implicit-collaborative-filtering-5ed653ba39fe"
   ]
  },
  {
   "cell_type": "code",
   "execution_count": 1,
   "metadata": {},
   "outputs": [],
   "source": [
    "import import_ipynb"
   ]
  },
  {
   "cell_type": "code",
   "execution_count": 2,
   "metadata": {},
   "outputs": [],
   "source": [
    "from evaluation import DCG\n",
    "from evaluation import nDCG\n",
    "from evaluation import R_Precision\n",
    "from time import time"
   ]
  },
  {
   "cell_type": "code",
   "execution_count": 3,
   "metadata": {},
   "outputs": [],
   "source": [
    "import sys\n",
    "import pandas as pd\n",
    "import numpy as np\n",
    "import scipy.sparse as sparse\n",
    "import random\n",
    "import implicit\n",
    "\n",
    "from sklearn.preprocessing import MinMaxScaler\n",
    "from scipy.sparse.linalg import spsolve"
   ]
  },
  {
   "cell_type": "markdown",
   "metadata": {},
   "source": [
    "# Recomendation and evaluation functions"
   ]
  },
  {
   "cell_type": "code",
   "execution_count": 4,
   "metadata": {},
   "outputs": [],
   "source": [
    "#---------------------\n",
    "# FIND SIMILAR ITEMS\n",
    "#---------------------\n",
    "\n",
    "def similar_items(seed_track, top_n):\n",
    "    \"\"\"\n",
    "    input: track_uri\n",
    "    output: top_n recommended track_uris\n",
    "    \"\"\"\n",
    "    track_id = D_track_id[seed_track] \n",
    "    n_similar =  top_n\n",
    "\n",
    "    # Use implicit to get similar items.\n",
    "    similar = model.similar_items(track_id, n_similar)\n",
    "    \n",
    "    similar_i = []\n",
    "    \n",
    "    # Print the names of our most similar artists\n",
    "    for item in similar:\n",
    "        idx, score = item\n",
    "        track_uri = data.track_uri.loc[data.track_uri_id == idx].iloc[0]\n",
    "        #print(data.track_uri.loc[data.track_uri_id == idx].iloc[0], D_desc[track_uri])\n",
    "        similar_i.append(data.track_uri.loc[data.track_uri_id == idx].iloc[0])\n",
    "    return similar_i"
   ]
  },
  {
   "cell_type": "code",
   "execution_count": 29,
   "metadata": {},
   "outputs": [],
   "source": [
    "#-------------------------------------\n",
    "# FIND SIMILAR ITEMS WITH DESCRIPTION\n",
    "#-------------------------------------\n",
    "\n",
    "def similar_items_with_description(seed_track, top_n):\n",
    "    \"\"\"\n",
    "    input: track_uri\n",
    "    output: top_n recommended track_uris with description as dictionary\n",
    "    \"\"\"\n",
    "    track_id = D_track_id[seed_track] \n",
    "    n_similar =  top_n\n",
    "\n",
    "    # Use implicit to get similar items.\n",
    "    similar = model.similar_items(track_id, n_similar)\n",
    "    \n",
    "    similar_i = {}\n",
    "    \n",
    "    # Print the names of our most similar artists\n",
    "    for item in similar:\n",
    "        idx, score = item\n",
    "        track_uri = data.track_uri.loc[data.track_uri_id == idx].iloc[0]\n",
    "        similar_i[track_uri] = D_desc[track_uri]\n",
    "        #print(data.track_uri.loc[data.track_uri_id == idx].iloc[0], D_desc[track_uri])\n",
    "        #similar_i.append(data.track_uri.loc[data.track_uri_id == idx].iloc[0])\n",
    "    return similar_i"
   ]
  },
  {
   "cell_type": "code",
   "execution_count": 5,
   "metadata": {},
   "outputs": [],
   "source": [
    "#------------------------------\n",
    "# CREATE USER RECOMMENDATIONS\n",
    "#------------------------------\n",
    "\n",
    "# Create recommendations for user with id 2025\n",
    "def create_recs(pid,N):\n",
    "    \"\"\"\n",
    "    returna list\n",
    "    \"\"\"\n",
    "    \n",
    "    pid_id = pid\n",
    "\n",
    "    # Use the implicit recommender.\n",
    "    recommended = model.recommend(pid_id, sparse_user_item, N=N)\n",
    "\n",
    "    tracks = []\n",
    "    scores = []\n",
    "    desc = []\n",
    "\n",
    "    # Get artist names from ids\n",
    "    for item in recommended:\n",
    "        idx, score = item\n",
    "        tracks.append(data.track_uri.loc[data.track_uri_id == idx].iloc[0])\n",
    "        scores.append(score)\n",
    "        #desc.append(D_desc[data.track_uri.loc[data.track_uri_id == idx].iloc[0]])\n",
    "\n",
    "    # Create a dataframe of artist names and scores\n",
    "    #recommendations = pd.DataFrame({'track_uris': tracks, 'score': scores})\n",
    "\n",
    "    return tracks"
   ]
  },
  {
   "cell_type": "code",
   "execution_count": 6,
   "metadata": {},
   "outputs": [],
   "source": [
    "#----------------------------------------------\n",
    "# CREATE USER RECOMMENDATIONS WITH DESCRIPTION\n",
    "#----------------------------------------------\n",
    "\n",
    "def create_recs_with_description(pid,N):\n",
    "    pid_id = pid\n",
    "\n",
    "    # Use the implicit recommender.\n",
    "    recommended = model.recommend(pid_id, sparse_user_item, N=N)\n",
    "\n",
    "    tracks = []\n",
    "    scores = []\n",
    "    desc = []\n",
    "\n",
    "    # Get artist names from ids\n",
    "    for item in recommended:\n",
    "        idx, score = item\n",
    "        tracks.append(data.track_uri.loc[data.track_uri_id == idx].iloc[0])\n",
    "        scores.append(score)\n",
    "        desc.append(D_desc[data.track_uri.loc[data.track_uri_id == idx].iloc[0]])\n",
    "\n",
    "    # Create a dataframe of artist names and scores\n",
    "    recommendations = pd.DataFrame({'track_uris': tracks, 'score': scores, 'description':desc})\n",
    "\n",
    "    return recommendations"
   ]
  },
  {
   "cell_type": "code",
   "execution_count": 7,
   "metadata": {},
   "outputs": [],
   "source": [
    "#----------------------------------------------------\n",
    "# CREATE USER RECOMMENDATIONS WITH DICTIONARY OUTPUT\n",
    "#---------------------------------------------------\n",
    "def create_recs_dictionary_output(pid,N):\n",
    "    \"\"\"\n",
    "    input: pid\n",
    "    output: reccomendation dictionary {track_uri: score}\n",
    "    \"\"\"\n",
    "    \n",
    "    pid_id = pid\n",
    "\n",
    "    # Use the implicit recommender.\n",
    "    recommended = model.recommend(pid_id, sparse_user_item, N=N)\n",
    "\n",
    "    rec_tracks = {}\n",
    "\n",
    "    # Get artist names from ids\n",
    "    for item in recommended:\n",
    "        idx, score = item\n",
    "        rec_tracks[D_track_id_to_uri[idx]] = score\n",
    "#         tracks.append(data.track_uri.loc[data.track_uri_id == idx].iloc[0])\n",
    "#         scores.append(score)\n",
    "        #desc.append(D_desc[data.track_uri.loc[data.track_uri_id == idx].iloc[0]])\n",
    "\n",
    "    # Create a dataframe of artist names and scores\n",
    "    #recommendations = pd.DataFrame({'track_uris': tracks, 'score': scores})\n",
    "\n",
    "    return rec_tracks"
   ]
  },
  {
   "cell_type": "code",
   "execution_count": 8,
   "metadata": {},
   "outputs": [],
   "source": [
    "#----------------------------------\n",
    "# GET RECOMMENDATIONS AND EVALUATE\n",
    "#----------------------------------\n",
    "\n",
    "def als_predict_and_evaluate_top_n(pid, top_n=100):\n",
    "    \"\"\"\n",
    "    return\n",
    "    (1) top_n predicted: track_ids\n",
    "    (2) ground_truth : track_ids in the hold_out\n",
    "    (3) R_Prec\n",
    "    (4) NDGC\n",
    "    \n",
    "    \"\"\"\n",
    "    L_pred = list(create_recs_dictionary_output(pid,top_n).keys())\n",
    "    \n",
    "    ground_truth = ev_set_arr[ev_set_arr[:,0]==pid][:,1]\n",
    "    \n",
    "    R_Prec = R_Precision(L_pred[:len(ground_truth)],ground_truth)\n",
    "    \n",
    "    res = [int(el in ground_truth) for el in L_pred]\n",
    "    \n",
    "    NDCG = nDCG(res)[1]\n",
    "    \n",
    "    return L_pred, ground_truth, R_Prec, NDCG, res"
   ]
  },
  {
   "cell_type": "code",
   "execution_count": 9,
   "metadata": {},
   "outputs": [],
   "source": [
    "#-----------------------------------\n",
    "# SAVE R-PRECISION AND NDCG BY PID\n",
    "#-----------------------------------\n",
    "\n",
    "def save_als_res_k_n(n = 10, top_n=20):\n",
    "    \"\"\"\n",
    "    k = number of factors\n",
    "    n= number of random lists to predict\n",
    "    \"\"\"\n",
    "    time0=time()\n",
    "    RES={}\n",
    "    ep = random.sample(evaluation_pids,n)\n",
    "    for i,pid in enumerate(ep):\n",
    "        predictions=als_predict_and_evaluate_top_n(pid,top_n)\n",
    "        RES[pid] = [predictions[2], predictions[3]]\n",
    "        if i % 500 ==0:\n",
    "            print(i)\n",
    "            print(time()-time0)\n",
    "#     RES['rating'] = 'binary'\n",
    "#     RES['Model'] = 'ALS_Implicit'\n",
    "#     with open(f'../data-processed/evaluation/ALS_Implicit_binary{n}.json', 'w') as fp:\n",
    "#         json.dump(dict, fp)\n",
    "    df = pd.DataFrame(RES).transpose().reset_index()\n",
    "    df.columns=['pid','R-Precision','nDCG']\n",
    "    df['rating'] = 'binary'\n",
    "    df['model'] = f'ALS'\n",
    "    df.to_csv(f'../evaluation/ALS_binary_topn_{top_n}_{n}.csv', index = None)\n",
    "    print(time()-time0)\n",
    "    return df"
   ]
  },
  {
   "cell_type": "markdown",
   "metadata": {},
   "source": [
    "# Load data"
   ]
  },
  {
   "cell_type": "code",
   "execution_count": 10,
   "metadata": {},
   "outputs": [],
   "source": [
    "file_path = '../data-processed/full-data/pid-track-binary-rating-train-data.csv'"
   ]
  },
  {
   "cell_type": "code",
   "execution_count": 11,
   "metadata": {},
   "outputs": [
    {
     "data": {
      "text/html": [
       "<div>\n",
       "<style scoped>\n",
       "    .dataframe tbody tr th:only-of-type {\n",
       "        vertical-align: middle;\n",
       "    }\n",
       "\n",
       "    .dataframe tbody tr th {\n",
       "        vertical-align: top;\n",
       "    }\n",
       "\n",
       "    .dataframe thead th {\n",
       "        text-align: right;\n",
       "    }\n",
       "</style>\n",
       "<table border=\"1\" class=\"dataframe\">\n",
       "  <thead>\n",
       "    <tr style=\"text-align: right;\">\n",
       "      <th></th>\n",
       "      <th>pid</th>\n",
       "      <th>track_uri</th>\n",
       "      <th>binary_rating</th>\n",
       "    </tr>\n",
       "  </thead>\n",
       "  <tbody>\n",
       "    <tr>\n",
       "      <th>0</th>\n",
       "      <td>491000</td>\n",
       "      <td>spotify:track:3giQ7393501IRNrd8iHugf</td>\n",
       "      <td>1</td>\n",
       "    </tr>\n",
       "    <tr>\n",
       "      <th>1</th>\n",
       "      <td>491000</td>\n",
       "      <td>spotify:track:3jpcVaeyNjWgjqIxAiWasz</td>\n",
       "      <td>1</td>\n",
       "    </tr>\n",
       "    <tr>\n",
       "      <th>2</th>\n",
       "      <td>491000</td>\n",
       "      <td>spotify:track:1uuqRaSJAiQ6VB8BWblXWJ</td>\n",
       "      <td>1</td>\n",
       "    </tr>\n",
       "    <tr>\n",
       "      <th>3</th>\n",
       "      <td>491000</td>\n",
       "      <td>spotify:track:7gXpcXwtmEiQzskYJmtGgk</td>\n",
       "      <td>1</td>\n",
       "    </tr>\n",
       "    <tr>\n",
       "      <th>4</th>\n",
       "      <td>491000</td>\n",
       "      <td>spotify:track:5wtIWwOtowY2howCZ7Veq2</td>\n",
       "      <td>1</td>\n",
       "    </tr>\n",
       "  </tbody>\n",
       "</table>\n",
       "</div>"
      ],
      "text/plain": [
       "      pid                             track_uri  binary_rating\n",
       "0  491000  spotify:track:3giQ7393501IRNrd8iHugf              1\n",
       "1  491000  spotify:track:3jpcVaeyNjWgjqIxAiWasz              1\n",
       "2  491000  spotify:track:1uuqRaSJAiQ6VB8BWblXWJ              1\n",
       "3  491000  spotify:track:7gXpcXwtmEiQzskYJmtGgk              1\n",
       "4  491000  spotify:track:5wtIWwOtowY2howCZ7Veq2              1"
      ]
     },
     "execution_count": 11,
     "metadata": {},
     "output_type": "execute_result"
    }
   ],
   "source": [
    "# Load the data like we did before\n",
    "raw_data = pd.read_csv(file_path)\n",
    "raw_data.head()"
   ]
  },
  {
   "cell_type": "code",
   "execution_count": 12,
   "metadata": {},
   "outputs": [],
   "source": [
    "raw_data.columns = ['pid', 'track_uri', 'rating']\n",
    "data = raw_data"
   ]
  },
  {
   "cell_type": "code",
   "execution_count": 13,
   "metadata": {},
   "outputs": [
    {
     "data": {
      "text/html": [
       "<div>\n",
       "<style scoped>\n",
       "    .dataframe tbody tr th:only-of-type {\n",
       "        vertical-align: middle;\n",
       "    }\n",
       "\n",
       "    .dataframe tbody tr th {\n",
       "        vertical-align: top;\n",
       "    }\n",
       "\n",
       "    .dataframe thead th {\n",
       "        text-align: right;\n",
       "    }\n",
       "</style>\n",
       "<table border=\"1\" class=\"dataframe\">\n",
       "  <thead>\n",
       "    <tr style=\"text-align: right;\">\n",
       "      <th></th>\n",
       "      <th>pid</th>\n",
       "      <th>track_uri</th>\n",
       "      <th>rating</th>\n",
       "      <th>pid_id</th>\n",
       "      <th>track_uri_id</th>\n",
       "    </tr>\n",
       "  </thead>\n",
       "  <tbody>\n",
       "    <tr>\n",
       "      <th>0</th>\n",
       "      <td>491000</td>\n",
       "      <td>spotify:track:3giQ7393501IRNrd8iHugf</td>\n",
       "      <td>1</td>\n",
       "      <td>491000</td>\n",
       "      <td>947381</td>\n",
       "    </tr>\n",
       "    <tr>\n",
       "      <th>1</th>\n",
       "      <td>491000</td>\n",
       "      <td>spotify:track:3jpcVaeyNjWgjqIxAiWasz</td>\n",
       "      <td>1</td>\n",
       "      <td>491000</td>\n",
       "      <td>960223</td>\n",
       "    </tr>\n",
       "    <tr>\n",
       "      <th>2</th>\n",
       "      <td>491000</td>\n",
       "      <td>spotify:track:1uuqRaSJAiQ6VB8BWblXWJ</td>\n",
       "      <td>1</td>\n",
       "      <td>491000</td>\n",
       "      <td>493113</td>\n",
       "    </tr>\n",
       "    <tr>\n",
       "      <th>3</th>\n",
       "      <td>491000</td>\n",
       "      <td>spotify:track:7gXpcXwtmEiQzskYJmtGgk</td>\n",
       "      <td>1</td>\n",
       "      <td>491000</td>\n",
       "      <td>1916386</td>\n",
       "    </tr>\n",
       "    <tr>\n",
       "      <th>4</th>\n",
       "      <td>491000</td>\n",
       "      <td>spotify:track:5wtIWwOtowY2howCZ7Veq2</td>\n",
       "      <td>1</td>\n",
       "      <td>491000</td>\n",
       "      <td>1526083</td>\n",
       "    </tr>\n",
       "  </tbody>\n",
       "</table>\n",
       "</div>"
      ],
      "text/plain": [
       "      pid                             track_uri  rating  pid_id  track_uri_id\n",
       "0  491000  spotify:track:3giQ7393501IRNrd8iHugf       1  491000        947381\n",
       "1  491000  spotify:track:3jpcVaeyNjWgjqIxAiWasz       1  491000        960223\n",
       "2  491000  spotify:track:1uuqRaSJAiQ6VB8BWblXWJ       1  491000        493113\n",
       "3  491000  spotify:track:7gXpcXwtmEiQzskYJmtGgk       1  491000       1916386\n",
       "4  491000  spotify:track:5wtIWwOtowY2howCZ7Veq2       1  491000       1526083"
      ]
     },
     "execution_count": 13,
     "metadata": {},
     "output_type": "execute_result"
    }
   ],
   "source": [
    "# Create a numeric user_id and artist_id column\n",
    "data['pid'] = data['pid'].astype(\"category\")\n",
    "data['track_uri'] = data['track_uri'].astype(\"category\")\n",
    "data['pid_id'] = data['pid'].cat.codes\n",
    "data['track_uri_id'] = data['track_uri'].cat.codes\n",
    "data.head()"
   ]
  },
  {
   "cell_type": "code",
   "execution_count": 14,
   "metadata": {},
   "outputs": [],
   "source": [
    "D_track_id = data.groupby('track_uri')['track_uri_id'].min().to_dict()"
   ]
  },
  {
   "cell_type": "code",
   "execution_count": 15,
   "metadata": {},
   "outputs": [],
   "source": [
    "D_track_id_to_uri = {}\n",
    "for k,v in D_track_id.items():\n",
    "    D_track_id_to_uri[v] = k"
   ]
  },
  {
   "cell_type": "markdown",
   "metadata": {},
   "source": [
    "# Build ALS model"
   ]
  },
  {
   "cell_type": "code",
   "execution_count": 16,
   "metadata": {},
   "outputs": [],
   "source": [
    "# The implicit library expects data as a item-user matrix so we\n",
    "# create two matricies, one for fitting the model (item-user) \n",
    "# and one for recommendations (user-item)\n",
    "sparse_item_user = sparse.csr_matrix((data['rating'].astype(float), (data['track_uri_id'], data['pid_id'])))\n",
    "sparse_user_item = sparse.csr_matrix((data['rating'].astype(float), (data['pid_id'], data['track_uri_id'])))"
   ]
  },
  {
   "cell_type": "code",
   "execution_count": 17,
   "metadata": {},
   "outputs": [
    {
     "name": "stderr",
     "output_type": "stream",
     "text": [
      "WARNING:root:OpenBLAS detected. Its highly recommend to set the environment variable 'export OPENBLAS_NUM_THREADS=1' to disable its internal multithreading\n"
     ]
    }
   ],
   "source": [
    "# Initialize the als model and fit it using the sparse item-user matrix\n",
    "model = implicit.als.AlternatingLeastSquares(factors=20, regularization=0.1, iterations=20)"
   ]
  },
  {
   "cell_type": "code",
   "execution_count": 18,
   "metadata": {},
   "outputs": [],
   "source": [
    "# Calculate the confidence by multiplying it by our alpha value.\n",
    "alpha_val = 15\n",
    "data_conf = (sparse_item_user * alpha_val).astype('double')"
   ]
  },
  {
   "cell_type": "code",
   "execution_count": 19,
   "metadata": {},
   "outputs": [
    {
     "data": {
      "application/vnd.jupyter.widget-view+json": {
       "model_id": "d41d412b0c9d4feaa653937bed523efa",
       "version_major": 2,
       "version_minor": 0
      },
      "text/plain": [
       "HBox(children=(HTML(value=''), FloatProgress(value=0.0, max=20.0), HTML(value='')))"
      ]
     },
     "metadata": {},
     "output_type": "display_data"
    },
    {
     "name": "stdout",
     "output_type": "stream",
     "text": [
      "\n"
     ]
    }
   ],
   "source": [
    "#Fit the model\n",
    "model.fit(data_conf)"
   ]
  },
  {
   "cell_type": "markdown",
   "metadata": {},
   "source": [
    "# Load dictionary with tracks"
   ]
  },
  {
   "cell_type": "code",
   "execution_count": 20,
   "metadata": {},
   "outputs": [
    {
     "data": {
      "text/plain": [
       "['Lose Control (feat. Ciara & Fat Man Scoop)', 'Missy Elliott', 'The Cookbook']"
      ]
     },
     "execution_count": 20,
     "metadata": {},
     "output_type": "execute_result"
    }
   ],
   "source": [
    "import json\n",
    "\n",
    "with open('../data-processed/full-data/track_descriptions.json') as json_file:\n",
    "    D_desc = json.load(json_file)\n",
    "    \n",
    "D_desc['spotify:track:0UaMYEvWZi0ZqiDOoHU3YI']"
   ]
  },
  {
   "cell_type": "markdown",
   "metadata": {},
   "source": [
    "# Find similar items"
   ]
  },
  {
   "cell_type": "code",
   "execution_count": 21,
   "metadata": {},
   "outputs": [
    {
     "data": {
      "text/html": [
       "<div>\n",
       "<style scoped>\n",
       "    .dataframe tbody tr th:only-of-type {\n",
       "        vertical-align: middle;\n",
       "    }\n",
       "\n",
       "    .dataframe tbody tr th {\n",
       "        vertical-align: top;\n",
       "    }\n",
       "\n",
       "    .dataframe thead th {\n",
       "        text-align: right;\n",
       "    }\n",
       "</style>\n",
       "<table border=\"1\" class=\"dataframe\">\n",
       "  <thead>\n",
       "    <tr style=\"text-align: right;\">\n",
       "      <th></th>\n",
       "      <th>0</th>\n",
       "      <th>description</th>\n",
       "    </tr>\n",
       "  </thead>\n",
       "  <tbody>\n",
       "    <tr>\n",
       "      <th>0</th>\n",
       "      <td>spotify:track:7hxZF4jETnE5Q75rKQnMjE</td>\n",
       "      <td>[I Walk the Line, Johnny Cash, I Walk the Line...</td>\n",
       "    </tr>\n",
       "    <tr>\n",
       "      <th>1</th>\n",
       "      <td>spotify:track:6YffUZJ2R06kyxyK6onezL</td>\n",
       "      <td>[Ring of Fire - Mono Version, Johnny Cash, Rin...</td>\n",
       "    </tr>\n",
       "    <tr>\n",
       "      <th>2</th>\n",
       "      <td>spotify:track:3ftnDaaL02tMeOZBunIwls</td>\n",
       "      <td>[Folsom Prison Blues - Live, Johnny Cash, At F...</td>\n",
       "    </tr>\n",
       "    <tr>\n",
       "      <th>3</th>\n",
       "      <td>spotify:track:0tjtod4JTa6lwO5WfHyZvu</td>\n",
       "      <td>[Cocaine Blues, Joaquin Phoenix, Walk The Line]</td>\n",
       "    </tr>\n",
       "    <tr>\n",
       "      <th>4</th>\n",
       "      <td>spotify:track:59J3FhCGYl18G3ouDReUge</td>\n",
       "      <td>[I've Been Everywhere, Johnny Cash, American I...</td>\n",
       "    </tr>\n",
       "  </tbody>\n",
       "</table>\n",
       "</div>"
      ],
      "text/plain": [
       "                                      0  \\\n",
       "0  spotify:track:7hxZF4jETnE5Q75rKQnMjE   \n",
       "1  spotify:track:6YffUZJ2R06kyxyK6onezL   \n",
       "2  spotify:track:3ftnDaaL02tMeOZBunIwls   \n",
       "3  spotify:track:0tjtod4JTa6lwO5WfHyZvu   \n",
       "4  spotify:track:59J3FhCGYl18G3ouDReUge   \n",
       "\n",
       "                                         description  \n",
       "0  [I Walk the Line, Johnny Cash, I Walk the Line...  \n",
       "1  [Ring of Fire - Mono Version, Johnny Cash, Rin...  \n",
       "2  [Folsom Prison Blues - Live, Johnny Cash, At F...  \n",
       "3    [Cocaine Blues, Joaquin Phoenix, Walk The Line]  \n",
       "4  [I've Been Everywhere, Johnny Cash, American I...  "
      ]
     },
     "execution_count": 21,
     "metadata": {},
     "output_type": "execute_result"
    }
   ],
   "source": [
    "#print(D_desc['spotify:track:3jagJCUbdqhDSPuxP8cAqF'])\n",
    "d = pd.DataFrame(similar_items('spotify:track:7hxZF4jETnE5Q75rKQnMjE',5))\n",
    "d['description'] = d[0].map(D_desc)\n",
    "d"
   ]
  },
  {
   "cell_type": "markdown",
   "metadata": {},
   "source": [
    "# Create recommendations "
   ]
  },
  {
   "cell_type": "code",
   "execution_count": 22,
   "metadata": {},
   "outputs": [
    {
     "data": {
      "text/plain": [
       "0"
      ]
     },
     "execution_count": 22,
     "metadata": {},
     "output_type": "execute_result"
    }
   ],
   "source": [
    "pid = 1000\n",
    "rec, train = create_recs(pid,100), data[data['track_uri'] == pid]\n",
    "sum([int(r in train) for r in rec])"
   ]
  },
  {
   "cell_type": "code",
   "execution_count": 23,
   "metadata": {},
   "outputs": [
    {
     "data": {
      "text/html": [
       "<div>\n",
       "<style scoped>\n",
       "    .dataframe tbody tr th:only-of-type {\n",
       "        vertical-align: middle;\n",
       "    }\n",
       "\n",
       "    .dataframe tbody tr th {\n",
       "        vertical-align: top;\n",
       "    }\n",
       "\n",
       "    .dataframe thead th {\n",
       "        text-align: right;\n",
       "    }\n",
       "</style>\n",
       "<table border=\"1\" class=\"dataframe\">\n",
       "  <thead>\n",
       "    <tr style=\"text-align: right;\">\n",
       "      <th></th>\n",
       "      <th>track_uris</th>\n",
       "      <th>score</th>\n",
       "      <th>description</th>\n",
       "    </tr>\n",
       "  </thead>\n",
       "  <tbody>\n",
       "    <tr>\n",
       "      <th>0</th>\n",
       "      <td>spotify:track:2uX5f3x2cObov0iDAPln4o</td>\n",
       "      <td>0.706936</td>\n",
       "      <td>[Song of the South, Alabama, Livin' Lovin' Roc...</td>\n",
       "    </tr>\n",
       "    <tr>\n",
       "      <th>1</th>\n",
       "      <td>spotify:track:6iy4PoAuZBMvtrlDX4VxC7</td>\n",
       "      <td>0.681712</td>\n",
       "      <td>[Check Yes Or No, George Strait, Strait Out Of...</td>\n",
       "    </tr>\n",
       "    <tr>\n",
       "      <th>2</th>\n",
       "      <td>spotify:track:4TnUKixNWMfajncgdSwFoi</td>\n",
       "      <td>0.667665</td>\n",
       "      <td>[Amarillo By Morning, George Strait, Strait Fr...</td>\n",
       "    </tr>\n",
       "    <tr>\n",
       "      <th>3</th>\n",
       "      <td>spotify:track:7hxZF4jETnE5Q75rKQnMjE</td>\n",
       "      <td>0.660854</td>\n",
       "      <td>[I Walk the Line, Johnny Cash, I Walk the Line...</td>\n",
       "    </tr>\n",
       "    <tr>\n",
       "      <th>4</th>\n",
       "      <td>spotify:track:6YffUZJ2R06kyxyK6onezL</td>\n",
       "      <td>0.634885</td>\n",
       "      <td>[Ring of Fire - Mono Version, Johnny Cash, Rin...</td>\n",
       "    </tr>\n",
       "    <tr>\n",
       "      <th>5</th>\n",
       "      <td>spotify:track:1ipcb9qXpSHWhSUvdxJhsx</td>\n",
       "      <td>0.632567</td>\n",
       "      <td>[Forever And Ever, Amen, Randy Travis, Always ...</td>\n",
       "    </tr>\n",
       "    <tr>\n",
       "      <th>6</th>\n",
       "      <td>spotify:track:7lJbTVbDEMa3w7NFamrwdq</td>\n",
       "      <td>0.617027</td>\n",
       "      <td>[Fishin' In The Dark, Nitty Gritty Dirt Band, ...</td>\n",
       "    </tr>\n",
       "    <tr>\n",
       "      <th>7</th>\n",
       "      <td>spotify:track:3oW6SWwGqiZSPTiAp7ZQoH</td>\n",
       "      <td>0.613704</td>\n",
       "      <td>[It's A Great Day To Be Alive, Travis Tritt, D...</td>\n",
       "    </tr>\n",
       "    <tr>\n",
       "      <th>8</th>\n",
       "      <td>spotify:track:3ftnDaaL02tMeOZBunIwls</td>\n",
       "      <td>0.613090</td>\n",
       "      <td>[Folsom Prison Blues - Live, Johnny Cash, At F...</td>\n",
       "    </tr>\n",
       "    <tr>\n",
       "      <th>9</th>\n",
       "      <td>spotify:track:07KYRDFf8Q6sqj4PWCP9vh</td>\n",
       "      <td>0.598278</td>\n",
       "      <td>[It's Five O' Clock Somewhere, Alan Jackson, P...</td>\n",
       "    </tr>\n",
       "  </tbody>\n",
       "</table>\n",
       "</div>"
      ],
      "text/plain": [
       "                             track_uris     score  \\\n",
       "0  spotify:track:2uX5f3x2cObov0iDAPln4o  0.706936   \n",
       "1  spotify:track:6iy4PoAuZBMvtrlDX4VxC7  0.681712   \n",
       "2  spotify:track:4TnUKixNWMfajncgdSwFoi  0.667665   \n",
       "3  spotify:track:7hxZF4jETnE5Q75rKQnMjE  0.660854   \n",
       "4  spotify:track:6YffUZJ2R06kyxyK6onezL  0.634885   \n",
       "5  spotify:track:1ipcb9qXpSHWhSUvdxJhsx  0.632567   \n",
       "6  spotify:track:7lJbTVbDEMa3w7NFamrwdq  0.617027   \n",
       "7  spotify:track:3oW6SWwGqiZSPTiAp7ZQoH  0.613704   \n",
       "8  spotify:track:3ftnDaaL02tMeOZBunIwls  0.613090   \n",
       "9  spotify:track:07KYRDFf8Q6sqj4PWCP9vh  0.598278   \n",
       "\n",
       "                                         description  \n",
       "0  [Song of the South, Alabama, Livin' Lovin' Roc...  \n",
       "1  [Check Yes Or No, George Strait, Strait Out Of...  \n",
       "2  [Amarillo By Morning, George Strait, Strait Fr...  \n",
       "3  [I Walk the Line, Johnny Cash, I Walk the Line...  \n",
       "4  [Ring of Fire - Mono Version, Johnny Cash, Rin...  \n",
       "5  [Forever And Ever, Amen, Randy Travis, Always ...  \n",
       "6  [Fishin' In The Dark, Nitty Gritty Dirt Band, ...  \n",
       "7  [It's A Great Day To Be Alive, Travis Tritt, D...  \n",
       "8  [Folsom Prison Blues - Live, Johnny Cash, At F...  \n",
       "9  [It's Five O' Clock Somewhere, Alan Jackson, P...  "
      ]
     },
     "execution_count": 23,
     "metadata": {},
     "output_type": "execute_result"
    }
   ],
   "source": [
    "create_recs_with_description(491000, 10)"
   ]
  },
  {
   "cell_type": "markdown",
   "metadata": {},
   "source": [
    "# Evaluation"
   ]
  },
  {
   "cell_type": "code",
   "execution_count": null,
   "metadata": {},
   "outputs": [],
   "source": [
    "evaluation_set = pd.read_csv('../data-processed/full-data/evaluation-pids-ground-truth.csv')\n",
    "evaluation_set.head()"
   ]
  },
  {
   "cell_type": "code",
   "execution_count": null,
   "metadata": {},
   "outputs": [],
   "source": [
    "ev_set = evaluation_set[evaluation_set['hold_out'] == 1][['pid','track_uri','hold_out']]\n",
    "ev_set = ev_set[ev_set.isnull()==False]\n",
    "\n",
    "ev_set_arr = ev_set.to_numpy()\n",
    "\n",
    "evaluation_pids = list(ev_set.pid.unique())\n",
    "\n",
    "ev_set.head()"
   ]
  },
  {
   "cell_type": "code",
   "execution_count": null,
   "metadata": {},
   "outputs": [],
   "source": [
    "df = save_als_res_k_n(10000,500)\n",
    "df.describe()"
   ]
  }
 ],
 "metadata": {
  "kernelspec": {
   "display_name": "Python 3",
   "language": "python",
   "name": "python3"
  },
  "language_info": {
   "codemirror_mode": {
    "name": "ipython",
    "version": 3
   },
   "file_extension": ".py",
   "mimetype": "text/x-python",
   "name": "python",
   "nbconvert_exporter": "python",
   "pygments_lexer": "ipython3",
   "version": "3.8.3"
  }
 },
 "nbformat": 4,
 "nbformat_minor": 4
}
