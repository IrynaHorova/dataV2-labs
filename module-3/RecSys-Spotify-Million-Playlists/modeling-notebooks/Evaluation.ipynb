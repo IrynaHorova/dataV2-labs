{
 "cells": [
  {
   "cell_type": "code",
   "execution_count": 1,
   "metadata": {},
   "outputs": [],
   "source": [
    "import numpy as np "
   ]
  },
  {
   "cell_type": "code",
   "execution_count": 5,
   "metadata": {},
   "outputs": [],
   "source": [
    "def DCG(result):\n",
    "    dcg = []\n",
    "    for idx, val in enumerate(result): \n",
    "        numerator = 2**val - 1\n",
    "        # add 2 because python 0-index\n",
    "        denominator =  np.log2(idx + 2) \n",
    "        score = numerator/denominator\n",
    "        dcg.append(score)\n",
    "    return sum(dcg)"
   ]
  },
  {
   "cell_type": "code",
   "execution_count": 32,
   "metadata": {},
   "outputs": [],
   "source": [
    "def nDCG(result):\n",
    "    sorted_result = sorted(result, reverse=True)\n",
    "    dcg = discountedCumulativeGain(result)\n",
    "    idcg = discountedCumulativeGain(sorted_result)\n",
    "    ndcg = dcg / idcg\n",
    "    return idcg, ndcg"
   ]
  },
  {
   "cell_type": "code",
   "execution_count": 65,
   "metadata": {},
   "outputs": [
    {
     "name": "stdout",
     "output_type": "stream",
     "text": [
      "DCG = 35.262591254459856\n",
      "IDCG = 41.21246567070544\n",
      "nDCG = 0.855629253930447\n"
     ]
    }
   ],
   "source": [
    "result = list(np.random.randint(0, 2, size=500))\n",
    "print(f'DCG = {DCG(result)}\\nIDCG = {nDCG(result)[0]}\\nnDCG = {nDCG(result)[1]}')"
   ]
  }
 ],
 "metadata": {
  "kernelspec": {
   "display_name": "Python 3",
   "language": "python",
   "name": "python3"
  },
  "language_info": {
   "codemirror_mode": {
    "name": "ipython",
    "version": 3
   },
   "file_extension": ".py",
   "mimetype": "text/x-python",
   "name": "python",
   "nbconvert_exporter": "python",
   "pygments_lexer": "ipython3",
   "version": "3.8.3"
  }
 },
 "nbformat": 4,
 "nbformat_minor": 4
}
