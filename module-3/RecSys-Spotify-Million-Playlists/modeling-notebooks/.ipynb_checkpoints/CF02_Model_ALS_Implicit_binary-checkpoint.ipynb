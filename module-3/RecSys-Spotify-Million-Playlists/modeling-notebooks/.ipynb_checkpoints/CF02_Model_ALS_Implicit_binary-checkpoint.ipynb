{
 "cells": [
  {
   "cell_type": "markdown",
   "metadata": {},
   "source": [
    "## ALS Implicit Collaborative Filtering - binary ratings"
   ]
  },
  {
   "cell_type": "markdown",
   "metadata": {},
   "source": [
    "https://medium.com/radon-dev/als-implicit-collaborative-filtering-5ed653ba39fe"
   ]
  },
  {
   "cell_type": "code",
   "execution_count": 3,
   "metadata": {},
   "outputs": [],
   "source": [
    "import import_ipynb"
   ]
  },
  {
   "cell_type": "code",
   "execution_count": 4,
   "metadata": {},
   "outputs": [],
   "source": [
    "from evaluation import DCG\n",
    "from evaluation import nDCG\n",
    "from evaluation import R_Precision\n",
    "from time import time"
   ]
  },
  {
   "cell_type": "code",
   "execution_count": 5,
   "metadata": {},
   "outputs": [],
   "source": [
    "import sys\n",
    "import pandas as pd\n",
    "import numpy as np\n",
    "import scipy.sparse as sparse\n",
    "import random\n",
    "import implicit\n",
    "\n",
    "from sklearn.preprocessing import MinMaxScaler\n",
    "from scipy.sparse.linalg import spsolve"
   ]
  },
  {
   "cell_type": "markdown",
   "metadata": {},
   "source": [
    "# Recomendation and evaluation functions"
   ]
  },
  {
   "cell_type": "code",
   "execution_count": 6,
   "metadata": {},
   "outputs": [],
   "source": [
    "#---------------------\n",
    "# FIND SIMILAR ITEMS\n",
    "#---------------------\n",
    "\n",
    "def similar_items(seed_track, top_n):\n",
    "    \"\"\"\n",
    "    input: \n",
    "        track_uri\n",
    "    output: \n",
    "        top_n recommended track_uris\n",
    "    \"\"\"\n",
    "    \n",
    "    track_id = D_track_id[seed_track] \n",
    "    n_similar =  top_n\n",
    "\n",
    "    # Use implicit to get similar items.\n",
    "    similar = model.similar_items(track_id, n_similar)\n",
    "    \n",
    "    similar_i = []\n",
    "    \n",
    "    # Print the names of our most similar artists\n",
    "    for item in similar:\n",
    "        idx, score = item\n",
    "        track_uri = data.track_uri.loc[data.track_uri_id == idx].iloc[0]\n",
    "        #print(data.track_uri.loc[data.track_uri_id == idx].iloc[0], D_desc[track_uri])\n",
    "        similar_i.append(data.track_uri.loc[data.track_uri_id == idx].iloc[0])\n",
    "    return similar_i"
   ]
  },
  {
   "cell_type": "code",
   "execution_count": 7,
   "metadata": {},
   "outputs": [],
   "source": [
    "#-------------------------------------\n",
    "# FIND SIMILAR ITEMS WITH DESCRIPTION\n",
    "#-------------------------------------\n",
    "\n",
    "def similar_items_with_description(seed_track, top_n):\n",
    "    \"\"\"\n",
    "    input: track_uri\n",
    "    output: top_n recommended track_uris with description as dictionary\n",
    "    \"\"\"\n",
    "    print('CF ALS binary - first track returned is the seed track')\n",
    "    \n",
    "    track_id = D_track_id[seed_track] \n",
    "    n_similar =  top_n+1\n",
    "\n",
    "    # Use implicit to get similar items.\n",
    "    similar = model.similar_items(track_id, n_similar)\n",
    "    \n",
    "    similar_i = {}\n",
    "    \n",
    "    # Print the names of our most similar artists\n",
    "    for item in similar:\n",
    "        idx, score = item\n",
    "        track_uri = data.track_uri.loc[data.track_uri_id == idx].iloc[0]\n",
    "        similar_i[track_uri] = D_desc[track_uri]\n",
    "        #print(data.track_uri.loc[data.track_uri_id == idx].iloc[0], D_desc[track_uri])\n",
    "        #similar_i.append(data.track_uri.loc[data.track_uri_id == idx].iloc[0])\n",
    "    return list(similar_i.values())"
   ]
  },
  {
   "cell_type": "code",
   "execution_count": 8,
   "metadata": {},
   "outputs": [],
   "source": [
    "#------------------------------\n",
    "# CREATE USER RECOMMENDATIONS\n",
    "#------------------------------\n",
    "\n",
    "def create_recs(pid,N):\n",
    "    \"\"\"\n",
    "    input:\n",
    "        pid\n",
    "        N - top n recommendations\n",
    "    return: \n",
    "        list of recommended tracks\n",
    "    \"\"\"\n",
    "    \n",
    "    pid_id = pid\n",
    "\n",
    "    # Use the implicit recommender.\n",
    "    recommended = model.recommend(pid_id, sparse_user_item, N=N)\n",
    "\n",
    "    tracks = []\n",
    "    scores = []\n",
    "    desc = []\n",
    "\n",
    "    # Get artist names from ids\n",
    "    for item in recommended:\n",
    "        idx, score = item\n",
    "        tracks.append(data.track_uri.loc[data.track_uri_id == idx].iloc[0])\n",
    "        scores.append(score)\n",
    "        #desc.append(D_desc[data.track_uri.loc[data.track_uri_id == idx].iloc[0]])\n",
    "\n",
    "    return tracks"
   ]
  },
  {
   "cell_type": "code",
   "execution_count": 9,
   "metadata": {},
   "outputs": [],
   "source": [
    "#----------------------------------------------\n",
    "# CREATE USER RECOMMENDATIONS WITH DESCRIPTION\n",
    "#----------------------------------------------\n",
    "\n",
    "def create_recs_with_description(pid,N):\n",
    "    \"\"\"\n",
    "    input: \n",
    "        pid\n",
    "        top_n - top_n similar tracks to find\n",
    "    return\n",
    "        pid input\n",
    "        reccommendations\n",
    "    \"\"\"\n",
    "    pid_id = pid\n",
    "\n",
    "    # Use the implicit recommender.\n",
    "    I = {}\n",
    "    for el in data[data.pid == pid_id].track_uri.unique():\n",
    "        I[el] = D_desc[el]\n",
    "    \n",
    "    recommended = model.recommend(pid_id, sparse_user_item, N=N)\n",
    "    \n",
    "    R = {}\n",
    "\n",
    "    for item in recommended:\n",
    "        idx, score = item\n",
    "        R[data.track_uri.loc[data.track_uri_id == idx].iloc[0]] = D_desc[data.track_uri.loc[data.track_uri_id == idx].iloc[0]]\n",
    "    \n",
    "    return list(I.values()), list(R.values())"
   ]
  },
  {
   "cell_type": "code",
   "execution_count": 10,
   "metadata": {},
   "outputs": [],
   "source": [
    "#----------------------------------------------------\n",
    "# CREATE USER RECOMMENDATIONS WITH DICTIONARY OUTPUT\n",
    "#---------------------------------------------------\n",
    "\n",
    "def create_recs_dictionary_output(pid,N):\n",
    "    \"\"\"\n",
    "    input: \n",
    "        pid\n",
    "    output: \n",
    "        reccomendation dictionary {track_uri: score}\n",
    "    \"\"\"\n",
    "    \n",
    "    pid_id = pid\n",
    "\n",
    "    # Use the implicit recommender.\n",
    "    recommended = model.recommend(pid_id, sparse_user_item, N=N)\n",
    "\n",
    "    rec_tracks = {}\n",
    "\n",
    "    # Get artist names from ids\n",
    "    for item in recommended:\n",
    "        idx, score = item\n",
    "        rec_tracks[D_track_id_to_uri[idx]] = score\n",
    "\n",
    "    return rec_tracks"
   ]
  },
  {
   "cell_type": "code",
   "execution_count": 11,
   "metadata": {},
   "outputs": [],
   "source": [
    "#----------------------------------\n",
    "# GET RECOMMENDATIONS AND EVALUATE\n",
    "#----------------------------------\n",
    "\n",
    "def als_predict_and_evaluate_top_n(pid, top_n=100):\n",
    "    \"\"\"\n",
    "    return:\n",
    "        top_n predicted: track_ids\n",
    "        ground_truth : track_ids in the hold_out\n",
    "        R_Prec\n",
    "        NDGC\n",
    "    \n",
    "    \"\"\"\n",
    "    L_pred = list(create_recs_dictionary_output(pid,top_n).keys())\n",
    "    \n",
    "    ground_truth = ev_set_arr[ev_set_arr[:,0]==pid][:,1]\n",
    "    \n",
    "    R_Prec = R_Precision(L_pred[:len(ground_truth)],ground_truth)\n",
    "    \n",
    "    res = [int(el in ground_truth) for el in L_pred]\n",
    "    \n",
    "    NDCG = nDCG(res)[1]\n",
    "    \n",
    "    return L_pred, ground_truth, R_Prec, NDCG, res"
   ]
  },
  {
   "cell_type": "code",
   "execution_count": 12,
   "metadata": {},
   "outputs": [],
   "source": [
    "#-----------------------------------\n",
    "# SAVE R-PRECISION AND NDCG BY PID\n",
    "#-----------------------------------\n",
    "\n",
    "def save_als_res_k_n(n = 10, top_n=20):\n",
    "    \"\"\"\n",
    "    k = number of factors\n",
    "    n = number of random lists to predict\n",
    "    \"\"\"\n",
    "    time0=time()\n",
    "    RES={}\n",
    "    ep = random.sample(evaluation_pids,n)\n",
    "    for i,pid in enumerate(ep):\n",
    "        predictions=als_predict_and_evaluate_top_n(pid,top_n)\n",
    "        RES[pid] = [predictions[2], predictions[3]]\n",
    "        if i % 500 ==0:\n",
    "            print(i)\n",
    "            print(time()-time0)\n",
    "    df = pd.DataFrame(RES).transpose().reset_index()\n",
    "    df.columns=['pid','R-Precision','nDCG']\n",
    "    df['rating'] = 'binary'\n",
    "    df['model'] = f'ALS'\n",
    "    df.to_csv(f'../evaluation/ALS_binary_topn_{top_n}_{n}.csv', index = None)\n",
    "    print(time()-time0)\n",
    "    return df"
   ]
  },
  {
   "cell_type": "code",
   "execution_count": 13,
   "metadata": {},
   "outputs": [],
   "source": [
    "#------------------------------------------------------------------------\n",
    "# SEARCH FOR AN ARTIST OR TRACK BASED ON THE NAME OF AN ARTIST OR TRACKS\n",
    "#------------------------------------------------------------------------\n",
    "\n",
    "def search_track_artist(name, entity):\n",
    "    \"\"\"\n",
    "    input:\n",
    "        name of an artist or track\n",
    "        entity - 'track' or 'artist'\n",
    "    return:\n",
    "        track_uri for a given artist name or a track name\n",
    "    \"\"\"\n",
    "    S = []\n",
    "    if entity == 'track':\n",
    "        for k, v in D_desc.items():\n",
    "            if v[0].lower().find(name.lower()) !=-1:\n",
    "                S.append([k, v])\n",
    "    if entity == 'artist':\n",
    "        for k, v in D_desc.items():\n",
    "            if v[1].lower().find(name.lower()) !=-1:\n",
    "                S.append([k, v])     \n",
    "    return S"
   ]
  },
  {
   "cell_type": "markdown",
   "metadata": {},
   "source": [
    "# Load data"
   ]
  },
  {
   "cell_type": "code",
   "execution_count": 14,
   "metadata": {},
   "outputs": [],
   "source": [
    "file_path = '../data-processed/full-data/pid-track-binary-rating-train-data.csv'"
   ]
  },
  {
   "cell_type": "code",
   "execution_count": 15,
   "metadata": {},
   "outputs": [],
   "source": [
    "# Load the data like we did before\n",
    "raw_data = pd.read_csv(file_path)\n",
    "# raw_data.head()"
   ]
  },
  {
   "cell_type": "code",
   "execution_count": 16,
   "metadata": {},
   "outputs": [],
   "source": [
    "raw_data.columns = ['pid', 'track_uri', 'rating']\n",
    "data = raw_data"
   ]
  },
  {
   "cell_type": "code",
   "execution_count": 17,
   "metadata": {},
   "outputs": [],
   "source": [
    "# Create a numeric user_id and artist_id column\n",
    "data['pid'] = data['pid'].astype(\"category\")\n",
    "data['track_uri'] = data['track_uri'].astype(\"category\")\n",
    "data['pid_id'] = data['pid'].cat.codes\n",
    "data['track_uri_id'] = data['track_uri'].cat.codes\n",
    "# data.head()"
   ]
  },
  {
   "cell_type": "code",
   "execution_count": 18,
   "metadata": {},
   "outputs": [],
   "source": [
    "D_track_id = data.groupby('track_uri')['track_uri_id'].min().to_dict()"
   ]
  },
  {
   "cell_type": "code",
   "execution_count": 19,
   "metadata": {},
   "outputs": [],
   "source": [
    "D_track_id_to_uri = {}\n",
    "for k,v in D_track_id.items():\n",
    "    D_track_id_to_uri[v] = k"
   ]
  },
  {
   "cell_type": "markdown",
   "metadata": {},
   "source": [
    "# Build ALS model"
   ]
  },
  {
   "cell_type": "code",
   "execution_count": 20,
   "metadata": {},
   "outputs": [],
   "source": [
    "# The implicit library expects data as a item-user matrix so we\n",
    "# create two matricies, one for fitting the model (item-user) \n",
    "# and one for recommendations (user-item)\n",
    "sparse_item_user = sparse.csr_matrix((data['rating'].astype(float), (data['track_uri_id'], data['pid_id'])))\n",
    "sparse_user_item = sparse.csr_matrix((data['rating'].astype(float), (data['pid_id'], data['track_uri_id'])))"
   ]
  },
  {
   "cell_type": "code",
   "execution_count": 21,
   "metadata": {},
   "outputs": [
    {
     "name": "stderr",
     "output_type": "stream",
     "text": [
      "WARNING:root:OpenBLAS detected. Its highly recommend to set the environment variable 'export OPENBLAS_NUM_THREADS=1' to disable its internal multithreading\n"
     ]
    }
   ],
   "source": [
    "# Initialize the als model and fit it using the sparse item-user matrix\n",
    "model = implicit.als.AlternatingLeastSquares(factors=20, regularization=0.1, iterations=20)"
   ]
  },
  {
   "cell_type": "code",
   "execution_count": 22,
   "metadata": {},
   "outputs": [],
   "source": [
    "# Calculate the confidence by multiplying it by our alpha value.\n",
    "alpha_val = 15\n",
    "data_conf = (sparse_item_user * alpha_val).astype('double')"
   ]
  },
  {
   "cell_type": "code",
   "execution_count": 23,
   "metadata": {},
   "outputs": [
    {
     "data": {
      "application/vnd.jupyter.widget-view+json": {
       "model_id": "e58cdfd6828c4da28bcb60b65a55b0ed",
       "version_major": 2,
       "version_minor": 0
      },
      "text/plain": [
       "HBox(children=(HTML(value=''), FloatProgress(value=0.0, max=20.0), HTML(value='')))"
      ]
     },
     "metadata": {},
     "output_type": "display_data"
    },
    {
     "name": "stdout",
     "output_type": "stream",
     "text": [
      "\n"
     ]
    }
   ],
   "source": [
    "#Fit the model\n",
    "model.fit(data_conf)"
   ]
  },
  {
   "cell_type": "markdown",
   "metadata": {},
   "source": [
    "# Load dictionary with tracks"
   ]
  },
  {
   "cell_type": "code",
   "execution_count": 24,
   "metadata": {},
   "outputs": [
    {
     "data": {
      "text/plain": [
       "['Lose Control (feat. Ciara & Fat Man Scoop)', 'Missy Elliott', 'The Cookbook']"
      ]
     },
     "execution_count": 24,
     "metadata": {},
     "output_type": "execute_result"
    }
   ],
   "source": [
    "import json\n",
    "\n",
    "with open('../data-processed/full-data/track_descriptions.json') as json_file:\n",
    "    D_desc = json.load(json_file)\n",
    "    \n",
    "D_desc['spotify:track:0UaMYEvWZi0ZqiDOoHU3YI']"
   ]
  },
  {
   "cell_type": "markdown",
   "metadata": {},
   "source": [
    "# Find similar tracks"
   ]
  },
  {
   "cell_type": "markdown",
   "metadata": {},
   "source": [
    "<img src=\"tenor.gif\">"
   ]
  },
  {
   "cell_type": "code",
   "execution_count": 25,
   "metadata": {},
   "outputs": [
    {
     "data": {
      "text/plain": [
       "[['spotify:track:3zJw3rugfpVrmBeDDnUYzy',\n",
       "  ['Happy Xmas (War Is Over) - 2010 Digital Remaster',\n",
       "   'John Lennon',\n",
       "   'Power To The People - The Hits']],\n",
       " ['spotify:track:2pNwQBjJppt8v3sZojH1aj',\n",
       "  ['Oh Yoko! - 2010 - Remaster', 'John Lennon', 'Imagine']],\n",
       " ['spotify:track:6Ux4atjtjSCvtW27UCFj7d',\n",
       "  ['Dear Yoko - 2010 - Remaster',\n",
       "   'John Lennon',\n",
       "   'Double Fantasy Stripped Down']],\n",
       " ['spotify:track:7pKfPomDEeI4TPT6EOYjn9',\n",
       "  ['Imagine - 2010 - Remaster', 'John Lennon', 'Imagine']],\n",
       " ['spotify:track:36bDXIjlYQKTxESFmAPEK3',\n",
       "  ['Imagine', 'John Lennon', 'Jazz Do It']],\n",
       " ['spotify:track:31QuJZfFiMk1uOawow8ejS',\n",
       "  ['Nobody Told Me - 2010 - Remaster', 'John Lennon', 'Milk And Honey']],\n",
       " ['spotify:track:0GGxVTb0UwDwdaKNjBdCn3',\n",
       "  ['Woman - 2010 - Remaster', 'John Lennon', 'Double Fantasy Stripped Down']],\n",
       " ['spotify:track:3ntrdR24dLkKrzSGRv1FlH',\n",
       "  ['Stand By Me - 2010 - Remaster', 'John Lennon', \"Rock 'N' Roll\"]],\n",
       " ['spotify:track:5mAuSPm8ZygJViGqQxKd48',\n",
       "  ['Oh Yoko', 'John Lennon', 'Rushmore']],\n",
       " ['spotify:track:5y0YreEOnQiKFAnCrcFIXz',\n",
       "  ['(Just Like) Starting Over - 2010 - Remaster',\n",
       "   'John Lennon',\n",
       "   'Double Fantasy Stripped Down']]]"
      ]
     },
     "execution_count": 25,
     "metadata": {},
     "output_type": "execute_result"
    }
   ],
   "source": [
    "track_or_artist = 'John Lennon'\n",
    "#entity 'track' or 'artist'\n",
    "entity = 'artist'\n",
    "results_to_print = 10\n",
    "search_track_artist(track_or_artist, entity)[0:results_to_print]"
   ]
  },
  {
   "cell_type": "code",
   "execution_count": 26,
   "metadata": {},
   "outputs": [
    {
     "name": "stdout",
     "output_type": "stream",
     "text": [
      "CF ALS binary - first track returned is the seed track\n"
     ]
    },
    {
     "data": {
      "text/plain": [
       "[['Imagine', 'John Lennon', 'Jazz Do It'],\n",
       " [\"Maybe I'm Amazed - 2013 Remaster\", 'Paul McCartney', 'Wings Over America'],\n",
       " ['Maybe I’m Amazed - Remastered 2011', 'Paul McCartney', 'McCartney'],\n",
       " ['Lucy in the Sky with Diamonds',\n",
       "  'Bombilates',\n",
       "  'Popular Song Covers - Vol. 6'],\n",
       " ['Time In A Bottle', 'Jim Croce', \"You Don't Mess Around With Jim\"],\n",
       " ['The Sounds of Silence - Acoustic Version',\n",
       "  'Simon & Garfunkel',\n",
       "  'Wednesday Morning, 3 A.M.'],\n",
       " ['Hotel California', 'The Desperados', 'Acoustic Moondance'],\n",
       " ['People Get Ready', 'Jeff Beck', 'Flash'],\n",
       " ['Border Song', 'Elton John', 'Elton John'],\n",
       " ['The Killing of Georgie (Part I and II) - 2009 Remastered Version',\n",
       "  'Rod Stewart',\n",
       "  'A Night On The Town [Deluxe Edition]'],\n",
       " ['Let It Be', 'Paul McCartney', 'Back In The World'],\n",
       " ['Ticket To Ride', 'The British Invasions', 'A Tribute To The Beatles'],\n",
       " ['Hey Jude', 'The Apples', 'Best Of The 60s'],\n",
       " ['Bridge Over Troubled Water',\n",
       "  'Simon & Garfunkel',\n",
       "  'Bridge Over Troubled Water'],\n",
       " ['Shower the People', 'James Taylor', 'James Taylor Live'],\n",
       " ['Sailing To Philadelphia',\n",
       "  'Mark Knopfler',\n",
       "  'The Best Of Dire Straits & Mark Knopfler - Private Investigations']]"
      ]
     },
     "execution_count": 26,
     "metadata": {},
     "output_type": "execute_result"
    }
   ],
   "source": [
    "similar_items_with_description('spotify:track:36bDXIjlYQKTxESFmAPEK3',15)"
   ]
  },
  {
   "cell_type": "markdown",
   "metadata": {},
   "source": [
    "# Create a playlist continuation"
   ]
  },
  {
   "cell_type": "code",
   "execution_count": 27,
   "metadata": {},
   "outputs": [],
   "source": [
    "#test_pids = pd.read_csv('../data-processed/full-data/pid-track-ratings-train-test-tags.csv')\n",
    "#test_pids = test_pids[test_pids['hold_out'] == 1]\n",
    "#pd.DataFrame(list(test_pids['pid'].unique()),columns=['ground_truth_pid']).to_csv('../data-processed/full-data/ground_truth_pids.csv')"
   ]
  },
  {
   "cell_type": "code",
   "execution_count": 64,
   "metadata": {},
   "outputs": [
    {
     "name": "stdout",
     "output_type": "stream",
     "text": [
      "Input\n"
     ]
    },
    {
     "data": {
      "text/plain": [
       "[['Pursuit Of Happiness (nightmare)',\n",
       "  'Kid Cudi',\n",
       "  'Man On The Moon: The End Of Day'],\n",
       " ['Loyal', 'Chris Brown', 'X (Deluxe Version)'],\n",
       " ['No Hands (feat. Roscoe Dash and Wale) - Explicit Album Version',\n",
       "  'Waka Flocka Flame',\n",
       "  'Flockaveli'],\n",
       " ['Flex (Ooh, Ooh, Ooh)', 'Rich Homie Quan', 'Flex (Ooh, Ooh, Ooh)'],\n",
       " ['Lose Yourself - Soundtrack Version', 'Eminem', 'Curtain Call'],\n",
       " ['Young, Wild & Free (feat. Bruno Mars) - feat. Bruno Mars',\n",
       "  'Snoop Dogg',\n",
       "  'Mac and Devin Go To High School (Music From and Inspired By The Movie)'],\n",
       " ['Black And Yellow', 'Wiz Khalifa', 'Rolling Papers'],\n",
       " ['True Colors (feat. Nicki Minaj)', 'Wiz Khalifa', 'Blacc Hollywood'],\n",
       " ['Cudi Zone', 'Kid Cudi', 'Man On The Moon: The End Of Day'],\n",
       " [\"Day 'N' Nite (nightmare)\", 'Kid Cudi', 'Man On The Moon: The End Of Day']]"
      ]
     },
     "execution_count": 64,
     "metadata": {},
     "output_type": "execute_result"
    }
   ],
   "source": [
    "print('Input')\n",
    "inp = 491031\n",
    "create_recs_with_description(inp, 20)[0][:10]"
   ]
  },
  {
   "cell_type": "code",
   "execution_count": 65,
   "metadata": {},
   "outputs": [
    {
     "name": "stdout",
     "output_type": "stream",
     "text": [
      "output\n"
     ]
    },
    {
     "data": {
      "text/plain": [
       "[[\"I Don't Fuck With You\", 'Big Sean', 'Dark Sky Paradise'],\n",
       " ['Ni**as In Paris', 'JAY Z', 'Top Five'],\n",
       " ['Trap Queen', 'Fetty Wap', 'Fetty Wap'],\n",
       " ['Jumpman', 'Drake', 'What A Time To Be Alive'],\n",
       " [\"F**kin' Problems\", 'A$AP Rocky', 'LONG.LIVE.A$AP (Deluxe Version)'],\n",
       " ['679 (feat. Remy Boyz)', 'Fetty Wap', '679 (feat. Remy Boyz)'],\n",
       " ['0 To 100 / The Catch Up', 'Drake', '0 To 100 / The Catch Up'],\n",
       " ['No Type', 'Rae Sremmurd', 'SremmLife'],\n",
       " ['Back To Back', 'Drake', 'Back To Back'],\n",
       " ['I Mean It', 'G-Eazy', 'These Things Happen'],\n",
       " ['Forever', 'Drake', 'Relapse: Refill'],\n",
       " ['m.A.A.d city', 'Kendrick Lamar', 'good kid, m.A.A.d city'],\n",
       " ['Come Get Her', 'Rae Sremmurd', 'SremmLife'],\n",
       " ['6 Foot 7 Foot', 'Lil Wayne', 'Tha Carter IV'],\n",
       " ['Swimming Pools (Drank)', 'Kendrick Lamar', 'Swimming Pools (Drank)'],\n",
       " ['We Dem Boyz', 'Wiz Khalifa', 'Blacc Hollywood'],\n",
       " ['All Me', 'Drake', 'Nothing Was The Same'],\n",
       " ['Panda', 'Desiigner', 'New English'],\n",
       " ['Started From the Bottom', 'Drake', 'Nothing Was The Same'],\n",
       " ['Hotline Bling', 'Drake', 'Views']]"
      ]
     },
     "execution_count": 65,
     "metadata": {},
     "output_type": "execute_result"
    }
   ],
   "source": [
    "print('output')\n",
    "create_recs_with_description(inp, 20)[1]"
   ]
  },
  {
   "cell_type": "markdown",
   "metadata": {},
   "source": [
    "# Evaluation"
   ]
  },
  {
   "cell_type": "code",
   "execution_count": 27,
   "metadata": {},
   "outputs": [],
   "source": [
    "# evaluation_set = pd.read_csv('../data-processed/full-data/evaluation-pids-ground-truth.csv')\n",
    "# evaluation_set.head()"
   ]
  },
  {
   "cell_type": "code",
   "execution_count": 28,
   "metadata": {},
   "outputs": [],
   "source": [
    "# ev_set = evaluation_set[evaluation_set['hold_out'] == 1][['pid','track_uri','hold_out']]\n",
    "# ev_set = ev_set[ev_set.isnull()==False]\n",
    "\n",
    "# ev_set_arr = ev_set.to_numpy()\n",
    "\n",
    "# evaluation_pids = list(ev_set.pid.unique())\n",
    "\n",
    "# # ev_set.head()"
   ]
  },
  {
   "cell_type": "markdown",
   "metadata": {},
   "source": [
    "### Save evaluation"
   ]
  },
  {
   "cell_type": "code",
   "execution_count": 29,
   "metadata": {},
   "outputs": [],
   "source": [
    "# df = save_als_res_k_n(10000,500)\n",
    "# df.describe()"
   ]
  }
 ],
 "metadata": {
  "kernelspec": {
   "display_name": "Python 3",
   "language": "python",
   "name": "python3"
  },
  "language_info": {
   "codemirror_mode": {
    "name": "ipython",
    "version": 3
   },
   "file_extension": ".py",
   "mimetype": "text/x-python",
   "name": "python",
   "nbconvert_exporter": "python",
   "pygments_lexer": "ipython3",
   "version": "3.8.3"
  }
 },
 "nbformat": 4,
 "nbformat_minor": 4
}
