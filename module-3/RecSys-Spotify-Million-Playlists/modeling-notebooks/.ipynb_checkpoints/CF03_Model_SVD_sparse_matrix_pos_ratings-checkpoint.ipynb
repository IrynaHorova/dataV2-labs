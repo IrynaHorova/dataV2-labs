{
 "cells": [
  {
   "cell_type": "markdown",
   "metadata": {},
   "source": [
    "## Matrix Factorization with SVD - POS RATINGS"
   ]
  },
  {
   "cell_type": "markdown",
   "metadata": {},
   "source": [
    "https://www.kaggle.com/gspmoreira/recommender-systems-in-python-101"
   ]
  },
  {
   "cell_type": "code",
   "execution_count": 1,
   "metadata": {},
   "outputs": [],
   "source": [
    "import import_ipynb"
   ]
  },
  {
   "cell_type": "code",
   "execution_count": 2,
   "metadata": {},
   "outputs": [
    {
     "name": "stdout",
     "output_type": "stream",
     "text": [
      "importing Jupyter notebook from evaluation.ipynb\n",
      "DCG = 0.5\n",
      "IDCG = 1.0\n",
      "nDCG = 0.5\n"
     ]
    }
   ],
   "source": [
    "import pandas as pd\n",
    "import scipy.sparse as sps\n",
    "import numpy as np\n",
    "from scipy.sparse.linalg import svds\n",
    "from time import time\n",
    "from evaluation import DCG\n",
    "from evaluation import nDCG\n",
    "from evaluation import R_Precision\n",
    "import random"
   ]
  },
  {
   "cell_type": "markdown",
   "metadata": {},
   "source": [
    "# Define Functions for  SVD and Predict SVD"
   ]
  },
  {
   "cell_type": "code",
   "execution_count": 3,
   "metadata": {},
   "outputs": [],
   "source": [
    "#--------------------------------------\n",
    "# RETURN DECOMPOSITION MATRIXES\n",
    "#--------------------------------------\n",
    "\n",
    "def SVD(num_factors):\n",
    "    NUMBER_OF_FACTORS_MF = num_factors\n",
    "    MATRIX =  M.asfptype()\n",
    "    U, sigma, Vt = svds(MATRIX, k = NUMBER_OF_FACTORS_MF)\n",
    "    sigma = np.diag(sigma)\n",
    "    return U, sigma, Vt"
   ]
  },
  {
   "cell_type": "code",
   "execution_count": 4,
   "metadata": {},
   "outputs": [],
   "source": [
    "#--------------------------------------------------------------------\n",
    "# PREDICT top_n TRACKS FOR A PID AND EVALUATE AGAINST GROUND TRUTH\n",
    "#--------------------------------------------------------------------\n",
    "\n",
    "def SVD_predict_and_evaluate_top_n(pid, U, sigma, Vt, top_n):\n",
    "    \"\"\"\n",
    "    input\n",
    "        pid\n",
    "        decomposition matrixes\n",
    "        top_n to reccommend\n",
    "    return\n",
    "        top_n predicted track_ids\n",
    "        ground_truth : track_ids in the hold_out\n",
    "        R_Prec\n",
    "    \"\"\"\n",
    "    \n",
    "    train_array_track_ids = track_id_array[M[pid].toarray()[0].astype(bool)]\n",
    "    predicted = np.dot(np.dot(U[pid,:], sigma), Vt)\n",
    "    pred = np.flipud(predicted.argsort())\n",
    "    L_pred = pred[:top_n+len(train_array_track_ids)]\n",
    "    L_pred = [el for el in L_pred if el not in train_array_track_ids]\n",
    "    L_pred = L_pred[:top_n]\n",
    "    \n",
    "    ground_truth = ev_set_arr[ev_set_arr[:,0]==pid][:,1]\n",
    "    \n",
    "    R_Prec = R_Precision(L_pred[:len(ground_truth)],ground_truth)\n",
    "    \n",
    "    res = [int(el in ground_truth) for el in L_pred]\n",
    "    \n",
    "    NDCG = nDCG(res)[1]\n",
    "    \n",
    "    return L_pred, ground_truth, R_Prec, NDCG, res"
   ]
  },
  {
   "cell_type": "code",
   "execution_count": 5,
   "metadata": {},
   "outputs": [],
   "source": [
    "#-------------------------------\n",
    "# SAVE SVD EVALUATION RESULTS\n",
    "#-------------------------------\n",
    "\n",
    "def save_SVD_res_k_n(U, sigma, Vt, k = 15, n = 10):\n",
    "    \"\"\"\n",
    "    k = number of factors\n",
    "    n = number of random lists to predict\n",
    "    \"\"\"\n",
    "    time0=time()\n",
    "    RES={}\n",
    "    for i,pid in enumerate(random.sample(evaluation_pids,n)):\n",
    "        predictions=SVD_predict_and_evaluate_top_n(pid, U, sigma, Vt, 500)\n",
    "        RES[pid] = [predictions[2], predictions[3]]\n",
    "        if i%500==0:\n",
    "            print(i)\n",
    "    print(time()-time0)\n",
    "    df = pd.DataFrame(RES).transpose().reset_index()\n",
    "    df.columns=['pid','R-Precision','nDCG']\n",
    "    df['rating'] = 'pos'\n",
    "    df['model'] = f'SVD_{k}'\n",
    "    df.to_csv(f'../evaluation/SVD_pos{k}_{n}.csv', index = None)\n",
    "    return RES"
   ]
  },
  {
   "cell_type": "markdown",
   "metadata": {},
   "source": [
    "# Read Data"
   ]
  },
  {
   "cell_type": "code",
   "execution_count": 6,
   "metadata": {},
   "outputs": [],
   "source": [
    "file_path = '../data-processed/full-data/pid-track-pos-rating-train-data.csv'"
   ]
  },
  {
   "cell_type": "code",
   "execution_count": 7,
   "metadata": {},
   "outputs": [
    {
     "data": {
      "text/plain": [
       "pid             int64\n",
       "track_uri      object\n",
       "pos_rating    float64\n",
       "dtype: object"
      ]
     },
     "execution_count": 7,
     "metadata": {},
     "output_type": "execute_result"
    }
   ],
   "source": [
    "data = pd.read_csv(file_path)\n",
    "data.dtypes"
   ]
  },
  {
   "cell_type": "code",
   "execution_count": 8,
   "metadata": {},
   "outputs": [
    {
     "data": {
      "text/html": [
       "<div>\n",
       "<style scoped>\n",
       "    .dataframe tbody tr th:only-of-type {\n",
       "        vertical-align: middle;\n",
       "    }\n",
       "\n",
       "    .dataframe tbody tr th {\n",
       "        vertical-align: top;\n",
       "    }\n",
       "\n",
       "    .dataframe thead th {\n",
       "        text-align: right;\n",
       "    }\n",
       "</style>\n",
       "<table border=\"1\" class=\"dataframe\">\n",
       "  <thead>\n",
       "    <tr style=\"text-align: right;\">\n",
       "      <th></th>\n",
       "      <th>pid</th>\n",
       "      <th>track_uri</th>\n",
       "      <th>pos_rating</th>\n",
       "    </tr>\n",
       "  </thead>\n",
       "  <tbody>\n",
       "    <tr>\n",
       "      <th>0</th>\n",
       "      <td>491000</td>\n",
       "      <td>spotify:track:3giQ7393501IRNrd8iHugf</td>\n",
       "      <td>10.000000</td>\n",
       "    </tr>\n",
       "    <tr>\n",
       "      <th>1</th>\n",
       "      <td>491000</td>\n",
       "      <td>spotify:track:3jpcVaeyNjWgjqIxAiWasz</td>\n",
       "      <td>9.949153</td>\n",
       "    </tr>\n",
       "    <tr>\n",
       "      <th>2</th>\n",
       "      <td>491000</td>\n",
       "      <td>spotify:track:1uuqRaSJAiQ6VB8BWblXWJ</td>\n",
       "      <td>9.898305</td>\n",
       "    </tr>\n",
       "    <tr>\n",
       "      <th>3</th>\n",
       "      <td>491000</td>\n",
       "      <td>spotify:track:7gXpcXwtmEiQzskYJmtGgk</td>\n",
       "      <td>9.847458</td>\n",
       "    </tr>\n",
       "    <tr>\n",
       "      <th>4</th>\n",
       "      <td>491000</td>\n",
       "      <td>spotify:track:5wtIWwOtowY2howCZ7Veq2</td>\n",
       "      <td>9.796610</td>\n",
       "    </tr>\n",
       "  </tbody>\n",
       "</table>\n",
       "</div>"
      ],
      "text/plain": [
       "      pid                             track_uri  pos_rating\n",
       "0  491000  spotify:track:3giQ7393501IRNrd8iHugf   10.000000\n",
       "1  491000  spotify:track:3jpcVaeyNjWgjqIxAiWasz    9.949153\n",
       "2  491000  spotify:track:1uuqRaSJAiQ6VB8BWblXWJ    9.898305\n",
       "3  491000  spotify:track:7gXpcXwtmEiQzskYJmtGgk    9.847458\n",
       "4  491000  spotify:track:5wtIWwOtowY2howCZ7Veq2    9.796610"
      ]
     },
     "execution_count": 8,
     "metadata": {},
     "output_type": "execute_result"
    }
   ],
   "source": [
    "data.head()"
   ]
  },
  {
   "cell_type": "code",
   "execution_count": 9,
   "metadata": {},
   "outputs": [],
   "source": [
    "tracks = list(data.track_uri.unique())\n",
    "\n",
    "D_tracks = {}\n",
    "n=0\n",
    "for track in tracks:\n",
    "    D_tracks[track] = n\n",
    "    n+=1\n",
    "    \n",
    "D_tracks_reverse = {}\n",
    "n=0\n",
    "for k,i in D_tracks.items():\n",
    "    D_tracks_reverse[i] = k"
   ]
  },
  {
   "cell_type": "code",
   "execution_count": 10,
   "metadata": {},
   "outputs": [
    {
     "data": {
      "text/plain": [
       "pid             int64\n",
       "track_uri      object\n",
       "pos_rating    float64\n",
       "track_id        int64\n",
       "dtype: object"
      ]
     },
     "execution_count": 10,
     "metadata": {},
     "output_type": "execute_result"
    }
   ],
   "source": [
    "data['track_id'] = data.track_uri.map(D_tracks)\n",
    "data.dtypes"
   ]
  },
  {
   "cell_type": "code",
   "execution_count": 11,
   "metadata": {},
   "outputs": [],
   "source": [
    "evaluation_set = pd.read_csv('../data-processed/full-data/evaluation-pids-ground-truth.csv')\n",
    "evaluation_set['track_id'] = evaluation_set['track_uri'].map(D_tracks)"
   ]
  },
  {
   "cell_type": "code",
   "execution_count": 12,
   "metadata": {},
   "outputs": [
    {
     "data": {
      "text/html": [
       "<div>\n",
       "<style scoped>\n",
       "    .dataframe tbody tr th:only-of-type {\n",
       "        vertical-align: middle;\n",
       "    }\n",
       "\n",
       "    .dataframe tbody tr th {\n",
       "        vertical-align: top;\n",
       "    }\n",
       "\n",
       "    .dataframe thead th {\n",
       "        text-align: right;\n",
       "    }\n",
       "</style>\n",
       "<table border=\"1\" class=\"dataframe\">\n",
       "  <thead>\n",
       "    <tr style=\"text-align: right;\">\n",
       "      <th></th>\n",
       "      <th>pid</th>\n",
       "      <th>track_id</th>\n",
       "      <th>hold_out</th>\n",
       "    </tr>\n",
       "  </thead>\n",
       "  <tbody>\n",
       "    <tr>\n",
       "      <th>38</th>\n",
       "      <td>491004</td>\n",
       "      <td>5309</td>\n",
       "      <td>1</td>\n",
       "    </tr>\n",
       "    <tr>\n",
       "      <th>39</th>\n",
       "      <td>491004</td>\n",
       "      <td>36994</td>\n",
       "      <td>1</td>\n",
       "    </tr>\n",
       "    <tr>\n",
       "      <th>40</th>\n",
       "      <td>491004</td>\n",
       "      <td>29707</td>\n",
       "      <td>1</td>\n",
       "    </tr>\n",
       "    <tr>\n",
       "      <th>41</th>\n",
       "      <td>491004</td>\n",
       "      <td>100247</td>\n",
       "      <td>1</td>\n",
       "    </tr>\n",
       "    <tr>\n",
       "      <th>42</th>\n",
       "      <td>491004</td>\n",
       "      <td>5326</td>\n",
       "      <td>1</td>\n",
       "    </tr>\n",
       "  </tbody>\n",
       "</table>\n",
       "</div>"
      ],
      "text/plain": [
       "       pid  track_id  hold_out\n",
       "38  491004      5309         1\n",
       "39  491004     36994         1\n",
       "40  491004     29707         1\n",
       "41  491004    100247         1\n",
       "42  491004      5326         1"
      ]
     },
     "execution_count": 12,
     "metadata": {},
     "output_type": "execute_result"
    }
   ],
   "source": [
    "ev_set = evaluation_set[evaluation_set['hold_out'] == 1][['pid','track_id','hold_out']]\n",
    "ev_set = ev_set[ev_set.track_id.isnull()==False]\n",
    "\n",
    "evaluation_pids = list(ev_set.pid.unique())\n",
    "\n",
    "ev_set.track_id = ev_set.track_id.astype(int)\n",
    "ev_set.head()"
   ]
  },
  {
   "cell_type": "code",
   "execution_count": 13,
   "metadata": {},
   "outputs": [],
   "source": [
    "ev_set_arr = ev_set.to_numpy()"
   ]
  },
  {
   "cell_type": "markdown",
   "metadata": {},
   "source": [
    "# Define sparce matrix"
   ]
  },
  {
   "cell_type": "code",
   "execution_count": 14,
   "metadata": {},
   "outputs": [],
   "source": [
    "M = sps.csr_matrix((data.pos_rating, (data.pid, data.track_id)))"
   ]
  },
  {
   "cell_type": "code",
   "execution_count": 15,
   "metadata": {},
   "outputs": [
    {
     "data": {
      "text/plain": [
       "1996586"
      ]
     },
     "execution_count": 15,
     "metadata": {},
     "output_type": "execute_result"
    }
   ],
   "source": [
    "M.shape[1]"
   ]
  },
  {
   "cell_type": "markdown",
   "metadata": {},
   "source": [
    "# Train - Predict - Evaluate"
   ]
  },
  {
   "cell_type": "code",
   "execution_count": 16,
   "metadata": {},
   "outputs": [],
   "source": [
    "track_id_array = np.arange(M.shape[1])"
   ]
  },
  {
   "cell_type": "markdown",
   "metadata": {},
   "source": [
    "### Save evaluation"
   ]
  },
  {
   "cell_type": "code",
   "execution_count": 17,
   "metadata": {},
   "outputs": [],
   "source": [
    "n=1000"
   ]
  },
  {
   "cell_type": "markdown",
   "metadata": {},
   "source": [
    "### k=15"
   ]
  },
  {
   "cell_type": "code",
   "execution_count": 18,
   "metadata": {},
   "outputs": [],
   "source": [
    "# k=15\n",
    "# U, sigma, Vt = SVD(k)\n",
    "# U.shape, sigma.shape, Vt.shape"
   ]
  },
  {
   "cell_type": "code",
   "execution_count": 19,
   "metadata": {},
   "outputs": [],
   "source": [
    "# df = pd.DataFrame(save_SVD_res_k_n(U, sigma, Vt, k, n)).transpose()\n",
    "# df.describe()"
   ]
  },
  {
   "cell_type": "markdown",
   "metadata": {},
   "source": [
    "### k=25"
   ]
  },
  {
   "cell_type": "code",
   "execution_count": 20,
   "metadata": {},
   "outputs": [],
   "source": [
    "# k=25\n",
    "# U, sigma, Vt = SVD(k)\n",
    "# U.shape, sigma.shape, Vt.shape"
   ]
  },
  {
   "cell_type": "code",
   "execution_count": 21,
   "metadata": {},
   "outputs": [],
   "source": [
    "# df = pd.DataFrame(save_SVD_res_k_n(U, sigma, Vt, k, n)).transpose()\n",
    "# df.describe()"
   ]
  },
  {
   "cell_type": "markdown",
   "metadata": {},
   "source": [
    "### k=35"
   ]
  },
  {
   "cell_type": "code",
   "execution_count": 22,
   "metadata": {},
   "outputs": [],
   "source": [
    "# k=35\n",
    "# U, sigma, Vt = SVD(k)\n",
    "# U.shape, sigma.shape, Vt.shape"
   ]
  },
  {
   "cell_type": "code",
   "execution_count": 23,
   "metadata": {},
   "outputs": [],
   "source": [
    "# df = pd.DataFrame(save_SVD_res_k_n(U, sigma, Vt, k, n)).transpose()\n",
    "# df.describe()"
   ]
  },
  {
   "cell_type": "markdown",
   "metadata": {},
   "source": [
    "### k=45"
   ]
  },
  {
   "cell_type": "code",
   "execution_count": 24,
   "metadata": {},
   "outputs": [],
   "source": [
    "# k=25\n",
    "# U, sigma, Vt = SVD(k)\n",
    "# U.shape, sigma.shape, Vt.shape"
   ]
  },
  {
   "cell_type": "code",
   "execution_count": 25,
   "metadata": {},
   "outputs": [],
   "source": [
    "# df = pd.DataFrame(save_SVD_res_k_n(U, sigma, Vt, k, n)).transpose()\n",
    "# df.describe()"
   ]
  },
  {
   "cell_type": "markdown",
   "metadata": {},
   "source": [
    "### k=50"
   ]
  },
  {
   "cell_type": "code",
   "execution_count": 26,
   "metadata": {},
   "outputs": [],
   "source": [
    "n=10000"
   ]
  },
  {
   "cell_type": "code",
   "execution_count": 27,
   "metadata": {},
   "outputs": [],
   "source": [
    "# k=50\n",
    "# U, sigma, Vt = SVD(k)\n",
    "# df = pd.DataFrame(save_SVD_res_k_n(U, sigma, Vt, k, n)).transpose()\n",
    "# df.describe()"
   ]
  },
  {
   "cell_type": "markdown",
   "metadata": {},
   "source": [
    "### k=100"
   ]
  },
  {
   "cell_type": "code",
   "execution_count": 28,
   "metadata": {},
   "outputs": [],
   "source": [
    "# k=100\n",
    "# n=10000\n",
    "# U, sigma, Vt = SVD(k)\n",
    "# df = pd.DataFrame(save_SVD_res_k_n(U, sigma, Vt, k, n)).transpose()\n",
    "# df.describe()"
   ]
  }
 ],
 "metadata": {
  "kernelspec": {
   "display_name": "Python 3",
   "language": "python",
   "name": "python3"
  },
  "language_info": {
   "codemirror_mode": {
    "name": "ipython",
    "version": 3
   },
   "file_extension": ".py",
   "mimetype": "text/x-python",
   "name": "python",
   "nbconvert_exporter": "python",
   "pygments_lexer": "ipython3",
   "version": "3.8.6"
  }
 },
 "nbformat": 4,
 "nbformat_minor": 4
}
