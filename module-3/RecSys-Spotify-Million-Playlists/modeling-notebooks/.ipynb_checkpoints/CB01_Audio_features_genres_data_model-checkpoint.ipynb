{
 "cells": [
  {
   "cell_type": "markdown",
   "metadata": {},
   "source": [
    "# Conten Based filtering using audio features, album_uri and artist_uri"
   ]
  },
  {
   "cell_type": "code",
   "execution_count": 1,
   "metadata": {},
   "outputs": [],
   "source": [
    "import import_ipynb"
   ]
  },
  {
   "cell_type": "code",
   "execution_count": 2,
   "metadata": {},
   "outputs": [
    {
     "name": "stdout",
     "output_type": "stream",
     "text": [
      "importing Jupyter notebook from evaluation.ipynb\n",
      "DCG = 0.5\n",
      "IDCG = 1.0\n",
      "nDCG = 0.5\n"
     ]
    }
   ],
   "source": [
    "import json\n",
    "import pandas as pd\n",
    "import matplotlib.pyplot as plt\n",
    "import seaborn as sns\n",
    "import numpy as np\n",
    "import random\n",
    "import scipy.sparse as sps\n",
    "\n",
    "from sklearn.preprocessing import normalize\n",
    "from sklearn.preprocessing import StandardScaler\n",
    "from sklearn.decomposition import PCA\n",
    "from sklearn.metrics.pairwise import cosine_similarity\n",
    "from sklearn.metrics.pairwise import linear_kernel\n",
    "from category_encoders import TargetEncoder\n",
    "from time import time\n",
    "\n",
    "import warnings\n",
    "warnings.simplefilter(action='ignore', category=FutureWarning)\n",
    "\n",
    "#own functions\n",
    "from evaluation import DCG\n",
    "from evaluation import nDCG\n",
    "from evaluation import R_Precision\n",
    "\n",
    "\n",
    "%matplotlib inline"
   ]
  },
  {
   "cell_type": "markdown",
   "metadata": {},
   "source": [
    "# Define function to look up similar items "
   ]
  },
  {
   "cell_type": "code",
   "execution_count": null,
   "metadata": {},
   "outputs": [],
   "source": [
    "with open('../data-processed/full-data/track_descriptions.json') as json_file:\n",
    "    D_desc = json.load(json_file)\n",
    "    \n",
    "D_desc['spotify:track:0UaMYEvWZi0ZqiDOoHU3YI']"
   ]
  },
  {
   "cell_type": "code",
   "execution_count": 3,
   "metadata": {},
   "outputs": [],
   "source": [
    "def similar_items(track_uri, top_n, similarity_matrix):\n",
    "    #print('seed track is not included')\n",
    "    D_rec={}\n",
    "    #time0 = time()\n",
    "    idx = D_track_uri_to_id[track_uri]\n",
    "    similarity_array = cosine_similarity(similarity_matrix[idx:idx+1,:], similarity_matrix)\n",
    "    recc_tracks = np.fliplr(similarity_array.argsort())\n",
    "    for el in recc_tracks[0][1:top_n+1]:\n",
    "        D_rec[D_track_id_to_uri[el]]=similarity_array[0][el]\n",
    "    #print(f'{time()-time0:0.2f}sec')\n",
    "    return D_rec"
   ]
  },
  {
   "cell_type": "code",
   "execution_count": 4,
   "metadata": {},
   "outputs": [],
   "source": [
    "def similar_items_with_description(track_uri, top_n, similarity_matrix):\n",
    "    print('CB audio features - first tracks returned is the seed track')\n",
    "    D_rec={}\n",
    "    time0 = time()\n",
    "    idx = D_track_uri_to_id[track_uri]\n",
    "    similarity_array = cosine_similarity(similarity_matrix[idx:idx+1,:], similarity_matrix)\n",
    "    recc_tracks = np.fliplr(similarity_array.argsort())\n",
    "    for el in recc_tracks[0][0:top_n+1]:\n",
    "        D_rec[D_track_id_to_uri[el]]=D_desc[D_track_id_to_uri[el]]\n",
    "    print(f'{time()-time0:0.2f}sec')\n",
    "    return list(D_rec.values())"
   ]
  },
  {
   "cell_type": "code",
   "execution_count": 5,
   "metadata": {},
   "outputs": [],
   "source": [
    "def similar_items_with_description_external(track_uri, top_n):\n",
    "    print('CB audio features - first tracks returned is the seed track')\n",
    "    D_rec={}\n",
    "    time0 = time()\n",
    "    idx = D_track_uri_to_id[track_uri]\n",
    "    similarity_array = cosine_similarity(X_transformed[idx:idx+1,:], X_transformed)\n",
    "    recc_tracks = np.fliplr(similarity_array.argsort())\n",
    "    for el in recc_tracks[0][0:top_n+1]:\n",
    "        D_rec[D_track_id_to_uri[el]]=D_desc[D_track_id_to_uri[el]]\n",
    "    print(f'{time()-time0:0.2f}sec')\n",
    "    return list(D_rec.values())"
   ]
  },
  {
   "cell_type": "code",
   "execution_count": 6,
   "metadata": {},
   "outputs": [],
   "source": [
    "import operator\n",
    "\n",
    "def predict_and_evaluate_top_n(pid,top_n):\n",
    "    \"\"\"\n",
    "    return\n",
    "    (1) top_n predicted track_ids\n",
    "    (2) ground_truth : track_ids in the hold_out\n",
    "    (3) R_Prec\n",
    "    \n",
    "    \"\"\"\n",
    "    train_array_track_ids = track_id_array[M[pid].toarray()[0].astype(bool)]\n",
    "    \n",
    "    D_pred={}\n",
    "    \n",
    "    topn_n_by_track = int(top_n/len(train_array_track_ids))*2\n",
    "    \n",
    "    for el in train_array_track_ids:\n",
    "        D_pred.update(similar_items(D_track_id_to_uri[el],topn_n_by_track,X_transformed))\n",
    "    \n",
    "    D_pred = dict(sorted(D_pred.items(), key=operator.itemgetter(1),reverse=True))\n",
    "    ground_truth = ev_set_arr[ev_set_arr[:,0]==pid][:,2]\n",
    "    L_pred = list(D_pred.keys())[:top_n]\n",
    "    R_Prec = R_Precision(L_pred[:len(ground_truth)],ground_truth)\n",
    "    res = [int(el in list(ground_truth)) for el in L_pred]\n",
    "    NDCG = nDCG(res)[1]\n",
    "    return L_pred, ground_truth, R_Prec, NDCG, res"
   ]
  },
  {
   "cell_type": "markdown",
   "metadata": {},
   "source": [
    "# Data transformation, PCA and merging "
   ]
  },
  {
   "cell_type": "code",
   "execution_count": 7,
   "metadata": {},
   "outputs": [],
   "source": [
    "df_merged = pd.read_csv('../data-processed/transformation-matrices/cb_df_merged.csv')"
   ]
  },
  {
   "cell_type": "code",
   "execution_count": 8,
   "metadata": {},
   "outputs": [
    {
     "data": {
      "text/plain": [
       "(1447059, 1036)"
      ]
     },
     "execution_count": 8,
     "metadata": {},
     "output_type": "execute_result"
    }
   ],
   "source": [
    "df_merged.shape"
   ]
  },
  {
   "cell_type": "code",
   "execution_count": 9,
   "metadata": {},
   "outputs": [
    {
     "data": {
      "text/html": [
       "<div>\n",
       "<style scoped>\n",
       "    .dataframe tbody tr th:only-of-type {\n",
       "        vertical-align: middle;\n",
       "    }\n",
       "\n",
       "    .dataframe tbody tr th {\n",
       "        vertical-align: top;\n",
       "    }\n",
       "\n",
       "    .dataframe thead th {\n",
       "        text-align: right;\n",
       "    }\n",
       "</style>\n",
       "<table border=\"1\" class=\"dataframe\">\n",
       "  <thead>\n",
       "    <tr style=\"text-align: right;\">\n",
       "      <th></th>\n",
       "      <th>danceability</th>\n",
       "      <th>energy</th>\n",
       "      <th>key</th>\n",
       "      <th>loudness</th>\n",
       "      <th>mode</th>\n",
       "      <th>speechiness</th>\n",
       "      <th>acousticness</th>\n",
       "      <th>instrumentalness</th>\n",
       "      <th>liveness</th>\n",
       "      <th>valence</th>\n",
       "      <th>...</th>\n",
       "      <th>pca_genre_991</th>\n",
       "      <th>pca_genre_992</th>\n",
       "      <th>pca_genre_993</th>\n",
       "      <th>pca_genre_994</th>\n",
       "      <th>pca_genre_995</th>\n",
       "      <th>pca_genre_996</th>\n",
       "      <th>pca_genre_997</th>\n",
       "      <th>pca_genre_998</th>\n",
       "      <th>pca_genre_999</th>\n",
       "      <th>pca_genre_artist_uri</th>\n",
       "    </tr>\n",
       "  </thead>\n",
       "  <tbody>\n",
       "    <tr>\n",
       "      <th>0</th>\n",
       "      <td>0.897250</td>\n",
       "      <td>-0.616004</td>\n",
       "      <td>0.488537</td>\n",
       "      <td>-0.337567</td>\n",
       "      <td>-1.377756</td>\n",
       "      <td>-0.535840</td>\n",
       "      <td>0.830192</td>\n",
       "      <td>-0.626090</td>\n",
       "      <td>-0.608544</td>\n",
       "      <td>-0.995276</td>\n",
       "      <td>...</td>\n",
       "      <td>-0.012959</td>\n",
       "      <td>-0.027508</td>\n",
       "      <td>0.003682</td>\n",
       "      <td>-0.013497</td>\n",
       "      <td>-0.018047</td>\n",
       "      <td>-0.006893</td>\n",
       "      <td>-0.026525</td>\n",
       "      <td>0.010478</td>\n",
       "      <td>-0.015831</td>\n",
       "      <td>spotify:artist:1vSHzGHsVOCrgPSCmKNimP</td>\n",
       "    </tr>\n",
       "    <tr>\n",
       "      <th>1</th>\n",
       "      <td>-2.218729</td>\n",
       "      <td>-0.540820</td>\n",
       "      <td>-0.073421</td>\n",
       "      <td>-0.574500</td>\n",
       "      <td>0.725818</td>\n",
       "      <td>-0.000277</td>\n",
       "      <td>0.974099</td>\n",
       "      <td>1.334160</td>\n",
       "      <td>-0.427320</td>\n",
       "      <td>-1.493465</td>\n",
       "      <td>...</td>\n",
       "      <td>0.000000</td>\n",
       "      <td>0.000000</td>\n",
       "      <td>0.000000</td>\n",
       "      <td>0.000000</td>\n",
       "      <td>0.000000</td>\n",
       "      <td>0.000000</td>\n",
       "      <td>0.000000</td>\n",
       "      <td>0.000000</td>\n",
       "      <td>0.000000</td>\n",
       "      <td>0</td>\n",
       "    </tr>\n",
       "    <tr>\n",
       "      <th>2</th>\n",
       "      <td>1.347035</td>\n",
       "      <td>1.158320</td>\n",
       "      <td>0.769516</td>\n",
       "      <td>0.740272</td>\n",
       "      <td>0.725818</td>\n",
       "      <td>-0.223356</td>\n",
       "      <td>-1.001042</td>\n",
       "      <td>1.983828</td>\n",
       "      <td>0.805424</td>\n",
       "      <td>0.197414</td>\n",
       "      <td>...</td>\n",
       "      <td>-0.015915</td>\n",
       "      <td>-0.009280</td>\n",
       "      <td>-0.010366</td>\n",
       "      <td>0.016623</td>\n",
       "      <td>-0.003980</td>\n",
       "      <td>-0.020958</td>\n",
       "      <td>0.030079</td>\n",
       "      <td>-0.038151</td>\n",
       "      <td>0.051228</td>\n",
       "      <td>spotify:artist:7kxOVclB0zQamtBR0syCrg</td>\n",
       "    </tr>\n",
       "    <tr>\n",
       "      <th>3</th>\n",
       "      <td>1.292844</td>\n",
       "      <td>-0.138590</td>\n",
       "      <td>-0.354400</td>\n",
       "      <td>0.443262</td>\n",
       "      <td>0.725818</td>\n",
       "      <td>-0.411715</td>\n",
       "      <td>0.993851</td>\n",
       "      <td>-0.629341</td>\n",
       "      <td>-0.777124</td>\n",
       "      <td>0.434471</td>\n",
       "      <td>...</td>\n",
       "      <td>0.023769</td>\n",
       "      <td>-0.015961</td>\n",
       "      <td>0.020897</td>\n",
       "      <td>0.018381</td>\n",
       "      <td>0.010438</td>\n",
       "      <td>0.001869</td>\n",
       "      <td>-0.006275</td>\n",
       "      <td>0.012340</td>\n",
       "      <td>-0.005278</td>\n",
       "      <td>spotify:artist:2sxmKe3CUrWnx7eoXMhOlW</td>\n",
       "    </tr>\n",
       "    <tr>\n",
       "      <th>4</th>\n",
       "      <td>0.962279</td>\n",
       "      <td>0.320027</td>\n",
       "      <td>-0.635379</td>\n",
       "      <td>0.310843</td>\n",
       "      <td>-1.377756</td>\n",
       "      <td>0.110828</td>\n",
       "      <td>-0.558085</td>\n",
       "      <td>-0.629734</td>\n",
       "      <td>-0.532682</td>\n",
       "      <td>-1.522356</td>\n",
       "      <td>...</td>\n",
       "      <td>0.000838</td>\n",
       "      <td>0.002465</td>\n",
       "      <td>0.000721</td>\n",
       "      <td>0.002336</td>\n",
       "      <td>-0.001504</td>\n",
       "      <td>-0.000857</td>\n",
       "      <td>0.000536</td>\n",
       "      <td>0.001370</td>\n",
       "      <td>0.000915</td>\n",
       "      <td>spotify:artist:6PyeXqjH8OMGnt1IOhWgrQ</td>\n",
       "    </tr>\n",
       "  </tbody>\n",
       "</table>\n",
       "<p>5 rows × 1036 columns</p>\n",
       "</div>"
      ],
      "text/plain": [
       "   danceability    energy       key  loudness      mode  speechiness  \\\n",
       "0      0.897250 -0.616004  0.488537 -0.337567 -1.377756    -0.535840   \n",
       "1     -2.218729 -0.540820 -0.073421 -0.574500  0.725818    -0.000277   \n",
       "2      1.347035  1.158320  0.769516  0.740272  0.725818    -0.223356   \n",
       "3      1.292844 -0.138590 -0.354400  0.443262  0.725818    -0.411715   \n",
       "4      0.962279  0.320027 -0.635379  0.310843 -1.377756     0.110828   \n",
       "\n",
       "   acousticness  instrumentalness  liveness   valence  ...  pca_genre_991  \\\n",
       "0      0.830192         -0.626090 -0.608544 -0.995276  ...      -0.012959   \n",
       "1      0.974099          1.334160 -0.427320 -1.493465  ...       0.000000   \n",
       "2     -1.001042          1.983828  0.805424  0.197414  ...      -0.015915   \n",
       "3      0.993851         -0.629341 -0.777124  0.434471  ...       0.023769   \n",
       "4     -0.558085         -0.629734 -0.532682 -1.522356  ...       0.000838   \n",
       "\n",
       "  pca_genre_992  pca_genre_993  pca_genre_994  pca_genre_995  pca_genre_996  \\\n",
       "0     -0.027508       0.003682      -0.013497      -0.018047      -0.006893   \n",
       "1      0.000000       0.000000       0.000000       0.000000       0.000000   \n",
       "2     -0.009280      -0.010366       0.016623      -0.003980      -0.020958   \n",
       "3     -0.015961       0.020897       0.018381       0.010438       0.001869   \n",
       "4      0.002465       0.000721       0.002336      -0.001504      -0.000857   \n",
       "\n",
       "   pca_genre_997  pca_genre_998  pca_genre_999  \\\n",
       "0      -0.026525       0.010478      -0.015831   \n",
       "1       0.000000       0.000000       0.000000   \n",
       "2       0.030079      -0.038151       0.051228   \n",
       "3      -0.006275       0.012340      -0.005278   \n",
       "4       0.000536       0.001370       0.000915   \n",
       "\n",
       "                    pca_genre_artist_uri  \n",
       "0  spotify:artist:1vSHzGHsVOCrgPSCmKNimP  \n",
       "1                                      0  \n",
       "2  spotify:artist:7kxOVclB0zQamtBR0syCrg  \n",
       "3  spotify:artist:2sxmKe3CUrWnx7eoXMhOlW  \n",
       "4  spotify:artist:6PyeXqjH8OMGnt1IOhWgrQ  \n",
       "\n",
       "[5 rows x 1036 columns]"
      ]
     },
     "execution_count": 9,
     "metadata": {},
     "output_type": "execute_result"
    }
   ],
   "source": [
    "df_merged.head()"
   ]
  },
  {
   "cell_type": "code",
   "execution_count": 13,
   "metadata": {},
   "outputs": [],
   "source": [
    "df_merged = df_merged.fillna(0)"
   ]
  },
  {
   "cell_type": "code",
   "execution_count": 14,
   "metadata": {},
   "outputs": [
    {
     "ename": "MemoryError",
     "evalue": "Unable to allocate 11.1 GiB for an array with shape (1034, 1447059) and data type object",
     "output_type": "error",
     "traceback": [
      "\u001b[1;31m---------------------------------------------------------------------------\u001b[0m",
      "\u001b[1;31mMemoryError\u001b[0m                               Traceback (most recent call last)",
      "\u001b[1;32m<ipython-input-14-d31eddf08f9a>\u001b[0m in \u001b[0;36m<module>\u001b[1;34m\u001b[0m\n\u001b[1;32m----> 1\u001b[1;33m \u001b[0mX_transformed\u001b[0m \u001b[1;33m=\u001b[0m \u001b[0mdf_merged\u001b[0m\u001b[1;33m.\u001b[0m\u001b[0mdrop\u001b[0m\u001b[1;33m(\u001b[0m\u001b[0mcolumns\u001b[0m\u001b[1;33m=\u001b[0m\u001b[1;33m[\u001b[0m\u001b[1;34m'artist_uri'\u001b[0m\u001b[1;33m,\u001b[0m\u001b[1;34m'album_uri'\u001b[0m\u001b[1;33m]\u001b[0m\u001b[1;33m)\u001b[0m\u001b[1;33m.\u001b[0m\u001b[0mto_numpy\u001b[0m\u001b[1;33m(\u001b[0m\u001b[1;33m)\u001b[0m\u001b[1;33m\u001b[0m\u001b[1;33m\u001b[0m\u001b[0m\n\u001b[0m",
      "\u001b[1;32m~\\Anaconda3\\lib\\site-packages\\pandas\\core\\frame.py\u001b[0m in \u001b[0;36mto_numpy\u001b[1;34m(self, dtype, copy, na_value)\u001b[0m\n\u001b[0;32m   1369\u001b[0m         \"\"\"\n\u001b[0;32m   1370\u001b[0m         \u001b[0mself\u001b[0m\u001b[1;33m.\u001b[0m\u001b[0m_consolidate_inplace\u001b[0m\u001b[1;33m(\u001b[0m\u001b[1;33m)\u001b[0m\u001b[1;33m\u001b[0m\u001b[1;33m\u001b[0m\u001b[0m\n\u001b[1;32m-> 1371\u001b[1;33m         result = self._mgr.as_array(\n\u001b[0m\u001b[0;32m   1372\u001b[0m             \u001b[0mtranspose\u001b[0m\u001b[1;33m=\u001b[0m\u001b[0mself\u001b[0m\u001b[1;33m.\u001b[0m\u001b[0m_AXIS_REVERSED\u001b[0m\u001b[1;33m,\u001b[0m \u001b[0mdtype\u001b[0m\u001b[1;33m=\u001b[0m\u001b[0mdtype\u001b[0m\u001b[1;33m,\u001b[0m \u001b[0mcopy\u001b[0m\u001b[1;33m=\u001b[0m\u001b[0mcopy\u001b[0m\u001b[1;33m,\u001b[0m \u001b[0mna_value\u001b[0m\u001b[1;33m=\u001b[0m\u001b[0mna_value\u001b[0m\u001b[1;33m\u001b[0m\u001b[1;33m\u001b[0m\u001b[0m\n\u001b[0;32m   1373\u001b[0m         )\n",
      "\u001b[1;32m~\\Anaconda3\\lib\\site-packages\\pandas\\core\\internals\\managers.py\u001b[0m in \u001b[0;36mas_array\u001b[1;34m(self, transpose, dtype, copy, na_value)\u001b[0m\n\u001b[0;32m    851\u001b[0m                     \u001b[0marr\u001b[0m \u001b[1;33m=\u001b[0m \u001b[0marr\u001b[0m\u001b[1;33m.\u001b[0m\u001b[0mastype\u001b[0m\u001b[1;33m(\u001b[0m\u001b[0mdtype\u001b[0m\u001b[1;33m,\u001b[0m \u001b[0mcopy\u001b[0m\u001b[1;33m=\u001b[0m\u001b[1;32mFalse\u001b[0m\u001b[1;33m)\u001b[0m\u001b[1;33m\u001b[0m\u001b[1;33m\u001b[0m\u001b[0m\n\u001b[0;32m    852\u001b[0m         \u001b[1;32melse\u001b[0m\u001b[1;33m:\u001b[0m\u001b[1;33m\u001b[0m\u001b[1;33m\u001b[0m\u001b[0m\n\u001b[1;32m--> 853\u001b[1;33m             \u001b[0marr\u001b[0m \u001b[1;33m=\u001b[0m \u001b[0mself\u001b[0m\u001b[1;33m.\u001b[0m\u001b[0m_interleave\u001b[0m\u001b[1;33m(\u001b[0m\u001b[0mdtype\u001b[0m\u001b[1;33m=\u001b[0m\u001b[0mdtype\u001b[0m\u001b[1;33m,\u001b[0m \u001b[0mna_value\u001b[0m\u001b[1;33m=\u001b[0m\u001b[0mna_value\u001b[0m\u001b[1;33m)\u001b[0m\u001b[1;33m\u001b[0m\u001b[1;33m\u001b[0m\u001b[0m\n\u001b[0m\u001b[0;32m    854\u001b[0m             \u001b[1;31m# The underlying data was copied within _interleave\u001b[0m\u001b[1;33m\u001b[0m\u001b[1;33m\u001b[0m\u001b[1;33m\u001b[0m\u001b[0m\n\u001b[0;32m    855\u001b[0m             \u001b[0mcopy\u001b[0m \u001b[1;33m=\u001b[0m \u001b[1;32mFalse\u001b[0m\u001b[1;33m\u001b[0m\u001b[1;33m\u001b[0m\u001b[0m\n",
      "\u001b[1;32m~\\Anaconda3\\lib\\site-packages\\pandas\\core\\internals\\managers.py\u001b[0m in \u001b[0;36m_interleave\u001b[1;34m(self, dtype, na_value)\u001b[0m\n\u001b[0;32m    880\u001b[0m             \u001b[0mdtype\u001b[0m \u001b[1;33m=\u001b[0m \u001b[1;34m\"object\"\u001b[0m\u001b[1;33m\u001b[0m\u001b[1;33m\u001b[0m\u001b[0m\n\u001b[0;32m    881\u001b[0m \u001b[1;33m\u001b[0m\u001b[0m\n\u001b[1;32m--> 882\u001b[1;33m         \u001b[0mresult\u001b[0m \u001b[1;33m=\u001b[0m \u001b[0mnp\u001b[0m\u001b[1;33m.\u001b[0m\u001b[0mempty\u001b[0m\u001b[1;33m(\u001b[0m\u001b[0mself\u001b[0m\u001b[1;33m.\u001b[0m\u001b[0mshape\u001b[0m\u001b[1;33m,\u001b[0m \u001b[0mdtype\u001b[0m\u001b[1;33m=\u001b[0m\u001b[0mdtype\u001b[0m\u001b[1;33m)\u001b[0m\u001b[1;33m\u001b[0m\u001b[1;33m\u001b[0m\u001b[0m\n\u001b[0m\u001b[0;32m    883\u001b[0m \u001b[1;33m\u001b[0m\u001b[0m\n\u001b[0;32m    884\u001b[0m         \u001b[0mitemmask\u001b[0m \u001b[1;33m=\u001b[0m \u001b[0mnp\u001b[0m\u001b[1;33m.\u001b[0m\u001b[0mzeros\u001b[0m\u001b[1;33m(\u001b[0m\u001b[0mself\u001b[0m\u001b[1;33m.\u001b[0m\u001b[0mshape\u001b[0m\u001b[1;33m[\u001b[0m\u001b[1;36m0\u001b[0m\u001b[1;33m]\u001b[0m\u001b[1;33m)\u001b[0m\u001b[1;33m\u001b[0m\u001b[1;33m\u001b[0m\u001b[0m\n",
      "\u001b[1;31mMemoryError\u001b[0m: Unable to allocate 11.1 GiB for an array with shape (1034, 1447059) and data type object"
     ]
    }
   ],
   "source": [
    "X_transformed = df_merged.drop(columns=['artist_uri','album_uri']).to_numpy()"
   ]
  },
  {
   "cell_type": "code",
   "execution_count": null,
   "metadata": {},
   "outputs": [],
   "source": [
    "X_transformed.shape"
   ]
  },
  {
   "cell_type": "markdown",
   "metadata": {},
   "source": [
    "# Find similar tracks"
   ]
  },
  {
   "cell_type": "markdown",
   "metadata": {},
   "source": [
    "<img src=\"tenor.gif\">"
   ]
  },
  {
   "cell_type": "code",
   "execution_count": null,
   "metadata": {},
   "outputs": [],
   "source": [
    "similar_items_with_description('spotify:track:3ZOEytgrvLwQaqXreDs2Jx',10,X_transformed)"
   ]
  },
  {
   "cell_type": "code",
   "execution_count": null,
   "metadata": {},
   "outputs": [],
   "source": []
  }
 ],
 "metadata": {
  "kernelspec": {
   "display_name": "Python 3",
   "language": "python",
   "name": "python3"
  },
  "language_info": {
   "codemirror_mode": {
    "name": "ipython",
    "version": 3
   },
   "file_extension": ".py",
   "mimetype": "text/x-python",
   "name": "python",
   "nbconvert_exporter": "python",
   "pygments_lexer": "ipython3",
   "version": "3.8.3"
  }
 },
 "nbformat": 4,
 "nbformat_minor": 4
}
