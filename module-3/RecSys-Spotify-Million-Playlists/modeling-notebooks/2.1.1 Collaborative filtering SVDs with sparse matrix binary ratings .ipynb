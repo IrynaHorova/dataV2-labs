{
 "cells": [
  {
   "cell_type": "markdown",
   "metadata": {},
   "source": [
    "## Matrix Factorization with SVD - BINARY RATINGS"
   ]
  },
  {
   "cell_type": "markdown",
   "metadata": {},
   "source": [
    "https://www.kaggle.com/gspmoreira/recommender-systems-in-python-101"
   ]
  },
  {
   "cell_type": "code",
   "execution_count": 1,
   "metadata": {},
   "outputs": [],
   "source": [
    "import import_ipynb"
   ]
  },
  {
   "cell_type": "code",
   "execution_count": 2,
   "metadata": {},
   "outputs": [
    {
     "name": "stdout",
     "output_type": "stream",
     "text": [
      "importing Jupyter notebook from evaluation.ipynb\n",
      "DCG = 0.5\n",
      "IDCG = 1.0\n",
      "nDCG = 0.5\n"
     ]
    }
   ],
   "source": [
    "import pandas as pd\n",
    "import scipy.sparse as sps\n",
    "import numpy as np\n",
    "from scipy.sparse.linalg import svds\n",
    "from time import time\n",
    "from evaluation import DCG\n",
    "from evaluation import nDCG\n",
    "from evaluation import R_Precision\n",
    "import random"
   ]
  },
  {
   "cell_type": "markdown",
   "metadata": {},
   "source": [
    "# Define Functions for  SVD and Predict SVD"
   ]
  },
  {
   "cell_type": "code",
   "execution_count": 3,
   "metadata": {},
   "outputs": [],
   "source": [
    "def SVD(num_factors):\n",
    "    NUMBER_OF_FACTORS_MF = num_factors\n",
    "    MATRIX =  M.asfptype()\n",
    "    U, sigma, Vt = svds(MATRIX, k = NUMBER_OF_FACTORS_MF)\n",
    "    sigma = np.diag(sigma)\n",
    "    return U, sigma, Vt"
   ]
  },
  {
   "cell_type": "code",
   "execution_count": 4,
   "metadata": {},
   "outputs": [],
   "source": [
    "def SVD_predict_and_evaluate_top_n(pid, U, sigma, Vt, top_n):\n",
    "    \"\"\"\n",
    "    return\n",
    "    (1) top_n predicted track_ids\n",
    "    (2) ground_truth : track_ids in the hold_out\n",
    "    (3) R_Prec\n",
    "    \n",
    "    \"\"\"\n",
    "    train_array_track_ids = track_id_array[M[pid].toarray()[0].astype(bool)]\n",
    "    predicted = np.dot(np.dot(U[pid,:], sigma), Vt)\n",
    "    pred = np.flipud(predicted.argsort())\n",
    "    L_pred = pred[:top_n+len(train_array_track_ids)]\n",
    "    L_pred = [el for el in L_pred if el not in train_array_track_ids]\n",
    "    L_pred = L_pred[:top_n]\n",
    "    \n",
    "    ground_truth = ev_set_arr[ev_set_arr[:,0]==pid][:,1]\n",
    "    \n",
    "    R_Prec = R_Precision(L_pred[:len(ground_truth)],ground_truth)\n",
    "    \n",
    "    res = [int(el in ground_truth) for el in L_pred]\n",
    "    \n",
    "    NDCG = nDCG(res)[1]\n",
    "    \n",
    "    return L_pred, ground_truth, R_Prec, NDCG, res"
   ]
  },
  {
   "cell_type": "code",
   "execution_count": 5,
   "metadata": {},
   "outputs": [],
   "source": [
    "def save_SVD_res_k_n(U, sigma, Vt, k = 15, n = 10):\n",
    "    \"\"\"\n",
    "    k = number of factors\n",
    "    n= number of random lists to predict\n",
    "    \"\"\"\n",
    "    time0=time()\n",
    "    RES={}\n",
    "    for i,pid in enumerate(random.sample(evaluation_pids,n)):\n",
    "        predictions=SVD_predict_and_evaluate_top_n(pid, U, sigma, Vt, 500)\n",
    "        RES[pid] = [predictions[2], predictions[3]]\n",
    "        if i%500==0:\n",
    "            print(i)\n",
    "    print(time()-time0)\n",
    "    df = pd.DataFrame(RES).transpose().reset_index()\n",
    "    df.columns=['pid','R-Precision','nDCG']\n",
    "    df['rating'] = 'binary'\n",
    "    df['model'] = f'SVD_{k}'\n",
    "    df.to_csv(f'../evaluation/SVD_binary{k}_{n}.csv', index = None)\n",
    "    return RES"
   ]
  },
  {
   "cell_type": "markdown",
   "metadata": {},
   "source": [
    "# Read Data"
   ]
  },
  {
   "cell_type": "code",
   "execution_count": 3,
   "metadata": {},
   "outputs": [],
   "source": [
    "file_path = '../data-processed/full-data/pid-track-binary-rating-train-data.csv'"
   ]
  },
  {
   "cell_type": "code",
   "execution_count": 4,
   "metadata": {},
   "outputs": [
    {
     "data": {
      "text/plain": [
       "pid               int64\n",
       "track_uri        object\n",
       "binary_rating     int64\n",
       "dtype: object"
      ]
     },
     "execution_count": 4,
     "metadata": {},
     "output_type": "execute_result"
    }
   ],
   "source": [
    "data = pd.read_csv(file_path)\n",
    "data.dtypes"
   ]
  },
  {
   "cell_type": "code",
   "execution_count": 5,
   "metadata": {},
   "outputs": [
    {
     "data": {
      "text/html": [
       "<div>\n",
       "<style scoped>\n",
       "    .dataframe tbody tr th:only-of-type {\n",
       "        vertical-align: middle;\n",
       "    }\n",
       "\n",
       "    .dataframe tbody tr th {\n",
       "        vertical-align: top;\n",
       "    }\n",
       "\n",
       "    .dataframe thead th {\n",
       "        text-align: right;\n",
       "    }\n",
       "</style>\n",
       "<table border=\"1\" class=\"dataframe\">\n",
       "  <thead>\n",
       "    <tr style=\"text-align: right;\">\n",
       "      <th></th>\n",
       "      <th>pid</th>\n",
       "      <th>track_uri</th>\n",
       "      <th>binary_rating</th>\n",
       "    </tr>\n",
       "  </thead>\n",
       "  <tbody>\n",
       "    <tr>\n",
       "      <th>0</th>\n",
       "      <td>491000</td>\n",
       "      <td>spotify:track:3giQ7393501IRNrd8iHugf</td>\n",
       "      <td>1</td>\n",
       "    </tr>\n",
       "    <tr>\n",
       "      <th>1</th>\n",
       "      <td>491000</td>\n",
       "      <td>spotify:track:3jpcVaeyNjWgjqIxAiWasz</td>\n",
       "      <td>1</td>\n",
       "    </tr>\n",
       "    <tr>\n",
       "      <th>2</th>\n",
       "      <td>491000</td>\n",
       "      <td>spotify:track:1uuqRaSJAiQ6VB8BWblXWJ</td>\n",
       "      <td>1</td>\n",
       "    </tr>\n",
       "    <tr>\n",
       "      <th>3</th>\n",
       "      <td>491000</td>\n",
       "      <td>spotify:track:7gXpcXwtmEiQzskYJmtGgk</td>\n",
       "      <td>1</td>\n",
       "    </tr>\n",
       "    <tr>\n",
       "      <th>4</th>\n",
       "      <td>491000</td>\n",
       "      <td>spotify:track:5wtIWwOtowY2howCZ7Veq2</td>\n",
       "      <td>1</td>\n",
       "    </tr>\n",
       "  </tbody>\n",
       "</table>\n",
       "</div>"
      ],
      "text/plain": [
       "      pid                             track_uri  binary_rating\n",
       "0  491000  spotify:track:3giQ7393501IRNrd8iHugf              1\n",
       "1  491000  spotify:track:3jpcVaeyNjWgjqIxAiWasz              1\n",
       "2  491000  spotify:track:1uuqRaSJAiQ6VB8BWblXWJ              1\n",
       "3  491000  spotify:track:7gXpcXwtmEiQzskYJmtGgk              1\n",
       "4  491000  spotify:track:5wtIWwOtowY2howCZ7Veq2              1"
      ]
     },
     "execution_count": 5,
     "metadata": {},
     "output_type": "execute_result"
    }
   ],
   "source": [
    "data.head()"
   ]
  },
  {
   "cell_type": "code",
   "execution_count": 6,
   "metadata": {},
   "outputs": [],
   "source": [
    "tracks = list(data.track_uri.unique())"
   ]
  },
  {
   "cell_type": "code",
   "execution_count": 7,
   "metadata": {},
   "outputs": [],
   "source": [
    "D_tracks = {}\n",
    "n=0\n",
    "for track in tracks:\n",
    "    D_tracks[track] = n\n",
    "    n+=1\n",
    "    \n",
    "D_tracks_reverse = {}\n",
    "n=0\n",
    "for k,i in D_tracks.items():\n",
    "    D_tracks_reverse[i] = k\n",
    "    \n",
    "data['track_id'] = data.track_uri.map(D_tracks)"
   ]
  },
  {
   "cell_type": "code",
   "execution_count": 15,
   "metadata": {},
   "outputs": [
    {
     "data": {
      "text/html": [
       "<div>\n",
       "<style scoped>\n",
       "    .dataframe tbody tr th:only-of-type {\n",
       "        vertical-align: middle;\n",
       "    }\n",
       "\n",
       "    .dataframe tbody tr th {\n",
       "        vertical-align: top;\n",
       "    }\n",
       "\n",
       "    .dataframe thead th {\n",
       "        text-align: right;\n",
       "    }\n",
       "</style>\n",
       "<table border=\"1\" class=\"dataframe\">\n",
       "  <thead>\n",
       "    <tr style=\"text-align: right;\">\n",
       "      <th></th>\n",
       "      <th>pid</th>\n",
       "      <th>track_uri</th>\n",
       "      <th>binary_rating</th>\n",
       "      <th>track_id</th>\n",
       "    </tr>\n",
       "  </thead>\n",
       "  <tbody>\n",
       "    <tr>\n",
       "      <th>0</th>\n",
       "      <td>491000</td>\n",
       "      <td>spotify:track:3giQ7393501IRNrd8iHugf</td>\n",
       "      <td>1</td>\n",
       "      <td>0</td>\n",
       "    </tr>\n",
       "    <tr>\n",
       "      <th>1</th>\n",
       "      <td>491000</td>\n",
       "      <td>spotify:track:3jpcVaeyNjWgjqIxAiWasz</td>\n",
       "      <td>1</td>\n",
       "      <td>1</td>\n",
       "    </tr>\n",
       "    <tr>\n",
       "      <th>2</th>\n",
       "      <td>491000</td>\n",
       "      <td>spotify:track:1uuqRaSJAiQ6VB8BWblXWJ</td>\n",
       "      <td>1</td>\n",
       "      <td>2</td>\n",
       "    </tr>\n",
       "    <tr>\n",
       "      <th>3</th>\n",
       "      <td>491000</td>\n",
       "      <td>spotify:track:7gXpcXwtmEiQzskYJmtGgk</td>\n",
       "      <td>1</td>\n",
       "      <td>3</td>\n",
       "    </tr>\n",
       "    <tr>\n",
       "      <th>4</th>\n",
       "      <td>491000</td>\n",
       "      <td>spotify:track:5wtIWwOtowY2howCZ7Veq2</td>\n",
       "      <td>1</td>\n",
       "      <td>4</td>\n",
       "    </tr>\n",
       "  </tbody>\n",
       "</table>\n",
       "</div>"
      ],
      "text/plain": [
       "      pid                             track_uri  binary_rating  track_id\n",
       "0  491000  spotify:track:3giQ7393501IRNrd8iHugf              1         0\n",
       "1  491000  spotify:track:3jpcVaeyNjWgjqIxAiWasz              1         1\n",
       "2  491000  spotify:track:1uuqRaSJAiQ6VB8BWblXWJ              1         2\n",
       "3  491000  spotify:track:7gXpcXwtmEiQzskYJmtGgk              1         3\n",
       "4  491000  spotify:track:5wtIWwOtowY2howCZ7Veq2              1         4"
      ]
     },
     "execution_count": 15,
     "metadata": {},
     "output_type": "execute_result"
    }
   ],
   "source": [
    "data.head()"
   ]
  },
  {
   "cell_type": "code",
   "execution_count": 9,
   "metadata": {},
   "outputs": [
    {
     "data": {
      "text/plain": [
       "pid               int64\n",
       "track_uri        object\n",
       "binary_rating     int64\n",
       "track_id          int64\n",
       "dtype: object"
      ]
     },
     "execution_count": 9,
     "metadata": {},
     "output_type": "execute_result"
    }
   ],
   "source": [
    "data.dtypes"
   ]
  },
  {
   "cell_type": "code",
   "execution_count": 10,
   "metadata": {},
   "outputs": [],
   "source": [
    "evaluation_set = pd.read_csv('../data-processed/full-data/evaluation-pids-ground-truth.csv')\n",
    "evaluation_set['track_id'] = evaluation_set['track_uri'].map(D_tracks)"
   ]
  },
  {
   "cell_type": "code",
   "execution_count": 11,
   "metadata": {},
   "outputs": [
    {
     "data": {
      "text/html": [
       "<div>\n",
       "<style scoped>\n",
       "    .dataframe tbody tr th:only-of-type {\n",
       "        vertical-align: middle;\n",
       "    }\n",
       "\n",
       "    .dataframe tbody tr th {\n",
       "        vertical-align: top;\n",
       "    }\n",
       "\n",
       "    .dataframe thead th {\n",
       "        text-align: right;\n",
       "    }\n",
       "</style>\n",
       "<table border=\"1\" class=\"dataframe\">\n",
       "  <thead>\n",
       "    <tr style=\"text-align: right;\">\n",
       "      <th></th>\n",
       "      <th>pid</th>\n",
       "      <th>track_id</th>\n",
       "      <th>hold_out</th>\n",
       "    </tr>\n",
       "  </thead>\n",
       "  <tbody>\n",
       "    <tr>\n",
       "      <th>38</th>\n",
       "      <td>491004</td>\n",
       "      <td>5309</td>\n",
       "      <td>1</td>\n",
       "    </tr>\n",
       "    <tr>\n",
       "      <th>39</th>\n",
       "      <td>491004</td>\n",
       "      <td>36994</td>\n",
       "      <td>1</td>\n",
       "    </tr>\n",
       "    <tr>\n",
       "      <th>40</th>\n",
       "      <td>491004</td>\n",
       "      <td>29707</td>\n",
       "      <td>1</td>\n",
       "    </tr>\n",
       "    <tr>\n",
       "      <th>41</th>\n",
       "      <td>491004</td>\n",
       "      <td>100247</td>\n",
       "      <td>1</td>\n",
       "    </tr>\n",
       "    <tr>\n",
       "      <th>42</th>\n",
       "      <td>491004</td>\n",
       "      <td>5326</td>\n",
       "      <td>1</td>\n",
       "    </tr>\n",
       "  </tbody>\n",
       "</table>\n",
       "</div>"
      ],
      "text/plain": [
       "       pid  track_id  hold_out\n",
       "38  491004      5309         1\n",
       "39  491004     36994         1\n",
       "40  491004     29707         1\n",
       "41  491004    100247         1\n",
       "42  491004      5326         1"
      ]
     },
     "execution_count": 11,
     "metadata": {},
     "output_type": "execute_result"
    }
   ],
   "source": [
    "ev_set = evaluation_set[evaluation_set['hold_out'] == 1][['pid','track_id','hold_out']]\n",
    "ev_set = ev_set[ev_set.track_id.isnull()==False]\n",
    "evaluation_pids = list(ev_set.pid.unique())\n",
    "ev_set.track_id = ev_set.track_id.astype(int)"
   ]
  },
  {
   "cell_type": "code",
   "execution_count": 12,
   "metadata": {},
   "outputs": [],
   "source": [
    "ev_set_arr = ev_set.to_numpy()"
   ]
  },
  {
   "cell_type": "markdown",
   "metadata": {},
   "source": [
    "# Define sparce matrix"
   ]
  },
  {
   "cell_type": "code",
   "execution_count": 13,
   "metadata": {},
   "outputs": [],
   "source": [
    "M = sps.csr_matrix((data.binary_rating, (data.pid, data.track_id)))"
   ]
  },
  {
   "cell_type": "code",
   "execution_count": 14,
   "metadata": {},
   "outputs": [
    {
     "data": {
      "text/plain": [
       "1996586"
      ]
     },
     "execution_count": 14,
     "metadata": {},
     "output_type": "execute_result"
    }
   ],
   "source": [
    "M.shape[1]"
   ]
  },
  {
   "cell_type": "code",
   "execution_count": 28,
   "metadata": {},
   "outputs": [
    {
     "data": {
      "text/html": [
       "<div>\n",
       "<style scoped>\n",
       "    .dataframe tbody tr th:only-of-type {\n",
       "        vertical-align: middle;\n",
       "    }\n",
       "\n",
       "    .dataframe tbody tr th {\n",
       "        vertical-align: top;\n",
       "    }\n",
       "\n",
       "    .dataframe thead th {\n",
       "        text-align: right;\n",
       "    }\n",
       "</style>\n",
       "<table border=\"1\" class=\"dataframe\">\n",
       "  <thead>\n",
       "    <tr style=\"text-align: right;\">\n",
       "      <th></th>\n",
       "      <th>pid</th>\n",
       "      <th>track_uri</th>\n",
       "      <th>binary_rating</th>\n",
       "      <th>track_id</th>\n",
       "    </tr>\n",
       "  </thead>\n",
       "  <tbody>\n",
       "    <tr>\n",
       "      <th>46431809</th>\n",
       "      <td>491004</td>\n",
       "      <td>spotify:track:5dNfHmqgr128gMY2tc5CeJ</td>\n",
       "      <td>1</td>\n",
       "      <td>1995</td>\n",
       "    </tr>\n",
       "    <tr>\n",
       "      <th>46431810</th>\n",
       "      <td>491004</td>\n",
       "      <td>spotify:track:557un1HgwYMuqfWGSTmnxw</td>\n",
       "      <td>1</td>\n",
       "      <td>12843</td>\n",
       "    </tr>\n",
       "    <tr>\n",
       "      <th>46431811</th>\n",
       "      <td>491004</td>\n",
       "      <td>spotify:track:6Ms01Gqi8gVBs14YrNUlVZ</td>\n",
       "      <td>1</td>\n",
       "      <td>18421</td>\n",
       "    </tr>\n",
       "    <tr>\n",
       "      <th>46431812</th>\n",
       "      <td>491004</td>\n",
       "      <td>spotify:track:7J41dYQolQJEtj3UmKLu5r</td>\n",
       "      <td>1</td>\n",
       "      <td>8630</td>\n",
       "    </tr>\n",
       "    <tr>\n",
       "      <th>46431813</th>\n",
       "      <td>491004</td>\n",
       "      <td>spotify:track:6LGwYMXXgURfaequXipzHx</td>\n",
       "      <td>1</td>\n",
       "      <td>51325</td>\n",
       "    </tr>\n",
       "    <tr>\n",
       "      <th>46431814</th>\n",
       "      <td>491004</td>\n",
       "      <td>spotify:track:6LP7JgOQ39cMs6oB8U0nNM</td>\n",
       "      <td>1</td>\n",
       "      <td>13237</td>\n",
       "    </tr>\n",
       "    <tr>\n",
       "      <th>46431815</th>\n",
       "      <td>491004</td>\n",
       "      <td>spotify:track:2YegxR5As7BeQuVp2U6pek</td>\n",
       "      <td>1</td>\n",
       "      <td>7964</td>\n",
       "    </tr>\n",
       "    <tr>\n",
       "      <th>46431816</th>\n",
       "      <td>491004</td>\n",
       "      <td>spotify:track:3AYcyxEACnmE6d96RPubID</td>\n",
       "      <td>1</td>\n",
       "      <td>2004</td>\n",
       "    </tr>\n",
       "    <tr>\n",
       "      <th>46431817</th>\n",
       "      <td>491004</td>\n",
       "      <td>spotify:track:1KGi9sZVMeszgZOWivFpxs</td>\n",
       "      <td>1</td>\n",
       "      <td>990</td>\n",
       "    </tr>\n",
       "    <tr>\n",
       "      <th>46431818</th>\n",
       "      <td>491004</td>\n",
       "      <td>spotify:track:7nYvUtkQMx1v80S2FH2s9J</td>\n",
       "      <td>1</td>\n",
       "      <td>1018</td>\n",
       "    </tr>\n",
       "    <tr>\n",
       "      <th>46431819</th>\n",
       "      <td>491004</td>\n",
       "      <td>spotify:track:48td6xvpokdYwvbl3JIiXP</td>\n",
       "      <td>1</td>\n",
       "      <td>2016</td>\n",
       "    </tr>\n",
       "    <tr>\n",
       "      <th>46431820</th>\n",
       "      <td>491004</td>\n",
       "      <td>spotify:track:55ZpBGSn0vL0VC6fcHwCDc</td>\n",
       "      <td>1</td>\n",
       "      <td>50267</td>\n",
       "    </tr>\n",
       "    <tr>\n",
       "      <th>46431821</th>\n",
       "      <td>491004</td>\n",
       "      <td>spotify:track:49GYdiLjYMrUKr7H5YXHto</td>\n",
       "      <td>1</td>\n",
       "      <td>53344</td>\n",
       "    </tr>\n",
       "    <tr>\n",
       "      <th>46431822</th>\n",
       "      <td>491004</td>\n",
       "      <td>spotify:track:0LWQWOFoz5GJLqcHk1fRO2</td>\n",
       "      <td>1</td>\n",
       "      <td>2838</td>\n",
       "    </tr>\n",
       "    <tr>\n",
       "      <th>46431823</th>\n",
       "      <td>491004</td>\n",
       "      <td>spotify:track:2g8HN35AnVGIk7B8yMucww</td>\n",
       "      <td>1</td>\n",
       "      <td>4616</td>\n",
       "    </tr>\n",
       "    <tr>\n",
       "      <th>46431824</th>\n",
       "      <td>491004</td>\n",
       "      <td>spotify:track:0WKYRFtH6KKbaNWjsxqm70</td>\n",
       "      <td>1</td>\n",
       "      <td>958</td>\n",
       "    </tr>\n",
       "    <tr>\n",
       "      <th>46431825</th>\n",
       "      <td>491004</td>\n",
       "      <td>spotify:track:5PMKzsUsTpZZGsCcJBuhP2</td>\n",
       "      <td>1</td>\n",
       "      <td>35122</td>\n",
       "    </tr>\n",
       "    <tr>\n",
       "      <th>46431826</th>\n",
       "      <td>491004</td>\n",
       "      <td>spotify:track:7qtAgn9mwxygsPOsUDVRRt</td>\n",
       "      <td>1</td>\n",
       "      <td>14305</td>\n",
       "    </tr>\n",
       "    <tr>\n",
       "      <th>46431827</th>\n",
       "      <td>491004</td>\n",
       "      <td>spotify:track:2CtCwQhY0ZLvr8L2l8Bo6e</td>\n",
       "      <td>1</td>\n",
       "      <td>19873</td>\n",
       "    </tr>\n",
       "    <tr>\n",
       "      <th>46431828</th>\n",
       "      <td>491004</td>\n",
       "      <td>spotify:track:5bJ796cOnGBzSN5bm4mwMj</td>\n",
       "      <td>1</td>\n",
       "      <td>41085</td>\n",
       "    </tr>\n",
       "    <tr>\n",
       "      <th>46431829</th>\n",
       "      <td>491004</td>\n",
       "      <td>spotify:track:5EJBxxppXkKD6uMtFQS7b8</td>\n",
       "      <td>1</td>\n",
       "      <td>61604</td>\n",
       "    </tr>\n",
       "    <tr>\n",
       "      <th>46431830</th>\n",
       "      <td>491004</td>\n",
       "      <td>spotify:track:29LHe8kG3PraghUZOZYsw4</td>\n",
       "      <td>1</td>\n",
       "      <td>14297</td>\n",
       "    </tr>\n",
       "    <tr>\n",
       "      <th>46431831</th>\n",
       "      <td>491004</td>\n",
       "      <td>spotify:track:0jsANwwkkHyyeNyuTFq2XO</td>\n",
       "      <td>1</td>\n",
       "      <td>16133</td>\n",
       "    </tr>\n",
       "    <tr>\n",
       "      <th>46431832</th>\n",
       "      <td>491004</td>\n",
       "      <td>spotify:track:7lrAsaTw9CTh5uSr0fvHOd</td>\n",
       "      <td>1</td>\n",
       "      <td>81813</td>\n",
       "    </tr>\n",
       "    <tr>\n",
       "      <th>46431833</th>\n",
       "      <td>491004</td>\n",
       "      <td>spotify:track:1pLdjo3lOBbMaoR4ZpybFH</td>\n",
       "      <td>1</td>\n",
       "      <td>48911</td>\n",
       "    </tr>\n",
       "    <tr>\n",
       "      <th>46431834</th>\n",
       "      <td>491004</td>\n",
       "      <td>spotify:track:4gFXY5yvHayGckJndafYQE</td>\n",
       "      <td>1</td>\n",
       "      <td>6444</td>\n",
       "    </tr>\n",
       "    <tr>\n",
       "      <th>46431835</th>\n",
       "      <td>491004</td>\n",
       "      <td>spotify:track:2U5NrHirVZusBLQlohTbnZ</td>\n",
       "      <td>1</td>\n",
       "      <td>17306</td>\n",
       "    </tr>\n",
       "    <tr>\n",
       "      <th>46431836</th>\n",
       "      <td>491004</td>\n",
       "      <td>spotify:track:0hRPRbA2B1CYmGNhWhFjwF</td>\n",
       "      <td>1</td>\n",
       "      <td>21963</td>\n",
       "    </tr>\n",
       "    <tr>\n",
       "      <th>46431837</th>\n",
       "      <td>491004</td>\n",
       "      <td>spotify:track:4V2F0DZrAXOWq9hkwMMG3x</td>\n",
       "      <td>1</td>\n",
       "      <td>21898</td>\n",
       "    </tr>\n",
       "    <tr>\n",
       "      <th>46431838</th>\n",
       "      <td>491004</td>\n",
       "      <td>spotify:track:7gKIt3rDGIMJDFVSPBnGmj</td>\n",
       "      <td>1</td>\n",
       "      <td>3482</td>\n",
       "    </tr>\n",
       "    <tr>\n",
       "      <th>46431839</th>\n",
       "      <td>491004</td>\n",
       "      <td>spotify:track:3N5oiETJEStSB71TjTFkWV</td>\n",
       "      <td>1</td>\n",
       "      <td>829</td>\n",
       "    </tr>\n",
       "    <tr>\n",
       "      <th>46431840</th>\n",
       "      <td>491004</td>\n",
       "      <td>spotify:track:2NBQmPrOEEjA8VbeWOQGxO</td>\n",
       "      <td>1</td>\n",
       "      <td>2006</td>\n",
       "    </tr>\n",
       "    <tr>\n",
       "      <th>46431841</th>\n",
       "      <td>491004</td>\n",
       "      <td>spotify:track:6UaRii9AH6Zss9xNMEQ2M9</td>\n",
       "      <td>1</td>\n",
       "      <td>4219</td>\n",
       "    </tr>\n",
       "    <tr>\n",
       "      <th>46431842</th>\n",
       "      <td>491004</td>\n",
       "      <td>spotify:track:1yy2DlSDtEt90d54rPDPXz</td>\n",
       "      <td>1</td>\n",
       "      <td>6697</td>\n",
       "    </tr>\n",
       "    <tr>\n",
       "      <th>46431843</th>\n",
       "      <td>491004</td>\n",
       "      <td>spotify:track:1KONmY3enP3r3nIPQidWAy</td>\n",
       "      <td>1</td>\n",
       "      <td>10922</td>\n",
       "    </tr>\n",
       "    <tr>\n",
       "      <th>46431844</th>\n",
       "      <td>491004</td>\n",
       "      <td>spotify:track:1V2VKI1jmkpdwkLeBgwQhN</td>\n",
       "      <td>1</td>\n",
       "      <td>379298</td>\n",
       "    </tr>\n",
       "    <tr>\n",
       "      <th>46431845</th>\n",
       "      <td>491004</td>\n",
       "      <td>spotify:track:0Zze3tFRSNwL6KllmYjLgZ</td>\n",
       "      <td>1</td>\n",
       "      <td>77539</td>\n",
       "    </tr>\n",
       "    <tr>\n",
       "      <th>46431846</th>\n",
       "      <td>491004</td>\n",
       "      <td>spotify:track:6rbhWExtuchhpLC5fHnB8n</td>\n",
       "      <td>1</td>\n",
       "      <td>11220</td>\n",
       "    </tr>\n",
       "  </tbody>\n",
       "</table>\n",
       "</div>"
      ],
      "text/plain": [
       "             pid                             track_uri  binary_rating  \\\n",
       "46431809  491004  spotify:track:5dNfHmqgr128gMY2tc5CeJ              1   \n",
       "46431810  491004  spotify:track:557un1HgwYMuqfWGSTmnxw              1   \n",
       "46431811  491004  spotify:track:6Ms01Gqi8gVBs14YrNUlVZ              1   \n",
       "46431812  491004  spotify:track:7J41dYQolQJEtj3UmKLu5r              1   \n",
       "46431813  491004  spotify:track:6LGwYMXXgURfaequXipzHx              1   \n",
       "46431814  491004  spotify:track:6LP7JgOQ39cMs6oB8U0nNM              1   \n",
       "46431815  491004  spotify:track:2YegxR5As7BeQuVp2U6pek              1   \n",
       "46431816  491004  spotify:track:3AYcyxEACnmE6d96RPubID              1   \n",
       "46431817  491004  spotify:track:1KGi9sZVMeszgZOWivFpxs              1   \n",
       "46431818  491004  spotify:track:7nYvUtkQMx1v80S2FH2s9J              1   \n",
       "46431819  491004  spotify:track:48td6xvpokdYwvbl3JIiXP              1   \n",
       "46431820  491004  spotify:track:55ZpBGSn0vL0VC6fcHwCDc              1   \n",
       "46431821  491004  spotify:track:49GYdiLjYMrUKr7H5YXHto              1   \n",
       "46431822  491004  spotify:track:0LWQWOFoz5GJLqcHk1fRO2              1   \n",
       "46431823  491004  spotify:track:2g8HN35AnVGIk7B8yMucww              1   \n",
       "46431824  491004  spotify:track:0WKYRFtH6KKbaNWjsxqm70              1   \n",
       "46431825  491004  spotify:track:5PMKzsUsTpZZGsCcJBuhP2              1   \n",
       "46431826  491004  spotify:track:7qtAgn9mwxygsPOsUDVRRt              1   \n",
       "46431827  491004  spotify:track:2CtCwQhY0ZLvr8L2l8Bo6e              1   \n",
       "46431828  491004  spotify:track:5bJ796cOnGBzSN5bm4mwMj              1   \n",
       "46431829  491004  spotify:track:5EJBxxppXkKD6uMtFQS7b8              1   \n",
       "46431830  491004  spotify:track:29LHe8kG3PraghUZOZYsw4              1   \n",
       "46431831  491004  spotify:track:0jsANwwkkHyyeNyuTFq2XO              1   \n",
       "46431832  491004  spotify:track:7lrAsaTw9CTh5uSr0fvHOd              1   \n",
       "46431833  491004  spotify:track:1pLdjo3lOBbMaoR4ZpybFH              1   \n",
       "46431834  491004  spotify:track:4gFXY5yvHayGckJndafYQE              1   \n",
       "46431835  491004  spotify:track:2U5NrHirVZusBLQlohTbnZ              1   \n",
       "46431836  491004  spotify:track:0hRPRbA2B1CYmGNhWhFjwF              1   \n",
       "46431837  491004  spotify:track:4V2F0DZrAXOWq9hkwMMG3x              1   \n",
       "46431838  491004  spotify:track:7gKIt3rDGIMJDFVSPBnGmj              1   \n",
       "46431839  491004  spotify:track:3N5oiETJEStSB71TjTFkWV              1   \n",
       "46431840  491004  spotify:track:2NBQmPrOEEjA8VbeWOQGxO              1   \n",
       "46431841  491004  spotify:track:6UaRii9AH6Zss9xNMEQ2M9              1   \n",
       "46431842  491004  spotify:track:1yy2DlSDtEt90d54rPDPXz              1   \n",
       "46431843  491004  spotify:track:1KONmY3enP3r3nIPQidWAy              1   \n",
       "46431844  491004  spotify:track:1V2VKI1jmkpdwkLeBgwQhN              1   \n",
       "46431845  491004  spotify:track:0Zze3tFRSNwL6KllmYjLgZ              1   \n",
       "46431846  491004  spotify:track:6rbhWExtuchhpLC5fHnB8n              1   \n",
       "\n",
       "          track_id  \n",
       "46431809      1995  \n",
       "46431810     12843  \n",
       "46431811     18421  \n",
       "46431812      8630  \n",
       "46431813     51325  \n",
       "46431814     13237  \n",
       "46431815      7964  \n",
       "46431816      2004  \n",
       "46431817       990  \n",
       "46431818      1018  \n",
       "46431819      2016  \n",
       "46431820     50267  \n",
       "46431821     53344  \n",
       "46431822      2838  \n",
       "46431823      4616  \n",
       "46431824       958  \n",
       "46431825     35122  \n",
       "46431826     14305  \n",
       "46431827     19873  \n",
       "46431828     41085  \n",
       "46431829     61604  \n",
       "46431830     14297  \n",
       "46431831     16133  \n",
       "46431832     81813  \n",
       "46431833     48911  \n",
       "46431834      6444  \n",
       "46431835     17306  \n",
       "46431836     21963  \n",
       "46431837     21898  \n",
       "46431838      3482  \n",
       "46431839       829  \n",
       "46431840      2006  \n",
       "46431841      4219  \n",
       "46431842      6697  \n",
       "46431843     10922  \n",
       "46431844    379298  \n",
       "46431845     77539  \n",
       "46431846     11220  "
      ]
     },
     "execution_count": 28,
     "metadata": {},
     "output_type": "execute_result"
    }
   ],
   "source": [
    "data[data['pid'] == 491004]"
   ]
  },
  {
   "cell_type": "code",
   "execution_count": 27,
   "metadata": {},
   "outputs": [
    {
     "data": {
      "text/plain": [
       "array([[0, 0, 0, ..., 0, 0, 0]], dtype=int64)"
      ]
     },
     "execution_count": 27,
     "metadata": {},
     "output_type": "execute_result"
    }
   ],
   "source": [
    "M[491004].toarray()"
   ]
  },
  {
   "cell_type": "markdown",
   "metadata": {},
   "source": [
    "# Train - Predict - Evaluate"
   ]
  },
  {
   "cell_type": "code",
   "execution_count": 18,
   "metadata": {},
   "outputs": [],
   "source": [
    "track_id_array = np.arange(M.shape[1])"
   ]
  },
  {
   "cell_type": "code",
   "execution_count": 19,
   "metadata": {},
   "outputs": [],
   "source": [
    "n=1000"
   ]
  },
  {
   "cell_type": "markdown",
   "metadata": {},
   "source": [
    "### k=15"
   ]
  },
  {
   "cell_type": "code",
   "execution_count": 20,
   "metadata": {},
   "outputs": [],
   "source": [
    "# k=15\n",
    "# U, sigma, Vt = SVD(k)\n",
    "# U.shape, sigma.shape, Vt.shape"
   ]
  },
  {
   "cell_type": "code",
   "execution_count": 21,
   "metadata": {},
   "outputs": [],
   "source": [
    "# df = pd.DataFrame(save_SVD_res_k_n(U, sigma, Vt, k, n)).transpose()\n",
    "# df.describe()"
   ]
  },
  {
   "cell_type": "markdown",
   "metadata": {},
   "source": [
    "### k=25"
   ]
  },
  {
   "cell_type": "code",
   "execution_count": 22,
   "metadata": {},
   "outputs": [],
   "source": [
    "# k=25\n",
    "# U, sigma, Vt = SVD(k)\n",
    "# U.shape, sigma.shape, Vt.shape"
   ]
  },
  {
   "cell_type": "code",
   "execution_count": 23,
   "metadata": {},
   "outputs": [],
   "source": [
    "# df = pd.DataFrame(save_SVD_res_k_n(U, sigma, Vt, k, n)).transpose()\n",
    "# df.describe()"
   ]
  },
  {
   "cell_type": "markdown",
   "metadata": {},
   "source": [
    "### k=35"
   ]
  },
  {
   "cell_type": "code",
   "execution_count": 24,
   "metadata": {},
   "outputs": [],
   "source": [
    "# k=35\n",
    "# U, sigma, Vt = SVD(k)\n",
    "# U.shape, sigma.shape, Vt.shape"
   ]
  },
  {
   "cell_type": "code",
   "execution_count": 25,
   "metadata": {},
   "outputs": [],
   "source": [
    "# df = pd.DataFrame(save_SVD_res_k_n(U, sigma, Vt, k, n)).transpose()\n",
    "# df.describe()"
   ]
  },
  {
   "cell_type": "markdown",
   "metadata": {},
   "source": [
    "### k=45"
   ]
  },
  {
   "cell_type": "code",
   "execution_count": 26,
   "metadata": {},
   "outputs": [],
   "source": [
    "# k=45\n",
    "# U, sigma, Vt = SVD(k)\n",
    "# U.shape, sigma.shape, Vt.shape"
   ]
  },
  {
   "cell_type": "code",
   "execution_count": 27,
   "metadata": {},
   "outputs": [],
   "source": [
    "# df = pd.DataFrame(save_SVD_res_k_n(U, sigma, Vt, k, n)).transpose()\n",
    "# df.describe()"
   ]
  },
  {
   "cell_type": "markdown",
   "metadata": {},
   "source": [
    "# k=50"
   ]
  },
  {
   "cell_type": "code",
   "execution_count": 28,
   "metadata": {},
   "outputs": [],
   "source": [
    "# k=50\n",
    "# U, sigma, Vt = SVD(k)\n",
    "# save=save_SVD_res_k_n(U, sigma, Vt, k, n)\n",
    "# df = pd.DataFrame(save[0]).transpose()\n",
    "# df.describe()"
   ]
  },
  {
   "cell_type": "markdown",
   "metadata": {},
   "source": [
    "## k=75"
   ]
  },
  {
   "cell_type": "code",
   "execution_count": null,
   "metadata": {},
   "outputs": [
    {
     "name": "stdout",
     "output_type": "stream",
     "text": [
      "0\n"
     ]
    }
   ],
   "source": [
    "k=75\n",
    "n=10000\n",
    "U, sigma, Vt = SVD(k)\n",
    "df = pd.DataFrame(save_SVD_res_k_n(U, sigma, Vt, k, n)).transpose()\n",
    "df.describe()"
   ]
  }
 ],
 "metadata": {
  "kernelspec": {
   "display_name": "Python 3",
   "language": "python",
   "name": "python3"
  },
  "language_info": {
   "codemirror_mode": {
    "name": "ipython",
    "version": 3
   },
   "file_extension": ".py",
   "mimetype": "text/x-python",
   "name": "python",
   "nbconvert_exporter": "python",
   "pygments_lexer": "ipython3",
   "version": "3.8.3"
  }
 },
 "nbformat": 4,
 "nbformat_minor": 4
}
