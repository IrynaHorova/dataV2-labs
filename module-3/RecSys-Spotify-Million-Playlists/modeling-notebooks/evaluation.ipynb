{
 "cells": [
  {
   "cell_type": "code",
   "execution_count": 1,
   "metadata": {},
   "outputs": [],
   "source": [
    "import numpy as np "
   ]
  },
  {
   "cell_type": "code",
   "execution_count": 2,
   "metadata": {},
   "outputs": [],
   "source": [
    "def DCG(result):\n",
    "    dcg = []\n",
    "    for idx, val in enumerate(result): \n",
    "        numerator = 2**val - 1\n",
    "        # add 2 because python 0-index\n",
    "        denominator =  np.log2(idx + 2) \n",
    "        score = numerator/denominator\n",
    "        dcg.append(score)\n",
    "    return sum(dcg)"
   ]
  },
  {
   "cell_type": "code",
   "execution_count": 3,
   "metadata": {},
   "outputs": [],
   "source": [
    "def nDCG(result):\n",
    "    sorted_result = sorted(result, reverse=True)\n",
    "    dcg = DCG(result)\n",
    "    idcg = DCG(sorted_result)\n",
    "    if idcg==0:\n",
    "        ndcg = 0.00\n",
    "    else:\n",
    "        ndcg = dcg / idcg\n",
    "    return idcg, ndcg"
   ]
  },
  {
   "cell_type": "code",
   "execution_count": 4,
   "metadata": {},
   "outputs": [],
   "source": [
    "def R_Precision(result, ground_truth):\n",
    "    if len(ground_truth) == 0:\n",
    "        return 0\n",
    "    else:\n",
    "        return len(set(result).intersection(ground_truth))/len(ground_truth)"
   ]
  },
  {
   "cell_type": "code",
   "execution_count": 10,
   "metadata": {},
   "outputs": [
    {
     "name": "stdout",
     "output_type": "stream",
     "text": [
      "DCG = 0.5\n",
      "IDCG = 1.0\n",
      "nDCG = 0.5\n"
     ]
    }
   ],
   "source": [
    "#result = list(np.random.randint(0, 2, size=500))\n",
    "result=[0,0,1]\n",
    "true = list(np.random.randint(1, 2, size=500))\n",
    "print(f'DCG = {DCG(result)}\\nIDCG = {nDCG(result)[0]}\\nnDCG = {nDCG(result)[1]}')"
   ]
  }
 ],
 "metadata": {
  "kernelspec": {
   "display_name": "Python 3",
   "language": "python",
   "name": "python3"
  },
  "language_info": {
   "codemirror_mode": {
    "name": "ipython",
    "version": 3
   },
   "file_extension": ".py",
   "mimetype": "text/x-python",
   "name": "python",
   "nbconvert_exporter": "python",
   "pygments_lexer": "ipython3",
   "version": "3.8.3"
  }
 },
 "nbformat": 4,
 "nbformat_minor": 4
}
