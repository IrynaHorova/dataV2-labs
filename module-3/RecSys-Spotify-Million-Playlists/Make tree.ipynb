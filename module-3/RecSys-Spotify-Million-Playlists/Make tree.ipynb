{
 "cells": [
  {
   "cell_type": "code",
   "execution_count": 2,
   "metadata": {},
   "outputs": [],
   "source": [
    "import os"
   ]
  },
  {
   "cell_type": "code",
   "execution_count": 1,
   "metadata": {},
   "outputs": [],
   "source": [
    "from pathlib import Path\n",
    "\n",
    "class DisplayablePath(object):\n",
    "    display_filename_prefix_middle = '├──'\n",
    "    display_filename_prefix_last = '└──'\n",
    "    display_parent_prefix_middle = '    '\n",
    "    display_parent_prefix_last = '│   '\n",
    "\n",
    "    def __init__(self, path, parent_path, is_last):\n",
    "        self.path = Path(str(path))\n",
    "        self.parent = parent_path\n",
    "        self.is_last = is_last\n",
    "        if self.parent:\n",
    "            self.depth = self.parent.depth + 1\n",
    "        else:\n",
    "            self.depth = 0\n",
    "\n",
    "    @property\n",
    "    def displayname(self):\n",
    "        if self.path.is_dir():\n",
    "            return self.path.name + '/'\n",
    "        return self.path.name\n",
    "\n",
    "    @classmethod\n",
    "    def make_tree(cls, root, parent=None, is_last=False, criteria=None):\n",
    "        root = Path(str(root))\n",
    "        criteria = criteria or cls._default_criteria\n",
    "\n",
    "        displayable_root = cls(root, parent, is_last)\n",
    "        yield displayable_root\n",
    "\n",
    "        children = sorted(list(path\n",
    "                               for path in root.iterdir()\n",
    "                               if criteria(path)),\n",
    "                          key=lambda s: str(s).lower())\n",
    "        count = 1\n",
    "        for path in children:\n",
    "            is_last = count == len(children)\n",
    "            if path.is_dir():\n",
    "                yield from cls.make_tree(path,\n",
    "                                         parent=displayable_root,\n",
    "                                         is_last=is_last,\n",
    "                                         criteria=criteria)\n",
    "            else:\n",
    "                yield cls(path, displayable_root, is_last)\n",
    "            count += 1\n",
    "\n",
    "    @classmethod\n",
    "    def _default_criteria(cls, path):\n",
    "        return True\n",
    "\n",
    "    @property\n",
    "    def displayname(self):\n",
    "        if self.path.is_dir():\n",
    "            return self.path.name + '/'\n",
    "        return self.path.name\n",
    "\n",
    "    def displayable(self):\n",
    "        if self.parent is None:\n",
    "            return self.displayname\n",
    "\n",
    "        _filename_prefix = (self.display_filename_prefix_last\n",
    "                            if self.is_last\n",
    "                            else self.display_filename_prefix_middle)\n",
    "\n",
    "        parts = ['{!s} {!s}'.format(_filename_prefix,\n",
    "                                    self.displayname)]\n",
    "\n",
    "        parent = self.parent\n",
    "        while parent and parent.parent is not None:\n",
    "            parts.append(self.display_parent_prefix_middle\n",
    "                         if parent.is_last\n",
    "                         else self.display_parent_prefix_last)\n",
    "            parent = parent.parent\n",
    "\n",
    "        return ''.join(reversed(parts))"
   ]
  },
  {
   "cell_type": "code",
   "execution_count": 5,
   "metadata": {},
   "outputs": [
    {
     "data": {
      "text/plain": [
       "'C:\\\\Users\\\\irina\\\\Ironhack\\\\dataV2-labs\\\\module-3\\\\RecSys-Spotify-Million-Playlists'"
      ]
     },
     "execution_count": 5,
     "metadata": {},
     "output_type": "execute_result"
    }
   ],
   "source": [
    "p = os.getcwd()"
   ]
  },
  {
   "cell_type": "code",
   "execution_count": 9,
   "metadata": {},
   "outputs": [
    {
     "name": "stdout",
     "output_type": "stream",
     "text": [
      "RecSys-Spotify-Million-Playlists/\n",
      "├── .gitignore\n",
      "├── APPROACHES.md\n",
      "├── credentials/\n",
      "│   └── credentials.ipynb\n",
      "├── data-processing-notebooks/\n",
      "│   ├── collaborative-filtering-data-preparation-scale-down.ipynb\n",
      "│   ├── collaborative-filtering-data-preparation.ipynb\n",
      "│   ├── dictionaries_tracks_desc_pids.ipynb\n",
      "│   ├── explore-with-provided-scripts.ipynb\n",
      "│   ├── mpd-slice-combine.ipynb\n",
      "│   ├── spotify-track-api.ipynb\n",
      "│   └── track-uri-combine.ipynb\n",
      "├── evaluation/\n",
      "│   ├── ALS_binary_topn_500_100.csv\n",
      "│   ├── ALS_binary_topn_500_10000.csv\n",
      "│   ├── ALS_pos_topn_500_10000.csv\n",
      "│   ├── CB_audio_features_1.csv\n",
      "│   ├── CB_audio_features_10.csv\n",
      "│   ├── CB_audio_features_1000.csv\n",
      "│   ├── SVD_binary100_10000.csv\n",
      "│   ├── SVD_binary50_10000.csv\n",
      "│   ├── SVD_pos100_10000.csv\n",
      "│   └── SVD_pos50_10000.csv\n",
      "├── Make tree.ipynb\n",
      "├── modeling-notebooks/\n",
      "│   ├── CB00_Audio_features_full_data.ipynb\n",
      "│   ├── CF00_Model_Surprise_50pct_sample.ipynb\n",
      "│   ├── CF00_Model_Surprise_scaled_down.ipynb\n",
      "│   ├── CF01_Memory_based_scaled_down.ipynb\n",
      "│   ├── CF02_Model_ALS_Implicit_binary_full_data.ipynb\n",
      "│   ├── CF02_Model_ALS_Implicit_pos_full_data.ipynb\n",
      "│   ├── CF03_Model_SVD_sparse_matrix_binary_ratings .ipynb\n",
      "│   ├── CF03_Model_SVD_sparse_matrix_pos_ratings.ipynb\n",
      "│   ├── evaluation.ipynb\n",
      "│   ├── tenor.gif\n",
      "│   └── Untitled.ipynb\n",
      "├── README.md\n",
      "└── src/\n",
      "    └── __pycache__/\n",
      "        └── imp.cpython-38.pyc\n"
     ]
    }
   ],
   "source": [
    "ignore = ['data-processed',  'dataset', 'Kaggle-RecSys-101', '.ipynb_checkpoints']\n",
    "paths = DisplayablePath.make_tree(\n",
    "    Path(p), \n",
    "    criteria=lambda path: True if path.name not in (ignore) else False\n",
    ")\n",
    "for path in paths:\n",
    "    print(path.displayable())"
   ]
  }
 ],
 "metadata": {
  "kernelspec": {
   "display_name": "Python 3",
   "language": "python",
   "name": "python3"
  },
  "language_info": {
   "codemirror_mode": {
    "name": "ipython",
    "version": 3
   },
   "file_extension": ".py",
   "mimetype": "text/x-python",
   "name": "python",
   "nbconvert_exporter": "python",
   "pygments_lexer": "ipython3",
   "version": "3.8.3"
  }
 },
 "nbformat": 4,
 "nbformat_minor": 4
}
